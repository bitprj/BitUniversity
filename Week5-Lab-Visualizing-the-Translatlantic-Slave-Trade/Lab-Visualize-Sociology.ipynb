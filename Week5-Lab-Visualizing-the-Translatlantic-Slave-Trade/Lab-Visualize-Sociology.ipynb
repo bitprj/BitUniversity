{
  "nbformat": 4,
  "nbformat_minor": 0,
  "metadata": {
    "colab": {
      "name": "Week4-PROJECT-Visualize-Sociology.ipynb",
      "provenance": [],
      "collapsed_sections": [
        "ObtE8-BHODkC",
        "N8w70yKWOH_c",
        "7q6R0hBZONBe",
        "mCNQqlwecmjv",
        "66hyyirMlq6S",
        "aEsoTghMmsuq",
        "UFfKdw9eV6Wc"
      ],
      "include_colab_link": true
    },
    "kernelspec": {
      "display_name": "Python 3",
      "language": "python",
      "name": "python3"
    },
    "language_info": {
      "codemirror_mode": {
        "name": "ipython",
        "version": 3
      },
      "file_extension": ".py",
      "mimetype": "text/x-python",
      "name": "python",
      "nbconvert_exporter": "python",
      "pygments_lexer": "ipython3",
      "version": "3.7.4"
    }
  },
  "cells": [
    {
      "cell_type": "markdown",
      "metadata": {
        "id": "view-in-github",
        "colab_type": "text"
      },
      "source": [
        "<a href=\"https://colab.research.google.com/github/bitprj/DigitalHistory/blob/Amy/Week5-Lab-Visualizing-the-Translatlantic-Slave-Trade/Lab-Visualize-Sociology.ipynb\" target=\"_parent\"><img src=\"https://colab.research.google.com/assets/colab-badge.svg\" alt=\"Open In Colab\"/></a>"
      ]
    },
    {
      "cell_type": "markdown",
      "metadata": {
        "id": "U30n5IXzIVFX"
      },
      "source": [
        "# <div align=\"center\">Visualizing LinkedIn Profiles and Jobs</div>"
      ]
    },
    {
      "cell_type": "markdown",
      "metadata": {
        "id": "UFfKdw9eV6Wc"
      },
      "source": [
        "## Table of Contents\n",
        "\n",
        "- Recap\n",
        "- About the Dataset\n",
        "    - LinkedIn Profiles and Jobs\n",
        "        - Facts about the dataset\n",
        "- Labs and Methodology\n",
        "- Goals\n",
        "- **Part 1 - Getting Our Basic Data Analysis Set-Up**\n",
        "    - Import Libraries and unpack a file\n",
        "    - Load file\n",
        "    - Observing the Dataset using Pandas\n",
        "    - Important Facts About the Dataset\n",
        "    - Visualizing Number of Company Employees\n",
        "- **Part 2 - Getting Started with Data Wrangling**\n",
        "    - Create a copy of the Original Dataset\n",
        "    - Changing Column Names\n",
        "    - Moving Column Positions - ```df.reindex()```\n",
        "    - Removing Unneeded Columns -```df.drop()```\n",
        "    - Using ```dropna()```\n",
        "    - Changing Column Type and Sorting - ```df.sort_values()```\n",
        "    - Finding Unique and similar strings \n",
        "    - Working with Strings - ```df['column_name'].str.replace()```\n",
        "- **Part 3 - Micro Wrangling and Visualization**\n",
        "    - Between 1960 - 1975\n",
        "    - Between 1975 - 1990\n",
        "    - Between 1990 - 2005\n",
        "    - Between 2005 - 2019\n",
        "- **Part 4 - Conclusion**\n",
        "- Resources\n",
        "- Appendix\n",
        "    \n",
        "\n",
        "\n",
        "\n",
        "\n"
      ]
    },
    {
      "cell_type": "markdown",
      "metadata": {
        "id": "RE3H5y7yIRHZ"
      },
      "source": [
        "## Recap\n",
        "- By this time, you should have an understanding of how to implement the following:\n",
        "- Loading a Dataset '.csv' as a dataframe using ```pd.read_csv```\n",
        "- Observing the properties of the loaded dataset using functions such as:\n",
        "    - ```pd.head()```\n",
        "    - ```pd.describe()```\n",
        "    - ```pd.info()```\n",
        "- Modifying the dataset by removing ```NaN``` values.\n",
        "- A conceptual understanding of the term ```object``` in DataFrames.\n",
        "- Re-indexing columns\n",
        "- Visualizing Data using ```matplotlib``` and ```pandas```:\n",
        "    - Scatter plots\n",
        "    - Barplots\n",
        "    - Line plots\n",
        "    - Histograms"
      ]
    },
    {
      "cell_type": "markdown",
      "metadata": {
        "id": "4uvgAANOIKwm"
      },
      "source": [
        "## About the Dataset\n",
        "\n",
        "\n",
        "### LinkedIn Profiles and Jobs\n",
        "<img src=\"https://github.com/bitprj/DigitalHistory/blob/Amy/Week5-Lab-Visualizing-the-Translatlantic-Slave-Trade/assets/workersTalking.jpg?raw=1\" width=\"600\"> \n",
        "\n",
        "Founded in 2002, LinkedIn is an employment-oriented online service that is mainly used for professional networking, and supports over 700 million users to date. It is a site where employers can share job postings and job-seekers can create profiles around their industry experience.\n",
        "\n",
        "LinkedIn can be utilized as a social network for profesional development, where users can add 'connections' with one another to share posts and view professional-related updates from their network.\n",
        "\n",
        "#### Facts about the dataset\n",
        "\n",
        "- The dataset contains approximately 39,500 LinkedIn profiles.\n",
        "- The ages of the users range from 20 to 86 years.\n",
        "\n",
        "- The dataset collects information from profiles across various countries, including the United States, the United Kingdom, Australia, etc.\n",
        "- The users reported a wide range of start dates for their current position, which range from beginning their job in 1961 to beginning their job in 2019. \n",
        "- This dataset contains profiles of employees from a number of major companies, including Facebook, Google, Microsoft, Hewlett Packard, IBM, Infosys, Nokia, and many more.\n",
        "\n",
        "- The dataset also features other information about the profiles, including their Number of Connections, and whether or not they have a profile picture or a subscription to LinkedIn Premium. \n"
      ]
    },
    {
      "cell_type": "markdown",
      "metadata": {
        "id": "fPyizd_JIHPU"
      },
      "source": [
        "## Labs and Methodology\n",
        "Congratulations, you have made it to the first lab of this course. The purpose of these labs is to help you apply the Data Science pipeline in a project-based environment. You will be using the tools taught to you in the previous modules and adopt and Question and Answer based approach when you work with the dataset.\n",
        "We have divided our approach into 4 parts:\n",
        "- For this project, we start by asking questions which you will answer in code and simple explanations.\n",
        "\n",
        "*example* - change the name of 'column_x' to 'column y' </br>\n",
        "**answer**: ```df = df.rename(columns = {'column_x : 'column_y})```\n",
        "\n",
        "- The first part is the traditional set up every. These are some things we should do before modifying the dataset.\n",
        "- The second part involves cleaning the dataset and choosing columns that fit our methodology.\n",
        "- The third part involves further splitting our cleaned dataframe into smaller dataframes and visualizing them.\n",
        "- Finally, the fourth part involves summarizing our conclusion."
      ]
    },
    {
      "cell_type": "markdown",
      "metadata": {
        "id": "Tl_6Scu8IE7Q"
      },
      "source": [
        "\n",
        "## Goals"
      ]
    },
    {
      "cell_type": "markdown",
      "metadata": {
        "id": "ixk29-rMHvR9"
      },
      "source": [
        "## 1 - Getting Our Basic Data Analysis Set-Up"
      ]
    },
    {
      "cell_type": "markdown",
      "metadata": {
        "id": "0W--Kb7wgzl7"
      },
      "source": [
        "Import the libraries you will be using for this project. These libraries are the ones we have used in the previous labs."
      ]
    },
    {
      "cell_type": "code",
      "metadata": {
        "id": "vs7AJxshHlc9"
      },
      "source": [
        "\"\"\"\n",
        "import pandas as __ # INSERT CODE HERE\n",
        "import _____ as np  # INSERT CODE HERE\n",
        "import __________ as plt  # INSERT CODE HERE\n",
        "\"\"\"\n",
        "import pandas as pd # INSERT CODE HERE\n",
        "import numpy as np  # INSERT CODE HERE\n",
        "import matplotlib as plt  # INSERT CODE HERE"
      ],
      "execution_count": 1,
      "outputs": []
    },
    {
      "cell_type": "markdown",
      "metadata": {
        "id": "7q6R0hBZONBe"
      },
      "source": [
        "### 1.1 Load file"
      ]
    },
    {
      "cell_type": "code",
      "metadata": {
        "id": "DfmowYZZOVRn"
      },
      "source": [
        "\"\"\"\n",
        "url = 'https://raw.githubusercontent.com/bitprj/DigitalHistory/Amy/Week5-Lab-Visualizing-the-Translatlantic-Slave-Trade/data/linkedin_profiles_data.csv'\n",
        "\n",
        "linkedin_profiles = __.read_csv(___) # INSERT CODE HERE \n",
        "\"\"\"\n",
        "url = 'https://raw.githubusercontent.com/bitprj/DigitalHistory/Amy/Week5-Lab-Visualizing-the-Translatlantic-Slave-Trade/data/linkedin_profiles_data.csv'\n",
        "\n",
        "linkedin_profiles = pd.read_csv(url) # INSERT CODE HERE "
      ],
      "execution_count": 2,
      "outputs": []
    },
    {
      "cell_type": "markdown",
      "metadata": {
        "id": "9SwePQu6qsZl"
      },
      "source": [
        "### Observing the Dataset using Pandas"
      ]
    },
    {
      "cell_type": "markdown",
      "metadata": {
        "id": "mCNQqlwecmjv"
      },
      "source": [
        "Now, the dataset is loaded as a dataframe 'linkedin_profiles'\n",
        "\n",
        "### 1.2 head()\n",
        "Let's check what columns this file has by calling 'head()' function.\n",
        "It returns first n rows, and it's useful to see the dataset at a quick glance.\n",
        "\n",
        "By default, the head() function returns the first 5 rows.\n",
        "\n",
        "For an example dataframe `df`, you can specify the number of rows to display by calling df.head(number).\n"
      ]
    },
    {
      "cell_type": "code",
      "metadata": {
        "id": "_Fwr655mcjr5",
        "outputId": "48e78dc5-699c-421f-c771-70f733995c59",
        "colab": {
          "base_uri": "https://localhost:8080/",
          "height": 413
        }
      },
      "source": [
        "# INSERT CODE HERE\n",
        "\n",
        "linkedin_profiles.head()"
      ],
      "execution_count": null,
      "outputs": [
        {
          "output_type": "execute_result",
          "data": {
            "text/html": [
              "<div>\n",
              "<style scoped>\n",
              "    .dataframe tbody tr th:only-of-type {\n",
              "        vertical-align: middle;\n",
              "    }\n",
              "\n",
              "    .dataframe tbody tr th {\n",
              "        vertical-align: top;\n",
              "    }\n",
              "\n",
              "    .dataframe thead th {\n",
              "        text-align: right;\n",
              "    }\n",
              "</style>\n",
              "<table border=\"1\" class=\"dataframe\">\n",
              "  <thead>\n",
              "    <tr style=\"text-align: right;\">\n",
              "      <th></th>\n",
              "      <th>profileNum</th>\n",
              "      <th>ageEstimate</th>\n",
              "      <th>companyName</th>\n",
              "      <th>connectionsCount</th>\n",
              "      <th>country</th>\n",
              "      <th>endDate</th>\n",
              "      <th>followable</th>\n",
              "      <th>followersCount</th>\n",
              "      <th>genderEstimate</th>\n",
              "      <th>hasPicture</th>\n",
              "      <th>isPremium</th>\n",
              "      <th>posLocation</th>\n",
              "      <th>posTitle</th>\n",
              "      <th>startDate</th>\n",
              "      <th>posDuration</th>\n",
              "    </tr>\n",
              "  </thead>\n",
              "  <tbody>\n",
              "    <tr>\n",
              "      <th>0</th>\n",
              "      <td>1</td>\n",
              "      <td>41.0</td>\n",
              "      <td>Commonwealth Bank</td>\n",
              "      <td>500.0</td>\n",
              "      <td>au</td>\n",
              "      <td>2014-06-01</td>\n",
              "      <td>1.0</td>\n",
              "      <td>506.0</td>\n",
              "      <td>male</td>\n",
              "      <td>NaN</td>\n",
              "      <td>0.0</td>\n",
              "      <td>Sydney, Australia</td>\n",
              "      <td>Solution Delivery Executive</td>\n",
              "      <td>2013-11-01</td>\n",
              "      <td>6.965235</td>\n",
              "    </tr>\n",
              "    <tr>\n",
              "      <th>1</th>\n",
              "      <td>5</td>\n",
              "      <td>30.0</td>\n",
              "      <td>Optus</td>\n",
              "      <td>500.0</td>\n",
              "      <td>au</td>\n",
              "      <td>2016-12-01</td>\n",
              "      <td>1.0</td>\n",
              "      <td>951.0</td>\n",
              "      <td>female</td>\n",
              "      <td>RTMZ0-46bTjK4V_MGFDG6i5g0yZmFp5oS0S9liWvpWg.jpg</td>\n",
              "      <td>0.0</td>\n",
              "      <td>Sydney, Australia</td>\n",
              "      <td>Digital and Social Engagement Leader, Optus Bu...</td>\n",
              "      <td>2016-01-01</td>\n",
              "      <td>11.006386</td>\n",
              "    </tr>\n",
              "    <tr>\n",
              "      <th>2</th>\n",
              "      <td>6</td>\n",
              "      <td>30.0</td>\n",
              "      <td>IBM</td>\n",
              "      <td>500.0</td>\n",
              "      <td>au</td>\n",
              "      <td>2015-12-01</td>\n",
              "      <td>1.0</td>\n",
              "      <td>951.0</td>\n",
              "      <td>female</td>\n",
              "      <td>RTMZ0-46bTjK4V_MGFDG6i5g0yZmFp5oS0S9liWvpWg.jpg</td>\n",
              "      <td>0.0</td>\n",
              "      <td>Greater New York City Area</td>\n",
              "      <td>Social Brand Marketing</td>\n",
              "      <td>2014-11-01</td>\n",
              "      <td>12.977679</td>\n",
              "    </tr>\n",
              "    <tr>\n",
              "      <th>3</th>\n",
              "      <td>7</td>\n",
              "      <td>30.0</td>\n",
              "      <td>IBM</td>\n",
              "      <td>500.0</td>\n",
              "      <td>au</td>\n",
              "      <td>2014-10-01</td>\n",
              "      <td>1.0</td>\n",
              "      <td>951.0</td>\n",
              "      <td>female</td>\n",
              "      <td>RTMZ0-46bTjK4V_MGFDG6i5g0yZmFp5oS0S9liWvpWg.jpg</td>\n",
              "      <td>0.0</td>\n",
              "      <td>Australia</td>\n",
              "      <td>Brand Strategist</td>\n",
              "      <td>2013-06-01</td>\n",
              "      <td>16.000329</td>\n",
              "    </tr>\n",
              "    <tr>\n",
              "      <th>4</th>\n",
              "      <td>8</td>\n",
              "      <td>30.0</td>\n",
              "      <td>IBM</td>\n",
              "      <td>500.0</td>\n",
              "      <td>au</td>\n",
              "      <td>2013-06-01</td>\n",
              "      <td>1.0</td>\n",
              "      <td>951.0</td>\n",
              "      <td>female</td>\n",
              "      <td>RTMZ0-46bTjK4V_MGFDG6i5g0yZmFp5oS0S9liWvpWg.jpg</td>\n",
              "      <td>0.0</td>\n",
              "      <td>Australia</td>\n",
              "      <td>Brand Expression Lead</td>\n",
              "      <td>2012-09-01</td>\n",
              "      <td>8.969383</td>\n",
              "    </tr>\n",
              "  </tbody>\n",
              "</table>\n",
              "</div>"
            ],
            "text/plain": [
              "   profileNum  ageEstimate  ...   startDate  posDuration\n",
              "0           1         41.0  ...  2013-11-01     6.965235\n",
              "1           5         30.0  ...  2016-01-01    11.006386\n",
              "2           6         30.0  ...  2014-11-01    12.977679\n",
              "3           7         30.0  ...  2013-06-01    16.000329\n",
              "4           8         30.0  ...  2012-09-01     8.969383\n",
              "\n",
              "[5 rows x 15 columns]"
            ]
          },
          "metadata": {
            "tags": []
          },
          "execution_count": 3
        }
      ]
    },
    {
      "cell_type": "markdown",
      "metadata": {
        "id": "s5I3a9h9gzmM"
      },
      "source": [
        "### 1.3 tail()\n",
        "\n",
        "The ```tail()``` method prints the last 5 rows of our dataset."
      ]
    },
    {
      "cell_type": "code",
      "metadata": {
        "id": "WVD4aPJbHldP",
        "outputId": "9823ca80-c48c-43c4-eaae-8c27f964d457",
        "colab": {
          "base_uri": "https://localhost:8080/",
          "height": 603
        }
      },
      "source": [
        "# INSERT CODE HERE\n",
        "linkedin_profiles.tail()"
      ],
      "execution_count": null,
      "outputs": [
        {
          "output_type": "execute_result",
          "data": {
            "text/html": [
              "<div>\n",
              "<style scoped>\n",
              "    .dataframe tbody tr th:only-of-type {\n",
              "        vertical-align: middle;\n",
              "    }\n",
              "\n",
              "    .dataframe tbody tr th {\n",
              "        vertical-align: top;\n",
              "    }\n",
              "\n",
              "    .dataframe thead th {\n",
              "        text-align: right;\n",
              "    }\n",
              "</style>\n",
              "<table border=\"1\" class=\"dataframe\">\n",
              "  <thead>\n",
              "    <tr style=\"text-align: right;\">\n",
              "      <th></th>\n",
              "      <th>profileNum</th>\n",
              "      <th>ageEstimate</th>\n",
              "      <th>companyName</th>\n",
              "      <th>connectionsCount</th>\n",
              "      <th>country</th>\n",
              "      <th>endDate</th>\n",
              "      <th>followable</th>\n",
              "      <th>followersCount</th>\n",
              "      <th>genderEstimate</th>\n",
              "      <th>hasPicture</th>\n",
              "      <th>isPremium</th>\n",
              "      <th>posLocation</th>\n",
              "      <th>posTitle</th>\n",
              "      <th>startDate</th>\n",
              "      <th>posDuration</th>\n",
              "    </tr>\n",
              "  </thead>\n",
              "  <tbody>\n",
              "    <tr>\n",
              "      <th>27914</th>\n",
              "      <td>39532</td>\n",
              "      <td>46.0</td>\n",
              "      <td>National Australia Bank</td>\n",
              "      <td>362.0</td>\n",
              "      <td>au</td>\n",
              "      <td>2009-04-01</td>\n",
              "      <td>1.0</td>\n",
              "      <td>363.0</td>\n",
              "      <td>male</td>\n",
              "      <td>p_4_000_171_2aa_07c7660.jpg</td>\n",
              "      <td>0.0</td>\n",
              "      <td>St Kilda Rd Melbourne Business Banking Centre</td>\n",
              "      <td>Senior Partner</td>\n",
              "      <td>2006-08-01</td>\n",
              "      <td>32.000657</td>\n",
              "    </tr>\n",
              "    <tr>\n",
              "      <th>27915</th>\n",
              "      <td>39533</td>\n",
              "      <td>46.0</td>\n",
              "      <td>National Australia Bank</td>\n",
              "      <td>362.0</td>\n",
              "      <td>au</td>\n",
              "      <td>2007-05-01</td>\n",
              "      <td>1.0</td>\n",
              "      <td>363.0</td>\n",
              "      <td>male</td>\n",
              "      <td>p_4_000_171_2aa_07c7660.jpg</td>\n",
              "      <td>0.0</td>\n",
              "      <td>St Kilda Rd Melbourne Business Banking Centre</td>\n",
              "      <td>Senior Business Banking Manager / Partner 4</td>\n",
              "      <td>2003-08-01</td>\n",
              "      <td>44.978336</td>\n",
              "    </tr>\n",
              "    <tr>\n",
              "      <th>27916</th>\n",
              "      <td>39534</td>\n",
              "      <td>46.0</td>\n",
              "      <td>National Australia Bank</td>\n",
              "      <td>362.0</td>\n",
              "      <td>au</td>\n",
              "      <td>2003-08-01</td>\n",
              "      <td>1.0</td>\n",
              "      <td>363.0</td>\n",
              "      <td>male</td>\n",
              "      <td>p_4_000_171_2aa_07c7660.jpg</td>\n",
              "      <td>0.0</td>\n",
              "      <td>St Kilda Rd Melbourne &amp; Bourke and Russell St ...</td>\n",
              "      <td>Business Banking Manager / Partner 3</td>\n",
              "      <td>2000-06-01</td>\n",
              "      <td>37.980246</td>\n",
              "    </tr>\n",
              "    <tr>\n",
              "      <th>27917</th>\n",
              "      <td>39535</td>\n",
              "      <td>46.0</td>\n",
              "      <td>National Australia Bank</td>\n",
              "      <td>362.0</td>\n",
              "      <td>au</td>\n",
              "      <td>2000-06-01</td>\n",
              "      <td>1.0</td>\n",
              "      <td>363.0</td>\n",
              "      <td>male</td>\n",
              "      <td>p_4_000_171_2aa_07c7660.jpg</td>\n",
              "      <td>0.0</td>\n",
              "      <td>Melbourne Office Business Banking Centre</td>\n",
              "      <td>Business Banking Officer</td>\n",
              "      <td>1995-11-01</td>\n",
              "      <td>54.999076</td>\n",
              "    </tr>\n",
              "    <tr>\n",
              "      <th>27918</th>\n",
              "      <td>39536</td>\n",
              "      <td>46.0</td>\n",
              "      <td>National Australia Bank</td>\n",
              "      <td>362.0</td>\n",
              "      <td>au</td>\n",
              "      <td>2000-06-01</td>\n",
              "      <td>1.0</td>\n",
              "      <td>363.0</td>\n",
              "      <td>male</td>\n",
              "      <td>p_4_000_171_2aa_07c7660.jpg</td>\n",
              "      <td>0.0</td>\n",
              "      <td>271 Collins St Melbourne</td>\n",
              "      <td>Various customer service roles including inter...</td>\n",
              "      <td>1989-02-01</td>\n",
              "      <td>135.953510</td>\n",
              "    </tr>\n",
              "  </tbody>\n",
              "</table>\n",
              "</div>"
            ],
            "text/plain": [
              "       profileNum  ageEstimate  ...   startDate  posDuration\n",
              "27914       39532         46.0  ...  2006-08-01    32.000657\n",
              "27915       39533         46.0  ...  2003-08-01    44.978336\n",
              "27916       39534         46.0  ...  2000-06-01    37.980246\n",
              "27917       39535         46.0  ...  1995-11-01    54.999076\n",
              "27918       39536         46.0  ...  1989-02-01   135.953510\n",
              "\n",
              "[5 rows x 15 columns]"
            ]
          },
          "metadata": {
            "tags": []
          },
          "execution_count": 4
        }
      ]
    },
    {
      "cell_type": "markdown",
      "metadata": {
        "id": "FFqqKsABeT7y"
      },
      "source": [
        "### 1.4 info()\n",
        "This will return all of the column names and its types. This function is useful to get the idea of what the dataframe is like.\n"
      ]
    },
    {
      "cell_type": "code",
      "metadata": {
        "id": "wxqUmTFdfkCi",
        "outputId": "9b689de1-af96-4cec-974d-fab0e1d38094",
        "colab": {
          "base_uri": "https://localhost:8080/",
          "height": 399
        }
      },
      "source": [
        "# INSERT CODE HERE\n",
        "linkedin_profiles.info()"
      ],
      "execution_count": null,
      "outputs": [
        {
          "output_type": "stream",
          "text": [
            "<class 'pandas.core.frame.DataFrame'>\n",
            "RangeIndex: 27919 entries, 0 to 27918\n",
            "Data columns (total 15 columns):\n",
            " #   Column            Non-Null Count  Dtype  \n",
            "---  ------            --------------  -----  \n",
            " 0   profileNum        27919 non-null  int64  \n",
            " 1   ageEstimate       27919 non-null  float64\n",
            " 2   companyName       27919 non-null  object \n",
            " 3   connectionsCount  27919 non-null  float64\n",
            " 4   country           27919 non-null  object \n",
            " 5   endDate           20822 non-null  object \n",
            " 6   followable        27919 non-null  float64\n",
            " 7   followersCount    27919 non-null  float64\n",
            " 8   genderEstimate    24931 non-null  object \n",
            " 9   hasPicture        21022 non-null  object \n",
            " 10  isPremium         27919 non-null  float64\n",
            " 11  posLocation       27919 non-null  object \n",
            " 12  posTitle          27919 non-null  object \n",
            " 13  startDate         27919 non-null  object \n",
            " 14  posDuration       20822 non-null  float64\n",
            "dtypes: float64(6), int64(1), object(8)\n",
            "memory usage: 3.2+ MB\n"
          ],
          "name": "stdout"
        }
      ]
    },
    {
      "cell_type": "markdown",
      "metadata": {
        "id": "Ilf3rsfmBiLw"
      },
      "source": [
        "### Observations:\n",
        "\n",
        "#### Question:\n",
        "List down the number of unique ```Dtype``` in this dataset\n",
        "#### Answer: \n",
        "\n",
        "#### Question:\n",
        "Is the dataset uneven? If so list down the column with the most missing rows? (ie the most NULL rows)\n",
        "#### Answer:"
      ]
    },
    {
      "cell_type": "markdown",
      "metadata": {
        "id": "IhviGetnfp9B"
      },
      "source": [
        "### 1.5 describe()\n",
        "describe() is used to view summary statistics of numeric columns. This will help you to have general idea of the dataset."
      ]
    },
    {
      "cell_type": "code",
      "metadata": {
        "id": "DuDPOCZ9frBI",
        "outputId": "5000e298-1d45-423c-e60e-073c9f318060",
        "colab": {
          "base_uri": "https://localhost:8080/",
          "height": 294
        }
      },
      "source": [
        "\"\"\"\n",
        "linkedin_profiles.________() # Insert code here\n",
        "\"\"\"\n",
        "linkedin_profiles.describe() # Insert code here"
      ],
      "execution_count": null,
      "outputs": [
        {
          "output_type": "execute_result",
          "data": {
            "text/html": [
              "<div>\n",
              "<style scoped>\n",
              "    .dataframe tbody tr th:only-of-type {\n",
              "        vertical-align: middle;\n",
              "    }\n",
              "\n",
              "    .dataframe tbody tr th {\n",
              "        vertical-align: top;\n",
              "    }\n",
              "\n",
              "    .dataframe thead th {\n",
              "        text-align: right;\n",
              "    }\n",
              "</style>\n",
              "<table border=\"1\" class=\"dataframe\">\n",
              "  <thead>\n",
              "    <tr style=\"text-align: right;\">\n",
              "      <th></th>\n",
              "      <th>profileNum</th>\n",
              "      <th>ageEstimate</th>\n",
              "      <th>connectionsCount</th>\n",
              "      <th>followable</th>\n",
              "      <th>followersCount</th>\n",
              "      <th>isPremium</th>\n",
              "      <th>posDuration</th>\n",
              "    </tr>\n",
              "  </thead>\n",
              "  <tbody>\n",
              "    <tr>\n",
              "      <th>count</th>\n",
              "      <td>27919.000000</td>\n",
              "      <td>27919.000000</td>\n",
              "      <td>27919.000000</td>\n",
              "      <td>27919.000000</td>\n",
              "      <td>27919.000000</td>\n",
              "      <td>27919.000000</td>\n",
              "      <td>20822.000000</td>\n",
              "    </tr>\n",
              "    <tr>\n",
              "      <th>mean</th>\n",
              "      <td>19689.531251</td>\n",
              "      <td>37.947849</td>\n",
              "      <td>424.890720</td>\n",
              "      <td>0.949676</td>\n",
              "      <td>1221.963681</td>\n",
              "      <td>0.136753</td>\n",
              "      <td>25.380987</td>\n",
              "    </tr>\n",
              "    <tr>\n",
              "      <th>std</th>\n",
              "      <td>11426.315431</td>\n",
              "      <td>9.512590</td>\n",
              "      <td>123.315822</td>\n",
              "      <td>0.218617</td>\n",
              "      <td>2871.951843</td>\n",
              "      <td>0.343592</td>\n",
              "      <td>27.687232</td>\n",
              "    </tr>\n",
              "    <tr>\n",
              "      <th>min</th>\n",
              "      <td>1.000000</td>\n",
              "      <td>20.000000</td>\n",
              "      <td>0.000000</td>\n",
              "      <td>0.000000</td>\n",
              "      <td>0.000000</td>\n",
              "      <td>0.000000</td>\n",
              "      <td>-7.030945</td>\n",
              "    </tr>\n",
              "    <tr>\n",
              "      <th>25%</th>\n",
              "      <td>9769.500000</td>\n",
              "      <td>31.000000</td>\n",
              "      <td>372.000000</td>\n",
              "      <td>1.000000</td>\n",
              "      <td>353.000000</td>\n",
              "      <td>0.000000</td>\n",
              "      <td>8.016592</td>\n",
              "    </tr>\n",
              "    <tr>\n",
              "      <th>50%</th>\n",
              "      <td>19645.000000</td>\n",
              "      <td>37.000000</td>\n",
              "      <td>500.000000</td>\n",
              "      <td>1.000000</td>\n",
              "      <td>658.000000</td>\n",
              "      <td>0.000000</td>\n",
              "      <td>17.051685</td>\n",
              "    </tr>\n",
              "    <tr>\n",
              "      <th>75%</th>\n",
              "      <td>29696.500000</td>\n",
              "      <td>44.000000</td>\n",
              "      <td>500.000000</td>\n",
              "      <td>1.000000</td>\n",
              "      <td>1207.000000</td>\n",
              "      <td>0.000000</td>\n",
              "      <td>34.004805</td>\n",
              "    </tr>\n",
              "    <tr>\n",
              "      <th>max</th>\n",
              "      <td>39536.000000</td>\n",
              "      <td>86.000000</td>\n",
              "      <td>500.000000</td>\n",
              "      <td>1.000000</td>\n",
              "      <td>161922.000000</td>\n",
              "      <td>1.000000</td>\n",
              "      <td>418.998337</td>\n",
              "    </tr>\n",
              "  </tbody>\n",
              "</table>\n",
              "</div>"
            ],
            "text/plain": [
              "         profileNum   ageEstimate  ...     isPremium   posDuration\n",
              "count  27919.000000  27919.000000  ...  27919.000000  20822.000000\n",
              "mean   19689.531251     37.947849  ...      0.136753     25.380987\n",
              "std    11426.315431      9.512590  ...      0.343592     27.687232\n",
              "min        1.000000     20.000000  ...      0.000000     -7.030945\n",
              "25%     9769.500000     31.000000  ...      0.000000      8.016592\n",
              "50%    19645.000000     37.000000  ...      0.000000     17.051685\n",
              "75%    29696.500000     44.000000  ...      0.000000     34.004805\n",
              "max    39536.000000     86.000000  ...      1.000000    418.998337\n",
              "\n",
              "[8 rows x 7 columns]"
            ]
          },
          "metadata": {
            "tags": []
          },
          "execution_count": 6
        }
      ]
    },
    {
      "cell_type": "markdown",
      "metadata": {
        "id": "oEEj1jeGAlhU"
      },
      "source": [
        "### Observations:\n",
        "\n",
        "#### Question:\n",
        "Why is ```describe``` showing only 7 columns? Is it because of their types e.g(int,float,object)**?\n",
        "#### Answer: \n",
        "\n",
        "#### Question:\n",
        "Notice the statistics for `count`, `mean`, `std`, `min`, etc. What could be reason for the `count` value not being the same across all columns?\n",
        "#### Answer:\n",
        "\n",
        "#### Question:\n",
        "Are the mean, standard deviation,..., max. important for all of the columns? Which ones might these values not be relevant for?\n",
        "#### Answer:\n"
      ]
    },
    {
      "cell_type": "markdown",
      "metadata": {
        "id": "nwuNo5o2fzGe"
      },
      "source": [
        "#### shape\n",
        "To see the size of the dataset, we can use shape function, which returns the number of rows and columns in a format of (#rows, #columns)"
      ]
    },
    {
      "cell_type": "code",
      "metadata": {
        "id": "fIhERH7KHldk",
        "outputId": "738d7a92-0a1b-4e33-e413-57bf6dfbea66",
        "colab": {
          "base_uri": "https://localhost:8080/",
          "height": 35
        }
      },
      "source": [
        "linkedin_profiles.shape"
      ],
      "execution_count": null,
      "outputs": [
        {
          "output_type": "execute_result",
          "data": {
            "text/plain": [
              "(27919, 15)"
            ]
          },
          "metadata": {
            "tags": []
          },
          "execution_count": 7
        }
      ]
    },
    {
      "cell_type": "markdown",
      "metadata": {
        "id": "aOi3ah9yDI-T"
      },
      "source": [
        "### Observations:\n",
        "\n",
        "#### Question:\n",
        "How many **rows** and **columns** are there?\n",
        "#### Answer:"
      ]
    },
    {
      "cell_type": "markdown",
      "metadata": {
        "id": "AeidaHn6Hldo"
      },
      "source": [
        "### 1.6 Important Facts About the Dataset"
      ]
    },
    {
      "cell_type": "markdown",
      "metadata": {
        "id": "XIFbkyfIDinJ"
      },
      "source": [
        "The next thing we want to do is count the number of job positions that are still active. We'll know this by observing the ```endDate``` This is simple, all we have to do is run two functions:\n",
        "- The first one will be to check if the column has null values, ```isnull()```.\n",
        "- The second one will be count the number of null values in the column, ```sum()```."
      ]
    },
    {
      "cell_type": "code",
      "metadata": {
        "id": "lKl32c6JHldo",
        "outputId": "03f24428-0b38-48ef-d441-5af480632de4",
        "colab": {
          "base_uri": "https://localhost:8080/",
          "height": 35
        }
      },
      "source": [
        "\"\"\"\n",
        "active_jobs = linkedin_profiles['endDate'].______().___()   # Insert Code Here\n",
        "print(f'The total number of active jobs is:  {active_jobs}')\n",
        "\"\"\"\n",
        "active_jobs = linkedin_profiles['endDate'].isnull().sum()   # Insert Code Here\n",
        "print(f'The total number of active jobs is:  {active_jobs}')"
      ],
      "execution_count": null,
      "outputs": [
        {
          "output_type": "stream",
          "text": [
            "The total number of active jobs is:  7097\n"
          ],
          "name": "stdout"
        }
      ]
    },
    {
      "cell_type": "markdown",
      "metadata": {
        "id": "2JPDPjr-EI60"
      },
      "source": [
        "\n",
        "**What about the total number of completed job positions?** </br>\n",
        "The completed jobs are those that have a valid date in the `endDate` column. This means that these values are not NULL, which we can check by calling the `notnull()` method.\n",
        "In the following line of code, we will have to ```sum``` the total number of completed jobs in every column."
      ]
    },
    {
      "cell_type": "code",
      "metadata": {
        "id": "v_Gai5XEHlds",
        "scrolled": true,
        "outputId": "dbebac17-880b-4c53-ca55-f1d0e9ccf66a",
        "colab": {
          "base_uri": "https://localhost:8080/",
          "height": 35
        }
      },
      "source": [
        "\"\"\"\n",
        "number_of_completed_jobs = linkedin_profiles['endDate']._______().___()    # Insert code here\n",
        "print(f'The total number of completed jobs are: {number_of_completed_jobs}')\n",
        "\"\"\"\n",
        "number_of_completed_jobs = linkedin_profiles['endDate'].notnull().sum()    # Insert code here\n",
        "print(f'The total number of completed jobs are: {number_of_completed_jobs}')"
      ],
      "execution_count": null,
      "outputs": [
        {
          "output_type": "stream",
          "text": [
            "The total number of completed jobs are: 20822\n"
          ],
          "name": "stdout"
        }
      ]
    },
    {
      "cell_type": "markdown",
      "metadata": {
        "id": "bYuDgHKIHldv"
      },
      "source": [
        "This dataset has 27919 job positions. This means that according to this dataset: "
      ]
    },
    {
      "cell_type": "code",
      "metadata": {
        "id": "xyymyjbgEduN",
        "outputId": "11f8f083-4540-478d-ee0e-7f0912b92376",
        "colab": {
          "base_uri": "https://localhost:8080/",
          "height": 35
        }
      },
      "source": [
        "possible_active_jobs = 27919 - number_of_completed_jobs \n",
        "possible_active_jobs "
      ],
      "execution_count": null,
      "outputs": [
        {
          "output_type": "execute_result",
          "data": {
            "text/plain": [
              "7097"
            ]
          },
          "metadata": {
            "tags": []
          },
          "execution_count": 11
        }
      ]
    },
    {
      "cell_type": "markdown",
      "metadata": {
        "id": "Z6uls4tQaAix"
      },
      "source": [
        "Notice that this is the same value that we found by using `isnull()` to find the number of active jobs earlier."
      ]
    },
    {
      "cell_type": "markdown",
      "metadata": {
        "id": "heW7wau-Hldv"
      },
      "source": [
        "### Visualize the Gender Representation for the LinkedIn Profiles"
      ]
    },
    {
      "cell_type": "code",
      "metadata": {
        "id": "w6jM7tXrHldw"
      },
      "source": [
        "import matplotlib.pyplot as plt"
      ],
      "execution_count": 3,
      "outputs": []
    },
    {
      "cell_type": "markdown",
      "metadata": {
        "id": "Oge9GCOEwO9J"
      },
      "source": [
        "Add x and y labels to the graph."
      ]
    },
    {
      "cell_type": "code",
      "metadata": {
        "id": "RZf2AqqGXhop",
        "outputId": "908c85f6-047a-4370-a2ac-4d2e04aae20a",
        "colab": {
          "base_uri": "https://localhost:8080/",
          "height": 571
        }
      },
      "source": [
        "#linkedin_profiles['______________'].hist(color='red')\n",
        "linkedin_profiles['genderEstimate'].hist(color='red')"
      ],
      "execution_count": 14,
      "outputs": [
        {
          "output_type": "error",
          "ename": "AttributeError",
          "evalue": "ignored",
          "traceback": [
            "\u001b[0;31m---------------------------------------------------------------------------\u001b[0m",
            "\u001b[0;31mAttributeError\u001b[0m                            Traceback (most recent call last)",
            "\u001b[0;32m<ipython-input-14-dcff24a14f01>\u001b[0m in \u001b[0;36m<module>\u001b[0;34m()\u001b[0m\n\u001b[1;32m      1\u001b[0m \u001b[0;31m#linkedin_profiles['______________'].hist(color='red')\u001b[0m\u001b[0;34m\u001b[0m\u001b[0;34m\u001b[0m\u001b[0;34m\u001b[0m\u001b[0m\n\u001b[0;32m----> 2\u001b[0;31m \u001b[0mlinkedin_profiles\u001b[0m\u001b[0;34m[\u001b[0m\u001b[0;34m'genderEstimate'\u001b[0m\u001b[0;34m]\u001b[0m\u001b[0;34m.\u001b[0m\u001b[0mhist\u001b[0m\u001b[0;34m(\u001b[0m\u001b[0mcolor\u001b[0m\u001b[0;34m=\u001b[0m\u001b[0;34m'red'\u001b[0m\u001b[0;34m,\u001b[0m \u001b[0mxlabel\u001b[0m\u001b[0;34m=\u001b[0m\u001b[0;34m'Gender'\u001b[0m\u001b[0;34m)\u001b[0m\u001b[0;34m\u001b[0m\u001b[0;34m\u001b[0m\u001b[0m\n\u001b[0m",
            "\u001b[0;32m/usr/local/lib/python3.6/dist-packages/pandas/plotting/_core.py\u001b[0m in \u001b[0;36mhist_series\u001b[0;34m(self, by, ax, grid, xlabelsize, xrot, ylabelsize, yrot, figsize, bins, backend, legend, **kwargs)\u001b[0m\n\u001b[1;32m     95\u001b[0m         \u001b[0mbins\u001b[0m\u001b[0;34m=\u001b[0m\u001b[0mbins\u001b[0m\u001b[0;34m,\u001b[0m\u001b[0;34m\u001b[0m\u001b[0;34m\u001b[0m\u001b[0m\n\u001b[1;32m     96\u001b[0m         \u001b[0mlegend\u001b[0m\u001b[0;34m=\u001b[0m\u001b[0mlegend\u001b[0m\u001b[0;34m,\u001b[0m\u001b[0;34m\u001b[0m\u001b[0;34m\u001b[0m\u001b[0m\n\u001b[0;32m---> 97\u001b[0;31m         \u001b[0;34m**\u001b[0m\u001b[0mkwargs\u001b[0m\u001b[0;34m,\u001b[0m\u001b[0;34m\u001b[0m\u001b[0;34m\u001b[0m\u001b[0m\n\u001b[0m\u001b[1;32m     98\u001b[0m     )\n\u001b[1;32m     99\u001b[0m \u001b[0;34m\u001b[0m\u001b[0m\n",
            "\u001b[0;32m/usr/local/lib/python3.6/dist-packages/pandas/plotting/_matplotlib/hist.py\u001b[0m in \u001b[0;36mhist_series\u001b[0;34m(self, by, ax, grid, xlabelsize, xrot, ylabelsize, yrot, figsize, bins, legend, **kwds)\u001b[0m\n\u001b[1;32m    327\u001b[0m         \u001b[0;32mif\u001b[0m \u001b[0mlegend\u001b[0m\u001b[0;34m:\u001b[0m\u001b[0;34m\u001b[0m\u001b[0;34m\u001b[0m\u001b[0m\n\u001b[1;32m    328\u001b[0m             \u001b[0mkwds\u001b[0m\u001b[0;34m[\u001b[0m\u001b[0;34m\"label\"\u001b[0m\u001b[0;34m]\u001b[0m \u001b[0;34m=\u001b[0m \u001b[0mself\u001b[0m\u001b[0;34m.\u001b[0m\u001b[0mname\u001b[0m\u001b[0;34m\u001b[0m\u001b[0;34m\u001b[0m\u001b[0m\n\u001b[0;32m--> 329\u001b[0;31m         \u001b[0max\u001b[0m\u001b[0;34m.\u001b[0m\u001b[0mhist\u001b[0m\u001b[0;34m(\u001b[0m\u001b[0mvalues\u001b[0m\u001b[0;34m,\u001b[0m \u001b[0mbins\u001b[0m\u001b[0;34m=\u001b[0m\u001b[0mbins\u001b[0m\u001b[0;34m,\u001b[0m \u001b[0;34m**\u001b[0m\u001b[0mkwds\u001b[0m\u001b[0;34m)\u001b[0m\u001b[0;34m\u001b[0m\u001b[0;34m\u001b[0m\u001b[0m\n\u001b[0m\u001b[1;32m    330\u001b[0m         \u001b[0;32mif\u001b[0m \u001b[0mlegend\u001b[0m\u001b[0;34m:\u001b[0m\u001b[0;34m\u001b[0m\u001b[0;34m\u001b[0m\u001b[0m\n\u001b[1;32m    331\u001b[0m             \u001b[0max\u001b[0m\u001b[0;34m.\u001b[0m\u001b[0mlegend\u001b[0m\u001b[0;34m(\u001b[0m\u001b[0;34m)\u001b[0m\u001b[0;34m\u001b[0m\u001b[0;34m\u001b[0m\u001b[0m\n",
            "\u001b[0;32m/usr/local/lib/python3.6/dist-packages/matplotlib/__init__.py\u001b[0m in \u001b[0;36minner\u001b[0;34m(ax, data, *args, **kwargs)\u001b[0m\n\u001b[1;32m   1563\u001b[0m     \u001b[0;32mdef\u001b[0m \u001b[0minner\u001b[0m\u001b[0;34m(\u001b[0m\u001b[0max\u001b[0m\u001b[0;34m,\u001b[0m \u001b[0;34m*\u001b[0m\u001b[0margs\u001b[0m\u001b[0;34m,\u001b[0m \u001b[0mdata\u001b[0m\u001b[0;34m=\u001b[0m\u001b[0;32mNone\u001b[0m\u001b[0;34m,\u001b[0m \u001b[0;34m**\u001b[0m\u001b[0mkwargs\u001b[0m\u001b[0;34m)\u001b[0m\u001b[0;34m:\u001b[0m\u001b[0;34m\u001b[0m\u001b[0;34m\u001b[0m\u001b[0m\n\u001b[1;32m   1564\u001b[0m         \u001b[0;32mif\u001b[0m \u001b[0mdata\u001b[0m \u001b[0;32mis\u001b[0m \u001b[0;32mNone\u001b[0m\u001b[0;34m:\u001b[0m\u001b[0;34m\u001b[0m\u001b[0;34m\u001b[0m\u001b[0m\n\u001b[0;32m-> 1565\u001b[0;31m             \u001b[0;32mreturn\u001b[0m \u001b[0mfunc\u001b[0m\u001b[0;34m(\u001b[0m\u001b[0max\u001b[0m\u001b[0;34m,\u001b[0m \u001b[0;34m*\u001b[0m\u001b[0mmap\u001b[0m\u001b[0;34m(\u001b[0m\u001b[0msanitize_sequence\u001b[0m\u001b[0;34m,\u001b[0m \u001b[0margs\u001b[0m\u001b[0;34m)\u001b[0m\u001b[0;34m,\u001b[0m \u001b[0;34m**\u001b[0m\u001b[0mkwargs\u001b[0m\u001b[0;34m)\u001b[0m\u001b[0;34m\u001b[0m\u001b[0;34m\u001b[0m\u001b[0m\n\u001b[0m\u001b[1;32m   1566\u001b[0m \u001b[0;34m\u001b[0m\u001b[0m\n\u001b[1;32m   1567\u001b[0m         \u001b[0mbound\u001b[0m \u001b[0;34m=\u001b[0m \u001b[0mnew_sig\u001b[0m\u001b[0;34m.\u001b[0m\u001b[0mbind\u001b[0m\u001b[0;34m(\u001b[0m\u001b[0max\u001b[0m\u001b[0;34m,\u001b[0m \u001b[0;34m*\u001b[0m\u001b[0margs\u001b[0m\u001b[0;34m,\u001b[0m \u001b[0;34m**\u001b[0m\u001b[0mkwargs\u001b[0m\u001b[0;34m)\u001b[0m\u001b[0;34m\u001b[0m\u001b[0;34m\u001b[0m\u001b[0m\n",
            "\u001b[0;32m/usr/local/lib/python3.6/dist-packages/matplotlib/axes/_axes.py\u001b[0m in \u001b[0;36mhist\u001b[0;34m(self, x, bins, range, density, weights, cumulative, bottom, histtype, align, orientation, rwidth, log, color, label, stacked, **kwargs)\u001b[0m\n\u001b[1;32m   6817\u001b[0m             \u001b[0;32mif\u001b[0m \u001b[0mpatch\u001b[0m\u001b[0;34m:\u001b[0m\u001b[0;34m\u001b[0m\u001b[0;34m\u001b[0m\u001b[0m\n\u001b[1;32m   6818\u001b[0m                 \u001b[0mp\u001b[0m \u001b[0;34m=\u001b[0m \u001b[0mpatch\u001b[0m\u001b[0;34m[\u001b[0m\u001b[0;36m0\u001b[0m\u001b[0;34m]\u001b[0m\u001b[0;34m\u001b[0m\u001b[0;34m\u001b[0m\u001b[0m\n\u001b[0;32m-> 6819\u001b[0;31m                 \u001b[0mp\u001b[0m\u001b[0;34m.\u001b[0m\u001b[0mupdate\u001b[0m\u001b[0;34m(\u001b[0m\u001b[0mkwargs\u001b[0m\u001b[0;34m)\u001b[0m\u001b[0;34m\u001b[0m\u001b[0;34m\u001b[0m\u001b[0m\n\u001b[0m\u001b[1;32m   6820\u001b[0m                 \u001b[0;32mif\u001b[0m \u001b[0mlbl\u001b[0m \u001b[0;32mis\u001b[0m \u001b[0;32mnot\u001b[0m \u001b[0;32mNone\u001b[0m\u001b[0;34m:\u001b[0m\u001b[0;34m\u001b[0m\u001b[0;34m\u001b[0m\u001b[0m\n\u001b[1;32m   6821\u001b[0m                     \u001b[0mp\u001b[0m\u001b[0;34m.\u001b[0m\u001b[0mset_label\u001b[0m\u001b[0;34m(\u001b[0m\u001b[0mlbl\u001b[0m\u001b[0;34m)\u001b[0m\u001b[0;34m\u001b[0m\u001b[0;34m\u001b[0m\u001b[0m\n",
            "\u001b[0;32m/usr/local/lib/python3.6/dist-packages/matplotlib/artist.py\u001b[0m in \u001b[0;36mupdate\u001b[0;34m(self, props)\u001b[0m\n\u001b[1;32m   1004\u001b[0m \u001b[0;34m\u001b[0m\u001b[0m\n\u001b[1;32m   1005\u001b[0m         \u001b[0;32mwith\u001b[0m \u001b[0mcbook\u001b[0m\u001b[0;34m.\u001b[0m\u001b[0m_setattr_cm\u001b[0m\u001b[0;34m(\u001b[0m\u001b[0mself\u001b[0m\u001b[0;34m,\u001b[0m \u001b[0meventson\u001b[0m\u001b[0;34m=\u001b[0m\u001b[0;32mFalse\u001b[0m\u001b[0;34m)\u001b[0m\u001b[0;34m:\u001b[0m\u001b[0;34m\u001b[0m\u001b[0;34m\u001b[0m\u001b[0m\n\u001b[0;32m-> 1006\u001b[0;31m             \u001b[0mret\u001b[0m \u001b[0;34m=\u001b[0m \u001b[0;34m[\u001b[0m\u001b[0m_update_property\u001b[0m\u001b[0;34m(\u001b[0m\u001b[0mself\u001b[0m\u001b[0;34m,\u001b[0m \u001b[0mk\u001b[0m\u001b[0;34m,\u001b[0m \u001b[0mv\u001b[0m\u001b[0;34m)\u001b[0m \u001b[0;32mfor\u001b[0m \u001b[0mk\u001b[0m\u001b[0;34m,\u001b[0m \u001b[0mv\u001b[0m \u001b[0;32min\u001b[0m \u001b[0mprops\u001b[0m\u001b[0;34m.\u001b[0m\u001b[0mitems\u001b[0m\u001b[0;34m(\u001b[0m\u001b[0;34m)\u001b[0m\u001b[0;34m]\u001b[0m\u001b[0;34m\u001b[0m\u001b[0;34m\u001b[0m\u001b[0m\n\u001b[0m\u001b[1;32m   1007\u001b[0m \u001b[0;34m\u001b[0m\u001b[0m\n\u001b[1;32m   1008\u001b[0m         \u001b[0;32mif\u001b[0m \u001b[0mlen\u001b[0m\u001b[0;34m(\u001b[0m\u001b[0mret\u001b[0m\u001b[0;34m)\u001b[0m\u001b[0;34m:\u001b[0m\u001b[0;34m\u001b[0m\u001b[0;34m\u001b[0m\u001b[0m\n",
            "\u001b[0;32m/usr/local/lib/python3.6/dist-packages/matplotlib/artist.py\u001b[0m in \u001b[0;36m<listcomp>\u001b[0;34m(.0)\u001b[0m\n\u001b[1;32m   1004\u001b[0m \u001b[0;34m\u001b[0m\u001b[0m\n\u001b[1;32m   1005\u001b[0m         \u001b[0;32mwith\u001b[0m \u001b[0mcbook\u001b[0m\u001b[0;34m.\u001b[0m\u001b[0m_setattr_cm\u001b[0m\u001b[0;34m(\u001b[0m\u001b[0mself\u001b[0m\u001b[0;34m,\u001b[0m \u001b[0meventson\u001b[0m\u001b[0;34m=\u001b[0m\u001b[0;32mFalse\u001b[0m\u001b[0;34m)\u001b[0m\u001b[0;34m:\u001b[0m\u001b[0;34m\u001b[0m\u001b[0;34m\u001b[0m\u001b[0m\n\u001b[0;32m-> 1006\u001b[0;31m             \u001b[0mret\u001b[0m \u001b[0;34m=\u001b[0m \u001b[0;34m[\u001b[0m\u001b[0m_update_property\u001b[0m\u001b[0;34m(\u001b[0m\u001b[0mself\u001b[0m\u001b[0;34m,\u001b[0m \u001b[0mk\u001b[0m\u001b[0;34m,\u001b[0m \u001b[0mv\u001b[0m\u001b[0;34m)\u001b[0m \u001b[0;32mfor\u001b[0m \u001b[0mk\u001b[0m\u001b[0;34m,\u001b[0m \u001b[0mv\u001b[0m \u001b[0;32min\u001b[0m \u001b[0mprops\u001b[0m\u001b[0;34m.\u001b[0m\u001b[0mitems\u001b[0m\u001b[0;34m(\u001b[0m\u001b[0;34m)\u001b[0m\u001b[0;34m]\u001b[0m\u001b[0;34m\u001b[0m\u001b[0;34m\u001b[0m\u001b[0m\n\u001b[0m\u001b[1;32m   1007\u001b[0m \u001b[0;34m\u001b[0m\u001b[0m\n\u001b[1;32m   1008\u001b[0m         \u001b[0;32mif\u001b[0m \u001b[0mlen\u001b[0m\u001b[0;34m(\u001b[0m\u001b[0mret\u001b[0m\u001b[0;34m)\u001b[0m\u001b[0;34m:\u001b[0m\u001b[0;34m\u001b[0m\u001b[0;34m\u001b[0m\u001b[0m\n",
            "\u001b[0;32m/usr/local/lib/python3.6/dist-packages/matplotlib/artist.py\u001b[0m in \u001b[0;36m_update_property\u001b[0;34m(self, k, v)\u001b[0m\n\u001b[1;32m   1000\u001b[0m                 \u001b[0;32mif\u001b[0m \u001b[0;32mnot\u001b[0m \u001b[0mcallable\u001b[0m\u001b[0;34m(\u001b[0m\u001b[0mfunc\u001b[0m\u001b[0;34m)\u001b[0m\u001b[0;34m:\u001b[0m\u001b[0;34m\u001b[0m\u001b[0;34m\u001b[0m\u001b[0m\n\u001b[1;32m   1001\u001b[0m                     raise AttributeError('{!r} object has no property {!r}'\n\u001b[0;32m-> 1002\u001b[0;31m                                          .format(type(self).__name__, k))\n\u001b[0m\u001b[1;32m   1003\u001b[0m                 \u001b[0;32mreturn\u001b[0m \u001b[0mfunc\u001b[0m\u001b[0;34m(\u001b[0m\u001b[0mv\u001b[0m\u001b[0;34m)\u001b[0m\u001b[0;34m\u001b[0m\u001b[0;34m\u001b[0m\u001b[0m\n\u001b[1;32m   1004\u001b[0m \u001b[0;34m\u001b[0m\u001b[0m\n",
            "\u001b[0;31mAttributeError\u001b[0m: 'Rectangle' object has no property 'xlabel'"
          ]
        },
        {
          "output_type": "display_data",
          "data": {
            "image/png": "[encoded data removed]",
            "text/plain": [
              "<Figure size 432x288 with 1 Axes>"
            ]
          },
          "metadata": {
            "tags": [],
            "needs_background": "light"
          }
        }
      ]
    },
    {
      "cell_type": "markdown",
      "metadata": {
        "id": "nIFt7KCZHld-"
      },
      "source": [
        "## 2 - Getting Started with Data Wrangling"
      ]
    },
    {
      "cell_type": "markdown",
      "metadata": {
        "id": "_JW6MwRSFF3B"
      },
      "source": [
        "Now that we have observed the basic features of our dataset raw, we will began cleaning it. This involves several steps that you will be working through.\n"
      ]
    },
    {
      "cell_type": "markdown",
      "metadata": {
        "id": "NJhawspPHld-"
      },
      "source": [
        "### Create a copy of the Original Dataset"
      ]
    },
    {
      "cell_type": "code",
      "metadata": {
        "id": "HJ6p5GksHld_"
      },
      "source": [
        "df = linkedin_profiles.copy()"
      ],
      "execution_count": 15,
      "outputs": []
    },
    {
      "cell_type": "markdown",
      "metadata": {
        "id": "qOYcbFRwHleN"
      },
      "source": [
        "### 2.4 Remove Unneeded columns -```df.drop()```"
      ]
    },
    {
      "cell_type": "markdown",
      "metadata": {
        "id": "uocghp2yHleO"
      },
      "source": [
        "\n",
        "When we're looking at the database, for our purposes, we don't want to work with the ```companyHasLogo```,```companyUrl```, ```companyUrn```, ```followable```, ```mbrLocationCode```, ```mbrUrn```, ```posLocationCode```, ```positionId```. Next, we will use ```df.reindex()``` to change two things:\n",
        "1. The order of our columns\n",
        "2. Remove unneeded columnsL\n",
        "\n",
        "Let's remove the columns that we don't need anymore: [ followable, followersCount, hasPicture, isPremium, genderEstimate ]\n",
        "\n",
        "Use this list to remove the selected columns: \n",
        "```\n",
        "columns = [ 'followable', 'followersCount', 'hasPicture', 'isPremium', 'genderEstimate' ]\n",
        "```\n",
        "\n",
        "\n",
        "Next, drop these columnns"
      ]
    },
    {
      "cell_type": "code",
      "metadata": {
        "id": "90MwAELVHleO",
        "outputId": "ac3d0785-a9fc-478d-f4cf-cde1b5bdec93",
        "colab": {
          "base_uri": "https://localhost:8080/",
          "height": 419
        }
      },
      "source": [
        "\"\"\"\n",
        "df = df.drop(columns=______)  # INSERT CODE HERE\n",
        "df \n",
        "\"\"\"\n",
        "\n",
        "df = df.drop(columns = [ 'followable', 'followersCount', 'hasPicture', 'isPremium', 'genderEstimate' ])  # INSERT CODE HERE\n",
        "df"
      ],
      "execution_count": 16,
      "outputs": [
        {
          "output_type": "execute_result",
          "data": {
            "text/html": [
              "<div>\n",
              "<style scoped>\n",
              "    .dataframe tbody tr th:only-of-type {\n",
              "        vertical-align: middle;\n",
              "    }\n",
              "\n",
              "    .dataframe tbody tr th {\n",
              "        vertical-align: top;\n",
              "    }\n",
              "\n",
              "    .dataframe thead th {\n",
              "        text-align: right;\n",
              "    }\n",
              "</style>\n",
              "<table border=\"1\" class=\"dataframe\">\n",
              "  <thead>\n",
              "    <tr style=\"text-align: right;\">\n",
              "      <th></th>\n",
              "      <th>profileNum</th>\n",
              "      <th>ageEstimate</th>\n",
              "      <th>companyName</th>\n",
              "      <th>connectionsCount</th>\n",
              "      <th>country</th>\n",
              "      <th>endDate</th>\n",
              "      <th>posLocation</th>\n",
              "      <th>posTitle</th>\n",
              "      <th>startDate</th>\n",
              "      <th>posDuration</th>\n",
              "    </tr>\n",
              "  </thead>\n",
              "  <tbody>\n",
              "    <tr>\n",
              "      <th>0</th>\n",
              "      <td>1</td>\n",
              "      <td>41.0</td>\n",
              "      <td>Commonwealth Bank</td>\n",
              "      <td>500.0</td>\n",
              "      <td>au</td>\n",
              "      <td>2014-06-01</td>\n",
              "      <td>Sydney, Australia</td>\n",
              "      <td>Solution Delivery Executive</td>\n",
              "      <td>2013-11-01</td>\n",
              "      <td>6.965235</td>\n",
              "    </tr>\n",
              "    <tr>\n",
              "      <th>1</th>\n",
              "      <td>5</td>\n",
              "      <td>30.0</td>\n",
              "      <td>Optus</td>\n",
              "      <td>500.0</td>\n",
              "      <td>au</td>\n",
              "      <td>2016-12-01</td>\n",
              "      <td>Sydney, Australia</td>\n",
              "      <td>Digital and Social Engagement Leader, Optus Bu...</td>\n",
              "      <td>2016-01-01</td>\n",
              "      <td>11.006386</td>\n",
              "    </tr>\n",
              "    <tr>\n",
              "      <th>2</th>\n",
              "      <td>6</td>\n",
              "      <td>30.0</td>\n",
              "      <td>IBM</td>\n",
              "      <td>500.0</td>\n",
              "      <td>au</td>\n",
              "      <td>2015-12-01</td>\n",
              "      <td>Greater New York City Area</td>\n",
              "      <td>Social Brand Marketing</td>\n",
              "      <td>2014-11-01</td>\n",
              "      <td>12.977679</td>\n",
              "    </tr>\n",
              "    <tr>\n",
              "      <th>3</th>\n",
              "      <td>7</td>\n",
              "      <td>30.0</td>\n",
              "      <td>IBM</td>\n",
              "      <td>500.0</td>\n",
              "      <td>au</td>\n",
              "      <td>2014-10-01</td>\n",
              "      <td>Australia</td>\n",
              "      <td>Brand Strategist</td>\n",
              "      <td>2013-06-01</td>\n",
              "      <td>16.000329</td>\n",
              "    </tr>\n",
              "    <tr>\n",
              "      <th>4</th>\n",
              "      <td>8</td>\n",
              "      <td>30.0</td>\n",
              "      <td>IBM</td>\n",
              "      <td>500.0</td>\n",
              "      <td>au</td>\n",
              "      <td>2013-06-01</td>\n",
              "      <td>Australia</td>\n",
              "      <td>Brand Expression Lead</td>\n",
              "      <td>2012-09-01</td>\n",
              "      <td>8.969383</td>\n",
              "    </tr>\n",
              "    <tr>\n",
              "      <th>...</th>\n",
              "      <td>...</td>\n",
              "      <td>...</td>\n",
              "      <td>...</td>\n",
              "      <td>...</td>\n",
              "      <td>...</td>\n",
              "      <td>...</td>\n",
              "      <td>...</td>\n",
              "      <td>...</td>\n",
              "      <td>...</td>\n",
              "      <td>...</td>\n",
              "    </tr>\n",
              "    <tr>\n",
              "      <th>27914</th>\n",
              "      <td>39532</td>\n",
              "      <td>46.0</td>\n",
              "      <td>National Australia Bank</td>\n",
              "      <td>362.0</td>\n",
              "      <td>au</td>\n",
              "      <td>2009-04-01</td>\n",
              "      <td>St Kilda Rd Melbourne Business Banking Centre</td>\n",
              "      <td>Senior Partner</td>\n",
              "      <td>2006-08-01</td>\n",
              "      <td>32.000657</td>\n",
              "    </tr>\n",
              "    <tr>\n",
              "      <th>27915</th>\n",
              "      <td>39533</td>\n",
              "      <td>46.0</td>\n",
              "      <td>National Australia Bank</td>\n",
              "      <td>362.0</td>\n",
              "      <td>au</td>\n",
              "      <td>2007-05-01</td>\n",
              "      <td>St Kilda Rd Melbourne Business Banking Centre</td>\n",
              "      <td>Senior Business Banking Manager / Partner 4</td>\n",
              "      <td>2003-08-01</td>\n",
              "      <td>44.978336</td>\n",
              "    </tr>\n",
              "    <tr>\n",
              "      <th>27916</th>\n",
              "      <td>39534</td>\n",
              "      <td>46.0</td>\n",
              "      <td>National Australia Bank</td>\n",
              "      <td>362.0</td>\n",
              "      <td>au</td>\n",
              "      <td>2003-08-01</td>\n",
              "      <td>St Kilda Rd Melbourne &amp; Bourke and Russell St ...</td>\n",
              "      <td>Business Banking Manager / Partner 3</td>\n",
              "      <td>2000-06-01</td>\n",
              "      <td>37.980246</td>\n",
              "    </tr>\n",
              "    <tr>\n",
              "      <th>27917</th>\n",
              "      <td>39535</td>\n",
              "      <td>46.0</td>\n",
              "      <td>National Australia Bank</td>\n",
              "      <td>362.0</td>\n",
              "      <td>au</td>\n",
              "      <td>2000-06-01</td>\n",
              "      <td>Melbourne Office Business Banking Centre</td>\n",
              "      <td>Business Banking Officer</td>\n",
              "      <td>1995-11-01</td>\n",
              "      <td>54.999076</td>\n",
              "    </tr>\n",
              "    <tr>\n",
              "      <th>27918</th>\n",
              "      <td>39536</td>\n",
              "      <td>46.0</td>\n",
              "      <td>National Australia Bank</td>\n",
              "      <td>362.0</td>\n",
              "      <td>au</td>\n",
              "      <td>2000-06-01</td>\n",
              "      <td>271 Collins St Melbourne</td>\n",
              "      <td>Various customer service roles including inter...</td>\n",
              "      <td>1989-02-01</td>\n",
              "      <td>135.953510</td>\n",
              "    </tr>\n",
              "  </tbody>\n",
              "</table>\n",
              "<p>27919 rows × 10 columns</p>\n",
              "</div>"
            ],
            "text/plain": [
              "       profileNum  ageEstimate  ...   startDate  posDuration\n",
              "0               1         41.0  ...  2013-11-01     6.965235\n",
              "1               5         30.0  ...  2016-01-01    11.006386\n",
              "2               6         30.0  ...  2014-11-01    12.977679\n",
              "3               7         30.0  ...  2013-06-01    16.000329\n",
              "4               8         30.0  ...  2012-09-01     8.969383\n",
              "...           ...          ...  ...         ...          ...\n",
              "27914       39532         46.0  ...  2006-08-01    32.000657\n",
              "27915       39533         46.0  ...  2003-08-01    44.978336\n",
              "27916       39534         46.0  ...  2000-06-01    37.980246\n",
              "27917       39535         46.0  ...  1995-11-01    54.999076\n",
              "27918       39536         46.0  ...  1989-02-01   135.953510\n",
              "\n",
              "[27919 rows x 10 columns]"
            ]
          },
          "metadata": {
            "tags": []
          },
          "execution_count": 16
        }
      ]
    },
    {
      "cell_type": "markdown",
      "metadata": {
        "id": "d_Ds03fRHleS"
      },
      "source": [
        "### Using ```dropna()```"
      ]
    },
    {
      "cell_type": "markdown",
      "metadata": {
        "id": "OB1gdak8HleT"
      },
      "source": [
        "For this data set, we will be working with profiles that were completely accounted for in all of the remaining features.\n",
        "\n",
        "The ```dropna()``` method is designed top drop every right in our dataframe whos cell might have a null or undefined value. There are usually shown as ```NaN```\n",
        "\n"
      ]
    },
    {
      "cell_type": "code",
      "metadata": {
        "id": "HUUV6ipxHleT",
        "outputId": "6615441d-febb-43f7-d9e7-463c33f96496",
        "colab": {
          "base_uri": "https://localhost:8080/",
          "height": 419
        }
      },
      "source": [
        "df = df.dropna()\n",
        "df"
      ],
      "execution_count": 17,
      "outputs": [
        {
          "output_type": "execute_result",
          "data": {
            "text/html": [
              "<div>\n",
              "<style scoped>\n",
              "    .dataframe tbody tr th:only-of-type {\n",
              "        vertical-align: middle;\n",
              "    }\n",
              "\n",
              "    .dataframe tbody tr th {\n",
              "        vertical-align: top;\n",
              "    }\n",
              "\n",
              "    .dataframe thead th {\n",
              "        text-align: right;\n",
              "    }\n",
              "</style>\n",
              "<table border=\"1\" class=\"dataframe\">\n",
              "  <thead>\n",
              "    <tr style=\"text-align: right;\">\n",
              "      <th></th>\n",
              "      <th>profileNum</th>\n",
              "      <th>ageEstimate</th>\n",
              "      <th>companyName</th>\n",
              "      <th>connectionsCount</th>\n",
              "      <th>country</th>\n",
              "      <th>endDate</th>\n",
              "      <th>posLocation</th>\n",
              "      <th>posTitle</th>\n",
              "      <th>startDate</th>\n",
              "      <th>posDuration</th>\n",
              "    </tr>\n",
              "  </thead>\n",
              "  <tbody>\n",
              "    <tr>\n",
              "      <th>0</th>\n",
              "      <td>1</td>\n",
              "      <td>41.0</td>\n",
              "      <td>Commonwealth Bank</td>\n",
              "      <td>500.0</td>\n",
              "      <td>au</td>\n",
              "      <td>2014-06-01</td>\n",
              "      <td>Sydney, Australia</td>\n",
              "      <td>Solution Delivery Executive</td>\n",
              "      <td>2013-11-01</td>\n",
              "      <td>6.965235</td>\n",
              "    </tr>\n",
              "    <tr>\n",
              "      <th>1</th>\n",
              "      <td>5</td>\n",
              "      <td>30.0</td>\n",
              "      <td>Optus</td>\n",
              "      <td>500.0</td>\n",
              "      <td>au</td>\n",
              "      <td>2016-12-01</td>\n",
              "      <td>Sydney, Australia</td>\n",
              "      <td>Digital and Social Engagement Leader, Optus Bu...</td>\n",
              "      <td>2016-01-01</td>\n",
              "      <td>11.006386</td>\n",
              "    </tr>\n",
              "    <tr>\n",
              "      <th>2</th>\n",
              "      <td>6</td>\n",
              "      <td>30.0</td>\n",
              "      <td>IBM</td>\n",
              "      <td>500.0</td>\n",
              "      <td>au</td>\n",
              "      <td>2015-12-01</td>\n",
              "      <td>Greater New York City Area</td>\n",
              "      <td>Social Brand Marketing</td>\n",
              "      <td>2014-11-01</td>\n",
              "      <td>12.977679</td>\n",
              "    </tr>\n",
              "    <tr>\n",
              "      <th>3</th>\n",
              "      <td>7</td>\n",
              "      <td>30.0</td>\n",
              "      <td>IBM</td>\n",
              "      <td>500.0</td>\n",
              "      <td>au</td>\n",
              "      <td>2014-10-01</td>\n",
              "      <td>Australia</td>\n",
              "      <td>Brand Strategist</td>\n",
              "      <td>2013-06-01</td>\n",
              "      <td>16.000329</td>\n",
              "    </tr>\n",
              "    <tr>\n",
              "      <th>4</th>\n",
              "      <td>8</td>\n",
              "      <td>30.0</td>\n",
              "      <td>IBM</td>\n",
              "      <td>500.0</td>\n",
              "      <td>au</td>\n",
              "      <td>2013-06-01</td>\n",
              "      <td>Australia</td>\n",
              "      <td>Brand Expression Lead</td>\n",
              "      <td>2012-09-01</td>\n",
              "      <td>8.969383</td>\n",
              "    </tr>\n",
              "    <tr>\n",
              "      <th>...</th>\n",
              "      <td>...</td>\n",
              "      <td>...</td>\n",
              "      <td>...</td>\n",
              "      <td>...</td>\n",
              "      <td>...</td>\n",
              "      <td>...</td>\n",
              "      <td>...</td>\n",
              "      <td>...</td>\n",
              "      <td>...</td>\n",
              "      <td>...</td>\n",
              "    </tr>\n",
              "    <tr>\n",
              "      <th>27914</th>\n",
              "      <td>39532</td>\n",
              "      <td>46.0</td>\n",
              "      <td>National Australia Bank</td>\n",
              "      <td>362.0</td>\n",
              "      <td>au</td>\n",
              "      <td>2009-04-01</td>\n",
              "      <td>St Kilda Rd Melbourne Business Banking Centre</td>\n",
              "      <td>Senior Partner</td>\n",
              "      <td>2006-08-01</td>\n",
              "      <td>32.000657</td>\n",
              "    </tr>\n",
              "    <tr>\n",
              "      <th>27915</th>\n",
              "      <td>39533</td>\n",
              "      <td>46.0</td>\n",
              "      <td>National Australia Bank</td>\n",
              "      <td>362.0</td>\n",
              "      <td>au</td>\n",
              "      <td>2007-05-01</td>\n",
              "      <td>St Kilda Rd Melbourne Business Banking Centre</td>\n",
              "      <td>Senior Business Banking Manager / Partner 4</td>\n",
              "      <td>2003-08-01</td>\n",
              "      <td>44.978336</td>\n",
              "    </tr>\n",
              "    <tr>\n",
              "      <th>27916</th>\n",
              "      <td>39534</td>\n",
              "      <td>46.0</td>\n",
              "      <td>National Australia Bank</td>\n",
              "      <td>362.0</td>\n",
              "      <td>au</td>\n",
              "      <td>2003-08-01</td>\n",
              "      <td>St Kilda Rd Melbourne &amp; Bourke and Russell St ...</td>\n",
              "      <td>Business Banking Manager / Partner 3</td>\n",
              "      <td>2000-06-01</td>\n",
              "      <td>37.980246</td>\n",
              "    </tr>\n",
              "    <tr>\n",
              "      <th>27917</th>\n",
              "      <td>39535</td>\n",
              "      <td>46.0</td>\n",
              "      <td>National Australia Bank</td>\n",
              "      <td>362.0</td>\n",
              "      <td>au</td>\n",
              "      <td>2000-06-01</td>\n",
              "      <td>Melbourne Office Business Banking Centre</td>\n",
              "      <td>Business Banking Officer</td>\n",
              "      <td>1995-11-01</td>\n",
              "      <td>54.999076</td>\n",
              "    </tr>\n",
              "    <tr>\n",
              "      <th>27918</th>\n",
              "      <td>39536</td>\n",
              "      <td>46.0</td>\n",
              "      <td>National Australia Bank</td>\n",
              "      <td>362.0</td>\n",
              "      <td>au</td>\n",
              "      <td>2000-06-01</td>\n",
              "      <td>271 Collins St Melbourne</td>\n",
              "      <td>Various customer service roles including inter...</td>\n",
              "      <td>1989-02-01</td>\n",
              "      <td>135.953510</td>\n",
              "    </tr>\n",
              "  </tbody>\n",
              "</table>\n",
              "<p>20822 rows × 10 columns</p>\n",
              "</div>"
            ],
            "text/plain": [
              "       profileNum  ageEstimate  ...   startDate  posDuration\n",
              "0               1         41.0  ...  2013-11-01     6.965235\n",
              "1               5         30.0  ...  2016-01-01    11.006386\n",
              "2               6         30.0  ...  2014-11-01    12.977679\n",
              "3               7         30.0  ...  2013-06-01    16.000329\n",
              "4               8         30.0  ...  2012-09-01     8.969383\n",
              "...           ...          ...  ...         ...          ...\n",
              "27914       39532         46.0  ...  2006-08-01    32.000657\n",
              "27915       39533         46.0  ...  2003-08-01    44.978336\n",
              "27916       39534         46.0  ...  2000-06-01    37.980246\n",
              "27917       39535         46.0  ...  1995-11-01    54.999076\n",
              "27918       39536         46.0  ...  1989-02-01   135.953510\n",
              "\n",
              "[20822 rows x 10 columns]"
            ]
          },
          "metadata": {
            "tags": []
          },
          "execution_count": 17
        }
      ]
    },
    {
      "cell_type": "code",
      "metadata": {
        "id": "-8OASxc-HleZ",
        "outputId": "42218b84-b686-485a-fc09-05804b2b104a",
        "colab": {
          "base_uri": "https://localhost:8080/",
          "height": 312
        }
      },
      "source": [
        "df.info()"
      ],
      "execution_count": null,
      "outputs": [
        {
          "output_type": "stream",
          "text": [
            "<class 'pandas.core.frame.DataFrame'>\n",
            "Int64Index: 20822 entries, 0 to 27918\n",
            "Data columns (total 10 columns):\n",
            " #   Column            Non-Null Count  Dtype  \n",
            "---  ------            --------------  -----  \n",
            " 0   profileNum        20822 non-null  int64  \n",
            " 1   ageEstimate       20822 non-null  float64\n",
            " 2   companyName       20822 non-null  object \n",
            " 3   connectionsCount  20822 non-null  float64\n",
            " 4   country           20822 non-null  object \n",
            " 5   endDate           20822 non-null  object \n",
            " 6   posLocation       20822 non-null  object \n",
            " 7   posTitle          20822 non-null  object \n",
            " 8   startDate         20822 non-null  object \n",
            " 9   posDuration       20822 non-null  float64\n",
            "dtypes: float64(3), int64(1), object(6)\n",
            "memory usage: 1.7+ MB\n"
          ],
          "name": "stdout"
        }
      ]
    },
    {
      "cell_type": "markdown",
      "metadata": {
        "id": "OwXfj9YjHleD"
      },
      "source": [
        "### 2.1 Changing Column Names\n",
        "\n",
        "For this exercise, you will change the names of the previously existing columns to something that is more readable. \n",
        "\n",
        "First, list down all the column names by accessing the `columns` attribute of the dataframe `df`.\n"
      ]
    },
    {
      "cell_type": "markdown",
      "metadata": {
        "id": "--Q1q9kDgznD"
      },
      "source": [
        "### 2.2 Column List"
      ]
    },
    {
      "cell_type": "code",
      "metadata": {
        "id": "NvhxosPNF5LH",
        "outputId": "c968dca1-f3fb-4a20-f5d3-c835213836cb",
        "colab": {
          "base_uri": "https://localhost:8080/",
          "height": 187
        }
      },
      "source": [
        "\"\"\"\n",
        "list(df._______) # Insert Code Here\n",
        "\"\"\"\n",
        "list(df.columns) # Insert Code Here"
      ],
      "execution_count": 18,
      "outputs": [
        {
          "output_type": "execute_result",
          "data": {
            "text/plain": [
              "['profileNum',\n",
              " 'ageEstimate',\n",
              " 'companyName',\n",
              " 'connectionsCount',\n",
              " 'country',\n",
              " 'endDate',\n",
              " 'posLocation',\n",
              " 'posTitle',\n",
              " 'startDate',\n",
              " 'posDuration']"
            ]
          },
          "metadata": {
            "tags": []
          },
          "execution_count": 18
        }
      ]
    },
    {
      "cell_type": "markdown",
      "metadata": {
        "id": "J4KjruAfIDe2"
      },
      "source": [
        "Next, write the names of the columns. We will rename the columns to be in snakecase form, in which each word in the variable name is lowercase and is separated by an underscore, and which looks like this: `my_sample_variable_name`.\n",
        "\n",
        "The column names are: [ (profileId), ageEstimate, companyName, country, endDate, genderEstimate, startDate ]"
      ]
    },
    {
      "cell_type": "code",
      "metadata": {
        "id": "aSzOUf_CHleE",
        "outputId": "272e1b8b-a7bd-4811-c17f-3fe5869aac55",
        "colab": {
          "base_uri": "https://localhost:8080/",
          "height": 419
        }
      },
      "source": [
        "\"\"\"\n",
        "df = df.rename(\n",
        "    columns={'COLUMN_NAME_HERE': 'profile_id',         # FIXME: Rename to snakecase and delete irrelevant stuff: Insert Column Name you want to change\n",
        "             'COLUMN_NAME_HERE': 'age',                          # Insert Column Name you want to change\n",
        "             'COLUMN_NAME_HERE': 'company_name',    # Insert Column Name you want to change\n",
        "             'COLUMN_NAME_HERE': 'country',   # Insert Column Name you want to change\n",
        "             'COLUMN_NAME_HERE': 'end_date',          # Insert Column Name you want to change\n",
        "             'COLUMN_NAME_HERE': 'gender',    # Insert Column Name you want to change\n",
        "             'COLUMN_NAME_HERE': 'start_date',     # Insert Column Name you want to change\n",
        "            })\n",
        "df\n",
        "\"\"\"\n",
        "# TODO: Rename all of the columns used\n",
        "df = df.rename(\n",
        "    columns={'profileNum': 'profile_id',         # FIXME: Rename to snakecase and delete irrelevant stuff: Insert Column Name you want to change\n",
        "             'ageEstimate': 'age',                          # Insert Column Name you want to change\n",
        "             'companyName': 'company_name',    # Insert Column Name you want to change\n",
        "             'connectionsCount': 'num_connections',     # Insert Column Name you want to change\n",
        "             'country': 'country',   # Insert Column Name you want to change\n",
        "             'endDate': 'end_date',          # Insert Column Name you want to change\n",
        "             'posLocation': 'position_location',     # Insert Column Name you want to change\n",
        "             'posTitle': 'position_title',     # Insert Column Name you want to change\n",
        "             'startDate': 'start_date',     # Insert Column Name you want to change\n",
        "             'posDuration': 'position_duration',    # Insert Column Name you want to change\n",
        "            })\n",
        "df"
      ],
      "execution_count": 19,
      "outputs": [
        {
          "output_type": "execute_result",
          "data": {
            "text/html": [
              "<div>\n",
              "<style scoped>\n",
              "    .dataframe tbody tr th:only-of-type {\n",
              "        vertical-align: middle;\n",
              "    }\n",
              "\n",
              "    .dataframe tbody tr th {\n",
              "        vertical-align: top;\n",
              "    }\n",
              "\n",
              "    .dataframe thead th {\n",
              "        text-align: right;\n",
              "    }\n",
              "</style>\n",
              "<table border=\"1\" class=\"dataframe\">\n",
              "  <thead>\n",
              "    <tr style=\"text-align: right;\">\n",
              "      <th></th>\n",
              "      <th>profile_id</th>\n",
              "      <th>age</th>\n",
              "      <th>company_name</th>\n",
              "      <th>num_connections</th>\n",
              "      <th>country</th>\n",
              "      <th>end_date</th>\n",
              "      <th>position_location</th>\n",
              "      <th>position_title</th>\n",
              "      <th>start_date</th>\n",
              "      <th>position_duration</th>\n",
              "    </tr>\n",
              "  </thead>\n",
              "  <tbody>\n",
              "    <tr>\n",
              "      <th>0</th>\n",
              "      <td>1</td>\n",
              "      <td>41.0</td>\n",
              "      <td>Commonwealth Bank</td>\n",
              "      <td>500.0</td>\n",
              "      <td>au</td>\n",
              "      <td>2014-06-01</td>\n",
              "      <td>Sydney, Australia</td>\n",
              "      <td>Solution Delivery Executive</td>\n",
              "      <td>2013-11-01</td>\n",
              "      <td>6.965235</td>\n",
              "    </tr>\n",
              "    <tr>\n",
              "      <th>1</th>\n",
              "      <td>5</td>\n",
              "      <td>30.0</td>\n",
              "      <td>Optus</td>\n",
              "      <td>500.0</td>\n",
              "      <td>au</td>\n",
              "      <td>2016-12-01</td>\n",
              "      <td>Sydney, Australia</td>\n",
              "      <td>Digital and Social Engagement Leader, Optus Bu...</td>\n",
              "      <td>2016-01-01</td>\n",
              "      <td>11.006386</td>\n",
              "    </tr>\n",
              "    <tr>\n",
              "      <th>2</th>\n",
              "      <td>6</td>\n",
              "      <td>30.0</td>\n",
              "      <td>IBM</td>\n",
              "      <td>500.0</td>\n",
              "      <td>au</td>\n",
              "      <td>2015-12-01</td>\n",
              "      <td>Greater New York City Area</td>\n",
              "      <td>Social Brand Marketing</td>\n",
              "      <td>2014-11-01</td>\n",
              "      <td>12.977679</td>\n",
              "    </tr>\n",
              "    <tr>\n",
              "      <th>3</th>\n",
              "      <td>7</td>\n",
              "      <td>30.0</td>\n",
              "      <td>IBM</td>\n",
              "      <td>500.0</td>\n",
              "      <td>au</td>\n",
              "      <td>2014-10-01</td>\n",
              "      <td>Australia</td>\n",
              "      <td>Brand Strategist</td>\n",
              "      <td>2013-06-01</td>\n",
              "      <td>16.000329</td>\n",
              "    </tr>\n",
              "    <tr>\n",
              "      <th>4</th>\n",
              "      <td>8</td>\n",
              "      <td>30.0</td>\n",
              "      <td>IBM</td>\n",
              "      <td>500.0</td>\n",
              "      <td>au</td>\n",
              "      <td>2013-06-01</td>\n",
              "      <td>Australia</td>\n",
              "      <td>Brand Expression Lead</td>\n",
              "      <td>2012-09-01</td>\n",
              "      <td>8.969383</td>\n",
              "    </tr>\n",
              "    <tr>\n",
              "      <th>...</th>\n",
              "      <td>...</td>\n",
              "      <td>...</td>\n",
              "      <td>...</td>\n",
              "      <td>...</td>\n",
              "      <td>...</td>\n",
              "      <td>...</td>\n",
              "      <td>...</td>\n",
              "      <td>...</td>\n",
              "      <td>...</td>\n",
              "      <td>...</td>\n",
              "    </tr>\n",
              "    <tr>\n",
              "      <th>27914</th>\n",
              "      <td>39532</td>\n",
              "      <td>46.0</td>\n",
              "      <td>National Australia Bank</td>\n",
              "      <td>362.0</td>\n",
              "      <td>au</td>\n",
              "      <td>2009-04-01</td>\n",
              "      <td>St Kilda Rd Melbourne Business Banking Centre</td>\n",
              "      <td>Senior Partner</td>\n",
              "      <td>2006-08-01</td>\n",
              "      <td>32.000657</td>\n",
              "    </tr>\n",
              "    <tr>\n",
              "      <th>27915</th>\n",
              "      <td>39533</td>\n",
              "      <td>46.0</td>\n",
              "      <td>National Australia Bank</td>\n",
              "      <td>362.0</td>\n",
              "      <td>au</td>\n",
              "      <td>2007-05-01</td>\n",
              "      <td>St Kilda Rd Melbourne Business Banking Centre</td>\n",
              "      <td>Senior Business Banking Manager / Partner 4</td>\n",
              "      <td>2003-08-01</td>\n",
              "      <td>44.978336</td>\n",
              "    </tr>\n",
              "    <tr>\n",
              "      <th>27916</th>\n",
              "      <td>39534</td>\n",
              "      <td>46.0</td>\n",
              "      <td>National Australia Bank</td>\n",
              "      <td>362.0</td>\n",
              "      <td>au</td>\n",
              "      <td>2003-08-01</td>\n",
              "      <td>St Kilda Rd Melbourne &amp; Bourke and Russell St ...</td>\n",
              "      <td>Business Banking Manager / Partner 3</td>\n",
              "      <td>2000-06-01</td>\n",
              "      <td>37.980246</td>\n",
              "    </tr>\n",
              "    <tr>\n",
              "      <th>27917</th>\n",
              "      <td>39535</td>\n",
              "      <td>46.0</td>\n",
              "      <td>National Australia Bank</td>\n",
              "      <td>362.0</td>\n",
              "      <td>au</td>\n",
              "      <td>2000-06-01</td>\n",
              "      <td>Melbourne Office Business Banking Centre</td>\n",
              "      <td>Business Banking Officer</td>\n",
              "      <td>1995-11-01</td>\n",
              "      <td>54.999076</td>\n",
              "    </tr>\n",
              "    <tr>\n",
              "      <th>27918</th>\n",
              "      <td>39536</td>\n",
              "      <td>46.0</td>\n",
              "      <td>National Australia Bank</td>\n",
              "      <td>362.0</td>\n",
              "      <td>au</td>\n",
              "      <td>2000-06-01</td>\n",
              "      <td>271 Collins St Melbourne</td>\n",
              "      <td>Various customer service roles including inter...</td>\n",
              "      <td>1989-02-01</td>\n",
              "      <td>135.953510</td>\n",
              "    </tr>\n",
              "  </tbody>\n",
              "</table>\n",
              "<p>20822 rows × 10 columns</p>\n",
              "</div>"
            ],
            "text/plain": [
              "       profile_id   age  ...  start_date  position_duration\n",
              "0               1  41.0  ...  2013-11-01           6.965235\n",
              "1               5  30.0  ...  2016-01-01          11.006386\n",
              "2               6  30.0  ...  2014-11-01          12.977679\n",
              "3               7  30.0  ...  2013-06-01          16.000329\n",
              "4               8  30.0  ...  2012-09-01           8.969383\n",
              "...           ...   ...  ...         ...                ...\n",
              "27914       39532  46.0  ...  2006-08-01          32.000657\n",
              "27915       39533  46.0  ...  2003-08-01          44.978336\n",
              "27916       39534  46.0  ...  2000-06-01          37.980246\n",
              "27917       39535  46.0  ...  1995-11-01          54.999076\n",
              "27918       39536  46.0  ...  1989-02-01         135.953510\n",
              "\n",
              "[20822 rows x 10 columns]"
            ]
          },
          "metadata": {
            "tags": []
          },
          "execution_count": 19
        }
      ]
    },
    {
      "cell_type": "markdown",
      "metadata": {
        "id": "08LYIpGyHleI"
      },
      "source": [
        "### 2.3 Moving Column Positions - ```df.reindex()```"
      ]
    },
    {
      "cell_type": "markdown",
      "metadata": {
        "id": "m6SuvgcJIsfL"
      },
      "source": [
        "You can see below a list below which has the ```column_names``` in the order we want and is without the unneeded columns that we removed earlier.\n",
        "\n",
        "\n",
        "FIXME: What is the purpose of this section?\n"
      ]
    },
    {
      "cell_type": "code",
      "metadata": {
        "id": "B0p8g8M6HleJ",
        "outputId": "f080b23e-ab8d-4407-89dd-73a62898443d",
        "colab": {
          "base_uri": "https://localhost:8080/",
          "height": 1000
        }
      },
      "source": [
        "\"\"\"\n",
        "column_names = ['profile_id',\"age_estimate\",\"company_follower_count\", \"company_name\",\"company_staff_count\", \"connections_count\",\"country\", \"end_date\", \"followers_count\",\"gender\",\"has_picture\",\"has_premium\",\"member_location\",\"member_title\",\"position_location\",\"position_title\",\"start_date\",\"avg_member_pos_duration\",\"avg_company_pos_duration\",]\n",
        "\n",
        "df = df.reindex(columns=________) # Insert Code here\n",
        "\n",
        "df\n",
        "\"\"\"\n",
        "['Unnamed: 0',\n",
        " 'ageEstimate',\n",
        " 'companyName',\n",
        " 'country',\n",
        " 'endDate',\n",
        " 'hasPicture',\n",
        " 'isPremium',\n",
        " 'mbrLocation',\n",
        " 'mbrTitle',\n",
        " 'posLocation',\n",
        " 'posTitle',\n",
        " 'positionId',\n",
        " 'startDate',\n",
        " 'avgMemberPosDuration',\n",
        " 'avgCompanyPosDuration']\n",
        "\n",
        "column_names = [\n",
        "  'profile_id',\n",
        "  'company_name', \n",
        "  'start_date',\n",
        "  'end_date',\n",
        "  'age', \n",
        "  'country'\n",
        "]\n",
        "\n",
        "#df2 = df.reindex(index = range(1, number_of_completed_jobs + 1), columns = column_names) # Insert Code here\n",
        "\n",
        "df2 = df.reindex(columns = column_names) # Insert Code here\n",
        "\n",
        "df2\n",
        "df"
      ],
      "execution_count": null,
      "outputs": [
        {
          "output_type": "execute_result",
          "data": {
            "text/html": [
              "<div>\n",
              "<style scoped>\n",
              "    .dataframe tbody tr th:only-of-type {\n",
              "        vertical-align: middle;\n",
              "    }\n",
              "\n",
              "    .dataframe tbody tr th {\n",
              "        vertical-align: top;\n",
              "    }\n",
              "\n",
              "    .dataframe thead th {\n",
              "        text-align: right;\n",
              "    }\n",
              "</style>\n",
              "<table border=\"1\" class=\"dataframe\">\n",
              "  <thead>\n",
              "    <tr style=\"text-align: right;\">\n",
              "      <th></th>\n",
              "      <th>profile_id</th>\n",
              "      <th>age</th>\n",
              "      <th>company_name</th>\n",
              "      <th>num_connections</th>\n",
              "      <th>country</th>\n",
              "      <th>end_date</th>\n",
              "      <th>hasPicture</th>\n",
              "      <th>isPremium</th>\n",
              "      <th>mbrLocation</th>\n",
              "      <th>mbrTitle</th>\n",
              "      <th>position_location</th>\n",
              "      <th>position_title</th>\n",
              "      <th>positionId</th>\n",
              "      <th>start_date</th>\n",
              "      <th>avgMemberPosDuration</th>\n",
              "      <th>avgCompanyPosDuration</th>\n",
              "    </tr>\n",
              "  </thead>\n",
              "  <tbody>\n",
              "    <tr>\n",
              "      <th>5</th>\n",
              "      <td>5</td>\n",
              "      <td>30.0</td>\n",
              "      <td>Optus</td>\n",
              "      <td>500.0</td>\n",
              "      <td>au</td>\n",
              "      <td>2016-12-01</td>\n",
              "      <td>RTMZ0-46bTjK4V_MGFDG6i5g0yZmFp5oS0S9liWvpWg.jpg</td>\n",
              "      <td>0.0</td>\n",
              "      <td>Sydney Area, Australia</td>\n",
              "      <td>Senior Marketing Manager, PayPal</td>\n",
              "      <td>Sydney, Australia</td>\n",
              "      <td>Digital and Social Engagement Leader, Optus Bu...</td>\n",
              "      <td>229894.0</td>\n",
              "      <td>2016-01-01</td>\n",
              "      <td>395.2857</td>\n",
              "      <td>977.6553</td>\n",
              "    </tr>\n",
              "    <tr>\n",
              "      <th>6</th>\n",
              "      <td>6</td>\n",
              "      <td>30.0</td>\n",
              "      <td>IBM</td>\n",
              "      <td>500.0</td>\n",
              "      <td>au</td>\n",
              "      <td>2015-12-01</td>\n",
              "      <td>RTMZ0-46bTjK4V_MGFDG6i5g0yZmFp5oS0S9liWvpWg.jpg</td>\n",
              "      <td>0.0</td>\n",
              "      <td>Sydney Area, Australia</td>\n",
              "      <td>Senior Marketing Manager, PayPal</td>\n",
              "      <td>Greater New York City Area</td>\n",
              "      <td>Social Brand Marketing</td>\n",
              "      <td>229895.0</td>\n",
              "      <td>2014-11-01</td>\n",
              "      <td>395.2857</td>\n",
              "      <td>1188.7339</td>\n",
              "    </tr>\n",
              "    <tr>\n",
              "      <th>7</th>\n",
              "      <td>7</td>\n",
              "      <td>30.0</td>\n",
              "      <td>IBM</td>\n",
              "      <td>500.0</td>\n",
              "      <td>au</td>\n",
              "      <td>2014-10-01</td>\n",
              "      <td>RTMZ0-46bTjK4V_MGFDG6i5g0yZmFp5oS0S9liWvpWg.jpg</td>\n",
              "      <td>0.0</td>\n",
              "      <td>Sydney Area, Australia</td>\n",
              "      <td>Senior Marketing Manager, PayPal</td>\n",
              "      <td>Australia</td>\n",
              "      <td>Brand Strategist</td>\n",
              "      <td>229896.0</td>\n",
              "      <td>2013-06-01</td>\n",
              "      <td>395.2857</td>\n",
              "      <td>1188.7339</td>\n",
              "    </tr>\n",
              "    <tr>\n",
              "      <th>8</th>\n",
              "      <td>8</td>\n",
              "      <td>30.0</td>\n",
              "      <td>IBM</td>\n",
              "      <td>500.0</td>\n",
              "      <td>au</td>\n",
              "      <td>2013-06-01</td>\n",
              "      <td>RTMZ0-46bTjK4V_MGFDG6i5g0yZmFp5oS0S9liWvpWg.jpg</td>\n",
              "      <td>0.0</td>\n",
              "      <td>Sydney Area, Australia</td>\n",
              "      <td>Senior Marketing Manager, PayPal</td>\n",
              "      <td>Australia</td>\n",
              "      <td>Brand Expression Lead</td>\n",
              "      <td>229897.0</td>\n",
              "      <td>2012-09-01</td>\n",
              "      <td>395.2857</td>\n",
              "      <td>1188.7339</td>\n",
              "    </tr>\n",
              "    <tr>\n",
              "      <th>9</th>\n",
              "      <td>9</td>\n",
              "      <td>30.0</td>\n",
              "      <td>IBM</td>\n",
              "      <td>500.0</td>\n",
              "      <td>au</td>\n",
              "      <td>2012-09-01</td>\n",
              "      <td>RTMZ0-46bTjK4V_MGFDG6i5g0yZmFp5oS0S9liWvpWg.jpg</td>\n",
              "      <td>0.0</td>\n",
              "      <td>Sydney Area, Australia</td>\n",
              "      <td>Senior Marketing Manager, PayPal</td>\n",
              "      <td>St Leonards, Australia</td>\n",
              "      <td>Brand System Graduate</td>\n",
              "      <td>229898.0</td>\n",
              "      <td>2011-09-01</td>\n",
              "      <td>395.2857</td>\n",
              "      <td>1188.7339</td>\n",
              "    </tr>\n",
              "    <tr>\n",
              "      <th>...</th>\n",
              "      <td>...</td>\n",
              "      <td>...</td>\n",
              "      <td>...</td>\n",
              "      <td>...</td>\n",
              "      <td>...</td>\n",
              "      <td>...</td>\n",
              "      <td>...</td>\n",
              "      <td>...</td>\n",
              "      <td>...</td>\n",
              "      <td>...</td>\n",
              "      <td>...</td>\n",
              "      <td>...</td>\n",
              "      <td>...</td>\n",
              "      <td>...</td>\n",
              "      <td>...</td>\n",
              "      <td>...</td>\n",
              "    </tr>\n",
              "    <tr>\n",
              "      <th>39532</th>\n",
              "      <td>39532</td>\n",
              "      <td>46.0</td>\n",
              "      <td>National Australia Bank</td>\n",
              "      <td>362.0</td>\n",
              "      <td>au</td>\n",
              "      <td>2009-04-01</td>\n",
              "      <td>p_4_000_171_2aa_07c7660.jpg</td>\n",
              "      <td>0.0</td>\n",
              "      <td>Melbourne Area, Australia</td>\n",
              "      <td>Head Of (Distributed) Credit, Vic/Tas at Natio...</td>\n",
              "      <td>St Kilda Rd Melbourne Business Banking Centre</td>\n",
              "      <td>Senior Partner</td>\n",
              "      <td>191517.0</td>\n",
              "      <td>2006-08-01</td>\n",
              "      <td>1912.0000</td>\n",
              "      <td>941.0968</td>\n",
              "    </tr>\n",
              "    <tr>\n",
              "      <th>39533</th>\n",
              "      <td>39533</td>\n",
              "      <td>46.0</td>\n",
              "      <td>National Australia Bank</td>\n",
              "      <td>362.0</td>\n",
              "      <td>au</td>\n",
              "      <td>2007-05-01</td>\n",
              "      <td>p_4_000_171_2aa_07c7660.jpg</td>\n",
              "      <td>0.0</td>\n",
              "      <td>Melbourne Area, Australia</td>\n",
              "      <td>Head Of (Distributed) Credit, Vic/Tas at Natio...</td>\n",
              "      <td>St Kilda Rd Melbourne Business Banking Centre</td>\n",
              "      <td>Senior Business Banking Manager / Partner 4</td>\n",
              "      <td>191518.0</td>\n",
              "      <td>2003-08-01</td>\n",
              "      <td>1912.0000</td>\n",
              "      <td>941.0968</td>\n",
              "    </tr>\n",
              "    <tr>\n",
              "      <th>39534</th>\n",
              "      <td>39534</td>\n",
              "      <td>46.0</td>\n",
              "      <td>National Australia Bank</td>\n",
              "      <td>362.0</td>\n",
              "      <td>au</td>\n",
              "      <td>2003-08-01</td>\n",
              "      <td>p_4_000_171_2aa_07c7660.jpg</td>\n",
              "      <td>0.0</td>\n",
              "      <td>Melbourne Area, Australia</td>\n",
              "      <td>Head Of (Distributed) Credit, Vic/Tas at Natio...</td>\n",
              "      <td>St Kilda Rd Melbourne &amp; Bourke and Russell St ...</td>\n",
              "      <td>Business Banking Manager / Partner 3</td>\n",
              "      <td>191519.0</td>\n",
              "      <td>2000-06-01</td>\n",
              "      <td>1912.0000</td>\n",
              "      <td>941.0968</td>\n",
              "    </tr>\n",
              "    <tr>\n",
              "      <th>39535</th>\n",
              "      <td>39535</td>\n",
              "      <td>46.0</td>\n",
              "      <td>National Australia Bank</td>\n",
              "      <td>362.0</td>\n",
              "      <td>au</td>\n",
              "      <td>2000-06-01</td>\n",
              "      <td>p_4_000_171_2aa_07c7660.jpg</td>\n",
              "      <td>0.0</td>\n",
              "      <td>Melbourne Area, Australia</td>\n",
              "      <td>Head Of (Distributed) Credit, Vic/Tas at Natio...</td>\n",
              "      <td>Melbourne Office Business Banking Centre</td>\n",
              "      <td>Business Banking Officer</td>\n",
              "      <td>191520.0</td>\n",
              "      <td>1995-11-01</td>\n",
              "      <td>1912.0000</td>\n",
              "      <td>941.0968</td>\n",
              "    </tr>\n",
              "    <tr>\n",
              "      <th>39536</th>\n",
              "      <td>39536</td>\n",
              "      <td>46.0</td>\n",
              "      <td>National Australia Bank</td>\n",
              "      <td>362.0</td>\n",
              "      <td>au</td>\n",
              "      <td>2000-06-01</td>\n",
              "      <td>p_4_000_171_2aa_07c7660.jpg</td>\n",
              "      <td>0.0</td>\n",
              "      <td>Melbourne Area, Australia</td>\n",
              "      <td>Head Of (Distributed) Credit, Vic/Tas at Natio...</td>\n",
              "      <td>271 Collins St Melbourne</td>\n",
              "      <td>Various customer service roles including inter...</td>\n",
              "      <td>191521.0</td>\n",
              "      <td>1989-02-01</td>\n",
              "      <td>1912.0000</td>\n",
              "      <td>941.0968</td>\n",
              "    </tr>\n",
              "  </tbody>\n",
              "</table>\n",
              "<p>16005 rows × 16 columns</p>\n",
              "</div>"
            ],
            "text/plain": [
              "       profile_id   age  ... avgMemberPosDuration  avgCompanyPosDuration\n",
              "5               5  30.0  ...             395.2857               977.6553\n",
              "6               6  30.0  ...             395.2857              1188.7339\n",
              "7               7  30.0  ...             395.2857              1188.7339\n",
              "8               8  30.0  ...             395.2857              1188.7339\n",
              "9               9  30.0  ...             395.2857              1188.7339\n",
              "...           ...   ...  ...                  ...                    ...\n",
              "39532       39532  46.0  ...            1912.0000               941.0968\n",
              "39533       39533  46.0  ...            1912.0000               941.0968\n",
              "39534       39534  46.0  ...            1912.0000               941.0968\n",
              "39535       39535  46.0  ...            1912.0000               941.0968\n",
              "39536       39536  46.0  ...            1912.0000               941.0968\n",
              "\n",
              "[16005 rows x 16 columns]"
            ]
          },
          "metadata": {
            "tags": []
          },
          "execution_count": 59
        }
      ]
    },
    {
      "cell_type": "markdown",
      "metadata": {
        "id": "ju-Bw99zHled"
      },
      "source": [
        "### 2.5 Changing Column Type and Sorting - ```df.sort_values()```"
      ]
    },
    {
      "cell_type": "markdown",
      "metadata": {
        "id": "agqqm6W-_gT3"
      },
      "source": [
        "Let's sort the table values according to the company name with the function `sort_values()`.\n",
        "\n",
        "To do this, indicate the column name in the `by = ____` section."
      ]
    },
    {
      "cell_type": "code",
      "metadata": {
        "id": "KCQb6H5uHled",
        "outputId": "5651fe34-da4e-451f-cba1-becf82ad079f",
        "colab": {
          "base_uri": "https://localhost:8080/",
          "height": 419
        }
      },
      "source": [
        "\"\"\"\n",
        "df = df.sort_values(by='_______', ascending=True) # INSERT CODE HERE\n",
        "df\n",
        "\"\"\"\n",
        "df = df.sort_values(by=['company_name'], ascending=True) # INSERT CODE HERE\n",
        "df"
      ],
      "execution_count": 20,
      "outputs": [
        {
          "output_type": "execute_result",
          "data": {
            "text/html": [
              "<div>\n",
              "<style scoped>\n",
              "    .dataframe tbody tr th:only-of-type {\n",
              "        vertical-align: middle;\n",
              "    }\n",
              "\n",
              "    .dataframe tbody tr th {\n",
              "        vertical-align: top;\n",
              "    }\n",
              "\n",
              "    .dataframe thead th {\n",
              "        text-align: right;\n",
              "    }\n",
              "</style>\n",
              "<table border=\"1\" class=\"dataframe\">\n",
              "  <thead>\n",
              "    <tr style=\"text-align: right;\">\n",
              "      <th></th>\n",
              "      <th>profile_id</th>\n",
              "      <th>age</th>\n",
              "      <th>company_name</th>\n",
              "      <th>num_connections</th>\n",
              "      <th>country</th>\n",
              "      <th>end_date</th>\n",
              "      <th>position_location</th>\n",
              "      <th>position_title</th>\n",
              "      <th>start_date</th>\n",
              "      <th>position_duration</th>\n",
              "    </tr>\n",
              "  </thead>\n",
              "  <tbody>\n",
              "    <tr>\n",
              "      <th>11567</th>\n",
              "      <td>16108</td>\n",
              "      <td>36.0</td>\n",
              "      <td>(CFSGAM) Colonial First State Global Asset Man...</td>\n",
              "      <td>288.0</td>\n",
              "      <td>au</td>\n",
              "      <td>2010-10-01</td>\n",
              "      <td>Rockingham Shopping Centre</td>\n",
              "      <td>Assitant Marketing Manager</td>\n",
              "      <td>2009-05-01</td>\n",
              "      <td>17.018830</td>\n",
              "    </tr>\n",
              "    <tr>\n",
              "      <th>10566</th>\n",
              "      <td>14721</td>\n",
              "      <td>38.0</td>\n",
              "      <td>(CFSGAM) Colonial First State Global Asset Man...</td>\n",
              "      <td>222.0</td>\n",
              "      <td>au</td>\n",
              "      <td>2012-08-01</td>\n",
              "      <td>Sydney, Australia</td>\n",
              "      <td>Senior Test Analyst</td>\n",
              "      <td>2010-07-01</td>\n",
              "      <td>25.035422</td>\n",
              "    </tr>\n",
              "    <tr>\n",
              "      <th>5215</th>\n",
              "      <td>7281</td>\n",
              "      <td>57.0</td>\n",
              "      <td>(Infocube) Jeeves Professional Services AB</td>\n",
              "      <td>500.0</td>\n",
              "      <td>au</td>\n",
              "      <td>2010-05-01</td>\n",
              "      <td>Sydney, Australia</td>\n",
              "      <td>Business Development Manager</td>\n",
              "      <td>2007-06-01</td>\n",
              "      <td>34.990452</td>\n",
              "    </tr>\n",
              "    <tr>\n",
              "      <th>5622</th>\n",
              "      <td>7880</td>\n",
              "      <td>56.0</td>\n",
              "      <td>(STC) Standard Telephones and Cables</td>\n",
              "      <td>408.0</td>\n",
              "      <td>au</td>\n",
              "      <td>1988-05-01</td>\n",
              "      <td>Melbourne, Australia</td>\n",
              "      <td>SW Engineer</td>\n",
              "      <td>1986-05-01</td>\n",
              "      <td>24.016920</td>\n",
              "    </tr>\n",
              "    <tr>\n",
              "      <th>25249</th>\n",
              "      <td>35683</td>\n",
              "      <td>23.0</td>\n",
              "      <td>1 AN TV</td>\n",
              "      <td>318.0</td>\n",
              "      <td>au</td>\n",
              "      <td>2017-08-01</td>\n",
              "      <td>Istanbul, Turkey</td>\n",
              "      <td>Guest Speaker</td>\n",
              "      <td>2017-06-01</td>\n",
              "      <td>2.004148</td>\n",
              "    </tr>\n",
              "    <tr>\n",
              "      <th>...</th>\n",
              "      <td>...</td>\n",
              "      <td>...</td>\n",
              "      <td>...</td>\n",
              "      <td>...</td>\n",
              "      <td>...</td>\n",
              "      <td>...</td>\n",
              "      <td>...</td>\n",
              "      <td>...</td>\n",
              "      <td>...</td>\n",
              "      <td>...</td>\n",
              "    </tr>\n",
              "    <tr>\n",
              "      <th>25813</th>\n",
              "      <td>36472</td>\n",
              "      <td>37.0</td>\n",
              "      <td>webqem.</td>\n",
              "      <td>327.0</td>\n",
              "      <td>au</td>\n",
              "      <td>2013-09-01</td>\n",
              "      <td>Neutral Bay</td>\n",
              "      <td>Web Developer</td>\n",
              "      <td>2011-08-01</td>\n",
              "      <td>25.035422</td>\n",
              "    </tr>\n",
              "    <tr>\n",
              "      <th>3516</th>\n",
              "      <td>4984</td>\n",
              "      <td>56.0</td>\n",
              "      <td>wheelyweb</td>\n",
              "      <td>500.0</td>\n",
              "      <td>au</td>\n",
              "      <td>2015-06-01</td>\n",
              "      <td>Sydney, Australia</td>\n",
              "      <td>Principal User Experience Consultant</td>\n",
              "      <td>2010-01-01</td>\n",
              "      <td>64.954106</td>\n",
              "    </tr>\n",
              "    <tr>\n",
              "      <th>22124</th>\n",
              "      <td>31312</td>\n",
              "      <td>26.0</td>\n",
              "      <td>ygap</td>\n",
              "      <td>413.0</td>\n",
              "      <td>au</td>\n",
              "      <td>2016-07-01</td>\n",
              "      <td>Melbourne, Australia</td>\n",
              "      <td>Relationship Manager (Volunteer)</td>\n",
              "      <td>2016-02-01</td>\n",
              "      <td>4.961087</td>\n",
              "    </tr>\n",
              "    <tr>\n",
              "      <th>15278</th>\n",
              "      <td>21531</td>\n",
              "      <td>30.0</td>\n",
              "      <td>zspace</td>\n",
              "      <td>225.0</td>\n",
              "      <td>au</td>\n",
              "      <td>2015-09-01</td>\n",
              "      <td>Sydney, Australia</td>\n",
              "      <td>Character Modeller</td>\n",
              "      <td>2015-09-01</td>\n",
              "      <td>0.000000</td>\n",
              "    </tr>\n",
              "    <tr>\n",
              "      <th>4032</th>\n",
              "      <td>5711</td>\n",
              "      <td>28.0</td>\n",
              "      <td>{Studio39}</td>\n",
              "      <td>500.0</td>\n",
              "      <td>au</td>\n",
              "      <td>2016-11-01</td>\n",
              "      <td>Gold Coast</td>\n",
              "      <td>Cofounder</td>\n",
              "      <td>2014-03-01</td>\n",
              "      <td>32.066367</td>\n",
              "    </tr>\n",
              "  </tbody>\n",
              "</table>\n",
              "<p>20822 rows × 10 columns</p>\n",
              "</div>"
            ],
            "text/plain": [
              "       profile_id   age  ...  start_date  position_duration\n",
              "11567       16108  36.0  ...  2009-05-01          17.018830\n",
              "10566       14721  38.0  ...  2010-07-01          25.035422\n",
              "5215         7281  57.0  ...  2007-06-01          34.990452\n",
              "5622         7880  56.0  ...  1986-05-01          24.016920\n",
              "25249       35683  23.0  ...  2017-06-01           2.004148\n",
              "...           ...   ...  ...         ...                ...\n",
              "25813       36472  37.0  ...  2011-08-01          25.035422\n",
              "3516         4984  56.0  ...  2010-01-01          64.954106\n",
              "22124       31312  26.0  ...  2016-02-01           4.961087\n",
              "15278       21531  30.0  ...  2015-09-01           0.000000\n",
              "4032         5711  28.0  ...  2014-03-01          32.066367\n",
              "\n",
              "[20822 rows x 10 columns]"
            ]
          },
          "metadata": {
            "tags": []
          },
          "execution_count": 20
        }
      ]
    },
    {
      "cell_type": "markdown",
      "metadata": {
        "id": "AZbNdBQKgznj"
      },
      "source": [
        "### 2.6 Reseting the Index \n",
        "FIXME: Do we need to reset the index?"
      ]
    },
    {
      "cell_type": "markdown",
      "metadata": {
        "id": "AMV7309HHleh"
      },
      "source": [
        "Reseting Index using ```df.reset_index``` with respect 'year_of_arrival' in Ascending Order. "
      ]
    },
    {
      "cell_type": "code",
      "metadata": {
        "id": "rEIogWnUHlei",
        "outputId": "a33d544e-ce4a-45ca-c7aa-d72d342718f7",
        "colab": {
          "base_uri": "https://localhost:8080/",
          "height": 419
        }
      },
      "source": [
        "\"\"\"\n",
        "df.___________(inplace=True, drop=True) # INSERT CODE HERE\n",
        "df\n",
        "\"\"\"\n",
        "df2.reset_index(inplace=True, drop=True) # INSERT CODE HERE\n",
        "df2"
      ],
      "execution_count": null,
      "outputs": [
        {
          "output_type": "execute_result",
          "data": {
            "text/html": [
              "<div>\n",
              "<style scoped>\n",
              "    .dataframe tbody tr th:only-of-type {\n",
              "        vertical-align: middle;\n",
              "    }\n",
              "\n",
              "    .dataframe tbody tr th {\n",
              "        vertical-align: top;\n",
              "    }\n",
              "\n",
              "    .dataframe thead th {\n",
              "        text-align: right;\n",
              "    }\n",
              "</style>\n",
              "<table border=\"1\" class=\"dataframe\">\n",
              "  <thead>\n",
              "    <tr style=\"text-align: right;\">\n",
              "      <th></th>\n",
              "      <th>profile_id</th>\n",
              "      <th>company_name</th>\n",
              "      <th>start_date</th>\n",
              "      <th>end_date</th>\n",
              "      <th>age</th>\n",
              "      <th>country</th>\n",
              "    </tr>\n",
              "  </thead>\n",
              "  <tbody>\n",
              "    <tr>\n",
              "      <th>0</th>\n",
              "      <td>5</td>\n",
              "      <td>Optus</td>\n",
              "      <td>2016-01-01</td>\n",
              "      <td>2016-12-01</td>\n",
              "      <td>30.0</td>\n",
              "      <td>au</td>\n",
              "    </tr>\n",
              "    <tr>\n",
              "      <th>1</th>\n",
              "      <td>6</td>\n",
              "      <td>IBM</td>\n",
              "      <td>2014-11-01</td>\n",
              "      <td>2015-12-01</td>\n",
              "      <td>30.0</td>\n",
              "      <td>au</td>\n",
              "    </tr>\n",
              "    <tr>\n",
              "      <th>2</th>\n",
              "      <td>7</td>\n",
              "      <td>IBM</td>\n",
              "      <td>2013-06-01</td>\n",
              "      <td>2014-10-01</td>\n",
              "      <td>30.0</td>\n",
              "      <td>au</td>\n",
              "    </tr>\n",
              "    <tr>\n",
              "      <th>3</th>\n",
              "      <td>8</td>\n",
              "      <td>IBM</td>\n",
              "      <td>2012-09-01</td>\n",
              "      <td>2013-06-01</td>\n",
              "      <td>30.0</td>\n",
              "      <td>au</td>\n",
              "    </tr>\n",
              "    <tr>\n",
              "      <th>4</th>\n",
              "      <td>9</td>\n",
              "      <td>IBM</td>\n",
              "      <td>2011-09-01</td>\n",
              "      <td>2012-09-01</td>\n",
              "      <td>30.0</td>\n",
              "      <td>au</td>\n",
              "    </tr>\n",
              "    <tr>\n",
              "      <th>...</th>\n",
              "      <td>...</td>\n",
              "      <td>...</td>\n",
              "      <td>...</td>\n",
              "      <td>...</td>\n",
              "      <td>...</td>\n",
              "      <td>...</td>\n",
              "    </tr>\n",
              "    <tr>\n",
              "      <th>16000</th>\n",
              "      <td>39532</td>\n",
              "      <td>National Australia Bank</td>\n",
              "      <td>2006-08-01</td>\n",
              "      <td>2009-04-01</td>\n",
              "      <td>46.0</td>\n",
              "      <td>au</td>\n",
              "    </tr>\n",
              "    <tr>\n",
              "      <th>16001</th>\n",
              "      <td>39533</td>\n",
              "      <td>National Australia Bank</td>\n",
              "      <td>2003-08-01</td>\n",
              "      <td>2007-05-01</td>\n",
              "      <td>46.0</td>\n",
              "      <td>au</td>\n",
              "    </tr>\n",
              "    <tr>\n",
              "      <th>16002</th>\n",
              "      <td>39534</td>\n",
              "      <td>National Australia Bank</td>\n",
              "      <td>2000-06-01</td>\n",
              "      <td>2003-08-01</td>\n",
              "      <td>46.0</td>\n",
              "      <td>au</td>\n",
              "    </tr>\n",
              "    <tr>\n",
              "      <th>16003</th>\n",
              "      <td>39535</td>\n",
              "      <td>National Australia Bank</td>\n",
              "      <td>1995-11-01</td>\n",
              "      <td>2000-06-01</td>\n",
              "      <td>46.0</td>\n",
              "      <td>au</td>\n",
              "    </tr>\n",
              "    <tr>\n",
              "      <th>16004</th>\n",
              "      <td>39536</td>\n",
              "      <td>National Australia Bank</td>\n",
              "      <td>1989-02-01</td>\n",
              "      <td>2000-06-01</td>\n",
              "      <td>46.0</td>\n",
              "      <td>au</td>\n",
              "    </tr>\n",
              "  </tbody>\n",
              "</table>\n",
              "<p>16005 rows × 6 columns</p>\n",
              "</div>"
            ],
            "text/plain": [
              "       profile_id             company_name  ...   age country\n",
              "0               5                    Optus  ...  30.0      au\n",
              "1               6                      IBM  ...  30.0      au\n",
              "2               7                      IBM  ...  30.0      au\n",
              "3               8                      IBM  ...  30.0      au\n",
              "4               9                      IBM  ...  30.0      au\n",
              "...           ...                      ...  ...   ...     ...\n",
              "16000       39532  National Australia Bank  ...  46.0      au\n",
              "16001       39533  National Australia Bank  ...  46.0      au\n",
              "16002       39534  National Australia Bank  ...  46.0      au\n",
              "16003       39535  National Australia Bank  ...  46.0      au\n",
              "16004       39536  National Australia Bank  ...  46.0      au\n",
              "\n",
              "[16005 rows x 6 columns]"
            ]
          },
          "metadata": {
            "tags": []
          },
          "execution_count": 61
        }
      ]
    },
    {
      "cell_type": "markdown",
      "metadata": {
        "id": "i_4uzK6tHlel"
      },
      "source": [
        "### Finding Unique and similar strings \n",
        "\n",
        "First, we will list down all the unique names in these columns. Next, we will sort these in alphabetical order in order to make it easier to observe.\n",
        "\n",
        "```df['column_name`].unique()``` and ```df.sort()```\n",
        "\n",
        "For simplicity I have just declared the first line as a variable ```a``` in order to print it\n",
        "\n"
      ]
    },
    {
      "cell_type": "code",
      "metadata": {
        "id": "zcZzcYc6Hlel",
        "outputId": "10cd1e7f-eb2b-48a2-fed4-9b731b7decea",
        "colab": {
          "base_uri": "https://localhost:8080/",
          "height": 87
        }
      },
      "source": [
        "a = df['company_name'].unique()\n",
        "a.sort()\n",
        "a"
      ],
      "execution_count": null,
      "outputs": [
        {
          "output_type": "execute_result",
          "data": {
            "text/plain": [
              "array(['(CFSGAM) Colonial First State Global Asset Management',\n",
              "       '(Infocube) Jeeves Professional Services AB',\n",
              "       '(STC) Standard Telephones and Cables', ..., 'ygap', 'zspace',\n",
              "       '{Studio39}'], dtype=object)"
            ]
          },
          "metadata": {
            "tags": []
          },
          "execution_count": 22
        }
      ]
    },
    {
      "cell_type": "code",
      "metadata": {
        "id": "Xo4FXypKHleq",
        "outputId": "77c98e66-04ed-400a-eda2-1ace4dbee742",
        "colab": {
          "base_uri": "https://localhost:8080/",
          "height": 69
        }
      },
      "source": [
        "a = df['position_location'].unique()\n",
        "a.sort()\n",
        "a"
      ],
      "execution_count": null,
      "outputs": [
        {
          "output_type": "execute_result",
          "data": {
            "text/plain": [
              "array([' BHP/South 32-Boddington Bauxite/WATPAC-Cockatoo Island/St.Ives-Kambalda',\n",
              "       '.', '1 Amarina Avenue, Greenacre NSW 2190', ..., 'various',\n",
              "       'victoria, australia', 'wangaratta'], dtype=object)"
            ]
          },
          "metadata": {
            "tags": []
          },
          "execution_count": 23
        }
      ]
    },
    {
      "cell_type": "code",
      "metadata": {
        "id": "m4mKFIA8Hlex",
        "outputId": "ab377d9b-e056-4817-eb8f-d5d8b0116a1e",
        "colab": {
          "base_uri": "https://localhost:8080/",
          "height": 1000
        }
      },
      "source": [
        "a = df['end_date'].unique()\n",
        "a.sort()\n",
        "a"
      ],
      "execution_count": null,
      "outputs": [
        {
          "output_type": "execute_result",
          "data": {
            "text/plain": [
              "array(['1971-12-01', '1973-12-01', '1975-12-01', '1977-06-01',\n",
              "       '1978-11-01', '1978-12-01', '1979-06-01', '1979-12-01',\n",
              "       '1980-07-01', '1981-01-01', '1981-03-01', '1981-12-01',\n",
              "       '1982-04-01', '1982-11-01', '1983-01-01', '1983-06-01',\n",
              "       '1983-09-01', '1983-12-01', '1984-01-01', '1984-02-01',\n",
              "       '1984-10-01', '1984-12-01', '1985-05-01', '1985-06-01',\n",
              "       '1985-07-01', '1985-12-01', '1986-01-01', '1986-06-01',\n",
              "       '1986-07-01', '1986-10-01', '1986-11-01', '1986-12-01',\n",
              "       '1987-05-01', '1987-06-01', '1987-08-01', '1987-11-01',\n",
              "       '1987-12-01', '1988-05-01', '1988-07-01', '1988-08-01',\n",
              "       '1988-09-01', '1988-11-01', '1988-12-01', '1989-01-01',\n",
              "       '1989-02-01', '1989-09-01', '1989-10-01', '1989-12-01',\n",
              "       '1990-01-01', '1990-02-01', '1990-03-01', '1990-04-01',\n",
              "       '1990-05-01', '1990-09-01', '1990-10-01', '1990-11-01',\n",
              "       '1990-12-01', '1991-01-01', '1991-02-01', '1991-07-01',\n",
              "       '1991-08-01', '1991-09-01', '1991-10-01', '1991-11-01',\n",
              "       '1991-12-01', '1992-01-01', '1992-03-01', '1992-05-01',\n",
              "       '1992-06-01', '1992-07-01', '1992-08-01', '1992-09-01',\n",
              "       '1992-10-01', '1992-11-01', '1992-12-01', '1993-01-01',\n",
              "       '1993-02-01', '1993-03-01', '1993-04-01', '1993-05-01',\n",
              "       '1993-06-01', '1993-07-01', '1993-08-01', '1993-09-01',\n",
              "       '1993-10-01', '1993-11-01', '1993-12-01', '1994-01-01',\n",
              "       '1994-02-01', '1994-03-01', '1994-04-01', '1994-05-01',\n",
              "       '1994-06-01', '1994-07-01', '1994-08-01', '1994-09-01',\n",
              "       '1994-10-01', '1994-11-01', '1994-12-01', '1995-01-01',\n",
              "       '1995-02-01', '1995-03-01', '1995-04-01', '1995-05-01',\n",
              "       '1995-06-01', '1995-07-01', '1995-08-01', '1995-09-01',\n",
              "       '1995-10-01', '1995-11-01', '1995-12-01', '1996-01-01',\n",
              "       '1996-02-01', '1996-03-01', '1996-04-01', '1996-05-01',\n",
              "       '1996-06-01', '1996-07-01', '1996-08-01', '1996-09-01',\n",
              "       '1996-10-01', '1996-11-01', '1996-12-01', '1997-01-01',\n",
              "       '1997-02-01', '1997-03-01', '1997-04-01', '1997-05-01',\n",
              "       '1997-06-01', '1997-07-01', '1997-08-01', '1997-09-01',\n",
              "       '1997-10-01', '1997-11-01', '1997-12-01', '1998-01-01',\n",
              "       '1998-02-01', '1998-03-01', '1998-04-01', '1998-05-01',\n",
              "       '1998-06-01', '1998-07-01', '1998-08-01', '1998-09-01',\n",
              "       '1998-10-01', '1998-11-01', '1998-12-01', '1999-01-01',\n",
              "       '1999-02-01', '1999-03-01', '1999-04-01', '1999-05-01',\n",
              "       '1999-06-01', '1999-07-01', '1999-08-01', '1999-09-01',\n",
              "       '1999-10-01', '1999-11-01', '1999-12-01', '2000-01-01',\n",
              "       '2000-02-01', '2000-03-01', '2000-04-01', '2000-05-01',\n",
              "       '2000-06-01', '2000-07-01', '2000-08-01', '2000-09-01',\n",
              "       '2000-10-01', '2000-11-01', '2000-12-01', '2001-01-01',\n",
              "       '2001-02-01', '2001-03-01', '2001-04-01', '2001-05-01',\n",
              "       '2001-06-01', '2001-07-01', '2001-08-01', '2001-09-01',\n",
              "       '2001-10-01', '2001-11-01', '2001-12-01', '2002-01-01',\n",
              "       '2002-02-01', '2002-03-01', '2002-04-01', '2002-05-01',\n",
              "       '2002-06-01', '2002-07-01', '2002-08-01', '2002-09-01',\n",
              "       '2002-10-01', '2002-11-01', '2002-12-01', '2003-01-01',\n",
              "       '2003-02-01', '2003-03-01', '2003-04-01', '2003-05-01',\n",
              "       '2003-06-01', '2003-07-01', '2003-08-01', '2003-09-01',\n",
              "       '2003-10-01', '2003-11-01', '2003-12-01', '2004-01-01',\n",
              "       '2004-02-01', '2004-03-01', '2004-04-01', '2004-05-01',\n",
              "       '2004-06-01', '2004-07-01', '2004-08-01', '2004-09-01',\n",
              "       '2004-10-01', '2004-11-01', '2004-12-01', '2005-01-01',\n",
              "       '2005-02-01', '2005-03-01', '2005-04-01', '2005-05-01',\n",
              "       '2005-06-01', '2005-07-01', '2005-08-01', '2005-09-01',\n",
              "       '2005-10-01', '2005-11-01', '2005-12-01', '2006-01-01',\n",
              "       '2006-02-01', '2006-03-01', '2006-04-01', '2006-05-01',\n",
              "       '2006-06-01', '2006-07-01', '2006-08-01', '2006-09-01',\n",
              "       '2006-10-01', '2006-11-01', '2006-12-01', '2007-01-01',\n",
              "       '2007-02-01', '2007-03-01', '2007-04-01', '2007-05-01',\n",
              "       '2007-06-01', '2007-07-01', '2007-08-01', '2007-09-01',\n",
              "       '2007-10-01', '2007-11-01', '2007-12-01', '2008-01-01',\n",
              "       '2008-02-01', '2008-03-01', '2008-04-01', '2008-05-01',\n",
              "       '2008-06-01', '2008-07-01', '2008-08-01', '2008-09-01',\n",
              "       '2008-10-01', '2008-11-01', '2008-12-01', '2009-01-01',\n",
              "       '2009-02-01', '2009-03-01', '2009-04-01', '2009-05-01',\n",
              "       '2009-06-01', '2009-07-01', '2009-08-01', '2009-09-01',\n",
              "       '2009-10-01', '2009-11-01', '2009-12-01', '2010-01-01',\n",
              "       '2010-02-01', '2010-03-01', '2010-04-01', '2010-05-01',\n",
              "       '2010-06-01', '2010-07-01', '2010-08-01', '2010-09-01',\n",
              "       '2010-10-01', '2010-11-01', '2010-12-01', '2011-01-01',\n",
              "       '2011-02-01', '2011-03-01', '2011-04-01', '2011-05-01',\n",
              "       '2011-06-01', '2011-07-01', '2011-08-01', '2011-09-01',\n",
              "       '2011-10-01', '2011-11-01', '2011-12-01', '2012-01-01',\n",
              "       '2012-02-01', '2012-03-01', '2012-04-01', '2012-05-01',\n",
              "       '2012-06-01', '2012-07-01', '2012-08-01', '2012-09-01',\n",
              "       '2012-10-01', '2012-11-01', '2012-12-01', '2013-01-01',\n",
              "       '2013-02-01', '2013-03-01', '2013-04-01', '2013-05-01',\n",
              "       '2013-06-01', '2013-07-01', '2013-08-01', '2013-09-01',\n",
              "       '2013-10-01', '2013-11-01', '2013-12-01', '2014-01-01',\n",
              "       '2014-02-01', '2014-03-01', '2014-04-01', '2014-05-01',\n",
              "       '2014-06-01', '2014-07-01', '2014-08-01', '2014-09-01',\n",
              "       '2014-10-01', '2014-11-01', '2014-12-01', '2015-01-01',\n",
              "       '2015-02-01', '2015-03-01', '2015-04-01', '2015-05-01',\n",
              "       '2015-06-01', '2015-07-01', '2015-08-01', '2015-09-01',\n",
              "       '2015-10-01', '2015-11-01', '2015-12-01', '2016-01-01',\n",
              "       '2016-02-01', '2016-03-01', '2016-04-01', '2016-05-01',\n",
              "       '2016-06-01', '2016-07-01', '2016-08-01', '2016-09-01',\n",
              "       '2016-10-01', '2016-11-01', '2016-12-01', '2017-01-01',\n",
              "       '2017-02-01', '2017-03-01', '2017-04-01', '2017-05-01',\n",
              "       '2017-06-01', '2017-07-01', '2017-08-01', '2017-09-01',\n",
              "       '2017-10-01', '2017-11-01', '2017-12-01', '2018-01-01',\n",
              "       '2018-02-01', '2018-03-01', '2018-04-01', '2018-05-01',\n",
              "       '2018-06-01', '2018-07-01', '2018-08-01', '2018-09-01',\n",
              "       '2018-10-01', '2018-11-01', '2018-12-01', '2019-01-01',\n",
              "       '2019-02-01'], dtype=object)"
            ]
          },
          "metadata": {
            "tags": []
          },
          "execution_count": 24
        }
      ]
    },
    {
      "cell_type": "markdown",
      "metadata": {
        "id": "Tilt8tICP_Yw"
      },
      "source": [
        "As we can see above for our object columns, ```company_name```, ```position_location``` and 'end_date', we have identified the unique values in each of the columns.\n",
        "\n",
        "Notice that the `position_location` values are similar, but may vary by the specific city listed. We can simplify this to group by only the countries, and can disregard the cities.\n",
        "\n",
        "Likewise, we can simplify the values in the `end_date` columns by only saving the `year` value, and disregarding the `month` and `day` entries."
      ]
    },
    {
      "cell_type": "markdown",
      "metadata": {
        "id": "zKVGN7_cHle2"
      },
      "source": [
        "### 2.7 Working with Strings - ```df['column_name'].str.replace()```"
      ]
    },
    {
      "cell_type": "markdown",
      "metadata": {
        "id": "SESPapu0UDyS"
      },
      "source": [
        "To replace unwanted parts of a string, we use the function ```df['columun_name'].str.replace('string to find','string to replace')```. This command looks for the string we have specified and replaces with what we want.\n",
        "\n",
        "\n",
        "In this case, we will be using **Regular Expression Matching**, which is a more complex topic, so don't worry too much about it at the moment, as the code will be provided for you.\n",
        "\n",
        "In **Regular Expression Matching**, we search for patterns of a string that follow specific rules.\n",
        "\n",
        "In our case, `start_date` and `end_date` entries are given in the format of `YEAR-MONTH-DAY`, which we want to change to only save the `YEAR`.\n",
        "\n",
        "This means that we want to remove everything that comes after the dash/hyphen symbol `-`. \n",
        "\n",
        "To do this, we will indicate that we are searching for the pattern `-.*`, in which the string `.*` substitutes for any string of characters. We will replace the pattern with an empty string `''` to remove it.\n",
        "\n",
        "Thus, the code that we will run will be as following:\n",
        "```df['start_date'].str.replace('-.*', '', regex = True)```\n",
        "\n",
        "The same goes for the `end_date` column."
      ]
    },
    {
      "cell_type": "code",
      "metadata": {
        "id": "a7rW2Nq5EUsg",
        "outputId": "72d9a020-7e10-44b7-ba71-03eb69b4289a",
        "colab": {
          "base_uri": "https://localhost:8080/",
          "height": 419
        }
      },
      "source": [
        "# We want to restructure the values for ```start_date``` and ```end_date``` to only provide the Year\n",
        "# We need to remove the Month and Day from ```start_date```\n",
        "\"\"\"\n",
        "df['start_date'] = df['start_date'].str.replace('_____', '', regex = True)      # Insert string to replace\n",
        "\n",
        "# We need to remove the Month and Day from ```end_date```\n",
        "df['end_date'] = df['end_date'].str.replace('_____', '', regex = True)    # Insert string to replace \n",
        "\n",
        "df\n",
        "\"\"\"\n",
        "\n",
        "df['start_date'] = df['start_date'].str.replace('-.*', '', regex = True)      # Insert string to replace\n",
        "\n",
        "df['end_date'] = df['end_date'].str.replace('-.*', '', regex = True)      # Insert string to replace\n",
        "df"
      ],
      "execution_count": 21,
      "outputs": [
        {
          "output_type": "execute_result",
          "data": {
            "text/html": [
              "<div>\n",
              "<style scoped>\n",
              "    .dataframe tbody tr th:only-of-type {\n",
              "        vertical-align: middle;\n",
              "    }\n",
              "\n",
              "    .dataframe tbody tr th {\n",
              "        vertical-align: top;\n",
              "    }\n",
              "\n",
              "    .dataframe thead th {\n",
              "        text-align: right;\n",
              "    }\n",
              "</style>\n",
              "<table border=\"1\" class=\"dataframe\">\n",
              "  <thead>\n",
              "    <tr style=\"text-align: right;\">\n",
              "      <th></th>\n",
              "      <th>profile_id</th>\n",
              "      <th>age</th>\n",
              "      <th>company_name</th>\n",
              "      <th>num_connections</th>\n",
              "      <th>country</th>\n",
              "      <th>end_date</th>\n",
              "      <th>position_location</th>\n",
              "      <th>position_title</th>\n",
              "      <th>start_date</th>\n",
              "      <th>position_duration</th>\n",
              "    </tr>\n",
              "  </thead>\n",
              "  <tbody>\n",
              "    <tr>\n",
              "      <th>11567</th>\n",
              "      <td>16108</td>\n",
              "      <td>36.0</td>\n",
              "      <td>(CFSGAM) Colonial First State Global Asset Man...</td>\n",
              "      <td>288.0</td>\n",
              "      <td>au</td>\n",
              "      <td>2010</td>\n",
              "      <td>Rockingham Shopping Centre</td>\n",
              "      <td>Assitant Marketing Manager</td>\n",
              "      <td>2009</td>\n",
              "      <td>17.018830</td>\n",
              "    </tr>\n",
              "    <tr>\n",
              "      <th>10566</th>\n",
              "      <td>14721</td>\n",
              "      <td>38.0</td>\n",
              "      <td>(CFSGAM) Colonial First State Global Asset Man...</td>\n",
              "      <td>222.0</td>\n",
              "      <td>au</td>\n",
              "      <td>2012</td>\n",
              "      <td>Sydney, Australia</td>\n",
              "      <td>Senior Test Analyst</td>\n",
              "      <td>2010</td>\n",
              "      <td>25.035422</td>\n",
              "    </tr>\n",
              "    <tr>\n",
              "      <th>5215</th>\n",
              "      <td>7281</td>\n",
              "      <td>57.0</td>\n",
              "      <td>(Infocube) Jeeves Professional Services AB</td>\n",
              "      <td>500.0</td>\n",
              "      <td>au</td>\n",
              "      <td>2010</td>\n",
              "      <td>Sydney, Australia</td>\n",
              "      <td>Business Development Manager</td>\n",
              "      <td>2007</td>\n",
              "      <td>34.990452</td>\n",
              "    </tr>\n",
              "    <tr>\n",
              "      <th>5622</th>\n",
              "      <td>7880</td>\n",
              "      <td>56.0</td>\n",
              "      <td>(STC) Standard Telephones and Cables</td>\n",
              "      <td>408.0</td>\n",
              "      <td>au</td>\n",
              "      <td>1988</td>\n",
              "      <td>Melbourne, Australia</td>\n",
              "      <td>SW Engineer</td>\n",
              "      <td>1986</td>\n",
              "      <td>24.016920</td>\n",
              "    </tr>\n",
              "    <tr>\n",
              "      <th>25249</th>\n",
              "      <td>35683</td>\n",
              "      <td>23.0</td>\n",
              "      <td>1 AN TV</td>\n",
              "      <td>318.0</td>\n",
              "      <td>au</td>\n",
              "      <td>2017</td>\n",
              "      <td>Istanbul, Turkey</td>\n",
              "      <td>Guest Speaker</td>\n",
              "      <td>2017</td>\n",
              "      <td>2.004148</td>\n",
              "    </tr>\n",
              "    <tr>\n",
              "      <th>...</th>\n",
              "      <td>...</td>\n",
              "      <td>...</td>\n",
              "      <td>...</td>\n",
              "      <td>...</td>\n",
              "      <td>...</td>\n",
              "      <td>...</td>\n",
              "      <td>...</td>\n",
              "      <td>...</td>\n",
              "      <td>...</td>\n",
              "      <td>...</td>\n",
              "    </tr>\n",
              "    <tr>\n",
              "      <th>25813</th>\n",
              "      <td>36472</td>\n",
              "      <td>37.0</td>\n",
              "      <td>webqem.</td>\n",
              "      <td>327.0</td>\n",
              "      <td>au</td>\n",
              "      <td>2013</td>\n",
              "      <td>Neutral Bay</td>\n",
              "      <td>Web Developer</td>\n",
              "      <td>2011</td>\n",
              "      <td>25.035422</td>\n",
              "    </tr>\n",
              "    <tr>\n",
              "      <th>3516</th>\n",
              "      <td>4984</td>\n",
              "      <td>56.0</td>\n",
              "      <td>wheelyweb</td>\n",
              "      <td>500.0</td>\n",
              "      <td>au</td>\n",
              "      <td>2015</td>\n",
              "      <td>Sydney, Australia</td>\n",
              "      <td>Principal User Experience Consultant</td>\n",
              "      <td>2010</td>\n",
              "      <td>64.954106</td>\n",
              "    </tr>\n",
              "    <tr>\n",
              "      <th>22124</th>\n",
              "      <td>31312</td>\n",
              "      <td>26.0</td>\n",
              "      <td>ygap</td>\n",
              "      <td>413.0</td>\n",
              "      <td>au</td>\n",
              "      <td>2016</td>\n",
              "      <td>Melbourne, Australia</td>\n",
              "      <td>Relationship Manager (Volunteer)</td>\n",
              "      <td>2016</td>\n",
              "      <td>4.961087</td>\n",
              "    </tr>\n",
              "    <tr>\n",
              "      <th>15278</th>\n",
              "      <td>21531</td>\n",
              "      <td>30.0</td>\n",
              "      <td>zspace</td>\n",
              "      <td>225.0</td>\n",
              "      <td>au</td>\n",
              "      <td>2015</td>\n",
              "      <td>Sydney, Australia</td>\n",
              "      <td>Character Modeller</td>\n",
              "      <td>2015</td>\n",
              "      <td>0.000000</td>\n",
              "    </tr>\n",
              "    <tr>\n",
              "      <th>4032</th>\n",
              "      <td>5711</td>\n",
              "      <td>28.0</td>\n",
              "      <td>{Studio39}</td>\n",
              "      <td>500.0</td>\n",
              "      <td>au</td>\n",
              "      <td>2016</td>\n",
              "      <td>Gold Coast</td>\n",
              "      <td>Cofounder</td>\n",
              "      <td>2014</td>\n",
              "      <td>32.066367</td>\n",
              "    </tr>\n",
              "  </tbody>\n",
              "</table>\n",
              "<p>20822 rows × 10 columns</p>\n",
              "</div>"
            ],
            "text/plain": [
              "       profile_id   age  ... start_date  position_duration\n",
              "11567       16108  36.0  ...       2009          17.018830\n",
              "10566       14721  38.0  ...       2010          25.035422\n",
              "5215         7281  57.0  ...       2007          34.990452\n",
              "5622         7880  56.0  ...       1986          24.016920\n",
              "25249       35683  23.0  ...       2017           2.004148\n",
              "...           ...   ...  ...        ...                ...\n",
              "25813       36472  37.0  ...       2011          25.035422\n",
              "3516         4984  56.0  ...       2010          64.954106\n",
              "22124       31312  26.0  ...       2016           4.961087\n",
              "15278       21531  30.0  ...       2015           0.000000\n",
              "4032         5711  28.0  ...       2014          32.066367\n",
              "\n",
              "[20822 rows x 10 columns]"
            ]
          },
          "metadata": {
            "tags": []
          },
          "execution_count": 21
        }
      ]
    },
    {
      "cell_type": "markdown",
      "metadata": {
        "id": "RERULrPLEVyq"
      },
      "source": [
        "Another thing that we can do is remove the city from the `position_location` entry: \n",
        "\n",
        "Again, this will be done using **Regular Expression Matching**. \n",
        "\n",
        "If we have have an entry in the 'position_location' column in the format of `city, country`, then we want to remove the portion with the city.\n",
        "Notice that this means we can replace every thing before the comma `,`.\n",
        "\n",
        "To represent this, we will search for the pattern `.*, `, in which `.*` represents any string sequence.\n",
        "\n",
        "As before, we will run the command:\n",
        "```df['position_location'].str.replace('.*, ', '', regex = True)```\n",
        "\n",
        "to remove the specified sequence.\n",
        "\n",
        "Thus for entries such as `Sydney, Australia`, this string will be changed to `Australia`. \n"
      ]
    },
    {
      "cell_type": "code",
      "metadata": {
        "id": "NPxciPRzHle3",
        "outputId": "36c00c78-abff-43fa-9e01-29c638b11334",
        "colab": {
          "base_uri": "https://localhost:8080/",
          "height": 419
        }
      },
      "source": [
        "\"\"\"\n",
        "df['position_location'] = df['position_location'].str.replace(__________)      # Insert string to replace\n",
        "df\n",
        "\"\"\"\n",
        "df['position_location'] = df['position_location'].str.replace('.*, ', '', regex = True)      # Insert string to replace\n",
        "df\n"
      ],
      "execution_count": 22,
      "outputs": [
        {
          "output_type": "execute_result",
          "data": {
            "text/html": [
              "<div>\n",
              "<style scoped>\n",
              "    .dataframe tbody tr th:only-of-type {\n",
              "        vertical-align: middle;\n",
              "    }\n",
              "\n",
              "    .dataframe tbody tr th {\n",
              "        vertical-align: top;\n",
              "    }\n",
              "\n",
              "    .dataframe thead th {\n",
              "        text-align: right;\n",
              "    }\n",
              "</style>\n",
              "<table border=\"1\" class=\"dataframe\">\n",
              "  <thead>\n",
              "    <tr style=\"text-align: right;\">\n",
              "      <th></th>\n",
              "      <th>profile_id</th>\n",
              "      <th>age</th>\n",
              "      <th>company_name</th>\n",
              "      <th>num_connections</th>\n",
              "      <th>country</th>\n",
              "      <th>end_date</th>\n",
              "      <th>position_location</th>\n",
              "      <th>position_title</th>\n",
              "      <th>start_date</th>\n",
              "      <th>position_duration</th>\n",
              "    </tr>\n",
              "  </thead>\n",
              "  <tbody>\n",
              "    <tr>\n",
              "      <th>11567</th>\n",
              "      <td>16108</td>\n",
              "      <td>36.0</td>\n",
              "      <td>(CFSGAM) Colonial First State Global Asset Man...</td>\n",
              "      <td>288.0</td>\n",
              "      <td>au</td>\n",
              "      <td>2010</td>\n",
              "      <td>Rockingham Shopping Centre</td>\n",
              "      <td>Assitant Marketing Manager</td>\n",
              "      <td>2009</td>\n",
              "      <td>17.018830</td>\n",
              "    </tr>\n",
              "    <tr>\n",
              "      <th>10566</th>\n",
              "      <td>14721</td>\n",
              "      <td>38.0</td>\n",
              "      <td>(CFSGAM) Colonial First State Global Asset Man...</td>\n",
              "      <td>222.0</td>\n",
              "      <td>au</td>\n",
              "      <td>2012</td>\n",
              "      <td>Australia</td>\n",
              "      <td>Senior Test Analyst</td>\n",
              "      <td>2010</td>\n",
              "      <td>25.035422</td>\n",
              "    </tr>\n",
              "    <tr>\n",
              "      <th>5215</th>\n",
              "      <td>7281</td>\n",
              "      <td>57.0</td>\n",
              "      <td>(Infocube) Jeeves Professional Services AB</td>\n",
              "      <td>500.0</td>\n",
              "      <td>au</td>\n",
              "      <td>2010</td>\n",
              "      <td>Australia</td>\n",
              "      <td>Business Development Manager</td>\n",
              "      <td>2007</td>\n",
              "      <td>34.990452</td>\n",
              "    </tr>\n",
              "    <tr>\n",
              "      <th>5622</th>\n",
              "      <td>7880</td>\n",
              "      <td>56.0</td>\n",
              "      <td>(STC) Standard Telephones and Cables</td>\n",
              "      <td>408.0</td>\n",
              "      <td>au</td>\n",
              "      <td>1988</td>\n",
              "      <td>Australia</td>\n",
              "      <td>SW Engineer</td>\n",
              "      <td>1986</td>\n",
              "      <td>24.016920</td>\n",
              "    </tr>\n",
              "    <tr>\n",
              "      <th>25249</th>\n",
              "      <td>35683</td>\n",
              "      <td>23.0</td>\n",
              "      <td>1 AN TV</td>\n",
              "      <td>318.0</td>\n",
              "      <td>au</td>\n",
              "      <td>2017</td>\n",
              "      <td>Turkey</td>\n",
              "      <td>Guest Speaker</td>\n",
              "      <td>2017</td>\n",
              "      <td>2.004148</td>\n",
              "    </tr>\n",
              "    <tr>\n",
              "      <th>...</th>\n",
              "      <td>...</td>\n",
              "      <td>...</td>\n",
              "      <td>...</td>\n",
              "      <td>...</td>\n",
              "      <td>...</td>\n",
              "      <td>...</td>\n",
              "      <td>...</td>\n",
              "      <td>...</td>\n",
              "      <td>...</td>\n",
              "      <td>...</td>\n",
              "    </tr>\n",
              "    <tr>\n",
              "      <th>25813</th>\n",
              "      <td>36472</td>\n",
              "      <td>37.0</td>\n",
              "      <td>webqem.</td>\n",
              "      <td>327.0</td>\n",
              "      <td>au</td>\n",
              "      <td>2013</td>\n",
              "      <td>Neutral Bay</td>\n",
              "      <td>Web Developer</td>\n",
              "      <td>2011</td>\n",
              "      <td>25.035422</td>\n",
              "    </tr>\n",
              "    <tr>\n",
              "      <th>3516</th>\n",
              "      <td>4984</td>\n",
              "      <td>56.0</td>\n",
              "      <td>wheelyweb</td>\n",
              "      <td>500.0</td>\n",
              "      <td>au</td>\n",
              "      <td>2015</td>\n",
              "      <td>Australia</td>\n",
              "      <td>Principal User Experience Consultant</td>\n",
              "      <td>2010</td>\n",
              "      <td>64.954106</td>\n",
              "    </tr>\n",
              "    <tr>\n",
              "      <th>22124</th>\n",
              "      <td>31312</td>\n",
              "      <td>26.0</td>\n",
              "      <td>ygap</td>\n",
              "      <td>413.0</td>\n",
              "      <td>au</td>\n",
              "      <td>2016</td>\n",
              "      <td>Australia</td>\n",
              "      <td>Relationship Manager (Volunteer)</td>\n",
              "      <td>2016</td>\n",
              "      <td>4.961087</td>\n",
              "    </tr>\n",
              "    <tr>\n",
              "      <th>15278</th>\n",
              "      <td>21531</td>\n",
              "      <td>30.0</td>\n",
              "      <td>zspace</td>\n",
              "      <td>225.0</td>\n",
              "      <td>au</td>\n",
              "      <td>2015</td>\n",
              "      <td>Australia</td>\n",
              "      <td>Character Modeller</td>\n",
              "      <td>2015</td>\n",
              "      <td>0.000000</td>\n",
              "    </tr>\n",
              "    <tr>\n",
              "      <th>4032</th>\n",
              "      <td>5711</td>\n",
              "      <td>28.0</td>\n",
              "      <td>{Studio39}</td>\n",
              "      <td>500.0</td>\n",
              "      <td>au</td>\n",
              "      <td>2016</td>\n",
              "      <td>Gold Coast</td>\n",
              "      <td>Cofounder</td>\n",
              "      <td>2014</td>\n",
              "      <td>32.066367</td>\n",
              "    </tr>\n",
              "  </tbody>\n",
              "</table>\n",
              "<p>20822 rows × 10 columns</p>\n",
              "</div>"
            ],
            "text/plain": [
              "       profile_id   age  ... start_date  position_duration\n",
              "11567       16108  36.0  ...       2009          17.018830\n",
              "10566       14721  38.0  ...       2010          25.035422\n",
              "5215         7281  57.0  ...       2007          34.990452\n",
              "5622         7880  56.0  ...       1986          24.016920\n",
              "25249       35683  23.0  ...       2017           2.004148\n",
              "...           ...   ...  ...        ...                ...\n",
              "25813       36472  37.0  ...       2011          25.035422\n",
              "3516         4984  56.0  ...       2010          64.954106\n",
              "22124       31312  26.0  ...       2016           4.961087\n",
              "15278       21531  30.0  ...       2015           0.000000\n",
              "4032         5711  28.0  ...       2014          32.066367\n",
              "\n",
              "[20822 rows x 10 columns]"
            ]
          },
          "metadata": {
            "tags": []
          },
          "execution_count": 22
        }
      ]
    },
    {
      "cell_type": "markdown",
      "metadata": {
        "id": "x0c0BG7SHle_"
      },
      "source": [
        "#### Creating a Copy of our modified Dataset"
      ]
    },
    {
      "cell_type": "code",
      "metadata": {
        "id": "4jrvqhIAHle_"
      },
      "source": [
        "modified_dataset = df.copy()"
      ],
      "execution_count": 23,
      "outputs": []
    },
    {
      "cell_type": "markdown",
      "metadata": {
        "id": "Wkw5pefkHlfC"
      },
      "source": [
        "## 3 - Micro Wrangling and Visualization"
      ]
    },
    {
      "cell_type": "markdown",
      "metadata": {
        "id": "pwDzGZeYHlfD"
      },
      "source": [
        "We will Start of this part by dividing our dataset into multiple smaller dataframes. The approach we will be taking is separating dataframes based on the ```start_date``` data.\n",
        "\n",
        "For example, in the blocks below you will see code for 3 intervals that indicate the start_date year that a profile user begins a job position:\n",
        "- ```1960 to 1979```\n",
        "- ```1980 to 1999```\n",
        "- ```2000 to 2019```\n",
        "\n"
      ]
    },
    {
      "cell_type": "markdown",
      "metadata": {
        "id": "MmCN4aFoJSc1"
      },
      "source": [
        "Let's convert all of the `start_date` and `end_date` values to be INTEGERS. This will make it easier to do comparisons to group the date ranges."
      ]
    },
    {
      "cell_type": "code",
      "metadata": {
        "id": "sNY9hcdWJZOE"
      },
      "source": [
        "modified_dataset['start_date'] = modified_dataset['start_date'].astype(int)\n",
        "modified_dataset['end_date'] = modified_dataset['end_date'].astype(int)\n"
      ],
      "execution_count": 24,
      "outputs": []
    },
    {
      "cell_type": "markdown",
      "metadata": {
        "id": "cihhvkCeM_u8"
      },
      "source": [
        "Let's check to make sure that we actually changed the data types for `start_date` and `end_date`."
      ]
    },
    {
      "cell_type": "code",
      "metadata": {
        "id": "dEklTuJ9NEOR",
        "outputId": "60204b67-91fa-4e23-ac45-0d3498b5a518",
        "colab": {
          "base_uri": "https://localhost:8080/",
          "height": 204
        }
      },
      "source": [
        "modified_dataset.dtypes"
      ],
      "execution_count": 25,
      "outputs": [
        {
          "output_type": "execute_result",
          "data": {
            "text/plain": [
              "profile_id             int64\n",
              "age                  float64\n",
              "company_name          object\n",
              "num_connections      float64\n",
              "country               object\n",
              "end_date               int64\n",
              "position_location     object\n",
              "position_title        object\n",
              "start_date             int64\n",
              "position_duration    float64\n",
              "dtype: object"
            ]
          },
          "metadata": {
            "tags": []
          },
          "execution_count": 25
        }
      ]
    },
    {
      "cell_type": "markdown",
      "metadata": {
        "id": "3ZkrSv8hHlfD"
      },
      "source": [
        "## Between 2000 to 2019"
      ]
    },
    {
      "cell_type": "markdown",
      "metadata": {
        "id": "rTQpntAsMwnc"
      },
      "source": [
        "Let's collect the profiles that started their job positions between the years of 2000 to 2019."
      ]
    },
    {
      "cell_type": "code",
      "metadata": {
        "id": "Lp6kae0pHlfE"
      },
      "source": [
        "\"\"\"\n",
        "dataset_between00_19 = modified_dataset.where((modified_dataset['start_date'] >= ____) & (modified_dataset['start_date'] < ____))\n",
        "\"\"\"\n",
        "dataset_between00_19 = modified_dataset.where((modified_dataset['start_date'] >= 2000) & (modified_dataset['start_date'] <= 2019))"
      ],
      "execution_count": 26,
      "outputs": []
    },
    {
      "cell_type": "code",
      "metadata": {
        "id": "a-tQvhW3HlfI",
        "outputId": "0a9c7d70-266a-4557-af72-c5d3a49d7327",
        "colab": {
          "base_uri": "https://localhost:8080/",
          "height": 419
        }
      },
      "source": [
        "dataset_between00_19 = dataset_between00_19.dropna()\n",
        "dataset_between00_19"
      ],
      "execution_count": 27,
      "outputs": [
        {
          "output_type": "execute_result",
          "data": {
            "text/html": [
              "<div>\n",
              "<style scoped>\n",
              "    .dataframe tbody tr th:only-of-type {\n",
              "        vertical-align: middle;\n",
              "    }\n",
              "\n",
              "    .dataframe tbody tr th {\n",
              "        vertical-align: top;\n",
              "    }\n",
              "\n",
              "    .dataframe thead th {\n",
              "        text-align: right;\n",
              "    }\n",
              "</style>\n",
              "<table border=\"1\" class=\"dataframe\">\n",
              "  <thead>\n",
              "    <tr style=\"text-align: right;\">\n",
              "      <th></th>\n",
              "      <th>profile_id</th>\n",
              "      <th>age</th>\n",
              "      <th>company_name</th>\n",
              "      <th>num_connections</th>\n",
              "      <th>country</th>\n",
              "      <th>end_date</th>\n",
              "      <th>position_location</th>\n",
              "      <th>position_title</th>\n",
              "      <th>start_date</th>\n",
              "      <th>position_duration</th>\n",
              "    </tr>\n",
              "  </thead>\n",
              "  <tbody>\n",
              "    <tr>\n",
              "      <th>11567</th>\n",
              "      <td>16108.0</td>\n",
              "      <td>36.0</td>\n",
              "      <td>(CFSGAM) Colonial First State Global Asset Man...</td>\n",
              "      <td>288.0</td>\n",
              "      <td>au</td>\n",
              "      <td>2010.0</td>\n",
              "      <td>Rockingham Shopping Centre</td>\n",
              "      <td>Assitant Marketing Manager</td>\n",
              "      <td>2009.0</td>\n",
              "      <td>17.018830</td>\n",
              "    </tr>\n",
              "    <tr>\n",
              "      <th>10566</th>\n",
              "      <td>14721.0</td>\n",
              "      <td>38.0</td>\n",
              "      <td>(CFSGAM) Colonial First State Global Asset Man...</td>\n",
              "      <td>222.0</td>\n",
              "      <td>au</td>\n",
              "      <td>2012.0</td>\n",
              "      <td>Australia</td>\n",
              "      <td>Senior Test Analyst</td>\n",
              "      <td>2010.0</td>\n",
              "      <td>25.035422</td>\n",
              "    </tr>\n",
              "    <tr>\n",
              "      <th>5215</th>\n",
              "      <td>7281.0</td>\n",
              "      <td>57.0</td>\n",
              "      <td>(Infocube) Jeeves Professional Services AB</td>\n",
              "      <td>500.0</td>\n",
              "      <td>au</td>\n",
              "      <td>2010.0</td>\n",
              "      <td>Australia</td>\n",
              "      <td>Business Development Manager</td>\n",
              "      <td>2007.0</td>\n",
              "      <td>34.990452</td>\n",
              "    </tr>\n",
              "    <tr>\n",
              "      <th>25249</th>\n",
              "      <td>35683.0</td>\n",
              "      <td>23.0</td>\n",
              "      <td>1 AN TV</td>\n",
              "      <td>318.0</td>\n",
              "      <td>au</td>\n",
              "      <td>2017.0</td>\n",
              "      <td>Turkey</td>\n",
              "      <td>Guest Speaker</td>\n",
              "      <td>2017.0</td>\n",
              "      <td>2.004148</td>\n",
              "    </tr>\n",
              "    <tr>\n",
              "      <th>25248</th>\n",
              "      <td>35682.0</td>\n",
              "      <td>23.0</td>\n",
              "      <td>1 AN TV</td>\n",
              "      <td>318.0</td>\n",
              "      <td>au</td>\n",
              "      <td>2017.0</td>\n",
              "      <td>Turkey</td>\n",
              "      <td>Guest Speaker</td>\n",
              "      <td>2017.0</td>\n",
              "      <td>2.004148</td>\n",
              "    </tr>\n",
              "    <tr>\n",
              "      <th>...</th>\n",
              "      <td>...</td>\n",
              "      <td>...</td>\n",
              "      <td>...</td>\n",
              "      <td>...</td>\n",
              "      <td>...</td>\n",
              "      <td>...</td>\n",
              "      <td>...</td>\n",
              "      <td>...</td>\n",
              "      <td>...</td>\n",
              "      <td>...</td>\n",
              "    </tr>\n",
              "    <tr>\n",
              "      <th>25813</th>\n",
              "      <td>36472.0</td>\n",
              "      <td>37.0</td>\n",
              "      <td>webqem.</td>\n",
              "      <td>327.0</td>\n",
              "      <td>au</td>\n",
              "      <td>2013.0</td>\n",
              "      <td>Neutral Bay</td>\n",
              "      <td>Web Developer</td>\n",
              "      <td>2011.0</td>\n",
              "      <td>25.035422</td>\n",
              "    </tr>\n",
              "    <tr>\n",
              "      <th>3516</th>\n",
              "      <td>4984.0</td>\n",
              "      <td>56.0</td>\n",
              "      <td>wheelyweb</td>\n",
              "      <td>500.0</td>\n",
              "      <td>au</td>\n",
              "      <td>2015.0</td>\n",
              "      <td>Australia</td>\n",
              "      <td>Principal User Experience Consultant</td>\n",
              "      <td>2010.0</td>\n",
              "      <td>64.954106</td>\n",
              "    </tr>\n",
              "    <tr>\n",
              "      <th>22124</th>\n",
              "      <td>31312.0</td>\n",
              "      <td>26.0</td>\n",
              "      <td>ygap</td>\n",
              "      <td>413.0</td>\n",
              "      <td>au</td>\n",
              "      <td>2016.0</td>\n",
              "      <td>Australia</td>\n",
              "      <td>Relationship Manager (Volunteer)</td>\n",
              "      <td>2016.0</td>\n",
              "      <td>4.961087</td>\n",
              "    </tr>\n",
              "    <tr>\n",
              "      <th>15278</th>\n",
              "      <td>21531.0</td>\n",
              "      <td>30.0</td>\n",
              "      <td>zspace</td>\n",
              "      <td>225.0</td>\n",
              "      <td>au</td>\n",
              "      <td>2015.0</td>\n",
              "      <td>Australia</td>\n",
              "      <td>Character Modeller</td>\n",
              "      <td>2015.0</td>\n",
              "      <td>0.000000</td>\n",
              "    </tr>\n",
              "    <tr>\n",
              "      <th>4032</th>\n",
              "      <td>5711.0</td>\n",
              "      <td>28.0</td>\n",
              "      <td>{Studio39}</td>\n",
              "      <td>500.0</td>\n",
              "      <td>au</td>\n",
              "      <td>2016.0</td>\n",
              "      <td>Gold Coast</td>\n",
              "      <td>Cofounder</td>\n",
              "      <td>2014.0</td>\n",
              "      <td>32.066367</td>\n",
              "    </tr>\n",
              "  </tbody>\n",
              "</table>\n",
              "<p>19389 rows × 10 columns</p>\n",
              "</div>"
            ],
            "text/plain": [
              "       profile_id   age  ... start_date  position_duration\n",
              "11567     16108.0  36.0  ...     2009.0          17.018830\n",
              "10566     14721.0  38.0  ...     2010.0          25.035422\n",
              "5215       7281.0  57.0  ...     2007.0          34.990452\n",
              "25249     35683.0  23.0  ...     2017.0           2.004148\n",
              "25248     35682.0  23.0  ...     2017.0           2.004148\n",
              "...           ...   ...  ...        ...                ...\n",
              "25813     36472.0  37.0  ...     2011.0          25.035422\n",
              "3516       4984.0  56.0  ...     2010.0          64.954106\n",
              "22124     31312.0  26.0  ...     2016.0           4.961087\n",
              "15278     21531.0  30.0  ...     2015.0           0.000000\n",
              "4032       5711.0  28.0  ...     2014.0          32.066367\n",
              "\n",
              "[19389 rows x 10 columns]"
            ]
          },
          "metadata": {
            "tags": []
          },
          "execution_count": 27
        }
      ]
    },
    {
      "cell_type": "markdown",
      "metadata": {
        "id": "T6C4yZSgHlfN"
      },
      "source": [
        "### Total Number of Positions Started between 2000 - 2019 - Complete Records\n",
        "Get the number of profiles that fall in this category by finding the number of rows in this selected dataset.\n",
        "\n",
        "Hint: Get the dimensions of the dataframe.\n"
      ]
    },
    {
      "cell_type": "code",
      "metadata": {
        "id": "lpCOGYH2HlfN",
        "outputId": "3588147d-783b-4a6a-caa5-8dfa5ab99723",
        "colab": {
          "base_uri": "https://localhost:8080/",
          "height": 34
        }
      },
      "source": [
        "\"\"\"\n",
        "dataset_between00_19._____\n",
        "\"\"\"\n",
        "dataset_between00_19.shape\n",
        "\n"
      ],
      "execution_count": 28,
      "outputs": [
        {
          "output_type": "execute_result",
          "data": {
            "text/plain": [
              "(19389, 10)"
            ]
          },
          "metadata": {
            "tags": []
          },
          "execution_count": 28
        }
      ]
    },
    {
      "cell_type": "markdown",
      "metadata": {
        "id": "-FN7O5HjN7LL"
      },
      "source": [
        "QUESTION:\n",
        "How many new job positions in this dataset were started between 2000 to 2019?"
      ]
    },
    {
      "cell_type": "markdown",
      "metadata": {
        "id": "yoLMT1SKHlfR"
      },
      "source": [
        "### Visualizing New Jobs during 2000 - 2019"
      ]
    },
    {
      "cell_type": "markdown",
      "metadata": {
        "id": "jR0_yh9FRA_H"
      },
      "source": [
        "Set 1: Graphing By the Company Names.\n",
        "See what companies hired new employees between 2000 to 2019.\n",
        "\n",
        "\n",
        "FIXME: Only limit to several company names, since this is an overwhelming graph"
      ]
    },
    {
      "cell_type": "code",
      "metadata": {
        "id": "ejmvzk-2HlfR",
        "outputId": "731522d2-2263-4a58-f67a-4d41945d46ef",
        "colab": {
          "base_uri": "https://localhost:8080/",
          "height": 833
        }
      },
      "source": [
        "import matplotlib.pyplot as plt\n",
        "import pandas as pd\n",
        "fig = plt.figure(figsize = (20,10))\n",
        "\n",
        "ax1 = fig.add_subplot(2,2,1)\n",
        "ax2 = fig.add_subplot(2,2,2)\n",
        "ax3 = fig.add_subplot(2,2,3)\n",
        "ax4 = fig.add_subplot(2,2,4)\n",
        "\n",
        "#col_1 = dataset_between00_19['company_name'].sum()\n",
        "col_1 = 'position_duration'\n",
        "#col_2 = 'num_connections'\n",
        "\n",
        "col_2 = 'company_name'\n",
        "ax1.scatter(dataset_between00_19[col_1],\n",
        "            dataset_between00_19[col_2],\n",
        "            alpha = 0.4)\n",
        "\n",
        "ax2.scatter(dataset_between00_19[col_2],\n",
        "            dataset_between00_19[col_1],\n",
        "            alpha = 0.4)\n",
        "\n",
        "ax3.bar(\n",
        "    dataset_between00_19[col_1],\n",
        "    dataset_between00_19[col_2],\n",
        "    alpha = 0.4)\n",
        "\n",
        "#ax4.set_ylim(1500,1600)\n",
        "ax4.bar(\n",
        "    dataset_between00_19[col_2],    \n",
        "    dataset_between00_19[col_1],\n",
        "    alpha = 0.4)\n"
      ],
      "execution_count": null,
      "outputs": [
        {
          "output_type": "execute_result",
          "data": {
            "text/plain": [
              "<BarContainer object of 19389 artists>"
            ]
          },
          "metadata": {
            "tags": []
          },
          "execution_count": 37
        },
        {
          "output_type": "stream",
          "text": [
            "Error in callback <function install_repl_displayhook.<locals>.post_execute at 0x7f9ba4570950> (for post_execute):\n"
          ],
          "name": "stdout"
        },
        {
          "output_type": "error",
          "ename": "KeyboardInterrupt",
          "evalue": "ignored",
          "traceback": [
            "\u001b[0;31m---------------------------------------------------------------------------\u001b[0m",
            "\u001b[0;31mKeyboardInterrupt\u001b[0m                         Traceback (most recent call last)",
            "\u001b[0;32m/usr/local/lib/python3.6/dist-packages/matplotlib/pyplot.py\u001b[0m in \u001b[0;36mpost_execute\u001b[0;34m()\u001b[0m\n\u001b[1;32m    107\u001b[0m             \u001b[0;32mdef\u001b[0m \u001b[0mpost_execute\u001b[0m\u001b[0;34m(\u001b[0m\u001b[0;34m)\u001b[0m\u001b[0;34m:\u001b[0m\u001b[0;34m\u001b[0m\u001b[0;34m\u001b[0m\u001b[0m\n\u001b[1;32m    108\u001b[0m                 \u001b[0;32mif\u001b[0m \u001b[0mmatplotlib\u001b[0m\u001b[0;34m.\u001b[0m\u001b[0mis_interactive\u001b[0m\u001b[0;34m(\u001b[0m\u001b[0;34m)\u001b[0m\u001b[0;34m:\u001b[0m\u001b[0;34m\u001b[0m\u001b[0;34m\u001b[0m\u001b[0m\n\u001b[0;32m--> 109\u001b[0;31m                     \u001b[0mdraw_all\u001b[0m\u001b[0;34m(\u001b[0m\u001b[0;34m)\u001b[0m\u001b[0;34m\u001b[0m\u001b[0;34m\u001b[0m\u001b[0m\n\u001b[0m\u001b[1;32m    110\u001b[0m \u001b[0;34m\u001b[0m\u001b[0m\n\u001b[1;32m    111\u001b[0m             \u001b[0;31m# IPython >= 2\u001b[0m\u001b[0;34m\u001b[0m\u001b[0;34m\u001b[0m\u001b[0;34m\u001b[0m\u001b[0m\n",
            "\u001b[0;32m/usr/local/lib/python3.6/dist-packages/matplotlib/_pylab_helpers.py\u001b[0m in \u001b[0;36mdraw_all\u001b[0;34m(cls, force)\u001b[0m\n\u001b[1;32m    125\u001b[0m         \u001b[0;32mfor\u001b[0m \u001b[0mf_mgr\u001b[0m \u001b[0;32min\u001b[0m \u001b[0mcls\u001b[0m\u001b[0;34m.\u001b[0m\u001b[0mget_all_fig_managers\u001b[0m\u001b[0;34m(\u001b[0m\u001b[0;34m)\u001b[0m\u001b[0;34m:\u001b[0m\u001b[0;34m\u001b[0m\u001b[0;34m\u001b[0m\u001b[0m\n\u001b[1;32m    126\u001b[0m             \u001b[0;32mif\u001b[0m \u001b[0mforce\u001b[0m \u001b[0;32mor\u001b[0m \u001b[0mf_mgr\u001b[0m\u001b[0;34m.\u001b[0m\u001b[0mcanvas\u001b[0m\u001b[0;34m.\u001b[0m\u001b[0mfigure\u001b[0m\u001b[0;34m.\u001b[0m\u001b[0mstale\u001b[0m\u001b[0;34m:\u001b[0m\u001b[0;34m\u001b[0m\u001b[0;34m\u001b[0m\u001b[0m\n\u001b[0;32m--> 127\u001b[0;31m                 \u001b[0mf_mgr\u001b[0m\u001b[0;34m.\u001b[0m\u001b[0mcanvas\u001b[0m\u001b[0;34m.\u001b[0m\u001b[0mdraw_idle\u001b[0m\u001b[0;34m(\u001b[0m\u001b[0;34m)\u001b[0m\u001b[0;34m\u001b[0m\u001b[0;34m\u001b[0m\u001b[0m\n\u001b[0m\u001b[1;32m    128\u001b[0m \u001b[0;34m\u001b[0m\u001b[0m\n\u001b[1;32m    129\u001b[0m \u001b[0matexit\u001b[0m\u001b[0;34m.\u001b[0m\u001b[0mregister\u001b[0m\u001b[0;34m(\u001b[0m\u001b[0mGcf\u001b[0m\u001b[0;34m.\u001b[0m\u001b[0mdestroy_all\u001b[0m\u001b[0;34m)\u001b[0m\u001b[0;34m\u001b[0m\u001b[0;34m\u001b[0m\u001b[0m\n",
            "\u001b[0;32m/usr/local/lib/python3.6/dist-packages/matplotlib/backend_bases.py\u001b[0m in \u001b[0;36mdraw_idle\u001b[0;34m(self, *args, **kwargs)\u001b[0m\n\u001b[1;32m   1945\u001b[0m         \u001b[0;32mif\u001b[0m \u001b[0;32mnot\u001b[0m \u001b[0mself\u001b[0m\u001b[0;34m.\u001b[0m\u001b[0m_is_idle_drawing\u001b[0m\u001b[0;34m:\u001b[0m\u001b[0;34m\u001b[0m\u001b[0;34m\u001b[0m\u001b[0m\n\u001b[1;32m   1946\u001b[0m             \u001b[0;32mwith\u001b[0m \u001b[0mself\u001b[0m\u001b[0;34m.\u001b[0m\u001b[0m_idle_draw_cntx\u001b[0m\u001b[0;34m(\u001b[0m\u001b[0;34m)\u001b[0m\u001b[0;34m:\u001b[0m\u001b[0;34m\u001b[0m\u001b[0;34m\u001b[0m\u001b[0m\n\u001b[0;32m-> 1947\u001b[0;31m                 \u001b[0mself\u001b[0m\u001b[0;34m.\u001b[0m\u001b[0mdraw\u001b[0m\u001b[0;34m(\u001b[0m\u001b[0;34m*\u001b[0m\u001b[0margs\u001b[0m\u001b[0;34m,\u001b[0m \u001b[0;34m**\u001b[0m\u001b[0mkwargs\u001b[0m\u001b[0;34m)\u001b[0m\u001b[0;34m\u001b[0m\u001b[0;34m\u001b[0m\u001b[0m\n\u001b[0m\u001b[1;32m   1948\u001b[0m \u001b[0;34m\u001b[0m\u001b[0m\n\u001b[1;32m   1949\u001b[0m     \u001b[0;34m@\u001b[0m\u001b[0mcbook\u001b[0m\u001b[0;34m.\u001b[0m\u001b[0mdeprecated\u001b[0m\u001b[0;34m(\u001b[0m\u001b[0;34m\"3.2\"\u001b[0m\u001b[0;34m)\u001b[0m\u001b[0;34m\u001b[0m\u001b[0;34m\u001b[0m\u001b[0m\n",
            "\u001b[0;32m/usr/local/lib/python3.6/dist-packages/matplotlib/backends/backend_agg.py\u001b[0m in \u001b[0;36mdraw\u001b[0;34m(self)\u001b[0m\n\u001b[1;32m    391\u001b[0m              (self.toolbar._wait_cursor_for_draw_cm() if self.toolbar\n\u001b[1;32m    392\u001b[0m               else nullcontext()):\n\u001b[0;32m--> 393\u001b[0;31m             \u001b[0mself\u001b[0m\u001b[0;34m.\u001b[0m\u001b[0mfigure\u001b[0m\u001b[0;34m.\u001b[0m\u001b[0mdraw\u001b[0m\u001b[0;34m(\u001b[0m\u001b[0mself\u001b[0m\u001b[0;34m.\u001b[0m\u001b[0mrenderer\u001b[0m\u001b[0;34m)\u001b[0m\u001b[0;34m\u001b[0m\u001b[0;34m\u001b[0m\u001b[0m\n\u001b[0m\u001b[1;32m    394\u001b[0m             \u001b[0;31m# A GUI class may be need to update a window using this draw, so\u001b[0m\u001b[0;34m\u001b[0m\u001b[0;34m\u001b[0m\u001b[0;34m\u001b[0m\u001b[0m\n\u001b[1;32m    395\u001b[0m             \u001b[0;31m# don't forget to call the superclass.\u001b[0m\u001b[0;34m\u001b[0m\u001b[0;34m\u001b[0m\u001b[0;34m\u001b[0m\u001b[0m\n",
            "\u001b[0;32m/usr/local/lib/python3.6/dist-packages/matplotlib/artist.py\u001b[0m in \u001b[0;36mdraw_wrapper\u001b[0;34m(artist, renderer, *args, **kwargs)\u001b[0m\n\u001b[1;32m     36\u001b[0m                 \u001b[0mrenderer\u001b[0m\u001b[0;34m.\u001b[0m\u001b[0mstart_filter\u001b[0m\u001b[0;34m(\u001b[0m\u001b[0;34m)\u001b[0m\u001b[0;34m\u001b[0m\u001b[0;34m\u001b[0m\u001b[0m\n\u001b[1;32m     37\u001b[0m \u001b[0;34m\u001b[0m\u001b[0m\n\u001b[0;32m---> 38\u001b[0;31m             \u001b[0;32mreturn\u001b[0m \u001b[0mdraw\u001b[0m\u001b[0;34m(\u001b[0m\u001b[0martist\u001b[0m\u001b[0;34m,\u001b[0m \u001b[0mrenderer\u001b[0m\u001b[0;34m,\u001b[0m \u001b[0;34m*\u001b[0m\u001b[0margs\u001b[0m\u001b[0;34m,\u001b[0m \u001b[0;34m**\u001b[0m\u001b[0mkwargs\u001b[0m\u001b[0;34m)\u001b[0m\u001b[0;34m\u001b[0m\u001b[0;34m\u001b[0m\u001b[0m\n\u001b[0m\u001b[1;32m     39\u001b[0m         \u001b[0;32mfinally\u001b[0m\u001b[0;34m:\u001b[0m\u001b[0;34m\u001b[0m\u001b[0;34m\u001b[0m\u001b[0m\n\u001b[1;32m     40\u001b[0m             \u001b[0;32mif\u001b[0m \u001b[0martist\u001b[0m\u001b[0;34m.\u001b[0m\u001b[0mget_agg_filter\u001b[0m\u001b[0;34m(\u001b[0m\u001b[0;34m)\u001b[0m \u001b[0;32mis\u001b[0m \u001b[0;32mnot\u001b[0m \u001b[0;32mNone\u001b[0m\u001b[0;34m:\u001b[0m\u001b[0;34m\u001b[0m\u001b[0;34m\u001b[0m\u001b[0m\n",
            "\u001b[0;32m/usr/local/lib/python3.6/dist-packages/matplotlib/figure.py\u001b[0m in \u001b[0;36mdraw\u001b[0;34m(self, renderer)\u001b[0m\n\u001b[1;32m   1734\u001b[0m             \u001b[0mself\u001b[0m\u001b[0;34m.\u001b[0m\u001b[0mpatch\u001b[0m\u001b[0;34m.\u001b[0m\u001b[0mdraw\u001b[0m\u001b[0;34m(\u001b[0m\u001b[0mrenderer\u001b[0m\u001b[0;34m)\u001b[0m\u001b[0;34m\u001b[0m\u001b[0;34m\u001b[0m\u001b[0m\n\u001b[1;32m   1735\u001b[0m             mimage._draw_list_compositing_images(\n\u001b[0;32m-> 1736\u001b[0;31m                 renderer, self, artists, self.suppressComposite)\n\u001b[0m\u001b[1;32m   1737\u001b[0m \u001b[0;34m\u001b[0m\u001b[0m\n\u001b[1;32m   1738\u001b[0m             \u001b[0mrenderer\u001b[0m\u001b[0;34m.\u001b[0m\u001b[0mclose_group\u001b[0m\u001b[0;34m(\u001b[0m\u001b[0;34m'figure'\u001b[0m\u001b[0;34m)\u001b[0m\u001b[0;34m\u001b[0m\u001b[0;34m\u001b[0m\u001b[0m\n",
            "\u001b[0;32m/usr/local/lib/python3.6/dist-packages/matplotlib/image.py\u001b[0m in \u001b[0;36m_draw_list_compositing_images\u001b[0;34m(renderer, parent, artists, suppress_composite)\u001b[0m\n\u001b[1;32m    135\u001b[0m     \u001b[0;32mif\u001b[0m \u001b[0mnot_composite\u001b[0m \u001b[0;32mor\u001b[0m \u001b[0;32mnot\u001b[0m \u001b[0mhas_images\u001b[0m\u001b[0;34m:\u001b[0m\u001b[0;34m\u001b[0m\u001b[0;34m\u001b[0m\u001b[0m\n\u001b[1;32m    136\u001b[0m         \u001b[0;32mfor\u001b[0m \u001b[0ma\u001b[0m \u001b[0;32min\u001b[0m \u001b[0martists\u001b[0m\u001b[0;34m:\u001b[0m\u001b[0;34m\u001b[0m\u001b[0;34m\u001b[0m\u001b[0m\n\u001b[0;32m--> 137\u001b[0;31m             \u001b[0ma\u001b[0m\u001b[0;34m.\u001b[0m\u001b[0mdraw\u001b[0m\u001b[0;34m(\u001b[0m\u001b[0mrenderer\u001b[0m\u001b[0;34m)\u001b[0m\u001b[0;34m\u001b[0m\u001b[0;34m\u001b[0m\u001b[0m\n\u001b[0m\u001b[1;32m    138\u001b[0m     \u001b[0;32melse\u001b[0m\u001b[0;34m:\u001b[0m\u001b[0;34m\u001b[0m\u001b[0;34m\u001b[0m\u001b[0m\n\u001b[1;32m    139\u001b[0m         \u001b[0;31m# Composite any adjacent images together\u001b[0m\u001b[0;34m\u001b[0m\u001b[0;34m\u001b[0m\u001b[0;34m\u001b[0m\u001b[0m\n",
            "\u001b[0;32m/usr/local/lib/python3.6/dist-packages/matplotlib/artist.py\u001b[0m in \u001b[0;36mdraw_wrapper\u001b[0;34m(artist, renderer, *args, **kwargs)\u001b[0m\n\u001b[1;32m     36\u001b[0m                 \u001b[0mrenderer\u001b[0m\u001b[0;34m.\u001b[0m\u001b[0mstart_filter\u001b[0m\u001b[0;34m(\u001b[0m\u001b[0;34m)\u001b[0m\u001b[0;34m\u001b[0m\u001b[0;34m\u001b[0m\u001b[0m\n\u001b[1;32m     37\u001b[0m \u001b[0;34m\u001b[0m\u001b[0m\n\u001b[0;32m---> 38\u001b[0;31m             \u001b[0;32mreturn\u001b[0m \u001b[0mdraw\u001b[0m\u001b[0;34m(\u001b[0m\u001b[0martist\u001b[0m\u001b[0;34m,\u001b[0m \u001b[0mrenderer\u001b[0m\u001b[0;34m,\u001b[0m \u001b[0;34m*\u001b[0m\u001b[0margs\u001b[0m\u001b[0;34m,\u001b[0m \u001b[0;34m**\u001b[0m\u001b[0mkwargs\u001b[0m\u001b[0;34m)\u001b[0m\u001b[0;34m\u001b[0m\u001b[0;34m\u001b[0m\u001b[0m\n\u001b[0m\u001b[1;32m     39\u001b[0m         \u001b[0;32mfinally\u001b[0m\u001b[0;34m:\u001b[0m\u001b[0;34m\u001b[0m\u001b[0;34m\u001b[0m\u001b[0m\n\u001b[1;32m     40\u001b[0m             \u001b[0;32mif\u001b[0m \u001b[0martist\u001b[0m\u001b[0;34m.\u001b[0m\u001b[0mget_agg_filter\u001b[0m\u001b[0;34m(\u001b[0m\u001b[0;34m)\u001b[0m \u001b[0;32mis\u001b[0m \u001b[0;32mnot\u001b[0m \u001b[0;32mNone\u001b[0m\u001b[0;34m:\u001b[0m\u001b[0;34m\u001b[0m\u001b[0;34m\u001b[0m\u001b[0m\n",
            "\u001b[0;32m/usr/local/lib/python3.6/dist-packages/matplotlib/axes/_base.py\u001b[0m in \u001b[0;36mdraw\u001b[0;34m(self, renderer, inframe)\u001b[0m\n\u001b[1;32m   2628\u001b[0m             \u001b[0mrenderer\u001b[0m\u001b[0;34m.\u001b[0m\u001b[0mstop_rasterizing\u001b[0m\u001b[0;34m(\u001b[0m\u001b[0;34m)\u001b[0m\u001b[0;34m\u001b[0m\u001b[0;34m\u001b[0m\u001b[0m\n\u001b[1;32m   2629\u001b[0m \u001b[0;34m\u001b[0m\u001b[0m\n\u001b[0;32m-> 2630\u001b[0;31m         \u001b[0mmimage\u001b[0m\u001b[0;34m.\u001b[0m\u001b[0m_draw_list_compositing_images\u001b[0m\u001b[0;34m(\u001b[0m\u001b[0mrenderer\u001b[0m\u001b[0;34m,\u001b[0m \u001b[0mself\u001b[0m\u001b[0;34m,\u001b[0m \u001b[0martists\u001b[0m\u001b[0;34m)\u001b[0m\u001b[0;34m\u001b[0m\u001b[0;34m\u001b[0m\u001b[0m\n\u001b[0m\u001b[1;32m   2631\u001b[0m \u001b[0;34m\u001b[0m\u001b[0m\n\u001b[1;32m   2632\u001b[0m         \u001b[0mrenderer\u001b[0m\u001b[0;34m.\u001b[0m\u001b[0mclose_group\u001b[0m\u001b[0;34m(\u001b[0m\u001b[0;34m'axes'\u001b[0m\u001b[0;34m)\u001b[0m\u001b[0;34m\u001b[0m\u001b[0;34m\u001b[0m\u001b[0m\n",
            "\u001b[0;32m/usr/local/lib/python3.6/dist-packages/matplotlib/image.py\u001b[0m in \u001b[0;36m_draw_list_compositing_images\u001b[0;34m(renderer, parent, artists, suppress_composite)\u001b[0m\n\u001b[1;32m    135\u001b[0m     \u001b[0;32mif\u001b[0m \u001b[0mnot_composite\u001b[0m \u001b[0;32mor\u001b[0m \u001b[0;32mnot\u001b[0m \u001b[0mhas_images\u001b[0m\u001b[0;34m:\u001b[0m\u001b[0;34m\u001b[0m\u001b[0;34m\u001b[0m\u001b[0m\n\u001b[1;32m    136\u001b[0m         \u001b[0;32mfor\u001b[0m \u001b[0ma\u001b[0m \u001b[0;32min\u001b[0m \u001b[0martists\u001b[0m\u001b[0;34m:\u001b[0m\u001b[0;34m\u001b[0m\u001b[0;34m\u001b[0m\u001b[0m\n\u001b[0;32m--> 137\u001b[0;31m             \u001b[0ma\u001b[0m\u001b[0;34m.\u001b[0m\u001b[0mdraw\u001b[0m\u001b[0;34m(\u001b[0m\u001b[0mrenderer\u001b[0m\u001b[0;34m)\u001b[0m\u001b[0;34m\u001b[0m\u001b[0;34m\u001b[0m\u001b[0m\n\u001b[0m\u001b[1;32m    138\u001b[0m     \u001b[0;32melse\u001b[0m\u001b[0;34m:\u001b[0m\u001b[0;34m\u001b[0m\u001b[0;34m\u001b[0m\u001b[0m\n\u001b[1;32m    139\u001b[0m         \u001b[0;31m# Composite any adjacent images together\u001b[0m\u001b[0;34m\u001b[0m\u001b[0;34m\u001b[0m\u001b[0;34m\u001b[0m\u001b[0m\n",
            "\u001b[0;32m/usr/local/lib/python3.6/dist-packages/matplotlib/artist.py\u001b[0m in \u001b[0;36mdraw_wrapper\u001b[0;34m(artist, renderer, *args, **kwargs)\u001b[0m\n\u001b[1;32m     36\u001b[0m                 \u001b[0mrenderer\u001b[0m\u001b[0;34m.\u001b[0m\u001b[0mstart_filter\u001b[0m\u001b[0;34m(\u001b[0m\u001b[0;34m)\u001b[0m\u001b[0;34m\u001b[0m\u001b[0;34m\u001b[0m\u001b[0m\n\u001b[1;32m     37\u001b[0m \u001b[0;34m\u001b[0m\u001b[0m\n\u001b[0;32m---> 38\u001b[0;31m             \u001b[0;32mreturn\u001b[0m \u001b[0mdraw\u001b[0m\u001b[0;34m(\u001b[0m\u001b[0martist\u001b[0m\u001b[0;34m,\u001b[0m \u001b[0mrenderer\u001b[0m\u001b[0;34m,\u001b[0m \u001b[0;34m*\u001b[0m\u001b[0margs\u001b[0m\u001b[0;34m,\u001b[0m \u001b[0;34m**\u001b[0m\u001b[0mkwargs\u001b[0m\u001b[0;34m)\u001b[0m\u001b[0;34m\u001b[0m\u001b[0;34m\u001b[0m\u001b[0m\n\u001b[0m\u001b[1;32m     39\u001b[0m         \u001b[0;32mfinally\u001b[0m\u001b[0;34m:\u001b[0m\u001b[0;34m\u001b[0m\u001b[0;34m\u001b[0m\u001b[0m\n\u001b[1;32m     40\u001b[0m             \u001b[0;32mif\u001b[0m \u001b[0martist\u001b[0m\u001b[0;34m.\u001b[0m\u001b[0mget_agg_filter\u001b[0m\u001b[0;34m(\u001b[0m\u001b[0;34m)\u001b[0m \u001b[0;32mis\u001b[0m \u001b[0;32mnot\u001b[0m \u001b[0;32mNone\u001b[0m\u001b[0;34m:\u001b[0m\u001b[0;34m\u001b[0m\u001b[0;34m\u001b[0m\u001b[0m\n",
            "\u001b[0;32m/usr/local/lib/python3.6/dist-packages/matplotlib/axis.py\u001b[0m in \u001b[0;36mdraw\u001b[0;34m(self, renderer, *args, **kwargs)\u001b[0m\n\u001b[1;32m   1230\u001b[0m \u001b[0;34m\u001b[0m\u001b[0m\n\u001b[1;32m   1231\u001b[0m         \u001b[0;32mfor\u001b[0m \u001b[0mtick\u001b[0m \u001b[0;32min\u001b[0m \u001b[0mticks_to_draw\u001b[0m\u001b[0;34m:\u001b[0m\u001b[0;34m\u001b[0m\u001b[0;34m\u001b[0m\u001b[0m\n\u001b[0;32m-> 1232\u001b[0;31m             \u001b[0mtick\u001b[0m\u001b[0;34m.\u001b[0m\u001b[0mdraw\u001b[0m\u001b[0;34m(\u001b[0m\u001b[0mrenderer\u001b[0m\u001b[0;34m)\u001b[0m\u001b[0;34m\u001b[0m\u001b[0;34m\u001b[0m\u001b[0m\n\u001b[0m\u001b[1;32m   1233\u001b[0m \u001b[0;34m\u001b[0m\u001b[0m\n\u001b[1;32m   1234\u001b[0m         \u001b[0;31m# scale up the axis label box to also find the neighbors, not\u001b[0m\u001b[0;34m\u001b[0m\u001b[0;34m\u001b[0m\u001b[0;34m\u001b[0m\u001b[0m\n",
            "\u001b[0;32m/usr/local/lib/python3.6/dist-packages/matplotlib/artist.py\u001b[0m in \u001b[0;36mdraw_wrapper\u001b[0;34m(artist, renderer, *args, **kwargs)\u001b[0m\n\u001b[1;32m     36\u001b[0m                 \u001b[0mrenderer\u001b[0m\u001b[0;34m.\u001b[0m\u001b[0mstart_filter\u001b[0m\u001b[0;34m(\u001b[0m\u001b[0;34m)\u001b[0m\u001b[0;34m\u001b[0m\u001b[0;34m\u001b[0m\u001b[0m\n\u001b[1;32m     37\u001b[0m \u001b[0;34m\u001b[0m\u001b[0m\n\u001b[0;32m---> 38\u001b[0;31m             \u001b[0;32mreturn\u001b[0m \u001b[0mdraw\u001b[0m\u001b[0;34m(\u001b[0m\u001b[0martist\u001b[0m\u001b[0;34m,\u001b[0m \u001b[0mrenderer\u001b[0m\u001b[0;34m,\u001b[0m \u001b[0;34m*\u001b[0m\u001b[0margs\u001b[0m\u001b[0;34m,\u001b[0m \u001b[0;34m**\u001b[0m\u001b[0mkwargs\u001b[0m\u001b[0;34m)\u001b[0m\u001b[0;34m\u001b[0m\u001b[0;34m\u001b[0m\u001b[0m\n\u001b[0m\u001b[1;32m     39\u001b[0m         \u001b[0;32mfinally\u001b[0m\u001b[0;34m:\u001b[0m\u001b[0;34m\u001b[0m\u001b[0;34m\u001b[0m\u001b[0m\n\u001b[1;32m     40\u001b[0m             \u001b[0;32mif\u001b[0m \u001b[0martist\u001b[0m\u001b[0;34m.\u001b[0m\u001b[0mget_agg_filter\u001b[0m\u001b[0;34m(\u001b[0m\u001b[0;34m)\u001b[0m \u001b[0;32mis\u001b[0m \u001b[0;32mnot\u001b[0m \u001b[0;32mNone\u001b[0m\u001b[0;34m:\u001b[0m\u001b[0;34m\u001b[0m\u001b[0;34m\u001b[0m\u001b[0m\n",
            "\u001b[0;32m/usr/local/lib/python3.6/dist-packages/matplotlib/axis.py\u001b[0m in \u001b[0;36mdraw\u001b[0;34m(self, renderer)\u001b[0m\n\u001b[1;32m    295\u001b[0m         for artist in [self.gridline, self.tick1line, self.tick2line,\n\u001b[1;32m    296\u001b[0m                        self.label1, self.label2]:\n\u001b[0;32m--> 297\u001b[0;31m             \u001b[0martist\u001b[0m\u001b[0;34m.\u001b[0m\u001b[0mdraw\u001b[0m\u001b[0;34m(\u001b[0m\u001b[0mrenderer\u001b[0m\u001b[0;34m)\u001b[0m\u001b[0;34m\u001b[0m\u001b[0;34m\u001b[0m\u001b[0m\n\u001b[0m\u001b[1;32m    298\u001b[0m         \u001b[0mrenderer\u001b[0m\u001b[0;34m.\u001b[0m\u001b[0mclose_group\u001b[0m\u001b[0;34m(\u001b[0m\u001b[0mself\u001b[0m\u001b[0;34m.\u001b[0m\u001b[0m__name__\u001b[0m\u001b[0;34m)\u001b[0m\u001b[0;34m\u001b[0m\u001b[0;34m\u001b[0m\u001b[0m\n\u001b[1;32m    299\u001b[0m         \u001b[0mself\u001b[0m\u001b[0;34m.\u001b[0m\u001b[0mstale\u001b[0m \u001b[0;34m=\u001b[0m \u001b[0;32mFalse\u001b[0m\u001b[0;34m\u001b[0m\u001b[0;34m\u001b[0m\u001b[0m\n",
            "\u001b[0;32m/usr/local/lib/python3.6/dist-packages/matplotlib/artist.py\u001b[0m in \u001b[0;36mdraw_wrapper\u001b[0;34m(artist, renderer, *args, **kwargs)\u001b[0m\n\u001b[1;32m     36\u001b[0m                 \u001b[0mrenderer\u001b[0m\u001b[0;34m.\u001b[0m\u001b[0mstart_filter\u001b[0m\u001b[0;34m(\u001b[0m\u001b[0;34m)\u001b[0m\u001b[0;34m\u001b[0m\u001b[0;34m\u001b[0m\u001b[0m\n\u001b[1;32m     37\u001b[0m \u001b[0;34m\u001b[0m\u001b[0m\n\u001b[0;32m---> 38\u001b[0;31m             \u001b[0;32mreturn\u001b[0m \u001b[0mdraw\u001b[0m\u001b[0;34m(\u001b[0m\u001b[0martist\u001b[0m\u001b[0;34m,\u001b[0m \u001b[0mrenderer\u001b[0m\u001b[0;34m,\u001b[0m \u001b[0;34m*\u001b[0m\u001b[0margs\u001b[0m\u001b[0;34m,\u001b[0m \u001b[0;34m**\u001b[0m\u001b[0mkwargs\u001b[0m\u001b[0;34m)\u001b[0m\u001b[0;34m\u001b[0m\u001b[0;34m\u001b[0m\u001b[0m\n\u001b[0m\u001b[1;32m     39\u001b[0m         \u001b[0;32mfinally\u001b[0m\u001b[0;34m:\u001b[0m\u001b[0;34m\u001b[0m\u001b[0;34m\u001b[0m\u001b[0m\n\u001b[1;32m     40\u001b[0m             \u001b[0;32mif\u001b[0m \u001b[0martist\u001b[0m\u001b[0;34m.\u001b[0m\u001b[0mget_agg_filter\u001b[0m\u001b[0;34m(\u001b[0m\u001b[0;34m)\u001b[0m \u001b[0;32mis\u001b[0m \u001b[0;32mnot\u001b[0m \u001b[0;32mNone\u001b[0m\u001b[0;34m:\u001b[0m\u001b[0;34m\u001b[0m\u001b[0;34m\u001b[0m\u001b[0m\n",
            "\u001b[0;32m/usr/local/lib/python3.6/dist-packages/matplotlib/lines.py\u001b[0m in \u001b[0;36mdraw\u001b[0;34m(self, renderer)\u001b[0m\n\u001b[1;32m    838\u001b[0m                                     .get_transformed_points_and_affine())\n\u001b[1;32m    839\u001b[0m             \u001b[0;32melse\u001b[0m\u001b[0;34m:\u001b[0m\u001b[0;34m\u001b[0m\u001b[0;34m\u001b[0m\u001b[0m\n\u001b[0;32m--> 840\u001b[0;31m                 tpath, affine = (self._get_transformed_path()\n\u001b[0m\u001b[1;32m    841\u001b[0m                                  .get_transformed_points_and_affine())\n\u001b[1;32m    842\u001b[0m \u001b[0;34m\u001b[0m\u001b[0m\n",
            "\u001b[0;32m/usr/local/lib/python3.6/dist-packages/matplotlib/transforms.py\u001b[0m in \u001b[0;36mget_transformed_points_and_affine\u001b[0;34m(self)\u001b[0m\n\u001b[1;32m   2715\u001b[0m         \u001b[0mbe\u001b[0m \u001b[0mperformed\u001b[0m\u001b[0;34m.\u001b[0m\u001b[0;34m\u001b[0m\u001b[0;34m\u001b[0m\u001b[0m\n\u001b[1;32m   2716\u001b[0m         \"\"\"\n\u001b[0;32m-> 2717\u001b[0;31m         \u001b[0mself\u001b[0m\u001b[0;34m.\u001b[0m\u001b[0m_revalidate\u001b[0m\u001b[0;34m(\u001b[0m\u001b[0;34m)\u001b[0m\u001b[0;34m\u001b[0m\u001b[0;34m\u001b[0m\u001b[0m\n\u001b[0m\u001b[1;32m   2718\u001b[0m         \u001b[0;32mreturn\u001b[0m \u001b[0mself\u001b[0m\u001b[0;34m.\u001b[0m\u001b[0m_transformed_points\u001b[0m\u001b[0;34m,\u001b[0m \u001b[0mself\u001b[0m\u001b[0;34m.\u001b[0m\u001b[0mget_affine\u001b[0m\u001b[0;34m(\u001b[0m\u001b[0;34m)\u001b[0m\u001b[0;34m\u001b[0m\u001b[0;34m\u001b[0m\u001b[0m\n\u001b[1;32m   2719\u001b[0m \u001b[0;34m\u001b[0m\u001b[0m\n",
            "\u001b[0;32m/usr/local/lib/python3.6/dist-packages/matplotlib/transforms.py\u001b[0m in \u001b[0;36m_revalidate\u001b[0;34m(self)\u001b[0m\n\u001b[1;32m   2700\u001b[0m             or self._transformed_path is None):\n\u001b[1;32m   2701\u001b[0m             \u001b[0mself\u001b[0m\u001b[0;34m.\u001b[0m\u001b[0m_transformed_path\u001b[0m \u001b[0;34m=\u001b[0m\u001b[0;31m \u001b[0m\u001b[0;31m\\\u001b[0m\u001b[0;34m\u001b[0m\u001b[0;34m\u001b[0m\u001b[0m\n\u001b[0;32m-> 2702\u001b[0;31m                 \u001b[0mself\u001b[0m\u001b[0;34m.\u001b[0m\u001b[0m_transform\u001b[0m\u001b[0;34m.\u001b[0m\u001b[0mtransform_path_non_affine\u001b[0m\u001b[0;34m(\u001b[0m\u001b[0mself\u001b[0m\u001b[0;34m.\u001b[0m\u001b[0m_path\u001b[0m\u001b[0;34m)\u001b[0m\u001b[0;34m\u001b[0m\u001b[0;34m\u001b[0m\u001b[0m\n\u001b[0m\u001b[1;32m   2703\u001b[0m             \u001b[0mself\u001b[0m\u001b[0;34m.\u001b[0m\u001b[0m_transformed_points\u001b[0m \u001b[0;34m=\u001b[0m\u001b[0;31m \u001b[0m\u001b[0;31m\\\u001b[0m\u001b[0;34m\u001b[0m\u001b[0;34m\u001b[0m\u001b[0m\n\u001b[1;32m   2704\u001b[0m                 Path._fast_from_codes_and_verts(\n",
            "\u001b[0;32m/usr/local/lib/python3.6/dist-packages/matplotlib/transforms.py\u001b[0m in \u001b[0;36mtransform_path_non_affine\u001b[0;34m(self, path)\u001b[0m\n\u001b[1;32m   1541\u001b[0m         \"\"\"\n\u001b[1;32m   1542\u001b[0m         \u001b[0mx\u001b[0m \u001b[0;34m=\u001b[0m \u001b[0mself\u001b[0m\u001b[0;34m.\u001b[0m\u001b[0mtransform_non_affine\u001b[0m\u001b[0;34m(\u001b[0m\u001b[0mpath\u001b[0m\u001b[0;34m.\u001b[0m\u001b[0mvertices\u001b[0m\u001b[0;34m)\u001b[0m\u001b[0;34m\u001b[0m\u001b[0;34m\u001b[0m\u001b[0m\n\u001b[0;32m-> 1543\u001b[0;31m         \u001b[0;32mreturn\u001b[0m \u001b[0mPath\u001b[0m\u001b[0;34m.\u001b[0m\u001b[0m_fast_from_codes_and_verts\u001b[0m\u001b[0;34m(\u001b[0m\u001b[0mx\u001b[0m\u001b[0;34m,\u001b[0m \u001b[0mpath\u001b[0m\u001b[0;34m.\u001b[0m\u001b[0mcodes\u001b[0m\u001b[0;34m,\u001b[0m \u001b[0mpath\u001b[0m\u001b[0;34m)\u001b[0m\u001b[0;34m\u001b[0m\u001b[0;34m\u001b[0m\u001b[0m\n\u001b[0m\u001b[1;32m   1544\u001b[0m \u001b[0;34m\u001b[0m\u001b[0m\n\u001b[1;32m   1545\u001b[0m     \u001b[0;32mdef\u001b[0m \u001b[0mtransform_angles\u001b[0m\u001b[0;34m(\u001b[0m\u001b[0mself\u001b[0m\u001b[0;34m,\u001b[0m \u001b[0mangles\u001b[0m\u001b[0;34m,\u001b[0m \u001b[0mpts\u001b[0m\u001b[0;34m,\u001b[0m \u001b[0mradians\u001b[0m\u001b[0;34m=\u001b[0m\u001b[0;32mFalse\u001b[0m\u001b[0;34m,\u001b[0m \u001b[0mpushoff\u001b[0m\u001b[0;34m=\u001b[0m\u001b[0;36m1e-5\u001b[0m\u001b[0;34m)\u001b[0m\u001b[0;34m:\u001b[0m\u001b[0;34m\u001b[0m\u001b[0;34m\u001b[0m\u001b[0m\n",
            "\u001b[0;32m/usr/local/lib/python3.6/dist-packages/matplotlib/path.py\u001b[0m in \u001b[0;36m_fast_from_codes_and_verts\u001b[0;34m(cls, verts, codes, internals_from)\u001b[0m\n\u001b[1;32m    173\u001b[0m         \"\"\"\n\u001b[1;32m    174\u001b[0m         \u001b[0mpth\u001b[0m \u001b[0;34m=\u001b[0m \u001b[0mcls\u001b[0m\u001b[0;34m.\u001b[0m\u001b[0m__new__\u001b[0m\u001b[0;34m(\u001b[0m\u001b[0mcls\u001b[0m\u001b[0;34m)\u001b[0m\u001b[0;34m\u001b[0m\u001b[0;34m\u001b[0m\u001b[0m\n\u001b[0;32m--> 175\u001b[0;31m         \u001b[0mpth\u001b[0m\u001b[0;34m.\u001b[0m\u001b[0m_vertices\u001b[0m \u001b[0;34m=\u001b[0m \u001b[0m_to_unmasked_float_array\u001b[0m\u001b[0;34m(\u001b[0m\u001b[0mverts\u001b[0m\u001b[0;34m)\u001b[0m\u001b[0;34m\u001b[0m\u001b[0;34m\u001b[0m\u001b[0m\n\u001b[0m\u001b[1;32m    176\u001b[0m         \u001b[0mpth\u001b[0m\u001b[0;34m.\u001b[0m\u001b[0m_codes\u001b[0m \u001b[0;34m=\u001b[0m \u001b[0mcodes\u001b[0m\u001b[0;34m\u001b[0m\u001b[0;34m\u001b[0m\u001b[0m\n\u001b[1;32m    177\u001b[0m         \u001b[0mpth\u001b[0m\u001b[0;34m.\u001b[0m\u001b[0m_readonly\u001b[0m \u001b[0;34m=\u001b[0m \u001b[0;32mFalse\u001b[0m\u001b[0;34m\u001b[0m\u001b[0;34m\u001b[0m\u001b[0m\n",
            "\u001b[0;32m/usr/local/lib/python3.6/dist-packages/matplotlib/cbook/__init__.py\u001b[0m in \u001b[0;36m_to_unmasked_float_array\u001b[0;34m(x)\u001b[0m\n\u001b[1;32m   1315\u001b[0m         \u001b[0;32mreturn\u001b[0m \u001b[0mnp\u001b[0m\u001b[0;34m.\u001b[0m\u001b[0mma\u001b[0m\u001b[0;34m.\u001b[0m\u001b[0masarray\u001b[0m\u001b[0;34m(\u001b[0m\u001b[0mx\u001b[0m\u001b[0;34m,\u001b[0m \u001b[0mfloat\u001b[0m\u001b[0;34m)\u001b[0m\u001b[0;34m.\u001b[0m\u001b[0mfilled\u001b[0m\u001b[0;34m(\u001b[0m\u001b[0mnp\u001b[0m\u001b[0;34m.\u001b[0m\u001b[0mnan\u001b[0m\u001b[0;34m)\u001b[0m\u001b[0;34m\u001b[0m\u001b[0;34m\u001b[0m\u001b[0m\n\u001b[1;32m   1316\u001b[0m     \u001b[0;32melse\u001b[0m\u001b[0;34m:\u001b[0m\u001b[0;34m\u001b[0m\u001b[0;34m\u001b[0m\u001b[0m\n\u001b[0;32m-> 1317\u001b[0;31m         \u001b[0;32mreturn\u001b[0m \u001b[0mnp\u001b[0m\u001b[0;34m.\u001b[0m\u001b[0masarray\u001b[0m\u001b[0;34m(\u001b[0m\u001b[0mx\u001b[0m\u001b[0;34m,\u001b[0m \u001b[0mfloat\u001b[0m\u001b[0;34m)\u001b[0m\u001b[0;34m\u001b[0m\u001b[0;34m\u001b[0m\u001b[0m\n\u001b[0m\u001b[1;32m   1318\u001b[0m \u001b[0;34m\u001b[0m\u001b[0m\n\u001b[1;32m   1319\u001b[0m \u001b[0;34m\u001b[0m\u001b[0m\n",
            "\u001b[0;32m/usr/local/lib/python3.6/dist-packages/numpy/core/_asarray.py\u001b[0m in \u001b[0;36masarray\u001b[0;34m(a, dtype, order)\u001b[0m\n\u001b[1;32m     14\u001b[0m ]\n\u001b[1;32m     15\u001b[0m \u001b[0;34m\u001b[0m\u001b[0m\n\u001b[0;32m---> 16\u001b[0;31m \u001b[0;34m@\u001b[0m\u001b[0mset_module\u001b[0m\u001b[0;34m(\u001b[0m\u001b[0;34m'numpy'\u001b[0m\u001b[0;34m)\u001b[0m\u001b[0;34m\u001b[0m\u001b[0;34m\u001b[0m\u001b[0m\n\u001b[0m\u001b[1;32m     17\u001b[0m \u001b[0;32mdef\u001b[0m \u001b[0masarray\u001b[0m\u001b[0;34m(\u001b[0m\u001b[0ma\u001b[0m\u001b[0;34m,\u001b[0m \u001b[0mdtype\u001b[0m\u001b[0;34m=\u001b[0m\u001b[0;32mNone\u001b[0m\u001b[0;34m,\u001b[0m \u001b[0morder\u001b[0m\u001b[0;34m=\u001b[0m\u001b[0;32mNone\u001b[0m\u001b[0;34m)\u001b[0m\u001b[0;34m:\u001b[0m\u001b[0;34m\u001b[0m\u001b[0;34m\u001b[0m\u001b[0m\n\u001b[1;32m     18\u001b[0m     \"\"\"Convert the input to an array.\n",
            "\u001b[0;31mKeyboardInterrupt\u001b[0m: "
          ]
        },
        {
          "output_type": "stream",
          "text": [
            "Error in callback <function flush_figures at 0x7f9ba429cea0> (for post_execute):\n"
          ],
          "name": "stdout"
        },
        {
          "output_type": "error",
          "ename": "KeyboardInterrupt",
          "evalue": "ignored",
          "traceback": [
            "\u001b[0;31m---------------------------------------------------------------------------\u001b[0m",
            "\u001b[0;31mKeyboardInterrupt\u001b[0m                         Traceback (most recent call last)",
            "\u001b[0;32m/usr/local/lib/python3.6/dist-packages/ipykernel/pylab/backend_inline.py\u001b[0m in \u001b[0;36mflush_figures\u001b[0;34m()\u001b[0m\n\u001b[1;32m    115\u001b[0m         \u001b[0;31m# ignore the tracking, just draw and close all figures\u001b[0m\u001b[0;34m\u001b[0m\u001b[0;34m\u001b[0m\u001b[0;34m\u001b[0m\u001b[0m\n\u001b[1;32m    116\u001b[0m         \u001b[0;32mtry\u001b[0m\u001b[0;34m:\u001b[0m\u001b[0;34m\u001b[0m\u001b[0;34m\u001b[0m\u001b[0m\n\u001b[0;32m--> 117\u001b[0;31m             \u001b[0;32mreturn\u001b[0m \u001b[0mshow\u001b[0m\u001b[0;34m(\u001b[0m\u001b[0;32mTrue\u001b[0m\u001b[0;34m)\u001b[0m\u001b[0;34m\u001b[0m\u001b[0;34m\u001b[0m\u001b[0m\n\u001b[0m\u001b[1;32m    118\u001b[0m         \u001b[0;32mexcept\u001b[0m \u001b[0mException\u001b[0m \u001b[0;32mas\u001b[0m \u001b[0me\u001b[0m\u001b[0;34m:\u001b[0m\u001b[0;34m\u001b[0m\u001b[0;34m\u001b[0m\u001b[0m\n\u001b[1;32m    119\u001b[0m             \u001b[0;31m# safely show traceback if in IPython, else raise\u001b[0m\u001b[0;34m\u001b[0m\u001b[0;34m\u001b[0m\u001b[0;34m\u001b[0m\u001b[0m\n",
            "\u001b[0;32m/usr/local/lib/python3.6/dist-packages/ipykernel/pylab/backend_inline.py\u001b[0m in \u001b[0;36mshow\u001b[0;34m(close, block)\u001b[0m\n\u001b[1;32m     37\u001b[0m             display(\n\u001b[1;32m     38\u001b[0m                 \u001b[0mfigure_manager\u001b[0m\u001b[0;34m.\u001b[0m\u001b[0mcanvas\u001b[0m\u001b[0;34m.\u001b[0m\u001b[0mfigure\u001b[0m\u001b[0;34m,\u001b[0m\u001b[0;34m\u001b[0m\u001b[0;34m\u001b[0m\u001b[0m\n\u001b[0;32m---> 39\u001b[0;31m                 \u001b[0mmetadata\u001b[0m\u001b[0;34m=\u001b[0m\u001b[0m_fetch_figure_metadata\u001b[0m\u001b[0;34m(\u001b[0m\u001b[0mfigure_manager\u001b[0m\u001b[0;34m.\u001b[0m\u001b[0mcanvas\u001b[0m\u001b[0;34m.\u001b[0m\u001b[0mfigure\u001b[0m\u001b[0;34m)\u001b[0m\u001b[0;34m\u001b[0m\u001b[0;34m\u001b[0m\u001b[0m\n\u001b[0m\u001b[1;32m     40\u001b[0m             )\n\u001b[1;32m     41\u001b[0m     \u001b[0;32mfinally\u001b[0m\u001b[0;34m:\u001b[0m\u001b[0;34m\u001b[0m\u001b[0;34m\u001b[0m\u001b[0m\n",
            "\u001b[0;32m/usr/local/lib/python3.6/dist-packages/ipykernel/pylab/backend_inline.py\u001b[0m in \u001b[0;36m_fetch_figure_metadata\u001b[0;34m(fig)\u001b[0m\n\u001b[1;32m    175\u001b[0m         \u001b[0;31m# the background is transparent\u001b[0m\u001b[0;34m\u001b[0m\u001b[0;34m\u001b[0m\u001b[0;34m\u001b[0m\u001b[0m\n\u001b[1;32m    176\u001b[0m         ticksLight = _is_light([label.get_color()\n\u001b[0;32m--> 177\u001b[0;31m                                 \u001b[0;32mfor\u001b[0m \u001b[0maxes\u001b[0m \u001b[0;32min\u001b[0m \u001b[0mfig\u001b[0m\u001b[0;34m.\u001b[0m\u001b[0maxes\u001b[0m\u001b[0;34m\u001b[0m\u001b[0;34m\u001b[0m\u001b[0m\n\u001b[0m\u001b[1;32m    178\u001b[0m                                 \u001b[0;32mfor\u001b[0m \u001b[0maxis\u001b[0m \u001b[0;32min\u001b[0m \u001b[0;34m(\u001b[0m\u001b[0maxes\u001b[0m\u001b[0;34m.\u001b[0m\u001b[0mxaxis\u001b[0m\u001b[0;34m,\u001b[0m \u001b[0maxes\u001b[0m\u001b[0;34m.\u001b[0m\u001b[0myaxis\u001b[0m\u001b[0;34m)\u001b[0m\u001b[0;34m\u001b[0m\u001b[0;34m\u001b[0m\u001b[0m\n\u001b[1;32m    179\u001b[0m                                 for label in axis.get_ticklabels()])\n",
            "\u001b[0;32m/usr/local/lib/python3.6/dist-packages/ipykernel/pylab/backend_inline.py\u001b[0m in \u001b[0;36m<listcomp>\u001b[0;34m(.0)\u001b[0m\n\u001b[1;32m    177\u001b[0m                                 \u001b[0;32mfor\u001b[0m \u001b[0maxes\u001b[0m \u001b[0;32min\u001b[0m \u001b[0mfig\u001b[0m\u001b[0;34m.\u001b[0m\u001b[0maxes\u001b[0m\u001b[0;34m\u001b[0m\u001b[0;34m\u001b[0m\u001b[0m\n\u001b[1;32m    178\u001b[0m                                 \u001b[0;32mfor\u001b[0m \u001b[0maxis\u001b[0m \u001b[0;32min\u001b[0m \u001b[0;34m(\u001b[0m\u001b[0maxes\u001b[0m\u001b[0;34m.\u001b[0m\u001b[0mxaxis\u001b[0m\u001b[0;34m,\u001b[0m \u001b[0maxes\u001b[0m\u001b[0;34m.\u001b[0m\u001b[0myaxis\u001b[0m\u001b[0;34m)\u001b[0m\u001b[0;34m\u001b[0m\u001b[0;34m\u001b[0m\u001b[0m\n\u001b[0;32m--> 179\u001b[0;31m                                 for label in axis.get_ticklabels()])\n\u001b[0m\u001b[1;32m    180\u001b[0m         \u001b[0;32mif\u001b[0m \u001b[0mticksLight\u001b[0m\u001b[0;34m.\u001b[0m\u001b[0msize\u001b[0m \u001b[0;32mand\u001b[0m \u001b[0;34m(\u001b[0m\u001b[0mticksLight\u001b[0m \u001b[0;34m==\u001b[0m \u001b[0mticksLight\u001b[0m\u001b[0;34m[\u001b[0m\u001b[0;36m0\u001b[0m\u001b[0;34m]\u001b[0m\u001b[0;34m)\u001b[0m\u001b[0;34m.\u001b[0m\u001b[0mall\u001b[0m\u001b[0;34m(\u001b[0m\u001b[0;34m)\u001b[0m\u001b[0;34m:\u001b[0m\u001b[0;34m\u001b[0m\u001b[0;34m\u001b[0m\u001b[0m\n\u001b[1;32m    181\u001b[0m             \u001b[0;31m# there are one or more tick labels, all with the same lightness\u001b[0m\u001b[0;34m\u001b[0m\u001b[0;34m\u001b[0m\u001b[0;34m\u001b[0m\u001b[0m\n",
            "\u001b[0;32m/usr/local/lib/python3.6/dist-packages/matplotlib/axis.py\u001b[0m in \u001b[0;36mget_ticklabels\u001b[0;34m(self, minor, which)\u001b[0m\n\u001b[1;32m   1318\u001b[0m         \u001b[0;32mif\u001b[0m \u001b[0mminor\u001b[0m\u001b[0;34m:\u001b[0m\u001b[0;34m\u001b[0m\u001b[0;34m\u001b[0m\u001b[0m\n\u001b[1;32m   1319\u001b[0m             \u001b[0;32mreturn\u001b[0m \u001b[0mself\u001b[0m\u001b[0;34m.\u001b[0m\u001b[0mget_minorticklabels\u001b[0m\u001b[0;34m(\u001b[0m\u001b[0;34m)\u001b[0m\u001b[0;34m\u001b[0m\u001b[0;34m\u001b[0m\u001b[0m\n\u001b[0;32m-> 1320\u001b[0;31m         \u001b[0;32mreturn\u001b[0m \u001b[0mself\u001b[0m\u001b[0;34m.\u001b[0m\u001b[0mget_majorticklabels\u001b[0m\u001b[0;34m(\u001b[0m\u001b[0;34m)\u001b[0m\u001b[0;34m\u001b[0m\u001b[0;34m\u001b[0m\u001b[0m\n\u001b[0m\u001b[1;32m   1321\u001b[0m \u001b[0;34m\u001b[0m\u001b[0m\n\u001b[1;32m   1322\u001b[0m     \u001b[0;32mdef\u001b[0m \u001b[0mget_majorticklines\u001b[0m\u001b[0;34m(\u001b[0m\u001b[0mself\u001b[0m\u001b[0;34m)\u001b[0m\u001b[0;34m:\u001b[0m\u001b[0;34m\u001b[0m\u001b[0;34m\u001b[0m\u001b[0m\n",
            "\u001b[0;32m/usr/local/lib/python3.6/dist-packages/matplotlib/axis.py\u001b[0m in \u001b[0;36mget_majorticklabels\u001b[0;34m(self)\u001b[0m\n\u001b[1;32m   1274\u001b[0m     \u001b[0;32mdef\u001b[0m \u001b[0mget_majorticklabels\u001b[0m\u001b[0;34m(\u001b[0m\u001b[0mself\u001b[0m\u001b[0;34m)\u001b[0m\u001b[0;34m:\u001b[0m\u001b[0;34m\u001b[0m\u001b[0;34m\u001b[0m\u001b[0m\n\u001b[1;32m   1275\u001b[0m         \u001b[0;34m'Return a list of Text instances for the major ticklabels.'\u001b[0m\u001b[0;34m\u001b[0m\u001b[0;34m\u001b[0m\u001b[0m\n\u001b[0;32m-> 1276\u001b[0;31m         \u001b[0mticks\u001b[0m \u001b[0;34m=\u001b[0m \u001b[0mself\u001b[0m\u001b[0;34m.\u001b[0m\u001b[0mget_major_ticks\u001b[0m\u001b[0;34m(\u001b[0m\u001b[0;34m)\u001b[0m\u001b[0;34m\u001b[0m\u001b[0;34m\u001b[0m\u001b[0m\n\u001b[0m\u001b[1;32m   1277\u001b[0m         \u001b[0mlabels1\u001b[0m \u001b[0;34m=\u001b[0m \u001b[0;34m[\u001b[0m\u001b[0mtick\u001b[0m\u001b[0;34m.\u001b[0m\u001b[0mlabel1\u001b[0m \u001b[0;32mfor\u001b[0m \u001b[0mtick\u001b[0m \u001b[0;32min\u001b[0m \u001b[0mticks\u001b[0m \u001b[0;32mif\u001b[0m \u001b[0mtick\u001b[0m\u001b[0;34m.\u001b[0m\u001b[0mlabel1\u001b[0m\u001b[0;34m.\u001b[0m\u001b[0mget_visible\u001b[0m\u001b[0;34m(\u001b[0m\u001b[0;34m)\u001b[0m\u001b[0;34m]\u001b[0m\u001b[0;34m\u001b[0m\u001b[0;34m\u001b[0m\u001b[0m\n\u001b[1;32m   1278\u001b[0m         \u001b[0mlabels2\u001b[0m \u001b[0;34m=\u001b[0m \u001b[0;34m[\u001b[0m\u001b[0mtick\u001b[0m\u001b[0;34m.\u001b[0m\u001b[0mlabel2\u001b[0m \u001b[0;32mfor\u001b[0m \u001b[0mtick\u001b[0m \u001b[0;32min\u001b[0m \u001b[0mticks\u001b[0m \u001b[0;32mif\u001b[0m \u001b[0mtick\u001b[0m\u001b[0;34m.\u001b[0m\u001b[0mlabel2\u001b[0m\u001b[0;34m.\u001b[0m\u001b[0mget_visible\u001b[0m\u001b[0;34m(\u001b[0m\u001b[0;34m)\u001b[0m\u001b[0;34m]\u001b[0m\u001b[0;34m\u001b[0m\u001b[0;34m\u001b[0m\u001b[0m\n",
            "\u001b[0;32m/usr/local/lib/python3.6/dist-packages/matplotlib/axis.py\u001b[0m in \u001b[0;36mget_major_ticks\u001b[0;34m(self, numticks)\u001b[0m\n\u001b[1;32m   1433\u001b[0m         \u001b[0;32mwhile\u001b[0m \u001b[0mlen\u001b[0m\u001b[0;34m(\u001b[0m\u001b[0mself\u001b[0m\u001b[0;34m.\u001b[0m\u001b[0mmajorTicks\u001b[0m\u001b[0;34m)\u001b[0m \u001b[0;34m<\u001b[0m \u001b[0mnumticks\u001b[0m\u001b[0;34m:\u001b[0m\u001b[0;34m\u001b[0m\u001b[0;34m\u001b[0m\u001b[0m\n\u001b[1;32m   1434\u001b[0m             \u001b[0;31m# Update the new tick label properties from the old.\u001b[0m\u001b[0;34m\u001b[0m\u001b[0;34m\u001b[0m\u001b[0;34m\u001b[0m\u001b[0m\n\u001b[0;32m-> 1435\u001b[0;31m             \u001b[0mtick\u001b[0m \u001b[0;34m=\u001b[0m \u001b[0mself\u001b[0m\u001b[0;34m.\u001b[0m\u001b[0m_get_tick\u001b[0m\u001b[0;34m(\u001b[0m\u001b[0mmajor\u001b[0m\u001b[0;34m=\u001b[0m\u001b[0;32mTrue\u001b[0m\u001b[0;34m)\u001b[0m\u001b[0;34m\u001b[0m\u001b[0;34m\u001b[0m\u001b[0m\n\u001b[0m\u001b[1;32m   1436\u001b[0m             \u001b[0mself\u001b[0m\u001b[0;34m.\u001b[0m\u001b[0mmajorTicks\u001b[0m\u001b[0;34m.\u001b[0m\u001b[0mappend\u001b[0m\u001b[0;34m(\u001b[0m\u001b[0mtick\u001b[0m\u001b[0;34m)\u001b[0m\u001b[0;34m\u001b[0m\u001b[0;34m\u001b[0m\u001b[0m\n\u001b[1;32m   1437\u001b[0m             \u001b[0mtick\u001b[0m\u001b[0;34m.\u001b[0m\u001b[0mgridline\u001b[0m\u001b[0;34m.\u001b[0m\u001b[0mset_visible\u001b[0m\u001b[0;34m(\u001b[0m\u001b[0mself\u001b[0m\u001b[0;34m.\u001b[0m\u001b[0m_gridOnMajor\u001b[0m\u001b[0;34m)\u001b[0m\u001b[0;34m\u001b[0m\u001b[0;34m\u001b[0m\u001b[0m\n",
            "\u001b[0;32m/usr/local/lib/python3.6/dist-packages/matplotlib/axis.py\u001b[0m in \u001b[0;36m_get_tick\u001b[0;34m(self, major)\u001b[0m\n\u001b[1;32m   2228\u001b[0m         \u001b[0;32melse\u001b[0m\u001b[0;34m:\u001b[0m\u001b[0;34m\u001b[0m\u001b[0;34m\u001b[0m\u001b[0m\n\u001b[1;32m   2229\u001b[0m             \u001b[0mtick_kw\u001b[0m \u001b[0;34m=\u001b[0m \u001b[0mself\u001b[0m\u001b[0;34m.\u001b[0m\u001b[0m_minor_tick_kw\u001b[0m\u001b[0;34m\u001b[0m\u001b[0;34m\u001b[0m\u001b[0m\n\u001b[0;32m-> 2230\u001b[0;31m         \u001b[0;32mreturn\u001b[0m \u001b[0mYTick\u001b[0m\u001b[0;34m(\u001b[0m\u001b[0mself\u001b[0m\u001b[0;34m.\u001b[0m\u001b[0maxes\u001b[0m\u001b[0;34m,\u001b[0m \u001b[0;36m0\u001b[0m\u001b[0;34m,\u001b[0m \u001b[0;34m''\u001b[0m\u001b[0;34m,\u001b[0m \u001b[0mmajor\u001b[0m\u001b[0;34m=\u001b[0m\u001b[0mmajor\u001b[0m\u001b[0;34m,\u001b[0m \u001b[0;34m**\u001b[0m\u001b[0mtick_kw\u001b[0m\u001b[0;34m)\u001b[0m\u001b[0;34m\u001b[0m\u001b[0;34m\u001b[0m\u001b[0m\n\u001b[0m\u001b[1;32m   2231\u001b[0m \u001b[0;34m\u001b[0m\u001b[0m\n\u001b[1;32m   2232\u001b[0m     \u001b[0;32mdef\u001b[0m \u001b[0m_get_label\u001b[0m\u001b[0;34m(\u001b[0m\u001b[0mself\u001b[0m\u001b[0;34m)\u001b[0m\u001b[0;34m:\u001b[0m\u001b[0;34m\u001b[0m\u001b[0;34m\u001b[0m\u001b[0m\n",
            "\u001b[0;32m/usr/local/lib/python3.6/dist-packages/matplotlib/axis.py\u001b[0m in \u001b[0;36m__init__\u001b[0;34m(self, axes, loc, label, size, width, color, tickdir, pad, labelsize, labelcolor, zorder, gridOn, tick1On, tick2On, label1On, label2On, major, labelrotation, grid_color, grid_linestyle, grid_linewidth, grid_alpha, **kw)\u001b[0m\n\u001b[1;32m    156\u001b[0m \u001b[0;34m\u001b[0m\u001b[0m\n\u001b[1;32m    157\u001b[0m         \u001b[0mself\u001b[0m\u001b[0;34m.\u001b[0m\u001b[0mtick1line\u001b[0m \u001b[0;34m=\u001b[0m \u001b[0mself\u001b[0m\u001b[0;34m.\u001b[0m\u001b[0m_get_tick1line\u001b[0m\u001b[0;34m(\u001b[0m\u001b[0;34m)\u001b[0m\u001b[0;34m\u001b[0m\u001b[0;34m\u001b[0m\u001b[0m\n\u001b[0;32m--> 158\u001b[0;31m         \u001b[0mself\u001b[0m\u001b[0;34m.\u001b[0m\u001b[0mtick2line\u001b[0m \u001b[0;34m=\u001b[0m \u001b[0mself\u001b[0m\u001b[0;34m.\u001b[0m\u001b[0m_get_tick2line\u001b[0m\u001b[0;34m(\u001b[0m\u001b[0;34m)\u001b[0m\u001b[0;34m\u001b[0m\u001b[0;34m\u001b[0m\u001b[0m\n\u001b[0m\u001b[1;32m    159\u001b[0m         \u001b[0mself\u001b[0m\u001b[0;34m.\u001b[0m\u001b[0mgridline\u001b[0m \u001b[0;34m=\u001b[0m \u001b[0mself\u001b[0m\u001b[0;34m.\u001b[0m\u001b[0m_get_gridline\u001b[0m\u001b[0;34m(\u001b[0m\u001b[0;34m)\u001b[0m\u001b[0;34m\u001b[0m\u001b[0;34m\u001b[0m\u001b[0m\n\u001b[1;32m    160\u001b[0m         \u001b[0mself\u001b[0m\u001b[0;34m.\u001b[0m\u001b[0mlabel1\u001b[0m \u001b[0;34m=\u001b[0m \u001b[0mself\u001b[0m\u001b[0;34m.\u001b[0m\u001b[0m_get_text1\u001b[0m\u001b[0;34m(\u001b[0m\u001b[0;34m)\u001b[0m\u001b[0;34m\u001b[0m\u001b[0;34m\u001b[0m\u001b[0m\n",
            "\u001b[0;32m/usr/local/lib/python3.6/dist-packages/matplotlib/axis.py\u001b[0m in \u001b[0;36m_get_tick2line\u001b[0;34m(self)\u001b[0m\n\u001b[1;32m    596\u001b[0m                           \u001b[0mmarkersize\u001b[0m\u001b[0;34m=\u001b[0m\u001b[0mself\u001b[0m\u001b[0;34m.\u001b[0m\u001b[0m_size\u001b[0m\u001b[0;34m,\u001b[0m\u001b[0;34m\u001b[0m\u001b[0;34m\u001b[0m\u001b[0m\n\u001b[1;32m    597\u001b[0m                           \u001b[0mmarkeredgewidth\u001b[0m\u001b[0;34m=\u001b[0m\u001b[0mself\u001b[0m\u001b[0;34m.\u001b[0m\u001b[0m_width\u001b[0m\u001b[0;34m,\u001b[0m\u001b[0;34m\u001b[0m\u001b[0;34m\u001b[0m\u001b[0m\n\u001b[0;32m--> 598\u001b[0;31m                           zorder=self._zorder)\n\u001b[0m\u001b[1;32m    599\u001b[0m         \u001b[0ml\u001b[0m\u001b[0;34m.\u001b[0m\u001b[0mset_transform\u001b[0m\u001b[0;34m(\u001b[0m\u001b[0mself\u001b[0m\u001b[0;34m.\u001b[0m\u001b[0maxes\u001b[0m\u001b[0;34m.\u001b[0m\u001b[0mget_yaxis_transform\u001b[0m\u001b[0;34m(\u001b[0m\u001b[0mwhich\u001b[0m\u001b[0;34m=\u001b[0m\u001b[0;34m'tick2'\u001b[0m\u001b[0;34m)\u001b[0m\u001b[0;34m)\u001b[0m\u001b[0;34m\u001b[0m\u001b[0;34m\u001b[0m\u001b[0m\n\u001b[1;32m    600\u001b[0m         \u001b[0mself\u001b[0m\u001b[0;34m.\u001b[0m\u001b[0m_set_artist_props\u001b[0m\u001b[0;34m(\u001b[0m\u001b[0ml\u001b[0m\u001b[0;34m)\u001b[0m\u001b[0;34m\u001b[0m\u001b[0;34m\u001b[0m\u001b[0m\n",
            "\u001b[0;32m/usr/local/lib/python3.6/dist-packages/matplotlib/lines.py\u001b[0m in \u001b[0;36m__init__\u001b[0;34m(self, xdata, ydata, linewidth, linestyle, color, marker, markersize, markeredgewidth, markeredgecolor, markerfacecolor, markerfacecoloralt, fillstyle, antialiased, dash_capstyle, solid_capstyle, dash_joinstyle, solid_joinstyle, pickradius, drawstyle, markevery, **kwargs)\u001b[0m\n\u001b[1;32m    401\u001b[0m         \u001b[0mself\u001b[0m\u001b[0;34m.\u001b[0m\u001b[0mpickradius\u001b[0m \u001b[0;34m=\u001b[0m \u001b[0mpickradius\u001b[0m\u001b[0;34m\u001b[0m\u001b[0;34m\u001b[0m\u001b[0m\n\u001b[1;32m    402\u001b[0m         \u001b[0mself\u001b[0m\u001b[0;34m.\u001b[0m\u001b[0mind_offset\u001b[0m \u001b[0;34m=\u001b[0m \u001b[0;36m0\u001b[0m\u001b[0;34m\u001b[0m\u001b[0;34m\u001b[0m\u001b[0m\n\u001b[0;32m--> 403\u001b[0;31m         \u001b[0;32mif\u001b[0m \u001b[0misinstance\u001b[0m\u001b[0;34m(\u001b[0m\u001b[0mself\u001b[0m\u001b[0;34m.\u001b[0m\u001b[0m_picker\u001b[0m\u001b[0;34m,\u001b[0m \u001b[0mNumber\u001b[0m\u001b[0;34m)\u001b[0m\u001b[0;34m:\u001b[0m\u001b[0;34m\u001b[0m\u001b[0;34m\u001b[0m\u001b[0m\n\u001b[0m\u001b[1;32m    404\u001b[0m             \u001b[0mself\u001b[0m\u001b[0;34m.\u001b[0m\u001b[0mpickradius\u001b[0m \u001b[0;34m=\u001b[0m \u001b[0mself\u001b[0m\u001b[0;34m.\u001b[0m\u001b[0m_picker\u001b[0m\u001b[0;34m\u001b[0m\u001b[0;34m\u001b[0m\u001b[0m\n\u001b[1;32m    405\u001b[0m \u001b[0;34m\u001b[0m\u001b[0m\n",
            "\u001b[0;31mKeyboardInterrupt\u001b[0m: "
          ]
        }
      ]
    },
    {
      "cell_type": "markdown",
      "metadata": {
        "id": "jMCmsdSWHlfW"
      },
      "source": [
        "###  3.1 Choosing Graphs\n",
        "- Which of these graphs seem useful and which ones are unnecessary?\n",
        "**Write a 2 sentence explanation about why these two plots seem or might be useful.** **Did the visualization style influence your decision?**\n",
        "Select the two graphs you think are more useful and add the following:\n",
        "- Add ```title``` for both subplots.\n",
        "- Add ```xlabel``` and ```ylabel```.\n",
        "- Change the color for one of the plots??? FIXME\n",
        "\n",
        "**Answer**"
      ]
    },
    {
      "cell_type": "code",
      "metadata": {
        "id": "89RDlC5ggzoT",
        "outputId": "1dd75782-5b31-448b-9883-ebdb597df22d",
        "colab": {
          "base_uri": "https://localhost:8080/",
          "height": 1000
        }
      },
      "source": [
        "# INSERT CODE HERE\n",
        "ax2.set_title('New Jobs Per Company')\n",
        "ax2.set_xlabel('Company Name')\n",
        "ax2.set_ylabel('# of new jobs')\n",
        "\n",
        "ax4.set_title('New Jobs Per Company')\n",
        "ax4.set_xlabel('Company Name')\n",
        "ax4.set_ylabel('# of new jobs')\n",
        "fig"
      ],
      "execution_count": null,
      "outputs": [
        {
          "output_type": "stream",
          "text": [
            "/usr/local/lib/python3.6/dist-packages/matplotlib/backends/backend_agg.py:214: RuntimeWarning: Glyph 133 missing from current font.\n",
            "  font.set_text(s, 0.0, flags=flags)\n",
            "/usr/local/lib/python3.6/dist-packages/matplotlib/backends/backend_agg.py:214: RuntimeWarning: Glyph 136 missing from current font.\n",
            "  font.set_text(s, 0.0, flags=flags)\n",
            "/usr/local/lib/python3.6/dist-packages/matplotlib/backends/backend_agg.py:214: RuntimeWarning: Glyph 135 missing from current font.\n",
            "  font.set_text(s, 0.0, flags=flags)\n",
            "/usr/local/lib/python3.6/dist-packages/matplotlib/backends/backend_agg.py:214: RuntimeWarning: Glyph 134 missing from current font.\n",
            "  font.set_text(s, 0.0, flags=flags)\n",
            "/usr/local/lib/python3.6/dist-packages/matplotlib/backends/backend_agg.py:214: RuntimeWarning: Glyph 140 missing from current font.\n",
            "  font.set_text(s, 0.0, flags=flags)\n",
            "/usr/local/lib/python3.6/dist-packages/matplotlib/backends/backend_agg.py:214: RuntimeWarning: Glyph 152 missing from current font.\n",
            "  font.set_text(s, 0.0, flags=flags)\n",
            "/usr/local/lib/python3.6/dist-packages/matplotlib/backends/backend_agg.py:214: RuntimeWarning: Glyph 129 missing from current font.\n",
            "  font.set_text(s, 0.0, flags=flags)\n",
            "/usr/local/lib/python3.6/dist-packages/matplotlib/backends/backend_agg.py:214: RuntimeWarning: Glyph 128 missing from current font.\n",
            "  font.set_text(s, 0.0, flags=flags)\n",
            "/usr/local/lib/python3.6/dist-packages/matplotlib/backends/backend_agg.py:214: RuntimeWarning: Glyph 153 missing from current font.\n",
            "  font.set_text(s, 0.0, flags=flags)\n",
            "/usr/local/lib/python3.6/dist-packages/matplotlib/backends/backend_agg.py:214: RuntimeWarning: Glyph 147 missing from current font.\n",
            "  font.set_text(s, 0.0, flags=flags)\n",
            "/usr/local/lib/python3.6/dist-packages/matplotlib/backends/backend_agg.py:214: RuntimeWarning: Glyph 139 missing from current font.\n",
            "  font.set_text(s, 0.0, flags=flags)\n",
            "/usr/local/lib/python3.6/dist-packages/matplotlib/backends/backend_agg.py:214: RuntimeWarning: Glyph 137 missing from current font.\n",
            "  font.set_text(s, 0.0, flags=flags)\n",
            "/usr/local/lib/python3.6/dist-packages/matplotlib/backends/backend_agg.py:214: RuntimeWarning: Glyph 156 missing from current font.\n",
            "  font.set_text(s, 0.0, flags=flags)\n",
            "/usr/local/lib/python3.6/dist-packages/matplotlib/backends/backend_agg.py:214: RuntimeWarning: Glyph 157 missing from current font.\n",
            "  font.set_text(s, 0.0, flags=flags)\n",
            "/usr/local/lib/python3.6/dist-packages/matplotlib/backends/backend_agg.py:214: RuntimeWarning: Glyph 39321 missing from current font.\n",
            "  font.set_text(s, 0.0, flags=flags)\n",
            "/usr/local/lib/python3.6/dist-packages/matplotlib/backends/backend_agg.py:214: RuntimeWarning: Glyph 28207 missing from current font.\n",
            "  font.set_text(s, 0.0, flags=flags)\n",
            "/usr/local/lib/python3.6/dist-packages/matplotlib/backends/backend_agg.py:214: RuntimeWarning: Glyph 37941 missing from current font.\n",
            "  font.set_text(s, 0.0, flags=flags)\n",
            "/usr/local/lib/python3.6/dist-packages/matplotlib/backends/backend_agg.py:214: RuntimeWarning: Glyph 36335 missing from current font.\n",
            "  font.set_text(s, 0.0, flags=flags)\n",
            "/usr/local/lib/python3.6/dist-packages/matplotlib/backends/backend_agg.py:214: RuntimeWarning: Glyph 26377 missing from current font.\n",
            "  font.set_text(s, 0.0, flags=flags)\n",
            "/usr/local/lib/python3.6/dist-packages/matplotlib/backends/backend_agg.py:214: RuntimeWarning: Glyph 38480 missing from current font.\n",
            "  font.set_text(s, 0.0, flags=flags)\n",
            "/usr/local/lib/python3.6/dist-packages/matplotlib/backends/backend_agg.py:214: RuntimeWarning: Glyph 20844 missing from current font.\n",
            "  font.set_text(s, 0.0, flags=flags)\n",
            "/usr/local/lib/python3.6/dist-packages/matplotlib/backends/backend_agg.py:214: RuntimeWarning: Glyph 21496 missing from current font.\n",
            "  font.set_text(s, 0.0, flags=flags)\n",
            "/usr/local/lib/python3.6/dist-packages/matplotlib/backends/backend_agg.py:183: RuntimeWarning: Glyph 133 missing from current font.\n",
            "  font.set_text(s, 0, flags=flags)\n",
            "/usr/local/lib/python3.6/dist-packages/matplotlib/backends/backend_agg.py:183: RuntimeWarning: Glyph 136 missing from current font.\n",
            "  font.set_text(s, 0, flags=flags)\n",
            "/usr/local/lib/python3.6/dist-packages/matplotlib/backends/backend_agg.py:183: RuntimeWarning: Glyph 135 missing from current font.\n",
            "  font.set_text(s, 0, flags=flags)\n",
            "/usr/local/lib/python3.6/dist-packages/matplotlib/backends/backend_agg.py:183: RuntimeWarning: Glyph 134 missing from current font.\n",
            "  font.set_text(s, 0, flags=flags)\n",
            "/usr/local/lib/python3.6/dist-packages/matplotlib/backends/backend_agg.py:183: RuntimeWarning: Glyph 140 missing from current font.\n",
            "  font.set_text(s, 0, flags=flags)\n",
            "/usr/local/lib/python3.6/dist-packages/matplotlib/backends/backend_agg.py:183: RuntimeWarning: Glyph 152 missing from current font.\n",
            "  font.set_text(s, 0, flags=flags)\n",
            "/usr/local/lib/python3.6/dist-packages/matplotlib/backends/backend_agg.py:183: RuntimeWarning: Glyph 129 missing from current font.\n",
            "  font.set_text(s, 0, flags=flags)\n",
            "/usr/local/lib/python3.6/dist-packages/matplotlib/backends/backend_agg.py:183: RuntimeWarning: Glyph 128 missing from current font.\n",
            "  font.set_text(s, 0, flags=flags)\n",
            "/usr/local/lib/python3.6/dist-packages/matplotlib/backends/backend_agg.py:183: RuntimeWarning: Glyph 153 missing from current font.\n",
            "  font.set_text(s, 0, flags=flags)\n",
            "/usr/local/lib/python3.6/dist-packages/matplotlib/backends/backend_agg.py:183: RuntimeWarning: Glyph 147 missing from current font.\n",
            "  font.set_text(s, 0, flags=flags)\n",
            "/usr/local/lib/python3.6/dist-packages/matplotlib/backends/backend_agg.py:183: RuntimeWarning: Glyph 139 missing from current font.\n",
            "  font.set_text(s, 0, flags=flags)\n",
            "/usr/local/lib/python3.6/dist-packages/matplotlib/backends/backend_agg.py:183: RuntimeWarning: Glyph 137 missing from current font.\n",
            "  font.set_text(s, 0, flags=flags)\n",
            "/usr/local/lib/python3.6/dist-packages/matplotlib/backends/backend_agg.py:183: RuntimeWarning: Glyph 156 missing from current font.\n",
            "  font.set_text(s, 0, flags=flags)\n",
            "/usr/local/lib/python3.6/dist-packages/matplotlib/backends/backend_agg.py:183: RuntimeWarning: Glyph 157 missing from current font.\n",
            "  font.set_text(s, 0, flags=flags)\n",
            "/usr/local/lib/python3.6/dist-packages/matplotlib/backends/backend_agg.py:183: RuntimeWarning: Glyph 39321 missing from current font.\n",
            "  font.set_text(s, 0, flags=flags)\n",
            "/usr/local/lib/python3.6/dist-packages/matplotlib/backends/backend_agg.py:183: RuntimeWarning: Glyph 28207 missing from current font.\n",
            "  font.set_text(s, 0, flags=flags)\n",
            "/usr/local/lib/python3.6/dist-packages/matplotlib/backends/backend_agg.py:183: RuntimeWarning: Glyph 37941 missing from current font.\n",
            "  font.set_text(s, 0, flags=flags)\n",
            "/usr/local/lib/python3.6/dist-packages/matplotlib/backends/backend_agg.py:183: RuntimeWarning: Glyph 36335 missing from current font.\n",
            "  font.set_text(s, 0, flags=flags)\n",
            "/usr/local/lib/python3.6/dist-packages/matplotlib/backends/backend_agg.py:183: RuntimeWarning: Glyph 26377 missing from current font.\n",
            "  font.set_text(s, 0, flags=flags)\n",
            "/usr/local/lib/python3.6/dist-packages/matplotlib/backends/backend_agg.py:183: RuntimeWarning: Glyph 38480 missing from current font.\n",
            "  font.set_text(s, 0, flags=flags)\n",
            "/usr/local/lib/python3.6/dist-packages/matplotlib/backends/backend_agg.py:183: RuntimeWarning: Glyph 20844 missing from current font.\n",
            "  font.set_text(s, 0, flags=flags)\n",
            "/usr/local/lib/python3.6/dist-packages/matplotlib/backends/backend_agg.py:183: RuntimeWarning: Glyph 21496 missing from current font.\n",
            "  font.set_text(s, 0, flags=flags)\n"
          ],
          "name": "stderr"
        },
        {
          "output_type": "execute_result",
          "data": {
            "image/png": "[encoded data removed]",
            "text/plain": [
              "<Figure size 1440x720 with 4 Axes>"
            ]
          },
          "metadata": {
            "tags": []
          },
          "execution_count": 59
        }
      ]
    },
    {
      "cell_type": "markdown",
      "metadata": {
        "id": "5eu2pWKrHlfX"
      },
      "source": [
        "### Pandas Plots\n",
        "\n",
        "FIXME: Is this needed / relevant?"
      ]
    },
    {
      "cell_type": "code",
      "metadata": {
        "id": "90m3tTRHHlfY"
      },
      "source": [
        "\"\"\"\n",
        "dataset_between60_75.plot(x='company_name',\n",
        "                         y = 'num_connections',kind = 'bar', ax = ax1,\n",
        "                         rot = 90)\n",
        "\"\"\"\n",
        "\n"
      ],
      "execution_count": null,
      "outputs": []
    },
    {
      "cell_type": "markdown",
      "metadata": {
        "id": "7oOVxiLsHlfc"
      },
      "source": [
        "### Companies with less than 100 new positions started"
      ]
    },
    {
      "cell_type": "code",
      "metadata": {
        "id": "-_Oy0Cr_Hlfd",
        "outputId": "ba219dc0-2104-4638-dfe8-9addbb07c375",
        "colab": {
          "base_uri": "https://localhost:8080/",
          "height": 935
        }
      },
      "source": [
        "\"\"\"\n",
        "temp_plot = dataset_between60_75.where(dataset_between60_75['_____'] < 100.0).dropna()\n",
        "\n",
        "temp_plot\n",
        "\"\"\"\n",
        "\n",
        "print(num_profiles_per_company)\n",
        "temp_plot = num_profiles_per_company.where(num_profiles_per_company['company_name'] < 100).dropna()\n",
        "temp_plot"
      ],
      "execution_count": null,
      "outputs": [
        {
          "output_type": "stream",
          "text": [
            "nbn™ Australia                              29\n",
            "InterContinental Hotels Group (IHG®)        10\n",
            "Nestlé                                       9\n",
            "Mondelēz International                       4\n",
            "Hungry Jack's® Australia Pty Ltd             3\n",
            "                                            ..\n",
            "Iran Argham (ایران ارقام)                    1\n",
            "University of the Philippines Los BaÃ±os     1\n",
            "AFL Players'â Association                  1\n",
            "i-Hunter Tecnologia da InformaÃ§Ã£o          1\n",
            "HYPOXIÂ® Australia                           1\n",
            "Name: company_name, Length: 68, dtype: int64\n"
          ],
          "name": "stdout"
        },
        {
          "output_type": "error",
          "ename": "KeyError",
          "evalue": "ignored",
          "traceback": [
            "\u001b[0;31m---------------------------------------------------------------------------\u001b[0m",
            "\u001b[0;31mTypeError\u001b[0m                                 Traceback (most recent call last)",
            "\u001b[0;32m/usr/local/lib/python3.6/dist-packages/pandas/core/indexes/base.py\u001b[0m in \u001b[0;36mget_value\u001b[0;34m(self, series, key)\u001b[0m\n\u001b[1;32m   4410\u001b[0m             \u001b[0;32mtry\u001b[0m\u001b[0;34m:\u001b[0m\u001b[0;34m\u001b[0m\u001b[0;34m\u001b[0m\u001b[0m\n\u001b[0;32m-> 4411\u001b[0;31m                 \u001b[0;32mreturn\u001b[0m \u001b[0mlibindex\u001b[0m\u001b[0;34m.\u001b[0m\u001b[0mget_value_at\u001b[0m\u001b[0;34m(\u001b[0m\u001b[0ms\u001b[0m\u001b[0;34m,\u001b[0m \u001b[0mkey\u001b[0m\u001b[0;34m)\u001b[0m\u001b[0;34m\u001b[0m\u001b[0;34m\u001b[0m\u001b[0m\n\u001b[0m\u001b[1;32m   4412\u001b[0m             \u001b[0;32mexcept\u001b[0m \u001b[0mIndexError\u001b[0m\u001b[0;34m:\u001b[0m\u001b[0;34m\u001b[0m\u001b[0;34m\u001b[0m\u001b[0m\n",
            "\u001b[0;32mpandas/_libs/index.pyx\u001b[0m in \u001b[0;36mpandas._libs.index.get_value_at\u001b[0;34m()\u001b[0m\n",
            "\u001b[0;32mpandas/_libs/index.pyx\u001b[0m in \u001b[0;36mpandas._libs.index.get_value_at\u001b[0;34m()\u001b[0m\n",
            "\u001b[0;32mpandas/_libs/util.pxd\u001b[0m in \u001b[0;36mpandas._libs.util.get_value_at\u001b[0;34m()\u001b[0m\n",
            "\u001b[0;32mpandas/_libs/util.pxd\u001b[0m in \u001b[0;36mpandas._libs.util.validate_indexer\u001b[0;34m()\u001b[0m\n",
            "\u001b[0;31mTypeError\u001b[0m: 'str' object cannot be interpreted as an integer",
            "\nDuring handling of the above exception, another exception occurred:\n",
            "\u001b[0;31mKeyError\u001b[0m                                  Traceback (most recent call last)",
            "\u001b[0;32m<ipython-input-61-6770f607bff1>\u001b[0m in \u001b[0;36m<module>\u001b[0;34m()\u001b[0m\n\u001b[1;32m      6\u001b[0m \u001b[0;34m\u001b[0m\u001b[0m\n\u001b[1;32m      7\u001b[0m \u001b[0mprint\u001b[0m\u001b[0;34m(\u001b[0m\u001b[0mnum_profiles_per_company\u001b[0m\u001b[0;34m)\u001b[0m\u001b[0;34m\u001b[0m\u001b[0;34m\u001b[0m\u001b[0m\n\u001b[0;32m----> 8\u001b[0;31m \u001b[0mtemp_plot\u001b[0m \u001b[0;34m=\u001b[0m \u001b[0mnum_profiles_per_company\u001b[0m\u001b[0;34m.\u001b[0m\u001b[0mwhere\u001b[0m\u001b[0;34m(\u001b[0m\u001b[0mnum_profiles_per_company\u001b[0m\u001b[0;34m[\u001b[0m\u001b[0;34m'company_name'\u001b[0m\u001b[0;34m]\u001b[0m \u001b[0;34m<\u001b[0m \u001b[0;36m100\u001b[0m\u001b[0;34m)\u001b[0m\u001b[0;34m.\u001b[0m\u001b[0mdropna\u001b[0m\u001b[0;34m(\u001b[0m\u001b[0;34m)\u001b[0m\u001b[0;34m\u001b[0m\u001b[0;34m\u001b[0m\u001b[0m\n\u001b[0m\u001b[1;32m      9\u001b[0m \u001b[0mtemp_plot\u001b[0m\u001b[0;34m\u001b[0m\u001b[0;34m\u001b[0m\u001b[0m\n",
            "\u001b[0;32m/usr/local/lib/python3.6/dist-packages/pandas/core/series.py\u001b[0m in \u001b[0;36m__getitem__\u001b[0;34m(self, key)\u001b[0m\n\u001b[1;32m    869\u001b[0m         \u001b[0mkey\u001b[0m \u001b[0;34m=\u001b[0m \u001b[0mcom\u001b[0m\u001b[0;34m.\u001b[0m\u001b[0mapply_if_callable\u001b[0m\u001b[0;34m(\u001b[0m\u001b[0mkey\u001b[0m\u001b[0;34m,\u001b[0m \u001b[0mself\u001b[0m\u001b[0;34m)\u001b[0m\u001b[0;34m\u001b[0m\u001b[0;34m\u001b[0m\u001b[0m\n\u001b[1;32m    870\u001b[0m         \u001b[0;32mtry\u001b[0m\u001b[0;34m:\u001b[0m\u001b[0;34m\u001b[0m\u001b[0;34m\u001b[0m\u001b[0m\n\u001b[0;32m--> 871\u001b[0;31m             \u001b[0mresult\u001b[0m \u001b[0;34m=\u001b[0m \u001b[0mself\u001b[0m\u001b[0;34m.\u001b[0m\u001b[0mindex\u001b[0m\u001b[0;34m.\u001b[0m\u001b[0mget_value\u001b[0m\u001b[0;34m(\u001b[0m\u001b[0mself\u001b[0m\u001b[0;34m,\u001b[0m \u001b[0mkey\u001b[0m\u001b[0;34m)\u001b[0m\u001b[0;34m\u001b[0m\u001b[0;34m\u001b[0m\u001b[0m\n\u001b[0m\u001b[1;32m    872\u001b[0m \u001b[0;34m\u001b[0m\u001b[0m\n\u001b[1;32m    873\u001b[0m             \u001b[0;32mif\u001b[0m \u001b[0;32mnot\u001b[0m \u001b[0mis_scalar\u001b[0m\u001b[0;34m(\u001b[0m\u001b[0mresult\u001b[0m\u001b[0;34m)\u001b[0m\u001b[0;34m:\u001b[0m\u001b[0;34m\u001b[0m\u001b[0;34m\u001b[0m\u001b[0m\n",
            "\u001b[0;32m/usr/local/lib/python3.6/dist-packages/pandas/core/indexes/base.py\u001b[0m in \u001b[0;36mget_value\u001b[0;34m(self, series, key)\u001b[0m\n\u001b[1;32m   4417\u001b[0m                     \u001b[0;32mraise\u001b[0m \u001b[0mInvalidIndexError\u001b[0m\u001b[0;34m(\u001b[0m\u001b[0mkey\u001b[0m\u001b[0;34m)\u001b[0m\u001b[0;34m\u001b[0m\u001b[0;34m\u001b[0m\u001b[0m\n\u001b[1;32m   4418\u001b[0m                 \u001b[0;32melse\u001b[0m\u001b[0;34m:\u001b[0m\u001b[0;34m\u001b[0m\u001b[0;34m\u001b[0m\u001b[0m\n\u001b[0;32m-> 4419\u001b[0;31m                     \u001b[0;32mraise\u001b[0m \u001b[0me1\u001b[0m\u001b[0;34m\u001b[0m\u001b[0;34m\u001b[0m\u001b[0m\n\u001b[0m\u001b[1;32m   4420\u001b[0m             \u001b[0;32mexcept\u001b[0m \u001b[0mException\u001b[0m\u001b[0;34m:\u001b[0m\u001b[0;34m\u001b[0m\u001b[0;34m\u001b[0m\u001b[0m\n\u001b[1;32m   4421\u001b[0m                 \u001b[0;32mraise\u001b[0m \u001b[0me1\u001b[0m\u001b[0;34m\u001b[0m\u001b[0;34m\u001b[0m\u001b[0m\n",
            "\u001b[0;32m/usr/local/lib/python3.6/dist-packages/pandas/core/indexes/base.py\u001b[0m in \u001b[0;36mget_value\u001b[0;34m(self, series, key)\u001b[0m\n\u001b[1;32m   4403\u001b[0m         \u001b[0mk\u001b[0m \u001b[0;34m=\u001b[0m \u001b[0mself\u001b[0m\u001b[0;34m.\u001b[0m\u001b[0m_convert_scalar_indexer\u001b[0m\u001b[0;34m(\u001b[0m\u001b[0mk\u001b[0m\u001b[0;34m,\u001b[0m \u001b[0mkind\u001b[0m\u001b[0;34m=\u001b[0m\u001b[0;34m\"getitem\"\u001b[0m\u001b[0;34m)\u001b[0m\u001b[0;34m\u001b[0m\u001b[0;34m\u001b[0m\u001b[0m\n\u001b[1;32m   4404\u001b[0m         \u001b[0;32mtry\u001b[0m\u001b[0;34m:\u001b[0m\u001b[0;34m\u001b[0m\u001b[0;34m\u001b[0m\u001b[0m\n\u001b[0;32m-> 4405\u001b[0;31m             \u001b[0;32mreturn\u001b[0m \u001b[0mself\u001b[0m\u001b[0;34m.\u001b[0m\u001b[0m_engine\u001b[0m\u001b[0;34m.\u001b[0m\u001b[0mget_value\u001b[0m\u001b[0;34m(\u001b[0m\u001b[0ms\u001b[0m\u001b[0;34m,\u001b[0m \u001b[0mk\u001b[0m\u001b[0;34m,\u001b[0m \u001b[0mtz\u001b[0m\u001b[0;34m=\u001b[0m\u001b[0mgetattr\u001b[0m\u001b[0;34m(\u001b[0m\u001b[0mseries\u001b[0m\u001b[0;34m.\u001b[0m\u001b[0mdtype\u001b[0m\u001b[0;34m,\u001b[0m \u001b[0;34m\"tz\"\u001b[0m\u001b[0;34m,\u001b[0m \u001b[0;32mNone\u001b[0m\u001b[0;34m)\u001b[0m\u001b[0;34m)\u001b[0m\u001b[0;34m\u001b[0m\u001b[0;34m\u001b[0m\u001b[0m\n\u001b[0m\u001b[1;32m   4406\u001b[0m         \u001b[0;32mexcept\u001b[0m \u001b[0mKeyError\u001b[0m \u001b[0;32mas\u001b[0m \u001b[0me1\u001b[0m\u001b[0;34m:\u001b[0m\u001b[0;34m\u001b[0m\u001b[0;34m\u001b[0m\u001b[0m\n\u001b[1;32m   4407\u001b[0m             \u001b[0;32mif\u001b[0m \u001b[0mlen\u001b[0m\u001b[0;34m(\u001b[0m\u001b[0mself\u001b[0m\u001b[0;34m)\u001b[0m \u001b[0;34m>\u001b[0m \u001b[0;36m0\u001b[0m \u001b[0;32mand\u001b[0m \u001b[0;34m(\u001b[0m\u001b[0mself\u001b[0m\u001b[0;34m.\u001b[0m\u001b[0mholds_integer\u001b[0m\u001b[0;34m(\u001b[0m\u001b[0;34m)\u001b[0m \u001b[0;32mor\u001b[0m \u001b[0mself\u001b[0m\u001b[0;34m.\u001b[0m\u001b[0mis_boolean\u001b[0m\u001b[0;34m(\u001b[0m\u001b[0;34m)\u001b[0m\u001b[0;34m)\u001b[0m\u001b[0;34m:\u001b[0m\u001b[0;34m\u001b[0m\u001b[0;34m\u001b[0m\u001b[0m\n",
            "\u001b[0;32mpandas/_libs/index.pyx\u001b[0m in \u001b[0;36mpandas._libs.index.IndexEngine.get_value\u001b[0;34m()\u001b[0m\n",
            "\u001b[0;32mpandas/_libs/index.pyx\u001b[0m in \u001b[0;36mpandas._libs.index.IndexEngine.get_value\u001b[0;34m()\u001b[0m\n",
            "\u001b[0;32mpandas/_libs/index.pyx\u001b[0m in \u001b[0;36mpandas._libs.index.IndexEngine.get_loc\u001b[0;34m()\u001b[0m\n",
            "\u001b[0;32mpandas/_libs/hashtable_class_helper.pxi\u001b[0m in \u001b[0;36mpandas._libs.hashtable.PyObjectHashTable.get_item\u001b[0;34m()\u001b[0m\n",
            "\u001b[0;32mpandas/_libs/hashtable_class_helper.pxi\u001b[0m in \u001b[0;36mpandas._libs.hashtable.PyObjectHashTable.get_item\u001b[0;34m()\u001b[0m\n",
            "\u001b[0;31mKeyError\u001b[0m: 'company_name'"
          ]
        }
      ]
    },
    {
      "cell_type": "code",
      "metadata": {
        "id": "I1UkMU9wHlfg"
      },
      "source": [
        "temp_plot.plot(x='company_name',\n",
        "                         y = '_____',kind = 'bar',\n",
        "                         rot = 90)\n",
        "\n"
      ],
      "execution_count": null,
      "outputs": []
    },
    {
      "cell_type": "markdown",
      "metadata": {
        "id": "OjOjDcogHlfk"
      },
      "source": [
        "### Companies with more than 100 new positions started"
      ]
    },
    {
      "cell_type": "code",
      "metadata": {
        "id": "lrAOZa1hHlfm"
      },
      "source": [
        "temp_plot = dataset_between60_75.where(dataset_between60_75['_____'] > 100.0).dropna()\n",
        "\n",
        "temp_plot.plot(x='company_name',\n",
        "                         y = '_____',kind = 'bar',\n",
        "                         rot = 90,grid = True,figsize = (20,10))\n",
        "\n",
        "temp_plot"
      ],
      "execution_count": null,
      "outputs": []
    },
    {
      "cell_type": "markdown",
      "metadata": {
        "id": "iC1mKd2BHlfu"
      },
      "source": [
        "### Companies with more than 500 new positions started"
      ]
    },
    {
      "cell_type": "code",
      "metadata": {
        "id": "HNwE7zKBHlfv"
      },
      "source": [
        "temp_plot = dataset_between60_75.where(dataset_between60_75['_____'] > 500.0).dropna()\n",
        "print(f'There are {temp_plot.shape[0]} companies that hired more than 500 positions.')\n",
        "\n"
      ],
      "execution_count": null,
      "outputs": []
    },
    {
      "cell_type": "code",
      "metadata": {
        "id": "dfBf3GfyHlfz",
        "scrolled": true
      },
      "source": [
        "temp_plot.plot(x='company_name',\n",
        "                         y = '_____',kind = 'bar',\n",
        "                         rot = 90,grid = True,figsize = (20,10))\n",
        "\n",
        "\n"
      ],
      "execution_count": null,
      "outputs": []
    },
    {
      "cell_type": "markdown",
      "metadata": {
        "id": "ZIZ8rFjhHlf3"
      },
      "source": [
        "### Check the most used 'company_name' for new_positions > 500"
      ]
    },
    {
      "cell_type": "code",
      "metadata": {
        "id": "7IOuRHKwHlf4",
        "scrolled": true
      },
      "source": [
        "temp_plot['start_date'].hist(bins = 20,\n",
        "                                 alpha = 0.5,\n",
        "                                 xrot = 45,\n",
        "                                 figsize = (10,10)\n",
        "                                )"
      ],
      "execution_count": null,
      "outputs": []
    },
    {
      "cell_type": "markdown",
      "metadata": {
        "id": "ShDktMYRHlf8"
      },
      "source": [
        "### Check the most used 'position_location' for new_positions > 500"
      ]
    },
    {
      "cell_type": "code",
      "metadata": {
        "id": "vYoFVQrIHlf9"
      },
      "source": [
        "temp_plot['position_location'].hist(bins=20, \n",
        "                           alpha=0.7,\n",
        "                           xrot = 0,\n",
        "                          figsize = (10,10))"
      ],
      "execution_count": null,
      "outputs": []
    },
    {
      "cell_type": "markdown",
      "metadata": {
        "id": "ntI-QvHuHlgB"
      },
      "source": [
        "### Check the most used 'gender'  for new_positions > 500"
      ]
    },
    {
      "cell_type": "code",
      "metadata": {
        "id": "ermZi3B7HlgC",
        "scrolled": false
      },
      "source": [
        "temp_plot['gender'].hist(bins=20, \n",
        "                           alpha=0.7,\n",
        "                           xrot = 0,\n",
        "                          figsize = (10,10))"
      ],
      "execution_count": null,
      "outputs": []
    },
    {
      "cell_type": "markdown",
      "metadata": {
        "id": "_hntDtdsgzqd"
      },
      "source": [
        "# Conclusion"
      ]
    },
    {
      "cell_type": "markdown",
      "metadata": {
        "id": "NweDUhRVHlhe"
      },
      "source": [
        "## Resources"
      ]
    },
    {
      "cell_type": "markdown",
      "metadata": {
        "id": "VByUUKTiIYM-"
      },
      "source": [
        "# Appendix"
      ]
    },
    {
      "cell_type": "markdown",
      "metadata": {
        "id": "ObtE8-BHODkC"
      },
      "source": [
        "## Connecting to Your Google Drive\n"
      ]
    },
    {
      "cell_type": "code",
      "metadata": {
        "id": "_3xzPhI_ByD5"
      },
      "source": [
        "# Start by connecting google drive into google colab\n",
        "\n",
        "from google.colab import drive\n",
        "\n",
        "drive.mount('/content/gdrive')"
      ],
      "execution_count": null,
      "outputs": []
    },
    {
      "cell_type": "code",
      "metadata": {
        "id": "_epZFcuXNVRv"
      },
      "source": [
        "!ls \"/content/gdrive/My Drive/DigitalHistory\""
      ],
      "execution_count": null,
      "outputs": []
    },
    {
      "cell_type": "code",
      "metadata": {
        "id": "y6r-8UBGNueF"
      },
      "source": [
        "cd \"/content/gdrive/My Drive/DigitalHistory/tmp/trans-atlantic-slave-trade\""
      ],
      "execution_count": null,
      "outputs": []
    },
    {
      "cell_type": "code",
      "metadata": {
        "id": "Pp8mubdjVqY2"
      },
      "source": [
        "ls"
      ],
      "execution_count": null,
      "outputs": []
    },
    {
      "cell_type": "code",
      "metadata": {
        "id": "ZLhlkjd3Hlhr"
      },
      "source": [
        "### Extracting ZipFiles"
      ],
      "execution_count": null,
      "outputs": []
    },
    {
      "cell_type": "code",
      "metadata": {
        "id": "rzDr3KIkOJdy"
      },
      "source": [
        "\n",
        "import zipfile\n"
      ],
      "execution_count": null,
      "outputs": []
    },
    {
      "cell_type": "code",
      "metadata": {
        "id": "zkIDSJWUQFCV"
      },
      "source": [
        "file_location = 'data/trans-atlantic-slave-trade.csv.zip'\n",
        "\n",
        "zip_ref = zipfile.ZipFile(file_location,'r')\n",
        "zip_ref.extractall('data/tmp/trans-atlantic-slave-trade')\n",
        "zip_ref.close()"
      ],
      "execution_count": null,
      "outputs": []
    },
    {
      "cell_type": "markdown",
      "metadata": {
        "id": "TI9Zcwf5Hlh2"
      },
      "source": [
        "### Checking and Changing Column Types \n",
        "```df.dtypes``` and ```df.astype()```"
      ]
    },
    {
      "cell_type": "code",
      "metadata": {
        "id": "pGl1MUnOHlh3"
      },
      "source": [
        "df.dtypes"
      ],
      "execution_count": null,
      "outputs": []
    },
    {
      "cell_type": "code",
      "metadata": {
        "id": "JIG8wtR2Hlh6"
      },
      "source": [
        "df.year_of_arrival.astype(int)"
      ],
      "execution_count": null,
      "outputs": []
    },
    {
      "cell_type": "code",
      "metadata": {
        "id": "Z4Wl6kePHlh9"
      },
      "source": [
        "df.dtypes"
      ],
      "execution_count": null,
      "outputs": []
    },
    {
      "cell_type": "code",
      "metadata": {
        "id": "-V4Kbei5HliA"
      },
      "source": [
        "df.year_of_arrival = df.year_of_arrival.astype(int)"
      ],
      "execution_count": null,
      "outputs": []
    },
    {
      "cell_type": "code",
      "metadata": {
        "id": "fPgIGprYHliD"
      },
      "source": [
        "df.dtypes"
      ],
      "execution_count": null,
      "outputs": []
    },
    {
      "cell_type": "markdown",
      "metadata": {
        "id": "vL0gW74bHliI"
      },
      "source": [
        "**Extra**:\n",
        "```df.slaves_onboard = df.slaves_onboard.astype(int)```"
      ]
    },
    {
      "cell_type": "code",
      "metadata": {
        "id": "obBSXVY2HliI"
      },
      "source": [
        "df.slaves_onboard = df.slaves_onboard.astype(int)"
      ],
      "execution_count": null,
      "outputs": []
    },
    {
      "cell_type": "code",
      "metadata": {
        "id": "bmm_3kqnHliK"
      },
      "source": [
        "df.dtypes"
      ],
      "execution_count": null,
      "outputs": []
    },
    {
      "cell_type": "code",
      "metadata": {
        "id": "9dC_vb_KHliM"
      },
      "source": [
        "df"
      ],
      "execution_count": null,
      "outputs": []
    },
    {
      "cell_type": "markdown",
      "metadata": {
        "id": "s3AFqNpu2GJ4"
      },
      "source": [
        "### GeoTagging Locations"
      ]
    },
    {
      "cell_type": "code",
      "metadata": {
        "id": "lpBC6OsdEwl-"
      },
      "source": [
        "!pip install geopandas\n"
      ],
      "execution_count": null,
      "outputs": []
    },
    {
      "cell_type": "code",
      "metadata": {
        "id": "3N9KNSl-15ll"
      },
      "source": [
        "!pip install googlemaps"
      ],
      "execution_count": null,
      "outputs": []
    },
    {
      "cell_type": "code",
      "metadata": {
        "id": "0gYRsx8v2HfO"
      },
      "source": [
        "from googlemaps import Client as GoogleMaps\n",
        "import pandas as pd "
      ],
      "execution_count": null,
      "outputs": []
    },
    {
      "cell_type": "code",
      "metadata": {
        "id": "GYqCDWTt2KKz"
      },
      "source": [
        "gmaps = GoogleMaps('')# ENTER KEY"
      ],
      "execution_count": null,
      "outputs": []
    },
    {
      "cell_type": "code",
      "metadata": {
        "id": "bLLkI_sD9hzv"
      },
      "source": [
        "df"
      ],
      "execution_count": null,
      "outputs": []
    },
    {
      "cell_type": "code",
      "metadata": {
        "id": "AKnGxe_w2Lzw"
      },
      "source": [
        "addresses = df.filter(['Voyage itinerary imputed port where began (ptdepimp) place'], axis=1)\n",
        "addresses.head()"
      ],
      "execution_count": null,
      "outputs": []
    },
    {
      "cell_type": "code",
      "metadata": {
        "id": "TVEZc-Qs2PbV"
      },
      "source": [
        "addresses['long'] = \"\"\n",
        "addresses['lat'] = \"\""
      ],
      "execution_count": null,
      "outputs": []
    },
    {
      "cell_type": "code",
      "metadata": {
        "id": "sBJppNIY9ZBP"
      },
      "source": [
        "addresses"
      ],
      "execution_count": null,
      "outputs": []
    }
  ]
}