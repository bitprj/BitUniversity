{
  "nbformat": 4,
  "nbformat_minor": 0,
  "metadata": {
    "colab": {
      "name": "Introductory Example.ipynb",
      "provenance": [],
      "include_colab_link": true
    },
    "kernelspec": {
      "name": "python3",
      "display_name": "Python 3"
    }
  },
  "cells": [
    {
      "cell_type": "markdown",
      "metadata": {
        "id": "view-in-github",
        "colab_type": "text"
      },
      "source": [
        "<a href=\"https://colab.research.google.com/github/minhtumn/DigitalHistory/blob/Minh-Tu/Week2-Introduction-to-Python-_-NumPy/Introductory_Example.ipynb\" target=\"_parent\"><img src=\"https://colab.research.google.com/assets/colab-badge.svg\" alt=\"Open In Colab\"/></a>"
      ]
    },
    {
      "cell_type": "code",
      "metadata": {
        "id": "tkbH4nECbZSZ",
        "colab_type": "code",
        "colab": {}
      },
      "source": [
        "# reads in the text file whose name is specified on the command line,\n",
        "# and reports the number of lines and words\n",
        "\n",
        "import sys\n",
        "\n",
        "def checkline():\n",
        "  global l\n",
        "  global wordcount\n",
        "  w = l.split()\n",
        "  wordcount += len(w)\n",
        "  \n",
        "wordcount = 0\n",
        "f = open(sys.argv[1]) # THIS VERSION IS FOR COMMAND LINE, CAN ALSO IMPORT FILE INTO COLAB\n",
        "flines = f.readlines()\n",
        "linecount = len(flines)\n",
        "for l in flines:\n",
        "  checkline()\n",
        "print(linecount, wordcount)"
      ],
      "execution_count": null,
      "outputs": []
    },
    {
      "cell_type": "markdown",
      "metadata": {
        "id": "YvFdQr-cVyOJ",
        "colab_type": "text"
      },
      "source": [
        "hello!"
      ]
    }
  ]
}