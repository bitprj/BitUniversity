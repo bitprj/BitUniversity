{
  "nbformat": 4,
  "nbformat_minor": 0,
  "metadata": {
    "colab": {
      "name": "Intro to Python.ipynb",
      "provenance": [],
      "collapsed_sections": [
        "UE9OO2h1_2u_",
        "P3C3zJ-7Nr_3",
        "x6IrT_vuNr_5",
        "vfiOvQCHNsAO",
        "5IkjMPlcNsAd",
        "P1U1VtJENsBZ",
        "m7KcM_wENsB1",
        "IENyrelfNsCM",
        "x90qHJh7DzpF",
        "sfATMmoxFFF3",
        "06d6iMqfOk_Z",
        "UGViz_ZWjVTP",
        "zjduIynaOlAP",
        "ZMIKx3AjOlBH",
        "z1QjkkW0pbVF",
        "jlS7xu6QFvqJ",
        "pb75si0mGIab",
        "qDEeD8_NBbSc",
        "WDYmdzPj935W",
        "DBLmUGHfBbSw",
        "gchvjroRBbS5",
        "Gml2Q3rPOzP6",
        "j5v_alrd8KaO",
        "lQjKGTqyOzRD",
        "aToEjqLPOzRK",
        "jljY3mE2G-oX",
        "JWmMpmPaNWcX",
        "-ghJ1ZQJNWcZ",
        "bybS0BdINWcf",
        "HK25wgkKNWcn",
        "6im_y8_9NWcx",
        "K5hLnLVZJXXv",
        "LHJ8OPspOM6v",
        "UynSepC2cLfX",
        "aoUBNiqiGT-C",
        "hfnOwvD1GT-G",
        "UxlbVOqlGT-O",
        "EZGgT39kGT-Y",
        "KWdrfQP2GT-g",
        "YFiS7660_YlX",
        "kkhCZ9fNLxRt"
      ],
      "include_colab_link": true
    },
    "kernelspec": {
      "display_name": "Python 3",
      "language": "python",
      "name": "python3"
    },
    "language_info": {
      "codemirror_mode": {
        "name": "ipython",
        "version": 3
      },
      "file_extension": ".py",
      "mimetype": "text/x-python",
      "name": "python",
      "nbconvert_exporter": "python",
      "pygments_lexer": "ipython3",
      "version": "3.7.0"
    }
  },
  "cells": [
    {
      "cell_type": "markdown",
      "metadata": {
        "id": "view-in-github",
        "colab_type": "text"
      },
      "source": [
        "<a href=\"https://colab.research.google.com/github/minhtumn/DigitalHistory/blob/Minh-Tu/Week2-Introduction-to-Python-_-NumPy/Intro_to_Python.ipynb\" target=\"_parent\"><img src=\"https://colab.research.google.com/assets/colab-badge.svg\" alt=\"Open In Colab\"/></a>"
      ]
    },
    {
      "cell_type": "markdown",
      "metadata": {
        "colab_type": "text",
        "id": "Z_1uxdh0MC4f"
      },
      "source": [
        "<img src=\"https://github.com/bitprj/DigitalHistory/blob/master/Week2-Introduction-to-Python-_-NumPy/assets/icons/bitproject.png?raw=1\" width=\"200\" align=\"left\"> \n",
        "<img src=\"https://github.com/bitprj/DigitalHistory/blob/master/Week2-Introduction-to-Python-_-NumPy/assets/icons/data-science.jpg?raw=1\" width=\"300\" align=\"right\">"
      ]
    },
    {
      "cell_type": "markdown",
      "metadata": {
        "id": "akAeO87X6xQf",
        "colab_type": "text"
      },
      "source": [
        "##  📹 Lecture Video\n",
        "The full lecture video on this notebook is available [here](https://www.youtube.com/watch?v=KI9uOsAuRI0)."
      ]
    },
    {
      "cell_type": "markdown",
      "metadata": {
        "colab_type": "text",
        "id": "Lk6HY8NU-a9K"
      },
      "source": [
        "# Introduction to Python"
      ]
    },
    {
      "cell_type": "markdown",
      "metadata": {
        "colab_type": "text",
        "id": "JKIeFpiY-pJc"
      },
      "source": [
        "### Table of Contents\n",
        "\n",
        "- Why, Where, and How we use Python\n",
        "- What we will be learning today\n",
        "  - Goals\n",
        "- Numbers\n",
        "  - Types of Numbers\n",
        "  - Basic Arithmetic\n",
        "  - Arithmetic Continued\n",
        "- Variable Assignment\n",
        "- Strings\n",
        "  - Creating Strings\n",
        "  - Printing Strings\n",
        "  - String Basics\n",
        "  - String Properties\n",
        "  - Basic Built-In String Methods\n",
        "  - Print Formatting\n",
        "  - **1.0 Now Try This**\n",
        "- Booleans\n",
        "- Lists\n",
        "  - Creating Lists\n",
        "  - Basic List Methods\n",
        "  - Nesting Lists\n",
        "  - List Comprehensions\n",
        "  - **2.0 Now Try This**\n",
        "- Tuples\n",
        "  - Constructing Tuples\n",
        "  - Basic Tuple Methods\n",
        "  - Immutability\n",
        "  - When To Use Tuples\n",
        "  - **3.0 Now Try This**\n",
        "- Dictionaries\n",
        "  - Constructing a Dictionary\n",
        "  - Nesting With Dictionaries\n",
        "  - Dictionary Methods\n",
        "  - **4.0 Now Try This**\n",
        "\n",
        "SPLIT NOTEBOOK HERE\n",
        "\n",
        "- Comparison Operators\n",
        "- Functions\n",
        "  - Intro to Functions\n",
        "  - `def` Statements\n",
        "  - Examples\n",
        "  - Using `return`\n",
        "  - **5.0 Now Try This**\n",
        "- Errors and Exception Handling\n",
        "  - `try` and `except`\n",
        "  - `finally`\n",
        "  - **6.0 Now Try This**\n",
        "- Modules and Packages\n",
        "  - Writing Modules\n",
        "  - Writing Modules with Jupyter\n",
        "  - Writing Scripts\n",
        "  - Running Scripts\n",
        "  - Passing Command Line Arguments\n",
        "  - Understanding Modules\n",
        "  - Exploring Built-in Modules\n",
        "  - Writing Packages\n",
        "- Resources\n"
      ]
    },
    {
      "cell_type": "markdown",
      "metadata": {
        "colab_type": "text",
        "id": "R7I6cGKU_S9_"
      },
      "source": [
        "## Why, Where, and How we use Python\n",
        "\n",
        "Python is a very popular programming language that you can use to create applications and programs of all sizes and complexity. It is very easy to learn and write, making it very efficient to code with. Python is also the language of choice for many when performing comprehensive data analysis. "
      ]
    },
    {
      "cell_type": "markdown",
      "metadata": {
        "colab_type": "text",
        "id": "UE9OO2h1_2u_"
      },
      "source": [
        "## What we will be learning today\n",
        "\n",
        "### Goals\n",
        "- Understanding key Python data types, operators and data structures\n",
        "- Understanding functions\n",
        "- Understanding modules\n",
        "- Understanding errors and exceptions"
      ]
    },
    {
      "cell_type": "markdown",
      "metadata": {
        "id": "CTXy5knVeILs",
        "colab_type": "text"
      },
      "source": [
        "## Grading\n",
        "\n",
        "In order to work on the Now Try This (NTT) sections and submit them for grading, you'll need to run the code block below. It will ask for your student ID number and then create a folder that will store your answers for each question. At the very end of the notebook, there is a code section that will download this folder as a zip file to your computer. This zip file will be used as your final submission."
      ]
    },
    {
      "cell_type": "code",
      "metadata": {
        "id": "84-l3o9seILt",
        "colab_type": "code",
        "colab": {
          "base_uri": "https://localhost:8080/",
          "height": 51
        },
        "outputId": "accc5515-a27c-4ff0-85a0-b84c10ba88f1"
      },
      "source": [
        "import os\n",
        "import shutil\n",
        "\n",
        "!rm -rf sample_data\n",
        "\n",
        "student_id = input('Please Enter your Student ID: ') # Enter Student ID.\n",
        "\n",
        "while len(student_id) != 9:\n",
        " student_id = int('Please Enter your Student ID: ')  \n",
        "  \n",
        "folder_location = f'{student_id}/Week_Two/Now_Try_This' # Assume Week is Two\n",
        "if not os.path.exists(folder_location):\n",
        "  os.makedirs(folder_location)\n",
        "  print('Successfully Created Directory, Lets get started')\n",
        "else:\n",
        "  print('Directory Already Exists')"
      ],
      "execution_count": 1,
      "outputs": [
        {
          "output_type": "stream",
          "text": [
            "Please Enter your Student ID: 917003682\n",
            "Successfully Created Directory, Lets get started\n"
          ],
          "name": "stdout"
        }
      ]
    },
    {
      "cell_type": "markdown",
      "metadata": {
        "colab_type": "text",
        "id": "spnIHTTIZMl8"
      },
      "source": [
        "First data type we'll cover in detail is Numbers!"
      ]
    },
    {
      "cell_type": "markdown",
      "metadata": {
        "colab_type": "text",
        "id": "yn56q8ie3bCK"
      },
      "source": [
        "## Numbers"
      ]
    },
    {
      "cell_type": "markdown",
      "metadata": {
        "colab_type": "text",
        "id": "LvQ8LBU22wVE"
      },
      "source": [
        "### Types of numbers\n",
        "\n",
        "Python has various \"types\" of numbers. We'll strictly cover integers and floating point numbers for now.\n",
        "\n",
        "Integers are just whole numbers, including both positive and negative. (2,4,-21,etc.)\n",
        "\n",
        "Floating point numbers in Python have a decimal point in them, or use an exponential (e). For example 3.14 and 2.17 are *floats*. 5E7 (a.k.a. 5 times 10 to the power of 7) is also a float. This is scientific notation and something you've probably seen before in your previous math classes.\n",
        "\n",
        "Let's start working through numbers and arithmetic:"
      ]
    },
    {
      "cell_type": "markdown",
      "metadata": {
        "colab_type": "text",
        "id": "WlZ5c0m_2wVJ"
      },
      "source": [
        "### Basic Arithmetic"
      ]
    },
    {
      "cell_type": "code",
      "metadata": {
        "colab_type": "code",
        "id": "P0fJlFvk2wVQ",
        "colab": {
          "base_uri": "https://localhost:8080/",
          "height": 34
        },
        "outputId": "2b1ba3eb-d96a-4572-e5e4-73f843b9e770"
      },
      "source": [
        "# Addition\n",
        "4+5"
      ],
      "execution_count": 2,
      "outputs": [
        {
          "output_type": "execute_result",
          "data": {
            "text/plain": [
              "9"
            ]
          },
          "metadata": {
            "tags": []
          },
          "execution_count": 2
        }
      ]
    },
    {
      "cell_type": "code",
      "metadata": {
        "colab_type": "code",
        "id": "mtlYVK6b2wVj",
        "colab": {}
      },
      "source": [
        "# Subtraction\n",
        "5-10"
      ],
      "execution_count": null,
      "outputs": []
    },
    {
      "cell_type": "code",
      "metadata": {
        "colab_type": "code",
        "id": "_1f4Ofza2wV7",
        "colab": {}
      },
      "source": [
        "# Multiplication\n",
        "4*8"
      ],
      "execution_count": null,
      "outputs": []
    },
    {
      "cell_type": "code",
      "metadata": {
        "colab_type": "code",
        "id": "wUCF99zx2wWC",
        "colab": {}
      },
      "source": [
        "# Division\n",
        "25/5"
      ],
      "execution_count": null,
      "outputs": []
    },
    {
      "cell_type": "code",
      "metadata": {
        "colab_type": "code",
        "id": "DFVGzwgQ2wWH",
        "colab": {
          "base_uri": "https://localhost:8080/",
          "height": 34
        },
        "outputId": "639ca78b-b242-4389-a14e-6c7c67254993"
      },
      "source": [
        "# Floor Division\n",
        "12//5"
      ],
      "execution_count": 3,
      "outputs": [
        {
          "output_type": "execute_result",
          "data": {
            "text/plain": [
              "2"
            ]
          },
          "metadata": {
            "tags": []
          },
          "execution_count": 3
        }
      ]
    },
    {
      "cell_type": "markdown",
      "metadata": {
        "colab_type": "text",
        "id": "HKMA-ctF2wWS"
      },
      "source": [
        "What happened here?\n",
        "\n",
        "The reason we get this result (2) is because we are using \"*floor*\" division. The // operator (two forward slashes) removes any decimals and doesn't round. This always produces an integer answer."
      ]
    },
    {
      "cell_type": "markdown",
      "metadata": {
        "colab_type": "text",
        "id": "k14zoZRz2wWT"
      },
      "source": [
        "**So what if we just want the remainder?**"
      ]
    },
    {
      "cell_type": "code",
      "metadata": {
        "colab_type": "code",
        "id": "zAwDlKQr2wWW",
        "colab": {
          "base_uri": "https://localhost:8080/",
          "height": 34
        },
        "outputId": "8aa880cc-4b2f-4c0f-b719-de826066d177"
      },
      "source": [
        "# Modulo\n",
        "x = 9\n",
        "x % 4"
      ],
      "execution_count": 5,
      "outputs": [
        {
          "output_type": "execute_result",
          "data": {
            "text/plain": [
              "1"
            ]
          },
          "metadata": {
            "tags": []
          },
          "execution_count": 5
        }
      ]
    },
    {
      "cell_type": "markdown",
      "metadata": {
        "colab_type": "text",
        "id": "SmrF4pzM2wWd"
      },
      "source": [
        "4 goes into 9 twice, with a remainder of 1. The % (mod) operator returns the remainder after division."
      ]
    },
    {
      "cell_type": "markdown",
      "metadata": {
        "colab_type": "text",
        "id": "KUGhim7_2wWe"
      },
      "source": [
        "### Arithmetic continued"
      ]
    },
    {
      "cell_type": "code",
      "metadata": {
        "colab_type": "code",
        "id": "oCuQ17sV2wWf",
        "colab": {}
      },
      "source": [
        "# Powers\n",
        "4**2"
      ],
      "execution_count": null,
      "outputs": []
    },
    {
      "cell_type": "code",
      "metadata": {
        "colab_type": "code",
        "id": "zZ76i8rF2wWo",
        "colab": {}
      },
      "source": [
        "# A way to do roots\n",
        "144**0.5"
      ],
      "execution_count": null,
      "outputs": []
    },
    {
      "cell_type": "code",
      "metadata": {
        "colab_type": "code",
        "id": "m6AynMCF2wW4",
        "colab": {}
      },
      "source": [
        "# Order of Operations (PEMDAS)\n",
        "4 + 20 * 52 + 5"
      ],
      "execution_count": null,
      "outputs": []
    },
    {
      "cell_type": "code",
      "metadata": {
        "colab_type": "code",
        "id": "bTgQF0GX2wW8",
        "colab": {}
      },
      "source": [
        "# Can use parentheses to specify orders\n",
        "(21+5) * (4+89)"
      ],
      "execution_count": null,
      "outputs": []
    },
    {
      "cell_type": "markdown",
      "metadata": {
        "colab_type": "text",
        "id": "XSCsHC222wXP"
      },
      "source": [
        "## Variable Assignments\n",
        "\n",
        "We can do a lot more with Python than just using it as a calculator. We can store any numbers we create in **variables**.\n",
        "\n",
        "We use a single equals sign to assign labels or values to variables. Let's see a few examples of how we can do this."
      ]
    },
    {
      "cell_type": "code",
      "metadata": {
        "colab_type": "code",
        "id": "PRjmRrLJ2wXQ",
        "colab": {}
      },
      "source": [
        "# Let's create an object called \"a\" and assign it the number 10\n",
        "a = 10"
      ],
      "execution_count": null,
      "outputs": []
    },
    {
      "cell_type": "markdown",
      "metadata": {
        "colab_type": "text",
        "id": "2SZAO47P2wXY"
      },
      "source": [
        "Now if I call *a* in my code, Python will treat it as the integer 10."
      ]
    },
    {
      "cell_type": "code",
      "metadata": {
        "colab_type": "code",
        "id": "CNFrGd-m2wXa",
        "colab": {
          "base_uri": "https://localhost:8080/",
          "height": 181
        },
        "outputId": "da039db6-b00d-4361-dad2-054d00a146c9"
      },
      "source": [
        "# Adding the objects\n",
        "a+a"
      ],
      "execution_count": 6,
      "outputs": [
        {
          "output_type": "error",
          "ename": "NameError",
          "evalue": "ignored",
          "traceback": [
            "\u001b[0;31m---------------------------------------------------------------------------\u001b[0m",
            "\u001b[0;31mNameError\u001b[0m                                 Traceback (most recent call last)",
            "\u001b[0;32m<ipython-input-6-7f9021cd3b55>\u001b[0m in \u001b[0;36m<module>\u001b[0;34m()\u001b[0m\n\u001b[1;32m      1\u001b[0m \u001b[0;31m# Adding the objects\u001b[0m\u001b[0;34m\u001b[0m\u001b[0;34m\u001b[0m\u001b[0;34m\u001b[0m\u001b[0m\n\u001b[0;32m----> 2\u001b[0;31m \u001b[0ma\u001b[0m\u001b[0;34m+\u001b[0m\u001b[0ma\u001b[0m\u001b[0;34m\u001b[0m\u001b[0;34m\u001b[0m\u001b[0m\n\u001b[0m",
            "\u001b[0;31mNameError\u001b[0m: name 'a' is not defined"
          ]
        }
      ]
    },
    {
      "cell_type": "markdown",
      "metadata": {
        "colab_type": "text",
        "id": "TBfuZthz2wXg"
      },
      "source": [
        "What happens when we try to reassign a new value to the variable \"a\"? Will Python let us overwrite it?"
      ]
    },
    {
      "cell_type": "code",
      "metadata": {
        "colab_type": "code",
        "id": "IyUbGI6l2wXi",
        "colab": {}
      },
      "source": [
        "# Reassignment\n",
        "a = 20"
      ],
      "execution_count": null,
      "outputs": []
    },
    {
      "cell_type": "code",
      "metadata": {
        "colab_type": "code",
        "id": "TGLcpU8j2wXn",
        "colab": {}
      },
      "source": [
        "# Check\n",
        "a+a"
      ],
      "execution_count": null,
      "outputs": []
    },
    {
      "cell_type": "markdown",
      "metadata": {
        "colab_type": "text",
        "id": "CyeKAg962wXu"
      },
      "source": [
        "Yes! Python allows you to write over assigned variable names. We can also use the variables themselves when doing the reassignment. Here is an example of what I mean:"
      ]
    },
    {
      "cell_type": "code",
      "metadata": {
        "colab_type": "code",
        "id": "Rv40aCUd2wXv",
        "colab": {}
      },
      "source": [
        "# Check\n",
        "a"
      ],
      "execution_count": null,
      "outputs": []
    },
    {
      "cell_type": "code",
      "metadata": {
        "colab_type": "code",
        "id": "Ykxmc-gr2wX8",
        "colab": {}
      },
      "source": [
        "# Use a to redefine a\n",
        "a = a+a"
      ],
      "execution_count": null,
      "outputs": []
    },
    {
      "cell_type": "code",
      "metadata": {
        "colab_type": "code",
        "id": "kuz0ctr92wX_",
        "colab": {}
      },
      "source": [
        "# Check \n",
        "a"
      ],
      "execution_count": null,
      "outputs": []
    },
    {
      "cell_type": "markdown",
      "metadata": {
        "colab_type": "text",
        "id": "2cD46_8c2wYC"
      },
      "source": [
        "The names you use when creating these labels need to follow a few rules:\n",
        "\n",
        "    1. Names can not start with a number. (9ine)\n",
        "    2. There can be no spaces in the name, use _ instead. (variable name)\n",
        "    3. Can't use any of these symbols :'\",<>/?|\\()!@#$%^&*~-+ (ab?de)\n",
        "    4. Using lowercase names are best practice.\n",
        "    5. Avoid using the characters 'l' (lowercase letter el), 'O' (uppercase letter oh), \n",
        "       or 'I' (uppercase letter eye) as single character variable names.\n",
        "    6. Avoid using words that have special meaning in Python like \"list\" and \"str\"\n",
        "\n",
        "\n",
        "Naming variables properly is a very easy way to make clear what your code is doing. For example:"
      ]
    },
    {
      "cell_type": "code",
      "metadata": {
        "colab_type": "code",
        "id": "vkyIeiFs2wYD",
        "colab": {}
      },
      "source": [
        "# Use meaningful variable names to keep better track of what's going on in your code!\n",
        "income = 1000\n",
        "\n",
        "tax_rate = 0.2\n",
        "\n",
        "taxes = income*tax_rate"
      ],
      "execution_count": null,
      "outputs": []
    },
    {
      "cell_type": "code",
      "metadata": {
        "colab_type": "code",
        "id": "2YlBECQF2wYH",
        "colab": {}
      },
      "source": [
        "# Show the result!\n",
        "taxes"
      ],
      "execution_count": null,
      "outputs": []
    },
    {
      "cell_type": "markdown",
      "metadata": {
        "colab_type": "text",
        "id": "kHJyh-qD2wYL"
      },
      "source": [
        "So what have we learned? We learned some of the basics of numbers in Python. We also learned how to do arithmetic and use Python as a basic calculator. We then wrapped it up with learning about Variable Assignment in Python.\n",
        "\n",
        "Up next we'll learn about Strings!"
      ]
    },
    {
      "cell_type": "markdown",
      "metadata": {
        "colab_type": "text",
        "id": "P3C3zJ-7Nr_3"
      },
      "source": [
        "## Strings"
      ]
    },
    {
      "cell_type": "markdown",
      "metadata": {
        "colab_type": "text",
        "id": "UH3RobEsNr_4"
      },
      "source": [
        "In python, we utilize strings to represent words and phrases. For example, the following is a string \"I ate 3 cookies.\" Do note that the number 3 in this case is considered a string and not an integer. \n",
        "\n",
        "Strings are just one example of what we call a ***sequence*** in Python, which is a set of data in a specific order. In this case, a string is a set of letters. \n",
        "\n",
        "For example, Python understands the string \"hello\" is different from the string \"ehllo\". \n"
      ]
    },
    {
      "cell_type": "markdown",
      "metadata": {
        "colab_type": "text",
        "id": "x6IrT_vuNr_5"
      },
      "source": [
        "### Creating Strings\n",
        "To create a string in Python, you need to use either single quotes or double quotes. For example:"
      ]
    },
    {
      "cell_type": "code",
      "metadata": {
        "colab_type": "code",
        "id": "rYqOQqWwNr_6",
        "colab": {}
      },
      "source": [
        "# A word\n",
        "'hi'"
      ],
      "execution_count": null,
      "outputs": []
    },
    {
      "cell_type": "code",
      "metadata": {
        "colab_type": "code",
        "id": "B0h3v-fTNr__",
        "colab": {}
      },
      "source": [
        "# A phrase\n",
        "'A string can even be a sentence like this.'"
      ],
      "execution_count": null,
      "outputs": []
    },
    {
      "cell_type": "code",
      "metadata": {
        "colab_type": "code",
        "id": "aqcRSHvPNsAC",
        "colab": {}
      },
      "source": [
        "# Using double quotes\n",
        "\"The quote type doesn't really matter.\""
      ],
      "execution_count": null,
      "outputs": []
    },
    {
      "cell_type": "code",
      "metadata": {
        "colab_type": "code",
        "id": "mmszjr3vNsAG",
        "colab": {}
      },
      "source": [
        "# Be wary of contractions and apostrophes!\n",
        "'I'm using single quotes, but this will create an error'"
      ],
      "execution_count": null,
      "outputs": []
    },
    {
      "cell_type": "markdown",
      "metadata": {
        "colab_type": "text",
        "id": "0MoF6XYPNsAJ"
      },
      "source": [
        "The reason for the error above is because Python thought that the single quote in <code>I'm</code> marked the end of the string. Instead, you can use a combination of double and single quotes to avoid this kind of problem. "
      ]
    },
    {
      "cell_type": "code",
      "metadata": {
        "colab_type": "code",
        "id": "wSVUTR4LNsAK",
        "colab": {}
      },
      "source": [
        "\"This shouldn't cause an error now.\""
      ],
      "execution_count": null,
      "outputs": []
    },
    {
      "cell_type": "markdown",
      "metadata": {
        "colab_type": "text",
        "id": "4I_0dIPHNsAN"
      },
      "source": [
        "Now let's learn about printing strings!"
      ]
    },
    {
      "cell_type": "markdown",
      "metadata": {
        "colab_type": "text",
        "id": "vfiOvQCHNsAO"
      },
      "source": [
        "### Printing Strings\n",
        "\n",
        "Jupyter Notebooks have many neat features that aren't available in normal Python. One of those is the ability to display strings by just typing it into a cell and running it. The universal Python way to display strings, however, is to use a **print()** statement."
      ]
    },
    {
      "cell_type": "code",
      "metadata": {
        "colab_type": "code",
        "id": "pDoK1QbvNsAO",
        "colab": {}
      },
      "source": [
        "# In Jupyter, this is all we need\n",
        "'Hello World'"
      ],
      "execution_count": null,
      "outputs": []
    },
    {
      "cell_type": "code",
      "metadata": {
        "colab_type": "code",
        "id": "DArJAbvzNsAV",
        "colab": {}
      },
      "source": [
        "# But we can't print multiple strings\n",
        "'Hello World'\n",
        "'Second string'"
      ],
      "execution_count": null,
      "outputs": []
    },
    {
      "cell_type": "markdown",
      "metadata": {
        "colab_type": "text",
        "id": "JzKtMgFeNsAZ"
      },
      "source": [
        "A print statement can look like the following."
      ]
    },
    {
      "cell_type": "code",
      "metadata": {
        "colab_type": "code",
        "id": "1lSct0DqNsAZ",
        "colab": {
          "base_uri": "https://localhost:8080/",
          "height": 102
        },
        "outputId": "fb480fb4-2ffd-4e0c-9ad5-274173b2ee4e"
      },
      "source": [
        "print('Hello World')\n",
        "print('Second string')\n",
        "\n",
        "# \"\\n\" prints a new line\n",
        "print('\\n')\n",
        "\n",
        "print('Just to prove it to you.')"
      ],
      "execution_count": 6,
      "outputs": [
        {
          "output_type": "stream",
          "text": [
            "Hello World\n",
            "Second string\n",
            "\n",
            "\n",
            "Just to prove it to you.\n"
          ],
          "name": "stdout"
        }
      ]
    },
    {
      "cell_type": "markdown",
      "metadata": {
        "colab_type": "text",
        "id": "gENpAoMScPl7"
      },
      "source": [
        "Now let's move on to understanding how we can work with strings in our programs."
      ]
    },
    {
      "cell_type": "markdown",
      "metadata": {
        "colab_type": "text",
        "id": "5IkjMPlcNsAd"
      },
      "source": [
        "### String Basics"
      ]
    },
    {
      "cell_type": "markdown",
      "metadata": {
        "colab_type": "text",
        "id": "3Ti5Nv7aNsAe"
      },
      "source": [
        "Strings are made up of characters, which are anything you type. \n",
        "\n",
        "For example, the following is a string: \"I ate 3 cookies.\" \n",
        "From this sentence, the \"I\", the \"3\", the spaces \" \", as well as the period \".\" are examples of characters. \n",
        "\n",
        "Oftentimes, we would like to know how many characters are in a string. \n",
        "\n",
        "We can do this very easily with the **len()** statement. \"len\" is short for length. "
      ]
    },
    {
      "cell_type": "code",
      "metadata": {
        "colab_type": "code",
        "id": "uBNGvj9uNsAf",
        "colab": {
          "base_uri": "https://localhost:8080/",
          "height": 34
        },
        "outputId": "6e350fa2-0e42-4e4f-b603-8c641200fa74"
      },
      "source": [
        "len('Hello World')"
      ],
      "execution_count": 7,
      "outputs": [
        {
          "output_type": "execute_result",
          "data": {
            "text/plain": [
              "11"
            ]
          },
          "metadata": {
            "tags": []
          },
          "execution_count": 7
        }
      ]
    },
    {
      "cell_type": "markdown",
      "metadata": {
        "colab_type": "text",
        "id": "bZonsZQnNsAi"
      },
      "source": [
        "Python's built-in len() function counts all of the characters in the string, including spaces and punctuation.\n",
        "\n",
        "Note: We are utilizing the term \"function\" which will be explained in further detail later on in the course. "
      ]
    },
    {
      "cell_type": "markdown",
      "metadata": {
        "colab_type": "text",
        "id": "AgTf4FqtcnD9"
      },
      "source": [
        "Just as we did with numbers, we can assign strings to variables."
      ]
    },
    {
      "cell_type": "code",
      "metadata": {
        "colab_type": "code",
        "id": "RbYyeFrLNsAk",
        "colab": {}
      },
      "source": [
        "# Assign 'Hello World' to mystring variable\n",
        "mystring = 'Hello World'"
      ],
      "execution_count": 8,
      "outputs": []
    },
    {
      "cell_type": "code",
      "metadata": {
        "colab_type": "code",
        "id": "3sAvAFHzNsAp",
        "colab": {}
      },
      "source": [
        "# Did it work?\n",
        "mystring"
      ],
      "execution_count": null,
      "outputs": []
    },
    {
      "cell_type": "code",
      "metadata": {
        "colab_type": "code",
        "id": "Dda7HfhGNsAr",
        "colab": {}
      },
      "source": [
        "# Print it to make sure\n",
        "print(mystring) "
      ],
      "execution_count": null,
      "outputs": []
    },
    {
      "cell_type": "markdown",
      "metadata": {
        "colab_type": "text",
        "id": "lk8bxjtCNsAw"
      },
      "source": [
        "As stated before, Python treats strings as a set of characters. That means we can interact with each individual letter in a string and work with it. \n",
        "\n",
        "The way we pick out these letters is called **indexing**. \n",
        "\n",
        "Imagine a line of people. Then there is a first person in line, a second, and so forth. As you are referring to these individuals by their position in line, you are indexing. You can apply this same concept to strings! \n",
        "\n",
        "Each letter has an index, which corresponds to their position within the string. In Python, indices start at 0. For instance, in the string 'Hello World', 'H' has an index of 0, the 'W' has an index of 6 (because spaces also count as characters), and 'd' has an index of 10. The format for indexing is shown below."
      ]
    },
    {
      "cell_type": "code",
      "metadata": {
        "colab_type": "code",
        "id": "Fgzo1XrCNsAx",
        "colab": {}
      },
      "source": [
        "# Index first character in a string.\n",
        "mystring[0]"
      ],
      "execution_count": null,
      "outputs": []
    },
    {
      "cell_type": "code",
      "metadata": {
        "colab_type": "code",
        "id": "0kcd-9EZNsA1",
        "colab": {}
      },
      "source": [
        "mystring[1]"
      ],
      "execution_count": null,
      "outputs": []
    },
    {
      "cell_type": "code",
      "metadata": {
        "colab_type": "code",
        "id": "8M44L4hMNsA4",
        "colab": {}
      },
      "source": [
        "mystring[2]"
      ],
      "execution_count": null,
      "outputs": []
    },
    {
      "cell_type": "markdown",
      "metadata": {
        "colab_type": "text",
        "id": "ky7Zm-NENsA7"
      },
      "source": [
        "We can use a <code>:</code> to perform *slicing* which allows you to pick out multiple characters in a string at once. To do so, you specify a range of indices. For example:"
      ]
    },
    {
      "cell_type": "code",
      "metadata": {
        "colab_type": "code",
        "id": "jQKnWrNtNsA8",
        "colab": {}
      },
      "source": [
        "# Grab all letters past the first letter all the way to the end of the string. This is a trivial example. \n",
        "mystring[:]"
      ],
      "execution_count": null,
      "outputs": []
    },
    {
      "cell_type": "code",
      "metadata": {
        "colab_type": "code",
        "id": "otKc90t_NsBB",
        "colab": {}
      },
      "source": [
        "# This does not change the original string in any way\n",
        "mystring"
      ],
      "execution_count": null,
      "outputs": []
    },
    {
      "cell_type": "code",
      "metadata": {
        "colab_type": "code",
        "id": "f9xrirSANsBD",
        "colab": {
          "base_uri": "https://localhost:8080/",
          "height": 35
        },
        "outputId": "86717c0a-a18e-443f-9227-3f4aabd47cb4"
      },
      "source": [
        "# Grab everything UP TO the 5th index\n",
        "mystring[:5]"
      ],
      "execution_count": 10,
      "outputs": [
        {
          "output_type": "execute_result",
          "data": {
            "application/vnd.google.colaboratory.intrinsic+json": {
              "type": "string"
            },
            "text/plain": [
              "'Hello'"
            ]
          },
          "metadata": {
            "tags": []
          },
          "execution_count": 10
        }
      ]
    },
    {
      "cell_type": "markdown",
      "metadata": {
        "colab_type": "text",
        "id": "5dp4GDO0NsBG"
      },
      "source": [
        "Note what happened above. We told Python to grab everything from 0 up to 5. It doesn't include the character in the 5th index (\" \"). You'll notice this a lot in Python, where statements are usually in the context of \"up to, but not including\"."
      ]
    },
    {
      "cell_type": "code",
      "metadata": {
        "id": "mfUzDlat-WqH",
        "colab_type": "code",
        "colab": {
          "base_uri": "https://localhost:8080/",
          "height": 35
        },
        "outputId": "81b3ecd9-d8b2-4295-8d76-bf74cb29bcb2"
      },
      "source": [
        "# Grab everything from \"1\" to before \"o\"\n",
        "mystring[2:7]"
      ],
      "execution_count": 9,
      "outputs": [
        {
          "output_type": "execute_result",
          "data": {
            "application/vnd.google.colaboratory.intrinsic+json": {
              "type": "string"
            },
            "text/plain": [
              "'llo W'"
            ]
          },
          "metadata": {
            "tags": []
          },
          "execution_count": 9
        }
      ]
    },
    {
      "cell_type": "markdown",
      "metadata": {
        "colab_type": "text",
        "id": "lksAiQL6NsBK"
      },
      "source": [
        "We don't always have to index from the beginning to the end. Negative indexing allows us to start from the *end* of the string and work backwards."
      ]
    },
    {
      "cell_type": "code",
      "metadata": {
        "colab_type": "code",
        "id": "8TywqyZ-NsBL",
        "colab": {}
      },
      "source": [
        "# Last letter (one index behind 0 so it loops back around)\n",
        "mystring[-1]"
      ],
      "execution_count": null,
      "outputs": []
    },
    {
      "cell_type": "code",
      "metadata": {
        "colab_type": "code",
        "id": "LTzPovveNsBO",
        "colab": {}
      },
      "source": [
        "# Grab everything but the last letter\n",
        "mystring[:-1]"
      ],
      "execution_count": null,
      "outputs": []
    },
    {
      "cell_type": "markdown",
      "metadata": {
        "colab_type": "text",
        "id": "XxBxY0SBNsBQ"
      },
      "source": [
        "We can also use indexing and slicing to skip characters by a specified amount (1 is the default step size which means we do not skip any characters). See the following examples:"
      ]
    },
    {
      "cell_type": "code",
      "metadata": {
        "colab_type": "code",
        "id": "D4GZPT3mNsBR",
        "colab": {}
      },
      "source": [
        "# Grab everything, but go in step size of 1\n",
        "mystring[::1]"
      ],
      "execution_count": null,
      "outputs": []
    },
    {
      "cell_type": "code",
      "metadata": {
        "colab_type": "code",
        "id": "PjDfDe3gNsBU",
        "colab": {}
      },
      "source": [
        "# Grab everything, but go in step size of 2\n",
        "mystring[0::2]"
      ],
      "execution_count": null,
      "outputs": []
    },
    {
      "cell_type": "code",
      "metadata": {
        "colab_type": "code",
        "id": "5t-mgi-KNsBW",
        "colab": {}
      },
      "source": [
        "# A handy way to reverse a string!\n",
        "mystring[::-1]"
      ],
      "execution_count": null,
      "outputs": []
    },
    {
      "cell_type": "markdown",
      "metadata": {
        "colab_type": "text",
        "id": "jPCEC_LvfRZp"
      },
      "source": [
        "Strings have certain properties to them that affect the way we can, and cannot, work with them."
      ]
    },
    {
      "cell_type": "markdown",
      "metadata": {
        "colab_type": "text",
        "id": "P1U1VtJENsBZ"
      },
      "source": [
        "### String Properties\n",
        "It's important to note that strings are *immutable*. This means that once a string is created, the elements within it can not be changed or replaced. For example:"
      ]
    },
    {
      "cell_type": "code",
      "metadata": {
        "colab_type": "code",
        "id": "xvPyEmYpNsBa",
        "colab": {}
      },
      "source": [
        "mystring"
      ],
      "execution_count": null,
      "outputs": []
    },
    {
      "cell_type": "code",
      "metadata": {
        "colab_type": "code",
        "id": "NDk66bjZNsBc",
        "colab": {}
      },
      "source": [
        "# Let's try to change the first letter\n",
        "mystring[0] = 'a'"
      ],
      "execution_count": null,
      "outputs": []
    },
    {
      "cell_type": "markdown",
      "metadata": {
        "colab_type": "text",
        "id": "p_Q9e1MoNsBf"
      },
      "source": [
        "The error tells it us to straight. Strings do not support assignment the same way other data types do.\n",
        "\n",
        "However, we *can* **concatenate** strings."
      ]
    },
    {
      "cell_type": "code",
      "metadata": {
        "colab_type": "code",
        "id": "MUaQkaxfNsBg",
        "colab": {}
      },
      "source": [
        "mystring"
      ],
      "execution_count": null,
      "outputs": []
    },
    {
      "cell_type": "code",
      "metadata": {
        "colab_type": "code",
        "id": "6MkkAvD9NsBk",
        "colab": {}
      },
      "source": [
        "# Combine strings through concatenation\n",
        "mystring + \". It's me.\""
      ],
      "execution_count": null,
      "outputs": []
    },
    {
      "cell_type": "code",
      "metadata": {
        "colab_type": "code",
        "id": "_BEU6-T0NsBn",
        "colab": {}
      },
      "source": [
        "# We can reassign mystring to a new value, however\n",
        "mystring = mystring + \". It's me.\""
      ],
      "execution_count": null,
      "outputs": []
    },
    {
      "cell_type": "code",
      "metadata": {
        "colab_type": "code",
        "id": "vdYO-sKKNsBq",
        "colab": {}
      },
      "source": [
        "print(mystring)"
      ],
      "execution_count": null,
      "outputs": []
    },
    {
      "cell_type": "code",
      "metadata": {
        "colab_type": "code",
        "id": "42B3Xw-KNsBt",
        "colab": {}
      },
      "source": [
        "mystring"
      ],
      "execution_count": null,
      "outputs": []
    },
    {
      "cell_type": "markdown",
      "metadata": {
        "colab_type": "text",
        "id": "n0u6E5p7NsBw"
      },
      "source": [
        "One neat trick we can do with strings is use multiplication whenever we want to repeat characters a certain number of times."
      ]
    },
    {
      "cell_type": "code",
      "metadata": {
        "colab_type": "code",
        "id": "eFYcAGkWNsBw",
        "colab": {}
      },
      "source": [
        "letter = 'a'"
      ],
      "execution_count": null,
      "outputs": []
    },
    {
      "cell_type": "code",
      "metadata": {
        "colab_type": "code",
        "id": "9W5K-pOqNsBy",
        "colab": {}
      },
      "source": [
        "letter*20"
      ],
      "execution_count": null,
      "outputs": []
    },
    {
      "cell_type": "markdown",
      "metadata": {
        "colab_type": "text",
        "id": "QVrhPwoGhubY"
      },
      "source": [
        "We already saw how to use len(). This is an example of a built-in string method, but there are quite a few more which we will cover next."
      ]
    },
    {
      "cell_type": "markdown",
      "metadata": {
        "colab_type": "text",
        "id": "m7KcM_wENsB1"
      },
      "source": [
        "### Basic Built-in String methods\n",
        "\n",
        "Objects in Python usually have built-in methods. These methods are functions inside the object that can perform actions or commands on the object itself.\n",
        "\n",
        "We call methods with a period and then the method name. Methods are in the form:\n",
        "\n",
        "object.method(parameters)\n",
        "\n",
        "Parameters are extra arguments we can pass into the method. Don't worry if the details don't make 100% sense right now. We will be going into more depth with these later.\n",
        "\n",
        "Here are some examples of built-in methods in strings:"
      ]
    },
    {
      "cell_type": "code",
      "metadata": {
        "colab_type": "code",
        "id": "NoO8TSuwNsB2",
        "colab": {}
      },
      "source": [
        "mystring"
      ],
      "execution_count": null,
      "outputs": []
    },
    {
      "cell_type": "code",
      "metadata": {
        "colab_type": "code",
        "id": "7RyvdFNGNsB5",
        "colab": {}
      },
      "source": [
        "# Make all letters in a string uppercase\n",
        "mystring.upper()"
      ],
      "execution_count": null,
      "outputs": []
    },
    {
      "cell_type": "code",
      "metadata": {
        "colab_type": "code",
        "id": "0sUWl6CANsB-",
        "colab": {}
      },
      "source": [
        "# Make all letters in a string lowercase\n",
        "mystring.lower()"
      ],
      "execution_count": null,
      "outputs": []
    },
    {
      "cell_type": "code",
      "metadata": {
        "colab_type": "code",
        "id": "z7tHM7qPNsCC",
        "colab": {}
      },
      "source": [
        "# Split strings with a specified character as the separator. Spaces are the default.\n",
        "mystring.split()"
      ],
      "execution_count": null,
      "outputs": []
    },
    {
      "cell_type": "code",
      "metadata": {
        "colab_type": "code",
        "id": "Rr-Qqn3tNsCH",
        "colab": {}
      },
      "source": [
        "# Split by a specific character (doesn't include the character in the resulting string)\n",
        "mystring.split('W')"
      ],
      "execution_count": null,
      "outputs": []
    },
    {
      "cell_type": "markdown",
      "metadata": {
        "colab_type": "text",
        "id": "4o2jcAAhNsCL"
      },
      "source": [
        "There are many more methods than the ones covered here. Visit the Advanced String section to find out more!"
      ]
    },
    {
      "cell_type": "markdown",
      "metadata": {
        "colab_type": "text",
        "id": "IENyrelfNsCM"
      },
      "source": [
        "### Print Formatting\n",
        "\n",
        "We can use the .format() method to inject string-formatted objects into strings\n",
        "\n",
        "The easiest way to show this is through an example:"
      ]
    },
    {
      "cell_type": "code",
      "metadata": {
        "colab_type": "code",
        "id": "wxqKz5c8NsCM",
        "colab": {}
      },
      "source": [
        "'The Eiffel Tower is in: {}'.format('Paris')"
      ],
      "execution_count": null,
      "outputs": []
    },
    {
      "cell_type": "code",
      "metadata": {
        "colab_type": "code",
        "id": "ZtwDFyu7k0U6",
        "colab": {}
      },
      "source": [
        "# We can also use variables\n",
        "paris = \"Paris\"\n",
        "\n",
        "'The Eiffel Tower is in: {}'.format(paris)"
      ],
      "execution_count": null,
      "outputs": []
    },
    {
      "cell_type": "markdown",
      "metadata": {
        "colab_type": "text",
        "id": "x90qHJh7DzpF"
      },
      "source": [
        "### 1.0 Now Try This"
      ]
    },
    {
      "cell_type": "markdown",
      "metadata": {
        "colab_type": "text",
        "id": "2jQg-dN0ZbY-"
      },
      "source": [
        "Given the string 'Amsterdam' give an index command that returns 'd'. Enter your code in the cell below:"
      ]
    },
    {
      "cell_type": "code",
      "metadata": {
        "colab_type": "code",
        "id": "3G3a5dNZZbY_",
        "colab": {}
      },
      "source": [
        "# Once your have verified your answer please uncomment the line below and run it, this will save your code \n",
        "#%%writefile -a {folder_location}/1.py\n",
        "# Please note that if you uncomment and rub multiple times, the program will keep appending to the file.\n",
        "\n",
        "s = 'Amsterdam'\n",
        "# Print out 'd' using indexing\n",
        "answer1 = # INSERT CODE HERE\n",
        "print(answer1)\n"
      ],
      "execution_count": null,
      "outputs": []
    },
    {
      "cell_type": "markdown",
      "metadata": {
        "colab_type": "text",
        "id": "ilw29z4OZbZE"
      },
      "source": [
        "Reverse the string 'Amsterdam' using slicing:"
      ]
    },
    {
      "cell_type": "code",
      "metadata": {
        "colab_type": "code",
        "id": "BABsKQN4ZbZE",
        "colab": {}
      },
      "source": [
        "# Once your have verified your answer please uncomment the line below and run it, this will save your code \n",
        "#%%writefile -a {folder_location}/1.py\n",
        "# Please note that if you uncomment and rub multiple times, the program will keep appending to the file.\n",
        "\n",
        "s ='Amsterdam'\n",
        "# Reverse the string using slicing\n",
        "answer2 = # INSERT CODE HERE\n",
        "print(answer2)"
      ],
      "execution_count": null,
      "outputs": []
    },
    {
      "cell_type": "markdown",
      "metadata": {
        "colab_type": "text",
        "id": "rgM2B4rmZbZI"
      },
      "source": [
        "Given the string Amsterdam, extract the letter 'm' using negative indexing."
      ]
    },
    {
      "cell_type": "code",
      "metadata": {
        "colab_type": "code",
        "id": "rZiItM7hZbZK",
        "colab": {}
      },
      "source": [
        "# Once your have verified your answer please uncomment the line below and run it, this will save your code \n",
        "#%%writefile -a {folder_location}/1.py\n",
        "# Please note that if you uncomment and rub multiple times, the program will keep appending to the file.\n",
        "\n",
        "s ='Amsterdam'\n",
        "\n",
        "# Print out the 'm'\n",
        "answer3 = # INSERT CODE HERE\n",
        "print(answer3)"
      ],
      "execution_count": null,
      "outputs": []
    },
    {
      "cell_type": "markdown",
      "metadata": {
        "colab_type": "text",
        "id": "hrXZof6r218Z"
      },
      "source": [
        "## Booleans\n",
        "\n",
        "Python comes with *booleans* (values that are essentially binary: True or False, 1 or 0). It also has a placeholder object called None. Let's walk through a few quick examples of Booleans."
      ]
    },
    {
      "cell_type": "code",
      "metadata": {
        "colab_type": "code",
        "id": "UGHMeXpD218a",
        "colab": {}
      },
      "source": [
        "# Set object to be a boolean\n",
        "a = True"
      ],
      "execution_count": null,
      "outputs": []
    },
    {
      "cell_type": "code",
      "metadata": {
        "colab_type": "code",
        "id": "B7BmKhMA218d",
        "colab": {}
      },
      "source": [
        "#Show\n",
        "a"
      ],
      "execution_count": null,
      "outputs": []
    },
    {
      "cell_type": "markdown",
      "metadata": {
        "colab_type": "text",
        "id": "sdZjutML218i"
      },
      "source": [
        "We can also use comparison operators to create booleans. We'll cover comparison operators a little later."
      ]
    },
    {
      "cell_type": "code",
      "metadata": {
        "colab_type": "code",
        "id": "CsA40nxa218j",
        "colab": {}
      },
      "source": [
        "# Output is boolean\n",
        "1 > 2"
      ],
      "execution_count": null,
      "outputs": []
    },
    {
      "cell_type": "markdown",
      "metadata": {
        "colab_type": "text",
        "id": "Q0d2MOxp218p"
      },
      "source": [
        "We can use None as a placeholder for an object that we don't want to reassign yet:"
      ]
    },
    {
      "cell_type": "code",
      "metadata": {
        "colab_type": "code",
        "id": "-6L2eHxX218q",
        "colab": {}
      },
      "source": [
        "# None placeholder\n",
        "b = None"
      ],
      "execution_count": null,
      "outputs": []
    },
    {
      "cell_type": "code",
      "metadata": {
        "colab_type": "code",
        "id": "5AkpZ6Gu218u",
        "colab": {}
      },
      "source": [
        "# Show\n",
        "print(b)"
      ],
      "execution_count": null,
      "outputs": []
    },
    {
      "cell_type": "markdown",
      "metadata": {
        "colab_type": "text",
        "id": "0VOMDbyu218x"
      },
      "source": [
        "That's all to booleans! Next we start covering data structures. First up, lists."
      ]
    },
    {
      "cell_type": "markdown",
      "metadata": {
        "colab_type": "text",
        "id": "06d6iMqfOk_Z"
      },
      "source": [
        "## Lists\n",
        "\n",
        "Earlier when discussing strings we introduced the concept of a *sequence*. Lists is the most generalized version of sequences in Python. Unlike strings, they are mutable, meaning the elements inside a list can be changed!\n",
        "\n",
        "Lists are constructed with brackets [] and commas separating every element in the list.\n",
        "\n",
        "Let's start with seeing how we can build a list."
      ]
    },
    {
      "cell_type": "markdown",
      "metadata": {
        "colab_type": "text",
        "id": "UGViz_ZWjVTP"
      },
      "source": [
        "### Creating Lists"
      ]
    },
    {
      "cell_type": "code",
      "metadata": {
        "colab_type": "code",
        "id": "93uSScXTOk_a",
        "colab": {}
      },
      "source": [
        "# Assign a list to an variable named my_list\n",
        "my_list = [1,2,3]"
      ],
      "execution_count": null,
      "outputs": []
    },
    {
      "cell_type": "markdown",
      "metadata": {
        "colab_type": "text",
        "id": "9ggyXUl8Ok_e"
      },
      "source": [
        "We just created a list of integers, but lists can actually hold elements of multiple data types. For example:"
      ]
    },
    {
      "cell_type": "code",
      "metadata": {
        "colab_type": "code",
        "id": "TPyS5RpIOk_g",
        "colab": {}
      },
      "source": [
        "my_list = ['A string',23,100.232,'o']"
      ],
      "execution_count": null,
      "outputs": []
    },
    {
      "cell_type": "markdown",
      "metadata": {
        "colab_type": "text",
        "id": "vRJ7rYkuOk_l"
      },
      "source": [
        "Just like strings, the len() function will tell you how many items are in the sequence of the list."
      ]
    },
    {
      "cell_type": "code",
      "metadata": {
        "colab_type": "code",
        "id": "ukEGubDvOk_m",
        "colab": {}
      },
      "source": [
        "len(my_list)"
      ],
      "execution_count": null,
      "outputs": []
    },
    {
      "cell_type": "code",
      "metadata": {
        "colab_type": "code",
        "id": "oWgtuVsmOk_q",
        "colab": {}
      },
      "source": [
        "my_list = ['one','two','three',4,5]"
      ],
      "execution_count": null,
      "outputs": []
    },
    {
      "cell_type": "code",
      "metadata": {
        "colab_type": "code",
        "id": "xDX7DN7uOk_t",
        "colab": {}
      },
      "source": [
        "# Grab element at index 0\n",
        "my_list[0]"
      ],
      "execution_count": null,
      "outputs": []
    },
    {
      "cell_type": "code",
      "metadata": {
        "colab_type": "code",
        "id": "4Z36l5JOOk_x",
        "colab": {}
      },
      "source": [
        "# Grab index 1 and everything past it\n",
        "my_list[1:]"
      ],
      "execution_count": null,
      "outputs": []
    },
    {
      "cell_type": "code",
      "metadata": {
        "colab_type": "code",
        "id": "VjuHzfJvOk_1",
        "colab": {}
      },
      "source": [
        "# Grab everything UP TO index 3\n",
        "my_list[:3]"
      ],
      "execution_count": null,
      "outputs": []
    },
    {
      "cell_type": "markdown",
      "metadata": {
        "colab_type": "text",
        "id": "a4zfPBV5Ok_4"
      },
      "source": [
        "We can also use + to concatenate lists, just like we did for strings."
      ]
    },
    {
      "cell_type": "code",
      "metadata": {
        "colab_type": "code",
        "id": "34u_E9sVOk_5",
        "colab": {}
      },
      "source": [
        "my_list + ['new item']"
      ],
      "execution_count": null,
      "outputs": []
    },
    {
      "cell_type": "markdown",
      "metadata": {
        "colab_type": "text",
        "id": "uWeYqzrdOk_8"
      },
      "source": [
        "Note: This doesn't actually change the original list!"
      ]
    },
    {
      "cell_type": "code",
      "metadata": {
        "colab_type": "code",
        "id": "iDezs3lnOk_8",
        "colab": {}
      },
      "source": [
        "my_list"
      ],
      "execution_count": null,
      "outputs": []
    },
    {
      "cell_type": "markdown",
      "metadata": {
        "colab_type": "text",
        "id": "HpAWR1hJOlAA"
      },
      "source": [
        "You would have to reassign the list to make the change permanent."
      ]
    },
    {
      "cell_type": "code",
      "metadata": {
        "colab_type": "code",
        "id": "eFNB5w3fOlAA",
        "colab": {}
      },
      "source": [
        "# Reassign\n",
        "my_list = my_list + ['add new item permanently']"
      ],
      "execution_count": null,
      "outputs": []
    },
    {
      "cell_type": "code",
      "metadata": {
        "colab_type": "code",
        "id": "fm453awNOlAE",
        "colab": {}
      },
      "source": [
        "my_list"
      ],
      "execution_count": null,
      "outputs": []
    },
    {
      "cell_type": "markdown",
      "metadata": {
        "colab_type": "text",
        "id": "R-yDV_PQOlAH"
      },
      "source": [
        "We can also use the * for a duplication method similar to strings:"
      ]
    },
    {
      "cell_type": "code",
      "metadata": {
        "colab_type": "code",
        "id": "XNaw0iQKOlAI",
        "colab": {}
      },
      "source": [
        "# Make the list double\n",
        "my_list * 2"
      ],
      "execution_count": null,
      "outputs": []
    },
    {
      "cell_type": "code",
      "metadata": {
        "colab_type": "code",
        "id": "RlKGPzVHOlAK",
        "colab": {}
      },
      "source": [
        "# Again doubling not permanent\n",
        "my_list"
      ],
      "execution_count": null,
      "outputs": []
    },
    {
      "cell_type": "markdown",
      "metadata": {
        "colab_type": "text",
        "id": "R9hddNpTtVc6"
      },
      "source": [
        "Let's move on to exploring some basic list methods."
      ]
    },
    {
      "cell_type": "markdown",
      "metadata": {
        "colab_type": "text",
        "id": "zjduIynaOlAP"
      },
      "source": [
        "### Basic List Methods\n",
        "\n",
        "If you are familiar with another programming language, you might start to draw parallels between arrays in another language and lists in Python. Lists in Python however, tend to be more flexible than arrays in other languages for two reasons: they have no fixed size (meaning we don't have to specify how big a list will be), and they have no fixed type constraint (like we've seen above).\n",
        "\n",
        "Let's go ahead and explore some more special methods for lists:"
      ]
    },
    {
      "cell_type": "code",
      "metadata": {
        "colab_type": "code",
        "id": "A4xC0i8NOlAQ",
        "colab": {}
      },
      "source": [
        "# Create a new list\n",
        "list1 = [1,2,3]"
      ],
      "execution_count": null,
      "outputs": []
    },
    {
      "cell_type": "markdown",
      "metadata": {
        "colab_type": "text",
        "id": "qLfxNw4yOlAU"
      },
      "source": [
        "Use the **append** method to permanently add an item to the end of a list:"
      ]
    },
    {
      "cell_type": "code",
      "metadata": {
        "colab_type": "code",
        "id": "C-TiI_eUOlAV",
        "colab": {}
      },
      "source": [
        "# Append\n",
        "list1.append('append me!')"
      ],
      "execution_count": null,
      "outputs": []
    },
    {
      "cell_type": "code",
      "metadata": {
        "colab_type": "code",
        "id": "Jaj9-tzgOlAZ",
        "colab": {}
      },
      "source": [
        "# Show\n",
        "list1"
      ],
      "execution_count": null,
      "outputs": []
    },
    {
      "cell_type": "markdown",
      "metadata": {
        "colab_type": "text",
        "id": "7CIIhCgYOlAd"
      },
      "source": [
        "Use **pop** to \"pop off\" an item from the list. By default pop takes off the last index, but you can also specify which index to pop off. Let's see an example:"
      ]
    },
    {
      "cell_type": "code",
      "metadata": {
        "colab_type": "code",
        "id": "hnX-fPkBOlAe",
        "colab": {}
      },
      "source": [
        "# Pop off the 0 indexed item\n",
        "list1.pop(0)"
      ],
      "execution_count": null,
      "outputs": []
    },
    {
      "cell_type": "code",
      "metadata": {
        "colab_type": "code",
        "id": "JrMYJOQdOlAh",
        "colab": {}
      },
      "source": [
        "# Show\n",
        "list1"
      ],
      "execution_count": null,
      "outputs": []
    },
    {
      "cell_type": "code",
      "metadata": {
        "colab_type": "code",
        "id": "ttUAkqYWOlAl",
        "colab": {}
      },
      "source": [
        "# Assign the popped element, remember default popped index is last element\n",
        "popped_item = list1.pop()"
      ],
      "execution_count": null,
      "outputs": []
    },
    {
      "cell_type": "code",
      "metadata": {
        "colab_type": "code",
        "id": "XQhQbsqnOlAo",
        "colab": {}
      },
      "source": [
        "popped_item"
      ],
      "execution_count": null,
      "outputs": []
    },
    {
      "cell_type": "code",
      "metadata": {
        "colab_type": "code",
        "id": "avcnqEe0OlAq",
        "colab": {}
      },
      "source": [
        "# Show remaining list\n",
        "list1"
      ],
      "execution_count": null,
      "outputs": []
    },
    {
      "cell_type": "markdown",
      "metadata": {
        "colab_type": "text",
        "id": "8Z-DqqQiOlAt"
      },
      "source": [
        "It should also be noted that lists indexing will return an error if there is no element at that index. For example:"
      ]
    },
    {
      "cell_type": "code",
      "metadata": {
        "colab_type": "code",
        "id": "4W5S_ImiOlAu",
        "colab": {}
      },
      "source": [
        "list1[100]"
      ],
      "execution_count": null,
      "outputs": []
    },
    {
      "cell_type": "markdown",
      "metadata": {
        "colab_type": "text",
        "id": "YPVuQbfQOlAx"
      },
      "source": [
        "We can use the **sort** method and the **reverse** methods to also effect your lists:"
      ]
    },
    {
      "cell_type": "code",
      "metadata": {
        "colab_type": "code",
        "id": "OhTzTsCqOlAy",
        "colab": {}
      },
      "source": [
        "new_list = ['a','e','x','b','c']"
      ],
      "execution_count": null,
      "outputs": []
    },
    {
      "cell_type": "code",
      "metadata": {
        "colab_type": "code",
        "id": "LXiwPqUCOlA4",
        "colab": {}
      },
      "source": [
        "#Show\n",
        "new_list"
      ],
      "execution_count": null,
      "outputs": []
    },
    {
      "cell_type": "code",
      "metadata": {
        "colab_type": "code",
        "id": "WskGGD9iOlA6",
        "colab": {}
      },
      "source": [
        "# Use reverse to reverse order (this is permanent!)\n",
        "new_list.reverse()"
      ],
      "execution_count": null,
      "outputs": []
    },
    {
      "cell_type": "code",
      "metadata": {
        "colab_type": "code",
        "id": "xhx2Ct42OlA9",
        "colab": {}
      },
      "source": [
        "new_list"
      ],
      "execution_count": null,
      "outputs": []
    },
    {
      "cell_type": "code",
      "metadata": {
        "colab_type": "code",
        "id": "g3-2LXA8OlA_",
        "colab": {}
      },
      "source": [
        "# Use sort to sort the list (in this case alphabetical order, but for numbers it will go ascending)\n",
        "new_list.sort()"
      ],
      "execution_count": null,
      "outputs": []
    },
    {
      "cell_type": "code",
      "metadata": {
        "colab_type": "code",
        "id": "KVBuaoI0OlBD",
        "colab": {}
      },
      "source": [
        "new_list"
      ],
      "execution_count": null,
      "outputs": []
    },
    {
      "cell_type": "markdown",
      "metadata": {
        "colab_type": "text",
        "id": "ZMIKx3AjOlBH"
      },
      "source": [
        "### Nesting Lists\n",
        "A great feature of Python data structures is that they support *nesting*. This means we can have data structures within data structures. For example: A list inside a list.\n",
        "\n",
        "Let's see how this works!"
      ]
    },
    {
      "cell_type": "code",
      "metadata": {
        "colab_type": "code",
        "id": "-P9Wkw91OlBI",
        "colab": {}
      },
      "source": [
        "# Let's make three lists\n",
        "lst_1=[1,2,3]\n",
        "lst_2=[4,5,6]\n",
        "lst_3=[7,8,9]\n",
        "\n",
        "# Make a list of lists to form a matrix\n",
        "matrix = [lst_1,lst_2,lst_3]"
      ],
      "execution_count": null,
      "outputs": []
    },
    {
      "cell_type": "code",
      "metadata": {
        "colab_type": "code",
        "id": "eMKJk5cLOlBK",
        "colab": {}
      },
      "source": [
        "# Show\n",
        "matrix"
      ],
      "execution_count": null,
      "outputs": []
    },
    {
      "cell_type": "markdown",
      "metadata": {
        "colab_type": "text",
        "id": "1CiTJaLFOlBN"
      },
      "source": [
        "We can again use indexing to grab elements, but now there are two levels for the index. The items in the matrix object, and then the items inside that list!"
      ]
    },
    {
      "cell_type": "code",
      "metadata": {
        "colab_type": "code",
        "id": "fK_B1F2iOlBN",
        "colab": {}
      },
      "source": [
        "# Grab first item in matrix object\n",
        "matrix[0]"
      ],
      "execution_count": null,
      "outputs": []
    },
    {
      "cell_type": "code",
      "metadata": {
        "colab_type": "code",
        "id": "L2qEysM1OlBQ",
        "colab": {}
      },
      "source": [
        "# Grab first item of the first item in the matrix object\n",
        "matrix[0][0]"
      ],
      "execution_count": null,
      "outputs": []
    },
    {
      "cell_type": "markdown",
      "metadata": {
        "colab_type": "text",
        "id": "z1QjkkW0pbVF"
      },
      "source": [
        "### List Comprehensions\n",
        "Python has an advanced feature called list comprehensions. They allow for quick construction of lists. To fully understand list comprehensions we need to understand for loops. So don't worry if you don't completely understand this section, and feel free to just skip it since we will return to this topic later.\n",
        "\n",
        "But in case you want to know now, here are a few examples!"
      ]
    },
    {
      "cell_type": "code",
      "metadata": {
        "colab_type": "code",
        "id": "o7aDV8oipbVF",
        "colab": {}
      },
      "source": [
        "# Build a list comprehension by deconstructing a for loop within a []\n",
        "first_col = [row[0] for row in matrix]"
      ],
      "execution_count": null,
      "outputs": []
    },
    {
      "cell_type": "code",
      "metadata": {
        "colab_type": "code",
        "id": "vpLojxrypbVH",
        "colab": {}
      },
      "source": [
        "first_col"
      ],
      "execution_count": null,
      "outputs": []
    },
    {
      "cell_type": "markdown",
      "metadata": {
        "colab_type": "text",
        "id": "9G723yu0pbVK"
      },
      "source": [
        "We used a list comprehension here to grab the first element of every row in the matrix object. We will cover this in much more detail later on!"
      ]
    },
    {
      "cell_type": "markdown",
      "metadata": {
        "colab_type": "text",
        "id": "jlS7xu6QFvqJ"
      },
      "source": [
        "### 2.0 Now Try This"
      ]
    },
    {
      "cell_type": "markdown",
      "metadata": {
        "colab_type": "text",
        "id": "IKYj6iiBZbZR"
      },
      "source": [
        "Build this list [0,0,0] using any of the shown ways."
      ]
    },
    {
      "cell_type": "code",
      "metadata": {
        "colab_type": "code",
        "id": "qvMc4qjWZbZY",
        "colab": {}
      },
      "source": [
        "# Once your have verified your answer please uncomment the line below and run it, this will save your code \n",
        "#%%writefile -a {folder_location}/2.py\n",
        "# Please note that if you uncomment and press multiple times, the program will keep appending to the file.\n",
        "\n",
        "# Build the list\n",
        "answer1 = #INSERT CODE HERE\n",
        "print(answer1)"
      ],
      "execution_count": null,
      "outputs": []
    },
    {
      "cell_type": "markdown",
      "metadata": {
        "colab_type": "text",
        "id": "TIvqQqsBZbZn"
      },
      "source": [
        "Reassign 'hello' in this nested list to say 'goodbye' instead:"
      ]
    },
    {
      "cell_type": "code",
      "metadata": {
        "colab_type": "code",
        "id": "20643TYxZbZo",
        "colab": {}
      },
      "source": [
        "# Once your have verified your answer please uncomment the line below and run it, this will save your code \n",
        "#%%writefile -a {folder_location}/2.py\n",
        "# Please note that if you uncomment and press multiple times, the program will keep appending to the file.\n",
        "\n",
        "answer2 = [1,2,[3,4,'hello']]\n",
        "answer2 = #INSERT CODE HERE\n",
        "print(answer2)"
      ],
      "execution_count": null,
      "outputs": []
    },
    {
      "cell_type": "markdown",
      "metadata": {
        "colab_type": "text",
        "id": "v_zLIslPZbZw"
      },
      "source": [
        "Sort the list below:"
      ]
    },
    {
      "cell_type": "code",
      "metadata": {
        "colab_type": "code",
        "id": "IJZRvdN7ZbZx",
        "colab": {}
      },
      "source": [
        "# Once your have verified your answer please uncomment the line below and run it, this will save your code \n",
        "#%%writefile -a {folder_location}/2.py\n",
        "# Please note that if you uncomment and press multiple times, the program will keep appending to the file.\n",
        "\n",
        "answer3 = [5,3,4,6,1]\n",
        "answer3 = #INSERT CODE HERE\n",
        "print(answer3)"
      ],
      "execution_count": null,
      "outputs": []
    },
    {
      "cell_type": "markdown",
      "metadata": {
        "colab_type": "text",
        "id": "qDEeD8_NBbSc"
      },
      "source": [
        "## Tuples\n",
        "\n",
        "In Python tuples are very similar to lists, however, unlike lists they are *immutable* meaning they can not be changed. You would use tuples to present things that shouldn't be changed, such as days of the week, or dates on a calendar. \n",
        "\n",
        "You'll have an intuition of how to use tuples based on what you've learned about lists. We can treat them very similarly with the major distinction being that tuples are immutable."
      ]
    },
    {
      "cell_type": "markdown",
      "metadata": {
        "colab_type": "text",
        "id": "WDYmdzPj935W"
      },
      "source": [
        "### Constructing Tuples\n",
        "\n",
        "The construction of a tuples use () with elements separated by commas. For example:"
      ]
    },
    {
      "cell_type": "code",
      "metadata": {
        "colab_type": "code",
        "id": "PI539KXHBbSe",
        "colab": {}
      },
      "source": [
        "# Create a tuple\n",
        "t = (1,2,3)"
      ],
      "execution_count": null,
      "outputs": []
    },
    {
      "cell_type": "code",
      "metadata": {
        "colab_type": "code",
        "id": "dU_pWYhQBbSi",
        "colab": {}
      },
      "source": [
        "# Check len just like a list\n",
        "len(t)"
      ],
      "execution_count": null,
      "outputs": []
    },
    {
      "cell_type": "code",
      "metadata": {
        "colab_type": "code",
        "id": "QtnrN6_PBbSm",
        "colab": {}
      },
      "source": [
        "# Can also mix object types\n",
        "t = ('one',2)\n",
        "\n",
        "# Show\n",
        "t"
      ],
      "execution_count": null,
      "outputs": []
    },
    {
      "cell_type": "code",
      "metadata": {
        "colab_type": "code",
        "id": "xyu4CGwZBbSq",
        "colab": {}
      },
      "source": [
        "# Use indexing just like we did in lists\n",
        "t[0]"
      ],
      "execution_count": null,
      "outputs": []
    },
    {
      "cell_type": "code",
      "metadata": {
        "colab_type": "code",
        "id": "jVjWrQYUBbSt",
        "colab": {}
      },
      "source": [
        "# Slicing just like a list\n",
        "t[-1]"
      ],
      "execution_count": null,
      "outputs": []
    },
    {
      "cell_type": "markdown",
      "metadata": {
        "colab_type": "text",
        "id": "DBLmUGHfBbSw"
      },
      "source": [
        "### Basic Tuple Methods\n",
        "\n",
        "Tuples have built-in methods, but not as many as lists do. Let's look at two of them:"
      ]
    },
    {
      "cell_type": "code",
      "metadata": {
        "colab_type": "code",
        "id": "9iAxkxEfBbSx",
        "colab": {}
      },
      "source": [
        "# Use .index to enter a value and return the index\n",
        "t.index('one')"
      ],
      "execution_count": null,
      "outputs": []
    },
    {
      "cell_type": "code",
      "metadata": {
        "colab_type": "code",
        "id": "YxcUO8JhBbS2",
        "colab": {}
      },
      "source": [
        "# Use .count to count the number of times a value appears\n",
        "t.count('one')"
      ],
      "execution_count": null,
      "outputs": []
    },
    {
      "cell_type": "markdown",
      "metadata": {
        "colab_type": "text",
        "id": "gchvjroRBbS5"
      },
      "source": [
        "### Immutability\n",
        "\n",
        "It can't be stressed enough that tuples are immutable. To drive that point home:"
      ]
    },
    {
      "cell_type": "code",
      "metadata": {
        "colab_type": "code",
        "id": "x5Omi4MfBbS6",
        "colab": {}
      },
      "source": [
        "t[0]= 'change'"
      ],
      "execution_count": null,
      "outputs": []
    },
    {
      "cell_type": "markdown",
      "metadata": {
        "colab_type": "text",
        "id": "DSTAAnzkBbS_"
      },
      "source": [
        "Because of this immutability, tuples can't grow. Once a tuple is made we can not add to it."
      ]
    },
    {
      "cell_type": "code",
      "metadata": {
        "colab_type": "code",
        "id": "jNZlWZrzBbS_",
        "colab": {}
      },
      "source": [
        "t.append('nope')"
      ],
      "execution_count": null,
      "outputs": []
    },
    {
      "cell_type": "markdown",
      "metadata": {
        "colab_type": "text",
        "id": "rbJsQW4vBbTD"
      },
      "source": [
        "### When to use Tuples\n",
        "\n",
        "You may be wondering, \"Why bother using tuples when they have fewer available methods?\" To be honest, tuples are not used as often as lists in programming, but are used when immutability is necessary. If in your program you are passing around an object and need to make sure it does not get changed, then a tuple becomes your solution. It provides a convenient source of data integrity.\n",
        "\n",
        "You should now be able to create and use tuples in your programming as well as have an understanding of their immutability."
      ]
    },
    {
      "cell_type": "markdown",
      "metadata": {
        "colab_type": "text",
        "id": "GavPLpw0GjP_"
      },
      "source": [
        "### 3.0 Now Try This"
      ]
    },
    {
      "cell_type": "markdown",
      "metadata": {
        "colab_type": "text",
        "id": "2XImAqwcZbaH"
      },
      "source": [
        "Create a tuple."
      ]
    },
    {
      "cell_type": "code",
      "metadata": {
        "id": "JNKxQlgfeIQx",
        "colab_type": "code",
        "colab": {}
      },
      "source": [
        "# Once your have verified your answer please uncomment the line below and run it, this will save your code \n",
        "#%%writefile -a {folder_location}/3.py\n",
        "# Please note that if you uncomment and press multiple times, the program will keep appending to the file. \n",
        "# So only uncomment it when you want to save your answer.\n",
        "\n",
        "answer1 = #INSERT CODE HERE\n",
        "print(type(answer1))"
      ],
      "execution_count": null,
      "outputs": []
    },
    {
      "cell_type": "markdown",
      "metadata": {
        "colab_type": "text",
        "id": "Gml2Q3rPOzP6"
      },
      "source": [
        "## Dictionaries\n",
        "\n",
        "We've been learning about *sequences* in Python but now we're going to switch gears and learn about *mappings* in Python. If you're familiar with other languages you can think of dictionaries as hash tables. \n",
        "\n",
        "So what are mappings? Mappings are a collection of objects that are stored by a *key*, unlike a sequence that stored objects by their relative position. This is an important distinction, since mappings won't retain order as is no *order* to keys..\n",
        "\n",
        "A Python dictionary consists of a key and then an associated value. That value can be almost any Python object."
      ]
    },
    {
      "cell_type": "markdown",
      "metadata": {
        "colab_type": "text",
        "id": "j5v_alrd8KaO"
      },
      "source": [
        "### Constructing a Dictionary\n",
        "Let's see how we can build dictionaries and better understand how they work."
      ]
    },
    {
      "cell_type": "code",
      "metadata": {
        "colab_type": "code",
        "id": "Ibt_zazrOzP7",
        "colab": {}
      },
      "source": [
        "# Make a dictionary with {} and : to signify a key and a value\n",
        "my_dict = {'key1':'value1','key2':'value2'}"
      ],
      "execution_count": null,
      "outputs": []
    },
    {
      "cell_type": "code",
      "metadata": {
        "colab_type": "code",
        "id": "UcpULUI4OzQC",
        "colab": {}
      },
      "source": [
        "# Call values by their key\n",
        "my_dict['key2']"
      ],
      "execution_count": null,
      "outputs": []
    },
    {
      "cell_type": "markdown",
      "metadata": {
        "colab_type": "text",
        "id": "17-ijFwFOzQI"
      },
      "source": [
        "Its important to note that dictionaries are very flexible in the data types they can hold. For example:"
      ]
    },
    {
      "cell_type": "code",
      "metadata": {
        "colab_type": "code",
        "id": "j7ZWMM7oOzQJ",
        "colab": {}
      },
      "source": [
        "my_dict = {'key1':123,'key2':[12,23,33],'key3':['item0','item1','item2']}"
      ],
      "execution_count": null,
      "outputs": []
    },
    {
      "cell_type": "code",
      "metadata": {
        "colab_type": "code",
        "id": "57kiUxF2OzQO",
        "colab": {}
      },
      "source": [
        "# Let's call items from the dictionary\n",
        "my_dict['key3']"
      ],
      "execution_count": null,
      "outputs": []
    },
    {
      "cell_type": "code",
      "metadata": {
        "colab_type": "code",
        "id": "f0T3aDArOzQT",
        "colab": {}
      },
      "source": [
        "# Can call an index on that value\n",
        "my_dict['key3'][0]"
      ],
      "execution_count": null,
      "outputs": []
    },
    {
      "cell_type": "code",
      "metadata": {
        "colab_type": "code",
        "id": "cB7xzb4FOzQY",
        "colab": {}
      },
      "source": [
        "# Can then even call methods on that value\n",
        "my_dict['key3'][0].upper()"
      ],
      "execution_count": null,
      "outputs": []
    },
    {
      "cell_type": "markdown",
      "metadata": {
        "colab_type": "text",
        "id": "VfbPr4MpOzQf"
      },
      "source": [
        "We can affect the values of a key as well. For instance:"
      ]
    },
    {
      "cell_type": "code",
      "metadata": {
        "colab_type": "code",
        "id": "5P_IW7-wOzQh",
        "colab": {}
      },
      "source": [
        "my_dict['key1']"
      ],
      "execution_count": null,
      "outputs": []
    },
    {
      "cell_type": "code",
      "metadata": {
        "colab_type": "code",
        "id": "_JE2n8BLOzQn",
        "colab": {}
      },
      "source": [
        "# Subtract 123 from the value\n",
        "my_dict['key1'] = my_dict['key1'] - 123"
      ],
      "execution_count": null,
      "outputs": []
    },
    {
      "cell_type": "code",
      "metadata": {
        "colab_type": "code",
        "id": "UZQnyDq3OzQq",
        "colab": {}
      },
      "source": [
        "#Check\n",
        "my_dict['key1']"
      ],
      "execution_count": null,
      "outputs": []
    },
    {
      "cell_type": "markdown",
      "metadata": {
        "colab_type": "text",
        "id": "Ba8UE39VOzQv"
      },
      "source": [
        "A quick note, Python has a built-in method of doing a self subtraction or addition (or multiplication or division). We could have also used += or -= for the above statement. For example:"
      ]
    },
    {
      "cell_type": "code",
      "metadata": {
        "colab_type": "code",
        "id": "enQczBulOzQw",
        "colab": {}
      },
      "source": [
        "# Set the object equal to itself minus 123 \n",
        "my_dict['key1'] -= 123\n",
        "my_dict['key1']"
      ],
      "execution_count": null,
      "outputs": []
    },
    {
      "cell_type": "markdown",
      "metadata": {
        "colab_type": "text",
        "id": "Ym1tQXryOzQ0"
      },
      "source": [
        "We can also create keys by assignment. For instance if we started off with an empty dictionary, we could continually add to it:"
      ]
    },
    {
      "cell_type": "code",
      "metadata": {
        "colab_type": "code",
        "id": "XYTOL_t6OzQ0",
        "colab": {}
      },
      "source": [
        "# Create a new dictionary\n",
        "d = {}"
      ],
      "execution_count": null,
      "outputs": []
    },
    {
      "cell_type": "code",
      "metadata": {
        "colab_type": "code",
        "id": "6cxK3dXhOzQ4",
        "colab": {}
      },
      "source": [
        "# Create a new key through assignment\n",
        "d['animal'] = 'Dog'"
      ],
      "execution_count": null,
      "outputs": []
    },
    {
      "cell_type": "code",
      "metadata": {
        "colab_type": "code",
        "id": "2udYamqwOzQ7",
        "colab": {}
      },
      "source": [
        "# Can do this with any object\n",
        "d['answer'] = 42"
      ],
      "execution_count": null,
      "outputs": []
    },
    {
      "cell_type": "code",
      "metadata": {
        "colab_type": "code",
        "id": "LIICwuVGOzQ_",
        "colab": {}
      },
      "source": [
        "#Show\n",
        "d"
      ],
      "execution_count": null,
      "outputs": []
    },
    {
      "cell_type": "markdown",
      "metadata": {
        "colab_type": "text",
        "id": "lQjKGTqyOzRD"
      },
      "source": [
        "### Nesting with Dictionaries\n",
        "\n",
        "Hopefully you're starting to see how powerful Python is with its flexibility of nesting objects and calling methods on them. Let's see a dictionary nested inside a dictionary:"
      ]
    },
    {
      "cell_type": "code",
      "metadata": {
        "colab_type": "code",
        "id": "SqlnsrceOzRD",
        "colab": {}
      },
      "source": [
        "# Dictionary nested inside a dictionary nested inside a dictionary\n",
        "d = {'key1':{'nestkey':{'subnestkey':'value'}}}"
      ],
      "execution_count": null,
      "outputs": []
    },
    {
      "cell_type": "markdown",
      "metadata": {
        "colab_type": "text",
        "id": "S9j8ZHcvOzRG"
      },
      "source": [
        "Seems complicated, but let's see how we can grab that value:"
      ]
    },
    {
      "cell_type": "code",
      "metadata": {
        "colab_type": "code",
        "id": "vbNLXS9COzRH",
        "colab": {}
      },
      "source": [
        "# Keep calling the keys\n",
        "d['key1']['nestkey']['subnestkey']"
      ],
      "execution_count": null,
      "outputs": []
    },
    {
      "cell_type": "markdown",
      "metadata": {
        "colab_type": "text",
        "id": "aToEjqLPOzRK"
      },
      "source": [
        "### Dictionary Methods\n",
        "\n",
        "There are a few methods we can call on a dictionary. Let's get a quick introduction to a few of them:"
      ]
    },
    {
      "cell_type": "code",
      "metadata": {
        "colab_type": "code",
        "id": "NizEqIn3OzRK",
        "colab": {}
      },
      "source": [
        "# Create a typical dictionary\n",
        "d = {'key1':1,'key2':2,'key3':3}"
      ],
      "execution_count": null,
      "outputs": []
    },
    {
      "cell_type": "code",
      "metadata": {
        "colab_type": "code",
        "id": "F_d4EiF0OzRN",
        "colab": {}
      },
      "source": [
        "# Method to return a list of all keys \n",
        "d.keys()"
      ],
      "execution_count": null,
      "outputs": []
    },
    {
      "cell_type": "code",
      "metadata": {
        "colab_type": "code",
        "id": "vXhVyVd3OzRP",
        "colab": {}
      },
      "source": [
        "# Method to grab all values\n",
        "d.values()"
      ],
      "execution_count": null,
      "outputs": []
    },
    {
      "cell_type": "code",
      "metadata": {
        "colab_type": "code",
        "id": "JPkBFpoGOzRR",
        "colab": {}
      },
      "source": [
        "# Method to return tuples of all items  (we'll learn about tuples soon)\n",
        "d.items()"
      ],
      "execution_count": null,
      "outputs": []
    },
    {
      "cell_type": "markdown",
      "metadata": {
        "colab_type": "text",
        "id": "jljY3mE2G-oX"
      },
      "source": [
        "### 4.0 Now Try This\n"
      ]
    },
    {
      "cell_type": "markdown",
      "metadata": {
        "colab_type": "text",
        "id": "MAp2fG9nZbZ6"
      },
      "source": [
        "Using keys and indexing, grab the 'hello' from the following dictionaries:"
      ]
    },
    {
      "cell_type": "code",
      "metadata": {
        "colab_type": "code",
        "id": "5nfaiz0yZbZ6",
        "colab": {}
      },
      "source": [
        "# Once your have verified your answer please uncomment the line below and run it, this will save your code \n",
        "#%%writefile -a {folder_location}/4.py\n",
        "# Please note that if you uncomment and press multiple times, the program will keep appending to the file.\n",
        "# So only uncomment it when you want to save your answer.\n",
        "\n",
        "d = {'simple_key':'hello'}\n",
        "\n",
        "# Grab 'hello'\n",
        "answer1 = #INSERT CODE HERE\n",
        "print(answer1)"
      ],
      "execution_count": null,
      "outputs": []
    },
    {
      "cell_type": "code",
      "metadata": {
        "colab_type": "code",
        "id": "2ddxOLcqZbZ9",
        "colab": {}
      },
      "source": [
        "# Once your have verified your answer please uncomment the line below and run it, this will save your code \n",
        "#%%writefile -a {folder_location}/4.py\n",
        "# Please note that if you uncomment and press multiple times, the program will keep appending to the file.\n",
        "# So only uncomment it when you want to save your answer.\n",
        "\n",
        "d = {'k1':{'k2':'hello'}}\n",
        "\n",
        "# Grab 'hello'\n",
        "answer2 = #INSERT CODE HERE\n",
        "print(answer2)"
      ],
      "execution_count": null,
      "outputs": []
    },
    {
      "cell_type": "code",
      "metadata": {
        "colab_type": "code",
        "id": "rJlGHUFTZbaA",
        "colab": {}
      },
      "source": [
        "# Once your have verified your answer please uncomment the line below and run it, this will save your code \n",
        "#%%writefile -a {folder_location}/4.py\n",
        "# Please note that if you uncomment and press multiple times, the program will keep appending to the file.\n",
        "# So only uncomment it when you want to save your answer.\n",
        "\n",
        "# Getting a little tricker\n",
        "d = {'k1':[{'nest_key':['this is deep',['hello']]}]}\n",
        "\n",
        "#Grab hello\n",
        "answer3 = #INSERT CODE HERE\n",
        "print(answer3)"
      ],
      "execution_count": null,
      "outputs": []
    },
    {
      "cell_type": "code",
      "metadata": {
        "colab_type": "code",
        "id": "vjadbMt3ZbaE",
        "colab": {}
      },
      "source": [
        "# Once your have verified your answer please uncomment the line below and run it, this will save your code \n",
        "#%%writefile -a {folder_location}/4.py\n",
        "# Please note that if you uncomment and press multiple times, the program will keep appending to the file.\n",
        "# So only uncomment it when you want to save your answer.\n",
        "\n",
        "# This will be hard and annoying!\n",
        "d = {'k1':[1,2,{'k2':['this is tricky',{'tough':[1,2,['hello']]}]}]}\n",
        "\n",
        "# Grab hello\n",
        "answer4 = #INSERT CODE HERE\n",
        "print(answer4)"
      ],
      "execution_count": null,
      "outputs": []
    },
    {
      "cell_type": "markdown",
      "metadata": {
        "colab_type": "text",
        "id": "_d9-nOtO28os"
      },
      "source": [
        "## Comparison Operators \n",
        "\n",
        "As stated previously, comparison operators allow us to compare variables and output a Boolean value (True or False). \n",
        "\n",
        "These operators are the exact same as what you've seen in Math, so there's nothing new here.\n",
        "\n",
        "First we'll present a table of the comparison operators and then work through some examples:\n",
        "\n",
        "<h2> Table of Comparison Operators </h2><p>  In the table below, a=9 and b=11.</p>\n",
        "\n",
        "<table class=\"table table-bordered\">\n",
        "<tr>\n",
        "<th style=\"width:10%\">Operator</th><th style=\"width:45%\">Description</th><th>Example</th>\n",
        "</tr>\n",
        "<tr>\n",
        "<td>==</td>\n",
        "<td>If the values of two operands are equal, then the condition becomes true.</td>\n",
        "<td> (a == b) is not true.</td>\n",
        "</tr>\n",
        "<tr>\n",
        "<td>!=</td>\n",
        "<td>If values of two operands are not equal, then condition becomes true.</td>\n",
        "<td>(a != b) is true</td>\n",
        "</tr>\n",
        "<tr>\n",
        "<td>&gt;</td>\n",
        "<td>If the value of left operand is greater than the value of right operand, then condition becomes true.</td>\n",
        "<td> (a &gt; b) is not true.</td>\n",
        "</tr>\n",
        "<tr>\n",
        "<td>&lt;</td>\n",
        "<td>If the value of left operand is less than the value of right operand, then condition becomes true.</td>\n",
        "<td> (a &lt; b) is true.</td>\n",
        "</tr>\n",
        "<tr>\n",
        "<td>&gt;=</td>\n",
        "<td>If the value of left operand is greater than or equal to the value of right operand, then condition becomes true.</td>\n",
        "<td> (a &gt;= b) is not true. </td>\n",
        "</tr>\n",
        "<tr>\n",
        "<td>&lt;=</td>\n",
        "<td>If the value of left operand is less than or equal to the value of right operand, then condition becomes true.</td>\n",
        "<td> (a &lt;= b) is true. </td>\n",
        "</tr>\n",
        "</table>"
      ]
    },
    {
      "cell_type": "markdown",
      "metadata": {
        "colab_type": "text",
        "id": "Oxyatrdj28ow"
      },
      "source": [
        "Let's now work through quick examples of each of these.\n",
        "\n",
        "#### Equal"
      ]
    },
    {
      "cell_type": "code",
      "metadata": {
        "colab_type": "code",
        "id": "rPThJGsl28ox",
        "colab": {}
      },
      "source": [
        "4 == 4"
      ],
      "execution_count": null,
      "outputs": []
    },
    {
      "cell_type": "code",
      "metadata": {
        "colab_type": "code",
        "id": "W2W27aBp28o1",
        "colab": {}
      },
      "source": [
        "1 == 0"
      ],
      "execution_count": null,
      "outputs": []
    },
    {
      "cell_type": "markdown",
      "metadata": {
        "colab_type": "text",
        "id": "gtzQpCPO28o5"
      },
      "source": [
        "Note that <code>==</code> is a <em>comparison</em> operator, while <code>=</code> is an <em>assignment</em> operator."
      ]
    },
    {
      "cell_type": "markdown",
      "metadata": {
        "colab_type": "text",
        "id": "4FSgFc8y28o5"
      },
      "source": [
        "#### Not Equal"
      ]
    },
    {
      "cell_type": "code",
      "metadata": {
        "colab_type": "code",
        "id": "BNQaWArv28o6",
        "colab": {}
      },
      "source": [
        "4 != 5"
      ],
      "execution_count": null,
      "outputs": []
    },
    {
      "cell_type": "code",
      "metadata": {
        "colab_type": "code",
        "id": "D9hVgJsD28o9",
        "colab": {}
      },
      "source": [
        "1 != 1"
      ],
      "execution_count": null,
      "outputs": []
    },
    {
      "cell_type": "markdown",
      "metadata": {
        "colab_type": "text",
        "id": "iVvotha-28pD"
      },
      "source": [
        "#### Greater Than"
      ]
    },
    {
      "cell_type": "code",
      "metadata": {
        "colab_type": "code",
        "id": "qA1VVR7128pI",
        "colab": {}
      },
      "source": [
        "8 > 3"
      ],
      "execution_count": null,
      "outputs": []
    },
    {
      "cell_type": "code",
      "metadata": {
        "colab_type": "code",
        "id": "PrZb9Zy_28pN",
        "colab": {}
      },
      "source": [
        "1 > 9"
      ],
      "execution_count": null,
      "outputs": []
    },
    {
      "cell_type": "markdown",
      "metadata": {
        "colab_type": "text",
        "id": "PYK9vEa-28pT"
      },
      "source": [
        "#### Less Than"
      ]
    },
    {
      "cell_type": "code",
      "metadata": {
        "colab_type": "code",
        "id": "f5x67fWk28pU",
        "colab": {}
      },
      "source": [
        "3 < 8"
      ],
      "execution_count": null,
      "outputs": []
    },
    {
      "cell_type": "code",
      "metadata": {
        "colab_type": "code",
        "id": "1eB15ns928pX",
        "colab": {}
      },
      "source": [
        "7 < 0"
      ],
      "execution_count": null,
      "outputs": []
    },
    {
      "cell_type": "markdown",
      "metadata": {
        "colab_type": "text",
        "id": "wDXSDbik28pa"
      },
      "source": [
        "#### Greater Than or Equal to"
      ]
    },
    {
      "cell_type": "code",
      "metadata": {
        "colab_type": "code",
        "id": "k4BQs2oB28pb",
        "colab": {}
      },
      "source": [
        "7 >= 7"
      ],
      "execution_count": null,
      "outputs": []
    },
    {
      "cell_type": "code",
      "metadata": {
        "colab_type": "code",
        "id": "BPBKLDtb28pd",
        "colab": {}
      },
      "source": [
        "9 >= 4"
      ],
      "execution_count": null,
      "outputs": []
    },
    {
      "cell_type": "markdown",
      "metadata": {
        "colab_type": "text",
        "id": "ai1kLMhy28pi"
      },
      "source": [
        "#### Less than or Equal to"
      ]
    },
    {
      "cell_type": "code",
      "metadata": {
        "colab_type": "code",
        "id": "5KuB4wd028pi",
        "colab": {}
      },
      "source": [
        "4 <= 4"
      ],
      "execution_count": null,
      "outputs": []
    },
    {
      "cell_type": "code",
      "metadata": {
        "colab_type": "code",
        "id": "YFbO6yih28pl",
        "colab": {}
      },
      "source": [
        "1 <= 3"
      ],
      "execution_count": null,
      "outputs": []
    },
    {
      "cell_type": "markdown",
      "metadata": {
        "colab_type": "text",
        "id": "eIDePOLk28po"
      },
      "source": [
        "Hopefully this was more of a review than anything new! Next, we move on to one of the most important aspects of building programs: functions and how to use them."
      ]
    },
    {
      "cell_type": "markdown",
      "metadata": {
        "colab_type": "text",
        "id": "JWmMpmPaNWcX"
      },
      "source": [
        "## Functions\n",
        "\n",
        "### Introduction to Functions\n",
        "\n",
        "Here, we will explain what a function is in Python and how to create one. Functions will be one of our main building blocks when we construct larger and larger amounts of code to solve problems.\n",
        "\n",
        "**So what is a function?**\n",
        "\n",
        "Formally, a function is a useful device that groups together a set of statements so they can be run more than once. They can also let us specify parameters that can serve as inputs to the functions.\n",
        "\n",
        "On a more fundamental level, functions allow us to not have to repeatedly write the same code again and again. If you remember back to the lessons on strings and lists, remember that we used a function len() to get the length of a string. Since checking the length of a sequence is a common task you would want to write a function that can do this repeatedly at command.\n",
        "\n",
        "Functions will be one of most basic levels of reusing code in Python, and it will also allow us to start thinking of program design."
      ]
    },
    {
      "cell_type": "markdown",
      "metadata": {
        "colab_type": "text",
        "id": "-ghJ1ZQJNWcZ"
      },
      "source": [
        "### def Statements\n",
        "\n",
        "Let's see how to build out a function's syntax in Python. It has the following form:"
      ]
    },
    {
      "cell_type": "code",
      "metadata": {
        "colab_type": "code",
        "id": "b6z3S5eaNWca",
        "colab": {}
      },
      "source": [
        "def name_of_function(arg1,arg2):\n",
        "    '''\n",
        "    This is where the function's Document String (docstring) goes\n",
        "    '''\n",
        "    # Do stuff here\n",
        "    # Return desired result"
      ],
      "execution_count": null,
      "outputs": []
    },
    {
      "cell_type": "markdown",
      "metadata": {
        "colab_type": "text",
        "id": "fUoJtJgHNWcf"
      },
      "source": [
        "We begin with <code>def</code> then a space followed by the name of the function. Try to keep names relevant, for example len() is a good name for a length() function. Also be careful with names, you wouldn't want to call a function the same name as a [built-in function in Python](https://docs.python.org/2/library/functions.html) (such as len).\n",
        "\n",
        "Next come a pair of parentheses with a number of arguments separated by a comma. These arguments are the inputs for your function. You'll be able to use these inputs in your function and reference them. After this you put a colon.\n",
        "\n",
        "Now here is the important step, you must indent to begin the code inside your function correctly. Python makes use of *whitespace* to organize code. Lots of other programing languages do not do this, so keep that in mind.\n",
        "\n",
        "Next you'll see the docstring, this is where you write a basic description of the function. Docstrings are not necessary for simple functions, but it's good practice to put them in so you or other people can easily understand the code you write.\n",
        "\n",
        "After all this you begin writing the code you wish to execute.\n",
        "\n",
        "The best way to learn functions is by going through examples. So let's try to go through examples that relate back to the various objects and data structures we learned about before."
      ]
    },
    {
      "cell_type": "markdown",
      "metadata": {
        "colab_type": "text",
        "id": "bybS0BdINWcf"
      },
      "source": [
        "### A simple print 'hello' function"
      ]
    },
    {
      "cell_type": "code",
      "metadata": {
        "colab_type": "code",
        "id": "QXDcJHwcNWcg",
        "colab": {}
      },
      "source": [
        "def say_hello():\n",
        "    print('hello')"
      ],
      "execution_count": null,
      "outputs": []
    },
    {
      "cell_type": "markdown",
      "metadata": {
        "colab_type": "text",
        "id": "CfOFuqNENWcj"
      },
      "source": [
        "Call the function:"
      ]
    },
    {
      "cell_type": "code",
      "metadata": {
        "colab_type": "code",
        "id": "yP0KFROlNWck",
        "colab": {}
      },
      "source": [
        "say_hello()"
      ],
      "execution_count": null,
      "outputs": []
    },
    {
      "cell_type": "markdown",
      "metadata": {
        "colab_type": "text",
        "id": "HK25wgkKNWcn"
      },
      "source": [
        "### A simple greeting function\n",
        "Let's write a function that greets people with their name."
      ]
    },
    {
      "cell_type": "code",
      "metadata": {
        "colab_type": "code",
        "id": "THien-GyNWcp",
        "colab": {}
      },
      "source": [
        "def greeting(name):\n",
        "    print('Hello %s' %(name))"
      ],
      "execution_count": null,
      "outputs": []
    },
    {
      "cell_type": "code",
      "metadata": {
        "colab_type": "code",
        "id": "-P1sYGzENWcu",
        "colab": {}
      },
      "source": [
        "greeting('Bob')"
      ],
      "execution_count": null,
      "outputs": []
    },
    {
      "cell_type": "markdown",
      "metadata": {
        "colab_type": "text",
        "id": "6im_y8_9NWcx"
      },
      "source": [
        "### Using return\n",
        "Let's see some example that use a <code>return</code> statement. <code>return</code> allows a function to *return* a result that can then be stored as a variable, or used in whatever manner a user wants.\n",
        "\n",
        "### Example 3: Addition function"
      ]
    },
    {
      "cell_type": "code",
      "metadata": {
        "colab_type": "code",
        "id": "o3Lmm8SgNWcy",
        "colab": {}
      },
      "source": [
        "def add_num(num1,num2):\n",
        "    return num1+num2"
      ],
      "execution_count": null,
      "outputs": []
    },
    {
      "cell_type": "code",
      "metadata": {
        "colab_type": "code",
        "id": "rl_WvYjkNWc1",
        "colab": {}
      },
      "source": [
        "add_num(4,5)"
      ],
      "execution_count": null,
      "outputs": []
    },
    {
      "cell_type": "code",
      "metadata": {
        "colab_type": "code",
        "id": "VuEvJPq1NWc5",
        "colab": {}
      },
      "source": [
        "# Can also save as variable due to return\n",
        "result = add_num(4,5)"
      ],
      "execution_count": null,
      "outputs": []
    },
    {
      "cell_type": "code",
      "metadata": {
        "colab_type": "code",
        "id": "f0ad5-kaNWc8",
        "colab": {}
      },
      "source": [
        "print(result)"
      ],
      "execution_count": null,
      "outputs": []
    },
    {
      "cell_type": "markdown",
      "metadata": {
        "colab_type": "text",
        "id": "15lkNnVPNWc_"
      },
      "source": [
        "What happens if we input two strings?"
      ]
    },
    {
      "cell_type": "code",
      "metadata": {
        "colab_type": "code",
        "id": "1hlftLo7NWc_",
        "colab": {}
      },
      "source": [
        "add_num('one','two')"
      ],
      "execution_count": null,
      "outputs": []
    },
    {
      "cell_type": "markdown",
      "metadata": {
        "colab_type": "text",
        "id": "eBJTPKYjNWdD"
      },
      "source": [
        "Note that because we don't declare variable types in Python, this function could be used to add numbers or sequences together! We'll later learn about adding in checks to make sure a user puts in the correct arguments into a function.\n",
        "\n",
        "Let's also start using <code>break</code>, <code>continue</code>, and <code>pass</code> statements in our code. We introduced these during the <code>while</code> lecture."
      ]
    },
    {
      "cell_type": "markdown",
      "metadata": {
        "colab_type": "text",
        "id": "FQQ7-olXNWdD"
      },
      "source": [
        "Finally let's go over a full example of creating a function to check if a number is prime (a common interview exercise).\n",
        "\n",
        "We know a number is prime if that number is only evenly divisible by 1 and itself. Let's write our first version of the function to check all the numbers from 1 to N and perform modulo checks."
      ]
    },
    {
      "cell_type": "code",
      "metadata": {
        "colab_type": "code",
        "id": "o82eSDSaNWdE",
        "colab": {}
      },
      "source": [
        "def is_prime(num):\n",
        "    '''\n",
        "    Naive method of checking for primes. \n",
        "    '''\n",
        "    for n in range(2,num): #'range()' is a function that returns an array based on the range you provide. Here, it is from 2 to 'num' inclusive.\n",
        "        if num % n == 0:\n",
        "            print(num,'is not prime')\n",
        "            break # 'break' statements signify that we exit the loop if the above condition holds true\n",
        "    else: # If never mod zero, then prime\n",
        "        print(num,'is prime!')"
      ],
      "execution_count": null,
      "outputs": []
    },
    {
      "cell_type": "code",
      "metadata": {
        "colab_type": "code",
        "id": "68obU1f7NWdH",
        "colab": {}
      },
      "source": [
        "is_prime(16)"
      ],
      "execution_count": null,
      "outputs": []
    },
    {
      "cell_type": "code",
      "metadata": {
        "colab_type": "code",
        "id": "uqlUE7j2NWdK",
        "colab": {}
      },
      "source": [
        "is_prime(17)"
      ],
      "execution_count": null,
      "outputs": []
    },
    {
      "cell_type": "markdown",
      "metadata": {
        "colab_type": "text",
        "id": "rPO1ypnINWdN"
      },
      "source": [
        "Note how the <code>else</code> lines up under <code>for</code> and not <code>if</code>. This is because we want the <code>for</code> loop to exhaust all possibilities in the range before printing our number is prime.\n",
        "\n",
        "Also note how we break the code after the first print statement. As soon as we determine that a number is not prime we break out of the <code>for</code> loop.\n",
        "\n",
        "We can actually improve this function by only checking to the square root of the target number, and by disregarding all even numbers after checking for 2. We'll also switch to returning a boolean value to get an example of using return statements:"
      ]
    },
    {
      "cell_type": "code",
      "metadata": {
        "colab_type": "code",
        "id": "1sMwpbK0NWdO",
        "colab": {}
      },
      "source": [
        "import math\n",
        "\n",
        "def is_prime2(num):\n",
        "    '''\n",
        "    Better method of checking for primes. \n",
        "    '''\n",
        "    if num % 2 == 0 and num > 2: \n",
        "        return False\n",
        "    for i in range(3, int(math.sqrt(num)) + 1, 2):\n",
        "        if num % i == 0:\n",
        "            return False\n",
        "    return True"
      ],
      "execution_count": null,
      "outputs": []
    },
    {
      "cell_type": "code",
      "metadata": {
        "colab_type": "code",
        "id": "4vVcaf4nNWdR",
        "colab": {}
      },
      "source": [
        "is_prime2(27)"
      ],
      "execution_count": null,
      "outputs": []
    },
    {
      "cell_type": "markdown",
      "metadata": {
        "colab_type": "text",
        "id": "OpfJdTpDNWdV"
      },
      "source": [
        "Why don't we have any <code>break</code> statements? It should be noted that as soon as a function *returns* something, it shuts down. A function can deliver multiple print statements, but it will only obey one <code>return</code>."
      ]
    },
    {
      "cell_type": "markdown",
      "metadata": {
        "colab_type": "text",
        "id": "K5hLnLVZJXXv"
      },
      "source": [
        "### 5.0 Now Try This\n"
      ]
    },
    {
      "cell_type": "markdown",
      "metadata": {
        "colab_type": "text",
        "id": "UxCgXtLgIEEf"
      },
      "source": [
        "Write a function that capitalizes the first and fourth letters of a name. For this, you might want to make use of a string's `.upper()` method.\n",
        "     \n",
        "    cap_four('macdonald') --> MacDonald\n",
        "    \n",
        "Note: `'macdonald'.capitalize()` returns `'Macdonald'`"
      ]
    },
    {
      "cell_type": "code",
      "metadata": {
        "colab_type": "code",
        "id": "3KDqoGkGIEEf",
        "colab": {}
      },
      "source": [
        "# Once your have verified your answer please uncomment the line below and run it, this will save your code \n",
        "#%%writefile -a {folder_location}/5.py\n",
        "# Please note that if you uncomment and press multiple times, the program will keep appending to the file.\n",
        "# So only uncomment it when you want to save your answer.\n",
        "\n",
        "def cap_four(name):\n",
        "   \n",
        "    return new_name\n",
        "\n",
        "# Check\n",
        "answer1 = cap_four('macdonald')\n",
        "print(answer1)"
      ],
      "execution_count": null,
      "outputs": []
    },
    {
      "cell_type": "markdown",
      "metadata": {
        "colab_type": "text",
        "id": "LHJ8OPspOM6v"
      },
      "source": [
        "## Errors and Exception Handling\n",
        "\n",
        "In this section we will cover Errors and Exception Handling in Python. You've definitely already encountered errors by this point in the course. For example:"
      ]
    },
    {
      "cell_type": "code",
      "metadata": {
        "colab_type": "code",
        "id": "2_p-4eSUOM6w",
        "colab": {}
      },
      "source": [
        "print('Hello)"
      ],
      "execution_count": null,
      "outputs": []
    },
    {
      "cell_type": "markdown",
      "metadata": {
        "colab_type": "text",
        "id": "YAw5d8J3OM61"
      },
      "source": [
        "Note how we get a SyntaxError, with the further description that it was an EOL (End of Line Error) while scanning the string literal. This is specific enough for us to see that we forgot a single quote at the end of the line. Understanding these various error types will help you debug your code much faster. \n",
        "\n",
        "This type of error and description is known as an Exception. Even if a statement or expression is syntactically correct, it may cause an error when an attempt is made to execute it. Errors detected during execution are called exceptions and are not unconditionally fatal.\n",
        "\n",
        "You can check out the full list of built-in exceptions [here](https://docs.python.org/3/library/exceptions.html). Now let's learn how to handle errors and exceptions in our own code."
      ]
    },
    {
      "cell_type": "markdown",
      "metadata": {
        "colab_type": "text",
        "id": "BH3W9o4jOM62"
      },
      "source": [
        "### try and except\n",
        "\n",
        "The basic terminology and syntax used to handle errors in Python are the <code>try</code> and <code>except</code> statements. The code which can cause an exception to occur is put in the <code>try</code> block and the handling of the exception is then implemented in the <code>except</code> block of code. The syntax follows:\n",
        "\n",
        "    try:\n",
        "       You do your operations here...\n",
        "       ...\n",
        "    except ExceptionI:\n",
        "       If there is ExceptionI, then execute this block.\n",
        "    except ExceptionII:\n",
        "       If there is ExceptionII, then execute this block.\n",
        "       ...\n",
        "    else:\n",
        "       If there is no exception then execute this block. \n",
        "\n",
        "We can also just check for any exception with just using <code>except:</code> To get a better understanding of all this let's check out an example: We will look at some code that opens and writes a file:"
      ]
    },
    {
      "cell_type": "code",
      "metadata": {
        "colab_type": "code",
        "id": "d16XniIaOM64",
        "colab": {}
      },
      "source": [
        "try:\n",
        "    f = open('testfile','w')\n",
        "    f.write('Test write this')\n",
        "except IOError:\n",
        "    # This will only check for an IOError exception and then execute this print statement\n",
        "    print(\"Error: Could not find file or read data\")\n",
        "else:\n",
        "    print(\"Content written successfully\")\n",
        "    f.close()"
      ],
      "execution_count": null,
      "outputs": []
    },
    {
      "cell_type": "markdown",
      "metadata": {
        "colab_type": "text",
        "id": "veniFyBbOM69"
      },
      "source": [
        "Now let's see what would happen if we did not have write permission (opening only with 'r'):"
      ]
    },
    {
      "cell_type": "code",
      "metadata": {
        "colab_type": "code",
        "id": "DUUZn6mHOM69",
        "colab": {}
      },
      "source": [
        "try:\n",
        "    f = open('testfile','r')\n",
        "    f.write('Test write this')\n",
        "except IOError:\n",
        "    # This will only check for an IOError exception and then execute this print statement\n",
        "    print(\"Error: Could not find file or read data\")\n",
        "else:\n",
        "    print(\"Content written successfully\")\n",
        "    f.close()"
      ],
      "execution_count": null,
      "outputs": []
    },
    {
      "cell_type": "markdown",
      "metadata": {
        "colab_type": "text",
        "id": "Hk_N9KNzOM7D"
      },
      "source": [
        "Great! Notice how we only printed a statement! The code still ran and we were able to continue doing actions and running code blocks. This is extremely useful when you have to account for possible input errors in your code. You can be prepared for the error and keep running code, instead of your code just breaking as we saw above.\n",
        "\n",
        "We could have also just said <code>except:</code> if we weren't sure what exception would occur. For example:"
      ]
    },
    {
      "cell_type": "code",
      "metadata": {
        "colab_type": "code",
        "id": "86ypth81OM7E",
        "colab": {}
      },
      "source": [
        "try:\n",
        "    f = open('testfile','r')\n",
        "    f.write('Test write this')\n",
        "except:\n",
        "    # This will check for any exception and then execute this print statement\n",
        "    print(\"Error: Could not find file or read data\")\n",
        "else:\n",
        "    print(\"Content written successfully\")\n",
        "    f.close()"
      ],
      "execution_count": null,
      "outputs": []
    },
    {
      "cell_type": "markdown",
      "metadata": {
        "colab_type": "text",
        "id": "lCAcBb9IOM7M"
      },
      "source": [
        "Great! Now we don't actually need to memorize that list of exception types! Now what if we kept wanting to run code after the exception occurred? This is where <code>finally</code> comes in.\n",
        "### finally\n",
        "The <code>finally:</code> block of code will always be run regardless if there was an exception in the <code>try</code> code block. The syntax is:\n",
        "\n",
        "    try:\n",
        "       Code block here\n",
        "       ...\n",
        "       Due to any exception, this code may be skipped!\n",
        "    finally:\n",
        "       This code block would always be executed.\n",
        "\n",
        "For example:"
      ]
    },
    {
      "cell_type": "code",
      "metadata": {
        "colab_type": "code",
        "id": "11uq4IIYOM7O",
        "colab": {}
      },
      "source": [
        "try:\n",
        "    f = open(\"testfile\", \"w\")\n",
        "    f.write(\"Test write statement\")\n",
        "    f.close()\n",
        "finally:\n",
        "    print(\"Always execute finally code blocks\")"
      ],
      "execution_count": null,
      "outputs": []
    },
    {
      "cell_type": "markdown",
      "metadata": {
        "colab_type": "text",
        "id": "xWSjapK7OM7Y"
      },
      "source": [
        "We can use this in conjunction with <code>except</code>. Let's see a new example that will take into account a user providing the wrong input:"
      ]
    },
    {
      "cell_type": "code",
      "metadata": {
        "colab_type": "code",
        "id": "eRyp48dYOM7a",
        "colab": {}
      },
      "source": [
        "def askint():\n",
        "    try:\n",
        "        val = int(input(\"Please enter an integer: \"))\n",
        "    except:\n",
        "        print(\"Looks like you did not enter an integer!\")\n",
        "\n",
        "    finally:\n",
        "        print(\"Finally, I executed!\")\n",
        "    print(val)"
      ],
      "execution_count": null,
      "outputs": []
    },
    {
      "cell_type": "code",
      "metadata": {
        "colab_type": "code",
        "id": "oOpUzWc6OM7k",
        "colab": {}
      },
      "source": [
        "askint()"
      ],
      "execution_count": null,
      "outputs": []
    },
    {
      "cell_type": "code",
      "metadata": {
        "colab_type": "code",
        "id": "DRdDnSXMOM7z",
        "colab": {}
      },
      "source": [
        "askint()"
      ],
      "execution_count": null,
      "outputs": []
    },
    {
      "cell_type": "markdown",
      "metadata": {
        "colab_type": "text",
        "id": "U7NSCfOoOM76"
      },
      "source": [
        "Notice how we got an error when trying to print val (because it was never properly assigned). Let's remedy this by asking the user and checking to make sure the input type is an integer:"
      ]
    },
    {
      "cell_type": "code",
      "metadata": {
        "colab_type": "code",
        "id": "a9A4mdRYOM78",
        "colab": {}
      },
      "source": [
        "def askint():\n",
        "    try:\n",
        "        val = int(input(\"Please enter an integer: \"))\n",
        "    except:\n",
        "        print(\"Looks like you did not enter an integer!\")\n",
        "        val = int(input(\"Try again-Please enter an integer: \"))\n",
        "    finally:\n",
        "        print(\"Finally, I executed!\")\n",
        "    print(val)"
      ],
      "execution_count": null,
      "outputs": []
    },
    {
      "cell_type": "code",
      "metadata": {
        "colab_type": "code",
        "id": "dgyMsjl2OM8D",
        "colab": {}
      },
      "source": [
        "askint()"
      ],
      "execution_count": null,
      "outputs": []
    },
    {
      "cell_type": "markdown",
      "metadata": {
        "colab_type": "text",
        "id": "KC6gX2SMOM8H"
      },
      "source": [
        "Hmmm...that only did one check. How can we continually keep checking? We can use a while loop!"
      ]
    },
    {
      "cell_type": "code",
      "metadata": {
        "colab_type": "code",
        "id": "r7jC8D4GOM8I",
        "colab": {}
      },
      "source": [
        "def askint():\n",
        "    while True:\n",
        "        try:\n",
        "            val = int(input(\"Please enter an integer: \"))\n",
        "        except:\n",
        "            print(\"Looks like you did not enter an integer!\")\n",
        "            continue\n",
        "        else:\n",
        "            print(\"Yep that's an integer!\")\n",
        "            break\n",
        "        finally:\n",
        "            print(\"Finally, I executed!\")\n",
        "        print(val)"
      ],
      "execution_count": null,
      "outputs": []
    },
    {
      "cell_type": "code",
      "metadata": {
        "colab_type": "code",
        "id": "xc6saFw4OM8N",
        "colab": {}
      },
      "source": [
        "askint()"
      ],
      "execution_count": null,
      "outputs": []
    },
    {
      "cell_type": "markdown",
      "metadata": {
        "colab_type": "text",
        "id": "tqlEV-zQOM8R"
      },
      "source": [
        "So why did our function print \"Finally, I executed!\" after each trial, yet it never printed `val` itself? This is because with a try-except-finally clause, any <code>continue</code> or <code>break</code> statements are reserved until *after* the try clause is completed. This means that even though a successful input of **3** brought us to the <code>else:</code> block, and a <code>break</code> statement was thrown, the try clause continued through to <code>finally:</code> before breaking out of the while loop. And since <code>print(val)</code> was outside the try clause, the <code>break</code> statement prevented it from running.\n",
        "\n",
        "Let's make one final adjustment:"
      ]
    },
    {
      "cell_type": "code",
      "metadata": {
        "colab_type": "code",
        "id": "K4g8YusIOM8S",
        "colab": {}
      },
      "source": [
        "def askint():\n",
        "    while True:\n",
        "        try:\n",
        "            val = int(input(\"Please enter an integer: \"))\n",
        "        except:\n",
        "            print(\"Looks like you did not enter an integer!\")\n",
        "            continue\n",
        "        else:\n",
        "            print(\"Yep that's an integer!\")\n",
        "            print(val)\n",
        "            break\n",
        "        finally:\n",
        "            print(\"Finally, I executed!\")"
      ],
      "execution_count": null,
      "outputs": []
    },
    {
      "cell_type": "code",
      "metadata": {
        "colab_type": "code",
        "id": "E11t6GKuOM8W",
        "colab": {}
      },
      "source": [
        "askint()"
      ],
      "execution_count": null,
      "outputs": []
    },
    {
      "cell_type": "markdown",
      "metadata": {
        "colab_type": "text",
        "id": "vaBOcf3wKmnq"
      },
      "source": [
        "### 6.0 Now Try This"
      ]
    },
    {
      "cell_type": "markdown",
      "metadata": {
        "colab_type": "text",
        "id": "R03RpvhvKbJC"
      },
      "source": [
        "Handle the exception thrown by the code below by using <code>try</code> and <code>except</code> blocks. Then use a <code>finally</code> block to print 'All Done.'"
      ]
    },
    {
      "cell_type": "code",
      "metadata": {
        "colab_type": "code",
        "id": "zysaDxeoKbJC",
        "colab": {}
      },
      "source": [
        "# Once your have verified your answer please uncomment the line below and run it, this will save your code \n",
        "#%%writefile -a {folder_location}/6.py\n",
        "# Please note that if you uncomment and press multiple times, the program will keep appending to the file.\n",
        "# So only uncomment it when you want to save your answer.\n",
        "\n",
        "x = 5\n",
        "y = 0\n",
        "\n",
        "z = x/y\n",
        "\n",
        "#INSERT CODE HERE"
      ],
      "execution_count": null,
      "outputs": []
    },
    {
      "cell_type": "markdown",
      "metadata": {
        "colab_type": "text",
        "id": "IUBg9zS8GT96"
      },
      "source": [
        "## Modules and Packages"
      ]
    },
    {
      "cell_type": "markdown",
      "metadata": {
        "colab_type": "text",
        "id": "EZGgT39kGT-Y"
      },
      "source": [
        "### Understanding modules\n",
        "\n",
        "Modules in Python are simply Python files with the .py extension, which implement a set of functions. Modules are imported from other modules using the <code>import</code> command.\n",
        "\n",
        "To import a module, we use the <code>import</code> command. Check out the full list of built-in modules in the Python standard library [here](https://docs.python.org/3/py-modindex.html).\n",
        "\n",
        "The first time a module is loaded into a running Python script, it is initialized by executing the code in the module once. If another module in your code imports the same module again, it will not be loaded twice.\n",
        "\n",
        "If we want to import the math module, we simply import the name of the module:"
      ]
    },
    {
      "cell_type": "code",
      "metadata": {
        "colab_type": "code",
        "id": "pINzCtawGT-Z",
        "colab": {}
      },
      "source": [
        "# import the library\n",
        "import math"
      ],
      "execution_count": null,
      "outputs": []
    },
    {
      "cell_type": "code",
      "metadata": {
        "colab_type": "code",
        "id": "wOBwO2RiGT-c",
        "colab": {}
      },
      "source": [
        "# use it (ceiling rounding)\n",
        "math.ceil(3.2)"
      ],
      "execution_count": null,
      "outputs": []
    },
    {
      "cell_type": "markdown",
      "metadata": {
        "colab_type": "text",
        "id": "B__qpOe-GT-o"
      },
      "source": [
        "### Writing modules\n",
        "Writing Python modules is very simple. To create a module of your own, simply create a new .py file with the module name, and then import it using the Python file name (without the .py extension) using the import command."
      ]
    },
    {
      "cell_type": "markdown",
      "metadata": {
        "colab_type": "text",
        "id": "UynSepC2cLfX"
      },
      "source": [
        "### Writing modules with Jupyter"
      ]
    },
    {
      "cell_type": "code",
      "metadata": {
        "colab_type": "code",
        "id": "j_Y4057OGT98",
        "colab": {}
      },
      "source": [
        "%%writefile myfile.py\n",
        "def afunc(x):\n",
        "    return [num for num in range(x) if num%2!=0]\n",
        "mylist = afunc(20)"
      ],
      "execution_count": null,
      "outputs": []
    },
    {
      "cell_type": "markdown",
      "metadata": {
        "colab_type": "text",
        "id": "aoUBNiqiGT-C"
      },
      "source": [
        "**myfile.py** is going to be used as a module.\n",
        "\n",
        "Notice that **myfile.py** doesn't print or return anything,\n",
        "it just defines a function called *afunc* and a variable called *mylist*.\n",
        "\n",
        "### Writing scripts"
      ]
    },
    {
      "cell_type": "code",
      "metadata": {
        "colab_type": "code",
        "id": "dSv_ahmsGT-C",
        "colab": {}
      },
      "source": [
        "%%writefile myfile2.py\n",
        "import myfile\n",
        "myfile.mylist.append(30)\n",
        "print(myfile.mylist)"
      ],
      "execution_count": null,
      "outputs": []
    },
    {
      "cell_type": "markdown",
      "metadata": {
        "colab_type": "text",
        "id": "jZQOviqScRNu"
      },
      "source": [
        "**myfile2.py** is a Python script.\n",
        "\n",
        "First, we import our **myfile** module (note the lack of a .py extension).<br>\n",
        "Next, we access the *mylist* variable inside **myfile**, and perform a list method on it.<br>\n",
        "`.append(30)` proves we're working with a Python list object, and not just a string.<br>\n",
        "Finally, we tell our script to print the modified list."
      ]
    },
    {
      "cell_type": "markdown",
      "metadata": {
        "colab_type": "text",
        "id": "hfnOwvD1GT-G"
      },
      "source": [
        "\n",
        "\n",
        "### Running scripts"
      ]
    },
    {
      "cell_type": "code",
      "metadata": {
        "colab_type": "code",
        "id": "sVx44Sb9GT-G",
        "colab": {}
      },
      "source": [
        "! python myfile2.py"
      ],
      "execution_count": null,
      "outputs": []
    },
    {
      "cell_type": "markdown",
      "metadata": {
        "colab_type": "text",
        "id": "VRgQSGckGT-J"
      },
      "source": [
        "Here we run our script from the command line. The exclamation point is a Jupyter trick that lets you run command line statements from inside a jupyter cell."
      ]
    },
    {
      "cell_type": "code",
      "metadata": {
        "colab_type": "code",
        "id": "x4dy5kZeGT-K",
        "colab": {}
      },
      "source": [
        "import myfile\n",
        "print(myfile.mylist)"
      ],
      "execution_count": null,
      "outputs": []
    },
    {
      "cell_type": "markdown",
      "metadata": {
        "colab_type": "text",
        "id": "anK1GyS5GT-N"
      },
      "source": [
        "The above cell proves that we never altered **myfile.py**, we just appended a number to the list *after* it was brought into **myfile2**."
      ]
    },
    {
      "cell_type": "markdown",
      "metadata": {
        "colab_type": "text",
        "id": "UxlbVOqlGT-O"
      },
      "source": [
        "### Passing command line arguments\n",
        "Python's `sys` module gives you access to command line arguments when calling scripts."
      ]
    },
    {
      "cell_type": "code",
      "metadata": {
        "colab_type": "code",
        "id": "1x1oE-KtGT-P",
        "colab": {}
      },
      "source": [
        "%%writefile myfile3.py\n",
        "import sys\n",
        "import myfile\n",
        "num = int(sys.argv[1])\n",
        "print(myfile.afunc(num))"
      ],
      "execution_count": null,
      "outputs": []
    },
    {
      "cell_type": "markdown",
      "metadata": {
        "colab_type": "text",
        "id": "F5HEmqPKGT-S"
      },
      "source": [
        "Note that we selected the second item in the list of arguments with `sys.argv[1]`.<br>\n",
        "This is because the list created with `sys.argv` always starts with the name of the file being used.<br>"
      ]
    },
    {
      "cell_type": "code",
      "metadata": {
        "colab_type": "code",
        "id": "fyJeVNs8GT-U",
        "colab": {}
      },
      "source": [
        "! python myfile3.py 21"
      ],
      "execution_count": null,
      "outputs": []
    },
    {
      "cell_type": "markdown",
      "metadata": {
        "colab_type": "text",
        "id": "WaU1qym5GT-Y"
      },
      "source": [
        "Here we're passing 21 to be the upper range value used by the *myfunc* function in **list1.py**"
      ]
    },
    {
      "cell_type": "markdown",
      "metadata": {
        "colab_type": "text",
        "id": "KWdrfQP2GT-g"
      },
      "source": [
        "### Exploring built-in modules\n",
        "Two very important functions come in handy when exploring modules in Python - the <code>dir</code> and <code>help</code> functions.\n",
        "\n",
        "We can look for which functions are implemented in each module by using the <code>dir</code> function:"
      ]
    },
    {
      "cell_type": "code",
      "metadata": {
        "colab_type": "code",
        "id": "Frdlk-C3GT-g",
        "colab": {}
      },
      "source": [
        "print(dir(math))"
      ],
      "execution_count": null,
      "outputs": []
    },
    {
      "cell_type": "markdown",
      "metadata": {
        "colab_type": "text",
        "id": "kV9kfcvBGT-j"
      },
      "source": [
        "When we find the function in the module we want to use, we can read about it more using the <code>help</code> function, inside the Python interpreter:\n",
        "\n"
      ]
    },
    {
      "cell_type": "code",
      "metadata": {
        "colab_type": "code",
        "id": "nQfohp4BGT-l",
        "colab": {}
      },
      "source": [
        "help(math.ceil)"
      ],
      "execution_count": null,
      "outputs": []
    },
    {
      "cell_type": "markdown",
      "metadata": {
        "colab_type": "text",
        "id": "YFiS7660_YlX"
      },
      "source": [
        "### Writing packages\n",
        "Packages are name-spaces which contain multiple packages and modules themselves. They are simply directories, but with a twist.\n",
        "\n",
        "Each package in Python is a directory which MUST contain a special file called **\\__init\\__.py**. This file can be empty, and it indicates that the directory it contains is a Python package, so it can be imported the same way a module can be imported.\n",
        "\n",
        "If we create a directory called foo, which marks the package name, we can then create a module inside that package called bar. We also must not forget to add the **\\__init\\__.py** file inside the foo directory.\n",
        "\n",
        "To use the module bar, we can import it in two ways:"
      ]
    },
    {
      "cell_type": "code",
      "metadata": {
        "colab_type": "code",
        "id": "rZyb1oyrGT-o",
        "colab": {}
      },
      "source": [
        "# Just an example, this won't work\n",
        "import foo.bar"
      ],
      "execution_count": null,
      "outputs": []
    },
    {
      "cell_type": "code",
      "metadata": {
        "colab_type": "code",
        "id": "nAblu0pxGT-r",
        "colab": {}
      },
      "source": [
        "# OR could do it this way\n",
        "from foo import bar"
      ],
      "execution_count": null,
      "outputs": []
    },
    {
      "cell_type": "markdown",
      "metadata": {
        "colab_type": "text",
        "id": "_b2Kn1ytGT-w"
      },
      "source": [
        "In the first method, we must use the foo prefix whenever we access the module bar. In the second method, we don't, because we import the module to our module's name-space.\n",
        "\n",
        "The **\\__init\\__.py** file can also decide which modules the package exports as the API, while keeping other modules internal, by overriding the **\\__all\\__** variable, like so:"
      ]
    },
    {
      "cell_type": "code",
      "metadata": {
        "colab_type": "code",
        "id": "d0NNLlkQGT-w",
        "colab": {}
      },
      "source": [
        "__init__.py:\n",
        "\n",
        "__all__ = [\"bar\"]"
      ],
      "execution_count": null,
      "outputs": []
    },
    {
      "cell_type": "markdown",
      "metadata": {
        "colab_type": "text",
        "id": "cJiazN8PJ6Wz"
      },
      "source": [
        "### Pipeline for using Packages and Modules\n",
        "\n",
        "As stated before, packages are essentially directories that can hold other packages or specific modules. Modules are simply other Python programs that you import into yours. Modules can in turn contain functions, methods, or classes (objects that contain both data/variables and methods themselves). You can then reuse any of these features in your own code. For example, the statement 'os.listdir()' implies that we imported the `os` module and want to call the `listdir()` function already written in that module."
      ]
    },
    {
      "cell_type": "markdown",
      "metadata": {
        "colab_type": "text",
        "id": "kkhCZ9fNLxRt"
      },
      "source": [
        "## Resources"
      ]
    },
    {
      "cell_type": "markdown",
      "metadata": {
        "colab_type": "text",
        "id": "zc_kzXmgMTge"
      },
      "source": [
        "- [Python Documentation](https://docs.python.org/3/)\n",
        "- [Official Python Tutorial](https://docs.python.org/3/tutorial/)\n",
        "- [W3Schools Python Tutorial](https://www.w3schools.com/python/)"
      ]
    },
    {
      "cell_type": "markdown",
      "metadata": {
        "id": "FqS9ZqyneIS_",
        "colab_type": "text"
      },
      "source": [
        "## Submission\n",
        "Run this code block to download your answers."
      ]
    },
    {
      "cell_type": "code",
      "metadata": {
        "id": "lQLSe4cteIS_",
        "colab_type": "code",
        "colab": {}
      },
      "source": [
        "from google.colab import files\n",
        "!zip -r \"{student_id}.zip\" \"{student_id}\"\n",
        "files.download(f\"{student_id}.zip\")"
      ],
      "execution_count": null,
      "outputs": []
    }
  ]
}