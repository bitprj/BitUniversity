{
  "nbformat": 4,
  "nbformat_minor": 0,
  "metadata": {
    "colab": {
      "name": "Week1_alternative_Homework.ipynb",
      "provenance": []
    },
    "kernelspec": {
      "name": "python3",
      "display_name": "Python 3"
    }
  },
  "cells": [
    {
      "cell_type": "markdown",
      "metadata": {
        "id": "kNnLvpcoMRMs"
      },
      "source": [
        "## <div align = \"center\">Homework 2</div>\r\n"
      ]
    },
    {
      "cell_type": "markdown",
      "metadata": {
        "id": "_l8uXNcQNW9-"
      },
      "source": [
        "## <div align = \"center\">Python</div>"
      ]
    },
    {
      "cell_type": "markdown",
      "metadata": {
        "id": "F_Jzku4SN0_J"
      },
      "source": [
        "###### Welcome to Homework 2. In this homework you will be using techniques you learned throughout Week 2. The purpose of this homework is to ensure you've mastered the basics of Python. Feel free to refer to the cheatsheet while working through these problems"
      ]
    },
    {
      "cell_type": "markdown",
      "metadata": {
        "id": "OI9STlX2ODBl"
      },
      "source": [
        "### Grading"
      ]
    },
    {
      "cell_type": "markdown",
      "metadata": {
        "id": "IP6_bvijOTZu"
      },
      "source": [
        "##### Every question in this homework is worth 2 points. There are a total of 10 questions.\r\n",
        "\r\n",
        "In order to work on the questions and submit them for grading, you'll need to run the code block beloW. It will ask for your student ID number and then create a folder that will house your answers for each question. At the very end of the notebook, there is a code section that will download this folder as a zip file to your computer. This zip file will be your final submission."
      ]
    },
    {
      "cell_type": "code",
      "metadata": {
        "id": "eRz9ECNROvSV"
      },
      "source": [
        "import os\r\n",
        "import shutil\r\n",
        "\r\n",
        "!rm -rf sample_data\r\n",
        "\r\n",
        "student_id = input('Please Enter your Student ID: ') # Enter Student ID.\r\n",
        "\r\n",
        "while len(student_id) != 9:\r\n",
        " student_id = int('Please Enter your Student ID: ')  \r\n",
        "  \r\n",
        "folder_location = f'{student_id}/Week_Two/Homework' # Week  Two -> Homework\r\n",
        "if not os.path.exists(folder_location):\r\n",
        "  os.makedirs(folder_location)\r\n",
        "  print('Successfully Created Directory, Lets get started')\r\n",
        "else:\r\n",
        "  print('Directory Already Exists')"
      ],
      "execution_count": null,
      "outputs": []
    },
    {
      "cell_type": "markdown",
      "metadata": {
        "id": "ParNA_vhO2Fe"
      },
      "source": [
        "## Python Questions"
      ]
    },
    {
      "cell_type": "markdown",
      "metadata": {
        "id": "aFa8FDxsPGWq"
      },
      "source": [
        "### Q1"
      ]
    },
    {
      "cell_type": "markdown",
      "metadata": {
        "id": "imrmlM5JPLTS"
      },
      "source": [
        "Use a combination of the string methods you have learned to write a block of code that would take the string \"computer\" and change it to \"CoMPute\" "
      ]
    },
    {
      "cell_type": "code",
      "metadata": {
        "id": "fwpdLrZ-PVWX"
      },
      "source": [
        "# Once your have verified your answer please uncomment the line below and run it, this will save your code \r\n",
        "#%%writefile -a {folder_location}/1.py\r\n",
        "# Please note that if you uncomment and press multiple times, the program will keep appending to the file.\r\n",
        "# So only uncomment it when you want to save your answer."
      ],
      "execution_count": null,
      "outputs": []
    },
    {
      "cell_type": "markdown",
      "metadata": {
        "id": "hxmLwsMRPeGk"
      },
      "source": [
        "### Q2"
      ]
    },
    {
      "cell_type": "markdown",
      "metadata": {
        "id": "K-DYcd-APjGQ"
      },
      "source": [
        "Write a simple program that, depending on the given age, returns the price of a movie ticket. \r\n",
        " For ages 12 and under, it is free.\r\n",
        "Ages 13 to 65 pay 15 dollars, and ages 66 and older pay 10 dollars.\r\n"
      ]
    },
    {
      "cell_type": "code",
      "metadata": {
        "id": "WIFzbMr8P3-W"
      },
      "source": [
        "# Once your have verified your answer please uncomment the line below and run it, this will save your code \r\n",
        "#%%writefile -a {folder_location}/1.py\r\n",
        "# Please note that if you uncomment and press multiple times, the program will keep appending to the file.\r\n",
        "# So only uncomment it when you want to save your answer."
      ],
      "execution_count": null,
      "outputs": []
    },
    {
      "cell_type": "markdown",
      "metadata": {
        "id": "WQWc3oV5P6-9"
      },
      "source": [
        "### Q3"
      ]
    },
    {
      "cell_type": "markdown",
      "metadata": {
        "id": "BIlFiuThP9D7"
      },
      "source": [
        "The following is a grocery shopping list. ['Candy', 'apple', 'avocados', 'strawberry'] perform the following tasks using the list functions you have learned so far.\r\n",
        "\r\n",
        "1.  Add the item \"Orange\" to the list.\r\n",
        "2.  Remove \"apple\" from the list.\r\n",
        "3. Add grapes and banana to a separate list, and add that list to your original shopping list.\r\n"
      ]
    },
    {
      "cell_type": "code",
      "metadata": {
        "id": "rA4JjTElQoWk"
      },
      "source": [
        "# Once your have verified your answer please uncomment the line below and run it, this will save your code \r\n",
        "#%%writefile -a {folder_location}/1.py\r\n",
        "# Please note that if you uncomment and press multiple times, the program will keep appending to the file.\r\n",
        "# So only uncomment it when you want to save your answer."
      ],
      "execution_count": null,
      "outputs": []
    },
    {
      "cell_type": "markdown",
      "metadata": {
        "id": "pB0ysRobQsIY"
      },
      "source": [
        "### Q4"
      ]
    },
    {
      "cell_type": "markdown",
      "metadata": {
        "id": "XdLpf6-YQy3b"
      },
      "source": [
        "For each of the following tasks, determine which data structure (list, tuples, or dictionaries) is the best."
      ]
    },
    {
      "cell_type": "markdown",
      "metadata": {
        "id": "baq7AkNOQ2GD"
      },
      "source": [
        "1. You want to store the names of your favorite movies, and over time you may want to add new favorite movies to this collection.\r\n",
        "2. You want to keep track of student names and their student IDs in a class. It is important to know which ID belongs to whom.\r\n",
        "3. You have finalized a list of textbooks you need to purchase for this semester, and you are certain no additional books are needed. "
      ]
    },
    {
      "cell_type": "code",
      "metadata": {
        "id": "XD0ZOT5FRUZp"
      },
      "source": [
        "# Once your have verified your answer please uncomment the line below and run it, this will save your code \r\n",
        "#%%writefile -a {folder_location}/1.py\r\n",
        "# Please note that if you uncomment and press multiple times, the program will keep appending to the file.\r\n",
        "# So only uncomment it when you want to save your answer."
      ],
      "execution_count": null,
      "outputs": []
    },
    {
      "cell_type": "markdown",
      "metadata": {
        "id": "v1F--HPhRX3c"
      },
      "source": [
        "### Q5"
      ]
    },
    {
      "cell_type": "markdown",
      "metadata": {
        "id": "yb6cDbJJRcXc"
      },
      "source": [
        "You have been given a list of candies. However, you want to find out how many KitKats there are on the list. How can you count the number of KitKats using a while loop? \r\n",
        "An example list: [KitKat, Snickers, KitKat, Hershey’s, Toblerone] \r\n"
      ]
    },
    {
      "cell_type": "code",
      "metadata": {
        "id": "RUAmqeXERnJ7"
      },
      "source": [
        "# Once your have verified your answer please uncomment the line below and run it, this will save your code \r\n",
        "#%%writefile -a {folder_location}/1.py\r\n",
        "# Please note that if you uncomment and press multiple times, the program will keep appending to the file.\r\n",
        "# So only uncomment it when you want to save your answer."
      ],
      "execution_count": null,
      "outputs": []
    },
    {
      "cell_type": "markdown",
      "metadata": {
        "id": "uEYeN7JpRrbM"
      },
      "source": [
        "### Q6"
      ]
    },
    {
      "cell_type": "markdown",
      "metadata": {
        "id": "7KU8QmGORtkG"
      },
      "source": [
        "The following dictionary maps each student to their favorite classes. \r\n",
        "Students = {'Mark': ['Chemistry', 'Sociology'], 'Emma': ['Physics', 'Mathematics'], 'Jerry': ['English', 'psychology', 'History']}\r\n",
        "1. Print Emma's favorite classes.\r\n",
        "2. Replace English with Statistics, in Jerry's list of favorite classes. \r\n",
        "3. Add \"Sara\" to the dictionary and put Biology in her list of favorite classes.\r\n"
      ]
    },
    {
      "cell_type": "code",
      "metadata": {
        "id": "SrgB3Bl3R-3Z"
      },
      "source": [
        "# Once your have verified your answer please uncomment the line below and run it, this will save your code \r\n",
        "#%%writefile -a {folder_location}/1.py\r\n",
        "# Please note that if you uncomment and press multiple times, the program will keep appending to the file.\r\n",
        "# So only uncomment it when you want to save your answer."
      ],
      "execution_count": null,
      "outputs": []
    },
    {
      "cell_type": "markdown",
      "metadata": {
        "id": "sh9Y1vgSSULB"
      },
      "source": [
        "### Q7"
      ]
    },
    {
      "cell_type": "markdown",
      "metadata": {
        "id": "XnRxneK0SWei"
      },
      "source": [
        "Look up another common data structure (like lists, dictionaries, and tuples) and briefly explain how data is organized in it. "
      ]
    },
    {
      "cell_type": "code",
      "metadata": {
        "id": "IuOk5bK5Sfk0"
      },
      "source": [
        "# Once your have verified your answer please uncomment the line below and run it, this will save your code \r\n",
        "#%%writefile -a {folder_location}/9.txt\r\n",
        "# Please note that if you uncomment and press multiple times, the program will keep appending to the file.\r\n",
        "# So only uncomment it when you want to save your answer.\r\n",
        "\r\n",
        "'Type answer within these quotes'"
      ],
      "execution_count": null,
      "outputs": []
    },
    {
      "cell_type": "markdown",
      "metadata": {
        "id": "pe11Yh4LShHK"
      },
      "source": [
        "### Q8"
      ]
    },
    {
      "cell_type": "markdown",
      "metadata": {
        "id": "CMkyc__GSjQ3"
      },
      "source": [
        "Create a tuple with a length of your choice but put only values of 0 and 1 in it. Using a tuple method to count how many of each there is in the tuple, print the difference between the number of zeros and ones. "
      ]
    },
    {
      "cell_type": "code",
      "metadata": {
        "id": "-p63fq8QSnI0"
      },
      "source": [
        "# Once your have verified your answer please uncomment the line below and run it, this will save your code \r\n",
        "#%%writefile -a {folder_location}/9.txt\r\n",
        "# Please note that if you uncomment and press multiple times, the program will keep appending to the file.\r\n",
        "# So only uncomment it when you want to save your answer."
      ],
      "execution_count": null,
      "outputs": []
    },
    {
      "cell_type": "markdown",
      "metadata": {
        "id": "3443oxlwSscq"
      },
      "source": [
        "### Q9"
      ]
    },
    {
      "cell_type": "markdown",
      "metadata": {
        "id": "479iGBvhSvks"
      },
      "source": [
        "Given a length n of a list, print out what the largest index in that list can be. Hint: think about the largest index in a list of 3 items, and look for a pattern. "
      ]
    },
    {
      "cell_type": "code",
      "metadata": {
        "id": "BgrTHVJSS2hS"
      },
      "source": [
        "# Once your have verified your answer please uncomment the line below and run it, this will save your code \r\n",
        "#%%writefile -a {folder_location}/9.txt\r\n",
        "# Please note that if you uncomment and press multiple times, the program will keep appending to the file.\r\n",
        "# So only uncomment it when you want to save your answer."
      ],
      "execution_count": null,
      "outputs": []
    },
    {
      "cell_type": "markdown",
      "metadata": {
        "id": "M3YT3YRdS4Qz"
      },
      "source": [
        "### Q10"
      ]
    },
    {
      "cell_type": "markdown",
      "metadata": {
        "id": "GTZP4eGaS6Dn"
      },
      "source": [
        "Explain what a function in python is, and come up with an example where writing a function can be useful, and outline the function parameters."
      ]
    },
    {
      "cell_type": "code",
      "metadata": {
        "id": "Pl4vOVV-S-VO"
      },
      "source": [
        "# Once your have verified your answer please uncomment the line below and run it, this will save your code \r\n",
        "#%%writefile -a {folder_location}/10a.txt\r\n",
        "# Please note that if you uncomment and press multiple times, the program will keep appending to the file.\r\n",
        "# So only uncomment it when you want to save your answer.\r\n",
        "\r\n",
        "'Type answer within these quotes'"
      ],
      "execution_count": null,
      "outputs": []
    }
  ]
}