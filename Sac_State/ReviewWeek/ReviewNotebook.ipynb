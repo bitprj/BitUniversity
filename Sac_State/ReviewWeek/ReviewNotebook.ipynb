{
  "nbformat": 4,
  "nbformat_minor": 0,
  "metadata": {
    "colab": {
      "name": "BitUniversity-Workshop.ipynb",
      "provenance": [],
      "collapsed_sections": []
    },
    "kernelspec": {
      "name": "python3",
      "display_name": "Python 3"
    }
  },
  "cells": [
    {
      "cell_type": "markdown",
      "metadata": {
        "id": "PhzWOkYkit7K"
      },
      "source": [
        "<img src=\"https://github.com/bitprj/DigitalHistory/blob/master/Week2-Introduction-to-Python-_-NumPy/assets/icons/bitproject.png?raw=1\" width=\"200\" align=\"left\"> \n",
        "<img src=\"https://github.com/bitprj/DigitalHistory/blob/master/Week2-Introduction-to-Python-_-NumPy/assets/icons/data-science.jpg?raw=1\" width=\"350\" align=\"right\">"
      ]
    },
    {
      "cell_type": "markdown",
      "metadata": {
        "id": "lDeNPGb1jhB3"
      },
      "source": [
        "# <h1 align=\"center\">Data Science Review</h1>"
      ]
    },
    {
      "cell_type": "markdown",
      "metadata": {
        "id": "STMjdU96GpdE"
      },
      "source": [
        "<p align=\"center\">\n",
        "<img src=\"https://drive.google.com/uc?export=view&id=1w6_7LCUFQK9-UgDV7N_KDncbXWHMZru2\">\n",
        "</p>\n",
        "\n"
      ]
    },
    {
      "cell_type": "markdown",
      "metadata": {
        "id": "y8dukH4gpbaA"
      },
      "source": [
        "## <h2 align=\"center\">Let's Review What We've Learned So Far</h2>\n",
        "\n",
        "- **Python**\n",
        "  - Variables.\n",
        "  - Data Structures.\n",
        "  - A little about methods and libraries.\n",
        "- **Pandas**\n",
        "  - Loading ```.csv``` files.\n",
        "  - Cleaning datasets (basics).\n",
        "- **Matplotlib**\n",
        "  - Simple plots\n",
        "    - Bar\n",
        "    - Scatter\n",
        "  - Labeling and Marking.\n",
        "\n",
        "\n"
      ]
    },
    {
      "cell_type": "markdown",
      "metadata": {
        "id": "1eCaY60Ewr4N"
      },
      "source": [
        "# <h1 align=\"center\">Python as our Main Programming Language</h1>\n",
        "\n"
      ]
    },
    {
      "cell_type": "markdown",
      "metadata": {
        "id": "rr8Wnzb-xkY8"
      },
      "source": [
        "<p align=\"center\">\n",
        "<img src=\"https://github.com/bitprj/DigitalHistory/blob/master/Week2-Introduction-to-Python-_-NumPy/assets/python.png?raw=true\" width=150></p>"
      ]
    },
    {
      "cell_type": "markdown",
      "metadata": {
        "id": "nOYdZ4l2xody"
      },
      "source": [
        "## Types"
      ]
    },
    {
      "cell_type": "markdown",
      "metadata": {
        "id": "V3XTMHe50ruD"
      },
      "source": [
        "**So what are types?**\n",
        "\n",
        "Types are different categories in which data can be presented. They particularly represent the kind of values that would tell us which operations can be performed on them. \n"
      ]
    },
    {
      "cell_type": "markdown",
      "metadata": {
        "id": "JPJNrx7gxqEu"
      },
      "source": [
        "\n",
        "| Type | Example | Also Known As |\n",
        "|------|---------|---------------|\n",
        "| ```int``` |2020| Integers |\n",
        "|```float```|3.142| Decimals | \n",
        "|```str```|\"Bit University\"| Strings|\n",
        "|```boolean``` | True or False | 1 or 0|\n",
        "\n",
        "\n",
        "There are also other types such as ```bytes``` which simply converts any string/object type to binary form.\n",
        "For example:\n",
        "\n",
        "```Hello``` -> ```b'Hello'``` will make the string Hello a byte type.\n",
        "\n",
        "As we mentioned above types help us identify what kind of operations can be performed with or on those values. Lets look at an example below."
      ]
    },
    {
      "cell_type": "code",
      "metadata": {
        "id": "bMckmnorxbjT"
      },
      "source": [
        "1+1"
      ],
      "execution_count": null,
      "outputs": []
    },
    {
      "cell_type": "markdown",
      "metadata": {
        "id": "NDSPxVzk3FBj"
      },
      "source": [
        "In the example above, we added two integers together, and the answer came out as ```2```, which is as expected. Let's see what happens if we try to add together a string and an integer."
      ]
    },
    {
      "cell_type": "code",
      "metadata": {
        "id": "96--RoyV2tmV"
      },
      "source": [
        "'Bit University'+1"
      ],
      "execution_count": null,
      "outputs": []
    },
    {
      "cell_type": "markdown",
      "metadata": {
        "id": "nHoniFUj3ggj"
      },
      "source": [
        "\n",
        "\n",
        "```\n",
        "# This is formatted as code\n",
        "```\n",
        "\n",
        "As you can see, this gives us an error. In case of any arithmetic operation between a string and a numeric value (```int``` or ```float```) you can perform one mathematical operation which is  multiplication (```*```).\n"
      ]
    },
    {
      "cell_type": "code",
      "metadata": {
        "id": "0S1k9y-H6kX9"
      },
      "source": [
        "'Bit University'*3"
      ],
      "execution_count": null,
      "outputs": []
    },
    {
      "cell_type": "markdown",
      "metadata": {
        "id": "2nBuFRmY6nqD"
      },
      "source": [
        "### Examples of data types"
      ]
    },
    {
      "cell_type": "markdown",
      "metadata": {
        "id": "PFJV-wFH60WG"
      },
      "source": [
        "Feel free to practice with data types below. In the following lines of code, add ```type()``` and whatever is written inside the **cells** (a block of code is known as a cell), cut it and paste it in side the ```()``` for type. The first has been done for you."
      ]
    },
    {
      "cell_type": "code",
      "metadata": {
        "id": "OkfCeLYw6qIb"
      },
      "source": [
        "type('Software Engineering is ....')"
      ],
      "execution_count": null,
      "outputs": []
    },
    {
      "cell_type": "code",
      "metadata": {
        "id": "76G8Iu276qiE"
      },
      "source": [
        "2020"
      ],
      "execution_count": null,
      "outputs": []
    },
    {
      "cell_type": "code",
      "metadata": {
        "id": "-nkexIFx6qyJ"
      },
      "source": [
        "21.003"
      ],
      "execution_count": null,
      "outputs": []
    },
    {
      "cell_type": "code",
      "metadata": {
        "id": "Tb1zFSY06rCM"
      },
      "source": [
        "True"
      ],
      "execution_count": null,
      "outputs": []
    },
    {
      "cell_type": "markdown",
      "metadata": {
        "id": "7Lew2IHd3kzG"
      },
      "source": [
        "## Variables"
      ]
    },
    {
      "cell_type": "markdown",
      "metadata": {
        "id": "LyQVHthd3yh3"
      },
      "source": [
        "Above we have seen what basic data types are in Python, but what do we do with these? So far we have no way of storing them. Above when we did ```1+1``` we got the answer but we can't use it anywhere else. If I wanted to use the answer to ```1+1``` (which is 2 by the way) somewhere else, I would have to rewrite it? wait that doesn't seem right? \n",
        "\n",
        "The purpose of computer programs is to be able to use computed values in multiple places. Thus, the next topic we will cover is about **variables**. The good thing is that you can store every data type in its own variable *(Take it one step further and you're storing functions and classes, but that comes later).*\n",
        "\n",
        "To store data as a variable, I simply declare what I want to name it, put a ```=``` next to it and write what I want to store.\n",
        "\n",
        "***For example:***"
      ]
    },
    {
      "cell_type": "code",
      "metadata": {
        "id": "YvwGuURC3fUI"
      },
      "source": [
        "x = 1+1"
      ],
      "execution_count": null,
      "outputs": []
    },
    {
      "cell_type": "markdown",
      "metadata": {
        "id": "ulcDMccl5QpL"
      },
      "source": [
        "and there we have it, we just stored our variable. Want to confirm? just use the ```print()``` method and inside write your variable."
      ]
    },
    {
      "cell_type": "code",
      "metadata": {
        "id": "vDPqj4IV5P_z"
      },
      "source": [
        "print(x)"
      ],
      "execution_count": null,
      "outputs": []
    },
    {
      "cell_type": "markdown",
      "metadata": {
        "id": "H0ZNdoYS5kcJ"
      },
      "source": [
        "Replace ```1+1``` with the following, one-by-one and print the result:\n",
        "- ```'Bit Project'```\n",
        "- ```2020.2```\n",
        "- ```2**2```\n",
        "\n",
        "and see what the results are"
      ]
    },
    {
      "cell_type": "markdown",
      "metadata": {
        "id": "9XbMd1zO5fx0"
      },
      "source": [
        "**Note:** \n",
        "\n",
        "The names you use when creating these labels need to follow a few rules:\n",
        "\n",
        "    1. Names can not start with a number.\n",
        "    2. There can be no spaces in the name, use _ instead.\n",
        "    3. Can't use any of these symbols :'\",<>/?|\\()!@#$%^&*~-+\n",
        "    4. Using lowercase names are best practice.\n",
        "    5. Avoid using the characters 'l' (lowercase letter el), 'O' (uppercase letter oh), \n",
        "       or 'I' (uppercase letter eye) as single character variable names.\n",
        "    6. Avoid using words that have special meaning in Python like \"list\" and \"str\"\n",
        "\n",
        "\n",
        "Using variable names can be a very useful way to keep track of different variables in Python. \n",
        "\n",
        "For example:"
      ]
    },
    {
      "cell_type": "code",
      "metadata": {
        "id": "W2jNOimE5e1N"
      },
      "source": [
        "# Use object names to keep better track of what's going on in your code!\n",
        "income = 1000\n",
        "\n",
        "tax_rate = 0.2\n",
        "\n",
        "taxes = income*tax_rate"
      ],
      "execution_count": null,
      "outputs": []
    },
    {
      "cell_type": "code",
      "metadata": {
        "id": "qBJNQ6yo9ql1"
      },
      "source": [
        "# Show the result!\n",
        "print(taxes)"
      ],
      "execution_count": null,
      "outputs": []
    },
    {
      "cell_type": "markdown",
      "metadata": {
        "id": "4umMbeE49z3n"
      },
      "source": [
        "## Data Structures"
      ]
    },
    {
      "cell_type": "markdown",
      "metadata": {
        "id": "_NsOoQnM95TE"
      },
      "source": [
        "## List\n"
      ]
    },
    {
      "cell_type": "markdown",
      "metadata": {
        "id": "6g3FiDZu-0Ht"
      },
      "source": [
        "Earlier when discussing strings we introduced the concept of a *sequence*. Lists is the most generalized version of sequences in Python. Unlike strings, they are mutable, meaning the elements inside a list can be changed!\n",
        "\n",
        "Lists are constructed with brackets [] and commas separating every element in the list.\n",
        "\n",
        "Let's start with seeing how we can build a list."
      ]
    },
    {
      "cell_type": "code",
      "metadata": {
        "id": "93uSScXTOk_a"
      },
      "source": [
        "# Assign a list to an variable named my_list\n",
        "my_list = [1,2,3]"
      ],
      "execution_count": null,
      "outputs": []
    },
    {
      "cell_type": "markdown",
      "metadata": {
        "id": "9ggyXUl8Ok_e"
      },
      "source": [
        "We just created a list of integers, but lists can actually hold elements of multiple data types. For example:"
      ]
    },
    {
      "cell_type": "code",
      "metadata": {
        "id": "TPyS5RpIOk_g"
      },
      "source": [
        "my_list = ['A string',23,100.232,'o']"
      ],
      "execution_count": null,
      "outputs": []
    },
    {
      "cell_type": "markdown",
      "metadata": {
        "id": "vRJ7rYkuOk_l"
      },
      "source": [
        "Just like strings, the len() function will tell you how many items are in the sequence of the list."
      ]
    },
    {
      "cell_type": "code",
      "metadata": {
        "id": "ukEGubDvOk_m"
      },
      "source": [
        "len(my_list)"
      ],
      "execution_count": null,
      "outputs": []
    },
    {
      "cell_type": "code",
      "metadata": {
        "id": "oWgtuVsmOk_q"
      },
      "source": [
        "my_list = ['one','two','three',4,5]"
      ],
      "execution_count": null,
      "outputs": []
    },
    {
      "cell_type": "code",
      "metadata": {
        "id": "xDX7DN7uOk_t"
      },
      "source": [
        "# Grab element at index 0\n",
        "my_list[0] "
      ],
      "execution_count": null,
      "outputs": []
    },
    {
      "cell_type": "code",
      "metadata": {
        "id": "4Z36l5JOOk_x"
      },
      "source": [
        "# Grab index 1 and everything past it\n",
        "my_list[1:]"
      ],
      "execution_count": null,
      "outputs": []
    },
    {
      "cell_type": "code",
      "metadata": {
        "id": "VjuHzfJvOk_1"
      },
      "source": [
        "# Grab everything UP TO index 3\n",
        "my_list[:3]"
      ],
      "execution_count": null,
      "outputs": []
    },
    {
      "cell_type": "markdown",
      "metadata": {
        "id": "a4zfPBV5Ok_4"
      },
      "source": [
        "We can also use + to concatenate lists, just like we did for strings."
      ]
    },
    {
      "cell_type": "code",
      "metadata": {
        "id": "34u_E9sVOk_5"
      },
      "source": [
        "my_list + ['new item']"
      ],
      "execution_count": null,
      "outputs": []
    },
    {
      "cell_type": "markdown",
      "metadata": {
        "id": "uWeYqzrdOk_8"
      },
      "source": [
        "Note: This doesn't actually change the original list!"
      ]
    },
    {
      "cell_type": "code",
      "metadata": {
        "id": "iDezs3lnOk_8"
      },
      "source": [
        "my_list"
      ],
      "execution_count": null,
      "outputs": []
    },
    {
      "cell_type": "code",
      "metadata": {
        "id": "UKyDKaGL9zYa"
      },
      "source": [
        "x = [1,2,3,4,5,6,7]\n"
      ],
      "execution_count": null,
      "outputs": []
    },
    {
      "cell_type": "markdown",
      "metadata": {
        "id": "dsOCIEfj-lng"
      },
      "source": [
        "## Dictionaries"
      ]
    },
    {
      "cell_type": "markdown",
      "metadata": {
        "id": "Gml2Q3rPOzP6"
      },
      "source": [
        "\n",
        "\n",
        "We've been learning about *sequences* in Python but now we're going to switch gears and learn about *mappings* in Python. If you're familiar with other languages you can think of dictionaries as hash tables. \n",
        "\n",
        "So what are mappings? Mappings are a collection of objects that are stored by a *key*, unlike a sequence that stored objects by their relative position. This is an important distinction, since mappings won't retain order as is no *order* to keys..\n",
        "\n",
        "A Python dictionary consists of a key and then an associated value. That value can be almost any Python object."
      ]
    },
    {
      "cell_type": "markdown",
      "metadata": {
        "id": "j5v_alrd8KaO"
      },
      "source": [
        "### Constructing a Dictionary\n",
        "Let's see how we can build dictionaries and better understand how they work."
      ]
    },
    {
      "cell_type": "code",
      "metadata": {
        "id": "Ibt_zazrOzP7"
      },
      "source": [
        "# Make a dictionary with {} and : to signify a key and a value\n",
        "my_dictionary = {'key1':'value1','key2':'value2'}"
      ],
      "execution_count": null,
      "outputs": []
    },
    {
      "cell_type": "code",
      "metadata": {
        "id": "UcpULUI4OzQC"
      },
      "source": [
        "# Call values by their key\n",
        "my_dictionary['key2']"
      ],
      "execution_count": null,
      "outputs": []
    },
    {
      "cell_type": "markdown",
      "metadata": {
        "id": "17-ijFwFOzQI"
      },
      "source": [
        "Its important to note that dictionaries are very flexible in the data types they can hold. For example:"
      ]
    },
    {
      "cell_type": "code",
      "metadata": {
        "id": "j7ZWMM7oOzQJ"
      },
      "source": [
        "my_dictionary = {'key1':123,'key2':[12,23,33],'key3':['item0','item1','item2']}"
      ],
      "execution_count": null,
      "outputs": []
    },
    {
      "cell_type": "code",
      "metadata": {
        "id": "57kiUxF2OzQO"
      },
      "source": [
        "# Let's call items from the dictionary\n",
        "my_dictionary['key3']"
      ],
      "execution_count": null,
      "outputs": []
    },
    {
      "cell_type": "code",
      "metadata": {
        "id": "f0T3aDArOzQT"
      },
      "source": [
        "# Can call an index on that value\n",
        "my_dictionary['key3'][0]"
      ],
      "execution_count": null,
      "outputs": []
    },
    {
      "cell_type": "code",
      "metadata": {
        "id": "cB7xzb4FOzQY"
      },
      "source": [
        "# Can then even call methods on that value\n",
        "my_dictionary['key3'][0].upper()"
      ],
      "execution_count": null,
      "outputs": []
    },
    {
      "cell_type": "markdown",
      "metadata": {
        "id": "VfbPr4MpOzQf"
      },
      "source": [
        "We can affect the values of a key as well. For instance:"
      ]
    },
    {
      "cell_type": "code",
      "metadata": {
        "id": "5P_IW7-wOzQh"
      },
      "source": [
        "my_dictionary['key1']"
      ],
      "execution_count": null,
      "outputs": []
    },
    {
      "cell_type": "code",
      "metadata": {
        "id": "_JE2n8BLOzQn"
      },
      "source": [
        "# Subtract 123 from the value\n",
        "my_dictionary['key1'] = my_dictionary['key1'] - 123"
      ],
      "execution_count": null,
      "outputs": []
    },
    {
      "cell_type": "code",
      "metadata": {
        "id": "UZQnyDq3OzQq"
      },
      "source": [
        "#Check\n",
        "my_dictionary['key1']"
      ],
      "execution_count": null,
      "outputs": []
    },
    {
      "cell_type": "markdown",
      "metadata": {
        "id": "Ba8UE39VOzQv"
      },
      "source": [
        "A quick note, Python has a built-in method of doing a self subtraction or addition (or multiplication or division). We could have also used += or -= for the above statement. For example:"
      ]
    },
    {
      "cell_type": "code",
      "metadata": {
        "id": "enQczBulOzQw"
      },
      "source": [
        "# Set the object equal to itself minus 123 \n",
        "my_dictionary['key1'] -= 123\n",
        "my_dictionary['key1']"
      ],
      "execution_count": null,
      "outputs": []
    },
    {
      "cell_type": "markdown",
      "metadata": {
        "id": "Ym1tQXryOzQ0"
      },
      "source": [
        "We can also create keys by assignment. For instance if we started off with an empty dictionary, we could continually add to it:"
      ]
    },
    {
      "cell_type": "code",
      "metadata": {
        "id": "XYTOL_t6OzQ0"
      },
      "source": [
        "# Create a new dictionary\n",
        "d = {}"
      ],
      "execution_count": null,
      "outputs": []
    },
    {
      "cell_type": "code",
      "metadata": {
        "id": "6cxK3dXhOzQ4"
      },
      "source": [
        "# Create a new key through assignment\n",
        "d['animal'] = 'Dog'"
      ],
      "execution_count": null,
      "outputs": []
    },
    {
      "cell_type": "code",
      "metadata": {
        "id": "2udYamqwOzQ7"
      },
      "source": [
        "# Can do this with any object\n",
        "d['answer'] = 42"
      ],
      "execution_count": null,
      "outputs": []
    },
    {
      "cell_type": "code",
      "metadata": {
        "id": "LIICwuVGOzQ_"
      },
      "source": [
        "#Show\n",
        "d"
      ],
      "execution_count": null,
      "outputs": []
    },
    {
      "cell_type": "markdown",
      "metadata": {
        "id": "KoPLNg5sAoM_"
      },
      "source": [
        "There are other important data types in Python such as ```tuples``` and ```sets``` but we won't be convering them in this workshop."
      ]
    },
    {
      "cell_type": "markdown",
      "metadata": {
        "id": "_d9-nOtO28os"
      },
      "source": [
        "## Comparison Operators \n",
        "\n",
        "As stated previously, comparison operators allow us to compare variables and output a Boolean value (True or False). \n",
        "\n",
        "These operators are the exact same as what you've seen in Math, so there's nothing new here.\n",
        "\n",
        "First we'll present a table of the comparison operators and then work through some examples:\n",
        "\n",
        "<h2> Table of Comparison Operators </h2><p>  In the table below, a=9 and b=11.</p>\n",
        "\n",
        "<table class=\"table table-bordered\">\n",
        "<tr>\n",
        "<th style=\"width:10%\">Operator</th><th style=\"width:45%\">Description</th><th>Example</th>\n",
        "</tr>\n",
        "<tr>\n",
        "<td>==</td>\n",
        "<td>If the values of two operands are equal, then the condition becomes true.</td>\n",
        "<td> (a == b) is not true.</td>\n",
        "</tr>\n",
        "<tr>\n",
        "<td>!=</td>\n",
        "<td>If values of two operands are not equal, then condition becomes true.</td>\n",
        "<td>(a != b) is true</td>\n",
        "</tr>\n",
        "<tr>\n",
        "<td>&gt;</td>\n",
        "<td>If the value of left operand is greater than the value of right operand, then condition becomes true.</td>\n",
        "<td> (a &gt; b) is not true.</td>\n",
        "</tr>\n",
        "<tr>\n",
        "<td>&lt;</td>\n",
        "<td>If the value of left operand is less than the value of right operand, then condition becomes true.</td>\n",
        "<td> (a &lt; b) is true.</td>\n",
        "</tr>\n",
        "<tr>\n",
        "<td>&gt;=</td>\n",
        "<td>If the value of left operand is greater than or equal to the value of right operand, then condition becomes true.</td>\n",
        "<td> (a &gt;= b) is not true. </td>\n",
        "</tr>\n",
        "<tr>\n",
        "<td>&lt;=</td>\n",
        "<td>If the value of left operand is less than or equal to the value of right operand, then condition becomes true.</td>\n",
        "<td> (a &lt;= b) is true. </td>\n",
        "</tr>\n",
        "</table>"
      ]
    },
    {
      "cell_type": "markdown",
      "metadata": {
        "id": "Oxyatrdj28ow"
      },
      "source": [
        "Let's now work through quick examples of each of these.\n",
        "\n",
        "#### Equal"
      ]
    },
    {
      "cell_type": "code",
      "metadata": {
        "id": "rPThJGsl28ox"
      },
      "source": [
        "4 == 4"
      ],
      "execution_count": null,
      "outputs": []
    },
    {
      "cell_type": "code",
      "metadata": {
        "id": "W2W27aBp28o1"
      },
      "source": [
        "1 == 0"
      ],
      "execution_count": null,
      "outputs": []
    },
    {
      "cell_type": "markdown",
      "metadata": {
        "id": "nYlO20cDSott"
      },
      "source": [
        "# Functions"
      ]
    },
    {
      "cell_type": "markdown",
      "metadata": {
        "id": "m8yYPzy-qZod"
      },
      "source": [
        "Functions are blocks of code that perform some specific task and will run when they are called.\n",
        "\n",
        "For example, \n"
      ]
    },
    {
      "cell_type": "code",
      "metadata": {
        "id": "O_nJ-4NGS9ZF"
      },
      "source": [
        "def sum(a, b):\n",
        "  answer = a + b\n",
        "  return answer"
      ],
      "execution_count": null,
      "outputs": []
    },
    {
      "cell_type": "markdown",
      "metadata": {
        "id": "kI3GF1W4TBiD"
      },
      "source": [
        "This is an example of a function that will return the sum of two numbers when it is called.\n",
        "\n",
        "Let's see a case of running this example:"
      ]
    },
    {
      "cell_type": "code",
      "metadata": {
        "id": "q3MUkcV4TJ1E"
      },
      "source": [
        "sum(4, 6)"
      ],
      "execution_count": null,
      "outputs": []
    },
    {
      "cell_type": "markdown",
      "metadata": {
        "id": "Mvl8nYpWTORl"
      },
      "source": [
        "As you can see, when we call the `sum()` function with any values as parameters, it performs the code within the function and returns the output.\n",
        "\n",
        "You can write your own functions to perform any task you want, but Python also has built-in functions for Pandas and Matplotlib.\n",
        "\n",
        "We will work with these built-in functions throughout our Data Science pipeline."
      ]
    },
    {
      "cell_type": "markdown",
      "metadata": {
        "id": "edq-7KrIKK-k"
      },
      "source": [
        "**Other Things To Review:**\r\n",
        "- If-else statements\r\n",
        "- Loops\r\n",
        "- Modules and Packages\r\n"
      ]
    },
    {
      "cell_type": "markdown",
      "metadata": {
        "id": "lRozFeQTgsmZ"
      },
      "source": [
        "## <h1 align=\"center\">Pandas for Data Manipulation</h1>"
      ]
    },
    {
      "cell_type": "markdown",
      "metadata": {
        "id": "4mXr8P4vAxv_"
      },
      "source": [
        "<p align=\"center\">\n",
        "<img src=\"https://github.com/bitprj/DigitalHistory/blob/master/Week3-Introduction-to-Open-Data-Importing-Data-and-Basic-Data-Wrangling/assets/icons/pandas.png?raw=true\" width=200></p>\n"
      ]
    },
    {
      "cell_type": "markdown",
      "metadata": {
        "id": "1qcEzDwuBbZx"
      },
      "source": [
        "### What is Pandas?\n",
        "This week, we will cover the basic data manipulation using Pandas.\n",
        "1. Pandas is an open source data analysis and manipulation tool and it is widely used both in academia and industry.\n",
        "2. It is built on top of the Python programming language. \n",
        "3. It offers data structures and operations for manipulating numerical tables and time series.\n",
        "\n",
        "### Data Frames in Pandas\n",
        "1. A DataFrame is 2-dimensional labelled data structure with both rows and columns and 2-dimensional array represents a tabluar data.\n",
        "\n",
        "For this workshop we will focus on DataFrames."
      ]
    },
    {
      "cell_type": "markdown",
      "metadata": {
        "id": "daL_X2SaBeQs"
      },
      "source": [
        "Let's see how Dataframes work in Pandas.\n",
        "\n",
        "Lets say we have 7 lists of equal length 8.\n",
        "List #:\n",
        "1. Human id\n",
        "2. First Name\n",
        "3. Last Name\n",
        "4. Age\n",
        "5. Major\n",
        "6. Gender\n",
        "7. Number of Cars they own\n"
      ]
    },
    {
      "cell_type": "markdown",
      "metadata": {
        "id": "hIrhpuaIJo6X"
      },
      "source": [
        "*Disclaimer : All the data used for this section is fictional, i.e I made it up*"
      ]
    },
    {
      "cell_type": "code",
      "metadata": {
        "id": "byGwmvJ2AiQ-"
      },
      "source": [
        "human_id = [42000500,560000001,210004342,9913124,20141252,9412414,661245,11,1245124,10]\n",
        "f_name = ['Shayan','Amy','Daniel','Atul','Narae','Kyle','Shreya','Mohammad','Romaiza','Lionel']\n",
        "l_name = ['Riyaz','Cu','Kim','Jayaram','Lee','Begovich','Gupta','Salah','Ibad','Messi']\n",
        "Age =    [34,21,24,20,None,24,19,27,21,35]\n",
        "Major = ['Dance','Computer Science','Electrical Engineering','Computer Science','Computer Science','Marketing','Business Studies','Sportsman','Political Science','Athletics']\n",
        "Gender = ['Male','Female','Male','Male','Female','Male','Male',None,'Female','Male']\n",
        "number_of_cars = [None,1,2,0,1,3,2,None,1,6]\n"
      ],
      "execution_count": 25,
      "outputs": []
    },
    {
      "cell_type": "code",
      "metadata": {
        "id": "uiQHZkrCAl3l",
        "colab": {
          "base_uri": "https://localhost:8080/"
        },
        "outputId": "0a854d09-d059-46e6-af15-7655fc36342c"
      },
      "source": [
        "if (len(human_id) & len(f_name) & len(l_name) & len(Age) & len(Major) & len(Gender)& len(number_of_cars)):\n",
        "  print('Equal Length')\n",
        "else:\n",
        "  print('Invalid Lengths')"
      ],
      "execution_count": 26,
      "outputs": [
        {
          "output_type": "stream",
          "text": [
            "Equal Length\n"
          ],
          "name": "stdout"
        }
      ]
    },
    {
      "cell_type": "markdown",
      "metadata": {
        "id": "zl6q6Or6vDMl"
      },
      "source": [
        "### Importing Libraries"
      ]
    },
    {
      "cell_type": "code",
      "metadata": {
        "id": "y0n-hqC8D_WT"
      },
      "source": [
        "import pandas as pd"
      ],
      "execution_count": 27,
      "outputs": []
    },
    {
      "cell_type": "markdown",
      "metadata": {
        "id": "PcTvJ8e85uAt"
      },
      "source": [
        "### Storing our lists into a dictionary"
      ]
    },
    {
      "cell_type": "code",
      "metadata": {
        "id": "OTlbTdldHDOw"
      },
      "source": [
        "data = {\n",
        "    \"Human ID\": human_id,\n",
        "    \"First Name\" : f_name,\n",
        "    \"Last Name\" : l_name,\n",
        "    \"Age\" :    Age,\n",
        "    \"Major\" : Major,\n",
        "    \"Gender\" : Gender,\n",
        "    \"Number of Cars\" : number_of_cars\n",
        "    }"
      ],
      "execution_count": 28,
      "outputs": []
    },
    {
      "cell_type": "markdown",
      "metadata": {
        "id": "tqR4COuH5y9N"
      },
      "source": [
        "### Converting our dictionary into a dataframe"
      ]
    },
    {
      "cell_type": "code",
      "metadata": {
        "id": "9ZlwiqqsERUn",
        "colab": {
          "base_uri": "https://localhost:8080/",
          "height": 359
        },
        "outputId": "3e15a0e6-fa1f-454f-d3b5-73643fcd1957"
      },
      "source": [
        "data_frame = pd.DataFrame(data)\n",
        "data_frame"
      ],
      "execution_count": 29,
      "outputs": [
        {
          "output_type": "execute_result",
          "data": {
            "text/html": [
              "<div>\n",
              "<style scoped>\n",
              "    .dataframe tbody tr th:only-of-type {\n",
              "        vertical-align: middle;\n",
              "    }\n",
              "\n",
              "    .dataframe tbody tr th {\n",
              "        vertical-align: top;\n",
              "    }\n",
              "\n",
              "    .dataframe thead th {\n",
              "        text-align: right;\n",
              "    }\n",
              "</style>\n",
              "<table border=\"1\" class=\"dataframe\">\n",
              "  <thead>\n",
              "    <tr style=\"text-align: right;\">\n",
              "      <th></th>\n",
              "      <th>Human ID</th>\n",
              "      <th>First Name</th>\n",
              "      <th>Last Name</th>\n",
              "      <th>Age</th>\n",
              "      <th>Major</th>\n",
              "      <th>Gender</th>\n",
              "      <th>Number of Cars</th>\n",
              "    </tr>\n",
              "  </thead>\n",
              "  <tbody>\n",
              "    <tr>\n",
              "      <th>0</th>\n",
              "      <td>42000500</td>\n",
              "      <td>Shayan</td>\n",
              "      <td>Riyaz</td>\n",
              "      <td>34.0</td>\n",
              "      <td>Dance</td>\n",
              "      <td>Male</td>\n",
              "      <td>NaN</td>\n",
              "    </tr>\n",
              "    <tr>\n",
              "      <th>1</th>\n",
              "      <td>560000001</td>\n",
              "      <td>Amy</td>\n",
              "      <td>Cu</td>\n",
              "      <td>21.0</td>\n",
              "      <td>Computer Science</td>\n",
              "      <td>Female</td>\n",
              "      <td>1.0</td>\n",
              "    </tr>\n",
              "    <tr>\n",
              "      <th>2</th>\n",
              "      <td>210004342</td>\n",
              "      <td>Daniel</td>\n",
              "      <td>Kim</td>\n",
              "      <td>24.0</td>\n",
              "      <td>Electrical Engineering</td>\n",
              "      <td>Male</td>\n",
              "      <td>2.0</td>\n",
              "    </tr>\n",
              "    <tr>\n",
              "      <th>3</th>\n",
              "      <td>9913124</td>\n",
              "      <td>Atul</td>\n",
              "      <td>Jayaram</td>\n",
              "      <td>20.0</td>\n",
              "      <td>Computer Science</td>\n",
              "      <td>Male</td>\n",
              "      <td>0.0</td>\n",
              "    </tr>\n",
              "    <tr>\n",
              "      <th>4</th>\n",
              "      <td>20141252</td>\n",
              "      <td>Narae</td>\n",
              "      <td>Lee</td>\n",
              "      <td>NaN</td>\n",
              "      <td>Computer Science</td>\n",
              "      <td>Female</td>\n",
              "      <td>1.0</td>\n",
              "    </tr>\n",
              "    <tr>\n",
              "      <th>5</th>\n",
              "      <td>9412414</td>\n",
              "      <td>Kyle</td>\n",
              "      <td>Begovich</td>\n",
              "      <td>24.0</td>\n",
              "      <td>Marketing</td>\n",
              "      <td>Male</td>\n",
              "      <td>3.0</td>\n",
              "    </tr>\n",
              "    <tr>\n",
              "      <th>6</th>\n",
              "      <td>661245</td>\n",
              "      <td>Shreya</td>\n",
              "      <td>Gupta</td>\n",
              "      <td>19.0</td>\n",
              "      <td>Business Studies</td>\n",
              "      <td>Male</td>\n",
              "      <td>2.0</td>\n",
              "    </tr>\n",
              "    <tr>\n",
              "      <th>7</th>\n",
              "      <td>11</td>\n",
              "      <td>Mohammad</td>\n",
              "      <td>Salah</td>\n",
              "      <td>27.0</td>\n",
              "      <td>Sportsman</td>\n",
              "      <td>None</td>\n",
              "      <td>NaN</td>\n",
              "    </tr>\n",
              "    <tr>\n",
              "      <th>8</th>\n",
              "      <td>1245124</td>\n",
              "      <td>Romaiza</td>\n",
              "      <td>Ibad</td>\n",
              "      <td>21.0</td>\n",
              "      <td>Political Science</td>\n",
              "      <td>Female</td>\n",
              "      <td>1.0</td>\n",
              "    </tr>\n",
              "    <tr>\n",
              "      <th>9</th>\n",
              "      <td>10</td>\n",
              "      <td>Lionel</td>\n",
              "      <td>Messi</td>\n",
              "      <td>35.0</td>\n",
              "      <td>Athletics</td>\n",
              "      <td>Male</td>\n",
              "      <td>6.0</td>\n",
              "    </tr>\n",
              "  </tbody>\n",
              "</table>\n",
              "</div>"
            ],
            "text/plain": [
              "    Human ID First Name  ...  Gender  Number of Cars\n",
              "0   42000500     Shayan  ...    Male             NaN\n",
              "1  560000001        Amy  ...  Female             1.0\n",
              "2  210004342     Daniel  ...    Male             2.0\n",
              "3    9913124       Atul  ...    Male             0.0\n",
              "4   20141252      Narae  ...  Female             1.0\n",
              "5    9412414       Kyle  ...    Male             3.0\n",
              "6     661245     Shreya  ...    Male             2.0\n",
              "7         11   Mohammad  ...    None             NaN\n",
              "8    1245124    Romaiza  ...  Female             1.0\n",
              "9         10     Lionel  ...    Male             6.0\n",
              "\n",
              "[10 rows x 7 columns]"
            ]
          },
          "metadata": {
            "tags": []
          },
          "execution_count": 29
        }
      ]
    },
    {
      "cell_type": "markdown",
      "metadata": {
        "id": "mxkv5Wzu58Ym"
      },
      "source": [
        "### Changing the Index "
      ]
    },
    {
      "cell_type": "code",
      "metadata": {
        "id": "z2Yse0Dw56FN",
        "colab": {
          "base_uri": "https://localhost:8080/",
          "height": 390
        },
        "outputId": "11aa8359-c24e-4415-99b2-3524aa9d8509"
      },
      "source": [
        "data_frame.set_index(keys='Human ID',inplace = True)\n",
        "data_frame"
      ],
      "execution_count": 30,
      "outputs": [
        {
          "output_type": "execute_result",
          "data": {
            "text/html": [
              "<div>\n",
              "<style scoped>\n",
              "    .dataframe tbody tr th:only-of-type {\n",
              "        vertical-align: middle;\n",
              "    }\n",
              "\n",
              "    .dataframe tbody tr th {\n",
              "        vertical-align: top;\n",
              "    }\n",
              "\n",
              "    .dataframe thead th {\n",
              "        text-align: right;\n",
              "    }\n",
              "</style>\n",
              "<table border=\"1\" class=\"dataframe\">\n",
              "  <thead>\n",
              "    <tr style=\"text-align: right;\">\n",
              "      <th></th>\n",
              "      <th>First Name</th>\n",
              "      <th>Last Name</th>\n",
              "      <th>Age</th>\n",
              "      <th>Major</th>\n",
              "      <th>Gender</th>\n",
              "      <th>Number of Cars</th>\n",
              "    </tr>\n",
              "    <tr>\n",
              "      <th>Human ID</th>\n",
              "      <th></th>\n",
              "      <th></th>\n",
              "      <th></th>\n",
              "      <th></th>\n",
              "      <th></th>\n",
              "      <th></th>\n",
              "    </tr>\n",
              "  </thead>\n",
              "  <tbody>\n",
              "    <tr>\n",
              "      <th>42000500</th>\n",
              "      <td>Shayan</td>\n",
              "      <td>Riyaz</td>\n",
              "      <td>34.0</td>\n",
              "      <td>Dance</td>\n",
              "      <td>Male</td>\n",
              "      <td>NaN</td>\n",
              "    </tr>\n",
              "    <tr>\n",
              "      <th>560000001</th>\n",
              "      <td>Amy</td>\n",
              "      <td>Cu</td>\n",
              "      <td>21.0</td>\n",
              "      <td>Computer Science</td>\n",
              "      <td>Female</td>\n",
              "      <td>1.0</td>\n",
              "    </tr>\n",
              "    <tr>\n",
              "      <th>210004342</th>\n",
              "      <td>Daniel</td>\n",
              "      <td>Kim</td>\n",
              "      <td>24.0</td>\n",
              "      <td>Electrical Engineering</td>\n",
              "      <td>Male</td>\n",
              "      <td>2.0</td>\n",
              "    </tr>\n",
              "    <tr>\n",
              "      <th>9913124</th>\n",
              "      <td>Atul</td>\n",
              "      <td>Jayaram</td>\n",
              "      <td>20.0</td>\n",
              "      <td>Computer Science</td>\n",
              "      <td>Male</td>\n",
              "      <td>0.0</td>\n",
              "    </tr>\n",
              "    <tr>\n",
              "      <th>20141252</th>\n",
              "      <td>Narae</td>\n",
              "      <td>Lee</td>\n",
              "      <td>NaN</td>\n",
              "      <td>Computer Science</td>\n",
              "      <td>Female</td>\n",
              "      <td>1.0</td>\n",
              "    </tr>\n",
              "    <tr>\n",
              "      <th>9412414</th>\n",
              "      <td>Kyle</td>\n",
              "      <td>Begovich</td>\n",
              "      <td>24.0</td>\n",
              "      <td>Marketing</td>\n",
              "      <td>Male</td>\n",
              "      <td>3.0</td>\n",
              "    </tr>\n",
              "    <tr>\n",
              "      <th>661245</th>\n",
              "      <td>Shreya</td>\n",
              "      <td>Gupta</td>\n",
              "      <td>19.0</td>\n",
              "      <td>Business Studies</td>\n",
              "      <td>Male</td>\n",
              "      <td>2.0</td>\n",
              "    </tr>\n",
              "    <tr>\n",
              "      <th>11</th>\n",
              "      <td>Mohammad</td>\n",
              "      <td>Salah</td>\n",
              "      <td>27.0</td>\n",
              "      <td>Sportsman</td>\n",
              "      <td>None</td>\n",
              "      <td>NaN</td>\n",
              "    </tr>\n",
              "    <tr>\n",
              "      <th>1245124</th>\n",
              "      <td>Romaiza</td>\n",
              "      <td>Ibad</td>\n",
              "      <td>21.0</td>\n",
              "      <td>Political Science</td>\n",
              "      <td>Female</td>\n",
              "      <td>1.0</td>\n",
              "    </tr>\n",
              "    <tr>\n",
              "      <th>10</th>\n",
              "      <td>Lionel</td>\n",
              "      <td>Messi</td>\n",
              "      <td>35.0</td>\n",
              "      <td>Athletics</td>\n",
              "      <td>Male</td>\n",
              "      <td>6.0</td>\n",
              "    </tr>\n",
              "  </tbody>\n",
              "</table>\n",
              "</div>"
            ],
            "text/plain": [
              "          First Name Last Name  ...  Gender Number of Cars\n",
              "Human ID                        ...                       \n",
              "42000500      Shayan     Riyaz  ...    Male            NaN\n",
              "560000001        Amy        Cu  ...  Female            1.0\n",
              "210004342     Daniel       Kim  ...    Male            2.0\n",
              "9913124         Atul   Jayaram  ...    Male            0.0\n",
              "20141252       Narae       Lee  ...  Female            1.0\n",
              "9412414         Kyle  Begovich  ...    Male            3.0\n",
              "661245        Shreya     Gupta  ...    Male            2.0\n",
              "11          Mohammad     Salah  ...    None            NaN\n",
              "1245124      Romaiza      Ibad  ...  Female            1.0\n",
              "10            Lionel     Messi  ...    Male            6.0\n",
              "\n",
              "[10 rows x 6 columns]"
            ]
          },
          "metadata": {
            "tags": []
          },
          "execution_count": 30
        }
      ]
    },
    {
      "cell_type": "markdown",
      "metadata": {
        "id": "kXK7DVum5_y5"
      },
      "source": [
        "### Printing the first 5 rows of our dataframe"
      ]
    },
    {
      "cell_type": "code",
      "metadata": {
        "id": "3DBHhKJy5jqN",
        "colab": {
          "base_uri": "https://localhost:8080/",
          "height": 235
        },
        "outputId": "4294f320-45c3-4754-d926-0e8dd9fc14dd"
      },
      "source": [
        "data_frame.head()"
      ],
      "execution_count": 31,
      "outputs": [
        {
          "output_type": "execute_result",
          "data": {
            "text/html": [
              "<div>\n",
              "<style scoped>\n",
              "    .dataframe tbody tr th:only-of-type {\n",
              "        vertical-align: middle;\n",
              "    }\n",
              "\n",
              "    .dataframe tbody tr th {\n",
              "        vertical-align: top;\n",
              "    }\n",
              "\n",
              "    .dataframe thead th {\n",
              "        text-align: right;\n",
              "    }\n",
              "</style>\n",
              "<table border=\"1\" class=\"dataframe\">\n",
              "  <thead>\n",
              "    <tr style=\"text-align: right;\">\n",
              "      <th></th>\n",
              "      <th>First Name</th>\n",
              "      <th>Last Name</th>\n",
              "      <th>Age</th>\n",
              "      <th>Major</th>\n",
              "      <th>Gender</th>\n",
              "      <th>Number of Cars</th>\n",
              "    </tr>\n",
              "    <tr>\n",
              "      <th>Human ID</th>\n",
              "      <th></th>\n",
              "      <th></th>\n",
              "      <th></th>\n",
              "      <th></th>\n",
              "      <th></th>\n",
              "      <th></th>\n",
              "    </tr>\n",
              "  </thead>\n",
              "  <tbody>\n",
              "    <tr>\n",
              "      <th>42000500</th>\n",
              "      <td>Shayan</td>\n",
              "      <td>Riyaz</td>\n",
              "      <td>34.0</td>\n",
              "      <td>Dance</td>\n",
              "      <td>Male</td>\n",
              "      <td>NaN</td>\n",
              "    </tr>\n",
              "    <tr>\n",
              "      <th>560000001</th>\n",
              "      <td>Amy</td>\n",
              "      <td>Cu</td>\n",
              "      <td>21.0</td>\n",
              "      <td>Computer Science</td>\n",
              "      <td>Female</td>\n",
              "      <td>1.0</td>\n",
              "    </tr>\n",
              "    <tr>\n",
              "      <th>210004342</th>\n",
              "      <td>Daniel</td>\n",
              "      <td>Kim</td>\n",
              "      <td>24.0</td>\n",
              "      <td>Electrical Engineering</td>\n",
              "      <td>Male</td>\n",
              "      <td>2.0</td>\n",
              "    </tr>\n",
              "    <tr>\n",
              "      <th>9913124</th>\n",
              "      <td>Atul</td>\n",
              "      <td>Jayaram</td>\n",
              "      <td>20.0</td>\n",
              "      <td>Computer Science</td>\n",
              "      <td>Male</td>\n",
              "      <td>0.0</td>\n",
              "    </tr>\n",
              "    <tr>\n",
              "      <th>20141252</th>\n",
              "      <td>Narae</td>\n",
              "      <td>Lee</td>\n",
              "      <td>NaN</td>\n",
              "      <td>Computer Science</td>\n",
              "      <td>Female</td>\n",
              "      <td>1.0</td>\n",
              "    </tr>\n",
              "  </tbody>\n",
              "</table>\n",
              "</div>"
            ],
            "text/plain": [
              "          First Name Last Name  ...  Gender Number of Cars\n",
              "Human ID                        ...                       \n",
              "42000500      Shayan     Riyaz  ...    Male            NaN\n",
              "560000001        Amy        Cu  ...  Female            1.0\n",
              "210004342     Daniel       Kim  ...    Male            2.0\n",
              "9913124         Atul   Jayaram  ...    Male            0.0\n",
              "20141252       Narae       Lee  ...  Female            1.0\n",
              "\n",
              "[5 rows x 6 columns]"
            ]
          },
          "metadata": {
            "tags": []
          },
          "execution_count": 31
        }
      ]
    },
    {
      "cell_type": "markdown",
      "metadata": {
        "id": "OKObUG1p6EY3"
      },
      "source": [
        "### Identifying basic properties of our dataframe\n"
      ]
    },
    {
      "cell_type": "code",
      "metadata": {
        "id": "k7yymJRu51cO",
        "colab": {
          "base_uri": "https://localhost:8080/",
          "height": 297
        },
        "outputId": "cc776217-443d-4814-8ad0-01b38902ee0a"
      },
      "source": [
        "data_frame.describe()"
      ],
      "execution_count": 32,
      "outputs": [
        {
          "output_type": "execute_result",
          "data": {
            "text/html": [
              "<div>\n",
              "<style scoped>\n",
              "    .dataframe tbody tr th:only-of-type {\n",
              "        vertical-align: middle;\n",
              "    }\n",
              "\n",
              "    .dataframe tbody tr th {\n",
              "        vertical-align: top;\n",
              "    }\n",
              "\n",
              "    .dataframe thead th {\n",
              "        text-align: right;\n",
              "    }\n",
              "</style>\n",
              "<table border=\"1\" class=\"dataframe\">\n",
              "  <thead>\n",
              "    <tr style=\"text-align: right;\">\n",
              "      <th></th>\n",
              "      <th>Age</th>\n",
              "      <th>Number of Cars</th>\n",
              "    </tr>\n",
              "  </thead>\n",
              "  <tbody>\n",
              "    <tr>\n",
              "      <th>count</th>\n",
              "      <td>9.00000</td>\n",
              "      <td>8.00000</td>\n",
              "    </tr>\n",
              "    <tr>\n",
              "      <th>mean</th>\n",
              "      <td>25.00000</td>\n",
              "      <td>2.00000</td>\n",
              "    </tr>\n",
              "    <tr>\n",
              "      <th>std</th>\n",
              "      <td>5.91608</td>\n",
              "      <td>1.85164</td>\n",
              "    </tr>\n",
              "    <tr>\n",
              "      <th>min</th>\n",
              "      <td>19.00000</td>\n",
              "      <td>0.00000</td>\n",
              "    </tr>\n",
              "    <tr>\n",
              "      <th>25%</th>\n",
              "      <td>21.00000</td>\n",
              "      <td>1.00000</td>\n",
              "    </tr>\n",
              "    <tr>\n",
              "      <th>50%</th>\n",
              "      <td>24.00000</td>\n",
              "      <td>1.50000</td>\n",
              "    </tr>\n",
              "    <tr>\n",
              "      <th>75%</th>\n",
              "      <td>27.00000</td>\n",
              "      <td>2.25000</td>\n",
              "    </tr>\n",
              "    <tr>\n",
              "      <th>max</th>\n",
              "      <td>35.00000</td>\n",
              "      <td>6.00000</td>\n",
              "    </tr>\n",
              "  </tbody>\n",
              "</table>\n",
              "</div>"
            ],
            "text/plain": [
              "            Age  Number of Cars\n",
              "count   9.00000         8.00000\n",
              "mean   25.00000         2.00000\n",
              "std     5.91608         1.85164\n",
              "min    19.00000         0.00000\n",
              "25%    21.00000         1.00000\n",
              "50%    24.00000         1.50000\n",
              "75%    27.00000         2.25000\n",
              "max    35.00000         6.00000"
            ]
          },
          "metadata": {
            "tags": []
          },
          "execution_count": 32
        }
      ]
    },
    {
      "cell_type": "markdown",
      "metadata": {
        "id": "zkhH_Fg56IwP"
      },
      "source": [
        "### Data Frame information"
      ]
    },
    {
      "cell_type": "code",
      "metadata": {
        "id": "UNermHwy54x0",
        "colab": {
          "base_uri": "https://localhost:8080/"
        },
        "outputId": "5b46ea4d-284a-41d2-9b46-a299de559923"
      },
      "source": [
        "data_frame.info()"
      ],
      "execution_count": 33,
      "outputs": [
        {
          "output_type": "stream",
          "text": [
            "<class 'pandas.core.frame.DataFrame'>\n",
            "Int64Index: 10 entries, 42000500 to 10\n",
            "Data columns (total 6 columns):\n",
            " #   Column          Non-Null Count  Dtype  \n",
            "---  ------          --------------  -----  \n",
            " 0   First Name      10 non-null     object \n",
            " 1   Last Name       10 non-null     object \n",
            " 2   Age             9 non-null      float64\n",
            " 3   Major           10 non-null     object \n",
            " 4   Gender          9 non-null      object \n",
            " 5   Number of Cars  8 non-null      float64\n",
            "dtypes: float64(2), object(4)\n",
            "memory usage: 560.0+ bytes\n"
          ],
          "name": "stdout"
        }
      ]
    },
    {
      "cell_type": "markdown",
      "metadata": {
        "id": "a_6TSf3V6KvZ"
      },
      "source": [
        "### Shape of our dataframe"
      ]
    },
    {
      "cell_type": "code",
      "metadata": {
        "id": "9QRth4tMEe8h",
        "colab": {
          "base_uri": "https://localhost:8080/"
        },
        "outputId": "aa1fcb81-3947-4450-96e6-0c08fe5bc30f"
      },
      "source": [
        "data_frame.shape"
      ],
      "execution_count": 34,
      "outputs": [
        {
          "output_type": "execute_result",
          "data": {
            "text/plain": [
              "(10, 6)"
            ]
          },
          "metadata": {
            "tags": []
          },
          "execution_count": 34
        }
      ]
    },
    {
      "cell_type": "markdown",
      "metadata": {
        "id": "4qk4o3AF6Mo7"
      },
      "source": [
        "### Printing Columns in our dataframe"
      ]
    },
    {
      "cell_type": "code",
      "metadata": {
        "id": "q4bUVFXASVNT",
        "colab": {
          "base_uri": "https://localhost:8080/"
        },
        "outputId": "5246a7bb-36e6-40a3-bf97-ab7dba15979f"
      },
      "source": [
        "#print column names\n",
        "data_frame.columns"
      ],
      "execution_count": 35,
      "outputs": [
        {
          "output_type": "execute_result",
          "data": {
            "text/plain": [
              "Index(['First Name', 'Last Name', 'Age', 'Major', 'Gender', 'Number of Cars'], dtype='object')"
            ]
          },
          "metadata": {
            "tags": []
          },
          "execution_count": 35
        }
      ]
    },
    {
      "cell_type": "markdown",
      "metadata": {
        "id": "z_zZgzvp6Xjf"
      },
      "source": [
        "### Reseting our dataframe index"
      ]
    },
    {
      "cell_type": "code",
      "metadata": {
        "id": "RDZCqDDJR80n"
      },
      "source": [
        "data_frame.reset_index(inplace=True)"
      ],
      "execution_count": 36,
      "outputs": []
    },
    {
      "cell_type": "code",
      "metadata": {
        "id": "xhM6WHQqSajb",
        "colab": {
          "base_uri": "https://localhost:8080/",
          "height": 359
        },
        "outputId": "9994f72e-233b-43ed-8e55-49a36a5247ea"
      },
      "source": [
        "data_frame"
      ],
      "execution_count": 37,
      "outputs": [
        {
          "output_type": "execute_result",
          "data": {
            "text/html": [
              "<div>\n",
              "<style scoped>\n",
              "    .dataframe tbody tr th:only-of-type {\n",
              "        vertical-align: middle;\n",
              "    }\n",
              "\n",
              "    .dataframe tbody tr th {\n",
              "        vertical-align: top;\n",
              "    }\n",
              "\n",
              "    .dataframe thead th {\n",
              "        text-align: right;\n",
              "    }\n",
              "</style>\n",
              "<table border=\"1\" class=\"dataframe\">\n",
              "  <thead>\n",
              "    <tr style=\"text-align: right;\">\n",
              "      <th></th>\n",
              "      <th>Human ID</th>\n",
              "      <th>First Name</th>\n",
              "      <th>Last Name</th>\n",
              "      <th>Age</th>\n",
              "      <th>Major</th>\n",
              "      <th>Gender</th>\n",
              "      <th>Number of Cars</th>\n",
              "    </tr>\n",
              "  </thead>\n",
              "  <tbody>\n",
              "    <tr>\n",
              "      <th>0</th>\n",
              "      <td>42000500</td>\n",
              "      <td>Shayan</td>\n",
              "      <td>Riyaz</td>\n",
              "      <td>34.0</td>\n",
              "      <td>Dance</td>\n",
              "      <td>Male</td>\n",
              "      <td>NaN</td>\n",
              "    </tr>\n",
              "    <tr>\n",
              "      <th>1</th>\n",
              "      <td>560000001</td>\n",
              "      <td>Amy</td>\n",
              "      <td>Cu</td>\n",
              "      <td>21.0</td>\n",
              "      <td>Computer Science</td>\n",
              "      <td>Female</td>\n",
              "      <td>1.0</td>\n",
              "    </tr>\n",
              "    <tr>\n",
              "      <th>2</th>\n",
              "      <td>210004342</td>\n",
              "      <td>Daniel</td>\n",
              "      <td>Kim</td>\n",
              "      <td>24.0</td>\n",
              "      <td>Electrical Engineering</td>\n",
              "      <td>Male</td>\n",
              "      <td>2.0</td>\n",
              "    </tr>\n",
              "    <tr>\n",
              "      <th>3</th>\n",
              "      <td>9913124</td>\n",
              "      <td>Atul</td>\n",
              "      <td>Jayaram</td>\n",
              "      <td>20.0</td>\n",
              "      <td>Computer Science</td>\n",
              "      <td>Male</td>\n",
              "      <td>0.0</td>\n",
              "    </tr>\n",
              "    <tr>\n",
              "      <th>4</th>\n",
              "      <td>20141252</td>\n",
              "      <td>Narae</td>\n",
              "      <td>Lee</td>\n",
              "      <td>NaN</td>\n",
              "      <td>Computer Science</td>\n",
              "      <td>Female</td>\n",
              "      <td>1.0</td>\n",
              "    </tr>\n",
              "    <tr>\n",
              "      <th>5</th>\n",
              "      <td>9412414</td>\n",
              "      <td>Kyle</td>\n",
              "      <td>Begovich</td>\n",
              "      <td>24.0</td>\n",
              "      <td>Marketing</td>\n",
              "      <td>Male</td>\n",
              "      <td>3.0</td>\n",
              "    </tr>\n",
              "    <tr>\n",
              "      <th>6</th>\n",
              "      <td>661245</td>\n",
              "      <td>Shreya</td>\n",
              "      <td>Gupta</td>\n",
              "      <td>19.0</td>\n",
              "      <td>Business Studies</td>\n",
              "      <td>Male</td>\n",
              "      <td>2.0</td>\n",
              "    </tr>\n",
              "    <tr>\n",
              "      <th>7</th>\n",
              "      <td>11</td>\n",
              "      <td>Mohammad</td>\n",
              "      <td>Salah</td>\n",
              "      <td>27.0</td>\n",
              "      <td>Sportsman</td>\n",
              "      <td>None</td>\n",
              "      <td>NaN</td>\n",
              "    </tr>\n",
              "    <tr>\n",
              "      <th>8</th>\n",
              "      <td>1245124</td>\n",
              "      <td>Romaiza</td>\n",
              "      <td>Ibad</td>\n",
              "      <td>21.0</td>\n",
              "      <td>Political Science</td>\n",
              "      <td>Female</td>\n",
              "      <td>1.0</td>\n",
              "    </tr>\n",
              "    <tr>\n",
              "      <th>9</th>\n",
              "      <td>10</td>\n",
              "      <td>Lionel</td>\n",
              "      <td>Messi</td>\n",
              "      <td>35.0</td>\n",
              "      <td>Athletics</td>\n",
              "      <td>Male</td>\n",
              "      <td>6.0</td>\n",
              "    </tr>\n",
              "  </tbody>\n",
              "</table>\n",
              "</div>"
            ],
            "text/plain": [
              "    Human ID First Name  ...  Gender  Number of Cars\n",
              "0   42000500     Shayan  ...    Male             NaN\n",
              "1  560000001        Amy  ...  Female             1.0\n",
              "2  210004342     Daniel  ...    Male             2.0\n",
              "3    9913124       Atul  ...    Male             0.0\n",
              "4   20141252      Narae  ...  Female             1.0\n",
              "5    9412414       Kyle  ...    Male             3.0\n",
              "6     661245     Shreya  ...    Male             2.0\n",
              "7         11   Mohammad  ...    None             NaN\n",
              "8    1245124    Romaiza  ...  Female             1.0\n",
              "9         10     Lionel  ...    Male             6.0\n",
              "\n",
              "[10 rows x 7 columns]"
            ]
          },
          "metadata": {
            "tags": []
          },
          "execution_count": 37
        }
      ]
    },
    {
      "cell_type": "markdown",
      "metadata": {
        "id": "hZQ49NeZ6fAu"
      },
      "source": [
        "### Dropping a column"
      ]
    },
    {
      "cell_type": "code",
      "metadata": {
        "id": "7XyOQ7YOV4gn",
        "colab": {
          "base_uri": "https://localhost:8080/",
          "height": 359
        },
        "outputId": "8b5c9bf8-0f76-4ab6-b293-0e8fcf3cb12a"
      },
      "source": [
        "data_frame.drop(columns = ['Human ID'],inplace = True)\n",
        "data_frame"
      ],
      "execution_count": 38,
      "outputs": [
        {
          "output_type": "execute_result",
          "data": {
            "text/html": [
              "<div>\n",
              "<style scoped>\n",
              "    .dataframe tbody tr th:only-of-type {\n",
              "        vertical-align: middle;\n",
              "    }\n",
              "\n",
              "    .dataframe tbody tr th {\n",
              "        vertical-align: top;\n",
              "    }\n",
              "\n",
              "    .dataframe thead th {\n",
              "        text-align: right;\n",
              "    }\n",
              "</style>\n",
              "<table border=\"1\" class=\"dataframe\">\n",
              "  <thead>\n",
              "    <tr style=\"text-align: right;\">\n",
              "      <th></th>\n",
              "      <th>First Name</th>\n",
              "      <th>Last Name</th>\n",
              "      <th>Age</th>\n",
              "      <th>Major</th>\n",
              "      <th>Gender</th>\n",
              "      <th>Number of Cars</th>\n",
              "    </tr>\n",
              "  </thead>\n",
              "  <tbody>\n",
              "    <tr>\n",
              "      <th>0</th>\n",
              "      <td>Shayan</td>\n",
              "      <td>Riyaz</td>\n",
              "      <td>34.0</td>\n",
              "      <td>Dance</td>\n",
              "      <td>Male</td>\n",
              "      <td>NaN</td>\n",
              "    </tr>\n",
              "    <tr>\n",
              "      <th>1</th>\n",
              "      <td>Amy</td>\n",
              "      <td>Cu</td>\n",
              "      <td>21.0</td>\n",
              "      <td>Computer Science</td>\n",
              "      <td>Female</td>\n",
              "      <td>1.0</td>\n",
              "    </tr>\n",
              "    <tr>\n",
              "      <th>2</th>\n",
              "      <td>Daniel</td>\n",
              "      <td>Kim</td>\n",
              "      <td>24.0</td>\n",
              "      <td>Electrical Engineering</td>\n",
              "      <td>Male</td>\n",
              "      <td>2.0</td>\n",
              "    </tr>\n",
              "    <tr>\n",
              "      <th>3</th>\n",
              "      <td>Atul</td>\n",
              "      <td>Jayaram</td>\n",
              "      <td>20.0</td>\n",
              "      <td>Computer Science</td>\n",
              "      <td>Male</td>\n",
              "      <td>0.0</td>\n",
              "    </tr>\n",
              "    <tr>\n",
              "      <th>4</th>\n",
              "      <td>Narae</td>\n",
              "      <td>Lee</td>\n",
              "      <td>NaN</td>\n",
              "      <td>Computer Science</td>\n",
              "      <td>Female</td>\n",
              "      <td>1.0</td>\n",
              "    </tr>\n",
              "    <tr>\n",
              "      <th>5</th>\n",
              "      <td>Kyle</td>\n",
              "      <td>Begovich</td>\n",
              "      <td>24.0</td>\n",
              "      <td>Marketing</td>\n",
              "      <td>Male</td>\n",
              "      <td>3.0</td>\n",
              "    </tr>\n",
              "    <tr>\n",
              "      <th>6</th>\n",
              "      <td>Shreya</td>\n",
              "      <td>Gupta</td>\n",
              "      <td>19.0</td>\n",
              "      <td>Business Studies</td>\n",
              "      <td>Male</td>\n",
              "      <td>2.0</td>\n",
              "    </tr>\n",
              "    <tr>\n",
              "      <th>7</th>\n",
              "      <td>Mohammad</td>\n",
              "      <td>Salah</td>\n",
              "      <td>27.0</td>\n",
              "      <td>Sportsman</td>\n",
              "      <td>None</td>\n",
              "      <td>NaN</td>\n",
              "    </tr>\n",
              "    <tr>\n",
              "      <th>8</th>\n",
              "      <td>Romaiza</td>\n",
              "      <td>Ibad</td>\n",
              "      <td>21.0</td>\n",
              "      <td>Political Science</td>\n",
              "      <td>Female</td>\n",
              "      <td>1.0</td>\n",
              "    </tr>\n",
              "    <tr>\n",
              "      <th>9</th>\n",
              "      <td>Lionel</td>\n",
              "      <td>Messi</td>\n",
              "      <td>35.0</td>\n",
              "      <td>Athletics</td>\n",
              "      <td>Male</td>\n",
              "      <td>6.0</td>\n",
              "    </tr>\n",
              "  </tbody>\n",
              "</table>\n",
              "</div>"
            ],
            "text/plain": [
              "  First Name Last Name   Age                   Major  Gender  Number of Cars\n",
              "0     Shayan     Riyaz  34.0                   Dance    Male             NaN\n",
              "1        Amy        Cu  21.0        Computer Science  Female             1.0\n",
              "2     Daniel       Kim  24.0  Electrical Engineering    Male             2.0\n",
              "3       Atul   Jayaram  20.0        Computer Science    Male             0.0\n",
              "4      Narae       Lee   NaN        Computer Science  Female             1.0\n",
              "5       Kyle  Begovich  24.0               Marketing    Male             3.0\n",
              "6     Shreya     Gupta  19.0        Business Studies    Male             2.0\n",
              "7   Mohammad     Salah  27.0               Sportsman    None             NaN\n",
              "8    Romaiza      Ibad  21.0       Political Science  Female             1.0\n",
              "9     Lionel     Messi  35.0               Athletics    Male             6.0"
            ]
          },
          "metadata": {
            "tags": []
          },
          "execution_count": 38
        }
      ]
    },
    {
      "cell_type": "markdown",
      "metadata": {
        "id": "pKhYYYKe6koF"
      },
      "source": [
        "### Adding a new column"
      ]
    },
    {
      "cell_type": "code",
      "metadata": {
        "id": "eB8NRa9sH9zi"
      },
      "source": [
        "Joined_bit_project = ['2020-3-4','2020-4-5','2019-5-6','2019-12-27','2020-5-16','2020-4-20','2019-9-3','2020-10-11','2020-10-10','2018-5-1']\n",
        "\n",
        "data_frame['Joined_bit_project'] = Joined_bit_project\n"
      ],
      "execution_count": 39,
      "outputs": []
    },
    {
      "cell_type": "code",
      "metadata": {
        "id": "Y6wd0It6kRqH",
        "colab": {
          "base_uri": "https://localhost:8080/",
          "height": 359
        },
        "outputId": "6eeb391e-1702-4e85-e85b-9ba964f330eb"
      },
      "source": [
        "data_frame"
      ],
      "execution_count": 40,
      "outputs": [
        {
          "output_type": "execute_result",
          "data": {
            "text/html": [
              "<div>\n",
              "<style scoped>\n",
              "    .dataframe tbody tr th:only-of-type {\n",
              "        vertical-align: middle;\n",
              "    }\n",
              "\n",
              "    .dataframe tbody tr th {\n",
              "        vertical-align: top;\n",
              "    }\n",
              "\n",
              "    .dataframe thead th {\n",
              "        text-align: right;\n",
              "    }\n",
              "</style>\n",
              "<table border=\"1\" class=\"dataframe\">\n",
              "  <thead>\n",
              "    <tr style=\"text-align: right;\">\n",
              "      <th></th>\n",
              "      <th>First Name</th>\n",
              "      <th>Last Name</th>\n",
              "      <th>Age</th>\n",
              "      <th>Major</th>\n",
              "      <th>Gender</th>\n",
              "      <th>Number of Cars</th>\n",
              "      <th>Joined_bit_project</th>\n",
              "    </tr>\n",
              "  </thead>\n",
              "  <tbody>\n",
              "    <tr>\n",
              "      <th>0</th>\n",
              "      <td>Shayan</td>\n",
              "      <td>Riyaz</td>\n",
              "      <td>34.0</td>\n",
              "      <td>Dance</td>\n",
              "      <td>Male</td>\n",
              "      <td>NaN</td>\n",
              "      <td>2020-3-4</td>\n",
              "    </tr>\n",
              "    <tr>\n",
              "      <th>1</th>\n",
              "      <td>Amy</td>\n",
              "      <td>Cu</td>\n",
              "      <td>21.0</td>\n",
              "      <td>Computer Science</td>\n",
              "      <td>Female</td>\n",
              "      <td>1.0</td>\n",
              "      <td>2020-4-5</td>\n",
              "    </tr>\n",
              "    <tr>\n",
              "      <th>2</th>\n",
              "      <td>Daniel</td>\n",
              "      <td>Kim</td>\n",
              "      <td>24.0</td>\n",
              "      <td>Electrical Engineering</td>\n",
              "      <td>Male</td>\n",
              "      <td>2.0</td>\n",
              "      <td>2019-5-6</td>\n",
              "    </tr>\n",
              "    <tr>\n",
              "      <th>3</th>\n",
              "      <td>Atul</td>\n",
              "      <td>Jayaram</td>\n",
              "      <td>20.0</td>\n",
              "      <td>Computer Science</td>\n",
              "      <td>Male</td>\n",
              "      <td>0.0</td>\n",
              "      <td>2019-12-27</td>\n",
              "    </tr>\n",
              "    <tr>\n",
              "      <th>4</th>\n",
              "      <td>Narae</td>\n",
              "      <td>Lee</td>\n",
              "      <td>NaN</td>\n",
              "      <td>Computer Science</td>\n",
              "      <td>Female</td>\n",
              "      <td>1.0</td>\n",
              "      <td>2020-5-16</td>\n",
              "    </tr>\n",
              "    <tr>\n",
              "      <th>5</th>\n",
              "      <td>Kyle</td>\n",
              "      <td>Begovich</td>\n",
              "      <td>24.0</td>\n",
              "      <td>Marketing</td>\n",
              "      <td>Male</td>\n",
              "      <td>3.0</td>\n",
              "      <td>2020-4-20</td>\n",
              "    </tr>\n",
              "    <tr>\n",
              "      <th>6</th>\n",
              "      <td>Shreya</td>\n",
              "      <td>Gupta</td>\n",
              "      <td>19.0</td>\n",
              "      <td>Business Studies</td>\n",
              "      <td>Male</td>\n",
              "      <td>2.0</td>\n",
              "      <td>2019-9-3</td>\n",
              "    </tr>\n",
              "    <tr>\n",
              "      <th>7</th>\n",
              "      <td>Mohammad</td>\n",
              "      <td>Salah</td>\n",
              "      <td>27.0</td>\n",
              "      <td>Sportsman</td>\n",
              "      <td>None</td>\n",
              "      <td>NaN</td>\n",
              "      <td>2020-10-11</td>\n",
              "    </tr>\n",
              "    <tr>\n",
              "      <th>8</th>\n",
              "      <td>Romaiza</td>\n",
              "      <td>Ibad</td>\n",
              "      <td>21.0</td>\n",
              "      <td>Political Science</td>\n",
              "      <td>Female</td>\n",
              "      <td>1.0</td>\n",
              "      <td>2020-10-10</td>\n",
              "    </tr>\n",
              "    <tr>\n",
              "      <th>9</th>\n",
              "      <td>Lionel</td>\n",
              "      <td>Messi</td>\n",
              "      <td>35.0</td>\n",
              "      <td>Athletics</td>\n",
              "      <td>Male</td>\n",
              "      <td>6.0</td>\n",
              "      <td>2018-5-1</td>\n",
              "    </tr>\n",
              "  </tbody>\n",
              "</table>\n",
              "</div>"
            ],
            "text/plain": [
              "  First Name Last Name   Age  ...  Gender Number of Cars  Joined_bit_project\n",
              "0     Shayan     Riyaz  34.0  ...    Male            NaN            2020-3-4\n",
              "1        Amy        Cu  21.0  ...  Female            1.0            2020-4-5\n",
              "2     Daniel       Kim  24.0  ...    Male            2.0            2019-5-6\n",
              "3       Atul   Jayaram  20.0  ...    Male            0.0          2019-12-27\n",
              "4      Narae       Lee   NaN  ...  Female            1.0           2020-5-16\n",
              "5       Kyle  Begovich  24.0  ...    Male            3.0           2020-4-20\n",
              "6     Shreya     Gupta  19.0  ...    Male            2.0            2019-9-3\n",
              "7   Mohammad     Salah  27.0  ...    None            NaN          2020-10-11\n",
              "8    Romaiza      Ibad  21.0  ...  Female            1.0          2020-10-10\n",
              "9     Lionel     Messi  35.0  ...    Male            6.0            2018-5-1\n",
              "\n",
              "[10 rows x 7 columns]"
            ]
          },
          "metadata": {
            "tags": []
          },
          "execution_count": 40
        }
      ]
    },
    {
      "cell_type": "code",
      "metadata": {
        "id": "QpLCieyckbql",
        "colab": {
          "base_uri": "https://localhost:8080/"
        },
        "outputId": "42e3061d-0b8d-4c30-ee49-25bd7e923f80"
      },
      "source": [
        "data_frame.info()"
      ],
      "execution_count": 41,
      "outputs": [
        {
          "output_type": "stream",
          "text": [
            "<class 'pandas.core.frame.DataFrame'>\n",
            "RangeIndex: 10 entries, 0 to 9\n",
            "Data columns (total 7 columns):\n",
            " #   Column              Non-Null Count  Dtype  \n",
            "---  ------              --------------  -----  \n",
            " 0   First Name          10 non-null     object \n",
            " 1   Last Name           10 non-null     object \n",
            " 2   Age                 9 non-null      float64\n",
            " 3   Major               10 non-null     object \n",
            " 4   Gender              9 non-null      object \n",
            " 5   Number of Cars      8 non-null      float64\n",
            " 6   Joined_bit_project  10 non-null     object \n",
            "dtypes: float64(2), object(5)\n",
            "memory usage: 688.0+ bytes\n"
          ],
          "name": "stdout"
        }
      ]
    },
    {
      "cell_type": "markdown",
      "metadata": {
        "id": "x0fTteab6mdJ"
      },
      "source": [
        "### Converting a column to datetime"
      ]
    },
    {
      "cell_type": "code",
      "metadata": {
        "id": "LTTKRgQGMCfm",
        "colab": {
          "base_uri": "https://localhost:8080/"
        },
        "outputId": "acfa0545-e5ff-423d-b026-38a6264665b6"
      },
      "source": [
        "data_frame['Joined_bit_project'] = pd.to_datetime(data_frame['Joined_bit_project'])\n",
        "data_frame.info()"
      ],
      "execution_count": 42,
      "outputs": [
        {
          "output_type": "stream",
          "text": [
            "<class 'pandas.core.frame.DataFrame'>\n",
            "RangeIndex: 10 entries, 0 to 9\n",
            "Data columns (total 7 columns):\n",
            " #   Column              Non-Null Count  Dtype         \n",
            "---  ------              --------------  -----         \n",
            " 0   First Name          10 non-null     object        \n",
            " 1   Last Name           10 non-null     object        \n",
            " 2   Age                 9 non-null      float64       \n",
            " 3   Major               10 non-null     object        \n",
            " 4   Gender              9 non-null      object        \n",
            " 5   Number of Cars      8 non-null      float64       \n",
            " 6   Joined_bit_project  10 non-null     datetime64[ns]\n",
            "dtypes: datetime64[ns](1), float64(2), object(4)\n",
            "memory usage: 688.0+ bytes\n"
          ],
          "name": "stdout"
        }
      ]
    },
    {
      "cell_type": "code",
      "metadata": {
        "id": "Ywgwh6d8MVTw",
        "colab": {
          "base_uri": "https://localhost:8080/",
          "height": 359
        },
        "outputId": "9a3a177a-31fb-4df3-9bca-b13c101b8552"
      },
      "source": [
        "data_frame"
      ],
      "execution_count": 43,
      "outputs": [
        {
          "output_type": "execute_result",
          "data": {
            "text/html": [
              "<div>\n",
              "<style scoped>\n",
              "    .dataframe tbody tr th:only-of-type {\n",
              "        vertical-align: middle;\n",
              "    }\n",
              "\n",
              "    .dataframe tbody tr th {\n",
              "        vertical-align: top;\n",
              "    }\n",
              "\n",
              "    .dataframe thead th {\n",
              "        text-align: right;\n",
              "    }\n",
              "</style>\n",
              "<table border=\"1\" class=\"dataframe\">\n",
              "  <thead>\n",
              "    <tr style=\"text-align: right;\">\n",
              "      <th></th>\n",
              "      <th>First Name</th>\n",
              "      <th>Last Name</th>\n",
              "      <th>Age</th>\n",
              "      <th>Major</th>\n",
              "      <th>Gender</th>\n",
              "      <th>Number of Cars</th>\n",
              "      <th>Joined_bit_project</th>\n",
              "    </tr>\n",
              "  </thead>\n",
              "  <tbody>\n",
              "    <tr>\n",
              "      <th>0</th>\n",
              "      <td>Shayan</td>\n",
              "      <td>Riyaz</td>\n",
              "      <td>34.0</td>\n",
              "      <td>Dance</td>\n",
              "      <td>Male</td>\n",
              "      <td>NaN</td>\n",
              "      <td>2020-03-04</td>\n",
              "    </tr>\n",
              "    <tr>\n",
              "      <th>1</th>\n",
              "      <td>Amy</td>\n",
              "      <td>Cu</td>\n",
              "      <td>21.0</td>\n",
              "      <td>Computer Science</td>\n",
              "      <td>Female</td>\n",
              "      <td>1.0</td>\n",
              "      <td>2020-04-05</td>\n",
              "    </tr>\n",
              "    <tr>\n",
              "      <th>2</th>\n",
              "      <td>Daniel</td>\n",
              "      <td>Kim</td>\n",
              "      <td>24.0</td>\n",
              "      <td>Electrical Engineering</td>\n",
              "      <td>Male</td>\n",
              "      <td>2.0</td>\n",
              "      <td>2019-05-06</td>\n",
              "    </tr>\n",
              "    <tr>\n",
              "      <th>3</th>\n",
              "      <td>Atul</td>\n",
              "      <td>Jayaram</td>\n",
              "      <td>20.0</td>\n",
              "      <td>Computer Science</td>\n",
              "      <td>Male</td>\n",
              "      <td>0.0</td>\n",
              "      <td>2019-12-27</td>\n",
              "    </tr>\n",
              "    <tr>\n",
              "      <th>4</th>\n",
              "      <td>Narae</td>\n",
              "      <td>Lee</td>\n",
              "      <td>NaN</td>\n",
              "      <td>Computer Science</td>\n",
              "      <td>Female</td>\n",
              "      <td>1.0</td>\n",
              "      <td>2020-05-16</td>\n",
              "    </tr>\n",
              "    <tr>\n",
              "      <th>5</th>\n",
              "      <td>Kyle</td>\n",
              "      <td>Begovich</td>\n",
              "      <td>24.0</td>\n",
              "      <td>Marketing</td>\n",
              "      <td>Male</td>\n",
              "      <td>3.0</td>\n",
              "      <td>2020-04-20</td>\n",
              "    </tr>\n",
              "    <tr>\n",
              "      <th>6</th>\n",
              "      <td>Shreya</td>\n",
              "      <td>Gupta</td>\n",
              "      <td>19.0</td>\n",
              "      <td>Business Studies</td>\n",
              "      <td>Male</td>\n",
              "      <td>2.0</td>\n",
              "      <td>2019-09-03</td>\n",
              "    </tr>\n",
              "    <tr>\n",
              "      <th>7</th>\n",
              "      <td>Mohammad</td>\n",
              "      <td>Salah</td>\n",
              "      <td>27.0</td>\n",
              "      <td>Sportsman</td>\n",
              "      <td>None</td>\n",
              "      <td>NaN</td>\n",
              "      <td>2020-10-11</td>\n",
              "    </tr>\n",
              "    <tr>\n",
              "      <th>8</th>\n",
              "      <td>Romaiza</td>\n",
              "      <td>Ibad</td>\n",
              "      <td>21.0</td>\n",
              "      <td>Political Science</td>\n",
              "      <td>Female</td>\n",
              "      <td>1.0</td>\n",
              "      <td>2020-10-10</td>\n",
              "    </tr>\n",
              "    <tr>\n",
              "      <th>9</th>\n",
              "      <td>Lionel</td>\n",
              "      <td>Messi</td>\n",
              "      <td>35.0</td>\n",
              "      <td>Athletics</td>\n",
              "      <td>Male</td>\n",
              "      <td>6.0</td>\n",
              "      <td>2018-05-01</td>\n",
              "    </tr>\n",
              "  </tbody>\n",
              "</table>\n",
              "</div>"
            ],
            "text/plain": [
              "  First Name Last Name   Age  ...  Gender Number of Cars  Joined_bit_project\n",
              "0     Shayan     Riyaz  34.0  ...    Male            NaN          2020-03-04\n",
              "1        Amy        Cu  21.0  ...  Female            1.0          2020-04-05\n",
              "2     Daniel       Kim  24.0  ...    Male            2.0          2019-05-06\n",
              "3       Atul   Jayaram  20.0  ...    Male            0.0          2019-12-27\n",
              "4      Narae       Lee   NaN  ...  Female            1.0          2020-05-16\n",
              "5       Kyle  Begovich  24.0  ...    Male            3.0          2020-04-20\n",
              "6     Shreya     Gupta  19.0  ...    Male            2.0          2019-09-03\n",
              "7   Mohammad     Salah  27.0  ...    None            NaN          2020-10-11\n",
              "8    Romaiza      Ibad  21.0  ...  Female            1.0          2020-10-10\n",
              "9     Lionel     Messi  35.0  ...    Male            6.0          2018-05-01\n",
              "\n",
              "[10 rows x 7 columns]"
            ]
          },
          "metadata": {
            "tags": []
          },
          "execution_count": 43
        }
      ]
    },
    {
      "cell_type": "markdown",
      "metadata": {
        "id": "RtCBN9s06ryM"
      },
      "source": [
        "### Dropping Null Values"
      ]
    },
    {
      "cell_type": "code",
      "metadata": {
        "id": "66kkmHACJA7S",
        "colab": {
          "base_uri": "https://localhost:8080/",
          "height": 266
        },
        "outputId": "be765a89-bfad-4edd-cd84-d00f34f48382"
      },
      "source": [
        "data_frame.dropna(inplace = True)\n",
        "data_frame"
      ],
      "execution_count": 44,
      "outputs": [
        {
          "output_type": "execute_result",
          "data": {
            "text/html": [
              "<div>\n",
              "<style scoped>\n",
              "    .dataframe tbody tr th:only-of-type {\n",
              "        vertical-align: middle;\n",
              "    }\n",
              "\n",
              "    .dataframe tbody tr th {\n",
              "        vertical-align: top;\n",
              "    }\n",
              "\n",
              "    .dataframe thead th {\n",
              "        text-align: right;\n",
              "    }\n",
              "</style>\n",
              "<table border=\"1\" class=\"dataframe\">\n",
              "  <thead>\n",
              "    <tr style=\"text-align: right;\">\n",
              "      <th></th>\n",
              "      <th>First Name</th>\n",
              "      <th>Last Name</th>\n",
              "      <th>Age</th>\n",
              "      <th>Major</th>\n",
              "      <th>Gender</th>\n",
              "      <th>Number of Cars</th>\n",
              "      <th>Joined_bit_project</th>\n",
              "    </tr>\n",
              "  </thead>\n",
              "  <tbody>\n",
              "    <tr>\n",
              "      <th>1</th>\n",
              "      <td>Amy</td>\n",
              "      <td>Cu</td>\n",
              "      <td>21.0</td>\n",
              "      <td>Computer Science</td>\n",
              "      <td>Female</td>\n",
              "      <td>1.0</td>\n",
              "      <td>2020-04-05</td>\n",
              "    </tr>\n",
              "    <tr>\n",
              "      <th>2</th>\n",
              "      <td>Daniel</td>\n",
              "      <td>Kim</td>\n",
              "      <td>24.0</td>\n",
              "      <td>Electrical Engineering</td>\n",
              "      <td>Male</td>\n",
              "      <td>2.0</td>\n",
              "      <td>2019-05-06</td>\n",
              "    </tr>\n",
              "    <tr>\n",
              "      <th>3</th>\n",
              "      <td>Atul</td>\n",
              "      <td>Jayaram</td>\n",
              "      <td>20.0</td>\n",
              "      <td>Computer Science</td>\n",
              "      <td>Male</td>\n",
              "      <td>0.0</td>\n",
              "      <td>2019-12-27</td>\n",
              "    </tr>\n",
              "    <tr>\n",
              "      <th>5</th>\n",
              "      <td>Kyle</td>\n",
              "      <td>Begovich</td>\n",
              "      <td>24.0</td>\n",
              "      <td>Marketing</td>\n",
              "      <td>Male</td>\n",
              "      <td>3.0</td>\n",
              "      <td>2020-04-20</td>\n",
              "    </tr>\n",
              "    <tr>\n",
              "      <th>6</th>\n",
              "      <td>Shreya</td>\n",
              "      <td>Gupta</td>\n",
              "      <td>19.0</td>\n",
              "      <td>Business Studies</td>\n",
              "      <td>Male</td>\n",
              "      <td>2.0</td>\n",
              "      <td>2019-09-03</td>\n",
              "    </tr>\n",
              "    <tr>\n",
              "      <th>8</th>\n",
              "      <td>Romaiza</td>\n",
              "      <td>Ibad</td>\n",
              "      <td>21.0</td>\n",
              "      <td>Political Science</td>\n",
              "      <td>Female</td>\n",
              "      <td>1.0</td>\n",
              "      <td>2020-10-10</td>\n",
              "    </tr>\n",
              "    <tr>\n",
              "      <th>9</th>\n",
              "      <td>Lionel</td>\n",
              "      <td>Messi</td>\n",
              "      <td>35.0</td>\n",
              "      <td>Athletics</td>\n",
              "      <td>Male</td>\n",
              "      <td>6.0</td>\n",
              "      <td>2018-05-01</td>\n",
              "    </tr>\n",
              "  </tbody>\n",
              "</table>\n",
              "</div>"
            ],
            "text/plain": [
              "  First Name Last Name   Age  ...  Gender Number of Cars  Joined_bit_project\n",
              "1        Amy        Cu  21.0  ...  Female            1.0          2020-04-05\n",
              "2     Daniel       Kim  24.0  ...    Male            2.0          2019-05-06\n",
              "3       Atul   Jayaram  20.0  ...    Male            0.0          2019-12-27\n",
              "5       Kyle  Begovich  24.0  ...    Male            3.0          2020-04-20\n",
              "6     Shreya     Gupta  19.0  ...    Male            2.0          2019-09-03\n",
              "8    Romaiza      Ibad  21.0  ...  Female            1.0          2020-10-10\n",
              "9     Lionel     Messi  35.0  ...    Male            6.0          2018-05-01\n",
              "\n",
              "[7 rows x 7 columns]"
            ]
          },
          "metadata": {
            "tags": []
          },
          "execution_count": 44
        }
      ]
    },
    {
      "cell_type": "code",
      "metadata": {
        "id": "xDHE1XWnlpQD"
      },
      "source": [
        "data_frame.reset_index(inplace = True)"
      ],
      "execution_count": 45,
      "outputs": []
    },
    {
      "cell_type": "markdown",
      "metadata": {
        "id": "-wAPjE7D6t32"
      },
      "source": [
        "### Deleting a Column"
      ]
    },
    {
      "cell_type": "code",
      "metadata": {
        "id": "ezIaPtjnK37b"
      },
      "source": [
        "del data_frame['index']"
      ],
      "execution_count": null,
      "outputs": []
    },
    {
      "cell_type": "code",
      "metadata": {
        "id": "jFFFpQ9OlsbZ"
      },
      "source": [
        "data_frame"
      ],
      "execution_count": null,
      "outputs": []
    },
    {
      "cell_type": "markdown",
      "metadata": {
        "id": "oyZxoN-t6vxN"
      },
      "source": [
        "### Sorting a Column"
      ]
    },
    {
      "cell_type": "code",
      "metadata": {
        "id": "SSJqMpIwJNA5"
      },
      "source": [
        "data_frame.sort_values(by = 'Age',inplace = True)"
      ],
      "execution_count": 46,
      "outputs": []
    },
    {
      "cell_type": "code",
      "metadata": {
        "id": "LK8pgCCnl8iv",
        "colab": {
          "base_uri": "https://localhost:8080/",
          "height": 266
        },
        "outputId": "ea9f59c9-44ed-4f5f-f0ea-47395fdc87c8"
      },
      "source": [
        "data_frame"
      ],
      "execution_count": 47,
      "outputs": [
        {
          "output_type": "execute_result",
          "data": {
            "text/html": [
              "<div>\n",
              "<style scoped>\n",
              "    .dataframe tbody tr th:only-of-type {\n",
              "        vertical-align: middle;\n",
              "    }\n",
              "\n",
              "    .dataframe tbody tr th {\n",
              "        vertical-align: top;\n",
              "    }\n",
              "\n",
              "    .dataframe thead th {\n",
              "        text-align: right;\n",
              "    }\n",
              "</style>\n",
              "<table border=\"1\" class=\"dataframe\">\n",
              "  <thead>\n",
              "    <tr style=\"text-align: right;\">\n",
              "      <th></th>\n",
              "      <th>index</th>\n",
              "      <th>First Name</th>\n",
              "      <th>Last Name</th>\n",
              "      <th>Age</th>\n",
              "      <th>Major</th>\n",
              "      <th>Gender</th>\n",
              "      <th>Number of Cars</th>\n",
              "      <th>Joined_bit_project</th>\n",
              "    </tr>\n",
              "  </thead>\n",
              "  <tbody>\n",
              "    <tr>\n",
              "      <th>4</th>\n",
              "      <td>6</td>\n",
              "      <td>Shreya</td>\n",
              "      <td>Gupta</td>\n",
              "      <td>19.0</td>\n",
              "      <td>Business Studies</td>\n",
              "      <td>Male</td>\n",
              "      <td>2.0</td>\n",
              "      <td>2019-09-03</td>\n",
              "    </tr>\n",
              "    <tr>\n",
              "      <th>2</th>\n",
              "      <td>3</td>\n",
              "      <td>Atul</td>\n",
              "      <td>Jayaram</td>\n",
              "      <td>20.0</td>\n",
              "      <td>Computer Science</td>\n",
              "      <td>Male</td>\n",
              "      <td>0.0</td>\n",
              "      <td>2019-12-27</td>\n",
              "    </tr>\n",
              "    <tr>\n",
              "      <th>0</th>\n",
              "      <td>1</td>\n",
              "      <td>Amy</td>\n",
              "      <td>Cu</td>\n",
              "      <td>21.0</td>\n",
              "      <td>Computer Science</td>\n",
              "      <td>Female</td>\n",
              "      <td>1.0</td>\n",
              "      <td>2020-04-05</td>\n",
              "    </tr>\n",
              "    <tr>\n",
              "      <th>5</th>\n",
              "      <td>8</td>\n",
              "      <td>Romaiza</td>\n",
              "      <td>Ibad</td>\n",
              "      <td>21.0</td>\n",
              "      <td>Political Science</td>\n",
              "      <td>Female</td>\n",
              "      <td>1.0</td>\n",
              "      <td>2020-10-10</td>\n",
              "    </tr>\n",
              "    <tr>\n",
              "      <th>1</th>\n",
              "      <td>2</td>\n",
              "      <td>Daniel</td>\n",
              "      <td>Kim</td>\n",
              "      <td>24.0</td>\n",
              "      <td>Electrical Engineering</td>\n",
              "      <td>Male</td>\n",
              "      <td>2.0</td>\n",
              "      <td>2019-05-06</td>\n",
              "    </tr>\n",
              "    <tr>\n",
              "      <th>3</th>\n",
              "      <td>5</td>\n",
              "      <td>Kyle</td>\n",
              "      <td>Begovich</td>\n",
              "      <td>24.0</td>\n",
              "      <td>Marketing</td>\n",
              "      <td>Male</td>\n",
              "      <td>3.0</td>\n",
              "      <td>2020-04-20</td>\n",
              "    </tr>\n",
              "    <tr>\n",
              "      <th>6</th>\n",
              "      <td>9</td>\n",
              "      <td>Lionel</td>\n",
              "      <td>Messi</td>\n",
              "      <td>35.0</td>\n",
              "      <td>Athletics</td>\n",
              "      <td>Male</td>\n",
              "      <td>6.0</td>\n",
              "      <td>2018-05-01</td>\n",
              "    </tr>\n",
              "  </tbody>\n",
              "</table>\n",
              "</div>"
            ],
            "text/plain": [
              "   index First Name Last Name  ...  Gender Number of Cars Joined_bit_project\n",
              "4      6     Shreya     Gupta  ...    Male            2.0         2019-09-03\n",
              "2      3       Atul   Jayaram  ...    Male            0.0         2019-12-27\n",
              "0      1        Amy        Cu  ...  Female            1.0         2020-04-05\n",
              "5      8    Romaiza      Ibad  ...  Female            1.0         2020-10-10\n",
              "1      2     Daniel       Kim  ...    Male            2.0         2019-05-06\n",
              "3      5       Kyle  Begovich  ...    Male            3.0         2020-04-20\n",
              "6      9     Lionel     Messi  ...    Male            6.0         2018-05-01\n",
              "\n",
              "[7 rows x 8 columns]"
            ]
          },
          "metadata": {
            "tags": []
          },
          "execution_count": 47
        }
      ]
    },
    {
      "cell_type": "code",
      "metadata": {
        "id": "oqm2Om8nKmkD",
        "colab": {
          "base_uri": "https://localhost:8080/",
          "height": 297
        },
        "outputId": "9e36d04c-7af4-489f-83e5-01dacedb9156"
      },
      "source": [
        "data_frame.describe()"
      ],
      "execution_count": 48,
      "outputs": [
        {
          "output_type": "execute_result",
          "data": {
            "text/html": [
              "<div>\n",
              "<style scoped>\n",
              "    .dataframe tbody tr th:only-of-type {\n",
              "        vertical-align: middle;\n",
              "    }\n",
              "\n",
              "    .dataframe tbody tr th {\n",
              "        vertical-align: top;\n",
              "    }\n",
              "\n",
              "    .dataframe thead th {\n",
              "        text-align: right;\n",
              "    }\n",
              "</style>\n",
              "<table border=\"1\" class=\"dataframe\">\n",
              "  <thead>\n",
              "    <tr style=\"text-align: right;\">\n",
              "      <th></th>\n",
              "      <th>index</th>\n",
              "      <th>Age</th>\n",
              "      <th>Number of Cars</th>\n",
              "    </tr>\n",
              "  </thead>\n",
              "  <tbody>\n",
              "    <tr>\n",
              "      <th>count</th>\n",
              "      <td>7.000000</td>\n",
              "      <td>7.000000</td>\n",
              "      <td>7.000000</td>\n",
              "    </tr>\n",
              "    <tr>\n",
              "      <th>mean</th>\n",
              "      <td>4.857143</td>\n",
              "      <td>23.428571</td>\n",
              "      <td>2.142857</td>\n",
              "    </tr>\n",
              "    <tr>\n",
              "      <th>std</th>\n",
              "      <td>3.023716</td>\n",
              "      <td>5.442338</td>\n",
              "      <td>1.951800</td>\n",
              "    </tr>\n",
              "    <tr>\n",
              "      <th>min</th>\n",
              "      <td>1.000000</td>\n",
              "      <td>19.000000</td>\n",
              "      <td>0.000000</td>\n",
              "    </tr>\n",
              "    <tr>\n",
              "      <th>25%</th>\n",
              "      <td>2.500000</td>\n",
              "      <td>20.500000</td>\n",
              "      <td>1.000000</td>\n",
              "    </tr>\n",
              "    <tr>\n",
              "      <th>50%</th>\n",
              "      <td>5.000000</td>\n",
              "      <td>21.000000</td>\n",
              "      <td>2.000000</td>\n",
              "    </tr>\n",
              "    <tr>\n",
              "      <th>75%</th>\n",
              "      <td>7.000000</td>\n",
              "      <td>24.000000</td>\n",
              "      <td>2.500000</td>\n",
              "    </tr>\n",
              "    <tr>\n",
              "      <th>max</th>\n",
              "      <td>9.000000</td>\n",
              "      <td>35.000000</td>\n",
              "      <td>6.000000</td>\n",
              "    </tr>\n",
              "  </tbody>\n",
              "</table>\n",
              "</div>"
            ],
            "text/plain": [
              "          index        Age  Number of Cars\n",
              "count  7.000000   7.000000        7.000000\n",
              "mean   4.857143  23.428571        2.142857\n",
              "std    3.023716   5.442338        1.951800\n",
              "min    1.000000  19.000000        0.000000\n",
              "25%    2.500000  20.500000        1.000000\n",
              "50%    5.000000  21.000000        2.000000\n",
              "75%    7.000000  24.000000        2.500000\n",
              "max    9.000000  35.000000        6.000000"
            ]
          },
          "metadata": {
            "tags": []
          },
          "execution_count": 48
        }
      ]
    },
    {
      "cell_type": "markdown",
      "metadata": {
        "id": "T1dsaCcCDa_X"
      },
      "source": [
        "# <h1 align=\"center\">Matplotlib and Pandas Visualization</h1>"
      ]
    },
    {
      "cell_type": "markdown",
      "metadata": {
        "id": "mC3M2a0r7Goh"
      },
      "source": [
        "<p align=\"center\">\n",
        "<img src=\"https://github.com/bitprj/DigitalHistory/blob/master/Week4-Introduction-to-data-visualization-and-graphs-with-matplotlib/assets/matplotlib-logo.png?raw=true\" width=400>\n",
        "<img src=\"https://github.com/bitprj/DigitalHistory/blob/master/Week3-Introduction-to-Open-Data-Importing-Data-and-Basic-Data-Wrangling/assets/icons/pandas.png?raw=true\" width=200></p>\n",
        "\n",
        "\n",
        "\n",
        "\n"
      ]
    },
    {
      "cell_type": "markdown",
      "metadata": {
        "id": "wtWZQl07HgEg"
      },
      "source": [
        "## What is Matplotlib\n",
        "\n",
        "The ```matplotlib``` library is a Python 2-Dimensional plotting (x and y) library which allows us to generate:\n",
        "- Line plots\n",
        "- Scatter plots\n",
        "- Histograms\n",
        "- Barplots\n",
        "\n",
        "In most plotting cases we use the ```pyplot``` library in ```matplotlib```\n",
        "\n",
        "## How does Pandas work for visualizations?\n",
        "Once advantage of Python as a language is that it can inherit features of different libraries. In the case for Pandas, it inherits features from matplotlib. Although matplotlib is useful throughout many areas (research,business, engineering), in our use cases pandas works very well, because it allows us to plot a dataframe directly.\n",
        "\n",
        "In the exercise below, we'll be looking at a simple way of adding important features to plots of our dataFrame.\n",
        "\n",
        "Our dataset for this exercise will be the stock price for 9 listed companies from (1990 to 2012).\n",
        "\n",
        "Although I am showing the pandas version, in the comments ```#``` I have shown the ```matplotlib.pyplot``` implementation."
      ]
    },
    {
      "cell_type": "markdown",
      "metadata": {
        "id": "yPPoG3X55EbM"
      },
      "source": [
        "### Load Libraries"
      ]
    },
    {
      "cell_type": "code",
      "metadata": {
        "id": "8apwZ_TJ7LQo"
      },
      "source": [
        "import pandas as pd\n",
        "import matplotlib.pyplot as plt"
      ],
      "execution_count": 49,
      "outputs": []
    },
    {
      "cell_type": "markdown",
      "metadata": {
        "id": "skgFVR8h5GIj"
      },
      "source": [
        "### Load DataFrame"
      ]
    },
    {
      "cell_type": "code",
      "metadata": {
        "id": "0VuiMnIfKwXp",
        "colab": {
          "base_uri": "https://localhost:8080/",
          "height": 419
        },
        "outputId": "70e56585-060b-42c5-91ce-8bd50df06178"
      },
      "source": [
        "# url = 'https://tinyurl.com/y64sugg4' # line 1\n",
        "url = 'https://raw.githubusercontent.com/bitprj/BitUniversity/Amy_SDSU/Week4-Introduction-to-data-visualization-and-graphs-with-matplotlib/data/stock_px/stock_px.csv' \n",
        "df = pd.read_csv(url,index_col = 0,parse_dates = True ) # line 2\n",
        "df"
      ],
      "execution_count": 51,
      "outputs": [
        {
          "output_type": "execute_result",
          "data": {
            "text/html": [
              "<div>\n",
              "<style scoped>\n",
              "    .dataframe tbody tr th:only-of-type {\n",
              "        vertical-align: middle;\n",
              "    }\n",
              "\n",
              "    .dataframe tbody tr th {\n",
              "        vertical-align: top;\n",
              "    }\n",
              "\n",
              "    .dataframe thead th {\n",
              "        text-align: right;\n",
              "    }\n",
              "</style>\n",
              "<table border=\"1\" class=\"dataframe\">\n",
              "  <thead>\n",
              "    <tr style=\"text-align: right;\">\n",
              "      <th></th>\n",
              "      <th>AA</th>\n",
              "      <th>AAPL</th>\n",
              "      <th>GE</th>\n",
              "      <th>IBM</th>\n",
              "      <th>JNJ</th>\n",
              "      <th>MSFT</th>\n",
              "      <th>PEP</th>\n",
              "      <th>SPX</th>\n",
              "      <th>XOM</th>\n",
              "    </tr>\n",
              "  </thead>\n",
              "  <tbody>\n",
              "    <tr>\n",
              "      <th>1990-02-01</th>\n",
              "      <td>4.98</td>\n",
              "      <td>7.86</td>\n",
              "      <td>2.87</td>\n",
              "      <td>16.79</td>\n",
              "      <td>4.27</td>\n",
              "      <td>0.51</td>\n",
              "      <td>6.04</td>\n",
              "      <td>328.79</td>\n",
              "      <td>6.12</td>\n",
              "    </tr>\n",
              "    <tr>\n",
              "      <th>1990-02-02</th>\n",
              "      <td>5.04</td>\n",
              "      <td>8.00</td>\n",
              "      <td>2.87</td>\n",
              "      <td>16.89</td>\n",
              "      <td>4.37</td>\n",
              "      <td>0.51</td>\n",
              "      <td>6.09</td>\n",
              "      <td>330.92</td>\n",
              "      <td>6.24</td>\n",
              "    </tr>\n",
              "    <tr>\n",
              "      <th>1990-02-05</th>\n",
              "      <td>5.07</td>\n",
              "      <td>8.18</td>\n",
              "      <td>2.87</td>\n",
              "      <td>17.32</td>\n",
              "      <td>4.34</td>\n",
              "      <td>0.51</td>\n",
              "      <td>6.05</td>\n",
              "      <td>331.85</td>\n",
              "      <td>6.25</td>\n",
              "    </tr>\n",
              "    <tr>\n",
              "      <th>1990-02-06</th>\n",
              "      <td>5.01</td>\n",
              "      <td>8.12</td>\n",
              "      <td>2.88</td>\n",
              "      <td>17.56</td>\n",
              "      <td>4.32</td>\n",
              "      <td>0.51</td>\n",
              "      <td>6.15</td>\n",
              "      <td>329.66</td>\n",
              "      <td>6.23</td>\n",
              "    </tr>\n",
              "    <tr>\n",
              "      <th>1990-02-07</th>\n",
              "      <td>5.04</td>\n",
              "      <td>7.77</td>\n",
              "      <td>2.91</td>\n",
              "      <td>17.93</td>\n",
              "      <td>4.38</td>\n",
              "      <td>0.51</td>\n",
              "      <td>6.17</td>\n",
              "      <td>333.75</td>\n",
              "      <td>6.33</td>\n",
              "    </tr>\n",
              "    <tr>\n",
              "      <th>...</th>\n",
              "      <td>...</td>\n",
              "      <td>...</td>\n",
              "      <td>...</td>\n",
              "      <td>...</td>\n",
              "      <td>...</td>\n",
              "      <td>...</td>\n",
              "      <td>...</td>\n",
              "      <td>...</td>\n",
              "      <td>...</td>\n",
              "    </tr>\n",
              "    <tr>\n",
              "      <th>2011-10-10</th>\n",
              "      <td>10.09</td>\n",
              "      <td>388.81</td>\n",
              "      <td>16.14</td>\n",
              "      <td>186.62</td>\n",
              "      <td>64.43</td>\n",
              "      <td>26.94</td>\n",
              "      <td>61.87</td>\n",
              "      <td>1194.89</td>\n",
              "      <td>76.28</td>\n",
              "    </tr>\n",
              "    <tr>\n",
              "      <th>2011-10-11</th>\n",
              "      <td>10.30</td>\n",
              "      <td>400.29</td>\n",
              "      <td>16.14</td>\n",
              "      <td>185.00</td>\n",
              "      <td>63.96</td>\n",
              "      <td>27.00</td>\n",
              "      <td>60.95</td>\n",
              "      <td>1195.54</td>\n",
              "      <td>76.27</td>\n",
              "    </tr>\n",
              "    <tr>\n",
              "      <th>2011-10-12</th>\n",
              "      <td>10.05</td>\n",
              "      <td>402.19</td>\n",
              "      <td>16.40</td>\n",
              "      <td>186.12</td>\n",
              "      <td>64.33</td>\n",
              "      <td>26.96</td>\n",
              "      <td>62.70</td>\n",
              "      <td>1207.25</td>\n",
              "      <td>77.16</td>\n",
              "    </tr>\n",
              "    <tr>\n",
              "      <th>2011-10-13</th>\n",
              "      <td>10.10</td>\n",
              "      <td>408.43</td>\n",
              "      <td>16.22</td>\n",
              "      <td>186.82</td>\n",
              "      <td>64.23</td>\n",
              "      <td>27.18</td>\n",
              "      <td>62.36</td>\n",
              "      <td>1203.66</td>\n",
              "      <td>76.37</td>\n",
              "    </tr>\n",
              "    <tr>\n",
              "      <th>2011-10-14</th>\n",
              "      <td>10.26</td>\n",
              "      <td>422.00</td>\n",
              "      <td>16.60</td>\n",
              "      <td>190.53</td>\n",
              "      <td>64.72</td>\n",
              "      <td>27.27</td>\n",
              "      <td>62.24</td>\n",
              "      <td>1224.58</td>\n",
              "      <td>78.11</td>\n",
              "    </tr>\n",
              "  </tbody>\n",
              "</table>\n",
              "<p>5472 rows × 9 columns</p>\n",
              "</div>"
            ],
            "text/plain": [
              "               AA    AAPL     GE     IBM    JNJ   MSFT    PEP      SPX    XOM\n",
              "1990-02-01   4.98    7.86   2.87   16.79   4.27   0.51   6.04   328.79   6.12\n",
              "1990-02-02   5.04    8.00   2.87   16.89   4.37   0.51   6.09   330.92   6.24\n",
              "1990-02-05   5.07    8.18   2.87   17.32   4.34   0.51   6.05   331.85   6.25\n",
              "1990-02-06   5.01    8.12   2.88   17.56   4.32   0.51   6.15   329.66   6.23\n",
              "1990-02-07   5.04    7.77   2.91   17.93   4.38   0.51   6.17   333.75   6.33\n",
              "...           ...     ...    ...     ...    ...    ...    ...      ...    ...\n",
              "2011-10-10  10.09  388.81  16.14  186.62  64.43  26.94  61.87  1194.89  76.28\n",
              "2011-10-11  10.30  400.29  16.14  185.00  63.96  27.00  60.95  1195.54  76.27\n",
              "2011-10-12  10.05  402.19  16.40  186.12  64.33  26.96  62.70  1207.25  77.16\n",
              "2011-10-13  10.10  408.43  16.22  186.82  64.23  27.18  62.36  1203.66  76.37\n",
              "2011-10-14  10.26  422.00  16.60  190.53  64.72  27.27  62.24  1224.58  78.11\n",
              "\n",
              "[5472 rows x 9 columns]"
            ]
          },
          "metadata": {
            "tags": []
          },
          "execution_count": 51
        }
      ]
    },
    {
      "cell_type": "markdown",
      "metadata": {
        "id": "LWPYIg454Bq0"
      },
      "source": [
        "In **line 1**, we are saving the string url of the location of our dataset as the variable ```url```.\n",
        "\n",
        "In **line2**, we are using the pandas ```read_csv```and adding the url variable inside as a parameter. we have also added two more paramters ```index_col = 0``` which indicates that the first column (in python counting starts from 0) is our index. Since I already knew that the index column is a date column I added ```parse_dates = True```.  \n",
        "\n",
        "\n",
        "\n"
      ]
    },
    {
      "cell_type": "markdown",
      "metadata": {
        "id": "2z5lJAPi5Q-b"
      },
      "source": [
        "### Plot 1 Column ```AA```"
      ]
    },
    {
      "cell_type": "code",
      "metadata": {
        "id": "ofSwvr69PbzG"
      },
      "source": [
        "df.plot(y ='AA')\n",
        "\n",
        "\n",
        "\n",
        "# plt.plot(df['AA'])\n",
        "# plt.legend(['AA])\n",
        "# plt.show()"
      ],
      "execution_count": null,
      "outputs": []
    },
    {
      "cell_type": "markdown",
      "metadata": {
        "id": "GMlmb58J5V4X"
      },
      "source": [
        "Above I haven't declared an ```x``` axis since it is already assume to be the index (in this case date).\n"
      ]
    },
    {
      "cell_type": "markdown",
      "metadata": {
        "id": "yyI-aQKa5j3p"
      },
      "source": [
        "### Plot 2 Columns [```AA```,```MSFT```]"
      ]
    },
    {
      "cell_type": "code",
      "metadata": {
        "id": "vCVh25TSPsgQ"
      },
      "source": [
        "df.plot(y= ['AA','MSFT'])\n",
        "\n",
        "# plt.plot(df['AA'])\n",
        "# plt.plot(df['MSFT'])\n",
        "# plt.legend(['AA','MSFT'])\n",
        "# plt.show()"
      ],
      "execution_count": null,
      "outputs": []
    },
    {
      "cell_type": "markdown",
      "metadata": {
        "id": "KXcxoSZ6Epe9"
      },
      "source": [
        "### Adding Labels"
      ]
    },
    {
      "cell_type": "code",
      "metadata": {
        "id": "1NeX2MtlPzZ0"
      },
      "source": [
        "df.plot(y= ['AA','MSFT'],\n",
        "        xlabel = 'Date from 1990 - 2012',\n",
        "        ylabel = 'Stock Market Price')\n",
        "\n",
        "\n",
        "\n",
        "# plt.plot(df['AA'])\n",
        "# plt.plot(df['MSFT'])\n",
        "# plt.xlabel('Date from 1990 - 2012')\n",
        "# plt.ylabel('Stock Market Price')\n",
        "# plt.legend(['AA','MSFT'])\n",
        "# plt.show()"
      ],
      "execution_count": null,
      "outputs": []
    },
    {
      "cell_type": "markdown",
      "metadata": {
        "id": "VDH4-7OAErbo"
      },
      "source": [
        "### Adding a Title"
      ]
    },
    {
      "cell_type": "code",
      "metadata": {
        "id": "4l6qKMxSR4jl"
      },
      "source": [
        "df.plot(y= ['AA','MSFT'],\n",
        "        xlabel = 'Date from 1990 - 2012',\n",
        "        ylabel = 'Stock Market Price',\n",
        "        title = 'Stock Market Index for AA and MSFT')\n",
        "\n",
        "# plt.plot(df['AA'])\n",
        "# plt.plot(df['MSFT'])\n",
        "# plt.xlabel('Date from 1990 - 2012')\n",
        "# plt.ylabel('Stock Market Price')\n",
        "# plt.title('Stock Market Index for AA and MSFT')\n",
        "# plt.legend(['AA','MSFT'])\n",
        "# plt.show()"
      ],
      "execution_count": null,
      "outputs": []
    },
    {
      "cell_type": "markdown",
      "metadata": {
        "id": "muKdbboLEtqb"
      },
      "source": [
        "### Using alpha to make the plots more transparent"
      ]
    },
    {
      "cell_type": "code",
      "metadata": {
        "id": "MQgRAwhARyNb"
      },
      "source": [
        "df.plot(y= ['AA','MSFT'],\n",
        "        xlabel = 'Date from 1990 - 2012',\n",
        "        ylabel = 'Stock Market Price',\n",
        "        title = 'Stock Market Index for AA and MSFT',\n",
        "        alpha = 0.8)\n",
        "\n",
        "# plt.plot(df['AA'],alpha = 0.8)\n",
        "# plt.plot(df['MSFT'],alpha =0.8)\n",
        "# plt.xlabel('Date from 1990 - 2012')\n",
        "# plt.ylabel('Stock Market Price')\n",
        "# plt.title('Stock Market Index for AA and MSFT')\n",
        "# plt.legend(['AA','MSFT'])\n",
        "# plt.show()"
      ],
      "execution_count": null,
      "outputs": []
    },
    {
      "cell_type": "markdown",
      "metadata": {
        "id": "MNVCsVPXE1LJ"
      },
      "source": [
        "### Changing the size of the figure"
      ]
    },
    {
      "cell_type": "code",
      "metadata": {
        "id": "mEjI-2UNSEXm"
      },
      "source": [
        "df.plot(y= ['AA','MSFT'],\n",
        "        xlabel = 'Date from 1990 - 2012',\n",
        "        ylabel = 'Stock Market Price',\n",
        "        title = 'Stock Market Index for AA and MSFT',\n",
        "        alpha = 0.8,\n",
        "        figsize = (10,7))\n",
        "\n",
        "\n",
        "# fig = plt.figure(figsize=(10,7))\n",
        "# plt.plot(df['AA'],alpha = 0.8)\n",
        "# plt.plot(df['MSFT'],alpha =0.8)\n",
        "# plt.xlabel('Date from 1990 - 2012')\n",
        "# plt.ylabel('Stock Market Price')\n",
        "# plt.title('Stock Market Index for AA and MSFT')\n",
        "# plt.legend(['AA','MSFT'])\n",
        "# plt.show()"
      ],
      "execution_count": null,
      "outputs": []
    },
    {
      "cell_type": "markdown",
      "metadata": {
        "id": "N6AiyUbgE8pl"
      },
      "source": [
        "### Changing Colors and Adding markers"
      ]
    },
    {
      "cell_type": "code",
      "metadata": {
        "id": "2CRbyKdcTkSO"
      },
      "source": [
        "df.plot(y= ['AA','MSFT'],\n",
        "        xlabel = 'Date from 1990 - 2012',\n",
        "        ylabel = 'Stock Market Price',\n",
        "        title = 'Stock Market Index for AA and MSFT',\n",
        "        alpha = 0.8,\n",
        "        figsize = (20,10),\n",
        "        style=['ro','bx'])\n",
        "\n",
        "\n",
        "# fig = plt.figure(figsize=(10,7))\n",
        "# plt.plot(df['AA'],'ro',alpha = 0.8)\n",
        "# plt.plot(df['MSFT'],'bx',alpha =0.8)\n",
        "# plt.xlabel('Date from 1990 - 2012')\n",
        "# plt.ylabel('Stock Market Price')\n",
        "# plt.title('Stock Market Index for AA and MSFT')\n",
        "# plt.legend(['AA','MSFT'])\n",
        "# plt.show()\n",
        "\n"
      ],
      "execution_count": null,
      "outputs": []
    },
    {
      "cell_type": "markdown",
      "metadata": {
        "id": "l9P36ertG_05"
      },
      "source": [
        "### Limiting our x-axis"
      ]
    },
    {
      "cell_type": "code",
      "metadata": {
        "id": "SlWl9RhOFtRh"
      },
      "source": [
        "import datetime"
      ],
      "execution_count": null,
      "outputs": []
    },
    {
      "cell_type": "code",
      "metadata": {
        "id": "mb_mWukWSrkU"
      },
      "source": [
        "df.plot(y= ['AA','MSFT'],\n",
        "        xlabel = 'Date from 1990 - 2012',\n",
        "        ylabel = 'Stock Market Price',\n",
        "        title = 'Stock Market Index for AA and MSFT',\n",
        "        alpha = 0.8,\n",
        "        figsize = (20,10),\n",
        "        style=['ro','bx'],\n",
        "        xlim = (datetime.date(2006,1,1),datetime.date(2010,1,1)))\n",
        "\n",
        "# fig = plt.figure(figsize=(10,7))\n",
        "# plt.plot(df['AA'],'ro',alpha = 0.8)\n",
        "# plt.plot(df['MSFT'],'bx',alpha =0.8)\n",
        "# plt.xlabel('Date from 1990 - 2012')\n",
        "# plt.ylabel('Stock Market Price')\n",
        "# plt.title('Stock Market Index for AA and MSFT')\n",
        "# plt.legend(['AA','MSFT'])\n",
        "# plt.xlim(datetime.date(2006,1,1),datetime.date(2010,1,1))\n",
        "# plt.show()"
      ],
      "execution_count": null,
      "outputs": []
    },
    {
      "cell_type": "markdown",
      "metadata": {
        "id": "mUjgGMCZHFQ9"
      },
      "source": [
        "### Plotting Histograms"
      ]
    },
    {
      "cell_type": "code",
      "metadata": {
        "id": "DrFEgxR-VClE"
      },
      "source": [
        "df.hist('IBM',bins = 20)\n",
        "\n",
        "# plt.hist(df['IBM'],bins=30)\n",
        "# plt.show()"
      ],
      "execution_count": null,
      "outputs": []
    },
    {
      "cell_type": "markdown",
      "metadata": {
        "id": "r5d2Ri6TdD8Q"
      },
      "source": [
        "<p align=\"center\">\n",
        "<img src=\"https://i.pinimg.com/originals/89/d9/e0/89d9e0f67c361865fe9746c3c3de6b8a.gif\" width=\"450\">\n",
        "</p>"
      ]
    },
    {
      "cell_type": "markdown",
      "metadata": {
        "id": "tmhspF1QX5EK"
      },
      "source": [
        "# <div align=\"center\">Analyzing the 16th Century Transatlantic Slave voyages</div>"
      ]
    },
    {
      "cell_type": "markdown",
      "metadata": {
        "id": "9LCJIxjjgg_Y"
      },
      "source": [
        "<p align=\"center\">\n",
        "<img src=\"https://scx2.b-cdn.net/gfx/news/hires/2017/590c5b1f40cbd.gif\" width=\"800\">\n",
        "</p>"
      ]
    },
    {
      "cell_type": "markdown",
      "metadata": {
        "id": "lxcVzqV1gGmC"
      },
      "source": [
        "## <h2 align=\"center\">Loading and modifying the dataset</h2>"
      ]
    },
    {
      "cell_type": "code",
      "metadata": {
        "id": "Sa7rpsVXX6Zi"
      },
      "source": [
        "import matplotlib.pyplot as plt\n",
        "import pandas as pd\n"
      ],
      "execution_count": null,
      "outputs": []
    },
    {
      "cell_type": "code",
      "metadata": {
        "id": "PFWcFjhCYXXp"
      },
      "source": [
        "url = 'https://raw.githubusercontent.com/bitprj/DigitalHistory/master/Week5-Lab-Visualizing-the-Translatlantic-Slave-Trade/data/trans-atlantic-slave-trade/trans-atlantic-slave-trade.csv'\n",
        "\n",
        "trans_atlc_trade = pd.read_csv(url)"
      ],
      "execution_count": null,
      "outputs": []
    },
    {
      "cell_type": "code",
      "metadata": {
        "id": "nE_bXB6-Ybn1"
      },
      "source": [
        "trans_atlc_trade"
      ],
      "execution_count": null,
      "outputs": []
    },
    {
      "cell_type": "markdown",
      "metadata": {
        "id": "AeidaHn6Hldo"
      },
      "source": [
        "### Important Facts About the Dataset"
      ]
    },
    {
      "cell_type": "code",
      "metadata": {
        "id": "lKl32c6JHldo"
      },
      "source": [
        "Unaccounted_trips = trans_atlc_trade['Slaves arrived at 1st port'].isna().sum()\n",
        "print(f'The total number of unaccounted trips is:  {Unaccounted_trips}')\n"
      ],
      "execution_count": null,
      "outputs": []
    },
    {
      "cell_type": "code",
      "metadata": {
        "id": "v_Gai5XEHlds",
        "scrolled": true
      },
      "source": [
        "number_of_slaves_accounted = trans_atlc_trade['Slaves arrived at 1st port'].sum()\n",
        "print(f'The total number of slaves accounted for are: {number_of_slaves_accounted}')"
      ],
      "execution_count": null,
      "outputs": []
    },
    {
      "cell_type": "markdown",
      "metadata": {
        "id": "bYuDgHKIHldv"
      },
      "source": [
        "Historical Estimates suggest that the total number of slave traded are estimated to be ~12.5 Million. This means that according to this dataset:\n",
        "- Around ```7436701``` slaves are not accounted for. *(12500000 - 5063299)*\n",
        "\n"
      ]
    },
    {
      "cell_type": "code",
      "metadata": {
        "id": "Zq81-0i4a5eg"
      },
      "source": [
        "num_of_unaccounted_slaves = 12_500_000 - number_of_slaves_accounted\n",
        "print(num_of_unaccounted_slaves)"
      ],
      "execution_count": null,
      "outputs": []
    },
    {
      "cell_type": "markdown",
      "metadata": {
        "id": "heW7wau-Hldv"
      },
      "source": [
        "### Changing column names\n",
        "\n",
        "\n",
        "\n",
        "\n"
      ]
    },
    {
      "cell_type": "code",
      "metadata": {
        "id": "5zBjzAMXbbQZ"
      },
      "source": [
        "#print column names\n",
        "trans_atlc_trade.columns"
      ],
      "execution_count": null,
      "outputs": []
    },
    {
      "cell_type": "markdown",
      "metadata": {
        "id": "8aUwTAwbbnis"
      },
      "source": [
        "Next we create a **python** dictionary where will write the names of the new columns. If you see below, we have kept the keys as names of the original columns. Lets look at why\n",
        "\n"
      ]
    },
    {
      "cell_type": "code",
      "metadata": {
        "id": "YjN_56FLcOx-"
      },
      "source": [
        "new_col_names ={\"Voyage ID\": 'voyage_id',\n",
        "                \"Vessel name\": 'vessel_name',\n",
        "                \"Voyage itinerary imputed port where began (ptdepimp) place\": 'voyage_started',\n",
        "                \"Voyage itinerary imputed principal place of slave purchase (mjbyptimp) \": 'voyage_pit_stop',\n",
        "                \"Voyage itinerary imputed principal port of slave disembarkation (mjslptimp) place\": 'end_port',\n",
        "                \"Year of arrival at port of disembarkation\":'year_of_arrival',\n",
        "                \"Slaves arrived at 1st port\":'slaves_onboard',\n",
        "                \"Captain's name\" : 'captain_names'\n",
        "            }"
      ],
      "execution_count": null,
      "outputs": []
    },
    {
      "cell_type": "code",
      "metadata": {
        "id": "tk5TosaabiYe"
      },
      "source": [
        "trans_atlc_trade = trans_atlc_trade.rename(columns=new_col_names)\n",
        "\n",
        "trans_atlc_trade"
      ],
      "execution_count": null,
      "outputs": []
    },
    {
      "cell_type": "markdown",
      "metadata": {
        "id": "08LYIpGyHleI"
      },
      "source": [
        "### Moving Column Positions - ```trans_atlc_trade.reindex()```"
      ]
    },
    {
      "cell_type": "code",
      "metadata": {
        "id": "B0p8g8M6HleJ"
      },
      "source": [
        "column_names = ['voyage_id',\"year_of_arrival\",\"vessel_name\", \"voyage_started\",\"voyage_pit_stop\", \"end_port\",\"slaves_onboard\"]\n",
        "\n",
        "trans_atlc_trade = trans_atlc_trade.reindex(columns=column_names)\n",
        "trans_atlc_trade"
      ],
      "execution_count": null,
      "outputs": []
    },
    {
      "cell_type": "markdown",
      "metadata": {
        "id": "MfhTG28pHleN"
      },
      "source": [
        "**Questions**\n",
        "\n",
        "**Is Voyage ID a good index and do we need it as a column?**\n",
        "\n",
        "No, But we need an index.\n",
        "\n",
        "**Can 'year_of_arrival' be an Index?**\n",
        "\n",
        "No, because there are repeating dates in the charts, there for we need a simple log counter.\n",
        "\n"
      ]
    },
    {
      "cell_type": "markdown",
      "metadata": {
        "id": "qOYcbFRwHleN"
      },
      "source": [
        "### Remove Voyage ID -```trans_atlc_trade.drop()```"
      ]
    },
    {
      "cell_type": "markdown",
      "metadata": {
        "id": "uocghp2yHleO"
      },
      "source": [
        "Now that we have a new index from 0 to 15299.\n",
        "\n",
        "Do we need ```voyage_id```. I don't think so, because it doesn't help us find anything useful. Every Voyage ID is unique.\n",
        "\n",
        "Next, drop this columnn"
      ]
    },
    {
      "cell_type": "code",
      "metadata": {
        "id": "90MwAELVHleO"
      },
      "source": [
        "trans_atlc_trade = trans_atlc_trade.drop(columns='voyage_id')\n",
        "trans_atlc_trade"
      ],
      "execution_count": null,
      "outputs": []
    },
    {
      "cell_type": "markdown",
      "metadata": {
        "id": "d_Ds03fRHleS"
      },
      "source": [
        "### Using ```dropna()```"
      ]
    },
    {
      "cell_type": "markdown",
      "metadata": {
        "id": "OB1gdak8HleT"
      },
      "source": [
        "For this data set we will be working with trips that were completely accounted for in all of the remaining features."
      ]
    },
    {
      "cell_type": "code",
      "metadata": {
        "id": "HUUV6ipxHleT"
      },
      "source": [
        "trans_atlc_trade = trans_atlc_trade.dropna()\n",
        "trans_atlc_trade"
      ],
      "execution_count": null,
      "outputs": []
    },
    {
      "cell_type": "code",
      "metadata": {
        "id": "-8OASxc-HleZ"
      },
      "source": [
        "trans_atlc_trade.info()"
      ],
      "execution_count": null,
      "outputs": []
    },
    {
      "cell_type": "markdown",
      "metadata": {
        "id": "ju-Bw99zHled"
      },
      "source": [
        "### Changing Column Type and Sorting - ```trans_atlc_trade.sort_values()```"
      ]
    },
    {
      "cell_type": "code",
      "metadata": {
        "id": "KCQb6H5uHled"
      },
      "source": [
        "trans_atlc_trade = trans_atlc_trade.sort_values(by='year_of_arrival', ascending=True)\n",
        "trans_atlc_trade"
      ],
      "execution_count": null,
      "outputs": []
    },
    {
      "cell_type": "markdown",
      "metadata": {
        "id": "AMV7309HHleh"
      },
      "source": [
        "### Reseting the Index\n",
        "Reseting Index againt with ```year_of_arrival``` in Ascending Order."
      ]
    },
    {
      "cell_type": "code",
      "metadata": {
        "id": "rEIogWnUHlei"
      },
      "source": [
        "trans_atlc_trade.reset_index(inplace=True, drop=True)\n",
        "trans_atlc_trade"
      ],
      "execution_count": null,
      "outputs": []
    },
    {
      "cell_type": "markdown",
      "metadata": {
        "id": "i_4uzK6tHlel"
      },
      "source": [
        "### Finding Unique and similar strings \n",
        "```trans_atlc_trade['column_name].unique()``` and ```trans_atlc_trade.sort()```"
      ]
    },
    {
      "cell_type": "code",
      "metadata": {
        "id": "zcZzcYc6Hlel"
      },
      "source": [
        "a = trans_atlc_trade['voyage_started'].unique()\n",
        "a.sort()\n",
        "a"
      ],
      "execution_count": null,
      "outputs": []
    },
    {
      "cell_type": "code",
      "metadata": {
        "id": "Xo4FXypKHleq"
      },
      "source": [
        "a = trans_atlc_trade['voyage_pit_stop'].unique()\n",
        "a.sort()\n",
        "a"
      ],
      "execution_count": null,
      "outputs": []
    },
    {
      "cell_type": "code",
      "metadata": {
        "id": "m4mKFIA8Hlex"
      },
      "source": [
        "a = trans_atlc_trade['end_port'].unique()\n",
        "a.sort()\n",
        "a"
      ],
      "execution_count": null,
      "outputs": []
    },
    {
      "cell_type": "markdown",
      "metadata": {
        "id": "zKVGN7_cHle2"
      },
      "source": [
        "### Working with Strings - ```trans_atlc_trade['column_name'].str.replace()```"
      ]
    },
    {
      "cell_type": "markdown",
      "metadata": {
        "id": "SESPapu0UDyS"
      },
      "source": [
        "To replace unwanted parts a string we use the function ```trans_atlc_trade['columun_name'].str.replace('string to find','string to replace')```. This command looks for the string we have specified and replaces with what we want.\n",
        "\n",
        "For example:\n",
        "If have an entry in the 'voyage_started' column, 'Virginia, port unspecified'. By running the command:\n",
        "```trans_atlc_trade['voyage_started'].str.replace(', port unspecified', '')```\n",
        "The string will be changed from ''Virginia, port unspecified' to 'Virginia'."
      ]
    },
    {
      "cell_type": "code",
      "metadata": {
        "id": "NPxciPRzHle3"
      },
      "source": [
        "trans_atlc_trade['voyage_started'] = trans_atlc_trade['voyage_started'].str.replace(', port unspecified', '')\n",
        "trans_atlc_trade['voyage_started'] = trans_atlc_trade['voyage_started'].str.replace(', colony unspecified', '')\n",
        "trans_atlc_trade['voyage_started'] = trans_atlc_trade['voyage_started'].str.replace('.', '')\n",
        "\n",
        "trans_atlc_trade['voyage_pit_stop'] = trans_atlc_trade['voyage_pit_stop'].str.replace(', port unspecified', '')\n",
        "trans_atlc_trade['voyage_pit_stop'] = trans_atlc_trade['voyage_pit_stop'].str.replace(', colony unspecified', '')\n",
        "trans_atlc_trade['voyage_pit_stop'] = trans_atlc_trade['voyage_pit_stop'].str.replace('.', '')\n",
        "\n",
        "trans_atlc_trade['end_port'] = trans_atlc_trade['end_port'].str.replace(', port unspecified', '')\n",
        "trans_atlc_trade['end_port'] = trans_atlc_trade['end_port'].str.replace(', colony unspecified', '')\n",
        "trans_atlc_trade['end_port'] = trans_atlc_trade['end_port'].str.replace('.', '')\n",
        "trans_atlc_trade['end_port'] = trans_atlc_trade['end_port'].str.replace(' (colony unspecified)', '')\n",
        "trans_atlc_trade['end_port'] = trans_atlc_trade['end_port'].str.replace(', unspecified', '')\n",
        "trans_atlc_trade['end_port'] = trans_atlc_trade['end_port'].str.replace(',unspecified', '')\n",
        "\n",
        "trans_atlc_trade"
      ],
      "execution_count": null,
      "outputs": []
    },
    {
      "cell_type": "code",
      "metadata": {
        "id": "IOPDZL8vHle7"
      },
      "source": [
        "trans_atlc_trade.dtypes"
      ],
      "execution_count": null,
      "outputs": []
    },
    {
      "cell_type": "markdown",
      "metadata": {
        "id": "Wkw5pefkHlfC"
      },
      "source": [
        "## <h2 align=\"center\">Micro Wrangling and Visualization</h2>"
      ]
    },
    {
      "cell_type": "markdown",
      "metadata": {
        "id": "pwDzGZeYHlfD"
      },
      "source": [
        "We will Start of this part by dividing our dataset into multiple smaller dataframes. The approach we will be taking is separating dataframes based on the ```year_of_arrival``` dataset.\n",
        "\n",
        "For example, in the blocks below you will see code for 4 intervals:\n",
        "- ```1500 to 1600```\n",
        "- ```1601 to 1700```\n",
        "- ```1701 to 1800```\n",
        "- ```1801 to 1900```\n",
        "\n"
      ]
    },
    {
      "cell_type": "markdown",
      "metadata": {
        "id": "3ZkrSv8hHlfD"
      },
      "source": [
        "## Between 1500 to 1600"
      ]
    },
    {
      "cell_type": "code",
      "metadata": {
        "id": "Lp6kae0pHlfE"
      },
      "source": [
        "dataset_between15_16 = trans_atlc_trade.where((trans_atlc_trade['year_of_arrival'] >= 1500) & (trans_atlc_trade['year_of_arrival'] <= 1600))\n",
        "dataset_between15_16"
      ],
      "execution_count": null,
      "outputs": []
    },
    {
      "cell_type": "code",
      "metadata": {
        "id": "a-tQvhW3HlfI"
      },
      "source": [
        "dataset_between15_16 = dataset_between15_16.dropna()\n",
        "dataset_between15_16"
      ],
      "execution_count": null,
      "outputs": []
    },
    {
      "cell_type": "markdown",
      "metadata": {
        "id": "T6C4yZSgHlfN"
      },
      "source": [
        "### Total Number of Slaves Transported between 1501-1600 - Complete Records\n"
      ]
    },
    {
      "cell_type": "code",
      "metadata": {
        "id": "lpCOGYH2HlfN"
      },
      "source": [
        "dataset_between15_16.slaves_onboard.sum()"
      ],
      "execution_count": null,
      "outputs": []
    },
    {
      "cell_type": "markdown",
      "metadata": {
        "id": "yoLMT1SKHlfR"
      },
      "source": [
        "### Visualizing Trips During 1501-1601"
      ]
    },
    {
      "cell_type": "markdown",
      "metadata": {
        "id": "5eu2pWKrHlfX"
      },
      "source": [
        "### Pandas Plots"
      ]
    },
    {
      "cell_type": "code",
      "metadata": {
        "id": "90m3tTRHHlfY"
      },
      "source": [
        "fig = plt.figure(figsize = (50,20))\n",
        "ax1 = fig.add_subplot(2,2,1)\n",
        "\n",
        "dataset_between15_16.plot(x='vessel_name',\n",
        "                         y = 'slaves_onboard',\n",
        "                         kind = 'bar', ax = ax1,\n",
        "                         rot = 90)"
      ],
      "execution_count": null,
      "outputs": []
    },
    {
      "cell_type": "markdown",
      "metadata": {
        "id": "7oOVxiLsHlfc"
      },
      "source": [
        "### Ships Carrying Less than 100 slaves per trip"
      ]
    },
    {
      "cell_type": "code",
      "metadata": {
        "id": "-_Oy0Cr_Hlfd"
      },
      "source": [
        "temp_plot = dataset_between15_16.where(dataset_between15_16['slaves_onboard'] < 100.0).dropna()\n",
        "\n",
        "temp_plot"
      ],
      "execution_count": null,
      "outputs": []
    },
    {
      "cell_type": "code",
      "metadata": {
        "id": "I1UkMU9wHlfg"
      },
      "source": [
        "temp_plot.plot(x='vessel_name',\n",
        "                         y = 'slaves_onboard',kind = 'bar',\n",
        "                         rot = 90)\n",
        "\n"
      ],
      "execution_count": null,
      "outputs": []
    },
    {
      "cell_type": "markdown",
      "metadata": {
        "id": "OjOjDcogHlfk"
      },
      "source": [
        "### Ships Carrying greater than 100 slaves per trip"
      ]
    },
    {
      "cell_type": "code",
      "metadata": {
        "id": "lrAOZa1hHlfm"
      },
      "source": [
        "temp_plot = dataset_between15_16.where(dataset_between15_16['slaves_onboard'] > 100.0).dropna()\n",
        "\n",
        "temp_plot.plot(x='vessel_name',\n",
        "                         y = 'slaves_onboard',kind = 'bar',\n",
        "                         rot = 90,grid = True,figsize = (20,10))\n",
        "\n",
        "temp_plot"
      ],
      "execution_count": null,
      "outputs": []
    },
    {
      "cell_type": "code",
      "metadata": {
        "id": "d9LKvyEF2-5C"
      },
      "source": [
        "dataset_between15_16.describe()"
      ],
      "execution_count": null,
      "outputs": []
    },
    {
      "cell_type": "code",
      "metadata": {
        "id": "H5_EG9R58wAL"
      },
      "source": [
        "third_quartile_slaves_onboard = int(dataset_between15_16['slaves_onboard'].quantile(.75))\n",
        "print(third_quartile_slaves_onboard)\n",
        "\n",
        "\n",
        "# third_quartile_slaves_onboard = 202"
      ],
      "execution_count": null,
      "outputs": []
    },
    {
      "cell_type": "markdown",
      "metadata": {
        "id": "iC1mKd2BHlfu"
      },
      "source": [
        "### Ships Carrying greater than 202 slaves per trip"
      ]
    },
    {
      "cell_type": "code",
      "metadata": {
        "id": "HNwE7zKBHlfv"
      },
      "source": [
        "temp_plot = dataset_between15_16.where(dataset_between15_16['slaves_onboard'] > third_quartile_slaves_onboard).dropna()\n",
        "print(f'There are {temp_plot.shape[0]} trips that carries more than {third_quartile_slaves_onboard} slaves.')\n",
        "\n"
      ],
      "execution_count": null,
      "outputs": []
    },
    {
      "cell_type": "code",
      "metadata": {
        "id": "dfBf3GfyHlfz",
        "scrolled": true
      },
      "source": [
        "temp_plot.plot(x='vessel_name',\n",
        "                         y = 'slaves_onboard',kind = 'bar',\n",
        "                         rot = 45,grid = True,figsize = (20,10))\n",
        "\n",
        "\n"
      ],
      "execution_count": null,
      "outputs": []
    },
    {
      "cell_type": "markdown",
      "metadata": {
        "id": "ZIZ8rFjhHlf3"
      },
      "source": [
        "### Check the most used 'start_port'"
      ]
    },
    {
      "cell_type": "code",
      "metadata": {
        "id": "7IOuRHKwHlf4",
        "scrolled": true
      },
      "source": [
        "temp_plot['voyage_started'].hist(bins = 20,\n",
        "                                 alpha = 0.5,\n",
        "                                 xrot = 45,\n",
        "                                 figsize = (10,10)\n",
        "                                )"
      ],
      "execution_count": null,
      "outputs": []
    },
    {
      "cell_type": "markdown",
      "metadata": {
        "id": "ShDktMYRHlf8"
      },
      "source": [
        "### Check the most used 'voyage_pit_stop'"
      ]
    },
    {
      "cell_type": "code",
      "metadata": {
        "id": "vYoFVQrIHlf9"
      },
      "source": [
        "temp_plot['voyage_pit_stop'].hist(bins=20, \n",
        "                           alpha=0.7,\n",
        "                           xrot = 0,\n",
        "                          figsize = (10,10))"
      ],
      "execution_count": null,
      "outputs": []
    },
    {
      "cell_type": "markdown",
      "metadata": {
        "id": "ntI-QvHuHlgB"
      },
      "source": [
        "### Check the most used 'End_Port'"
      ]
    },
    {
      "cell_type": "code",
      "metadata": {
        "id": "ermZi3B7HlgC",
        "scrolled": false
      },
      "source": [
        "temp_plot['end_port'].hist(bins=20, \n",
        "                           alpha=0.7,\n",
        "                           xrot = 0,\n",
        "                          figsize = (10,10))"
      ],
      "execution_count": null,
      "outputs": []
    },
    {
      "cell_type": "markdown",
      "metadata": {
        "id": "cvaJr4-BHlgG"
      },
      "source": [
        "### Observations \n",
        "\n",
        "Majority of The Ships carrying over 200 people started their journey Portugal made a Pit-Stop in Africa and Went to Cartagena, Colombia "
      ]
    },
    {
      "cell_type": "markdown",
      "metadata": {
        "id": "heXJrWnNHLH7"
      },
      "source": [
        "# <h1 align=\"center\">Thank you!</h1> "
      ]
    },
    {
      "cell_type": "markdown",
      "metadata": {
        "id": "We32Lp91Lpr5"
      },
      "source": [
        "Additional Resources\r\n",
        "\r\n",
        "- Python Documentation:\r\n",
        "  - https://www.pythoncheatsheet.org/\r\n",
        "  - https://docs.python.org/3/\r\n",
        "\r\n",
        "- Pandas Introduction and Documentation:\r\n",
        "  - https://www.learndatasci.com/tutorials/python-pandas-tutorial-complete-introduction-for-beginners/\r\n",
        "  - https://medium.com/datadriveninvestor/python-pandas-library-for-beginners-a-simplified-guide-for-getting-started-and-ditching-20992b7cd4da\r\n",
        "\r\n",
        "- MatPlotLib Introduction and Documentation:\r\n",
        "  - https://matplotlib.org/\r\n",
        "  - https://realpython.com/python-matplotlib-guide/\r\n",
        "  - https://pandas.pydata.org/pandas-docs/stable/user_guide/visualization.html \r\n",
        "\r\n",
        "\r\n",
        "\r\n"
      ]
    }
  ]
}