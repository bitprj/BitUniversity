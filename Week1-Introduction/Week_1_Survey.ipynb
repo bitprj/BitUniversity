{
  "nbformat": 4,
  "nbformat_minor": 0,
  "metadata": {
    "colab": {
      "name": "Week_1_Survey.ipynb",
      "provenance": [],
      "collapsed_sections": [],
      "include_colab_link": true
    },
    "kernelspec": {
      "name": "python3",
      "display_name": "Python 3"
    }
  },
  "cells": [
    {
      "cell_type": "markdown",
      "metadata": {
        "id": "view-in-github",
        "colab_type": "text"
      },
      "source": [
        "<a href=\"https://colab.research.google.com/github/minhtumn/DigitalHistory/blob/Minh-Tu/Week1-Introduction/Week_1_Survey.ipynb\" target=\"_parent\"><img src=\"https://colab.research.google.com/assets/colab-badge.svg\" alt=\"Open In Colab\"/></a>"
      ]
    },
    {
      "cell_type": "markdown",
      "metadata": {
        "id": "krnhDxbSklxs",
        "colab_type": "text"
      },
      "source": [
        "<img src=\"https://github.com/bitprj/DigitalHistory/blob/Narae/Week3-Introduction-to-Open-Data-Importing-Data-and-Basic-Data-Wrangling/assets/icons/bitproject.png?raw=1\" width=\"200\" align=\"left\"> \n",
        "<img src=\"https://github.com/bitprj/DigitalHistory/blob/Narae/Week3-Introduction-to-Open-Data-Importing-Data-and-Basic-Data-Wrangling/assets/icons/data-science.jpg?raw=1\" width=\"300\" align=\"right\">"
      ]
    },
    {
      "cell_type": "markdown",
      "metadata": {
        "id": "WroS_nNx16_2",
        "colab_type": "text"
      },
      "source": [
        "##  📹 Video Link for Reference\n",
        "To help you navigate through this survey we have made a short video explaining the process. Click [here](https://www.loom.com/share/02123527de624ac9a5cd93b85e8426b1) to access it.\n",
        "\n"
      ]
    },
    {
      "cell_type": "markdown",
      "metadata": {
        "id": "lpVr--Bmv3VB",
        "colab_type": "text"
      },
      "source": [
        "# Student Survey\n",
        "\n",
        "\n",
        "\n",
        "Hi, in order to get you started with Google Co-lab we have created a simple survey for you to submit. The purpose of this survey is to help us improve this curriculum and cater to everyone's learning experience in a virtual classroom.\n",
        "\n",
        "The survey will ask you the following:\n",
        "\n",
        "|Survey Questions        | |\n",
        "|------------------------|-|\n",
        "|First Name| **Optional** |\n",
        "|Last Name| **Optional** |\n",
        "|Pronouns| **Optional** |\n",
        "|Ethnicity| **Optional** |\n",
        "|Gender|\n",
        "|Age|\n",
        "|University |\n",
        "|Current Standing |\n",
        "|Degree |\n",
        "|Experience with Data Analysis |\n",
        "|Experience with Programming |\n",
        "|Experience with Python |\n",
        "\n",
        "The first 4 questions are optional. Feel free to skip those questions. \n",
        "\n"
      ]
    },
    {
      "cell_type": "markdown",
      "metadata": {
        "id": "6NxHmxBt1Al-",
        "colab_type": "text"
      },
      "source": [
        "## Step 1\n",
        "For this week you don't have to worry about understanding the code, simply just run the tabs:\n",
        "- Please don't write or modify anything inside the code below. Instead, simply just move your cursor over to ```[ ]``` and press the play button."
      ]
    },
    {
      "cell_type": "code",
      "metadata": {
        "id": "TvqLf30Miec0",
        "colab_type": "code",
        "colab": {}
      },
      "source": [
        "def student_survey():\n",
        "  student_profile = []\n",
        "  \n",
        "  self_identification = str(input(\"\"\"\n",
        "  \\nVoluntary Self-Identification *\n",
        "  The following portion of the application is voluntary \n",
        "  and will not affect your progress in the course; Bit Project will use your \n",
        "  responses to collect data and track metrics \n",
        "  in regards to the Digital History Curriculum.\\n \n",
        "  Enter \"Y\" to continue with the Voluntary Self-Identification or \"N\" to skip this section. \\n\"\"\"))\n",
        "  \n",
        "  if self_identification == \"Y\" :\n",
        "      \n",
        "    first_name = str(input(\"\\nPlease enter your first name: \\n\"))\n",
        "    student_profile.append(first_name)\n",
        "\n",
        "    last_name = str(input(\"\\nPlease enter your last name: \\n\"))\n",
        "    student_profile.append(last_name)\n",
        "\n",
        "    pronouns = str(input(\"\"\"\n",
        "    \\nPreferred Pronouns:\n",
        "    - A pronoun not listed\n",
        "    - Ze/hir\n",
        "    - They/them/theirs\n",
        "    - She/her/hers\n",
        "    - He/him/his\\n\"\"\"))\n",
        "    student_profile.append(pronouns)\n",
        "    \n",
        "    ethnicity = str(input(\"\"\"\n",
        "    \\nPlease input one of the following groups in which you \n",
        "    consider yourself to be a member of:\n",
        "    - American Indian or Alaska Native\n",
        "    - Asian\n",
        "    - Black or African American\n",
        "    - Native Hawaiian or Other Pacific Islander\n",
        "    - White\n",
        "    - Hispanic/Latino\n",
        "    - I am of multiple backgrounds. \n",
        "    - Other\\n\"\"\"))\n",
        "    student_profile.append(ethnicity)\n",
        "  \n",
        "  elif self_identification == 'N':\n",
        "    first_name = 'N/A'\n",
        "    student_profile.append(first_name)\n",
        "    last_name = 'N/A'\n",
        "    student_profile.append(last_name)\n",
        "    pronouns = 'N/A'\n",
        "    student_profile.append(pronouns)\n",
        "    ethnicity = 'N/A'\n",
        "    student_profile.append(ethnicity)\n",
        "\n",
        "  gender = str(input(\"\"\"\n",
        "  \\nPlease enter your gender:\n",
        "  M for Male\n",
        "  F for Female\n",
        "  O for Other\\n\"\"\"))\n",
        "  student_profile.append(gender)\n",
        "\n",
        "  age  =  str(input(\"\\nEnter your age: \\n\"))\n",
        "  student_profile.append(age)\n",
        "  \n",
        "  university = str(input(\"\\nPlease enter the University you are affiliated with: \\n\"))\n",
        "  student_profile.append(university)\n",
        "\n",
        "  current_college_standing = str(input(\"\"\"\n",
        "  \\nPlease enter the current academic status you belong to:\n",
        "  - Freshman\n",
        "  - Sophomore\n",
        "  - Junior\n",
        "  - Senior\\n\"\"\"))\n",
        "  student_profile.append(current_college_standing)\n",
        "\n",
        "  type_of_degree = str(input(\"\"\"\n",
        "  \\nPlease enter the Type of Degree you are currently working towards:\n",
        "  - Bachelors\n",
        "  - Associates\n",
        "  - Masters\n",
        "  - PhD\\n\"\"\"))\n",
        "  student_profile.append(type_of_degree)\n",
        "  \n",
        "  major = str(input(\"\\nPlease enter your major: \\n\"))\n",
        "  student_profile.append(major)\n",
        "  \n",
        "  experience_with_data_analysis  =  str(input(\"\"\"\\nDo you have any previous experience with data analysis: \n",
        "  Y for Yes\n",
        "  N for No\\n\"\"\"))\n",
        "  student_profile.append(experience_with_data_analysis)\n",
        "\n",
        "  #place text box if they say yes to briefly explain type of experience\n",
        "  \n",
        "  experince_with_programming  = str(input(\"\"\"\\nDo you have any previous experience with programming: \n",
        "  Y for Yes\n",
        "  N for No\\n\"\"\"))\n",
        "  student_profile.append(experince_with_programming)\n",
        "\n",
        "  #place text box if they say yes to briefly explain type of experience\n",
        "  \n",
        "  experience_with_python = str(input(\"\"\"\\nDo you have any previous experience with Python: \n",
        "  Y for Yes\n",
        "  N for No\\n\"\"\"))\n",
        "  student_profile.append(experience_with_python)\n",
        "\n",
        "  #place text box if they say yes to briefly explain type of experience\n",
        "\n",
        "  print(\"Congratulations! You have completed the survey.\")\n",
        "\n",
        "  return student_profile"
      ],
      "execution_count": 14,
      "outputs": []
    },
    {
      "cell_type": "markdown",
      "metadata": {
        "id": "Xw-pOLgnTmBj",
        "colab_type": "text"
      },
      "source": [
        "## Step 2\n",
        "Now that you have run the first cell above, the next thing you will do is repeat the same step for the cell below; i.e move the cursor over to ```[ ]``` and press the play button.\n",
        "\n",
        "Once you click on it, the survey questions will show up one by one, prompting you to enter an answer in the designated box. Once you have entered your answer simply press ```Enter``` to move on to the next question. "
      ]
    },
    {
      "cell_type": "code",
      "metadata": {
        "id": "K1zoKuyJnxM1",
        "colab_type": "code",
        "colab": {
          "base_uri": "https://localhost:8080/",
          "height": 1000
        },
        "outputId": "8f057028-5b89-4510-9fa5-68c7915cac26"
      },
      "source": [
        "student_profile = student_survey()"
      ],
      "execution_count": 15,
      "outputs": [
        {
          "output_type": "stream",
          "text": [
            "\n",
            "  \n",
            "Voluntary Self-Identification *\n",
            "  The following portion of the application is voluntary \n",
            "  and will not affect your progress in the course; Bit Project will use your \n",
            "  responses to collect data and track metrics \n",
            "  in regards to the Digital History Curriculum.\n",
            " \n",
            "  Enter \"Y\" to continue with the Voluntary Self-Identification or \"N\" to skip this section. \n",
            "Y\n",
            "\n",
            "Please enter your first name: \n",
            "m2\n",
            "\n",
            "Please enter your last name: \n",
            "nguyen\n",
            "\n",
            "    \n",
            "Preferred Pronouns:\n",
            "    - A pronoun not listed\n",
            "    - Ze/hir\n",
            "    - They/them/theirs\n",
            "    - She/her/hers\n",
            "    - He/him/his\n",
            "she\n",
            "\n",
            "    \n",
            "Please input one of the following groups in which you \n",
            "    consider yourself to be a member of:\n",
            "    - American Indian or Alaska Native\n",
            "    - Asian\n",
            "    - Black or African American\n",
            "    - Native Hawaiian or Other Pacific Islander\n",
            "    - White\n",
            "    - Hispanic/Latino\n",
            "    - I am of multiple backgrounds. \n",
            "    - Other\n",
            "asian\n",
            "\n",
            "  \n",
            "Please enter your gender:\n",
            "  M for Male\n",
            "  F for Female\n",
            "  O for Other\n",
            "F\n",
            "\n",
            "Enter your age: \n",
            "19\n",
            "\n",
            "Please enter the University you are affiliated with: \n",
            "Davis\n",
            "\n",
            "  \n",
            "Please enter the current academic status you belong to:\n",
            "  - Freshman\n",
            "  - Sophomore\n",
            "  - Junior\n",
            "  - Senior\n",
            "Sophomore\n",
            "\n",
            "  \n",
            "Please enter the Type of Degree you are currently working towards:\n",
            "  - Bachelors\n",
            "  - Associates\n",
            "  - Masters\n",
            "  - PhD\n",
            "PhD\n",
            "\n",
            "Please enter your major: \n",
            "Applied Math\n",
            "\n",
            "Do you have any previous experience with data analysis: \n",
            "  Y for Yes\n",
            "  N for No\n",
            "N\n",
            "\n",
            "Do you have any previous experience with programming: \n",
            "  Y for Yes\n",
            "  N for No\n",
            "N\n",
            "\n",
            "Do you have any previous experience with Python: \n",
            "  Y for Yes\n",
            "  N for No\n",
            "N\n",
            "Congratulations! You have completed the survey.\n"
          ],
          "name": "stdout"
        }
      ]
    },
    {
      "cell_type": "markdown",
      "metadata": {
        "id": "dk2Daf-bnX6b",
        "colab_type": "text"
      },
      "source": [
        "## Step 3\n",
        "Now that you have submitted the survey, you can view your answers below.\n",
        "\n",
        "(Click on ```[ ]```)"
      ]
    },
    {
      "cell_type": "code",
      "metadata": {
        "id": "3NDe6qqpsIuS",
        "colab_type": "code",
        "colab": {
          "base_uri": "https://localhost:8080/",
          "height": 238
        },
        "outputId": "88f39ecd-3a5d-4cd9-8c67-5ff7d4413f35"
      },
      "source": [
        "headers = ['first_name','last_name','pronouns','ethnicity','gender','age','university','current_college_standing','type_of_degree','major','experience_with_data_analysis','experince_with_programming','experience_with_python']\n",
        "for i in range(0,len(student_profile)):\n",
        "  print(headers[i],':',student_profile[i])\n",
        "\n",
        "student_profile = [student_profile]"
      ],
      "execution_count": 16,
      "outputs": [
        {
          "output_type": "stream",
          "text": [
            "first_name : m2\n",
            "last_name : nguyen\n",
            "pronouns : she\n",
            "ethnicity : asian\n",
            "gender : F\n",
            "age : 19\n",
            "university : Davis\n",
            "current_college_standing : Sophomore\n",
            "type_of_degree : PhD\n",
            "major : Applied Math\n",
            "experience_with_data_analysis : N\n",
            "experince_with_programming : N\n",
            "experience_with_python : N\n"
          ],
          "name": "stdout"
        }
      ]
    },
    {
      "cell_type": "markdown",
      "metadata": {
        "id": "wxabMHxGn3iL",
        "colab_type": "text"
      },
      "source": [
        "## Step 4\n",
        "Now that you have completed the survey, we will be saving your survey as a ```csv``` file below. CSV simply means Comma Separated Values, which is a very simple form to distinguish between columns.\n",
        "\n",
        "When you run the cell, you will be asked to input a name for the file you will be making.\n",
        "Follow the format \n",
        "```YourStudentID_WeekOne``` and press Enter.\n",
        "\n",
        "Tip: Instead of moving your cursor on the ```[ ]``` sign everytime you can simply press Shift + Enter together, which will automatically run the next cell. Try it out here."
      ]
    },
    {
      "cell_type": "code",
      "metadata": {
        "id": "_kQdBG_ZqfRE",
        "colab_type": "code",
        "colab": {
          "base_uri": "https://localhost:8080/",
          "height": 119
        },
        "outputId": "70701ab5-9131-4a54-e461-b7f3e935f9a7"
      },
      "source": [
        "import csv\n",
        "\n",
        "\n",
        "filename = str(input(\"\"\"\n",
        "\\nEnter the name of your file\n",
        "Follow the following format:\n",
        "\"YourStudentID_WeekOne\": \\n\"\"\"))\n",
        "filename = filename+'.csv'\n",
        "file = open(filename, 'w+', newline ='') \n",
        "# writing the data into the file \n",
        "with file:     \n",
        "    write = csv.writer(file) \n",
        "    writer = csv.DictWriter(file, fieldnames = headers)\n",
        "    # writing data row-wise into the csv file \n",
        "    writer.writeheader() \n",
        "    write.writerows(student_profile) \n",
        "    file.close()"
      ],
      "execution_count": 17,
      "outputs": [
        {
          "output_type": "stream",
          "text": [
            "\n",
            "\n",
            "Enter the name of your file\n",
            "Follow the following format:\n",
            "\"YourStudentID_WeekOne\": \n",
            "917003682_WeekOne\n"
          ],
          "name": "stdout"
        }
      ]
    },
    {
      "cell_type": "markdown",
      "metadata": {
        "id": "M8T-odaLpljn",
        "colab_type": "text"
      },
      "source": [
        "## Step 5\n",
        "\n",
        "You can confirm that you have made a ```.csv``` file by clicking on the folder icon to left. \n",
        "The next step is to download the file to your local machine. Simply running the next cell will download the file for you.\n",
        "\n",
        "(Click on ```[ ]```)"
      ]
    },
    {
      "cell_type": "code",
      "metadata": {
        "id": "d-zZhuNJn0en",
        "colab_type": "code",
        "colab": {
          "base_uri": "https://localhost:8080/",
          "height": 17
        },
        "outputId": "09c5bb35-3782-4266-f665-dfa62fa910bf"
      },
      "source": [
        "from google.colab import files\n",
        "files.download(filename)"
      ],
      "execution_count": 18,
      "outputs": [
        {
          "output_type": "display_data",
          "data": {
            "application/javascript": [
              "\n",
              "    async function download(id, filename, size) {\n",
              "      if (!google.colab.kernel.accessAllowed) {\n",
              "        return;\n",
              "      }\n",
              "      const div = document.createElement('div');\n",
              "      const label = document.createElement('label');\n",
              "      label.textContent = `Downloading \"${filename}\": `;\n",
              "      div.appendChild(label);\n",
              "      const progress = document.createElement('progress');\n",
              "      progress.max = size;\n",
              "      div.appendChild(progress);\n",
              "      document.body.appendChild(div);\n",
              "\n",
              "      const buffers = [];\n",
              "      let downloaded = 0;\n",
              "\n",
              "      const channel = await google.colab.kernel.comms.open(id);\n",
              "      // Send a message to notify the kernel that we're ready.\n",
              "      channel.send({})\n",
              "\n",
              "      for await (const message of channel.messages) {\n",
              "        // Send a message to notify the kernel that we're ready.\n",
              "        channel.send({})\n",
              "        if (message.buffers) {\n",
              "          for (const buffer of message.buffers) {\n",
              "            buffers.push(buffer);\n",
              "            downloaded += buffer.byteLength;\n",
              "            progress.value = downloaded;\n",
              "          }\n",
              "        }\n",
              "      }\n",
              "      const blob = new Blob(buffers, {type: 'application/binary'});\n",
              "      const a = document.createElement('a');\n",
              "      a.href = window.URL.createObjectURL(blob);\n",
              "      a.download = filename;\n",
              "      div.appendChild(a);\n",
              "      a.click();\n",
              "      div.remove();\n",
              "    }\n",
              "  "
            ],
            "text/plain": [
              "<IPython.core.display.Javascript object>"
            ]
          },
          "metadata": {
            "tags": []
          }
        },
        {
          "output_type": "display_data",
          "data": {
            "application/javascript": [
              "download(\"download_ecd62a26-10c6-4a73-b6d9-a76fab115514\", \"917003682_WeekOne.csv\", 254)"
            ],
            "text/plain": [
              "<IPython.core.display.Javascript object>"
            ]
          },
          "metadata": {
            "tags": []
          }
        }
      ]
    }
  ]
}