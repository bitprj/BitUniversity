{
 "cells": [
  {
   "cell_type": "markdown",
   "metadata": {
    "colab_type": "text",
    "id": "view-in-github"
   },
   "source": [
    "<a href=\"https://colab.research.google.com/github/ShayanRiyaz/DigitalHistory/blob/Shayan/Week5-Visualizing-the-Translatlantic-Slave-Trade/Week5-KEY-Visualize-Trans-Atlantic-Slave-Trade.ipynb\" target=\"_parent\"><img src=\"https://colab.research.google.com/assets/colab-badge.svg\" alt=\"Open In Colab\"/></a>"
   ]
  },
  {
   "cell_type": "markdown",
   "metadata": {
    "colab_type": "text",
    "id": "U30n5IXzIVFX"
   },
   "source": [
    "# Visualizing the Trans-Atlantic Slave Trade"
   ]
  },
  {
   "cell_type": "markdown",
   "metadata": {
    "colab_type": "text",
    "id": "UFfKdw9eV6Wc"
   },
   "source": [
    "## Table of Contents\n",
    "\n",
    "- Recap\n",
    "- About the Dataset\n",
    "    - The Transatlantic Slave Trade\n",
    "        - Facts about the dataset\n",
    "- Labs and Methodology\n",
    "- Goals\n",
    "- **Part 1 - Getting Our Basic Data Analysis Set-Up**\n",
    "    - Import Libraries and unpack file\n",
    "    - Load file\n",
    "    - Observing the Dataset using Pandas\n",
    "    - Important Facts About the Dataset\n",
    "    - Visualize Year of Arrival vs Number of Slaves arrived\n",
    "- **Part 2 - Getting Started with Data Wrangling**\n",
    "    - Create a copy of the Original Dataset\n",
    "    - Changing Column Names\n",
    "    - Moving Column Positions - ```df.reindex()```\n",
    "    - Remove Voyage ID -```df.drop()```\n",
    "    - Using ```dropna()```\n",
    "    - Changing Column Type and Sorting - ```df.sort_values()```\n",
    "    - Finding Unique and similar strings \n",
    "    - Working with Strings - ```df['column_name'].str.replace()```\n",
    "- **Part 3 - Micro Wrangling and Visualization**\n",
    "    - Between 1500 - 1600\n",
    "    - Between 1601 - 1700\n",
    "    - Between 1701 - 1800\n",
    "    - Between 1801 - 1900\n",
    "- **Part 4 - Conclusion**\n",
    "- Resources\n",
    "- Appendix\n",
    "    \n",
    "\n",
    "\n",
    "\n",
    "\n"
   ]
  },
  {
   "cell_type": "markdown",
   "metadata": {
    "colab_type": "text",
    "id": "RE3H5y7yIRHZ"
   },
   "source": [
    "## Recap\n",
    "- By this time, you should have an understanding and practice on how to implement the following:\n",
    "- Loading a Dataset '.csv' as a dataframe using ```pd.read_csv```\n",
    "- Observing the properties of the loaded dataset using functions such as:\n",
    "    - ```pd.head()```\n",
    "    - ```pd.describe()```\n",
    "    - ```pd.info()```\n",
    "- Modifying the dataset by removing ```NaN``` values.\n",
    "- A conceptual understanding of the term ```object``` in DataFrames.\n",
    "- Re-indexing columns\n",
    "- Visualizing Data using ```matplotlib``` and ```pandas```:\n",
    "    - Scatter plots\n",
    "    - Barplots\n",
    "    - Line plots\n",
    "    - Histograms"
   ]
  },
  {
   "cell_type": "markdown",
   "metadata": {
    "colab_type": "text",
    "id": "4uvgAANOIKwm"
   },
   "source": [
    "## About the Dataset\n",
    "\n",
    "### The Trans-Atlantic Slave Trade\n",
    "\n",
    "It is difficult to believe in the first decades of the twenty-first century that just over two centuries ago, for those Europeans who thought about the issue, the shipping of enslaved Africans across the Atlantic was morally indistinguishable from shipping textiles, wheat, or even sugar. Our reconstruction of a major part of this migration experience covers an era in which there was massive technological change (steamers were among the last slave ships), as well as very dramatic shifts in perceptions of good and evil. Just as important perhaps were the relations between the Western and non-Western worlds that the trade both reflected and encapsulated. Slaves constituted the most important reason for contact between Europeans and Africans fornearly two centuries. The shipment of slaves from Africa was related to the demographic disaster consequent to the meeting of Europeans and Amerindians, which greatly reduced the numbers of Amerindian laborers and raised the demand for labor drawn from elsewhere, particularly Africa. As Europeans colonized the Americas, a steady stream of European peoples migrated to the Americas between 1492 and the early nineteenth century. But what is often overlooked is that, before 1820, perhaps three times as many enslaved Africans crossed the Atlantic as Europeans. This was the largest transoceanic migration of a people until that day, and it provided the Americas with a crucial labor force for their own economic development. The slave trade is thus a vital part of the history of some millions of Africans and their descendants who helped shape the modern Americas culturally as well as in the material sense.\n",
    "\n",
    "The details of the more than 36,000 voyages presented here greatly facilitate the study of cultural, demographic, and economic change in the Atlantic world from the late sixteenth to the mid-nineteenth centuries. Trends and cycles in the flow of African captives from specific coastal outlets should provide scholars withnew, basic information useful in examining the relationships among slaving, warfare—in both Africa and Europe—political instability, and climatic and ecological change, among other forces. \n",
    "\n",
    "#### Facts about the dataset\n",
    "\n",
    "- The dataset approximatey 36,110 trans-Atlantic voyages.\n",
    "- The estimates suggest around 12,520,000 captives departed Afriva to the Americas. \n",
    "\n",
    "- Not all 36,000 voyages in the database carried slaves from Africa.\n",
    "- A total of 633 voyages (1.8%) never reached the African coast because they were lost at sea, captured or suffered some other misfortune. \n",
    "- The database also contains records of 34,106 voyages that disembarked slaves, or could have done so (in other words, for some of these we do not know the outcome of the voyage).\n",
    "\n",
    "- The latter group comprised mainly ships captured in the nineteenth century which were taken to Sierra Leone and St. Helena as part of the attempt to suppress the trade. \n"
   ]
  },
  {
   "cell_type": "markdown",
   "metadata": {
    "colab_type": "text",
    "id": "fPyizd_JIHPU"
   },
   "source": [
    "## Labs and Methodoloy\n",
    "Congratulations you have made it to the first lab of this course. The ideas of these labs is to help you apply the Data Science pipeline in a project based environment. You will be using the tools taught to you in the previous modules and adopt and Question and Answer based approach when you work with the dataset.\n",
    "We have divided our approach into 4 parts:\n",
    "- For this project we start by asking question, which you will answer in code and simple explanations.\n",
    "\n",
    "*example* - change the name of 'column_x' to 'column y' </br>\n",
    "**answer**: ```df = df.rename(columns = {'column_x : 'column_y})```\n",
    "\n",
    "- The first part is the traditonal set up every. data scientist should do before modifying the dataset.\n",
    "- The second part involves clearning the the dataset and choosing columns that fit our methdology.\n",
    "- The third part involves futher splitting our cleaned dataframe into smaller dataframes and visualiztion them.\n",
    "- Finally, the fourth part involves summarizing our conclusion.\n",
    "\n",
    "\n",
    "\n",
    "\n",
    "\n"
   ]
  },
  {
   "cell_type": "markdown",
   "metadata": {
    "colab_type": "text",
    "id": "Tl_6Scu8IE7Q"
   },
   "source": [
    "\n",
    "## Goals"
   ]
  },
  {
   "cell_type": "markdown",
   "metadata": {
    "colab_type": "text",
    "id": "ixk29-rMHvR9"
   },
   "source": [
    "## Part 1 - Getting Our Basic Data Analysis Set-Up"
   ]
  },
  {
   "cell_type": "code",
   "execution_count": null,
   "metadata": {
    "colab": {},
    "colab_type": "code",
    "id": "vs7AJxshHlc9"
   },
   "outputs": [],
   "source": [
    "import _____ as pd # Insert Code here\n",
    "import numpy as __ # Insert Code here"
   ]
  },
  {
   "cell_type": "code",
   "execution_count": 2,
   "metadata": {
    "colab": {},
    "colab_type": "code",
    "id": "q72oEC0UHs76"
   },
   "outputs": [],
   "source": [
    "import pandas as pd"
   ]
  },
  {
   "cell_type": "markdown",
   "metadata": {
    "colab_type": "text",
    "id": "7q6R0hBZONBe"
   },
   "source": [
    "### Load file"
   ]
  },
  {
   "cell_type": "code",
   "execution_count": 3,
   "metadata": {
    "colab": {},
    "colab_type": "code",
    "id": "DfmowYZZOVRn"
   },
   "outputs": [],
   "source": [
    "url = 'https://raw.githubusercontent.com/bitprj/DigitalHistory/master/Week5-Visualizing-the-Translatlantic-Slave-Trade/data/trans-atlantic-slave-trade.csv'\n",
    "\n",
    "trans_atlc_trade = pd.read_csv(url) "
   ]
  },
  {
   "cell_type": "markdown",
   "metadata": {
    "colab_type": "text",
    "id": "9SwePQu6qsZl"
   },
   "source": [
    "### Observing the Dataset using Pandas"
   ]
  },
  {
   "cell_type": "markdown",
   "metadata": {
    "colab_type": "text",
    "id": "mCNQqlwecmjv"
   },
   "source": [
    "Now, the dataset is loaded as a dataframe 'trans_atlc_trade'\n",
    "\n",
    "#### head()\n",
    "Let's check what columns this file has by calling 'head()' function.\n",
    "It returns first n rows, and it's useful to see the dataset at a quick glance.\n",
    "\n",
    "By default, the head() function returns the first 5 rows.\n",
    "\n",
    "You can specify the number of rows to display by calling df.head(number)\n"
   ]
  },
  {
   "cell_type": "code",
   "execution_count": null,
   "metadata": {
    "colab": {
     "base_uri": "https://localhost:8080/",
     "height": 305
    },
    "colab_type": "code",
    "id": "_Fwr655mcjr5",
    "outputId": "2f80b1e3-b57a-418c-9ba7-d8603675f9d8"
   },
   "outputs": [
    {
     "data": {
      "text/html": [
       "<div>\n",
       "<style scoped>\n",
       "    .dataframe tbody tr th:only-of-type {\n",
       "        vertical-align: middle;\n",
       "    }\n",
       "\n",
       "    .dataframe tbody tr th {\n",
       "        vertical-align: top;\n",
       "    }\n",
       "\n",
       "    .dataframe thead th {\n",
       "        text-align: right;\n",
       "    }\n",
       "</style>\n",
       "<table border=\"1\" class=\"dataframe\">\n",
       "  <thead>\n",
       "    <tr style=\"text-align: right;\">\n",
       "      <th></th>\n",
       "      <th>Voyage ID</th>\n",
       "      <th>Vessel name</th>\n",
       "      <th>Voyage itinerary imputed port where began (ptdepimp) place</th>\n",
       "      <th>Voyage itinerary imputed principal place of slave purchase (mjbyptimp)</th>\n",
       "      <th>Voyage itinerary imputed principal port of slave disembarkation (mjslptimp) place</th>\n",
       "      <th>Year of arrival at port of disembarkation</th>\n",
       "      <th>Slaves arrived at 1st port</th>\n",
       "      <th>Captain's name</th>\n",
       "    </tr>\n",
       "  </thead>\n",
       "  <tbody>\n",
       "    <tr>\n",
       "      <th>0</th>\n",
       "      <td>81711</td>\n",
       "      <td>Hannah</td>\n",
       "      <td>Liverpool</td>\n",
       "      <td>Calabar</td>\n",
       "      <td>St. Vincent, port unspecified</td>\n",
       "      <td>1787</td>\n",
       "      <td>390.0</td>\n",
       "      <td>Smith, Bryan</td>\n",
       "    </tr>\n",
       "    <tr>\n",
       "      <th>1</th>\n",
       "      <td>81712</td>\n",
       "      <td>Hannah</td>\n",
       "      <td>Liverpool</td>\n",
       "      <td>New Calabar</td>\n",
       "      <td>Grenada, port unspecified</td>\n",
       "      <td>1789</td>\n",
       "      <td>351.0</td>\n",
       "      <td>Wilson, Charles</td>\n",
       "    </tr>\n",
       "    <tr>\n",
       "      <th>2</th>\n",
       "      <td>81713</td>\n",
       "      <td>Hannah</td>\n",
       "      <td>Liverpool</td>\n",
       "      <td>Bight of Biafra and Gulf of Guinea Islands, po...</td>\n",
       "      <td>Kingston</td>\n",
       "      <td>1789</td>\n",
       "      <td>303.0</td>\n",
       "      <td>Wilson, Charles</td>\n",
       "    </tr>\n",
       "    <tr>\n",
       "      <th>3</th>\n",
       "      <td>81714</td>\n",
       "      <td>Hannah</td>\n",
       "      <td>Liverpool</td>\n",
       "      <td>Bonny</td>\n",
       "      <td>St. Vincent, port unspecified</td>\n",
       "      <td>1791</td>\n",
       "      <td>316.0</td>\n",
       "      <td>Young, William</td>\n",
       "    </tr>\n",
       "    <tr>\n",
       "      <th>4</th>\n",
       "      <td>81715</td>\n",
       "      <td>Hannah</td>\n",
       "      <td>Liverpool</td>\n",
       "      <td>Congo River</td>\n",
       "      <td>Grenada, port unspecified</td>\n",
       "      <td>1792</td>\n",
       "      <td>331.0</td>\n",
       "      <td>Young, William</td>\n",
       "    </tr>\n",
       "  </tbody>\n",
       "</table>\n",
       "</div>"
      ],
      "text/plain": [
       "   Voyage ID Vessel name  ... Slaves arrived at 1st port   Captain's name\n",
       "0      81711      Hannah  ...                      390.0     Smith, Bryan\n",
       "1      81712      Hannah  ...                      351.0  Wilson, Charles\n",
       "2      81713      Hannah  ...                      303.0  Wilson, Charles\n",
       "3      81714      Hannah  ...                      316.0   Young, William\n",
       "4      81715      Hannah  ...                      331.0   Young, William\n",
       "\n",
       "[5 rows x 8 columns]"
      ]
     },
     "execution_count": 5,
     "metadata": {
      "tags": []
     },
     "output_type": "execute_result"
    }
   ],
   "source": [
    "trans_atlc_trade.head()"
   ]
  },
  {
   "cell_type": "code",
   "execution_count": null,
   "metadata": {
    "colab": {
     "base_uri": "https://localhost:8080/",
     "height": 288
    },
    "colab_type": "code",
    "id": "WVD4aPJbHldP",
    "outputId": "cf38a51d-3bf1-43fe-8523-dcaa8fb96091"
   },
   "outputs": [
    {
     "data": {
      "text/html": [
       "<div>\n",
       "<style scoped>\n",
       "    .dataframe tbody tr th:only-of-type {\n",
       "        vertical-align: middle;\n",
       "    }\n",
       "\n",
       "    .dataframe tbody tr th {\n",
       "        vertical-align: top;\n",
       "    }\n",
       "\n",
       "    .dataframe thead th {\n",
       "        text-align: right;\n",
       "    }\n",
       "</style>\n",
       "<table border=\"1\" class=\"dataframe\">\n",
       "  <thead>\n",
       "    <tr style=\"text-align: right;\">\n",
       "      <th></th>\n",
       "      <th>Voyage ID</th>\n",
       "      <th>Vessel name</th>\n",
       "      <th>Voyage itinerary imputed port where began (ptdepimp) place</th>\n",
       "      <th>Voyage itinerary imputed principal place of slave purchase (mjbyptimp)</th>\n",
       "      <th>Voyage itinerary imputed principal port of slave disembarkation (mjslptimp) place</th>\n",
       "      <th>Year of arrival at port of disembarkation</th>\n",
       "      <th>Slaves arrived at 1st port</th>\n",
       "      <th>Captain's name</th>\n",
       "    </tr>\n",
       "  </thead>\n",
       "  <tbody>\n",
       "    <tr>\n",
       "      <th>36105</th>\n",
       "      <td>80358</td>\n",
       "      <td>Ariel</td>\n",
       "      <td>Liverpool</td>\n",
       "      <td>Africa., port unspecified</td>\n",
       "      <td>NaN</td>\n",
       "      <td>1794</td>\n",
       "      <td>NaN</td>\n",
       "      <td>Young</td>\n",
       "    </tr>\n",
       "    <tr>\n",
       "      <th>36106</th>\n",
       "      <td>81265</td>\n",
       "      <td>Ellis</td>\n",
       "      <td>Liverpool</td>\n",
       "      <td>Bance Island (Ben's Island)</td>\n",
       "      <td>Suriname</td>\n",
       "      <td>1802</td>\n",
       "      <td>263.0</td>\n",
       "      <td>Soutar, James</td>\n",
       "    </tr>\n",
       "    <tr>\n",
       "      <th>36107</th>\n",
       "      <td>81266</td>\n",
       "      <td>Ellis</td>\n",
       "      <td>Liverpool</td>\n",
       "      <td>West Central Africa and St. Helena, port unspe...</td>\n",
       "      <td>Suriname</td>\n",
       "      <td>1805</td>\n",
       "      <td>303.0</td>\n",
       "      <td>Roach, John</td>\n",
       "    </tr>\n",
       "    <tr>\n",
       "      <th>36108</th>\n",
       "      <td>83426</td>\n",
       "      <td>Royal Edward</td>\n",
       "      <td>Liverpool</td>\n",
       "      <td>Bonny</td>\n",
       "      <td>Kingston</td>\n",
       "      <td>1800</td>\n",
       "      <td>396.0</td>\n",
       "      <td>Bushell, Thomas</td>\n",
       "    </tr>\n",
       "    <tr>\n",
       "      <th>36109</th>\n",
       "      <td>83427</td>\n",
       "      <td>Royal Edward</td>\n",
       "      <td>Liverpool</td>\n",
       "      <td>Calabar</td>\n",
       "      <td>St. Croix</td>\n",
       "      <td>1802</td>\n",
       "      <td>280.0</td>\n",
       "      <td>Griffiths, John</td>\n",
       "    </tr>\n",
       "  </tbody>\n",
       "</table>\n",
       "</div>"
      ],
      "text/plain": [
       "       Voyage ID   Vessel name  ... Slaves arrived at 1st port   Captain's name\n",
       "36105      80358         Ariel  ...                        NaN            Young\n",
       "36106      81265         Ellis  ...                      263.0    Soutar, James\n",
       "36107      81266         Ellis  ...                      303.0      Roach, John\n",
       "36108      83426  Royal Edward  ...                      396.0  Bushell, Thomas\n",
       "36109      83427  Royal Edward  ...                      280.0  Griffiths, John\n",
       "\n",
       "[5 rows x 8 columns]"
      ]
     },
     "execution_count": 6,
     "metadata": {
      "tags": []
     },
     "output_type": "execute_result"
    }
   ],
   "source": [
    "trans_atlc_trade.tail()"
   ]
  },
  {
   "cell_type": "markdown",
   "metadata": {
    "colab_type": "text",
    "id": "FFqqKsABeT7y"
   },
   "source": [
    "#### info()\n",
    "This will return all of the column names and its types. This function is useful to get the idea of what the dataframe is like.\n"
   ]
  },
  {
   "cell_type": "code",
   "execution_count": null,
   "metadata": {
    "colab": {
     "base_uri": "https://localhost:8080/",
     "height": 261
    },
    "colab_type": "code",
    "id": "wxqUmTFdfkCi",
    "outputId": "e1d62adb-c7bb-4191-9066-791382f1bff5"
   },
   "outputs": [
    {
     "name": "stdout",
     "output_type": "stream",
     "text": [
      "<class 'pandas.core.frame.DataFrame'>\n",
      "RangeIndex: 36110 entries, 0 to 36109\n",
      "Data columns (total 8 columns):\n",
      " #   Column                                                                             Non-Null Count  Dtype  \n",
      "---  ------                                                                             --------------  -----  \n",
      " 0   Voyage ID                                                                          36110 non-null  int64  \n",
      " 1   Vessel name                                                                        36108 non-null  object \n",
      " 2   Voyage itinerary imputed port where began (ptdepimp) place                         31646 non-null  object \n",
      " 3   Voyage itinerary imputed principal place of slave purchase (mjbyptimp)             34420 non-null  object \n",
      " 4   Voyage itinerary imputed principal port of slave disembarkation (mjslptimp) place  31846 non-null  object \n",
      " 5   Year of arrival at port of disembarkation                                          36110 non-null  int64  \n",
      " 6   Slaves arrived at 1st port                                                         18364 non-null  float64\n",
      " 7   Captain's name                                                                     32054 non-null  object \n",
      "dtypes: float64(1), int64(2), object(5)\n",
      "memory usage: 2.2+ MB\n"
     ]
    }
   ],
   "source": [
    "trans_atlc_trade.info()"
   ]
  },
  {
   "cell_type": "markdown",
   "metadata": {
    "colab_type": "text",
    "id": "Ilf3rsfmBiLw"
   },
   "source": [
    "### Observations:\n",
    "\n",
    "#### Question:\n",
    "List down the number of unique ```Dtype``` in this dataset\n",
    "#### Answer: \n",
    "\n",
    "#### Question:\n",
    "Is the dataset uneven? If so list down the column with the most missing rows?\n",
    "#### Answer:"
   ]
  },
  {
   "cell_type": "markdown",
   "metadata": {
    "colab_type": "text",
    "id": "IhviGetnfp9B"
   },
   "source": [
    "#### describe()\n",
    "describe() is used to view summary statistics of numeric columns. This will help you to have general idea of the dataset."
   ]
  },
  {
   "cell_type": "code",
   "execution_count": null,
   "metadata": {
    "colab": {
     "base_uri": "https://localhost:8080/",
     "height": 277
    },
    "colab_type": "code",
    "id": "DuDPOCZ9frBI",
    "outputId": "8ab7b631-cc33-45f2-de42-5e58f255b497"
   },
   "outputs": [
    {
     "data": {
      "text/html": [
       "<div>\n",
       "<style scoped>\n",
       "    .dataframe tbody tr th:only-of-type {\n",
       "        vertical-align: middle;\n",
       "    }\n",
       "\n",
       "    .dataframe tbody tr th {\n",
       "        vertical-align: top;\n",
       "    }\n",
       "\n",
       "    .dataframe thead th {\n",
       "        text-align: right;\n",
       "    }\n",
       "</style>\n",
       "<table border=\"1\" class=\"dataframe\">\n",
       "  <thead>\n",
       "    <tr style=\"text-align: right;\">\n",
       "      <th></th>\n",
       "      <th>Voyage ID</th>\n",
       "      <th>Year of arrival at port of disembarkation</th>\n",
       "      <th>Slaves arrived at 1st port</th>\n",
       "    </tr>\n",
       "  </thead>\n",
       "  <tbody>\n",
       "    <tr>\n",
       "      <th>count</th>\n",
       "      <td>36110.000000</td>\n",
       "      <td>36110.000000</td>\n",
       "      <td>18364.000000</td>\n",
       "    </tr>\n",
       "    <tr>\n",
       "      <th>mean</th>\n",
       "      <td>42861.336278</td>\n",
       "      <td>1764.321878</td>\n",
       "      <td>275.718743</td>\n",
       "    </tr>\n",
       "    <tr>\n",
       "      <th>std</th>\n",
       "      <td>72705.501393</td>\n",
       "      <td>59.470974</td>\n",
       "      <td>159.102320</td>\n",
       "    </tr>\n",
       "    <tr>\n",
       "      <th>min</th>\n",
       "      <td>1.000000</td>\n",
       "      <td>1514.000000</td>\n",
       "      <td>0.000000</td>\n",
       "    </tr>\n",
       "    <tr>\n",
       "      <th>25%</th>\n",
       "      <td>16135.250000</td>\n",
       "      <td>1732.000000</td>\n",
       "      <td>157.000000</td>\n",
       "    </tr>\n",
       "    <tr>\n",
       "      <th>50%</th>\n",
       "      <td>32540.500000</td>\n",
       "      <td>1773.000000</td>\n",
       "      <td>253.000000</td>\n",
       "    </tr>\n",
       "    <tr>\n",
       "      <th>75%</th>\n",
       "      <td>50322.750000</td>\n",
       "      <td>1806.000000</td>\n",
       "      <td>370.250000</td>\n",
       "    </tr>\n",
       "    <tr>\n",
       "      <th>max</th>\n",
       "      <td>900237.000000</td>\n",
       "      <td>1866.000000</td>\n",
       "      <td>1700.000000</td>\n",
       "    </tr>\n",
       "  </tbody>\n",
       "</table>\n",
       "</div>"
      ],
      "text/plain": [
       "           Voyage ID  ...  Slaves arrived at 1st port\n",
       "count   36110.000000  ...                18364.000000\n",
       "mean    42861.336278  ...                  275.718743\n",
       "std     72705.501393  ...                  159.102320\n",
       "min         1.000000  ...                    0.000000\n",
       "25%     16135.250000  ...                  157.000000\n",
       "50%     32540.500000  ...                  253.000000\n",
       "75%     50322.750000  ...                  370.250000\n",
       "max    900237.000000  ...                 1700.000000\n",
       "\n",
       "[8 rows x 3 columns]"
      ]
     },
     "execution_count": 8,
     "metadata": {
      "tags": []
     },
     "output_type": "execute_result"
    }
   ],
   "source": [
    "trans_atlc_trade._____() # Insert code here"
   ]
  },
  {
   "cell_type": "markdown",
   "metadata": {
    "colab_type": "text",
    "id": "oEEj1jeGAlhU"
   },
   "source": [
    "### Observations:\n",
    "\n",
    "#### Question:\n",
    "Why is ```describe``` showing only 3 columns?Is it because of their types e.g(int,float,object)**?\n",
    "#### Answer: \n",
    "\n",
    "#### Question:\n",
    "What could be reason for the counts not being the same?\n",
    "#### Answer:\n",
    "\n",
    "#### Question:\n",
    "Are the mean, standard deviation,..., max. important for Voyage ID?\n",
    "#### Answer:\n"
   ]
  },
  {
   "cell_type": "markdown",
   "metadata": {
    "colab_type": "text",
    "id": "nwuNo5o2fzGe"
   },
   "source": [
    "#### shape\n",
    "To see the size of the dataset, we can use shape function, which returns the number of rows and columns in a format of (#rows, #columns)"
   ]
  },
  {
   "cell_type": "code",
   "execution_count": null,
   "metadata": {
    "colab": {
     "base_uri": "https://localhost:8080/",
     "height": 33
    },
    "colab_type": "code",
    "id": "fIhERH7KHldk",
    "outputId": "ced28c67-2b45-4b9c-8f3d-55b22347dc3c"
   },
   "outputs": [
    {
     "data": {
      "text/plain": [
       "(36110, 8)"
      ]
     },
     "execution_count": 9,
     "metadata": {
      "tags": []
     },
     "output_type": "execute_result"
    }
   ],
   "source": [
    "trans_atlc_trade.shape"
   ]
  },
  {
   "cell_type": "markdown",
   "metadata": {
    "colab_type": "text",
    "id": "aOi3ah9yDI-T"
   },
   "source": [
    "### Observations:\n",
    "\n",
    "#### Question:\n",
    "How many **rows** and **columns** are there?\n",
    "#### Answer:"
   ]
  },
  {
   "cell_type": "markdown",
   "metadata": {
    "colab_type": "text",
    "id": "AeidaHn6Hldo"
   },
   "source": [
    "### Important Facts About the Dataset"
   ]
  },
  {
   "cell_type": "markdown",
   "metadata": {
    "colab_type": "text",
    "id": "XIFbkyfIDinJ"
   },
   "source": [
    "The next thing we want to do is count the number of trips that have been unaccounted for. We'll know this by observing the ```Slaves arrived at 1st port``` This is simple, all we have to do is run two functions:\n",
    "- First one will be to check if the column has null values, ```isna()```.\n",
    "- Second one will be count the number of null values in the column, ```count()```."
   ]
  },
  {
   "cell_type": "code",
   "execution_count": null,
   "metadata": {
    "colab": {
     "base_uri": "https://localhost:8080/",
     "height": 33
    },
    "colab_type": "code",
    "id": "lKl32c6JHldo",
    "outputId": "60085c32-9813-4640-a655-854d8778f152"
   },
   "outputs": [
    {
     "name": "stdout",
     "output_type": "stream",
     "text": [
      "The total number of unaccounted trips is:  17746\n"
     ]
    }
   ],
   "source": [
    "Unaccounted_trips = trans_atlc_trade['Slaves arrived at 1st port'].____()._____()   # Insert Code Here\n",
    "print(f'The total number of unaccounted trips is:  {Unaccounted_trips}')\n"
   ]
  },
  {
   "cell_type": "markdown",
   "metadata": {
    "colab_type": "text",
    "id": "2JPDPjr-EI60"
   },
   "source": [
    "\n",
    "**What about the total of slaves accounted for?** </br>\n",
    "In the following line of code, we will have to ```sum``` the the total number of slaves in every column."
   ]
  },
  {
   "cell_type": "code",
   "execution_count": null,
   "metadata": {
    "colab": {
     "base_uri": "https://localhost:8080/",
     "height": 33
    },
    "colab_type": "code",
    "id": "v_Gai5XEHlds",
    "outputId": "a5f405bf-5885-452c-f983-f3eb7be2aa71",
    "scrolled": true
   },
   "outputs": [
    {
     "name": "stdout",
     "output_type": "stream",
     "text": [
      "The total number of slaves accounted for are: 5063299.0\n"
     ]
    }
   ],
   "source": [
    "number_of_slaves_accounted = trans_atlc_trade['Slaves arrived at 1st port'].___()    # Insert code here\n",
    "print(f'The total number of slaves accounted for are: {number_of_slaves_accounted}')"
   ]
  },
  {
   "cell_type": "markdown",
   "metadata": {
    "colab_type": "text",
    "id": "bYuDgHKIHldv"
   },
   "source": [
    "Historical Estimates suggest that the total number of slave traded are estimated to be ~12.5 Million. This means that according to this dataset:"
   ]
  },
  {
   "cell_type": "code",
   "execution_count": null,
   "metadata": {
    "colab": {},
    "colab_type": "code",
    "id": "xyymyjbgEduN"
   },
   "outputs": [],
   "source": [
    "possible_unaccounted_slaves = 1250000 - number_of_slaves_accounted \n",
    "possible_unaccounted_slaves "
   ]
  },
  {
   "cell_type": "markdown",
   "metadata": {
    "colab_type": "text",
    "id": "heW7wau-Hldv"
   },
   "source": [
    "### Visualize Year of Arrival vs Number of Slaves arrived"
   ]
  },
  {
   "cell_type": "code",
   "execution_count": null,
   "metadata": {
    "colab": {},
    "colab_type": "code",
    "id": "w6jM7tXrHldw"
   },
   "outputs": [],
   "source": [
    "import matplotlib.pyplot as plt"
   ]
  },
  {
   "cell_type": "code",
   "execution_count": null,
   "metadata": {
    "colab": {
     "base_uri": "https://localhost:8080/",
     "height": 612
    },
    "colab_type": "code",
    "id": "RZf2AqqGXhop",
    "outputId": "94475e9e-340c-40f7-d5f6-76fc52f67772"
   },
   "outputs": [
    {
     "data": {
      "text/plain": [
       "<matplotlib.axes._subplots.AxesSubplot at 0x7f1b7ef74c88>"
      ]
     },
     "execution_count": 13,
     "metadata": {
      "tags": []
     },
     "output_type": "execute_result"
    },
    {
     "data": {
      "image/png": "[encoded data removed]",
      "text/plain": [
       "<Figure size 1440x720 with 2 Axes>"
      ]
     },
     "metadata": {
      "needs_background": "light",
      "tags": []
     },
     "output_type": "display_data"
    }
   ],
   "source": [
    "trans_atlc_trade.plot(x = 'Year of arrival at port of disembarkation',\n",
    "        y = 'Slaves arrived at 1st port',\n",
    "        kind = 'scatter',\n",
    "        c = 'Slaves arrived at 1st port',\n",
    "        title = 'Year of arrival at port of disembarkation vs Slaves arrived at 1st port',\n",
    "        alpha = 0.3,cmap = plt.get_cmap('ocean'),\n",
    "        colorbar = True,\n",
    "        figsize = (20,10)\n",
    "       )"
   ]
  },
  {
   "cell_type": "markdown",
   "metadata": {
    "colab_type": "text",
    "id": "nIFt7KCZHld-"
   },
   "source": [
    "## Part 2 - Getting Started with Data Wrangling"
   ]
  },
  {
   "cell_type": "markdown",
   "metadata": {
    "colab_type": "text",
    "id": "_JW6MwRSFF3B"
   },
   "source": [
    "Now that we have observed the basic features of our dataset raw, we will began cleaning it. This involves several steps that you will be working through.\n"
   ]
  },
  {
   "cell_type": "markdown",
   "metadata": {
    "colab_type": "text",
    "id": "NJhawspPHld-"
   },
   "source": [
    "### Create a copy of the Original Dataset"
   ]
  },
  {
   "cell_type": "code",
   "execution_count": 16,
   "metadata": {
    "colab": {},
    "colab_type": "code",
    "id": "HJ6p5GksHld_"
   },
   "outputs": [],
   "source": [
    "df = trans_atlc_trade.copy()"
   ]
  },
  {
   "cell_type": "markdown",
   "metadata": {
    "colab_type": "text",
    "id": "OwXfj9YjHleD"
   },
   "source": [
    "### Changing Column Names\n",
    "\n",
    "For this exercise You will change the names of the previously existing columns to something that is more readable. \n",
    "\n",
    "First list down all the column names.\n"
   ]
  },
  {
   "cell_type": "code",
   "execution_count": 6,
   "metadata": {
    "colab": {
     "base_uri": "https://localhost:8080/",
     "height": 147
    },
    "colab_type": "code",
    "id": "NvhxosPNF5LH",
    "outputId": "8af15cdb-d897-4adf-ea33-74d8fd7304aa"
   },
   "outputs": [
    {
     "data": {
      "text/plain": [
       "['Voyage ID',\n",
       " 'Vessel name',\n",
       " 'Voyage itinerary imputed port where began (ptdepimp) place',\n",
       " 'Voyage itinerary imputed principal place of slave purchase (mjbyptimp) ',\n",
       " 'Voyage itinerary imputed principal port of slave disembarkation (mjslptimp) place',\n",
       " 'Year of arrival at port of disembarkation',\n",
       " 'Slaves arrived at 1st port',\n",
       " \"Captain's name\"]"
      ]
     },
     "execution_count": 6,
     "metadata": {
      "tags": []
     },
     "output_type": "execute_result"
    }
   ],
   "source": [
    "list(df.______) # Insert Code Here"
   ]
  },
  {
   "cell_type": "markdown",
   "metadata": {
    "colab_type": "text",
    "id": "VGt_JOhdM1Rr"
   },
   "source": [
    " ####  Answer\n",
    " ```list(df.columns)````"
   ]
  },
  {
   "cell_type": "markdown",
   "metadata": {
    "colab_type": "text",
    "id": "J4KjruAfIDe2"
   },
   "source": [
    "Next write the names of the columns:\n",
    "\n",
    "The last column name will be tricky to change, this is because it has a ```'``` here. In order to change that right before the ```'``` add a ```\\```."
   ]
  },
  {
   "cell_type": "code",
   "execution_count": null,
   "metadata": {
    "colab": {
     "base_uri": "https://localhost:8080/",
     "height": 391
    },
    "colab_type": "code",
    "id": "aSzOUf_CHleE",
    "outputId": "d0c73dec-a614-4dce-8293-f2ede0c07dba"
   },
   "outputs": [
    {
     "data": {
      "text/html": [
       "<div>\n",
       "<style scoped>\n",
       "    .dataframe tbody tr th:only-of-type {\n",
       "        vertical-align: middle;\n",
       "    }\n",
       "\n",
       "    .dataframe tbody tr th {\n",
       "        vertical-align: top;\n",
       "    }\n",
       "\n",
       "    .dataframe thead th {\n",
       "        text-align: right;\n",
       "    }\n",
       "</style>\n",
       "<table border=\"1\" class=\"dataframe\">\n",
       "  <thead>\n",
       "    <tr style=\"text-align: right;\">\n",
       "      <th></th>\n",
       "      <th>voyage_id</th>\n",
       "      <th>vessel_name</th>\n",
       "      <th>voyage_started</th>\n",
       "      <th>voyage_pit_stop</th>\n",
       "      <th>end_port</th>\n",
       "      <th>year_of_arrival</th>\n",
       "      <th>slaves_onboard</th>\n",
       "      <th>captain_names</th>\n",
       "    </tr>\n",
       "  </thead>\n",
       "  <tbody>\n",
       "    <tr>\n",
       "      <th>0</th>\n",
       "      <td>81711</td>\n",
       "      <td>Hannah</td>\n",
       "      <td>Liverpool</td>\n",
       "      <td>Calabar</td>\n",
       "      <td>St. Vincent, port unspecified</td>\n",
       "      <td>1787</td>\n",
       "      <td>390.0</td>\n",
       "      <td>Smith, Bryan</td>\n",
       "    </tr>\n",
       "    <tr>\n",
       "      <th>1</th>\n",
       "      <td>81712</td>\n",
       "      <td>Hannah</td>\n",
       "      <td>Liverpool</td>\n",
       "      <td>New Calabar</td>\n",
       "      <td>Grenada, port unspecified</td>\n",
       "      <td>1789</td>\n",
       "      <td>351.0</td>\n",
       "      <td>Wilson, Charles</td>\n",
       "    </tr>\n",
       "    <tr>\n",
       "      <th>2</th>\n",
       "      <td>81713</td>\n",
       "      <td>Hannah</td>\n",
       "      <td>Liverpool</td>\n",
       "      <td>Bight of Biafra and Gulf of Guinea Islands, po...</td>\n",
       "      <td>Kingston</td>\n",
       "      <td>1789</td>\n",
       "      <td>303.0</td>\n",
       "      <td>Wilson, Charles</td>\n",
       "    </tr>\n",
       "    <tr>\n",
       "      <th>3</th>\n",
       "      <td>81714</td>\n",
       "      <td>Hannah</td>\n",
       "      <td>Liverpool</td>\n",
       "      <td>Bonny</td>\n",
       "      <td>St. Vincent, port unspecified</td>\n",
       "      <td>1791</td>\n",
       "      <td>316.0</td>\n",
       "      <td>Young, William</td>\n",
       "    </tr>\n",
       "    <tr>\n",
       "      <th>4</th>\n",
       "      <td>81715</td>\n",
       "      <td>Hannah</td>\n",
       "      <td>Liverpool</td>\n",
       "      <td>Congo River</td>\n",
       "      <td>Grenada, port unspecified</td>\n",
       "      <td>1792</td>\n",
       "      <td>331.0</td>\n",
       "      <td>Young, William</td>\n",
       "    </tr>\n",
       "    <tr>\n",
       "      <th>...</th>\n",
       "      <td>...</td>\n",
       "      <td>...</td>\n",
       "      <td>...</td>\n",
       "      <td>...</td>\n",
       "      <td>...</td>\n",
       "      <td>...</td>\n",
       "      <td>...</td>\n",
       "      <td>...</td>\n",
       "    </tr>\n",
       "    <tr>\n",
       "      <th>36105</th>\n",
       "      <td>80358</td>\n",
       "      <td>Ariel</td>\n",
       "      <td>Liverpool</td>\n",
       "      <td>Africa., port unspecified</td>\n",
       "      <td>NaN</td>\n",
       "      <td>1794</td>\n",
       "      <td>NaN</td>\n",
       "      <td>Young</td>\n",
       "    </tr>\n",
       "    <tr>\n",
       "      <th>36106</th>\n",
       "      <td>81265</td>\n",
       "      <td>Ellis</td>\n",
       "      <td>Liverpool</td>\n",
       "      <td>Bance Island (Ben's Island)</td>\n",
       "      <td>Suriname</td>\n",
       "      <td>1802</td>\n",
       "      <td>263.0</td>\n",
       "      <td>Soutar, James</td>\n",
       "    </tr>\n",
       "    <tr>\n",
       "      <th>36107</th>\n",
       "      <td>81266</td>\n",
       "      <td>Ellis</td>\n",
       "      <td>Liverpool</td>\n",
       "      <td>West Central Africa and St. Helena, port unspe...</td>\n",
       "      <td>Suriname</td>\n",
       "      <td>1805</td>\n",
       "      <td>303.0</td>\n",
       "      <td>Roach, John</td>\n",
       "    </tr>\n",
       "    <tr>\n",
       "      <th>36108</th>\n",
       "      <td>83426</td>\n",
       "      <td>Royal Edward</td>\n",
       "      <td>Liverpool</td>\n",
       "      <td>Bonny</td>\n",
       "      <td>Kingston</td>\n",
       "      <td>1800</td>\n",
       "      <td>396.0</td>\n",
       "      <td>Bushell, Thomas</td>\n",
       "    </tr>\n",
       "    <tr>\n",
       "      <th>36109</th>\n",
       "      <td>83427</td>\n",
       "      <td>Royal Edward</td>\n",
       "      <td>Liverpool</td>\n",
       "      <td>Calabar</td>\n",
       "      <td>St. Croix</td>\n",
       "      <td>1802</td>\n",
       "      <td>280.0</td>\n",
       "      <td>Griffiths, John</td>\n",
       "    </tr>\n",
       "  </tbody>\n",
       "</table>\n",
       "<p>36110 rows × 8 columns</p>\n",
       "</div>"
      ],
      "text/plain": [
       "       voyage_id   vessel_name  ... slaves_onboard    captain_names\n",
       "0          81711        Hannah  ...          390.0     Smith, Bryan\n",
       "1          81712        Hannah  ...          351.0  Wilson, Charles\n",
       "2          81713        Hannah  ...          303.0  Wilson, Charles\n",
       "3          81714        Hannah  ...          316.0   Young, William\n",
       "4          81715        Hannah  ...          331.0   Young, William\n",
       "...          ...           ...  ...            ...              ...\n",
       "36105      80358         Ariel  ...            NaN            Young\n",
       "36106      81265         Ellis  ...          263.0    Soutar, James\n",
       "36107      81266         Ellis  ...          303.0      Roach, John\n",
       "36108      83426  Royal Edward  ...          396.0  Bushell, Thomas\n",
       "36109      83427  Royal Edward  ...          280.0  Griffiths, John\n",
       "\n",
       "[36110 rows x 8 columns]"
      ]
     },
     "execution_count": 16,
     "metadata": {
      "tags": []
     },
     "output_type": "execute_result"
    }
   ],
   "source": [
    "df = df.rename(\n",
    "    columns={'COLUMN_NAME_HERE': 'voyage_id',                       # Insert Column Name you want to change\n",
    "        'COLUMN_NAME_HERE': 'vessel_name',                          # Insert Column Name you want to change\n",
    "                           'COLUMN_NAME_HERE': 'voyage_started',    # Insert Column Name you want to change\n",
    "                           'COLUMN_NAME_HERE': 'voyage_pit_stop',   # Insert Column Name you want to change\n",
    "                           'COLUMN_NAME_HERE': 'end_port',          # Insert Column Name you want to change\n",
    "                           'COLUMN_NAME_HERE':'year_of_arrival',    # Insert Column Name you want to change\n",
    "                           'COLUMN_NAME_HERE':'slaves_onboard',     # Insert Column Name you want to change\n",
    "                            'COLUMN_NAME_HERE' : 'captain_names'    # Insert Column Name you want to change\n",
    "            })\n",
    "\n",
    "\n",
    "df"
   ]
  },
  {
   "cell_type": "markdown",
   "metadata": {
    "colab_type": "text",
    "id": "IzdNGYYxMxRK"
   },
   "source": [
    "```df = df.rename(\n",
    "    columns={'Voyage ID': 'voyage_id',                      \n",
    "        'Vessel name': 'vessel_name',                          \n",
    "        'Voyage itinerary imputed port where began (ptdepimp) place': 'voyage_started',    \n",
    "        'Voyage itinerary imputed principal place of slave purchase (mjbyptimp) ': 'voyage_pit_stop',   \n",
    "        'Voyage itinerary imputed principal port of slave disembarkation (mjslptimp) place': 'end_port',          \n",
    "        'Year of arrival at port of disembarkation':'year_of_arrival',    \n",
    "        'Slaves arrived at 1st port':'slaves_onboard', \n",
    "        'Captain\\'s name' : 'captain_names'   \n",
    "            })\n",
    "df```"
   ]
  },
  {
   "cell_type": "markdown",
   "metadata": {
    "colab_type": "text",
    "id": "08LYIpGyHleI"
   },
   "source": [
    "### Moving Column Positions - ```df.reindex()```"
   ]
  },
  {
   "cell_type": "markdown",
   "metadata": {
    "colab_type": "text",
    "id": "m6SuvgcJIsfL"
   },
   "source": [
    "Looking at the renames database, In our case we don't want to work with the ```captain_names```. Next we will use ```df.reindex()``` to change two things:\n",
    "1. The order of our columns\n",
    "2. Remove slaves onboard\n",
    "\n",
    "You can see below a list below which has the ```column_names``` in the order we want and is without ```captains_name```.\n",
    "\n"
   ]
  },
  {
   "cell_type": "code",
   "execution_count": 20,
   "metadata": {
    "colab": {
     "base_uri": "https://localhost:8080/",
     "height": 391
    },
    "colab_type": "code",
    "id": "B0p8g8M6HleJ",
    "outputId": "60183b4f-7170-4a56-9102-0823b20bc666"
   },
   "outputs": [
    {
     "data": {
      "text/html": [
       "<div>\n",
       "<style scoped>\n",
       "    .dataframe tbody tr th:only-of-type {\n",
       "        vertical-align: middle;\n",
       "    }\n",
       "\n",
       "    .dataframe tbody tr th {\n",
       "        vertical-align: top;\n",
       "    }\n",
       "\n",
       "    .dataframe thead th {\n",
       "        text-align: right;\n",
       "    }\n",
       "</style>\n",
       "<table border=\"1\" class=\"dataframe\">\n",
       "  <thead>\n",
       "    <tr style=\"text-align: right;\">\n",
       "      <th></th>\n",
       "      <th>voyage_id</th>\n",
       "      <th>year_of_arrival</th>\n",
       "      <th>vessel_name</th>\n",
       "      <th>voyage_started</th>\n",
       "      <th>voyage_pit_stop</th>\n",
       "      <th>end_port</th>\n",
       "      <th>slaves_onboard</th>\n",
       "    </tr>\n",
       "  </thead>\n",
       "  <tbody>\n",
       "    <tr>\n",
       "      <th>0</th>\n",
       "      <td>81711</td>\n",
       "      <td>1787</td>\n",
       "      <td>Hannah</td>\n",
       "      <td>Liverpool</td>\n",
       "      <td>Calabar</td>\n",
       "      <td>St. Vincent, port unspecified</td>\n",
       "      <td>390.0</td>\n",
       "    </tr>\n",
       "    <tr>\n",
       "      <th>1</th>\n",
       "      <td>81712</td>\n",
       "      <td>1789</td>\n",
       "      <td>Hannah</td>\n",
       "      <td>Liverpool</td>\n",
       "      <td>New Calabar</td>\n",
       "      <td>Grenada, port unspecified</td>\n",
       "      <td>351.0</td>\n",
       "    </tr>\n",
       "    <tr>\n",
       "      <th>2</th>\n",
       "      <td>81713</td>\n",
       "      <td>1789</td>\n",
       "      <td>Hannah</td>\n",
       "      <td>Liverpool</td>\n",
       "      <td>Bight of Biafra and Gulf of Guinea Islands, po...</td>\n",
       "      <td>Kingston</td>\n",
       "      <td>303.0</td>\n",
       "    </tr>\n",
       "    <tr>\n",
       "      <th>3</th>\n",
       "      <td>81714</td>\n",
       "      <td>1791</td>\n",
       "      <td>Hannah</td>\n",
       "      <td>Liverpool</td>\n",
       "      <td>Bonny</td>\n",
       "      <td>St. Vincent, port unspecified</td>\n",
       "      <td>316.0</td>\n",
       "    </tr>\n",
       "    <tr>\n",
       "      <th>4</th>\n",
       "      <td>81715</td>\n",
       "      <td>1792</td>\n",
       "      <td>Hannah</td>\n",
       "      <td>Liverpool</td>\n",
       "      <td>Congo River</td>\n",
       "      <td>Grenada, port unspecified</td>\n",
       "      <td>331.0</td>\n",
       "    </tr>\n",
       "    <tr>\n",
       "      <th>...</th>\n",
       "      <td>...</td>\n",
       "      <td>...</td>\n",
       "      <td>...</td>\n",
       "      <td>...</td>\n",
       "      <td>...</td>\n",
       "      <td>...</td>\n",
       "      <td>...</td>\n",
       "    </tr>\n",
       "    <tr>\n",
       "      <th>36105</th>\n",
       "      <td>80358</td>\n",
       "      <td>1794</td>\n",
       "      <td>Ariel</td>\n",
       "      <td>Liverpool</td>\n",
       "      <td>Africa., port unspecified</td>\n",
       "      <td>NaN</td>\n",
       "      <td>NaN</td>\n",
       "    </tr>\n",
       "    <tr>\n",
       "      <th>36106</th>\n",
       "      <td>81265</td>\n",
       "      <td>1802</td>\n",
       "      <td>Ellis</td>\n",
       "      <td>Liverpool</td>\n",
       "      <td>Bance Island (Ben's Island)</td>\n",
       "      <td>Suriname</td>\n",
       "      <td>263.0</td>\n",
       "    </tr>\n",
       "    <tr>\n",
       "      <th>36107</th>\n",
       "      <td>81266</td>\n",
       "      <td>1805</td>\n",
       "      <td>Ellis</td>\n",
       "      <td>Liverpool</td>\n",
       "      <td>West Central Africa and St. Helena, port unspe...</td>\n",
       "      <td>Suriname</td>\n",
       "      <td>303.0</td>\n",
       "    </tr>\n",
       "    <tr>\n",
       "      <th>36108</th>\n",
       "      <td>83426</td>\n",
       "      <td>1800</td>\n",
       "      <td>Royal Edward</td>\n",
       "      <td>Liverpool</td>\n",
       "      <td>Bonny</td>\n",
       "      <td>Kingston</td>\n",
       "      <td>396.0</td>\n",
       "    </tr>\n",
       "    <tr>\n",
       "      <th>36109</th>\n",
       "      <td>83427</td>\n",
       "      <td>1802</td>\n",
       "      <td>Royal Edward</td>\n",
       "      <td>Liverpool</td>\n",
       "      <td>Calabar</td>\n",
       "      <td>St. Croix</td>\n",
       "      <td>280.0</td>\n",
       "    </tr>\n",
       "  </tbody>\n",
       "</table>\n",
       "<p>36110 rows × 7 columns</p>\n",
       "</div>"
      ],
      "text/plain": [
       "       voyage_id  ...  slaves_onboard\n",
       "0          81711  ...           390.0\n",
       "1          81712  ...           351.0\n",
       "2          81713  ...           303.0\n",
       "3          81714  ...           316.0\n",
       "4          81715  ...           331.0\n",
       "...          ...  ...             ...\n",
       "36105      80358  ...             NaN\n",
       "36106      81265  ...           263.0\n",
       "36107      81266  ...           303.0\n",
       "36108      83426  ...           396.0\n",
       "36109      83427  ...           280.0\n",
       "\n",
       "[36110 rows x 7 columns]"
      ]
     },
     "execution_count": 20,
     "metadata": {
      "tags": []
     },
     "output_type": "execute_result"
    }
   ],
   "source": [
    "column_names = ['voyage_id',\"year_of_arrival\",\"vessel_name\", \"voyage_started\",\"voyage_pit_stop\", \"end_port\",\"slaves_onboard\"]\n",
    "\n",
    "df = df.reindex(columns=________) # Insert Code here\n",
    "\n",
    "df"
   ]
  },
  {
   "cell_type": "markdown",
   "metadata": {
    "colab_type": "text",
    "id": "ntPaIXNyM4jS"
   },
   "source": [
    "#### Answer\n",
    "```df = df.reindex(columns=column_names)```"
   ]
  },
  {
   "cell_type": "markdown",
   "metadata": {
    "colab_type": "text",
    "id": "MfhTG28pHleN"
   },
   "source": [
    "**Questions**\n",
    "\n",
    "**Is Voyage ID a good index and do we need it as a column?**\n",
    "\n",
    "No, But we need an index.\n",
    "\n",
    "**Can 'year_of_arrival' be an Index?**\n",
    "\n",
    "No, because there are repeating dates in the charts, there for we need a simple log counter.\n",
    "\n"
   ]
  },
  {
   "cell_type": "markdown",
   "metadata": {
    "colab_type": "text",
    "id": "qOYcbFRwHleN"
   },
   "source": [
    "### Remove Voyage ID -```df.drop()```"
   ]
  },
  {
   "cell_type": "markdown",
   "metadata": {
    "colab_type": "text",
    "id": "uocghp2yHleO"
   },
   "source": [
    "Now that we have a new index from 0 to 15299.\n",
    "\n",
    "Do we need ```Voyage ID```. I don't think so, because it doesn't help us find anything useful. Every Voyage ID is unique."
   ]
  },
  {
   "cell_type": "code",
   "execution_count": 21,
   "metadata": {
    "colab": {
     "base_uri": "https://localhost:8080/",
     "height": 391
    },
    "colab_type": "code",
    "id": "90MwAELVHleO",
    "outputId": "f9cb9418-3fb9-4c5b-9c9f-628544f730df"
   },
   "outputs": [
    {
     "data": {
      "text/html": [
       "<div>\n",
       "<style scoped>\n",
       "    .dataframe tbody tr th:only-of-type {\n",
       "        vertical-align: middle;\n",
       "    }\n",
       "\n",
       "    .dataframe tbody tr th {\n",
       "        vertical-align: top;\n",
       "    }\n",
       "\n",
       "    .dataframe thead th {\n",
       "        text-align: right;\n",
       "    }\n",
       "</style>\n",
       "<table border=\"1\" class=\"dataframe\">\n",
       "  <thead>\n",
       "    <tr style=\"text-align: right;\">\n",
       "      <th></th>\n",
       "      <th>year_of_arrival</th>\n",
       "      <th>vessel_name</th>\n",
       "      <th>voyage_started</th>\n",
       "      <th>voyage_pit_stop</th>\n",
       "      <th>end_port</th>\n",
       "      <th>slaves_onboard</th>\n",
       "    </tr>\n",
       "  </thead>\n",
       "  <tbody>\n",
       "    <tr>\n",
       "      <th>0</th>\n",
       "      <td>1787</td>\n",
       "      <td>Hannah</td>\n",
       "      <td>Liverpool</td>\n",
       "      <td>Calabar</td>\n",
       "      <td>St. Vincent, port unspecified</td>\n",
       "      <td>390.0</td>\n",
       "    </tr>\n",
       "    <tr>\n",
       "      <th>1</th>\n",
       "      <td>1789</td>\n",
       "      <td>Hannah</td>\n",
       "      <td>Liverpool</td>\n",
       "      <td>New Calabar</td>\n",
       "      <td>Grenada, port unspecified</td>\n",
       "      <td>351.0</td>\n",
       "    </tr>\n",
       "    <tr>\n",
       "      <th>2</th>\n",
       "      <td>1789</td>\n",
       "      <td>Hannah</td>\n",
       "      <td>Liverpool</td>\n",
       "      <td>Bight of Biafra and Gulf of Guinea Islands, po...</td>\n",
       "      <td>Kingston</td>\n",
       "      <td>303.0</td>\n",
       "    </tr>\n",
       "    <tr>\n",
       "      <th>3</th>\n",
       "      <td>1791</td>\n",
       "      <td>Hannah</td>\n",
       "      <td>Liverpool</td>\n",
       "      <td>Bonny</td>\n",
       "      <td>St. Vincent, port unspecified</td>\n",
       "      <td>316.0</td>\n",
       "    </tr>\n",
       "    <tr>\n",
       "      <th>4</th>\n",
       "      <td>1792</td>\n",
       "      <td>Hannah</td>\n",
       "      <td>Liverpool</td>\n",
       "      <td>Congo River</td>\n",
       "      <td>Grenada, port unspecified</td>\n",
       "      <td>331.0</td>\n",
       "    </tr>\n",
       "    <tr>\n",
       "      <th>...</th>\n",
       "      <td>...</td>\n",
       "      <td>...</td>\n",
       "      <td>...</td>\n",
       "      <td>...</td>\n",
       "      <td>...</td>\n",
       "      <td>...</td>\n",
       "    </tr>\n",
       "    <tr>\n",
       "      <th>36105</th>\n",
       "      <td>1794</td>\n",
       "      <td>Ariel</td>\n",
       "      <td>Liverpool</td>\n",
       "      <td>Africa., port unspecified</td>\n",
       "      <td>NaN</td>\n",
       "      <td>NaN</td>\n",
       "    </tr>\n",
       "    <tr>\n",
       "      <th>36106</th>\n",
       "      <td>1802</td>\n",
       "      <td>Ellis</td>\n",
       "      <td>Liverpool</td>\n",
       "      <td>Bance Island (Ben's Island)</td>\n",
       "      <td>Suriname</td>\n",
       "      <td>263.0</td>\n",
       "    </tr>\n",
       "    <tr>\n",
       "      <th>36107</th>\n",
       "      <td>1805</td>\n",
       "      <td>Ellis</td>\n",
       "      <td>Liverpool</td>\n",
       "      <td>West Central Africa and St. Helena, port unspe...</td>\n",
       "      <td>Suriname</td>\n",
       "      <td>303.0</td>\n",
       "    </tr>\n",
       "    <tr>\n",
       "      <th>36108</th>\n",
       "      <td>1800</td>\n",
       "      <td>Royal Edward</td>\n",
       "      <td>Liverpool</td>\n",
       "      <td>Bonny</td>\n",
       "      <td>Kingston</td>\n",
       "      <td>396.0</td>\n",
       "    </tr>\n",
       "    <tr>\n",
       "      <th>36109</th>\n",
       "      <td>1802</td>\n",
       "      <td>Royal Edward</td>\n",
       "      <td>Liverpool</td>\n",
       "      <td>Calabar</td>\n",
       "      <td>St. Croix</td>\n",
       "      <td>280.0</td>\n",
       "    </tr>\n",
       "  </tbody>\n",
       "</table>\n",
       "<p>36110 rows × 6 columns</p>\n",
       "</div>"
      ],
      "text/plain": [
       "       year_of_arrival  ... slaves_onboard\n",
       "0                 1787  ...          390.0\n",
       "1                 1789  ...          351.0\n",
       "2                 1789  ...          303.0\n",
       "3                 1791  ...          316.0\n",
       "4                 1792  ...          331.0\n",
       "...                ...  ...            ...\n",
       "36105             1794  ...            NaN\n",
       "36106             1802  ...          263.0\n",
       "36107             1805  ...          303.0\n",
       "36108             1800  ...          396.0\n",
       "36109             1802  ...          280.0\n",
       "\n",
       "[36110 rows x 6 columns]"
      ]
     },
     "execution_count": 21,
     "metadata": {
      "tags": []
     },
     "output_type": "execute_result"
    }
   ],
   "source": [
    "df = df.drop(columns='voyage_id') \n",
    "df"
   ]
  },
  {
   "cell_type": "markdown",
   "metadata": {
    "colab_type": "text",
    "id": "d_Ds03fRHleS"
   },
   "source": [
    "### Using ```dropna()```"
   ]
  },
  {
   "cell_type": "markdown",
   "metadata": {
    "colab_type": "text",
    "id": "OB1gdak8HleT"
   },
   "source": [
    "For this data set we will be working with trips that were completely accounted for in all of the remaining features."
   ]
  },
  {
   "cell_type": "code",
   "execution_count": 22,
   "metadata": {
    "colab": {
     "base_uri": "https://localhost:8080/",
     "height": 391
    },
    "colab_type": "code",
    "id": "HUUV6ipxHleT",
    "outputId": "5c332ed1-052f-43bc-f86d-3312abae33e3"
   },
   "outputs": [
    {
     "data": {
      "text/html": [
       "<div>\n",
       "<style scoped>\n",
       "    .dataframe tbody tr th:only-of-type {\n",
       "        vertical-align: middle;\n",
       "    }\n",
       "\n",
       "    .dataframe tbody tr th {\n",
       "        vertical-align: top;\n",
       "    }\n",
       "\n",
       "    .dataframe thead th {\n",
       "        text-align: right;\n",
       "    }\n",
       "</style>\n",
       "<table border=\"1\" class=\"dataframe\">\n",
       "  <thead>\n",
       "    <tr style=\"text-align: right;\">\n",
       "      <th></th>\n",
       "      <th>year_of_arrival</th>\n",
       "      <th>vessel_name</th>\n",
       "      <th>voyage_started</th>\n",
       "      <th>voyage_pit_stop</th>\n",
       "      <th>end_port</th>\n",
       "      <th>slaves_onboard</th>\n",
       "    </tr>\n",
       "  </thead>\n",
       "  <tbody>\n",
       "    <tr>\n",
       "      <th>0</th>\n",
       "      <td>1787</td>\n",
       "      <td>Hannah</td>\n",
       "      <td>Liverpool</td>\n",
       "      <td>Calabar</td>\n",
       "      <td>St. Vincent, port unspecified</td>\n",
       "      <td>390.0</td>\n",
       "    </tr>\n",
       "    <tr>\n",
       "      <th>1</th>\n",
       "      <td>1789</td>\n",
       "      <td>Hannah</td>\n",
       "      <td>Liverpool</td>\n",
       "      <td>New Calabar</td>\n",
       "      <td>Grenada, port unspecified</td>\n",
       "      <td>351.0</td>\n",
       "    </tr>\n",
       "    <tr>\n",
       "      <th>2</th>\n",
       "      <td>1789</td>\n",
       "      <td>Hannah</td>\n",
       "      <td>Liverpool</td>\n",
       "      <td>Bight of Biafra and Gulf of Guinea Islands, po...</td>\n",
       "      <td>Kingston</td>\n",
       "      <td>303.0</td>\n",
       "    </tr>\n",
       "    <tr>\n",
       "      <th>3</th>\n",
       "      <td>1791</td>\n",
       "      <td>Hannah</td>\n",
       "      <td>Liverpool</td>\n",
       "      <td>Bonny</td>\n",
       "      <td>St. Vincent, port unspecified</td>\n",
       "      <td>316.0</td>\n",
       "    </tr>\n",
       "    <tr>\n",
       "      <th>4</th>\n",
       "      <td>1792</td>\n",
       "      <td>Hannah</td>\n",
       "      <td>Liverpool</td>\n",
       "      <td>Congo River</td>\n",
       "      <td>Grenada, port unspecified</td>\n",
       "      <td>331.0</td>\n",
       "    </tr>\n",
       "    <tr>\n",
       "      <th>...</th>\n",
       "      <td>...</td>\n",
       "      <td>...</td>\n",
       "      <td>...</td>\n",
       "      <td>...</td>\n",
       "      <td>...</td>\n",
       "      <td>...</td>\n",
       "    </tr>\n",
       "    <tr>\n",
       "      <th>36103</th>\n",
       "      <td>1768</td>\n",
       "      <td>NS da Conceição S Antônio e S João de R</td>\n",
       "      <td>Bahia, port unspecified</td>\n",
       "      <td>Whydah</td>\n",
       "      <td>Bahia, port unspecified</td>\n",
       "      <td>373.0</td>\n",
       "    </tr>\n",
       "    <tr>\n",
       "      <th>36106</th>\n",
       "      <td>1802</td>\n",
       "      <td>Ellis</td>\n",
       "      <td>Liverpool</td>\n",
       "      <td>Bance Island (Ben's Island)</td>\n",
       "      <td>Suriname</td>\n",
       "      <td>263.0</td>\n",
       "    </tr>\n",
       "    <tr>\n",
       "      <th>36107</th>\n",
       "      <td>1805</td>\n",
       "      <td>Ellis</td>\n",
       "      <td>Liverpool</td>\n",
       "      <td>West Central Africa and St. Helena, port unspe...</td>\n",
       "      <td>Suriname</td>\n",
       "      <td>303.0</td>\n",
       "    </tr>\n",
       "    <tr>\n",
       "      <th>36108</th>\n",
       "      <td>1800</td>\n",
       "      <td>Royal Edward</td>\n",
       "      <td>Liverpool</td>\n",
       "      <td>Bonny</td>\n",
       "      <td>Kingston</td>\n",
       "      <td>396.0</td>\n",
       "    </tr>\n",
       "    <tr>\n",
       "      <th>36109</th>\n",
       "      <td>1802</td>\n",
       "      <td>Royal Edward</td>\n",
       "      <td>Liverpool</td>\n",
       "      <td>Calabar</td>\n",
       "      <td>St. Croix</td>\n",
       "      <td>280.0</td>\n",
       "    </tr>\n",
       "  </tbody>\n",
       "</table>\n",
       "<p>16276 rows × 6 columns</p>\n",
       "</div>"
      ],
      "text/plain": [
       "       year_of_arrival  ... slaves_onboard\n",
       "0                 1787  ...          390.0\n",
       "1                 1789  ...          351.0\n",
       "2                 1789  ...          303.0\n",
       "3                 1791  ...          316.0\n",
       "4                 1792  ...          331.0\n",
       "...                ...  ...            ...\n",
       "36103             1768  ...          373.0\n",
       "36106             1802  ...          263.0\n",
       "36107             1805  ...          303.0\n",
       "36108             1800  ...          396.0\n",
       "36109             1802  ...          280.0\n",
       "\n",
       "[16276 rows x 6 columns]"
      ]
     },
     "execution_count": 22,
     "metadata": {
      "tags": []
     },
     "output_type": "execute_result"
    }
   ],
   "source": [
    "df = df.dropna()\n",
    "df"
   ]
  },
  {
   "cell_type": "code",
   "execution_count": 23,
   "metadata": {
    "colab": {
     "base_uri": "https://localhost:8080/",
     "height": 228
    },
    "colab_type": "code",
    "id": "-8OASxc-HleZ",
    "outputId": "b5f5f483-8212-4cc1-abdf-bb191f080fb5"
   },
   "outputs": [
    {
     "name": "stdout",
     "output_type": "stream",
     "text": [
      "<class 'pandas.core.frame.DataFrame'>\n",
      "Int64Index: 16276 entries, 0 to 36109\n",
      "Data columns (total 6 columns):\n",
      " #   Column           Non-Null Count  Dtype  \n",
      "---  ------           --------------  -----  \n",
      " 0   year_of_arrival  16276 non-null  int64  \n",
      " 1   vessel_name      16276 non-null  object \n",
      " 2   voyage_started   16276 non-null  object \n",
      " 3   voyage_pit_stop  16276 non-null  object \n",
      " 4   end_port         16276 non-null  object \n",
      " 5   slaves_onboard   16276 non-null  float64\n",
      "dtypes: float64(1), int64(1), object(4)\n",
      "memory usage: 890.1+ KB\n"
     ]
    }
   ],
   "source": [
    "df.info()"
   ]
  },
  {
   "cell_type": "markdown",
   "metadata": {
    "colab_type": "text",
    "id": "ju-Bw99zHled"
   },
   "source": [
    "### Changing Column Type and Sorting - ```df.sort_values()```"
   ]
  },
  {
   "cell_type": "code",
   "execution_count": 24,
   "metadata": {
    "colab": {
     "base_uri": "https://localhost:8080/",
     "height": 391
    },
    "colab_type": "code",
    "id": "KCQb6H5uHled",
    "outputId": "be34b8ac-c6d9-4400-b5ed-c7a25791ba84"
   },
   "outputs": [
    {
     "data": {
      "text/html": [
       "<div>\n",
       "<style scoped>\n",
       "    .dataframe tbody tr th:only-of-type {\n",
       "        vertical-align: middle;\n",
       "    }\n",
       "\n",
       "    .dataframe tbody tr th {\n",
       "        vertical-align: top;\n",
       "    }\n",
       "\n",
       "    .dataframe thead th {\n",
       "        text-align: right;\n",
       "    }\n",
       "</style>\n",
       "<table border=\"1\" class=\"dataframe\">\n",
       "  <thead>\n",
       "    <tr style=\"text-align: right;\">\n",
       "      <th></th>\n",
       "      <th>year_of_arrival</th>\n",
       "      <th>vessel_name</th>\n",
       "      <th>voyage_started</th>\n",
       "      <th>voyage_pit_stop</th>\n",
       "      <th>end_port</th>\n",
       "      <th>slaves_onboard</th>\n",
       "    </tr>\n",
       "  </thead>\n",
       "  <tbody>\n",
       "    <tr>\n",
       "      <th>21522</th>\n",
       "      <td>1532</td>\n",
       "      <td>S Antônio</td>\n",
       "      <td>Lisbon</td>\n",
       "      <td>Sao Tome</td>\n",
       "      <td>Spanish Caribbean, unspecified</td>\n",
       "      <td>175.0</td>\n",
       "    </tr>\n",
       "    <tr>\n",
       "      <th>16136</th>\n",
       "      <td>1562</td>\n",
       "      <td>S Nicolás</td>\n",
       "      <td>Cadiz</td>\n",
       "      <td>Cape Verde Islands</td>\n",
       "      <td>Cartagena</td>\n",
       "      <td>202.0</td>\n",
       "    </tr>\n",
       "    <tr>\n",
       "      <th>23076</th>\n",
       "      <td>1565</td>\n",
       "      <td>Swallow</td>\n",
       "      <td>Plymouth</td>\n",
       "      <td>Africa., port unspecified</td>\n",
       "      <td>Spanish Circum-Caribbean,unspecified</td>\n",
       "      <td>93.0</td>\n",
       "    </tr>\n",
       "    <tr>\n",
       "      <th>23073</th>\n",
       "      <td>1565</td>\n",
       "      <td>Jesus of Lubeck</td>\n",
       "      <td>Plymouth</td>\n",
       "      <td>Africa., port unspecified</td>\n",
       "      <td>Spanish Circum-Caribbean,unspecified</td>\n",
       "      <td>92.0</td>\n",
       "    </tr>\n",
       "    <tr>\n",
       "      <th>23074</th>\n",
       "      <td>1565</td>\n",
       "      <td>Salomon</td>\n",
       "      <td>Plymouth</td>\n",
       "      <td>Africa., port unspecified</td>\n",
       "      <td>Spanish Circum-Caribbean,unspecified</td>\n",
       "      <td>92.0</td>\n",
       "    </tr>\n",
       "    <tr>\n",
       "      <th>...</th>\n",
       "      <td>...</td>\n",
       "      <td>...</td>\n",
       "      <td>...</td>\n",
       "      <td>...</td>\n",
       "      <td>...</td>\n",
       "      <td>...</td>\n",
       "    </tr>\n",
       "    <tr>\n",
       "      <th>7673</th>\n",
       "      <td>1863</td>\n",
       "      <td>Marghareta (a) Mariquita</td>\n",
       "      <td>New York</td>\n",
       "      <td>Congo River</td>\n",
       "      <td>St. Helena</td>\n",
       "      <td>459.0</td>\n",
       "    </tr>\n",
       "    <tr>\n",
       "      <th>7825</th>\n",
       "      <td>1863</td>\n",
       "      <td>Cicerón (a) City of Norwich</td>\n",
       "      <td>Cadiz</td>\n",
       "      <td>Whydah</td>\n",
       "      <td>Cuba, port unspecified</td>\n",
       "      <td>960.0</td>\n",
       "    </tr>\n",
       "    <tr>\n",
       "      <th>7674</th>\n",
       "      <td>1863</td>\n",
       "      <td>Haydee</td>\n",
       "      <td>Lisbon</td>\n",
       "      <td>Ambriz</td>\n",
       "      <td>St. Helena</td>\n",
       "      <td>577.0</td>\n",
       "    </tr>\n",
       "    <tr>\n",
       "      <th>7827</th>\n",
       "      <td>1864</td>\n",
       "      <td>Pondichery</td>\n",
       "      <td>Mediterranean coast (France)</td>\n",
       "      <td>Congo River</td>\n",
       "      <td>Cuba, port unspecified</td>\n",
       "      <td>659.0</td>\n",
       "    </tr>\n",
       "    <tr>\n",
       "      <th>7832</th>\n",
       "      <td>1864</td>\n",
       "      <td>Virgen Del Refugio</td>\n",
       "      <td>Cadiz</td>\n",
       "      <td>Benguela</td>\n",
       "      <td>Luanda</td>\n",
       "      <td>3.0</td>\n",
       "    </tr>\n",
       "  </tbody>\n",
       "</table>\n",
       "<p>16276 rows × 6 columns</p>\n",
       "</div>"
      ],
      "text/plain": [
       "       year_of_arrival  ... slaves_onboard\n",
       "21522             1532  ...          175.0\n",
       "16136             1562  ...          202.0\n",
       "23076             1565  ...           93.0\n",
       "23073             1565  ...           92.0\n",
       "23074             1565  ...           92.0\n",
       "...                ...  ...            ...\n",
       "7673              1863  ...          459.0\n",
       "7825              1863  ...          960.0\n",
       "7674              1863  ...          577.0\n",
       "7827              1864  ...          659.0\n",
       "7832              1864  ...            3.0\n",
       "\n",
       "[16276 rows x 6 columns]"
      ]
     },
     "execution_count": 24,
     "metadata": {
      "tags": []
     },
     "output_type": "execute_result"
    }
   ],
   "source": [
    "df = df.sort_values(by='year_of_arrival', ascending=True)\n",
    "df"
   ]
  },
  {
   "cell_type": "markdown",
   "metadata": {
    "colab_type": "text",
    "id": "AMV7309HHleh"
   },
   "source": [
    "#### Reseting Index using ```df.reset_index``` with respect 'year_of_arrival' in Ascending Order. "
   ]
  },
  {
   "cell_type": "code",
   "execution_count": 25,
   "metadata": {
    "colab": {
     "base_uri": "https://localhost:8080/",
     "height": 391
    },
    "colab_type": "code",
    "id": "rEIogWnUHlei",
    "outputId": "fa6f6479-ef90-4f0f-dac8-08d26a189c80"
   },
   "outputs": [
    {
     "data": {
      "text/html": [
       "<div>\n",
       "<style scoped>\n",
       "    .dataframe tbody tr th:only-of-type {\n",
       "        vertical-align: middle;\n",
       "    }\n",
       "\n",
       "    .dataframe tbody tr th {\n",
       "        vertical-align: top;\n",
       "    }\n",
       "\n",
       "    .dataframe thead th {\n",
       "        text-align: right;\n",
       "    }\n",
       "</style>\n",
       "<table border=\"1\" class=\"dataframe\">\n",
       "  <thead>\n",
       "    <tr style=\"text-align: right;\">\n",
       "      <th></th>\n",
       "      <th>year_of_arrival</th>\n",
       "      <th>vessel_name</th>\n",
       "      <th>voyage_started</th>\n",
       "      <th>voyage_pit_stop</th>\n",
       "      <th>end_port</th>\n",
       "      <th>slaves_onboard</th>\n",
       "    </tr>\n",
       "  </thead>\n",
       "  <tbody>\n",
       "    <tr>\n",
       "      <th>0</th>\n",
       "      <td>1532</td>\n",
       "      <td>S Antônio</td>\n",
       "      <td>Lisbon</td>\n",
       "      <td>Sao Tome</td>\n",
       "      <td>Spanish Caribbean, unspecified</td>\n",
       "      <td>175.0</td>\n",
       "    </tr>\n",
       "    <tr>\n",
       "      <th>1</th>\n",
       "      <td>1562</td>\n",
       "      <td>S Nicolás</td>\n",
       "      <td>Cadiz</td>\n",
       "      <td>Cape Verde Islands</td>\n",
       "      <td>Cartagena</td>\n",
       "      <td>202.0</td>\n",
       "    </tr>\n",
       "    <tr>\n",
       "      <th>2</th>\n",
       "      <td>1565</td>\n",
       "      <td>Swallow</td>\n",
       "      <td>Plymouth</td>\n",
       "      <td>Africa., port unspecified</td>\n",
       "      <td>Spanish Circum-Caribbean,unspecified</td>\n",
       "      <td>93.0</td>\n",
       "    </tr>\n",
       "    <tr>\n",
       "      <th>3</th>\n",
       "      <td>1565</td>\n",
       "      <td>Jesus of Lubeck</td>\n",
       "      <td>Plymouth</td>\n",
       "      <td>Africa., port unspecified</td>\n",
       "      <td>Spanish Circum-Caribbean,unspecified</td>\n",
       "      <td>92.0</td>\n",
       "    </tr>\n",
       "    <tr>\n",
       "      <th>4</th>\n",
       "      <td>1565</td>\n",
       "      <td>Salomon</td>\n",
       "      <td>Plymouth</td>\n",
       "      <td>Africa., port unspecified</td>\n",
       "      <td>Spanish Circum-Caribbean,unspecified</td>\n",
       "      <td>92.0</td>\n",
       "    </tr>\n",
       "    <tr>\n",
       "      <th>...</th>\n",
       "      <td>...</td>\n",
       "      <td>...</td>\n",
       "      <td>...</td>\n",
       "      <td>...</td>\n",
       "      <td>...</td>\n",
       "      <td>...</td>\n",
       "    </tr>\n",
       "    <tr>\n",
       "      <th>16271</th>\n",
       "      <td>1863</td>\n",
       "      <td>Marghareta (a) Mariquita</td>\n",
       "      <td>New York</td>\n",
       "      <td>Congo River</td>\n",
       "      <td>St. Helena</td>\n",
       "      <td>459.0</td>\n",
       "    </tr>\n",
       "    <tr>\n",
       "      <th>16272</th>\n",
       "      <td>1863</td>\n",
       "      <td>Cicerón (a) City of Norwich</td>\n",
       "      <td>Cadiz</td>\n",
       "      <td>Whydah</td>\n",
       "      <td>Cuba, port unspecified</td>\n",
       "      <td>960.0</td>\n",
       "    </tr>\n",
       "    <tr>\n",
       "      <th>16273</th>\n",
       "      <td>1863</td>\n",
       "      <td>Haydee</td>\n",
       "      <td>Lisbon</td>\n",
       "      <td>Ambriz</td>\n",
       "      <td>St. Helena</td>\n",
       "      <td>577.0</td>\n",
       "    </tr>\n",
       "    <tr>\n",
       "      <th>16274</th>\n",
       "      <td>1864</td>\n",
       "      <td>Pondichery</td>\n",
       "      <td>Mediterranean coast (France)</td>\n",
       "      <td>Congo River</td>\n",
       "      <td>Cuba, port unspecified</td>\n",
       "      <td>659.0</td>\n",
       "    </tr>\n",
       "    <tr>\n",
       "      <th>16275</th>\n",
       "      <td>1864</td>\n",
       "      <td>Virgen Del Refugio</td>\n",
       "      <td>Cadiz</td>\n",
       "      <td>Benguela</td>\n",
       "      <td>Luanda</td>\n",
       "      <td>3.0</td>\n",
       "    </tr>\n",
       "  </tbody>\n",
       "</table>\n",
       "<p>16276 rows × 6 columns</p>\n",
       "</div>"
      ],
      "text/plain": [
       "       year_of_arrival  ... slaves_onboard\n",
       "0                 1532  ...          175.0\n",
       "1                 1562  ...          202.0\n",
       "2                 1565  ...           93.0\n",
       "3                 1565  ...           92.0\n",
       "4                 1565  ...           92.0\n",
       "...                ...  ...            ...\n",
       "16271             1863  ...          459.0\n",
       "16272             1863  ...          960.0\n",
       "16273             1863  ...          577.0\n",
       "16274             1864  ...          659.0\n",
       "16275             1864  ...            3.0\n",
       "\n",
       "[16276 rows x 6 columns]"
      ]
     },
     "execution_count": 25,
     "metadata": {
      "tags": []
     },
     "output_type": "execute_result"
    }
   ],
   "source": [
    "df.______(inplace=True, drop=True) # Insert Code\n",
    "df"
   ]
  },
  {
   "cell_type": "markdown",
   "metadata": {
    "colab_type": "text",
    "id": "PGKC7PSoNh74"
   },
   "source": [
    "#### Answer:\n",
    "```df.reset_index(inplace=True, drop=True)```"
   ]
  },
  {
   "cell_type": "markdown",
   "metadata": {
    "colab_type": "text",
    "id": "i_4uzK6tHlel"
   },
   "source": [
    "### Finding Unique and similar strings \n",
    "As we can see above our object columns, ```voytage_started```, ```voyage_pit_stop``` and ```end_port``` have phrases ausch as ```., port unspecified```, ```,unspecified```. We need to clean these out.\n",
    "\n",
    "First we wil list down all the unique names in these columns. Next we will sort these in alphabetical order in order to make it easier to observe.\n",
    "\n",
    "```df['column_name].unique()``` and ```df.sort()```"
   ]
  },
  {
   "cell_type": "code",
   "execution_count": 42,
   "metadata": {
    "colab": {
     "base_uri": "https://localhost:8080/",
     "height": 846
    },
    "colab_type": "code",
    "id": "zcZzcYc6Hlel",
    "outputId": "06664784-5b10-4c8d-d508-a095d8867600"
   },
   "outputs": [
    {
     "data": {
      "text/plain": [
       "array(['Africa., port unspecified', 'Amsterdam',\n",
       "       'Antigua, port unspecified', 'Antwerp', 'Azores', 'Bahia Honda',\n",
       "       'Bahia, port unspecified', 'Baltimore',\n",
       "       'Barbados, port unspecified', 'Barcelona', 'Basse Indres',\n",
       "       'Bayonne', 'Belgium, port unspecified', 'Bermuda', 'Bilbao',\n",
       "       'Bissau', 'Bordeaux', 'Boston', 'Brazil, port unspecified',\n",
       "       'Brest', 'Bristol', 'Bristol (RI)',\n",
       "       'British Americas, port unspecified',\n",
       "       'British Caribbean, colony unspecified', 'Brugge', 'Buenos Aires',\n",
       "       'Cabanas', 'Cadiz', 'Camaret', 'Canary Islands', 'Canasi',\n",
       "       'Cape Coast Castle', 'Cape Verde Islands', 'Caracas', 'Cardenas',\n",
       "       'Charleston', 'Chester', 'Colchester', 'Cork', 'Cowes',\n",
       "       'Cuba, port unspecified', 'Danish West Indies, colony unspecified',\n",
       "       'Dartmouth', 'Demerara', 'Dieppe', 'Dominica, port unspecified',\n",
       "       'Dordrecht', 'Dunkerque', 'Emden', 'England, port unspecified',\n",
       "       'Exeter', 'France, port unspecified', 'Georgia, port unspecified',\n",
       "       'Glasgow', 'Goree', 'Goteborg', 'Greenock',\n",
       "       'Grenada, port unspecified', 'Groningen',\n",
       "       'Guadeloupe, port unspecified', 'Guanimar', 'Guernsey',\n",
       "       'Gustavia, St. Barthelemy', 'Hamburg', 'Havana', 'Hellevoetsluis',\n",
       "       'Honfleur', 'Ile de France', 'Jamaica, port unspecified',\n",
       "       'Kingston', 'Kobenhavn', 'La Coruna', 'La Rochelle', 'Lancaster',\n",
       "       'Le Havre', 'Leith', 'Limerick', 'Lisbon', 'Liverpool', 'London',\n",
       "       'Lorient', 'Luanda', 'Lyme', 'Macae', 'Mangaratiba', 'Maranhao',\n",
       "       'Marblehead', 'Marseille', 'Martha Brae',\n",
       "       'Martinique, port unspecified', 'Maryland, port unspecified',\n",
       "       'Matanzas', 'Mediterranean coast (France)', 'Middelburg', 'Mobile',\n",
       "       'Moerdijk', 'Montego Bay', 'Montevideo', 'Montrose',\n",
       "       'Montserrat, port unspecified', 'Morlaix', 'Mozambique', 'Nantes',\n",
       "       'Netherlands, port unspecified', 'Nevis, port unspecified',\n",
       "       'New Bedford', 'New England', 'New London', 'New Orleans',\n",
       "       'New York', 'Newport', 'Norfolk', 'Odessa', 'Oporto', 'Para',\n",
       "       'Paranagua', 'Pernambuco, port unspecified', 'Philadelphia',\n",
       "       'Piscataqua', 'Plymouth', 'Poole', 'Port Louis', 'Port-au-Prince',\n",
       "       'Portsmouth', 'Portsmouth (NH)', 'Portugal, port unspecified',\n",
       "       'Portuguese Guinea', 'Poulton', 'Preston', 'Princes Island',\n",
       "       'Providence', 'Puerto Rico, port unspecified',\n",
       "       'Rhode Island, port unspecified', 'Rio de Janeiro',\n",
       "       'Rio de Janeiro province', 'Rochefort', 'Rotterdam',\n",
       "       'Saint John (Antigua)', 'Saint-Brieuc', 'Saint-Louis',\n",
       "       'Saint-Malo', 'Saint-Nazaire', 'Salem', 'San Lucar',\n",
       "       'Santa Catarina', 'Santander', 'Santiago de Cuba', 'Santos',\n",
       "       'Sao Tome', 'Sao Tome or Princes Island', 'Savannah', 'Sete',\n",
       "       'Setubal', 'Seville', 'Shoreham', 'Sierra Leone, port unspecified',\n",
       "       'Southeast Brazil, port unspecified', 'Spain, port unspecified',\n",
       "       'St. Barthelemy, port unspecified', 'St. Croix',\n",
       "       'St. Kitts, port unspecified', 'St. Thomas', 'Tenerife', 'Texel',\n",
       "       'Tobago, port unspecified', 'Topsham', 'Trinidad de Cuba',\n",
       "       'USA, location unspecified', 'Vannes', 'Vigo',\n",
       "       'Virginia, port unspecified', 'Vitoria', 'Vlissingen', 'Warren',\n",
       "       'Whitehaven', 'Zeeland'], dtype=object)"
      ]
     },
     "execution_count": 42,
     "metadata": {
      "tags": []
     },
     "output_type": "execute_result"
    }
   ],
   "source": [
    "a = df['voyage_started'].unique()\n",
    "a.sort()\n",
    "a"
   ]
  },
  {
   "cell_type": "code",
   "execution_count": 41,
   "metadata": {
    "colab": {
     "base_uri": "https://localhost:8080/",
     "height": 716
    },
    "colab_type": "code",
    "id": "Xo4FXypKHleq",
    "outputId": "d7118c93-2b39-4fea-d9a7-6aaa1aafa048"
   },
   "outputs": [
    {
     "data": {
      "text/plain": [
       "array(['Accra', 'Africa., port unspecified', 'Aghway', 'Alampo',\n",
       "       'Albreda', 'Alecuba', 'Ambona', 'Ambriz', 'Andony', 'Anomabu',\n",
       "       'Apammin', 'Ardra', 'Axim', 'Badagry/Apa', 'Banana Islands',\n",
       "       \"Bance Island (Ben's Island)\", 'Bassa', 'Benguela', 'Benin',\n",
       "       'Bight of Benin, port unspecified',\n",
       "       'Bight of Biafra and Gulf of Guinea Islands, port unspecified',\n",
       "       'Bights', 'Bilbay', 'Bimbia', 'Bissagos', 'Bissau', 'Boary',\n",
       "       'Bonny', 'Bundy', 'Cabinda', 'Cacheu', 'Calabar', 'Cameroons',\n",
       "       'Cameroons River', 'Cap Lopez', 'Cape Coast Castle', 'Cape Lahou',\n",
       "       'Cape Mole', 'Cape Mount (Cape Grand Mount)', 'Cape Verde Islands',\n",
       "       'Casamance', 'Cess', 'Christiansborg', 'Coanza River',\n",
       "       'Congo North', 'Congo River', 'Corisco', 'Costa Leste Occidental',\n",
       "       'Costa da Mina',\n",
       "       'Costa de Africa (mainland coast around S Tome/Principe)',\n",
       "       'Danish Gold Coast', 'Delagoa', 'Dembia', 'Drouin', 'Elmina',\n",
       "       'Epe', 'Eva', 'Formosa', 'Gabon', 'Galam', 'Gallinhas', 'Gambia',\n",
       "       'Gold Coast + Bight of Benin + Bight of Biafra',\n",
       "       'Gold Coast, Fr. definition', 'Gold Coast, port unspecified',\n",
       "       'Goree', 'Grand Bassa', 'Grand Bassam', 'Grand Mesurado',\n",
       "       'Grand Popo', 'Grand Sestos', 'Grenada Point',\n",
       "       'Gulf of Guinea islands', 'Ibo', 'Ife', 'Iles Plantain',\n",
       "       'Iles de Los', 'Inhambane', 'Ivory Coast', 'Jacquin',\n",
       "       'Joal, or Saloum River', 'Keta', 'Kilongo', 'Kilwa', 'Kormantine',\n",
       "       'Lagos, Onim', 'Lay', 'Legas', 'Little Bassa', 'Little Junk',\n",
       "       'Little Popo', 'Loango', 'Lourenco Marques', 'Luanda',\n",
       "       'Madagascar', 'Madeira', 'Malembo', 'Mano', 'Mascarene Islands',\n",
       "       'Mayumba', 'Momboza or Zanzibar', 'Mozambique', 'Mpinda',\n",
       "       'New Calabar', 'Nova Redonda', 'Oere', 'Penido', 'Petit Mesurado',\n",
       "       'Pokesoe (Princes Town)', 'Popo', 'Porto Novo', 'Portudal',\n",
       "       'Portuguese Guinea', 'Princes Island', 'Quaqua', 'Quicombo',\n",
       "       'Quilimane', 'Quirimba', 'Rio Nun', 'Rio Nunez', 'Rio Pongo',\n",
       "       'Rio Zaire', 'River Brass', 'River Kissey', 'River del Rey',\n",
       "       'Saint-Louis', 'Sao Tome', 'Sao Tome or Princes Island',\n",
       "       'Sassandra', 'Scarcies',\n",
       "       'Senegambia and offshore Atlantic, port unspecified',\n",
       "       'Senegambia or Sierra Leone', 'Settra Kru', 'Sherbro',\n",
       "       'Sierra Leone estuary', 'Sierra Leone, port unspecified', 'Sofala',\n",
       "       'Southeast Africa and Indian Ocean islands, port unspecified',\n",
       "       'Soyo', 'St. Paul', 'Sugary (Siekere)', 'Tabou', 'Trade Town',\n",
       "       'West Central Africa and St. Helena, port unspecified', 'Whydah',\n",
       "       'Wiamba', 'Windward + Ivory + Gold + Benin',\n",
       "       'Windward Coast (Nunez - Assini)',\n",
       "       'Windward Coast, port unspecified', 'Zanzibar'], dtype=object)"
      ]
     },
     "execution_count": 41,
     "metadata": {
      "tags": []
     },
     "output_type": "execute_result"
    }
   ],
   "source": [
    "a = df['voyage_pit_stop'].unique()\n",
    "a.sort()\n",
    "a\n"
   ]
  },
  {
   "cell_type": "code",
   "execution_count": 15,
   "metadata": {
    "colab": {
     "base_uri": "https://localhost:8080/",
     "height": 391
    },
    "colab_type": "code",
    "id": "m4mKFIA8Hlex",
    "outputId": "e942a92b-233b-4f57-a954-4b5078958771"
   },
   "outputs": [
    {
     "data": {
      "text/html": [
       "<div>\n",
       "<style scoped>\n",
       "    .dataframe tbody tr th:only-of-type {\n",
       "        vertical-align: middle;\n",
       "    }\n",
       "\n",
       "    .dataframe tbody tr th {\n",
       "        vertical-align: top;\n",
       "    }\n",
       "\n",
       "    .dataframe thead th {\n",
       "        text-align: right;\n",
       "    }\n",
       "</style>\n",
       "<table border=\"1\" class=\"dataframe\">\n",
       "  <thead>\n",
       "    <tr style=\"text-align: right;\">\n",
       "      <th></th>\n",
       "      <th>0</th>\n",
       "    </tr>\n",
       "  </thead>\n",
       "  <tbody>\n",
       "    <tr>\n",
       "      <th>0</th>\n",
       "      <td>St. Vincent, port unspecified</td>\n",
       "    </tr>\n",
       "    <tr>\n",
       "      <th>1</th>\n",
       "      <td>Grenada, port unspecified</td>\n",
       "    </tr>\n",
       "    <tr>\n",
       "      <th>2</th>\n",
       "      <td>Kingston</td>\n",
       "    </tr>\n",
       "    <tr>\n",
       "      <th>3</th>\n",
       "      <td>NaN</td>\n",
       "    </tr>\n",
       "    <tr>\n",
       "      <th>4</th>\n",
       "      <td>Dominica, port unspecified</td>\n",
       "    </tr>\n",
       "    <tr>\n",
       "      <th>...</th>\n",
       "      <td>...</td>\n",
       "    </tr>\n",
       "    <tr>\n",
       "      <th>269</th>\n",
       "      <td>Biloxi</td>\n",
       "    </tr>\n",
       "    <tr>\n",
       "      <th>270</th>\n",
       "      <td>Samana</td>\n",
       "    </tr>\n",
       "    <tr>\n",
       "      <th>271</th>\n",
       "      <td>Le Havre</td>\n",
       "    </tr>\n",
       "    <tr>\n",
       "      <th>272</th>\n",
       "      <td>France, port unspecified</td>\n",
       "    </tr>\n",
       "    <tr>\n",
       "      <th>273</th>\n",
       "      <td>Bissagos</td>\n",
       "    </tr>\n",
       "  </tbody>\n",
       "</table>\n",
       "<p>274 rows × 1 columns</p>\n",
       "</div>"
      ],
      "text/plain": [
       "                                 0\n",
       "0    St. Vincent, port unspecified\n",
       "1        Grenada, port unspecified\n",
       "2                         Kingston\n",
       "3                              NaN\n",
       "4       Dominica, port unspecified\n",
       "..                             ...\n",
       "269                         Biloxi\n",
       "270                         Samana\n",
       "271                       Le Havre\n",
       "272       France, port unspecified\n",
       "273                       Bissagos\n",
       "\n",
       "[274 rows x 1 columns]"
      ]
     },
     "execution_count": 15,
     "metadata": {
      "tags": []
     },
     "output_type": "execute_result"
    }
   ],
   "source": [
    "a = df['Voyage itinerary imputed principal port of slave disembarkation (mjslptimp) place'].unique()\n",
    "#a.sort()\n",
    "a = pd.DataFrame(a)\n",
    "a"
   ]
  },
  {
   "cell_type": "markdown",
   "metadata": {
    "colab_type": "text",
    "id": "zKVGN7_cHle2"
   },
   "source": [
    "### Working with Strings - ```df['column_name'].str.replace()```"
   ]
  },
  {
   "cell_type": "markdown",
   "metadata": {
    "colab_type": "text",
    "id": "SESPapu0UDyS"
   },
   "source": [
    "To replace unwanted parts a string we use the function ```df['columun_name'].str.replace('string to find','string to replace')```. This command looks for the string we have specified and replaces with what we want.\n",
    "\n",
    "For example:\n",
    "If have an entry in the 'voyage_started' column, 'Virginia, port unspecified'. By running the command:\n",
    "```df['voyage_started'].str.replace(', port unspecified', '')```\n",
    "The string will be changed from ''Virginia, port unspecified' to 'Virginia'."
   ]
  },
  {
   "cell_type": "code",
   "execution_count": null,
   "metadata": {
    "colab": {
     "base_uri": "https://localhost:8080/",
     "height": 391
    },
    "colab_type": "code",
    "id": "NPxciPRzHle3",
    "outputId": "8a1a2443-b5da-41af-f8e1-f6097eba3a30"
   },
   "outputs": [
    {
     "data": {
      "text/html": [
       "<div>\n",
       "<style scoped>\n",
       "    .dataframe tbody tr th:only-of-type {\n",
       "        vertical-align: middle;\n",
       "    }\n",
       "\n",
       "    .dataframe tbody tr th {\n",
       "        vertical-align: top;\n",
       "    }\n",
       "\n",
       "    .dataframe thead th {\n",
       "        text-align: right;\n",
       "    }\n",
       "</style>\n",
       "<table border=\"1\" class=\"dataframe\">\n",
       "  <thead>\n",
       "    <tr style=\"text-align: right;\">\n",
       "      <th></th>\n",
       "      <th>year_of_arrival</th>\n",
       "      <th>vessel_name</th>\n",
       "      <th>voyage_started</th>\n",
       "      <th>voyage_pit_stop</th>\n",
       "      <th>end_port</th>\n",
       "      <th>slaves_onboard</th>\n",
       "    </tr>\n",
       "  </thead>\n",
       "  <tbody>\n",
       "    <tr>\n",
       "      <th>0</th>\n",
       "      <td>1532</td>\n",
       "      <td>S Antônio</td>\n",
       "      <td>Lisbon</td>\n",
       "      <td>Sao Tome</td>\n",
       "      <td>Spanish Caribbean</td>\n",
       "      <td>175.0</td>\n",
       "    </tr>\n",
       "    <tr>\n",
       "      <th>1</th>\n",
       "      <td>1562</td>\n",
       "      <td>S Nicolás</td>\n",
       "      <td>Cadiz</td>\n",
       "      <td>Cape Verde Islands</td>\n",
       "      <td>Cartagena</td>\n",
       "      <td>202.0</td>\n",
       "    </tr>\n",
       "    <tr>\n",
       "      <th>2</th>\n",
       "      <td>1565</td>\n",
       "      <td>Swallow</td>\n",
       "      <td>Plymouth</td>\n",
       "      <td>Africa</td>\n",
       "      <td>Spanish Circum-Caribbean</td>\n",
       "      <td>93.0</td>\n",
       "    </tr>\n",
       "    <tr>\n",
       "      <th>3</th>\n",
       "      <td>1565</td>\n",
       "      <td>Jesus of Lubeck</td>\n",
       "      <td>Plymouth</td>\n",
       "      <td>Africa</td>\n",
       "      <td>Spanish Circum-Caribbean</td>\n",
       "      <td>92.0</td>\n",
       "    </tr>\n",
       "    <tr>\n",
       "      <th>4</th>\n",
       "      <td>1565</td>\n",
       "      <td>Salomon</td>\n",
       "      <td>Plymouth</td>\n",
       "      <td>Africa</td>\n",
       "      <td>Spanish Circum-Caribbean</td>\n",
       "      <td>92.0</td>\n",
       "    </tr>\n",
       "    <tr>\n",
       "      <th>...</th>\n",
       "      <td>...</td>\n",
       "      <td>...</td>\n",
       "      <td>...</td>\n",
       "      <td>...</td>\n",
       "      <td>...</td>\n",
       "      <td>...</td>\n",
       "    </tr>\n",
       "    <tr>\n",
       "      <th>16271</th>\n",
       "      <td>1863</td>\n",
       "      <td>Marghareta (a) Mariquita</td>\n",
       "      <td>New York</td>\n",
       "      <td>Congo River</td>\n",
       "      <td>St Helena</td>\n",
       "      <td>459.0</td>\n",
       "    </tr>\n",
       "    <tr>\n",
       "      <th>16272</th>\n",
       "      <td>1863</td>\n",
       "      <td>Cicerón (a) City of Norwich</td>\n",
       "      <td>Cadiz</td>\n",
       "      <td>Whydah</td>\n",
       "      <td>Cuba</td>\n",
       "      <td>960.0</td>\n",
       "    </tr>\n",
       "    <tr>\n",
       "      <th>16273</th>\n",
       "      <td>1863</td>\n",
       "      <td>Haydee</td>\n",
       "      <td>Lisbon</td>\n",
       "      <td>Ambriz</td>\n",
       "      <td>St Helena</td>\n",
       "      <td>577.0</td>\n",
       "    </tr>\n",
       "    <tr>\n",
       "      <th>16274</th>\n",
       "      <td>1864</td>\n",
       "      <td>Pondichery</td>\n",
       "      <td>Mediterranean coast (France)</td>\n",
       "      <td>Congo River</td>\n",
       "      <td>Cuba</td>\n",
       "      <td>659.0</td>\n",
       "    </tr>\n",
       "    <tr>\n",
       "      <th>16275</th>\n",
       "      <td>1864</td>\n",
       "      <td>Virgen Del Refugio</td>\n",
       "      <td>Cadiz</td>\n",
       "      <td>Benguela</td>\n",
       "      <td>Luanda</td>\n",
       "      <td>3.0</td>\n",
       "    </tr>\n",
       "  </tbody>\n",
       "</table>\n",
       "<p>16276 rows × 6 columns</p>\n",
       "</div>"
      ],
      "text/plain": [
       "       year_of_arrival  ... slaves_onboard\n",
       "0                 1532  ...          175.0\n",
       "1                 1562  ...          202.0\n",
       "2                 1565  ...           93.0\n",
       "3                 1565  ...           92.0\n",
       "4                 1565  ...           92.0\n",
       "...                ...  ...            ...\n",
       "16271             1863  ...          459.0\n",
       "16272             1863  ...          960.0\n",
       "16273             1863  ...          577.0\n",
       "16274             1864  ...          659.0\n",
       "16275             1864  ...            3.0\n",
       "\n",
       "[16276 rows x 6 columns]"
      ]
     },
     "execution_count": 27,
     "metadata": {
      "tags": []
     },
     "output_type": "execute_result"
    }
   ],
   "source": [
    "# There are three strings in ```voyage_started``` we want to remove\n",
    "df['voyage_started'] = df['voyage_started'].str.replace('STRING HERE', '')      # Insert string to replace\n",
    "df['voyage_started'] = df['voyage_started'].str.replace('STRING HERE', '')      # Insert string to replace\n",
    "df['voyage_started'] = df['voyage_started'].str.replace('STRING HERE', '')      # Insert string to replace\n",
    "\n",
    "# There are 3 strings in ```voyage_pit_stop``` we want to remove\n",
    "df['voyage_pit_stop'] = df['voyage_pit_stop'].str.replace('STRING HERE', '')    # Insert string to replace \n",
    "df['voyage_pit_stop'] = df['voyage_pit_stop'].str.replace('STRING HERE', '')    # Insert string to replace\n",
    "df['voyage_pit_stop'] = df['voyage_pit_stop'].str.replace('STRING HERE', '')    # Insert string to replace\n",
    "\n",
    "# There are 6 strings in ```end_port``` we want to remove\n",
    "df['end_port'] = df['end_port'].str.replace('STRING HERE', '')                  # Insert string to replace \n",
    "df['end_port'] = df['end_port'].str.replace('STRING HERE', '')                  # Insert string to replace \n",
    "df['end_port'] = df['end_port'].str.replace('STRING HERE', '')                  # Insert string to replace\n",
    "df['end_port'] = df['end_port'].str.replace('STRING HERE', '')                  # Insert string to replace\n",
    "df['end_port'] = df['end_port'].str.replace('STRING HERE', '')                  # Insert string to replace\n",
    "df['end_port'] = df['end_port'].str.replace('STRING HERE', '')                  # Insert string to replace\n",
    "\n",
    "df"
   ]
  },
  {
   "cell_type": "markdown",
   "metadata": {
    "colab_type": "text",
    "id": "KonwP9s-PX93"
   },
   "source": [
    "#### Answer:\n",
    "```\n",
    "df['voyage_started'] = df['voyage_started'].str.replace(', port unspecified', '')      \n",
    "df['voyage_started'] = df['voyage_started'].str.replace(', colony unspecified', '')   \n",
    "df['voyage_started'] = df['voyage_started'].str.replace('.', '') \n",
    "\n",
    "df['voyage_pit_stop'] = df['voyage_pit_stop'].str.replace(', port unspecified', '')   \n",
    "df['voyage_pit_stop'] = df['voyage_pit_stop'].str.replace(', colony unspecified', '')  \n",
    "df['voyage_pit_stop'] = df['voyage_pit_stop'].str.replace('.', '')\n",
    "\n",
    "df['end_port'] = df['end_port'].str.replace(', port unspecified', '')                  \n",
    "df['end_port'] = df['end_port'].str.replace(', colony unspecified', '')                \n",
    "df['end_port'] = df['end_port'].str.replace('.', '')                                  \n",
    "df['end_port'] = df['end_port'].str.replace(' (colony unspecified)', '')                \n",
    "df['end_port'] = df['end_port'].str.replace(', unspecified', '')                       \n",
    "df['end_port'] = df['end_port'].str.replace(',unspecified', '')                       \n",
    "\n",
    "df\n",
    "```"
   ]
  },
  {
   "cell_type": "code",
   "execution_count": 44,
   "metadata": {
    "colab": {
     "base_uri": "https://localhost:8080/",
     "height": 131
    },
    "colab_type": "code",
    "id": "IOPDZL8vHle7",
    "outputId": "23b9c14f-7b73-4a99-ad3d-50832033ceb3"
   },
   "outputs": [
    {
     "data": {
      "text/plain": [
       "year_of_arrival      int64\n",
       "vessel_name         object\n",
       "voyage_started      object\n",
       "voyage_pit_stop     object\n",
       "end_port            object\n",
       "slaves_onboard     float64\n",
       "dtype: object"
      ]
     },
     "execution_count": 44,
     "metadata": {
      "tags": []
     },
     "output_type": "execute_result"
    }
   ],
   "source": [
    "df.dtypes"
   ]
  },
  {
   "cell_type": "markdown",
   "metadata": {
    "colab_type": "text",
    "id": "x0c0BG7SHle_"
   },
   "source": [
    "#### Creating a Copy of our modified Dataset"
   ]
  },
  {
   "cell_type": "code",
   "execution_count": 45,
   "metadata": {
    "colab": {},
    "colab_type": "code",
    "id": "4jrvqhIAHle_"
   },
   "outputs": [],
   "source": [
    "modified_dataset = df.copy()"
   ]
  },
  {
   "cell_type": "markdown",
   "metadata": {
    "colab_type": "text",
    "id": "Wkw5pefkHlfC"
   },
   "source": [
    "## Part 3 - Micro Wrangling and Visualization"
   ]
  },
  {
   "cell_type": "markdown",
   "metadata": {
    "colab_type": "text",
    "id": "pwDzGZeYHlfD"
   },
   "source": [
    "We will Start of this part by dividing our dataset into multiple smaller dataframes. The approach we will be taking is separating dataframes based on the ```year_of_arrival``` dataset.\n",
    "\n",
    "For example, in the blocks below you will see code for 4 intervals:\n",
    "- ```1500 to 1600```\n",
    "- ```1601 to 1700```\n",
    "- ```1701 to 1800```\n",
    "- ```1801 to 1900```\n",
    "\n"
   ]
  },
  {
   "cell_type": "markdown",
   "metadata": {
    "colab_type": "text",
    "id": "3ZkrSv8hHlfD"
   },
   "source": [
    "## Between 1500 to 1600"
   ]
  },
  {
   "cell_type": "code",
   "execution_count": null,
   "metadata": {
    "colab": {
     "base_uri": "https://localhost:8080/",
     "height": 391
    },
    "colab_type": "code",
    "id": "Lp6kae0pHlfE",
    "outputId": "27beecef-1597-47b6-c77c-67f875e50b4d"
   },
   "outputs": [
    {
     "data": {
      "text/html": [
       "<div>\n",
       "<style scoped>\n",
       "    .dataframe tbody tr th:only-of-type {\n",
       "        vertical-align: middle;\n",
       "    }\n",
       "\n",
       "    .dataframe tbody tr th {\n",
       "        vertical-align: top;\n",
       "    }\n",
       "\n",
       "    .dataframe thead th {\n",
       "        text-align: right;\n",
       "    }\n",
       "</style>\n",
       "<table border=\"1\" class=\"dataframe\">\n",
       "  <thead>\n",
       "    <tr style=\"text-align: right;\">\n",
       "      <th></th>\n",
       "      <th>year_of_arrival</th>\n",
       "      <th>vessel_name</th>\n",
       "      <th>voyage_started</th>\n",
       "      <th>voyage_pit_stop</th>\n",
       "      <th>end_port</th>\n",
       "      <th>slaves_onboard</th>\n",
       "    </tr>\n",
       "  </thead>\n",
       "  <tbody>\n",
       "    <tr>\n",
       "      <th>0</th>\n",
       "      <td>1532.0</td>\n",
       "      <td>S Antônio</td>\n",
       "      <td>Lisbon</td>\n",
       "      <td>Sao Tome</td>\n",
       "      <td>Spanish Caribbean</td>\n",
       "      <td>175.0</td>\n",
       "    </tr>\n",
       "    <tr>\n",
       "      <th>1</th>\n",
       "      <td>1562.0</td>\n",
       "      <td>S Nicolás</td>\n",
       "      <td>Cadiz</td>\n",
       "      <td>Cape Verde Islands</td>\n",
       "      <td>Cartagena</td>\n",
       "      <td>202.0</td>\n",
       "    </tr>\n",
       "    <tr>\n",
       "      <th>2</th>\n",
       "      <td>1565.0</td>\n",
       "      <td>Swallow</td>\n",
       "      <td>Plymouth</td>\n",
       "      <td>Africa</td>\n",
       "      <td>Spanish Circum-Caribbean</td>\n",
       "      <td>93.0</td>\n",
       "    </tr>\n",
       "    <tr>\n",
       "      <th>3</th>\n",
       "      <td>1565.0</td>\n",
       "      <td>Jesus of Lubeck</td>\n",
       "      <td>Plymouth</td>\n",
       "      <td>Africa</td>\n",
       "      <td>Spanish Circum-Caribbean</td>\n",
       "      <td>92.0</td>\n",
       "    </tr>\n",
       "    <tr>\n",
       "      <th>4</th>\n",
       "      <td>1565.0</td>\n",
       "      <td>Salomon</td>\n",
       "      <td>Plymouth</td>\n",
       "      <td>Africa</td>\n",
       "      <td>Spanish Circum-Caribbean</td>\n",
       "      <td>92.0</td>\n",
       "    </tr>\n",
       "    <tr>\n",
       "      <th>...</th>\n",
       "      <td>...</td>\n",
       "      <td>...</td>\n",
       "      <td>...</td>\n",
       "      <td>...</td>\n",
       "      <td>...</td>\n",
       "      <td>...</td>\n",
       "    </tr>\n",
       "    <tr>\n",
       "      <th>16271</th>\n",
       "      <td>NaN</td>\n",
       "      <td>NaN</td>\n",
       "      <td>NaN</td>\n",
       "      <td>NaN</td>\n",
       "      <td>NaN</td>\n",
       "      <td>NaN</td>\n",
       "    </tr>\n",
       "    <tr>\n",
       "      <th>16272</th>\n",
       "      <td>NaN</td>\n",
       "      <td>NaN</td>\n",
       "      <td>NaN</td>\n",
       "      <td>NaN</td>\n",
       "      <td>NaN</td>\n",
       "      <td>NaN</td>\n",
       "    </tr>\n",
       "    <tr>\n",
       "      <th>16273</th>\n",
       "      <td>NaN</td>\n",
       "      <td>NaN</td>\n",
       "      <td>NaN</td>\n",
       "      <td>NaN</td>\n",
       "      <td>NaN</td>\n",
       "      <td>NaN</td>\n",
       "    </tr>\n",
       "    <tr>\n",
       "      <th>16274</th>\n",
       "      <td>NaN</td>\n",
       "      <td>NaN</td>\n",
       "      <td>NaN</td>\n",
       "      <td>NaN</td>\n",
       "      <td>NaN</td>\n",
       "      <td>NaN</td>\n",
       "    </tr>\n",
       "    <tr>\n",
       "      <th>16275</th>\n",
       "      <td>NaN</td>\n",
       "      <td>NaN</td>\n",
       "      <td>NaN</td>\n",
       "      <td>NaN</td>\n",
       "      <td>NaN</td>\n",
       "      <td>NaN</td>\n",
       "    </tr>\n",
       "  </tbody>\n",
       "</table>\n",
       "<p>16276 rows × 6 columns</p>\n",
       "</div>"
      ],
      "text/plain": [
       "       year_of_arrival  ... slaves_onboard\n",
       "0               1532.0  ...          175.0\n",
       "1               1562.0  ...          202.0\n",
       "2               1565.0  ...           93.0\n",
       "3               1565.0  ...           92.0\n",
       "4               1565.0  ...           92.0\n",
       "...                ...  ...            ...\n",
       "16271              NaN  ...            NaN\n",
       "16272              NaN  ...            NaN\n",
       "16273              NaN  ...            NaN\n",
       "16274              NaN  ...            NaN\n",
       "16275              NaN  ...            NaN\n",
       "\n",
       "[16276 rows x 6 columns]"
      ]
     },
     "execution_count": 30,
     "metadata": {
      "tags": []
     },
     "output_type": "execute_result"
    }
   ],
   "source": [
    "dataset_between15_16 = modified_dataset.where((modified_dataset['year_of_arrival'] >= 1500) & (modified_dataset['year_of_arrival'] <= 1600))\n",
    "dataset_between15_16"
   ]
  },
  {
   "cell_type": "code",
   "execution_count": null,
   "metadata": {
    "colab": {
     "base_uri": "https://localhost:8080/",
     "height": 391
    },
    "colab_type": "code",
    "id": "a-tQvhW3HlfI",
    "outputId": "237020d8-5ae3-40fa-c30c-7df96ed2a1d7"
   },
   "outputs": [
    {
     "data": {
      "text/html": [
       "<div>\n",
       "<style scoped>\n",
       "    .dataframe tbody tr th:only-of-type {\n",
       "        vertical-align: middle;\n",
       "    }\n",
       "\n",
       "    .dataframe tbody tr th {\n",
       "        vertical-align: top;\n",
       "    }\n",
       "\n",
       "    .dataframe thead th {\n",
       "        text-align: right;\n",
       "    }\n",
       "</style>\n",
       "<table border=\"1\" class=\"dataframe\">\n",
       "  <thead>\n",
       "    <tr style=\"text-align: right;\">\n",
       "      <th></th>\n",
       "      <th>year_of_arrival</th>\n",
       "      <th>vessel_name</th>\n",
       "      <th>voyage_started</th>\n",
       "      <th>voyage_pit_stop</th>\n",
       "      <th>end_port</th>\n",
       "      <th>slaves_onboard</th>\n",
       "    </tr>\n",
       "  </thead>\n",
       "  <tbody>\n",
       "    <tr>\n",
       "      <th>0</th>\n",
       "      <td>1532.0</td>\n",
       "      <td>S Antônio</td>\n",
       "      <td>Lisbon</td>\n",
       "      <td>Sao Tome</td>\n",
       "      <td>Spanish Caribbean</td>\n",
       "      <td>175.0</td>\n",
       "    </tr>\n",
       "    <tr>\n",
       "      <th>1</th>\n",
       "      <td>1562.0</td>\n",
       "      <td>S Nicolás</td>\n",
       "      <td>Cadiz</td>\n",
       "      <td>Cape Verde Islands</td>\n",
       "      <td>Cartagena</td>\n",
       "      <td>202.0</td>\n",
       "    </tr>\n",
       "    <tr>\n",
       "      <th>2</th>\n",
       "      <td>1565.0</td>\n",
       "      <td>Swallow</td>\n",
       "      <td>Plymouth</td>\n",
       "      <td>Africa</td>\n",
       "      <td>Spanish Circum-Caribbean</td>\n",
       "      <td>93.0</td>\n",
       "    </tr>\n",
       "    <tr>\n",
       "      <th>3</th>\n",
       "      <td>1565.0</td>\n",
       "      <td>Jesus of Lubeck</td>\n",
       "      <td>Plymouth</td>\n",
       "      <td>Africa</td>\n",
       "      <td>Spanish Circum-Caribbean</td>\n",
       "      <td>92.0</td>\n",
       "    </tr>\n",
       "    <tr>\n",
       "      <th>4</th>\n",
       "      <td>1565.0</td>\n",
       "      <td>Salomon</td>\n",
       "      <td>Plymouth</td>\n",
       "      <td>Africa</td>\n",
       "      <td>Spanish Circum-Caribbean</td>\n",
       "      <td>92.0</td>\n",
       "    </tr>\n",
       "    <tr>\n",
       "      <th>...</th>\n",
       "      <td>...</td>\n",
       "      <td>...</td>\n",
       "      <td>...</td>\n",
       "      <td>...</td>\n",
       "      <td>...</td>\n",
       "      <td>...</td>\n",
       "    </tr>\n",
       "    <tr>\n",
       "      <th>110</th>\n",
       "      <td>1600.0</td>\n",
       "      <td>Santiago</td>\n",
       "      <td>Lisbon</td>\n",
       "      <td>Cape Verde Islands</td>\n",
       "      <td>Cartagena</td>\n",
       "      <td>142.0</td>\n",
       "    </tr>\n",
       "    <tr>\n",
       "      <th>111</th>\n",
       "      <td>1600.0</td>\n",
       "      <td>S Simón</td>\n",
       "      <td>San Lucar</td>\n",
       "      <td>Portuguese Guinea</td>\n",
       "      <td>Cartagena</td>\n",
       "      <td>168.0</td>\n",
       "    </tr>\n",
       "    <tr>\n",
       "      <th>112</th>\n",
       "      <td>1600.0</td>\n",
       "      <td>NS de la Concepción</td>\n",
       "      <td>Lisbon</td>\n",
       "      <td>Cape Verde Islands</td>\n",
       "      <td>Cartagena</td>\n",
       "      <td>158.0</td>\n",
       "    </tr>\n",
       "    <tr>\n",
       "      <th>113</th>\n",
       "      <td>1600.0</td>\n",
       "      <td>San Antonio</td>\n",
       "      <td>Canary Islands</td>\n",
       "      <td>Luanda</td>\n",
       "      <td>Havana</td>\n",
       "      <td>195.0</td>\n",
       "    </tr>\n",
       "    <tr>\n",
       "      <th>114</th>\n",
       "      <td>1600.0</td>\n",
       "      <td>NS de la Luz</td>\n",
       "      <td>Lisbon</td>\n",
       "      <td>Portuguese Guinea</td>\n",
       "      <td>Cartagena</td>\n",
       "      <td>173.0</td>\n",
       "    </tr>\n",
       "  </tbody>\n",
       "</table>\n",
       "<p>115 rows × 6 columns</p>\n",
       "</div>"
      ],
      "text/plain": [
       "     year_of_arrival  ... slaves_onboard\n",
       "0             1532.0  ...          175.0\n",
       "1             1562.0  ...          202.0\n",
       "2             1565.0  ...           93.0\n",
       "3             1565.0  ...           92.0\n",
       "4             1565.0  ...           92.0\n",
       "..               ...  ...            ...\n",
       "110           1600.0  ...          142.0\n",
       "111           1600.0  ...          168.0\n",
       "112           1600.0  ...          158.0\n",
       "113           1600.0  ...          195.0\n",
       "114           1600.0  ...          173.0\n",
       "\n",
       "[115 rows x 6 columns]"
      ]
     },
     "execution_count": 31,
     "metadata": {
      "tags": []
     },
     "output_type": "execute_result"
    }
   ],
   "source": [
    "dataset_between15_16 = dataset_between15_16.dropna()\n",
    "dataset_between15_16"
   ]
  },
  {
   "cell_type": "markdown",
   "metadata": {
    "colab_type": "text",
    "id": "T6C4yZSgHlfN"
   },
   "source": [
    "### Total Number of Slaves Transported between 1501-1600 - Complete Records\n"
   ]
  },
  {
   "cell_type": "code",
   "execution_count": null,
   "metadata": {
    "colab": {
     "base_uri": "https://localhost:8080/",
     "height": 33
    },
    "colab_type": "code",
    "id": "lpCOGYH2HlfN",
    "outputId": "8721a82e-87e9-46c1-b98f-985355adfd0c"
   },
   "outputs": [
    {
     "data": {
      "text/plain": [
       "18801.0"
      ]
     },
     "execution_count": 32,
     "metadata": {
      "tags": []
     },
     "output_type": "execute_result"
    }
   ],
   "source": [
    "dataset_between15_16.slaves_onboard.sum()"
   ]
  },
  {
   "cell_type": "markdown",
   "metadata": {
    "colab_type": "text",
    "id": "yoLMT1SKHlfR"
   },
   "source": [
    "### Visualizing Trips During 1501-1601"
   ]
  },
  {
   "cell_type": "code",
   "execution_count": null,
   "metadata": {
    "colab": {
     "base_uri": "https://localhost:8080/",
     "height": 608
    },
    "colab_type": "code",
    "id": "ejmvzk-2HlfR",
    "outputId": "bbfd4270-82c8-41ad-cd83-030cbf50e0e5"
   },
   "outputs": [
    {
     "data": {
      "text/plain": [
       "<BarContainer object of 115 artists>"
      ]
     },
     "execution_count": 33,
     "metadata": {
      "tags": []
     },
     "output_type": "execute_result"
    },
    {
     "data": {
      "image/png": "[encoded data removed]",
      "text/plain": [
       "<Figure size 1440x720 with 4 Axes>"
      ]
     },
     "metadata": {
      "needs_background": "light",
      "tags": []
     },
     "output_type": "display_data"
    }
   ],
   "source": [
    "import matplotlib.pyplot as plt\n",
    "\n",
    "fig = plt.figure(figsize = (20,10))\n",
    "\n",
    "ax1 = fig.add_subplot(2,2,1)\n",
    "ax2 = fig.add_subplot(2,2,2)\n",
    "ax3 = fig.add_subplot(2,2,3)\n",
    "ax4 = fig.add_subplot(2,2,4)\n",
    "ax1.scatter(dataset_between15_16['year_of_arrival'],\n",
    "            dataset_between15_16['slaves_onboard'],\n",
    "            alpha = 0.4)\n",
    "\n",
    "ax2.scatter(dataset_between15_16['slaves_onboard'],\n",
    "            dataset_between15_16['year_of_arrival'],\n",
    "            alpha = 0.4)\n",
    "\n",
    "ax3.bar(\n",
    "    dataset_between15_16['year_of_arrival'],\n",
    "    dataset_between15_16['slaves_onboard'],\n",
    "    alpha = 0.4)\n",
    "\n",
    "ax4.set_ylim(1500,1600)\n",
    "ax4.bar(\n",
    "    dataset_between15_16['slaves_onboard'],    \n",
    "    dataset_between15_16['year_of_arrival'],\n",
    "    alpha = 0.4)"
   ]
  },
  {
   "cell_type": "markdown",
   "metadata": {
    "colab_type": "text",
    "id": "jMCmsdSWHlfW"
   },
   "source": [
    "###  Now Try This:\n",
    "- Which of these graphs seem useful and which ones are uncessrary?\n",
    "**Write a 2 sentence explanation about why these two plots seem or might be useful.** **Did the visualization style influence your decision?**\n",
    "Select the two graphs you think are more useful and add the following:\n",
    "- add ```title``` for both suplots.\n",
    "- add ```xlabel``` and ```ylabel```.\n",
    "- Change the color for one of the plots\n"
   ]
  },
  {
   "cell_type": "markdown",
   "metadata": {
    "colab_type": "text",
    "id": "5eu2pWKrHlfX"
   },
   "source": [
    "### Pandas Plots"
   ]
  },
  {
   "cell_type": "code",
   "execution_count": null,
   "metadata": {
    "colab": {
     "base_uri": "https://localhost:8080/",
     "height": 748
    },
    "colab_type": "code",
    "id": "90m3tTRHHlfY",
    "outputId": "76347f84-5e04-42ac-ec8b-253b91563193"
   },
   "outputs": [
    {
     "data": {
      "text/plain": [
       "<matplotlib.axes._subplots.AxesSubplot at 0x7f1b7aef5ef0>"
      ]
     },
     "execution_count": 52,
     "metadata": {
      "tags": []
     },
     "output_type": "execute_result"
    },
    {
     "data": {
      "image/png": "[encoded data removed]",
      "text/plain": [
       "<Figure size 3600x1440 with 1 Axes>"
      ]
     },
     "metadata": {
      "needs_background": "light",
      "tags": []
     },
     "output_type": "display_data"
    }
   ],
   "source": [
    "fig = plt.figure(figsize = (50,20))\n",
    "ax1 = fig.add_subplot(2,2,1)\n",
    "# ax2 = fig.add_subplot(2,2,2)\n",
    "# ax3 = fig.add_subplot(2,2,3)\n",
    "# ax4 = fig.add_subplot(2,2,4)\n",
    "\n",
    "dataset_between15_16.plot(x='vessel_name',\n",
    "                         y = 'slaves_onboard',kind = 'bar', ax = ax1,\n",
    "                         rot = 90)"
   ]
  },
  {
   "cell_type": "markdown",
   "metadata": {
    "colab_type": "text",
    "id": "7oOVxiLsHlfc"
   },
   "source": [
    "### Ships Carrying Less than 100 slaves per trip"
   ]
  },
  {
   "cell_type": "code",
   "execution_count": null,
   "metadata": {
    "colab": {
     "base_uri": "https://localhost:8080/",
     "height": 795
    },
    "colab_type": "code",
    "id": "-_Oy0Cr_Hlfd",
    "outputId": "3f77d467-40e3-4462-c5bf-35b34e27a08e"
   },
   "outputs": [
    {
     "data": {
      "text/html": [
       "<div>\n",
       "<style scoped>\n",
       "    .dataframe tbody tr th:only-of-type {\n",
       "        vertical-align: middle;\n",
       "    }\n",
       "\n",
       "    .dataframe tbody tr th {\n",
       "        vertical-align: top;\n",
       "    }\n",
       "\n",
       "    .dataframe thead th {\n",
       "        text-align: right;\n",
       "    }\n",
       "</style>\n",
       "<table border=\"1\" class=\"dataframe\">\n",
       "  <thead>\n",
       "    <tr style=\"text-align: right;\">\n",
       "      <th></th>\n",
       "      <th>year_of_arrival</th>\n",
       "      <th>vessel_name</th>\n",
       "      <th>voyage_started</th>\n",
       "      <th>voyage_pit_stop</th>\n",
       "      <th>end_port</th>\n",
       "      <th>slaves_onboard</th>\n",
       "    </tr>\n",
       "  </thead>\n",
       "  <tbody>\n",
       "    <tr>\n",
       "      <th>2</th>\n",
       "      <td>1565.0</td>\n",
       "      <td>Swallow</td>\n",
       "      <td>Plymouth</td>\n",
       "      <td>Africa</td>\n",
       "      <td>Spanish Circum-Caribbean</td>\n",
       "      <td>93.0</td>\n",
       "    </tr>\n",
       "    <tr>\n",
       "      <th>3</th>\n",
       "      <td>1565.0</td>\n",
       "      <td>Jesus of Lubeck</td>\n",
       "      <td>Plymouth</td>\n",
       "      <td>Africa</td>\n",
       "      <td>Spanish Circum-Caribbean</td>\n",
       "      <td>92.0</td>\n",
       "    </tr>\n",
       "    <tr>\n",
       "      <th>4</th>\n",
       "      <td>1565.0</td>\n",
       "      <td>Salomon</td>\n",
       "      <td>Plymouth</td>\n",
       "      <td>Africa</td>\n",
       "      <td>Spanish Circum-Caribbean</td>\n",
       "      <td>92.0</td>\n",
       "    </tr>\n",
       "    <tr>\n",
       "      <th>5</th>\n",
       "      <td>1565.0</td>\n",
       "      <td>Tiger</td>\n",
       "      <td>Plymouth</td>\n",
       "      <td>Africa</td>\n",
       "      <td>Borburata</td>\n",
       "      <td>93.0</td>\n",
       "    </tr>\n",
       "    <tr>\n",
       "      <th>6</th>\n",
       "      <td>1567.0</td>\n",
       "      <td>Paul</td>\n",
       "      <td>Plymouth</td>\n",
       "      <td>Africa</td>\n",
       "      <td>Spanish Circum-Caribbean</td>\n",
       "      <td>75.0</td>\n",
       "    </tr>\n",
       "    <tr>\n",
       "      <th>7</th>\n",
       "      <td>1567.0</td>\n",
       "      <td>Salomon</td>\n",
       "      <td>Plymouth</td>\n",
       "      <td>Africa</td>\n",
       "      <td>Spanish Circum-Caribbean</td>\n",
       "      <td>75.0</td>\n",
       "    </tr>\n",
       "    <tr>\n",
       "      <th>8</th>\n",
       "      <td>1567.0</td>\n",
       "      <td>Pascoe</td>\n",
       "      <td>Plymouth</td>\n",
       "      <td>Africa</td>\n",
       "      <td>Spanish Circum-Caribbean</td>\n",
       "      <td>75.0</td>\n",
       "    </tr>\n",
       "    <tr>\n",
       "      <th>9</th>\n",
       "      <td>1567.0</td>\n",
       "      <td>Madalena</td>\n",
       "      <td>Seville</td>\n",
       "      <td>Cape Verde Islands</td>\n",
       "      <td>Hispaniola</td>\n",
       "      <td>18.0</td>\n",
       "    </tr>\n",
       "    <tr>\n",
       "      <th>10</th>\n",
       "      <td>1567.0</td>\n",
       "      <td>Swallow</td>\n",
       "      <td>Plymouth</td>\n",
       "      <td>Africa</td>\n",
       "      <td>Spanish Circum-Caribbean</td>\n",
       "      <td>75.0</td>\n",
       "    </tr>\n",
       "    <tr>\n",
       "      <th>11</th>\n",
       "      <td>1571.0</td>\n",
       "      <td>Fleur-de-Lys</td>\n",
       "      <td>Le Havre</td>\n",
       "      <td>Africa</td>\n",
       "      <td>Margarita</td>\n",
       "      <td>45.0</td>\n",
       "    </tr>\n",
       "    <tr>\n",
       "      <th>12</th>\n",
       "      <td>1574.0</td>\n",
       "      <td></td>\n",
       "      <td>Pernambuco</td>\n",
       "      <td>Sao Tome</td>\n",
       "      <td>Pernambuco</td>\n",
       "      <td>48.0</td>\n",
       "    </tr>\n",
       "    <tr>\n",
       "      <th>16</th>\n",
       "      <td>1576.0</td>\n",
       "      <td></td>\n",
       "      <td>Pernambuco</td>\n",
       "      <td>Sao Tome</td>\n",
       "      <td>Pernambuco</td>\n",
       "      <td>83.0</td>\n",
       "    </tr>\n",
       "    <tr>\n",
       "      <th>26</th>\n",
       "      <td>1588.0</td>\n",
       "      <td>S Pablo</td>\n",
       "      <td>Portuguese Guinea</td>\n",
       "      <td>Portuguese Guinea</td>\n",
       "      <td>Cartagena</td>\n",
       "      <td>84.0</td>\n",
       "    </tr>\n",
       "    <tr>\n",
       "      <th>28</th>\n",
       "      <td>1588.0</td>\n",
       "      <td>NS de Concepcion</td>\n",
       "      <td>Portuguese Guinea</td>\n",
       "      <td>Portuguese Guinea</td>\n",
       "      <td>Cartagena</td>\n",
       "      <td>84.0</td>\n",
       "    </tr>\n",
       "    <tr>\n",
       "      <th>32</th>\n",
       "      <td>1590.0</td>\n",
       "      <td>NS de Buen Viaje (a) NS de Gracia</td>\n",
       "      <td>Tenerife</td>\n",
       "      <td>Portuguese Guinea</td>\n",
       "      <td>Cartagena</td>\n",
       "      <td>96.0</td>\n",
       "    </tr>\n",
       "    <tr>\n",
       "      <th>34</th>\n",
       "      <td>1591.0</td>\n",
       "      <td>Buen Jesus (a) Concepcion</td>\n",
       "      <td>Tenerife</td>\n",
       "      <td>Portuguese Guinea</td>\n",
       "      <td>Cartagena</td>\n",
       "      <td>51.0</td>\n",
       "    </tr>\n",
       "    <tr>\n",
       "      <th>37</th>\n",
       "      <td>1593.0</td>\n",
       "      <td>S Antônio</td>\n",
       "      <td>Tenerife</td>\n",
       "      <td>Portuguese Guinea</td>\n",
       "      <td>Cartagena</td>\n",
       "      <td>50.0</td>\n",
       "    </tr>\n",
       "    <tr>\n",
       "      <th>40</th>\n",
       "      <td>1593.0</td>\n",
       "      <td>NS de Buen Viaje</td>\n",
       "      <td>Canary Islands</td>\n",
       "      <td>Cape Verde Islands</td>\n",
       "      <td>Cartagena</td>\n",
       "      <td>80.0</td>\n",
       "    </tr>\n",
       "    <tr>\n",
       "      <th>42</th>\n",
       "      <td>1593.0</td>\n",
       "      <td>NS del Rosario</td>\n",
       "      <td>Canary Islands</td>\n",
       "      <td>Portuguese Guinea</td>\n",
       "      <td>Cartagena</td>\n",
       "      <td>39.0</td>\n",
       "    </tr>\n",
       "    <tr>\n",
       "      <th>43</th>\n",
       "      <td>1593.0</td>\n",
       "      <td>NS de Buen Viaje</td>\n",
       "      <td>Tenerife</td>\n",
       "      <td>Portuguese Guinea</td>\n",
       "      <td>Cartagena</td>\n",
       "      <td>80.0</td>\n",
       "    </tr>\n",
       "    <tr>\n",
       "      <th>45</th>\n",
       "      <td>1594.0</td>\n",
       "      <td>S Miguel</td>\n",
       "      <td>Seville</td>\n",
       "      <td>Cape Verde Islands</td>\n",
       "      <td>Cartagena</td>\n",
       "      <td>30.0</td>\n",
       "    </tr>\n",
       "    <tr>\n",
       "      <th>46</th>\n",
       "      <td>1594.0</td>\n",
       "      <td>Santo Antonio</td>\n",
       "      <td>Tenerife</td>\n",
       "      <td>West Central Africa and St Helena</td>\n",
       "      <td>Cartagena</td>\n",
       "      <td>41.0</td>\n",
       "    </tr>\n",
       "    <tr>\n",
       "      <th>55</th>\n",
       "      <td>1597.0</td>\n",
       "      <td>San Pedro y San Pablo</td>\n",
       "      <td>Lisbon</td>\n",
       "      <td>Senegambia and offshore Atlantic</td>\n",
       "      <td>San Domingo (a) Santo Domingo</td>\n",
       "      <td>60.0</td>\n",
       "    </tr>\n",
       "    <tr>\n",
       "      <th>56</th>\n",
       "      <td>1597.0</td>\n",
       "      <td>S Pedro</td>\n",
       "      <td>San Lucar</td>\n",
       "      <td>Cape Verde Islands</td>\n",
       "      <td>Puerto Rico</td>\n",
       "      <td>84.0</td>\n",
       "    </tr>\n",
       "    <tr>\n",
       "      <th>62</th>\n",
       "      <td>1597.0</td>\n",
       "      <td>Concepción</td>\n",
       "      <td>Lisbon</td>\n",
       "      <td>Cape Verde Islands</td>\n",
       "      <td>Cartagena</td>\n",
       "      <td>27.0</td>\n",
       "    </tr>\n",
       "    <tr>\n",
       "      <th>77</th>\n",
       "      <td>1598.0</td>\n",
       "      <td>NS del Salvamiento</td>\n",
       "      <td>Lisbon</td>\n",
       "      <td>Cape Verde Islands</td>\n",
       "      <td>Cartagena</td>\n",
       "      <td>95.0</td>\n",
       "    </tr>\n",
       "  </tbody>\n",
       "</table>\n",
       "</div>"
      ],
      "text/plain": [
       "    year_of_arrival  ... slaves_onboard\n",
       "2            1565.0  ...           93.0\n",
       "3            1565.0  ...           92.0\n",
       "4            1565.0  ...           92.0\n",
       "5            1565.0  ...           93.0\n",
       "6            1567.0  ...           75.0\n",
       "7            1567.0  ...           75.0\n",
       "8            1567.0  ...           75.0\n",
       "9            1567.0  ...           18.0\n",
       "10           1567.0  ...           75.0\n",
       "11           1571.0  ...           45.0\n",
       "12           1574.0  ...           48.0\n",
       "16           1576.0  ...           83.0\n",
       "26           1588.0  ...           84.0\n",
       "28           1588.0  ...           84.0\n",
       "32           1590.0  ...           96.0\n",
       "34           1591.0  ...           51.0\n",
       "37           1593.0  ...           50.0\n",
       "40           1593.0  ...           80.0\n",
       "42           1593.0  ...           39.0\n",
       "43           1593.0  ...           80.0\n",
       "45           1594.0  ...           30.0\n",
       "46           1594.0  ...           41.0\n",
       "55           1597.0  ...           60.0\n",
       "56           1597.0  ...           84.0\n",
       "62           1597.0  ...           27.0\n",
       "77           1598.0  ...           95.0\n",
       "\n",
       "[26 rows x 6 columns]"
      ]
     },
     "execution_count": 35,
     "metadata": {
      "tags": []
     },
     "output_type": "execute_result"
    }
   ],
   "source": [
    "temp_plot = dataset_between15_16.where(dataset_between15_16['slaves_onboard'] < 100.0).dropna()\n",
    "\n",
    "temp_plot"
   ]
  },
  {
   "cell_type": "code",
   "execution_count": null,
   "metadata": {
    "colab": {
     "base_uri": "https://localhost:8080/",
     "height": 460
    },
    "colab_type": "code",
    "id": "I1UkMU9wHlfg",
    "outputId": "83e7c69b-2d41-48b3-b406-515ff87c92b3"
   },
   "outputs": [
    {
     "data": {
      "text/plain": [
       "<matplotlib.axes._subplots.AxesSubplot at 0x7f1b7b7929b0>"
      ]
     },
     "execution_count": 36,
     "metadata": {
      "tags": []
     },
     "output_type": "execute_result"
    },
    {
     "data": {
      "image/png": "[encoded data removed]",
      "text/plain": [
       "<Figure size 432x288 with 1 Axes>"
      ]
     },
     "metadata": {
      "needs_background": "light",
      "tags": []
     },
     "output_type": "display_data"
    }
   ],
   "source": [
    "temp_plot.plot(x='vessel_name',\n",
    "                         y = 'slaves_onboard',kind = 'bar',\n",
    "                         rot = 90)\n",
    "\n"
   ]
  },
  {
   "cell_type": "markdown",
   "metadata": {
    "colab_type": "text",
    "id": "OjOjDcogHlfk"
   },
   "source": [
    "### Ships Carrying greater than 100 slaves per trip"
   ]
  },
  {
   "cell_type": "code",
   "execution_count": null,
   "metadata": {
    "colab": {
     "base_uri": "https://localhost:8080/",
     "height": 1000
    },
    "colab_type": "code",
    "id": "lrAOZa1hHlfm",
    "outputId": "4351cbf0-48eb-49fa-f67a-1c1cb7176983"
   },
   "outputs": [
    {
     "data": {
      "text/html": [
       "<div>\n",
       "<style scoped>\n",
       "    .dataframe tbody tr th:only-of-type {\n",
       "        vertical-align: middle;\n",
       "    }\n",
       "\n",
       "    .dataframe tbody tr th {\n",
       "        vertical-align: top;\n",
       "    }\n",
       "\n",
       "    .dataframe thead th {\n",
       "        text-align: right;\n",
       "    }\n",
       "</style>\n",
       "<table border=\"1\" class=\"dataframe\">\n",
       "  <thead>\n",
       "    <tr style=\"text-align: right;\">\n",
       "      <th></th>\n",
       "      <th>year_of_arrival</th>\n",
       "      <th>vessel_name</th>\n",
       "      <th>voyage_started</th>\n",
       "      <th>voyage_pit_stop</th>\n",
       "      <th>end_port</th>\n",
       "      <th>slaves_onboard</th>\n",
       "    </tr>\n",
       "  </thead>\n",
       "  <tbody>\n",
       "    <tr>\n",
       "      <th>0</th>\n",
       "      <td>1532.0</td>\n",
       "      <td>S Antônio</td>\n",
       "      <td>Lisbon</td>\n",
       "      <td>Sao Tome</td>\n",
       "      <td>Spanish Caribbean</td>\n",
       "      <td>175.0</td>\n",
       "    </tr>\n",
       "    <tr>\n",
       "      <th>1</th>\n",
       "      <td>1562.0</td>\n",
       "      <td>S Nicolás</td>\n",
       "      <td>Cadiz</td>\n",
       "      <td>Cape Verde Islands</td>\n",
       "      <td>Cartagena</td>\n",
       "      <td>202.0</td>\n",
       "    </tr>\n",
       "    <tr>\n",
       "      <th>13</th>\n",
       "      <td>1575.0</td>\n",
       "      <td>S Antônio</td>\n",
       "      <td>Seville</td>\n",
       "      <td>Sao Tome</td>\n",
       "      <td>Hispaniola</td>\n",
       "      <td>243.0</td>\n",
       "    </tr>\n",
       "    <tr>\n",
       "      <th>14</th>\n",
       "      <td>1575.0</td>\n",
       "      <td>NS de la Concepción</td>\n",
       "      <td>San Lucar</td>\n",
       "      <td>Cape Verde Islands</td>\n",
       "      <td>Cartagena</td>\n",
       "      <td>289.0</td>\n",
       "    </tr>\n",
       "    <tr>\n",
       "      <th>15</th>\n",
       "      <td>1575.0</td>\n",
       "      <td></td>\n",
       "      <td>Pernambuco</td>\n",
       "      <td>Sao Tome</td>\n",
       "      <td>Pernambuco</td>\n",
       "      <td>284.0</td>\n",
       "    </tr>\n",
       "    <tr>\n",
       "      <th>...</th>\n",
       "      <td>...</td>\n",
       "      <td>...</td>\n",
       "      <td>...</td>\n",
       "      <td>...</td>\n",
       "      <td>...</td>\n",
       "      <td>...</td>\n",
       "    </tr>\n",
       "    <tr>\n",
       "      <th>110</th>\n",
       "      <td>1600.0</td>\n",
       "      <td>Santiago</td>\n",
       "      <td>Lisbon</td>\n",
       "      <td>Cape Verde Islands</td>\n",
       "      <td>Cartagena</td>\n",
       "      <td>142.0</td>\n",
       "    </tr>\n",
       "    <tr>\n",
       "      <th>111</th>\n",
       "      <td>1600.0</td>\n",
       "      <td>S Simón</td>\n",
       "      <td>San Lucar</td>\n",
       "      <td>Portuguese Guinea</td>\n",
       "      <td>Cartagena</td>\n",
       "      <td>168.0</td>\n",
       "    </tr>\n",
       "    <tr>\n",
       "      <th>112</th>\n",
       "      <td>1600.0</td>\n",
       "      <td>NS de la Concepción</td>\n",
       "      <td>Lisbon</td>\n",
       "      <td>Cape Verde Islands</td>\n",
       "      <td>Cartagena</td>\n",
       "      <td>158.0</td>\n",
       "    </tr>\n",
       "    <tr>\n",
       "      <th>113</th>\n",
       "      <td>1600.0</td>\n",
       "      <td>San Antonio</td>\n",
       "      <td>Canary Islands</td>\n",
       "      <td>Luanda</td>\n",
       "      <td>Havana</td>\n",
       "      <td>195.0</td>\n",
       "    </tr>\n",
       "    <tr>\n",
       "      <th>114</th>\n",
       "      <td>1600.0</td>\n",
       "      <td>NS de la Luz</td>\n",
       "      <td>Lisbon</td>\n",
       "      <td>Portuguese Guinea</td>\n",
       "      <td>Cartagena</td>\n",
       "      <td>173.0</td>\n",
       "    </tr>\n",
       "  </tbody>\n",
       "</table>\n",
       "<p>87 rows × 6 columns</p>\n",
       "</div>"
      ],
      "text/plain": [
       "     year_of_arrival          vessel_name  ...           end_port slaves_onboard\n",
       "0             1532.0            S Antônio  ...  Spanish Caribbean          175.0\n",
       "1             1562.0            S Nicolás  ...          Cartagena          202.0\n",
       "13            1575.0            S Antônio  ...         Hispaniola          243.0\n",
       "14            1575.0  NS de la Concepción  ...          Cartagena          289.0\n",
       "15            1575.0                       ...         Pernambuco          284.0\n",
       "..               ...                  ...  ...                ...            ...\n",
       "110           1600.0             Santiago  ...          Cartagena          142.0\n",
       "111           1600.0              S Simón  ...          Cartagena          168.0\n",
       "112           1600.0  NS de la Concepción  ...          Cartagena          158.0\n",
       "113           1600.0          San Antonio  ...             Havana          195.0\n",
       "114           1600.0         NS de la Luz  ...          Cartagena          173.0\n",
       "\n",
       "[87 rows x 6 columns]"
      ]
     },
     "execution_count": 37,
     "metadata": {
      "tags": []
     },
     "output_type": "execute_result"
    },
    {
     "data": {
      "image/png": "[encoded data removed]",
      "text/plain": [
       "<Figure size 1440x720 with 1 Axes>"
      ]
     },
     "metadata": {
      "needs_background": "light",
      "tags": []
     },
     "output_type": "display_data"
    }
   ],
   "source": [
    "temp_plot = dataset_between15_16.where(dataset_between15_16['slaves_onboard'] > 100.0).dropna()\n",
    "\n",
    "temp_plot.plot(x='vessel_name',\n",
    "                         y = 'slaves_onboard',kind = 'bar',\n",
    "                         rot = 90,grid = True,figsize = (20,10))\n",
    "\n",
    "temp_plot"
   ]
  },
  {
   "cell_type": "markdown",
   "metadata": {
    "colab_type": "text",
    "id": "iC1mKd2BHlfu"
   },
   "source": [
    "### Ships Carrying greater than 200 slaves per trip"
   ]
  },
  {
   "cell_type": "code",
   "execution_count": null,
   "metadata": {
    "colab": {
     "base_uri": "https://localhost:8080/",
     "height": 33
    },
    "colab_type": "code",
    "id": "HNwE7zKBHlfv",
    "outputId": "43fd7ec8-9210-4a6f-cd5d-c76492db386f"
   },
   "outputs": [
    {
     "name": "stdout",
     "output_type": "stream",
     "text": [
      "There are 30 trips that carries more than 200 slaves.\n"
     ]
    }
   ],
   "source": [
    "temp_plot = dataset_between15_16.where(dataset_between15_16['slaves_onboard'] > 200.0).dropna()\n",
    "print(f'There are {temp_plot.shape[0]} trips that carries more than 200 slaves.')\n",
    "\n"
   ]
  },
  {
   "cell_type": "code",
   "execution_count": null,
   "metadata": {
    "colab": {
     "base_uri": "https://localhost:8080/",
     "height": 797
    },
    "colab_type": "code",
    "id": "dfBf3GfyHlfz",
    "outputId": "e9a0c4e8-fd4d-44f8-8ace-17a4cbac0440",
    "scrolled": true
   },
   "outputs": [
    {
     "data": {
      "text/plain": [
       "<matplotlib.axes._subplots.AxesSubplot at 0x7f1b7b6c3668>"
      ]
     },
     "execution_count": 39,
     "metadata": {
      "tags": []
     },
     "output_type": "execute_result"
    },
    {
     "data": {
      "image/png": "[encoded data removed]",
      "text/plain": [
       "<Figure size 1440x720 with 1 Axes>"
      ]
     },
     "metadata": {
      "needs_background": "light",
      "tags": []
     },
     "output_type": "display_data"
    }
   ],
   "source": [
    "temp_plot.plot(x='vessel_name',\n",
    "                         y = 'slaves_onboard',kind = 'bar',\n",
    "                         rot = 90,grid = True,figsize = (20,10))\n",
    "\n",
    "\n"
   ]
  },
  {
   "cell_type": "markdown",
   "metadata": {
    "colab_type": "text",
    "id": "ZIZ8rFjhHlf3"
   },
   "source": [
    "### Check the most used 'start_port' for number_of_slaves > 200"
   ]
  },
  {
   "cell_type": "code",
   "execution_count": null,
   "metadata": {
    "colab": {
     "base_uri": "https://localhost:8080/",
     "height": 657
    },
    "colab_type": "code",
    "id": "7IOuRHKwHlf4",
    "outputId": "8c2f817b-f118-4013-f7d3-70f1f945c322",
    "scrolled": true
   },
   "outputs": [
    {
     "data": {
      "text/plain": [
       "<matplotlib.axes._subplots.AxesSubplot at 0x7f1b7b3c2dd8>"
      ]
     },
     "execution_count": 40,
     "metadata": {
      "tags": []
     },
     "output_type": "execute_result"
    },
    {
     "data": {
      "image/png": "[encoded data removed]",
      "text/plain": [
       "<Figure size 720x720 with 1 Axes>"
      ]
     },
     "metadata": {
      "needs_background": "light",
      "tags": []
     },
     "output_type": "display_data"
    }
   ],
   "source": [
    "temp_plot['voyage_started'].hist(bins = 20,\n",
    "                                 alpha = 0.5,\n",
    "                                 xrot = 45,\n",
    "                                 figsize = (10,10)\n",
    "                                )"
   ]
  },
  {
   "cell_type": "markdown",
   "metadata": {
    "colab_type": "text",
    "id": "ShDktMYRHlf8"
   },
   "source": [
    "### Check the most used 'voyage_pit_stop' for number_of_slaves > 200"
   ]
  },
  {
   "cell_type": "code",
   "execution_count": null,
   "metadata": {
    "colab": {
     "base_uri": "https://localhost:8080/",
     "height": 608
    },
    "colab_type": "code",
    "id": "vYoFVQrIHlf9",
    "outputId": "8fc8fea1-4f97-42b1-9340-a45ec9bd6e0c"
   },
   "outputs": [
    {
     "data": {
      "text/plain": [
       "<matplotlib.axes._subplots.AxesSubplot at 0x7f1b7b352ef0>"
      ]
     },
     "execution_count": 41,
     "metadata": {
      "tags": []
     },
     "output_type": "execute_result"
    },
    {
     "data": {
      "image/png": "[encoded data removed]",
      "text/plain": [
       "<Figure size 720x720 with 1 Axes>"
      ]
     },
     "metadata": {
      "needs_background": "light",
      "tags": []
     },
     "output_type": "display_data"
    }
   ],
   "source": [
    "temp_plot['voyage_pit_stop'].hist(bins=20, \n",
    "                           alpha=0.7,\n",
    "                           xrot = 0,\n",
    "                          figsize = (10,10))"
   ]
  },
  {
   "cell_type": "markdown",
   "metadata": {
    "colab_type": "text",
    "id": "ntI-QvHuHlgB"
   },
   "source": [
    "### Check the most used 'End_Port'  for number_of_slaves > 200"
   ]
  },
  {
   "cell_type": "code",
   "execution_count": null,
   "metadata": {
    "colab": {
     "base_uri": "https://localhost:8080/",
     "height": 608
    },
    "colab_type": "code",
    "id": "ermZi3B7HlgC",
    "outputId": "998ff10c-92cb-4baa-86f8-188bccaccad9",
    "scrolled": false
   },
   "outputs": [
    {
     "data": {
      "text/plain": [
       "<matplotlib.axes._subplots.AxesSubplot at 0x7f1b7b26c898>"
      ]
     },
     "execution_count": 42,
     "metadata": {
      "tags": []
     },
     "output_type": "execute_result"
    },
    {
     "data": {
      "image/png": "[encoded data removed]",
      "text/plain": [
       "<Figure size 720x720 with 1 Axes>"
      ]
     },
     "metadata": {
      "needs_background": "light",
      "tags": []
     },
     "output_type": "display_data"
    }
   ],
   "source": [
    "temp_plot['end_port'].hist(bins=20, \n",
    "                           alpha=0.7,\n",
    "                           xrot = 0,\n",
    "                          figsize = (10,10))"
   ]
  },
  {
   "cell_type": "markdown",
   "metadata": {
    "colab_type": "text",
    "id": "cvaJr4-BHlgG"
   },
   "source": [
    "### Observations \n",
    "\n",
    "Majority of The Ships carrying over 200 people started their journey Portugal made a Pit-Stop in Africa and Went to Cartagena, Colombia "
   ]
  },
  {
   "cell_type": "markdown",
   "metadata": {
    "colab_type": "text",
    "id": "1w9XvpNdHlgG"
   },
   "source": [
    "## Between 1601- 1700"
   ]
  },
  {
   "cell_type": "code",
   "execution_count": 47,
   "metadata": {
    "colab": {
     "base_uri": "https://localhost:8080/",
     "height": 391
    },
    "colab_type": "code",
    "id": "CWt8CtQDHlgH",
    "outputId": "8fa84cdf-e7c8-4200-d5ef-64f399e7266c"
   },
   "outputs": [
    {
     "data": {
      "text/html": [
       "<div>\n",
       "<style scoped>\n",
       "    .dataframe tbody tr th:only-of-type {\n",
       "        vertical-align: middle;\n",
       "    }\n",
       "\n",
       "    .dataframe tbody tr th {\n",
       "        vertical-align: top;\n",
       "    }\n",
       "\n",
       "    .dataframe thead th {\n",
       "        text-align: right;\n",
       "    }\n",
       "</style>\n",
       "<table border=\"1\" class=\"dataframe\">\n",
       "  <thead>\n",
       "    <tr style=\"text-align: right;\">\n",
       "      <th></th>\n",
       "      <th>year_of_arrival</th>\n",
       "      <th>vessel_name</th>\n",
       "      <th>voyage_started</th>\n",
       "      <th>voyage_pit_stop</th>\n",
       "      <th>end_port</th>\n",
       "      <th>slaves_onboard</th>\n",
       "    </tr>\n",
       "  </thead>\n",
       "  <tbody>\n",
       "    <tr>\n",
       "      <th>0</th>\n",
       "      <td>NaN</td>\n",
       "      <td>NaN</td>\n",
       "      <td>NaN</td>\n",
       "      <td>NaN</td>\n",
       "      <td>NaN</td>\n",
       "      <td>NaN</td>\n",
       "    </tr>\n",
       "    <tr>\n",
       "      <th>1</th>\n",
       "      <td>NaN</td>\n",
       "      <td>NaN</td>\n",
       "      <td>NaN</td>\n",
       "      <td>NaN</td>\n",
       "      <td>NaN</td>\n",
       "      <td>NaN</td>\n",
       "    </tr>\n",
       "    <tr>\n",
       "      <th>2</th>\n",
       "      <td>NaN</td>\n",
       "      <td>NaN</td>\n",
       "      <td>NaN</td>\n",
       "      <td>NaN</td>\n",
       "      <td>NaN</td>\n",
       "      <td>NaN</td>\n",
       "    </tr>\n",
       "    <tr>\n",
       "      <th>3</th>\n",
       "      <td>NaN</td>\n",
       "      <td>NaN</td>\n",
       "      <td>NaN</td>\n",
       "      <td>NaN</td>\n",
       "      <td>NaN</td>\n",
       "      <td>NaN</td>\n",
       "    </tr>\n",
       "    <tr>\n",
       "      <th>4</th>\n",
       "      <td>NaN</td>\n",
       "      <td>NaN</td>\n",
       "      <td>NaN</td>\n",
       "      <td>NaN</td>\n",
       "      <td>NaN</td>\n",
       "      <td>NaN</td>\n",
       "    </tr>\n",
       "    <tr>\n",
       "      <th>...</th>\n",
       "      <td>...</td>\n",
       "      <td>...</td>\n",
       "      <td>...</td>\n",
       "      <td>...</td>\n",
       "      <td>...</td>\n",
       "      <td>...</td>\n",
       "    </tr>\n",
       "    <tr>\n",
       "      <th>16271</th>\n",
       "      <td>NaN</td>\n",
       "      <td>NaN</td>\n",
       "      <td>NaN</td>\n",
       "      <td>NaN</td>\n",
       "      <td>NaN</td>\n",
       "      <td>NaN</td>\n",
       "    </tr>\n",
       "    <tr>\n",
       "      <th>16272</th>\n",
       "      <td>NaN</td>\n",
       "      <td>NaN</td>\n",
       "      <td>NaN</td>\n",
       "      <td>NaN</td>\n",
       "      <td>NaN</td>\n",
       "      <td>NaN</td>\n",
       "    </tr>\n",
       "    <tr>\n",
       "      <th>16273</th>\n",
       "      <td>NaN</td>\n",
       "      <td>NaN</td>\n",
       "      <td>NaN</td>\n",
       "      <td>NaN</td>\n",
       "      <td>NaN</td>\n",
       "      <td>NaN</td>\n",
       "    </tr>\n",
       "    <tr>\n",
       "      <th>16274</th>\n",
       "      <td>NaN</td>\n",
       "      <td>NaN</td>\n",
       "      <td>NaN</td>\n",
       "      <td>NaN</td>\n",
       "      <td>NaN</td>\n",
       "      <td>NaN</td>\n",
       "    </tr>\n",
       "    <tr>\n",
       "      <th>16275</th>\n",
       "      <td>NaN</td>\n",
       "      <td>NaN</td>\n",
       "      <td>NaN</td>\n",
       "      <td>NaN</td>\n",
       "      <td>NaN</td>\n",
       "      <td>NaN</td>\n",
       "    </tr>\n",
       "  </tbody>\n",
       "</table>\n",
       "<p>16276 rows × 6 columns</p>\n",
       "</div>"
      ],
      "text/plain": [
       "       year_of_arrival vessel_name  ... end_port slaves_onboard\n",
       "0                  NaN         NaN  ...      NaN            NaN\n",
       "1                  NaN         NaN  ...      NaN            NaN\n",
       "2                  NaN         NaN  ...      NaN            NaN\n",
       "3                  NaN         NaN  ...      NaN            NaN\n",
       "4                  NaN         NaN  ...      NaN            NaN\n",
       "...                ...         ...  ...      ...            ...\n",
       "16271              NaN         NaN  ...      NaN            NaN\n",
       "16272              NaN         NaN  ...      NaN            NaN\n",
       "16273              NaN         NaN  ...      NaN            NaN\n",
       "16274              NaN         NaN  ...      NaN            NaN\n",
       "16275              NaN         NaN  ...      NaN            NaN\n",
       "\n",
       "[16276 rows x 6 columns]"
      ]
     },
     "execution_count": 47,
     "metadata": {
      "tags": []
     },
     "output_type": "execute_result"
    }
   ],
   "source": [
    "dataset_between16_17 = modified_dataset.where((modified_dataset['year_of_arrival'] >= 1601) & (modified_dataset['year_of_arrival'] <= 1700) )\n",
    "\n",
    "dataset_between16_17"
   ]
  },
  {
   "cell_type": "code",
   "execution_count": 49,
   "metadata": {
    "colab": {
     "base_uri": "https://localhost:8080/",
     "height": 391
    },
    "colab_type": "code",
    "id": "cv3zqBdzHlgK",
    "outputId": "ce5514e2-ae25-480b-f770-6e6263b8b34a"
   },
   "outputs": [
    {
     "data": {
      "text/html": [
       "<div>\n",
       "<style scoped>\n",
       "    .dataframe tbody tr th:only-of-type {\n",
       "        vertical-align: middle;\n",
       "    }\n",
       "\n",
       "    .dataframe tbody tr th {\n",
       "        vertical-align: top;\n",
       "    }\n",
       "\n",
       "    .dataframe thead th {\n",
       "        text-align: right;\n",
       "    }\n",
       "</style>\n",
       "<table border=\"1\" class=\"dataframe\">\n",
       "  <thead>\n",
       "    <tr style=\"text-align: right;\">\n",
       "      <th></th>\n",
       "      <th>year_of_arrival</th>\n",
       "      <th>vessel_name</th>\n",
       "      <th>voyage_started</th>\n",
       "      <th>voyage_pit_stop</th>\n",
       "      <th>end_port</th>\n",
       "      <th>slaves_onboard</th>\n",
       "    </tr>\n",
       "  </thead>\n",
       "  <tbody>\n",
       "    <tr>\n",
       "      <th>115</th>\n",
       "      <td>1601.0</td>\n",
       "      <td>S Rafael</td>\n",
       "      <td>Lisbon</td>\n",
       "      <td>Africa</td>\n",
       "      <td>Veracruz</td>\n",
       "      <td>198.0</td>\n",
       "    </tr>\n",
       "    <tr>\n",
       "      <th>116</th>\n",
       "      <td>1605.0</td>\n",
       "      <td>S Antônio</td>\n",
       "      <td>Lisbon</td>\n",
       "      <td>Africa</td>\n",
       "      <td>Havana</td>\n",
       "      <td>215.0</td>\n",
       "    </tr>\n",
       "    <tr>\n",
       "      <th>117</th>\n",
       "      <td>1605.0</td>\n",
       "      <td>NS del Rosario</td>\n",
       "      <td>Seville</td>\n",
       "      <td>Cape Verde Islands</td>\n",
       "      <td>Veracruz</td>\n",
       "      <td>253.0</td>\n",
       "    </tr>\n",
       "    <tr>\n",
       "      <th>118</th>\n",
       "      <td>1608.0</td>\n",
       "      <td>NS de la Piedad</td>\n",
       "      <td>Seville</td>\n",
       "      <td>Luanda</td>\n",
       "      <td>Veracruz</td>\n",
       "      <td>197.0</td>\n",
       "    </tr>\n",
       "    <tr>\n",
       "      <th>119</th>\n",
       "      <td>1609.0</td>\n",
       "      <td>Santiago</td>\n",
       "      <td>Lisbon</td>\n",
       "      <td>Portuguese Guinea</td>\n",
       "      <td>Cartagena</td>\n",
       "      <td>227.0</td>\n",
       "    </tr>\n",
       "    <tr>\n",
       "      <th>...</th>\n",
       "      <td>...</td>\n",
       "      <td>...</td>\n",
       "      <td>...</td>\n",
       "      <td>...</td>\n",
       "      <td>...</td>\n",
       "      <td>...</td>\n",
       "    </tr>\n",
       "    <tr>\n",
       "      <th>996</th>\n",
       "      <td>1700.0</td>\n",
       "      <td>Delavall</td>\n",
       "      <td>London</td>\n",
       "      <td>Whydah</td>\n",
       "      <td>Newcastle (Nevis)</td>\n",
       "      <td>285.0</td>\n",
       "    </tr>\n",
       "    <tr>\n",
       "      <th>997</th>\n",
       "      <td>1700.0</td>\n",
       "      <td>Abraham and Moses</td>\n",
       "      <td>London</td>\n",
       "      <td>Africa</td>\n",
       "      <td>Barbados</td>\n",
       "      <td>181.0</td>\n",
       "    </tr>\n",
       "    <tr>\n",
       "      <th>998</th>\n",
       "      <td>1700.0</td>\n",
       "      <td>Ann Bonadventure</td>\n",
       "      <td>London</td>\n",
       "      <td>Africa</td>\n",
       "      <td>Barbados</td>\n",
       "      <td>394.0</td>\n",
       "    </tr>\n",
       "    <tr>\n",
       "      <th>999</th>\n",
       "      <td>1700.0</td>\n",
       "      <td>Fauconberg (a) Falconberg</td>\n",
       "      <td>London</td>\n",
       "      <td>Gold Coast</td>\n",
       "      <td>Saint John (Antigua)</td>\n",
       "      <td>376.0</td>\n",
       "    </tr>\n",
       "    <tr>\n",
       "      <th>1000</th>\n",
       "      <td>1700.0</td>\n",
       "      <td>John Hopewell</td>\n",
       "      <td>London</td>\n",
       "      <td>Africa</td>\n",
       "      <td>Patuxent</td>\n",
       "      <td>320.0</td>\n",
       "    </tr>\n",
       "  </tbody>\n",
       "</table>\n",
       "<p>886 rows × 6 columns</p>\n",
       "</div>"
      ],
      "text/plain": [
       "      year_of_arrival  ... slaves_onboard\n",
       "115            1601.0  ...          198.0\n",
       "116            1605.0  ...          215.0\n",
       "117            1605.0  ...          253.0\n",
       "118            1608.0  ...          197.0\n",
       "119            1609.0  ...          227.0\n",
       "...               ...  ...            ...\n",
       "996            1700.0  ...          285.0\n",
       "997            1700.0  ...          181.0\n",
       "998            1700.0  ...          394.0\n",
       "999            1700.0  ...          376.0\n",
       "1000           1700.0  ...          320.0\n",
       "\n",
       "[886 rows x 6 columns]"
      ]
     },
     "execution_count": 49,
     "metadata": {
      "tags": []
     },
     "output_type": "execute_result"
    }
   ],
   "source": [
    "dataset_between16_17 = dataset_between16_17._____() # Insert Code here (drop nul values)\n",
    "dataset_between16_17"
   ]
  },
  {
   "cell_type": "markdown",
   "metadata": {
    "colab_type": "text",
    "id": "Wg4r4Es7RTwJ"
   },
   "source": [
    "#### Answer:\n",
    "\n",
    "```dataset_between16_17 = dataset_between16_17.dropna()```"
   ]
  },
  {
   "cell_type": "markdown",
   "metadata": {
    "colab_type": "text",
    "id": "ltr9T0R2HlgQ"
   },
   "source": [
    "### Total Number of Slaves Transported between 1601-1700 - Complete Records\n"
   ]
  },
  {
   "cell_type": "code",
   "execution_count": null,
   "metadata": {
    "colab": {},
    "colab_type": "code",
    "id": "xzPsmzJVHlgQ"
   },
   "outputs": [],
   "source": [
    "dataset_between16_17.slaves_onboard.___() # Insert Code Here - Sum of slaves "
   ]
  },
  {
   "cell_type": "markdown",
   "metadata": {
    "colab_type": "text",
    "id": "LYgAuR7TRnPx"
   },
   "source": [
    "#### Answer:\n",
    "```dataset_between16_17.slaves_onboard.sum()```"
   ]
  },
  {
   "cell_type": "markdown",
   "metadata": {
    "colab_type": "text",
    "id": "6KPEwqj3HlgT"
   },
   "source": [
    "### Visualizing Trips During 1601-1701"
   ]
  },
  {
   "cell_type": "code",
   "execution_count": 56,
   "metadata": {
    "colab": {
     "base_uri": "https://localhost:8080/",
     "height": 608
    },
    "colab_type": "code",
    "id": "kM5-QvjmHlgT",
    "outputId": "cf8893f1-8935-4633-9339-7334beed624d"
   },
   "outputs": [
    {
     "data": {
      "text/plain": [
       "<BarContainer object of 886 artists>"
      ]
     },
     "execution_count": 56,
     "metadata": {
      "tags": []
     },
     "output_type": "execute_result"
    },
    {
     "data": {
      "image/png": "[encoded data removed]",
      "text/plain": [
       "<Figure size 1440x720 with 2 Axes>"
      ]
     },
     "metadata": {
      "needs_background": "light",
      "tags": []
     },
     "output_type": "display_data"
    }
   ],
   "source": [
    "import matplotlib.pyplot as plt\n",
    "\n",
    "fig = plt.figure(figsize = (20,10))\n",
    "\n",
    "ax1 = fig.add_subplot(2,1,1)\n",
    "ax2 = fig.add_subplot(2,1,2)\n",
    "\n",
    "ax1.scatter(dataset_between16_17['year_of_arrival'],\n",
    "            dataset_between16_17['slaves_onboard'],\n",
    "            alpha = 0.4)\n",
    "\n",
    "ax2.bar(\n",
    "    dataset_between16_17['year_of_arrival'],\n",
    "    dataset_between16_17['slaves_onboard'],\n",
    "    alpha = 0.4\n",
    "    )\n",
    "\n"
   ]
  },
  {
   "cell_type": "markdown",
   "metadata": {
    "colab_type": "text",
    "id": "QjxCnj6nHlgX"
   },
   "source": [
    "### Pandas Plots"
   ]
  },
  {
   "cell_type": "code",
   "execution_count": null,
   "metadata": {
    "colab": {},
    "colab_type": "code",
    "id": "4dx1qSH-HlgY"
   },
   "outputs": [],
   "source": []
  },
  {
   "cell_type": "markdown",
   "metadata": {
    "colab_type": "text",
    "id": "MGDHXfAnHlgf"
   },
   "source": [
    "### Check the most used 'start_port' for number_of_slaves > 200"
   ]
  },
  {
   "cell_type": "code",
   "execution_count": null,
   "metadata": {
    "colab": {},
    "colab_type": "code",
    "id": "cuTVq2HkHlgh"
   },
   "outputs": [],
   "source": []
  },
  {
   "cell_type": "markdown",
   "metadata": {
    "colab_type": "text",
    "id": "5alh-9SgHlgj"
   },
   "source": [
    "### Check the most used 'voyage_pit_stop' for number_of_slaves > 200"
   ]
  },
  {
   "cell_type": "code",
   "execution_count": null,
   "metadata": {
    "colab": {},
    "colab_type": "code",
    "id": "m49Xm2SkHlgk"
   },
   "outputs": [],
   "source": []
  },
  {
   "cell_type": "markdown",
   "metadata": {
    "colab_type": "text",
    "id": "6RZ4R9mFHlgo"
   },
   "source": [
    "### Check the most used 'End_Port' "
   ]
  },
  {
   "cell_type": "code",
   "execution_count": null,
   "metadata": {
    "colab": {},
    "colab_type": "code",
    "id": "KqQSbPfOHlgo",
    "scrolled": false
   },
   "outputs": [],
   "source": []
  },
  {
   "cell_type": "markdown",
   "metadata": {
    "colab_type": "text",
    "id": "xUi7iSPhHlgs"
   },
   "source": [
    "### Student Have To Work On"
   ]
  },
  {
   "cell_type": "markdown",
   "metadata": {
    "colab_type": "text",
    "id": "SXYLnplNHlgs"
   },
   "source": [
    "## A. Between 1701- 1800"
   ]
  },
  {
   "cell_type": "code",
   "execution_count": null,
   "metadata": {
    "colab": {
     "base_uri": "https://localhost:8080/",
     "height": 391
    },
    "colab_type": "code",
    "id": "mpED3SzKHlgt",
    "outputId": "d57abdff-3ff8-4706-8ffb-a61b32478c33"
   },
   "outputs": [
    {
     "data": {
      "text/html": [
       "<div>\n",
       "<style scoped>\n",
       "    .dataframe tbody tr th:only-of-type {\n",
       "        vertical-align: middle;\n",
       "    }\n",
       "\n",
       "    .dataframe tbody tr th {\n",
       "        vertical-align: top;\n",
       "    }\n",
       "\n",
       "    .dataframe thead th {\n",
       "        text-align: right;\n",
       "    }\n",
       "</style>\n",
       "<table border=\"1\" class=\"dataframe\">\n",
       "  <thead>\n",
       "    <tr style=\"text-align: right;\">\n",
       "      <th></th>\n",
       "      <th>year_of_arrival</th>\n",
       "      <th>vessel_name</th>\n",
       "      <th>voyage_started</th>\n",
       "      <th>voyage_pit_stop</th>\n",
       "      <th>end_port</th>\n",
       "      <th>slaves_onboard</th>\n",
       "    </tr>\n",
       "  </thead>\n",
       "  <tbody>\n",
       "    <tr>\n",
       "      <th>0</th>\n",
       "      <td>NaN</td>\n",
       "      <td>NaN</td>\n",
       "      <td>NaN</td>\n",
       "      <td>NaN</td>\n",
       "      <td>NaN</td>\n",
       "      <td>NaN</td>\n",
       "    </tr>\n",
       "    <tr>\n",
       "      <th>1</th>\n",
       "      <td>NaN</td>\n",
       "      <td>NaN</td>\n",
       "      <td>NaN</td>\n",
       "      <td>NaN</td>\n",
       "      <td>NaN</td>\n",
       "      <td>NaN</td>\n",
       "    </tr>\n",
       "    <tr>\n",
       "      <th>2</th>\n",
       "      <td>NaN</td>\n",
       "      <td>NaN</td>\n",
       "      <td>NaN</td>\n",
       "      <td>NaN</td>\n",
       "      <td>NaN</td>\n",
       "      <td>NaN</td>\n",
       "    </tr>\n",
       "    <tr>\n",
       "      <th>3</th>\n",
       "      <td>NaN</td>\n",
       "      <td>NaN</td>\n",
       "      <td>NaN</td>\n",
       "      <td>NaN</td>\n",
       "      <td>NaN</td>\n",
       "      <td>NaN</td>\n",
       "    </tr>\n",
       "    <tr>\n",
       "      <th>4</th>\n",
       "      <td>NaN</td>\n",
       "      <td>NaN</td>\n",
       "      <td>NaN</td>\n",
       "      <td>NaN</td>\n",
       "      <td>NaN</td>\n",
       "      <td>NaN</td>\n",
       "    </tr>\n",
       "    <tr>\n",
       "      <th>...</th>\n",
       "      <td>...</td>\n",
       "      <td>...</td>\n",
       "      <td>...</td>\n",
       "      <td>...</td>\n",
       "      <td>...</td>\n",
       "      <td>...</td>\n",
       "    </tr>\n",
       "    <tr>\n",
       "      <th>16271</th>\n",
       "      <td>NaN</td>\n",
       "      <td>NaN</td>\n",
       "      <td>NaN</td>\n",
       "      <td>NaN</td>\n",
       "      <td>NaN</td>\n",
       "      <td>NaN</td>\n",
       "    </tr>\n",
       "    <tr>\n",
       "      <th>16272</th>\n",
       "      <td>NaN</td>\n",
       "      <td>NaN</td>\n",
       "      <td>NaN</td>\n",
       "      <td>NaN</td>\n",
       "      <td>NaN</td>\n",
       "      <td>NaN</td>\n",
       "    </tr>\n",
       "    <tr>\n",
       "      <th>16273</th>\n",
       "      <td>NaN</td>\n",
       "      <td>NaN</td>\n",
       "      <td>NaN</td>\n",
       "      <td>NaN</td>\n",
       "      <td>NaN</td>\n",
       "      <td>NaN</td>\n",
       "    </tr>\n",
       "    <tr>\n",
       "      <th>16274</th>\n",
       "      <td>NaN</td>\n",
       "      <td>NaN</td>\n",
       "      <td>NaN</td>\n",
       "      <td>NaN</td>\n",
       "      <td>NaN</td>\n",
       "      <td>NaN</td>\n",
       "    </tr>\n",
       "    <tr>\n",
       "      <th>16275</th>\n",
       "      <td>NaN</td>\n",
       "      <td>NaN</td>\n",
       "      <td>NaN</td>\n",
       "      <td>NaN</td>\n",
       "      <td>NaN</td>\n",
       "      <td>NaN</td>\n",
       "    </tr>\n",
       "  </tbody>\n",
       "</table>\n",
       "<p>16276 rows × 6 columns</p>\n",
       "</div>"
      ],
      "text/plain": [
       "       year_of_arrival vessel_name  ... end_port slaves_onboard\n",
       "0                  NaN         NaN  ...      NaN            NaN\n",
       "1                  NaN         NaN  ...      NaN            NaN\n",
       "2                  NaN         NaN  ...      NaN            NaN\n",
       "3                  NaN         NaN  ...      NaN            NaN\n",
       "4                  NaN         NaN  ...      NaN            NaN\n",
       "...                ...         ...  ...      ...            ...\n",
       "16271              NaN         NaN  ...      NaN            NaN\n",
       "16272              NaN         NaN  ...      NaN            NaN\n",
       "16273              NaN         NaN  ...      NaN            NaN\n",
       "16274              NaN         NaN  ...      NaN            NaN\n",
       "16275              NaN         NaN  ...      NaN            NaN\n",
       "\n",
       "[16276 rows x 6 columns]"
      ]
     },
     "execution_count": 45,
     "metadata": {
      "tags": []
     },
     "output_type": "execute_result"
    }
   ],
   "source": [
    "dataset_between17_18 = modified_dataset.where((modified_dataset['year_of_arrival'] >= 1701) & (modified_dataset['year_of_arrival'] <= 1800) )\n",
    "\n",
    "dataset_between17_18"
   ]
  },
  {
   "cell_type": "code",
   "execution_count": null,
   "metadata": {
    "colab": {
     "base_uri": "https://localhost:8080/",
     "height": 391
    },
    "colab_type": "code",
    "id": "UztHQkTmHlgx",
    "outputId": "977c868e-5fa5-49bf-e763-89fbba08a651"
   },
   "outputs": [
    {
     "data": {
      "text/html": [
       "<div>\n",
       "<style scoped>\n",
       "    .dataframe tbody tr th:only-of-type {\n",
       "        vertical-align: middle;\n",
       "    }\n",
       "\n",
       "    .dataframe tbody tr th {\n",
       "        vertical-align: top;\n",
       "    }\n",
       "\n",
       "    .dataframe thead th {\n",
       "        text-align: right;\n",
       "    }\n",
       "</style>\n",
       "<table border=\"1\" class=\"dataframe\">\n",
       "  <thead>\n",
       "    <tr style=\"text-align: right;\">\n",
       "      <th></th>\n",
       "      <th>year_of_arrival</th>\n",
       "      <th>vessel_name</th>\n",
       "      <th>voyage_started</th>\n",
       "      <th>voyage_pit_stop</th>\n",
       "      <th>end_port</th>\n",
       "      <th>slaves_onboard</th>\n",
       "    </tr>\n",
       "  </thead>\n",
       "  <tbody>\n",
       "    <tr>\n",
       "      <th>1001</th>\n",
       "      <td>1701.0</td>\n",
       "      <td>Monmouth Gally</td>\n",
       "      <td>London</td>\n",
       "      <td>Africa</td>\n",
       "      <td>Barbados</td>\n",
       "      <td>90.0</td>\n",
       "    </tr>\n",
       "    <tr>\n",
       "      <th>1002</th>\n",
       "      <td>1701.0</td>\n",
       "      <td>Unity</td>\n",
       "      <td>Barbados</td>\n",
       "      <td>Africa</td>\n",
       "      <td>Barbados</td>\n",
       "      <td>87.0</td>\n",
       "    </tr>\n",
       "    <tr>\n",
       "      <th>1003</th>\n",
       "      <td>1701.0</td>\n",
       "      <td>John and Mary</td>\n",
       "      <td>London</td>\n",
       "      <td>Africa</td>\n",
       "      <td>Jamaica</td>\n",
       "      <td>105.0</td>\n",
       "    </tr>\n",
       "    <tr>\n",
       "      <th>1004</th>\n",
       "      <td>1701.0</td>\n",
       "      <td>Marygold</td>\n",
       "      <td>Barbados</td>\n",
       "      <td>Africa</td>\n",
       "      <td>Barbados</td>\n",
       "      <td>143.0</td>\n",
       "    </tr>\n",
       "    <tr>\n",
       "      <th>1005</th>\n",
       "      <td>1701.0</td>\n",
       "      <td>Judith</td>\n",
       "      <td>London</td>\n",
       "      <td>Africa</td>\n",
       "      <td>Jamaica</td>\n",
       "      <td>135.0</td>\n",
       "    </tr>\n",
       "    <tr>\n",
       "      <th>...</th>\n",
       "      <td>...</td>\n",
       "      <td>...</td>\n",
       "      <td>...</td>\n",
       "      <td>...</td>\n",
       "      <td>...</td>\n",
       "      <td>...</td>\n",
       "    </tr>\n",
       "    <tr>\n",
       "      <th>11160</th>\n",
       "      <td>1800.0</td>\n",
       "      <td>Rodney</td>\n",
       "      <td>Liverpool</td>\n",
       "      <td>Gabon</td>\n",
       "      <td>Saint John (Antigua)</td>\n",
       "      <td>205.0</td>\n",
       "    </tr>\n",
       "    <tr>\n",
       "      <th>11161</th>\n",
       "      <td>1800.0</td>\n",
       "      <td>Prudent</td>\n",
       "      <td>Rhode Island</td>\n",
       "      <td>Africa</td>\n",
       "      <td>Philadelphia</td>\n",
       "      <td>16.0</td>\n",
       "    </tr>\n",
       "    <tr>\n",
       "      <th>11162</th>\n",
       "      <td>1800.0</td>\n",
       "      <td>Sally</td>\n",
       "      <td>Newport</td>\n",
       "      <td>Africa</td>\n",
       "      <td>Havana</td>\n",
       "      <td>59.0</td>\n",
       "    </tr>\n",
       "    <tr>\n",
       "      <th>11163</th>\n",
       "      <td>1800.0</td>\n",
       "      <td>Good Intent</td>\n",
       "      <td>Rhode Island</td>\n",
       "      <td>Africa</td>\n",
       "      <td>Havana</td>\n",
       "      <td>87.0</td>\n",
       "    </tr>\n",
       "    <tr>\n",
       "      <th>11164</th>\n",
       "      <td>1800.0</td>\n",
       "      <td>Friendship</td>\n",
       "      <td>Newport</td>\n",
       "      <td>Africa</td>\n",
       "      <td>Havana</td>\n",
       "      <td>45.0</td>\n",
       "    </tr>\n",
       "  </tbody>\n",
       "</table>\n",
       "<p>10164 rows × 6 columns</p>\n",
       "</div>"
      ],
      "text/plain": [
       "       year_of_arrival     vessel_name  ...              end_port slaves_onboard\n",
       "1001            1701.0  Monmouth Gally  ...              Barbados           90.0\n",
       "1002            1701.0           Unity  ...              Barbados           87.0\n",
       "1003            1701.0   John and Mary  ...               Jamaica          105.0\n",
       "1004            1701.0        Marygold  ...              Barbados          143.0\n",
       "1005            1701.0          Judith  ...               Jamaica          135.0\n",
       "...                ...             ...  ...                   ...            ...\n",
       "11160           1800.0          Rodney  ...  Saint John (Antigua)          205.0\n",
       "11161           1800.0         Prudent  ...          Philadelphia           16.0\n",
       "11162           1800.0           Sally  ...                Havana           59.0\n",
       "11163           1800.0     Good Intent  ...                Havana           87.0\n",
       "11164           1800.0      Friendship  ...                Havana           45.0\n",
       "\n",
       "[10164 rows x 6 columns]"
      ]
     },
     "execution_count": 46,
     "metadata": {
      "tags": []
     },
     "output_type": "execute_result"
    }
   ],
   "source": [
    "dataset_between17_18 = dataset_between17_18.dropna()\n",
    "\n",
    "dataset_between17_18"
   ]
  },
  {
   "cell_type": "markdown",
   "metadata": {
    "colab_type": "text",
    "id": "8Pu1E16BHlg0"
   },
   "source": [
    "### Total Number of Slaves Transported between 1701-1800 - Complete Records\n"
   ]
  },
  {
   "cell_type": "code",
   "execution_count": null,
   "metadata": {
    "colab": {},
    "colab_type": "code",
    "id": "ICN8XRxYHlg0"
   },
   "outputs": [],
   "source": []
  },
  {
   "cell_type": "markdown",
   "metadata": {
    "colab_type": "text",
    "id": "aoav5Z58Hlg2"
   },
   "source": [
    "### Visualizing Trips During 1701-1801"
   ]
  },
  {
   "cell_type": "code",
   "execution_count": null,
   "metadata": {
    "colab": {},
    "colab_type": "code",
    "id": "c6LVgQ1wHlg3"
   },
   "outputs": [],
   "source": []
  },
  {
   "cell_type": "markdown",
   "metadata": {
    "colab_type": "text",
    "id": "p65ASw2_Hlg6"
   },
   "source": [
    "### Pandas Plots"
   ]
  },
  {
   "cell_type": "code",
   "execution_count": null,
   "metadata": {
    "colab": {},
    "colab_type": "code",
    "id": "bU5P2A0CHlg7"
   },
   "outputs": [],
   "source": []
  },
  {
   "cell_type": "markdown",
   "metadata": {
    "colab_type": "text",
    "id": "ejs7tofyHlg9"
   },
   "source": [
    "### Check the most used 'start_port' for number_of_slaves > 200"
   ]
  },
  {
   "cell_type": "code",
   "execution_count": null,
   "metadata": {
    "colab": {},
    "colab_type": "code",
    "id": "5g_CwoUBHlg9"
   },
   "outputs": [],
   "source": []
  },
  {
   "cell_type": "markdown",
   "metadata": {
    "colab_type": "text",
    "id": "wQXiGjGLHlhB"
   },
   "source": [
    "### Check the most used 'voyage_pit_stop' for number_of_slaves > 200"
   ]
  },
  {
   "cell_type": "code",
   "execution_count": null,
   "metadata": {
    "colab": {},
    "colab_type": "code",
    "id": "yiLTrPGTHlhB"
   },
   "outputs": [],
   "source": []
  },
  {
   "cell_type": "markdown",
   "metadata": {
    "colab_type": "text",
    "id": "VHcaOGz9HlhD"
   },
   "source": [
    "### Check the most used 'End_Port' "
   ]
  },
  {
   "cell_type": "code",
   "execution_count": null,
   "metadata": {
    "colab": {},
    "colab_type": "code",
    "id": "2XHKgB-qHlhE",
    "scrolled": false
   },
   "outputs": [],
   "source": []
  },
  {
   "cell_type": "markdown",
   "metadata": {
    "colab_type": "text",
    "id": "84pXofoLHlhG"
   },
   "source": [
    "## B. Between 1801- 1900"
   ]
  },
  {
   "cell_type": "code",
   "execution_count": null,
   "metadata": {
    "colab": {
     "base_uri": "https://localhost:8080/",
     "height": 391
    },
    "colab_type": "code",
    "id": "n9y5tp0qHlhG",
    "outputId": "95eb23f5-6fe6-4ea1-8f78-9145ceb5daae"
   },
   "outputs": [
    {
     "data": {
      "text/html": [
       "<div>\n",
       "<style scoped>\n",
       "    .dataframe tbody tr th:only-of-type {\n",
       "        vertical-align: middle;\n",
       "    }\n",
       "\n",
       "    .dataframe tbody tr th {\n",
       "        vertical-align: top;\n",
       "    }\n",
       "\n",
       "    .dataframe thead th {\n",
       "        text-align: right;\n",
       "    }\n",
       "</style>\n",
       "<table border=\"1\" class=\"dataframe\">\n",
       "  <thead>\n",
       "    <tr style=\"text-align: right;\">\n",
       "      <th></th>\n",
       "      <th>year_of_arrival</th>\n",
       "      <th>vessel_name</th>\n",
       "      <th>voyage_started</th>\n",
       "      <th>voyage_pit_stop</th>\n",
       "      <th>end_port</th>\n",
       "      <th>slaves_onboard</th>\n",
       "    </tr>\n",
       "  </thead>\n",
       "  <tbody>\n",
       "    <tr>\n",
       "      <th>0</th>\n",
       "      <td>NaN</td>\n",
       "      <td>NaN</td>\n",
       "      <td>NaN</td>\n",
       "      <td>NaN</td>\n",
       "      <td>NaN</td>\n",
       "      <td>NaN</td>\n",
       "    </tr>\n",
       "    <tr>\n",
       "      <th>1</th>\n",
       "      <td>NaN</td>\n",
       "      <td>NaN</td>\n",
       "      <td>NaN</td>\n",
       "      <td>NaN</td>\n",
       "      <td>NaN</td>\n",
       "      <td>NaN</td>\n",
       "    </tr>\n",
       "    <tr>\n",
       "      <th>2</th>\n",
       "      <td>NaN</td>\n",
       "      <td>NaN</td>\n",
       "      <td>NaN</td>\n",
       "      <td>NaN</td>\n",
       "      <td>NaN</td>\n",
       "      <td>NaN</td>\n",
       "    </tr>\n",
       "    <tr>\n",
       "      <th>3</th>\n",
       "      <td>NaN</td>\n",
       "      <td>NaN</td>\n",
       "      <td>NaN</td>\n",
       "      <td>NaN</td>\n",
       "      <td>NaN</td>\n",
       "      <td>NaN</td>\n",
       "    </tr>\n",
       "    <tr>\n",
       "      <th>4</th>\n",
       "      <td>NaN</td>\n",
       "      <td>NaN</td>\n",
       "      <td>NaN</td>\n",
       "      <td>NaN</td>\n",
       "      <td>NaN</td>\n",
       "      <td>NaN</td>\n",
       "    </tr>\n",
       "    <tr>\n",
       "      <th>...</th>\n",
       "      <td>...</td>\n",
       "      <td>...</td>\n",
       "      <td>...</td>\n",
       "      <td>...</td>\n",
       "      <td>...</td>\n",
       "      <td>...</td>\n",
       "    </tr>\n",
       "    <tr>\n",
       "      <th>16271</th>\n",
       "      <td>1863.0</td>\n",
       "      <td>Marghareta (a) Mariquita</td>\n",
       "      <td>New York</td>\n",
       "      <td>Congo River</td>\n",
       "      <td>St Helena</td>\n",
       "      <td>459.0</td>\n",
       "    </tr>\n",
       "    <tr>\n",
       "      <th>16272</th>\n",
       "      <td>1863.0</td>\n",
       "      <td>Cicerón (a) City of Norwich</td>\n",
       "      <td>Cadiz</td>\n",
       "      <td>Whydah</td>\n",
       "      <td>Cuba</td>\n",
       "      <td>960.0</td>\n",
       "    </tr>\n",
       "    <tr>\n",
       "      <th>16273</th>\n",
       "      <td>1863.0</td>\n",
       "      <td>Haydee</td>\n",
       "      <td>Lisbon</td>\n",
       "      <td>Ambriz</td>\n",
       "      <td>St Helena</td>\n",
       "      <td>577.0</td>\n",
       "    </tr>\n",
       "    <tr>\n",
       "      <th>16274</th>\n",
       "      <td>1864.0</td>\n",
       "      <td>Pondichery</td>\n",
       "      <td>Mediterranean coast (France)</td>\n",
       "      <td>Congo River</td>\n",
       "      <td>Cuba</td>\n",
       "      <td>659.0</td>\n",
       "    </tr>\n",
       "    <tr>\n",
       "      <th>16275</th>\n",
       "      <td>1864.0</td>\n",
       "      <td>Virgen Del Refugio</td>\n",
       "      <td>Cadiz</td>\n",
       "      <td>Benguela</td>\n",
       "      <td>Luanda</td>\n",
       "      <td>3.0</td>\n",
       "    </tr>\n",
       "  </tbody>\n",
       "</table>\n",
       "<p>16276 rows × 6 columns</p>\n",
       "</div>"
      ],
      "text/plain": [
       "       year_of_arrival                  vessel_name  ...   end_port slaves_onboard\n",
       "0                  NaN                          NaN  ...        NaN            NaN\n",
       "1                  NaN                          NaN  ...        NaN            NaN\n",
       "2                  NaN                          NaN  ...        NaN            NaN\n",
       "3                  NaN                          NaN  ...        NaN            NaN\n",
       "4                  NaN                          NaN  ...        NaN            NaN\n",
       "...                ...                          ...  ...        ...            ...\n",
       "16271           1863.0     Marghareta (a) Mariquita  ...  St Helena          459.0\n",
       "16272           1863.0  Cicerón (a) City of Norwich  ...       Cuba          960.0\n",
       "16273           1863.0                       Haydee  ...  St Helena          577.0\n",
       "16274           1864.0                   Pondichery  ...       Cuba          659.0\n",
       "16275           1864.0           Virgen Del Refugio  ...     Luanda            3.0\n",
       "\n",
       "[16276 rows x 6 columns]"
      ]
     },
     "execution_count": 47,
     "metadata": {
      "tags": []
     },
     "output_type": "execute_result"
    }
   ],
   "source": [
    "dataset_between18_19 = modified_dataset.where((modified_dataset['year_of_arrival'] >= 1801) & (modified_dataset['year_of_arrival'] <= 1900) )\n",
    "\n",
    "dataset_between18_19"
   ]
  },
  {
   "cell_type": "code",
   "execution_count": null,
   "metadata": {
    "colab": {
     "base_uri": "https://localhost:8080/",
     "height": 391
    },
    "colab_type": "code",
    "id": "KVKVgtIEHlhI",
    "outputId": "affcdbba-0664-4f6e-b7b6-3ec73dbe20f9"
   },
   "outputs": [
    {
     "data": {
      "text/html": [
       "<div>\n",
       "<style scoped>\n",
       "    .dataframe tbody tr th:only-of-type {\n",
       "        vertical-align: middle;\n",
       "    }\n",
       "\n",
       "    .dataframe tbody tr th {\n",
       "        vertical-align: top;\n",
       "    }\n",
       "\n",
       "    .dataframe thead th {\n",
       "        text-align: right;\n",
       "    }\n",
       "</style>\n",
       "<table border=\"1\" class=\"dataframe\">\n",
       "  <thead>\n",
       "    <tr style=\"text-align: right;\">\n",
       "      <th></th>\n",
       "      <th>year_of_arrival</th>\n",
       "      <th>vessel_name</th>\n",
       "      <th>voyage_started</th>\n",
       "      <th>voyage_pit_stop</th>\n",
       "      <th>end_port</th>\n",
       "      <th>slaves_onboard</th>\n",
       "    </tr>\n",
       "  </thead>\n",
       "  <tbody>\n",
       "    <tr>\n",
       "      <th>11165</th>\n",
       "      <td>1801.0</td>\n",
       "      <td>Charlotte</td>\n",
       "      <td>London</td>\n",
       "      <td>Lagos, Onim</td>\n",
       "      <td>Dominica</td>\n",
       "      <td>123.0</td>\n",
       "    </tr>\n",
       "    <tr>\n",
       "      <th>11166</th>\n",
       "      <td>1801.0</td>\n",
       "      <td>Hector</td>\n",
       "      <td>Liverpool</td>\n",
       "      <td>West Central Africa and St Helena</td>\n",
       "      <td>Kingston</td>\n",
       "      <td>370.0</td>\n",
       "    </tr>\n",
       "    <tr>\n",
       "      <th>11167</th>\n",
       "      <td>1801.0</td>\n",
       "      <td>Caridade</td>\n",
       "      <td>Rio de Janeiro</td>\n",
       "      <td>Benguela</td>\n",
       "      <td>Rio de Janeiro</td>\n",
       "      <td>394.0</td>\n",
       "    </tr>\n",
       "    <tr>\n",
       "      <th>11168</th>\n",
       "      <td>1801.0</td>\n",
       "      <td>NS de Nazaré</td>\n",
       "      <td>Rio de Janeiro</td>\n",
       "      <td>Benguela</td>\n",
       "      <td>Rio de Janeiro</td>\n",
       "      <td>511.0</td>\n",
       "    </tr>\n",
       "    <tr>\n",
       "      <th>11169</th>\n",
       "      <td>1801.0</td>\n",
       "      <td>John</td>\n",
       "      <td>Liverpool</td>\n",
       "      <td>Sierra Leone estuary</td>\n",
       "      <td>Suriname</td>\n",
       "      <td>76.0</td>\n",
       "    </tr>\n",
       "    <tr>\n",
       "      <th>...</th>\n",
       "      <td>...</td>\n",
       "      <td>...</td>\n",
       "      <td>...</td>\n",
       "      <td>...</td>\n",
       "      <td>...</td>\n",
       "      <td>...</td>\n",
       "    </tr>\n",
       "    <tr>\n",
       "      <th>16271</th>\n",
       "      <td>1863.0</td>\n",
       "      <td>Marghareta (a) Mariquita</td>\n",
       "      <td>New York</td>\n",
       "      <td>Congo River</td>\n",
       "      <td>St Helena</td>\n",
       "      <td>459.0</td>\n",
       "    </tr>\n",
       "    <tr>\n",
       "      <th>16272</th>\n",
       "      <td>1863.0</td>\n",
       "      <td>Cicerón (a) City of Norwich</td>\n",
       "      <td>Cadiz</td>\n",
       "      <td>Whydah</td>\n",
       "      <td>Cuba</td>\n",
       "      <td>960.0</td>\n",
       "    </tr>\n",
       "    <tr>\n",
       "      <th>16273</th>\n",
       "      <td>1863.0</td>\n",
       "      <td>Haydee</td>\n",
       "      <td>Lisbon</td>\n",
       "      <td>Ambriz</td>\n",
       "      <td>St Helena</td>\n",
       "      <td>577.0</td>\n",
       "    </tr>\n",
       "    <tr>\n",
       "      <th>16274</th>\n",
       "      <td>1864.0</td>\n",
       "      <td>Pondichery</td>\n",
       "      <td>Mediterranean coast (France)</td>\n",
       "      <td>Congo River</td>\n",
       "      <td>Cuba</td>\n",
       "      <td>659.0</td>\n",
       "    </tr>\n",
       "    <tr>\n",
       "      <th>16275</th>\n",
       "      <td>1864.0</td>\n",
       "      <td>Virgen Del Refugio</td>\n",
       "      <td>Cadiz</td>\n",
       "      <td>Benguela</td>\n",
       "      <td>Luanda</td>\n",
       "      <td>3.0</td>\n",
       "    </tr>\n",
       "  </tbody>\n",
       "</table>\n",
       "<p>5111 rows × 6 columns</p>\n",
       "</div>"
      ],
      "text/plain": [
       "       year_of_arrival  ... slaves_onboard\n",
       "11165           1801.0  ...          123.0\n",
       "11166           1801.0  ...          370.0\n",
       "11167           1801.0  ...          394.0\n",
       "11168           1801.0  ...          511.0\n",
       "11169           1801.0  ...           76.0\n",
       "...                ...  ...            ...\n",
       "16271           1863.0  ...          459.0\n",
       "16272           1863.0  ...          960.0\n",
       "16273           1863.0  ...          577.0\n",
       "16274           1864.0  ...          659.0\n",
       "16275           1864.0  ...            3.0\n",
       "\n",
       "[5111 rows x 6 columns]"
      ]
     },
     "execution_count": 48,
     "metadata": {
      "tags": []
     },
     "output_type": "execute_result"
    }
   ],
   "source": [
    "dataset_between18_19 = dataset_between18_19.dropna()\n",
    "\n",
    "dataset_between18_19"
   ]
  },
  {
   "cell_type": "markdown",
   "metadata": {
    "colab_type": "text",
    "id": "F66q8RjvHlhL"
   },
   "source": [
    "### Total Number of Slaves Transported between 1801-1900 - Complete Records\n"
   ]
  },
  {
   "cell_type": "code",
   "execution_count": null,
   "metadata": {
    "colab": {},
    "colab_type": "code",
    "id": "SWaElllYHlhM"
   },
   "outputs": [],
   "source": []
  },
  {
   "cell_type": "markdown",
   "metadata": {
    "colab_type": "text",
    "id": "4Cy7QPXaHlhO"
   },
   "source": [
    "### Visualizing Trips During 1801-1900"
   ]
  },
  {
   "cell_type": "code",
   "execution_count": null,
   "metadata": {
    "colab": {},
    "colab_type": "code",
    "id": "U-pb7BQbHlhO"
   },
   "outputs": [],
   "source": []
  },
  {
   "cell_type": "markdown",
   "metadata": {
    "colab_type": "text",
    "id": "Qy7PewKsHlhQ"
   },
   "source": [
    "### Pandas Plots"
   ]
  },
  {
   "cell_type": "code",
   "execution_count": null,
   "metadata": {
    "colab": {},
    "colab_type": "code",
    "id": "VeafP9zTHlhR"
   },
   "outputs": [],
   "source": []
  },
  {
   "cell_type": "markdown",
   "metadata": {
    "colab_type": "text",
    "id": "lhYJLqUUHlhV"
   },
   "source": [
    "### Check the most used 'start_port' for number_of_slaves > 200"
   ]
  },
  {
   "cell_type": "code",
   "execution_count": null,
   "metadata": {
    "colab": {},
    "colab_type": "code",
    "id": "ES-eLhpaHlhV"
   },
   "outputs": [],
   "source": []
  },
  {
   "cell_type": "markdown",
   "metadata": {
    "colab_type": "text",
    "id": "GW44LbYwHlhY"
   },
   "source": [
    "### Check the most used 'voyage_pit_stop' for number_of_slaves > 200"
   ]
  },
  {
   "cell_type": "code",
   "execution_count": null,
   "metadata": {
    "colab": {},
    "colab_type": "code",
    "id": "GMJGOq2iHlhY"
   },
   "outputs": [],
   "source": []
  },
  {
   "cell_type": "markdown",
   "metadata": {
    "colab_type": "text",
    "id": "RVVMQGubHlhb"
   },
   "source": [
    "### Check the most used 'End_Port' "
   ]
  },
  {
   "cell_type": "code",
   "execution_count": null,
   "metadata": {
    "colab": {},
    "colab_type": "code",
    "id": "UMMIesEyHlhc",
    "scrolled": false
   },
   "outputs": [],
   "source": []
  },
  {
   "cell_type": "markdown",
   "metadata": {
    "colab_type": "text",
    "id": "NweDUhRVHlhe"
   },
   "source": [
    "## Resources"
   ]
  },
  {
   "cell_type": "markdown",
   "metadata": {
    "colab_type": "text",
    "id": "VByUUKTiIYM-"
   },
   "source": [
    "# Appendix"
   ]
  },
  {
   "cell_type": "markdown",
   "metadata": {
    "colab_type": "text",
    "id": "ObtE8-BHODkC"
   },
   "source": [
    "## Connecting to Your Google Drive\n"
   ]
  },
  {
   "cell_type": "code",
   "execution_count": null,
   "metadata": {
    "colab": {},
    "colab_type": "code",
    "id": "_3xzPhI_ByD5"
   },
   "outputs": [],
   "source": [
    "# Start by connecting google drive into google colab\n",
    "\n",
    "from google.colab import drive\n",
    "\n",
    "drive.mount('/content/gdrive')"
   ]
  },
  {
   "cell_type": "code",
   "execution_count": null,
   "metadata": {
    "colab": {},
    "colab_type": "code",
    "id": "_epZFcuXNVRv"
   },
   "outputs": [],
   "source": [
    "!ls \"/content/gdrive/My Drive/DigitalHistory\""
   ]
  },
  {
   "cell_type": "code",
   "execution_count": null,
   "metadata": {
    "colab": {},
    "colab_type": "code",
    "id": "y6r-8UBGNueF"
   },
   "outputs": [],
   "source": [
    "cd \"/content/gdrive/My Drive/DigitalHistory/tmp/trans-atlantic-slave-trade\""
   ]
  },
  {
   "cell_type": "code",
   "execution_count": null,
   "metadata": {
    "colab": {},
    "colab_type": "code",
    "id": "Pp8mubdjVqY2"
   },
   "outputs": [],
   "source": [
    "ls"
   ]
  },
  {
   "cell_type": "code",
   "execution_count": null,
   "metadata": {
    "colab": {},
    "colab_type": "code",
    "id": "ZLhlkjd3Hlhr"
   },
   "outputs": [],
   "source": [
    "### Extracting ZipFiles"
   ]
  },
  {
   "cell_type": "code",
   "execution_count": null,
   "metadata": {
    "colab": {},
    "colab_type": "code",
    "id": "rzDr3KIkOJdy"
   },
   "outputs": [],
   "source": [
    "\n",
    "import zipfile\n"
   ]
  },
  {
   "cell_type": "code",
   "execution_count": null,
   "metadata": {
    "colab": {},
    "colab_type": "code",
    "id": "zkIDSJWUQFCV"
   },
   "outputs": [],
   "source": [
    "file_location = 'data/trans-atlantic-slave-trade.csv.zip'\n",
    "\n",
    "zip_ref = zipfile.ZipFile(file_location,'r')\n",
    "zip_ref.extractall('data/tmp/trans-atlantic-slave-trade')\n",
    "zip_ref.close()"
   ]
  },
  {
   "cell_type": "markdown",
   "metadata": {
    "colab_type": "text",
    "id": "TI9Zcwf5Hlh2"
   },
   "source": [
    "### Checking and Changing Column Types \n",
    "```df.dtypes``` and ```df.astype()```"
   ]
  },
  {
   "cell_type": "code",
   "execution_count": null,
   "metadata": {
    "colab": {},
    "colab_type": "code",
    "id": "pGl1MUnOHlh3"
   },
   "outputs": [],
   "source": [
    "df.dtypes"
   ]
  },
  {
   "cell_type": "code",
   "execution_count": null,
   "metadata": {
    "colab": {},
    "colab_type": "code",
    "id": "JIG8wtR2Hlh6"
   },
   "outputs": [],
   "source": [
    "df.year_of_arrival.astype(int)"
   ]
  },
  {
   "cell_type": "code",
   "execution_count": null,
   "metadata": {
    "colab": {},
    "colab_type": "code",
    "id": "Z4Wl6kePHlh9"
   },
   "outputs": [],
   "source": [
    "df.dtypes"
   ]
  },
  {
   "cell_type": "code",
   "execution_count": null,
   "metadata": {
    "colab": {},
    "colab_type": "code",
    "id": "-V4Kbei5HliA"
   },
   "outputs": [],
   "source": [
    "df.year_of_arrival = df.year_of_arrival.astype(int)"
   ]
  },
  {
   "cell_type": "code",
   "execution_count": null,
   "metadata": {
    "colab": {},
    "colab_type": "code",
    "id": "fPgIGprYHliD"
   },
   "outputs": [],
   "source": [
    "df.dtypes"
   ]
  },
  {
   "cell_type": "markdown",
   "metadata": {
    "colab_type": "text",
    "id": "vL0gW74bHliI"
   },
   "source": [
    "**Extra**:\n",
    "```df.slaves_onboard = df.slaves_onboard.astype(int)```"
   ]
  },
  {
   "cell_type": "code",
   "execution_count": null,
   "metadata": {
    "colab": {},
    "colab_type": "code",
    "id": "obBSXVY2HliI"
   },
   "outputs": [],
   "source": [
    "df.slaves_onboard = df.slaves_onboard.astype(int)"
   ]
  },
  {
   "cell_type": "code",
   "execution_count": null,
   "metadata": {
    "colab": {},
    "colab_type": "code",
    "id": "bmm_3kqnHliK"
   },
   "outputs": [],
   "source": [
    "df.dtypes"
   ]
  },
  {
   "cell_type": "code",
   "execution_count": null,
   "metadata": {
    "colab": {},
    "colab_type": "code",
    "id": "9dC_vb_KHliM"
   },
   "outputs": [],
   "source": [
    "df"
   ]
  },
  {
   "cell_type": "markdown",
   "metadata": {
    "colab_type": "text",
    "id": "s3AFqNpu2GJ4"
   },
   "source": [
    "### GeoTagging Locations"
   ]
  },
  {
   "cell_type": "code",
   "execution_count": null,
   "metadata": {
    "colab": {},
    "colab_type": "code",
    "id": "lpBC6OsdEwl-"
   },
   "outputs": [],
   "source": [
    "!pip install geopandas\n"
   ]
  },
  {
   "cell_type": "code",
   "execution_count": null,
   "metadata": {
    "colab": {},
    "colab_type": "code",
    "id": "3N9KNSl-15ll"
   },
   "outputs": [],
   "source": [
    "!pip install googlemaps"
   ]
  },
  {
   "cell_type": "code",
   "execution_count": null,
   "metadata": {
    "colab": {},
    "colab_type": "code",
    "id": "0gYRsx8v2HfO"
   },
   "outputs": [],
   "source": [
    "from googlemaps import Client as GoogleMaps\n",
    "import pandas as pd "
   ]
  },
  {
   "cell_type": "code",
   "execution_count": null,
   "metadata": {
    "colab": {},
    "colab_type": "code",
    "id": "GYqCDWTt2KKz"
   },
   "outputs": [],
   "source": [
    "gmaps = GoogleMaps('')# ENTER KEY"
   ]
  },
  {
   "cell_type": "code",
   "execution_count": null,
   "metadata": {
    "colab": {},
    "colab_type": "code",
    "id": "bLLkI_sD9hzv"
   },
   "outputs": [],
   "source": [
    "df"
   ]
  },
  {
   "cell_type": "code",
   "execution_count": null,
   "metadata": {
    "colab": {},
    "colab_type": "code",
    "id": "AKnGxe_w2Lzw"
   },
   "outputs": [],
   "source": [
    "addresses = df.filter(['Voyage itinerary imputed port where began (ptdepimp) place'], axis=1)\n",
    "addresses.head()"
   ]
  },
  {
   "cell_type": "code",
   "execution_count": null,
   "metadata": {
    "colab": {},
    "colab_type": "code",
    "id": "TVEZc-Qs2PbV"
   },
   "outputs": [],
   "source": [
    "addresses['long'] = \"\"\n",
    "addresses['lat'] = \"\""
   ]
  },
  {
   "cell_type": "code",
   "execution_count": null,
   "metadata": {
    "colab": {},
    "colab_type": "code",
    "id": "sBJppNIY9ZBP"
   },
   "outputs": [],
   "source": [
    "addresses"
   ]
  }
 ],
 "metadata": {
  "colab": {
   "collapsed_sections": [
    "ObtE8-BHODkC",
    "N8w70yKWOH_c",
    "7q6R0hBZONBe",
    "mCNQqlwecmjv",
    "66hyyirMlq6S",
    "aEsoTghMmsuq",
    "UFfKdw9eV6Wc"
   ],
   "include_colab_link": true,
   "name": "Week4-PROJECT-Visualize-Trans-Atlantic-Slave-Trade.ipynb",
   "provenance": []
  },
  "kernelspec": {
   "display_name": "Python 3",
   "language": "python",
   "name": "python3"
  },
  "language_info": {
   "codemirror_mode": {
    "name": "ipython",
    "version": 3
   },
   "file_extension": ".py",
   "mimetype": "text/x-python",
   "name": "python",
   "nbconvert_exporter": "python",
   "pygments_lexer": "ipython3",
   "version": "3.7.4"
  }
 },
 "nbformat": 4,
 "nbformat_minor": 1
}
