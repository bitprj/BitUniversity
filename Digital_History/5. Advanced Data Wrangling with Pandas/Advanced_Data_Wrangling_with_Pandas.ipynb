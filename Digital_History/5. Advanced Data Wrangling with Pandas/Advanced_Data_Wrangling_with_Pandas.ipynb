{
  "nbformat": 4,
  "nbformat_minor": 0,
  "metadata": {
    "colab": {
      "name": "Advanced_Data_Wrangling_with_Pandas.ipynb",
      "provenance": [],
      "collapsed_sections": [],
      "toc_visible": true,
      "include_colab_link": true
    },
    "kernelspec": {
      "display_name": "Python 3",
      "language": "python",
      "name": "python3"
    },
    "language_info": {
      "codemirror_mode": {
        "name": "ipython",
        "version": 3
      },
      "file_extension": ".py",
      "mimetype": "text/x-python",
      "name": "python",
      "nbconvert_exporter": "python",
      "pygments_lexer": "ipython3",
      "version": "3.7.4"
    }
  },
  "cells": [
    {
      "cell_type": "markdown",
      "metadata": {
        "id": "view-in-github",
        "colab_type": "text"
      },
      "source": [
        "<a href=\"https://colab.research.google.com/github/bitprj/DigitalHistory/blob/master/Week6-Advanced-Data-Wrangling-using-Pandas/Advanced_Data_Wrangling_with_Pandas.ipynb\" target=\"_parent\"><img src=\"https://colab.research.google.com/assets/colab-badge.svg\" alt=\"Open In Colab\"/></a>"
      ]
    },
    {
      "cell_type": "markdown",
      "metadata": {
        "id": "rajNUstB0COd"
      },
      "source": [
        "<img src=\"https://github.com/bitprj/DigitalHistory/blob/Narae/Week3-Introduction-to-Open-Data-Importing-Data-and-Basic-Data-Wrangling/assets/icons/bitproject.png?raw=1\" width=\"200\" align=\"left\"> \n",
        "<img src=\"https://github.com/bitprj/DigitalHistory/blob/Narae/Week3-Introduction-to-Open-Data-Importing-Data-and-Basic-Data-Wrangling/assets/icons/data-science.jpg?raw=1\" width=\"300\" align=\"right\">"
      ]
    },
    {
      "cell_type": "markdown",
      "metadata": {
        "id": "uiA_TGuB0COe"
      },
      "source": [
        "# <div align=\"center\">Advanced Data Wrangling with Pandas</div>"
      ]
    },
    {
      "cell_type": "markdown",
      "metadata": {
        "id": "Yl__4vuWJQk8"
      },
      "source": [
        "## Table of Contents\n",
        "\n",
        "- Series\n",
        "    - Creating a Series\n",
        "    - Sorting a Series\n",
        "        - **1.0 - Now Try This**\n",
        "    - Accessing an element in a Series\n",
        "        - **2.0 - Now Try This**\n",
        "        - **3.0 - Now Try This**\n",
        "    - Binary Operations\n",
        "        - **4.0 - Now Try This**\n",
        "\n",
        "- Advanced Dataframe\n",
        "    - Creaing new columns\n",
        "    - Replacing NaN values\n",
        "    - Sorting the dataset\n",
        "    - Selecting subset of data\n",
        "        - **5.0 - Now Try This**\n",
        "    - Dropping entities\n",
        "    - Unique values in columns\n",
        "    - Joining dataset\n",
        "        - Merge\n",
        "        - Join\n",
        "\n",
        "- Practical Exercise: Flight Delay data\n",
        "    - Join dataset\n",
        "    - Groupby\n",
        "    - Filtering based on condition\n",
        "    - **6.0 - Now Try This**\n",
        "    - **7.0 - Now Try This**\n",
        "    - **8.0 - Now Try This**\n",
        "    - **9.0 - Now Try This**\n"
      ]
    },
    {
      "cell_type": "markdown",
      "metadata": {
        "id": "1X9xt1J4K2eD"
      },
      "source": [
        "## Dataframe vs. Series\n",
        "There are two main data structures you need to get comfortable with: **Dataframes** and **Series** (Remember: we covered the basics of Dataframes in Week 3.)\n",
        "\n",
        "To refresh your memory, **Dataframes** are tabular, column-oriented data structures with both row and column labels. \n",
        "\n",
        "**Series** is a 1-dimensional labeled array and it can hold data of any type (integer, string, float, python objects, etc.). Series has indices and data values and it is similar to dictionary as it is a mapping of indices to data values.\n"
      ]
    },
    {
      "cell_type": "markdown",
      "metadata": {
        "id": "-sVyHy3f0Ldx"
      },
      "source": [
        "### Grading\n",
        "\n",
        "There are a total of 9 questions and each question is worth 1 point.\n",
        "\n",
        "In order to work on the Homework sections and submit them for grading, you'll need to run the code block below. It will ask for your student ID number and then create a folder that will house your answers for each question. At the very end of the notebook, there is a code section that will download this folder as a zip file to your computer. This zip file will be your final submission."
      ]
    },
    {
      "cell_type": "code",
      "metadata": {
        "id": "jX0ubhQGAqNv"
      },
      "source": [
        "import os\n",
        "import shutil\n",
        "\n",
        "!rm -rf sample_data\n",
        "\n",
        "student_id = input('Please Enter your Student ID: ') # Enter Student ID.\n",
        "\n",
        "while len(student_id) != 9:\n",
        " student_id = int('Please Enter your Student ID: ')  \n",
        "  \n",
        "folder_location = f'{student_id}/Week_Twelve/Now_Try_This'\n",
        "if not os.path.exists(folder_location):\n",
        "  os.makedirs(folder_location)\n",
        "  print('Successfully Created Directory, Lets get started')\n",
        "else:\n",
        "  print('Directory Already Exists')"
      ],
      "execution_count": null,
      "outputs": []
    },
    {
      "cell_type": "markdown",
      "metadata": {
        "id": "I6UlYJSdMkEb"
      },
      "source": [
        "## Series\n",
        "\n"
      ]
    },
    {
      "cell_type": "markdown",
      "metadata": {
        "id": "2QYD9FNvNvCy"
      },
      "source": [
        "### Creating a Series\n",
        "\n",
        "A series can be created from a:\n",
        "1. scalar\n",
        "2. list\n",
        "2. dictionary"
      ]
    },
    {
      "cell_type": "markdown",
      "metadata": {
        "id": "tX8LOIj-Mx-s"
      },
      "source": [
        "First and foremost, let's import the Pandas library."
      ]
    },
    {
      "cell_type": "code",
      "metadata": {
        "id": "4PwCmTIwMgvQ"
      },
      "source": [
        "import pandas as pd"
      ],
      "execution_count": null,
      "outputs": []
    },
    {
      "cell_type": "markdown",
      "metadata": {
        "id": "o6SM5MwCnjJx"
      },
      "source": [
        "#### 1. Creating a Series from Scalars"
      ]
    },
    {
      "cell_type": "code",
      "metadata": {
        "id": "ao8D97SxnmbA",
        "colab": {
          "base_uri": "https://localhost:8080/"
        },
        "outputId": "ef2dca59-b4f7-4758-cdc4-decff3626364"
      },
      "source": [
        "pd.Series(3)"
      ],
      "execution_count": null,
      "outputs": [
        {
          "output_type": "execute_result",
          "data": {
            "text/plain": [
              "0    3\n",
              "dtype: int64"
            ]
          },
          "metadata": {
            "tags": []
          },
          "execution_count": 2
        }
      ]
    },
    {
      "cell_type": "code",
      "metadata": {
        "id": "B-pDM2AudeIu",
        "colab": {
          "base_uri": "https://localhost:8080/"
        },
        "outputId": "579e1417-6540-465f-adf2-b7888b4ab7fb"
      },
      "source": [
        "pd.Series(3, index =[0, 1, 2, 3, 4, 5])"
      ],
      "execution_count": null,
      "outputs": [
        {
          "output_type": "execute_result",
          "data": {
            "text/plain": [
              "0    3\n",
              "1    3\n",
              "2    3\n",
              "3    3\n",
              "4    3\n",
              "5    3\n",
              "dtype: int64"
            ]
          },
          "metadata": {
            "tags": []
          },
          "execution_count": 3
        }
      ]
    },
    {
      "cell_type": "markdown",
      "metadata": {
        "id": "kuTD87cQM7Ic"
      },
      "source": [
        "#### 2-1. Creating a Series from a List w/o Indices. \n",
        "\n",
        "By default, indices start at 0 and end at len(array) - 1. \n",
        "\n",
        "In this example, as we didn't specify the index, the first index is 0 and the last index is 3, which is len(array)-1."
      ]
    },
    {
      "cell_type": "code",
      "metadata": {
        "id": "X5wt-CqFM_8I",
        "colab": {
          "base_uri": "https://localhost:8080/"
        },
        "outputId": "cef3d8d9-bc4a-4276-90ae-a86d98c47a35"
      },
      "source": [
        "aList = ['a','b','c']\n",
        "pd.Series(aList)"
      ],
      "execution_count": null,
      "outputs": [
        {
          "output_type": "execute_result",
          "data": {
            "text/plain": [
              "0    a\n",
              "1    b\n",
              "2    c\n",
              "dtype: object"
            ]
          },
          "metadata": {
            "tags": []
          },
          "execution_count": 5
        }
      ]
    },
    {
      "cell_type": "markdown",
      "metadata": {
        "id": "CA3N7-qyNaVM"
      },
      "source": [
        "#### 2-2. Creating a Series from a List with Indices\n",
        "\n",
        "If we want to assign a different index instead of the default ones, we can specify that."
      ]
    },
    {
      "cell_type": "code",
      "metadata": {
        "id": "2WLaQGvyNZmc",
        "colab": {
          "base_uri": "https://localhost:8080/"
        },
        "outputId": "2f6308be-8a74-42a8-c11a-9bbae0058c5a"
      },
      "source": [
        "array = ['a','b','c','d']\n",
        "pd.Series(array,index=[1,2,3,4])"
      ],
      "execution_count": null,
      "outputs": [
        {
          "output_type": "execute_result",
          "data": {
            "text/plain": [
              "1    a\n",
              "2    b\n",
              "3    c\n",
              "4    d\n",
              "dtype: object"
            ]
          },
          "metadata": {
            "tags": []
          },
          "execution_count": 7
        }
      ]
    },
    {
      "cell_type": "markdown",
      "metadata": {
        "id": "n4Zr_-rGZpVp"
      },
      "source": [
        "Using the examples below, we can check if indices must be sorted. In this example, the indices are not sorted (105 --> 103 --> 102 --> 109 --> 104 --> 110). Let's see what it returns!"
      ]
    },
    {
      "cell_type": "code",
      "metadata": {
        "id": "fksXDh47Yjr-",
        "colab": {
          "base_uri": "https://localhost:8080/"
        },
        "outputId": "dfdd05aa-c1b2-4109-bb1f-1d207c538f9f"
      },
      "source": [
        "names = ['Daisy', 'Matt', 'Kelly', 'Mike', 'Ashley', 'Kyle']\n",
        "pd.Series(names, index=[105,103,102,109,104,110])"
      ],
      "execution_count": null,
      "outputs": [
        {
          "output_type": "execute_result",
          "data": {
            "text/plain": [
              "105     Daisy\n",
              "103      Matt\n",
              "102     Kelly\n",
              "109      Mike\n",
              "104    Ashley\n",
              "110      Kyle\n",
              "dtype: object"
            ]
          },
          "metadata": {
            "tags": []
          },
          "execution_count": 8
        }
      ]
    },
    {
      "cell_type": "markdown",
      "metadata": {
        "id": "enB_T7hRaY2v"
      },
      "source": [
        "Then, the question is \"Are the indices unique?\"\n",
        "Let's check it out!"
      ]
    },
    {
      "cell_type": "code",
      "metadata": {
        "id": "Hl52EALyajA9"
      },
      "source": [
        "names = ['Daisy', 'Matt', 'Kelly', 'Mike', 'Ashley', 'Kyle']\n",
        "s = pd.Series(names, index=[100,100,102,102,103,110])\n",
        "s"
      ],
      "execution_count": null,
      "outputs": []
    },
    {
      "cell_type": "markdown",
      "metadata": {
        "id": "hf0xKPN4aqKO"
      },
      "source": [
        "The indices don't have to be unique!"
      ]
    },
    {
      "cell_type": "markdown",
      "metadata": {
        "id": "eldUp__3a39a"
      },
      "source": [
        "Can we use non-numerical indices?\n",
        "Let's check it out!"
      ]
    },
    {
      "cell_type": "code",
      "metadata": {
        "id": "r0OsTILZavIU",
        "colab": {
          "base_uri": "https://localhost:8080/"
        },
        "outputId": "d48956a0-4bcb-4a38-805d-27c754ad3b94"
      },
      "source": [
        "names = ['Daisy', 'Matt', 'Kelly', 'Mike', 'Narae']\n",
        "cities=[\"Atlanta\", \"San Francisco\", \"New York\", \"Seattle\", \"Atlanta\"]\n",
        "\n",
        "s = pd.Series(names, index=cities)\n",
        "s"
      ],
      "execution_count": null,
      "outputs": [
        {
          "output_type": "execute_result",
          "data": {
            "text/plain": [
              "Atlanta          Daisy\n",
              "San Francisco     Matt\n",
              "New York         Kelly\n",
              "Seattle           Mike\n",
              "Atlanta          Narae\n",
              "dtype: object"
            ]
          },
          "metadata": {
            "tags": []
          },
          "execution_count": 18
        }
      ]
    },
    {
      "cell_type": "code",
      "metadata": {
        "id": "fTsDYb9vHDwC",
        "colab": {
          "base_uri": "https://localhost:8080/"
        },
        "outputId": "83789019-e874-4bcb-eb83-b174e267f648"
      },
      "source": [
        "s['Atlanta']"
      ],
      "execution_count": null,
      "outputs": [
        {
          "output_type": "execute_result",
          "data": {
            "text/plain": [
              "Atlanta    Daisy\n",
              "Atlanta    Narae\n",
              "dtype: object"
            ]
          },
          "metadata": {
            "tags": []
          },
          "execution_count": 19
        }
      ]
    },
    {
      "cell_type": "markdown",
      "metadata": {
        "id": "grAsKkbMbCz6"
      },
      "source": [
        "We found out that the indices don't have to be numbers."
      ]
    },
    {
      "cell_type": "code",
      "metadata": {
        "id": "adBBZeBWbJqP",
        "colab": {
          "base_uri": "https://localhost:8080/"
        },
        "outputId": "fb8dbc6f-d185-4559-d583-b0c6a81de127"
      },
      "source": [
        "names = ['Daisy', 'Matt', 'Kelly', 'Mike']\n",
        "index_list = [0.79, -5, 13, \"Hello\"]\n",
        "pd.Series(names, index=index_list)"
      ],
      "execution_count": null,
      "outputs": [
        {
          "output_type": "execute_result",
          "data": {
            "text/plain": [
              "0.79     Daisy\n",
              "-5        Matt\n",
              "13       Kelly\n",
              "Hello     Mike\n",
              "dtype: object"
            ]
          },
          "metadata": {
            "tags": []
          },
          "execution_count": 11
        }
      ]
    },
    {
      "cell_type": "markdown",
      "metadata": {
        "id": "aRAJ7s4MMQls"
      },
      "source": [
        "We used a float, positive and negative integers, and a string as indices and it worked! \n",
        "\n",
        "This example is to demonstrate that you can use any datatype as indices; in the real world, it's more common to keep the datatype consistent for indices."
      ]
    },
    {
      "cell_type": "markdown",
      "metadata": {
        "id": "1Wxi8Jy6OMW3"
      },
      "source": [
        "#### 3. Creating a Series from a Dictionary\n",
        "We can create a Series from a **dictionary**! Let's see how it works!"
      ]
    },
    {
      "cell_type": "code",
      "metadata": {
        "id": "zmOi4mPMOXVn",
        "colab": {
          "base_uri": "https://localhost:8080/"
        },
        "outputId": "185dffdb-0c12-4d01-d1e5-ffadd90cdb44"
      },
      "source": [
        "# aDict stores how many fruits we have.\n",
        "aDict = {'Apple':3, 'Banana':5, 'Cherry': 2, 'Mango': 13, 'Peach': 10}\n",
        "pd.Series(aDict)"
      ],
      "execution_count": null,
      "outputs": [
        {
          "output_type": "execute_result",
          "data": {
            "text/plain": [
              "Apple      3\n",
              "Banana     5\n",
              "Cherry     2\n",
              "Mango     13\n",
              "Peach     10\n",
              "dtype: int64"
            ]
          },
          "metadata": {
            "tags": []
          },
          "execution_count": 12
        }
      ]
    },
    {
      "cell_type": "markdown",
      "metadata": {
        "id": "wtIiqIC1FXd6"
      },
      "source": [
        "When we are passing `aDict` to `pd.Series()`, the order in which the fruits were added is preserved in `aDict`."
      ]
    },
    {
      "cell_type": "code",
      "metadata": {
        "id": "Jd2PNDmkFszH",
        "colab": {
          "base_uri": "https://localhost:8080/"
        },
        "outputId": "5ed3852c-501c-4c84-e868-6008197604bf"
      },
      "source": [
        "aDict = {'Mango': 13, 'Banana':5, 'Cherry':2, 'Apple': 3, 'Peach': 10}\n",
        "pd.Series(aDict)"
      ],
      "execution_count": null,
      "outputs": [
        {
          "output_type": "execute_result",
          "data": {
            "text/plain": [
              "Mango     13\n",
              "Banana     5\n",
              "Cherry     2\n",
              "Apple      3\n",
              "Peach     10\n",
              "dtype: int64"
            ]
          },
          "metadata": {
            "tags": []
          },
          "execution_count": 13
        }
      ]
    },
    {
      "cell_type": "markdown",
      "metadata": {
        "id": "YiHLLOgacg0Q"
      },
      "source": [
        "If we want to know the datatype of a Series, we can call the `dtype` function."
      ]
    },
    {
      "cell_type": "code",
      "metadata": {
        "id": "llyeLKz7ca8W",
        "colab": {
          "base_uri": "https://localhost:8080/"
        },
        "outputId": "a9d32d5b-a297-4b3c-e742-8e070beaa611"
      },
      "source": [
        "aDict = {'Mango': 13, 'Banana':5, 'Cherry':2, 'Apple': 3, 'Peach': 10}\n",
        "pd.Series(aDict).dtype"
      ],
      "execution_count": null,
      "outputs": [
        {
          "output_type": "execute_result",
          "data": {
            "text/plain": [
              "dtype('int64')"
            ]
          },
          "metadata": {
            "tags": []
          },
          "execution_count": 20
        }
      ]
    },
    {
      "cell_type": "markdown",
      "metadata": {
        "id": "X_YVm1C9cq9I"
      },
      "source": [
        "Now, let's change the value for \"Mango.\" We will change the value to 13.45 and see what `dtype` returns!"
      ]
    },
    {
      "cell_type": "code",
      "metadata": {
        "id": "pWcf03jccoUh",
        "colab": {
          "base_uri": "https://localhost:8080/"
        },
        "outputId": "9af84f9e-fd6e-4f7f-812d-887664f2bc3a"
      },
      "source": [
        "aDict = {'Mango': 13.45, 'Banana':5, 'Cherry':2, 'Apple': 3, 'Peach': \"hello\"}\n",
        "pd.Series(aDict).dtype"
      ],
      "execution_count": null,
      "outputs": [
        {
          "output_type": "execute_result",
          "data": {
            "text/plain": [
              "dtype('O')"
            ]
          },
          "metadata": {
            "tags": []
          },
          "execution_count": 21
        }
      ]
    },
    {
      "cell_type": "markdown",
      "metadata": {
        "id": "82Mus9Lgc8yA"
      },
      "source": [
        "If we want to print out indices only, we can use the ```index``` property."
      ]
    },
    {
      "cell_type": "code",
      "metadata": {
        "id": "rmyIfv1jc3fB",
        "colab": {
          "base_uri": "https://localhost:8080/"
        },
        "outputId": "39abc7d0-a12d-42d9-c8d4-1e71530400a8"
      },
      "source": [
        "aDict = {'Mango': 13.45, 'Banana':5, 'Cherry':2, 'Apple': 3, 'Peach': 10}\n",
        "pd.Series(aDict).index"
      ],
      "execution_count": null,
      "outputs": [
        {
          "output_type": "execute_result",
          "data": {
            "text/plain": [
              "Index(['Mango', 'Banana', 'Cherry', 'Apple', 'Peach'], dtype='object')"
            ]
          },
          "metadata": {
            "tags": []
          },
          "execution_count": 22
        }
      ]
    },
    {
      "cell_type": "markdown",
      "metadata": {
        "id": "gWiC4VKG0CPF"
      },
      "source": [
        "We can print out the values of a Series in a similar way. We can just use the ```values``` property instead."
      ]
    },
    {
      "cell_type": "code",
      "metadata": {
        "id": "4cWGtdpq0CPF",
        "colab": {
          "base_uri": "https://localhost:8080/"
        },
        "outputId": "e6d4d478-6b4a-4991-e73d-42f91c93b7ae"
      },
      "source": [
        "pd.Series(aDict).values"
      ],
      "execution_count": null,
      "outputs": [
        {
          "output_type": "execute_result",
          "data": {
            "text/plain": [
              "array([13.45,  5.  ,  2.  ,  3.  , 10.  ])"
            ]
          },
          "metadata": {
            "tags": []
          },
          "execution_count": 23
        }
      ]
    },
    {
      "cell_type": "markdown",
      "metadata": {
        "id": "z_A54Pi5kX6G"
      },
      "source": [
        "### Sorting a Series"
      ]
    },
    {
      "cell_type": "markdown",
      "metadata": {
        "id": "8Nf4i2n3G2eU"
      },
      "source": [
        "If we want to sort the Series by \"index\", we can use the ```sort_index()``` function."
      ]
    },
    {
      "cell_type": "code",
      "metadata": {
        "id": "UtfyBj5dGxzh",
        "colab": {
          "base_uri": "https://localhost:8080/"
        },
        "outputId": "85950633-f5e3-4809-c2fa-876c58840ce7"
      },
      "source": [
        "s = pd.Series(aDict)\n",
        "s.sort_index()"
      ],
      "execution_count": null,
      "outputs": [
        {
          "output_type": "execute_result",
          "data": {
            "text/plain": [
              "Apple      3.00\n",
              "Banana     5.00\n",
              "Cherry     2.00\n",
              "Mango     13.45\n",
              "Peach     10.00\n",
              "dtype: float64"
            ]
          },
          "metadata": {
            "tags": []
          },
          "execution_count": 24
        }
      ]
    },
    {
      "cell_type": "markdown",
      "metadata": {
        "id": "10CStP_aO6xP"
      },
      "source": [
        "Similarly, if we want to sort the series based on values, we can use the `sort_values` function. By default, it will sort the elements in ascending order."
      ]
    },
    {
      "cell_type": "code",
      "metadata": {
        "id": "M6yuEei4OmpK",
        "colab": {
          "base_uri": "https://localhost:8080/"
        },
        "outputId": "519b725e-17cb-4adb-ad78-23aa0758a384"
      },
      "source": [
        "s = pd.Series(aDict)\n",
        "s.sort_values()"
      ],
      "execution_count": null,
      "outputs": [
        {
          "output_type": "execute_result",
          "data": {
            "text/plain": [
              "Cherry     2.00\n",
              "Apple      3.00\n",
              "Banana     5.00\n",
              "Peach     10.00\n",
              "Mango     13.45\n",
              "dtype: float64"
            ]
          },
          "metadata": {
            "tags": []
          },
          "execution_count": 25
        }
      ]
    },
    {
      "cell_type": "markdown",
      "metadata": {
        "id": "PvI4f3ITP3Bc"
      },
      "source": [
        "Let's sort the series in descending order."
      ]
    },
    {
      "cell_type": "code",
      "metadata": {
        "id": "mv_d1kiTO5vZ",
        "colab": {
          "base_uri": "https://localhost:8080/"
        },
        "outputId": "97742f89-fe08-4b9b-914a-7b168c04cf5a"
      },
      "source": [
        "s.sort_values(ascending=False)"
      ],
      "execution_count": null,
      "outputs": [
        {
          "output_type": "execute_result",
          "data": {
            "text/plain": [
              "Mango     13.45\n",
              "Peach     10.00\n",
              "Banana     5.00\n",
              "Apple      3.00\n",
              "Cherry     2.00\n",
              "dtype: float64"
            ]
          },
          "metadata": {
            "tags": []
          },
          "execution_count": 26
        }
      ]
    },
    {
      "cell_type": "markdown",
      "metadata": {
        "id": "RItg7im2dJhY"
      },
      "source": [
        "### 1.0 - Now Try This\n",
        "Sort the series by index in descending order."
      ]
    },
    {
      "cell_type": "code",
      "metadata": {
        "id": "jDPgcKDOeLpk"
      },
      "source": [
        "# Once your have verified your answer please uncomment the line below and run it, this will save your code \n",
        "#%%writefile -a {folder_location}/1.py\n",
        "# Please note that if you uncomment and run multiple times, the program will keep appending to the file.\n",
        "\n",
        "\n",
        "# INSERT CODE HERE"
      ],
      "execution_count": null,
      "outputs": []
    },
    {
      "cell_type": "markdown",
      "metadata": {
        "id": "tj7D1cz6POtl"
      },
      "source": [
        "### Accessing an Element in a Series\n",
        "\n",
        "We can access elements in a Series in the following ways:\n",
        "- by index number\n",
        "- by index label"
      ]
    },
    {
      "cell_type": "code",
      "metadata": {
        "id": "Z-wAc-uWR9Hp",
        "colab": {
          "base_uri": "https://localhost:8080/"
        },
        "outputId": "ab667b0d-7f4a-4ce1-d096-0799109db2f0"
      },
      "source": [
        "array = ['a','b','c','d','e','f','g','h']\n",
        "s = pd.Series(array)\n",
        "s"
      ],
      "execution_count": null,
      "outputs": [
        {
          "output_type": "execute_result",
          "data": {
            "text/plain": [
              "0    a\n",
              "1    b\n",
              "2    c\n",
              "3    d\n",
              "4    e\n",
              "5    f\n",
              "6    g\n",
              "7    h\n",
              "dtype: object"
            ]
          },
          "metadata": {
            "tags": []
          },
          "execution_count": 27
        }
      ]
    },
    {
      "cell_type": "markdown",
      "metadata": {
        "id": "RaWWGQAGptvL"
      },
      "source": [
        "#### 1. By Index Number"
      ]
    },
    {
      "cell_type": "markdown",
      "metadata": {
        "id": "Qpt2sMYhRiTY"
      },
      "source": [
        "We can access the first element by index number 0."
      ]
    },
    {
      "cell_type": "code",
      "metadata": {
        "id": "UCXBaQoQPWnq",
        "colab": {
          "base_uri": "https://localhost:8080/",
          "height": 37
        },
        "outputId": "3fcf319d-c296-4cff-ed56-5a1bf254ddfe"
      },
      "source": [
        "s[0]"
      ],
      "execution_count": null,
      "outputs": [
        {
          "output_type": "execute_result",
          "data": {
            "application/vnd.google.colaboratory.intrinsic+json": {
              "type": "string"
            },
            "text/plain": [
              "'a'"
            ]
          },
          "metadata": {
            "tags": []
          },
          "execution_count": 28
        }
      ]
    },
    {
      "cell_type": "code",
      "metadata": {
        "id": "Cf64v-7DSViQ",
        "colab": {
          "base_uri": "https://localhost:8080/",
          "height": 37
        },
        "outputId": "405e6c11-5f2c-4782-9ea2-4ea97b5716b1"
      },
      "source": [
        "s[5]"
      ],
      "execution_count": null,
      "outputs": [
        {
          "output_type": "execute_result",
          "data": {
            "application/vnd.google.colaboratory.intrinsic+json": {
              "type": "string"
            },
            "text/plain": [
              "'f'"
            ]
          },
          "metadata": {
            "tags": []
          },
          "execution_count": 29
        }
      ]
    },
    {
      "cell_type": "markdown",
      "metadata": {
        "id": "XMY-qqdmSJo8"
      },
      "source": [
        "We can access the first 3 elements with slicing operation [:3]"
      ]
    },
    {
      "cell_type": "code",
      "metadata": {
        "id": "e9ipGYg3R4P7",
        "colab": {
          "base_uri": "https://localhost:8080/"
        },
        "outputId": "e9f39d23-b389-4633-fe77-d2c7054e785f"
      },
      "source": [
        "s[:3]"
      ],
      "execution_count": null,
      "outputs": [
        {
          "output_type": "execute_result",
          "data": {
            "text/plain": [
              "0    a\n",
              "1    b\n",
              "2    c\n",
              "dtype: object"
            ]
          },
          "metadata": {
            "tags": []
          },
          "execution_count": 30
        }
      ]
    },
    {
      "cell_type": "markdown",
      "metadata": {
        "id": "I-bKEGiCpMyx"
      },
      "source": [
        "### 2.0 - Now Try This\n",
        "\n",
        "Access the items in the 3-5 indices (inclusive) using slicing operations."
      ]
    },
    {
      "cell_type": "code",
      "metadata": {
        "id": "HRfHErUFecOx"
      },
      "source": [
        "# Once your have verified your answer please uncomment the line below and run it, this will save your code \n",
        "#%%writefile -a {folder_location}/2.py\n",
        "# Please note that if you uncomment and run multiple times, the program will keep appending to the file.\n",
        "\n",
        "\n",
        "# INSERT CODE HERE"
      ],
      "execution_count": null,
      "outputs": []
    },
    {
      "cell_type": "markdown",
      "metadata": {
        "id": "2dk4jHp6pzJL"
      },
      "source": [
        "#### By Index Label"
      ]
    },
    {
      "cell_type": "markdown",
      "metadata": {
        "id": "dWDXjvfPS5uQ"
      },
      "source": [
        "\n",
        "We can retrieve a single element using index labels."
      ]
    },
    {
      "cell_type": "code",
      "metadata": {
        "id": "6HRnMdYASH3y",
        "colab": {
          "base_uri": "https://localhost:8080/"
        },
        "outputId": "0175a1a8-567e-45cb-a16b-6595ba1d24d2"
      },
      "source": [
        "aDict = {'Apple':3, 'Banana':5, 'Cherry': 2, 'Peach': 10}\n",
        "s = pd.Series(aDict)\n",
        "s['Apple']"
      ],
      "execution_count": null,
      "outputs": [
        {
          "output_type": "execute_result",
          "data": {
            "text/plain": [
              "3"
            ]
          },
          "metadata": {
            "tags": []
          },
          "execution_count": 31
        }
      ]
    },
    {
      "cell_type": "code",
      "metadata": {
        "id": "NjMMQTHES3CL",
        "colab": {
          "base_uri": "https://localhost:8080/"
        },
        "outputId": "d13f293f-84f3-499f-8b43-234c156edb4a"
      },
      "source": [
        "s['Peach']"
      ],
      "execution_count": null,
      "outputs": [
        {
          "output_type": "execute_result",
          "data": {
            "text/plain": [
              "10"
            ]
          },
          "metadata": {
            "tags": []
          },
          "execution_count": 32
        }
      ]
    },
    {
      "cell_type": "markdown",
      "metadata": {
        "id": "dz2IesgGp5a7"
      },
      "source": [
        "### 3.0 - Now Try This\n",
        "\n"
      ]
    },
    {
      "cell_type": "code",
      "metadata": {
        "id": "BW1mziJRTEPn"
      },
      "source": [
        "s = pd.Series([1,2,3,4,5],index = ['a','b','c','d','e'])"
      ],
      "execution_count": null,
      "outputs": []
    },
    {
      "cell_type": "markdown",
      "metadata": {
        "id": "fTcTEUUzqDx5"
      },
      "source": [
        "Retrieve the element that corresponds to index 'd'."
      ]
    },
    {
      "cell_type": "code",
      "metadata": {
        "id": "mycjM0mDeekK"
      },
      "source": [
        "# Once your have verified your answer please uncomment the line below and run it, this will save your code \n",
        "#%%writefile -a {folder_location}/3.py\n",
        "# Please note that if you uncomment and run multiple times, the program will keep appending to the file.\n",
        "\n",
        "\n",
        "# INSERT CODE HERE"
      ],
      "execution_count": null,
      "outputs": []
    },
    {
      "cell_type": "markdown",
      "metadata": {
        "id": "Cfbdclds1OSj"
      },
      "source": [
        "### Binary Operations of Series\n",
        "- Add\n",
        "- Sub\n",
        "- Mul"
      ]
    },
    {
      "cell_type": "markdown",
      "metadata": {
        "id": "FFcxfIA91bBj"
      },
      "source": [
        "Here, we have created two Series with numbers."
      ]
    },
    {
      "cell_type": "code",
      "metadata": {
        "id": "z2qRhcz51NfD"
      },
      "source": [
        "# creating a first series\n",
        "s1 = pd.Series([1,5,6,2])\n",
        " \n",
        "# creating a second series\n",
        "s2 = pd.Series([4,1,3,5])"
      ],
      "execution_count": null,
      "outputs": []
    },
    {
      "cell_type": "markdown",
      "metadata": {
        "id": "hNXSZot2NkVk"
      },
      "source": [
        "Let's add the two Series!"
      ]
    },
    {
      "cell_type": "code",
      "metadata": {
        "id": "JpC94kgxNbqd",
        "colab": {
          "base_uri": "https://localhost:8080/"
        },
        "outputId": "4cc78598-b5d1-4b65-8c61-b8c009243b55"
      },
      "source": [
        "# answer = s1 + s2\n",
        "answer = s1.add(s2)\n",
        "print(answer)"
      ],
      "execution_count": null,
      "outputs": [
        {
          "output_type": "stream",
          "text": [
            "0    5\n",
            "1    6\n",
            "2    9\n",
            "3    7\n",
            "dtype: int64\n"
          ],
          "name": "stdout"
        }
      ]
    },
    {
      "cell_type": "markdown",
      "metadata": {
        "id": "td9U_MhY2Lnv"
      },
      "source": [
        "We can also subtract a Series from another using the `sub()` function."
      ]
    },
    {
      "cell_type": "code",
      "metadata": {
        "id": "Odw0eFWy2A85",
        "colab": {
          "base_uri": "https://localhost:8080/"
        },
        "outputId": "863e4ec2-d8a7-4403-a93c-eaafb8426e20"
      },
      "source": [
        "# answer = s1 - s2\n",
        "answer = s1.sub(s2)\n",
        "print(answer)"
      ],
      "execution_count": null,
      "outputs": [
        {
          "output_type": "stream",
          "text": [
            "0   -3\n",
            "1    4\n",
            "2    3\n",
            "3   -3\n",
            "dtype: int64\n"
          ],
          "name": "stdout"
        }
      ]
    },
    {
      "cell_type": "markdown",
      "metadata": {
        "id": "IScMXHQ01zTc"
      },
      "source": [
        "Finally, we can multiply two Series using the `mul()` function."
      ]
    },
    {
      "cell_type": "code",
      "metadata": {
        "id": "i_HM2J9U3ozL",
        "colab": {
          "base_uri": "https://localhost:8080/"
        },
        "outputId": "630aa3c2-1261-44e1-89e6-c0030fa5f744"
      },
      "source": [
        "answer = s1.mul(s2)\n",
        "print(answer)"
      ],
      "execution_count": null,
      "outputs": [
        {
          "output_type": "stream",
          "text": [
            "0     4\n",
            "1     5\n",
            "2    18\n",
            "3    10\n",
            "dtype: int64\n"
          ],
          "name": "stdout"
        }
      ]
    },
    {
      "cell_type": "markdown",
      "metadata": {
        "id": "dSpiQb6A29Ag"
      },
      "source": [
        "We can also perform these operations using simple mathematical notation and it will give us the same result."
      ]
    },
    {
      "cell_type": "code",
      "metadata": {
        "id": "R0BlOzUn3g3u",
        "colab": {
          "base_uri": "https://localhost:8080/"
        },
        "outputId": "452e38e6-7d9e-4120-cdb4-d6a2da1794a1"
      },
      "source": [
        "s1 + s2"
      ],
      "execution_count": null,
      "outputs": [
        {
          "output_type": "execute_result",
          "data": {
            "text/plain": [
              "0    5\n",
              "1    6\n",
              "2    9\n",
              "3    7\n",
              "dtype: int64"
            ]
          },
          "metadata": {
            "tags": []
          },
          "execution_count": 37
        }
      ]
    },
    {
      "cell_type": "code",
      "metadata": {
        "id": "JGfGW06a23oM",
        "colab": {
          "base_uri": "https://localhost:8080/"
        },
        "outputId": "a7ffd9b0-4252-4bfd-8685-09e514c21049"
      },
      "source": [
        "s1 - s2"
      ],
      "execution_count": null,
      "outputs": [
        {
          "output_type": "execute_result",
          "data": {
            "text/plain": [
              "0   -3\n",
              "1    4\n",
              "2    3\n",
              "3   -3\n",
              "dtype: int64"
            ]
          },
          "metadata": {
            "tags": []
          },
          "execution_count": 38
        }
      ]
    },
    {
      "cell_type": "code",
      "metadata": {
        "id": "-YR673G22U4X",
        "colab": {
          "base_uri": "https://localhost:8080/"
        },
        "outputId": "4fc95015-6f7f-45b6-e4f8-dae11d6c06c4"
      },
      "source": [
        "s1 * s2"
      ],
      "execution_count": null,
      "outputs": [
        {
          "output_type": "execute_result",
          "data": {
            "text/plain": [
              "0     4\n",
              "1     5\n",
              "2    18\n",
              "3    10\n",
              "dtype: int64"
            ]
          },
          "metadata": {
            "tags": []
          },
          "execution_count": 39
        }
      ]
    },
    {
      "cell_type": "code",
      "metadata": {
        "id": "N39ipbJ5JYmp",
        "colab": {
          "base_uri": "https://localhost:8080/"
        },
        "outputId": "1011f314-f9a8-490e-c1ba-0c5d1668d131"
      },
      "source": [
        "s1 / s2"
      ],
      "execution_count": null,
      "outputs": [
        {
          "output_type": "execute_result",
          "data": {
            "text/plain": [
              "0    0.25\n",
              "1    5.00\n",
              "2    2.00\n",
              "3    0.40\n",
              "dtype: float64"
            ]
          },
          "metadata": {
            "tags": []
          },
          "execution_count": 40
        }
      ]
    },
    {
      "cell_type": "markdown",
      "metadata": {
        "id": "iJle2PlleXCC"
      },
      "source": [
        "Now, let's create two Series with indices. Note that the order of indices is different in the two Series."
      ]
    },
    {
      "cell_type": "code",
      "metadata": {
        "id": "s296gpaueBzP"
      },
      "source": [
        "# creating a first series\n",
        "s1 = pd.Series([1,5,6,2], index=['b','c','d','a'])\n",
        " \n",
        "# creating a second series\n",
        "s2 = pd.Series([4,1,3,5], index=['a','b','c','d'])"
      ],
      "execution_count": 4,
      "outputs": []
    },
    {
      "cell_type": "code",
      "metadata": {
        "id": "f3YngIopeLM2",
        "colab": {
          "base_uri": "https://localhost:8080/"
        },
        "outputId": "fd108786-7c53-4aaf-c42c-ba7de6ae07b4"
      },
      "source": [
        "s1 + s2"
      ],
      "execution_count": null,
      "outputs": [
        {
          "output_type": "execute_result",
          "data": {
            "text/plain": [
              "a     6\n",
              "b     2\n",
              "c     8\n",
              "d    11\n",
              "dtype: int64"
            ]
          },
          "metadata": {
            "tags": []
          },
          "execution_count": 42
        }
      ]
    },
    {
      "cell_type": "markdown",
      "metadata": {
        "id": "lXwdLqRw4Drr"
      },
      "source": [
        "The resulting Series' value for `'a'` is `6` is because `s1['a'] + s2['a'] = 6`. All the other values are calculated in the same way."
      ]
    },
    {
      "cell_type": "markdown",
      "metadata": {
        "id": "qHMy6E0M34h9"
      },
      "source": [
        "### 4.0 - Now Try This\n",
        "\n",
        "Write down what you think this code will print out on a piece of paper.\n",
        "Compare your answer with the actual output of the code."
      ]
    },
    {
      "cell_type": "code",
      "metadata": {
        "id": "IIrMQsPp39Z1",
        "outputId": "bdcdf67d-61b8-4abb-d068-221b3f07705f",
        "colab": {
          "base_uri": "https://localhost:8080/"
        }
      },
      "source": [
        "# Once your have verified your answer please uncomment the line below and run it, this will save your code \n",
        "#%%writefile -a {folder_location}/4.py\n",
        "# Please note that if you uncomment and run multiple times, the program will keep appending to the file.\n",
        "\n",
        "# RUN THIS CODE BLOCK -- no additional codes needed\n",
        "s1 = pd.Series([1,5,6,2], index=['b','c','d','a'])\n",
        "s2 = pd.Series([4,1,3,5], index=['a','b','c','d'])\n",
        "\n",
        "# Write down what you think this code will print out on a piece of paper.\n",
        "s1 * s2"
      ],
      "execution_count": 6,
      "outputs": [
        {
          "output_type": "execute_result",
          "data": {
            "text/plain": [
              "a     8\n",
              "b     1\n",
              "c    15\n",
              "d    30\n",
              "dtype: int64"
            ]
          },
          "metadata": {
            "tags": []
          },
          "execution_count": 6
        }
      ]
    },
    {
      "cell_type": "markdown",
      "metadata": {
        "id": "_P6XPZ0KeiAa"
      },
      "source": [
        "Now, let's put in string values in a series and see how binary operations work with strings."
      ]
    },
    {
      "cell_type": "code",
      "metadata": {
        "id": "CuDDhp4-zgwW",
        "colab": {
          "base_uri": "https://localhost:8080/"
        },
        "outputId": "00169d61-4389-4f0c-9de4-514527ccade9"
      },
      "source": [
        "# creating a first series\n",
        "s1 = pd.Series([\"apple\",\"banana\",\"Mango\",\"Pecan\"], index=['b','c','d','a'])\n",
        " \n",
        "# creating a second series\n",
        "s2 = pd.Series([\"pie\",\"pie\",\"bread\",\"smoothie\"], index=['a','b','c','d'])\n",
        "\n",
        "s1+ \" \" +s2"
      ],
      "execution_count": null,
      "outputs": [
        {
          "output_type": "execute_result",
          "data": {
            "text/plain": [
              "a         Pecan pie\n",
              "b         apple pie\n",
              "c      banana bread\n",
              "d    Mango smoothie\n",
              "dtype: object"
            ]
          },
          "metadata": {
            "tags": []
          },
          "execution_count": 43
        }
      ]
    },
    {
      "cell_type": "markdown",
      "metadata": {
        "id": "EJNR47rL43Zr"
      },
      "source": [
        "## Advanced Dataframes"
      ]
    },
    {
      "cell_type": "markdown",
      "metadata": {
        "id": "Jl3rMWUf6zF0"
      },
      "source": [
        "Now, let's move onto some more advanced ways to use Dataframes. To demonstrate this, we'll be using a dataframe for the following dataset."
      ]
    },
    {
      "cell_type": "code",
      "metadata": {
        "id": "lj3GrMli4xtz",
        "colab": {
          "base_uri": "https://localhost:8080/",
          "height": 297
        },
        "outputId": "5f7e2b07-8b43-4884-c6d6-d93210f830dc"
      },
      "source": [
        "data = {'First Name': ['Jennifer', 'Chris', 'John', 'Annie', 'Chloe', 'Jeremy', 'Allison', 'Hannah'], \n",
        "        'Last Name': ['Brown', 'Smith', 'Williams', 'Wong', 'Anderson', 'Scott', 'Kim', 'Mills'], \n",
        "        'Age': [16, 32, 21, 35, 27, 42, 28, 23],\n",
        "        'Hourly Wage': [8,14,60,44,80,54,32,16],\n",
        "        'Hours per week': [20,28,40,40,32,40,40,20],\n",
        "        'Years of experience': [0,2,None,9,None,4,5,None]\n",
        "        } \n",
        "\n",
        "emp = pd.DataFrame(data)\n",
        "emp"
      ],
      "execution_count": null,
      "outputs": [
        {
          "output_type": "execute_result",
          "data": {
            "text/html": [
              "<div>\n",
              "<style scoped>\n",
              "    .dataframe tbody tr th:only-of-type {\n",
              "        vertical-align: middle;\n",
              "    }\n",
              "\n",
              "    .dataframe tbody tr th {\n",
              "        vertical-align: top;\n",
              "    }\n",
              "\n",
              "    .dataframe thead th {\n",
              "        text-align: right;\n",
              "    }\n",
              "</style>\n",
              "<table border=\"1\" class=\"dataframe\">\n",
              "  <thead>\n",
              "    <tr style=\"text-align: right;\">\n",
              "      <th></th>\n",
              "      <th>First Name</th>\n",
              "      <th>Last Name</th>\n",
              "      <th>Age</th>\n",
              "      <th>Hourly Wage</th>\n",
              "      <th>Hours per week</th>\n",
              "      <th>Years of experience</th>\n",
              "    </tr>\n",
              "  </thead>\n",
              "  <tbody>\n",
              "    <tr>\n",
              "      <th>0</th>\n",
              "      <td>Jennifer</td>\n",
              "      <td>Brown</td>\n",
              "      <td>16</td>\n",
              "      <td>8</td>\n",
              "      <td>20</td>\n",
              "      <td>0.0</td>\n",
              "    </tr>\n",
              "    <tr>\n",
              "      <th>1</th>\n",
              "      <td>Chris</td>\n",
              "      <td>Smith</td>\n",
              "      <td>32</td>\n",
              "      <td>14</td>\n",
              "      <td>28</td>\n",
              "      <td>2.0</td>\n",
              "    </tr>\n",
              "    <tr>\n",
              "      <th>2</th>\n",
              "      <td>John</td>\n",
              "      <td>Williams</td>\n",
              "      <td>21</td>\n",
              "      <td>60</td>\n",
              "      <td>40</td>\n",
              "      <td>NaN</td>\n",
              "    </tr>\n",
              "    <tr>\n",
              "      <th>3</th>\n",
              "      <td>Annie</td>\n",
              "      <td>Wong</td>\n",
              "      <td>35</td>\n",
              "      <td>44</td>\n",
              "      <td>40</td>\n",
              "      <td>9.0</td>\n",
              "    </tr>\n",
              "    <tr>\n",
              "      <th>4</th>\n",
              "      <td>Chloe</td>\n",
              "      <td>Anderson</td>\n",
              "      <td>27</td>\n",
              "      <td>80</td>\n",
              "      <td>32</td>\n",
              "      <td>NaN</td>\n",
              "    </tr>\n",
              "    <tr>\n",
              "      <th>5</th>\n",
              "      <td>Jeremy</td>\n",
              "      <td>Scott</td>\n",
              "      <td>42</td>\n",
              "      <td>54</td>\n",
              "      <td>40</td>\n",
              "      <td>4.0</td>\n",
              "    </tr>\n",
              "    <tr>\n",
              "      <th>6</th>\n",
              "      <td>Allison</td>\n",
              "      <td>Kim</td>\n",
              "      <td>28</td>\n",
              "      <td>32</td>\n",
              "      <td>40</td>\n",
              "      <td>5.0</td>\n",
              "    </tr>\n",
              "    <tr>\n",
              "      <th>7</th>\n",
              "      <td>Hannah</td>\n",
              "      <td>Mills</td>\n",
              "      <td>23</td>\n",
              "      <td>16</td>\n",
              "      <td>20</td>\n",
              "      <td>NaN</td>\n",
              "    </tr>\n",
              "  </tbody>\n",
              "</table>\n",
              "</div>"
            ],
            "text/plain": [
              "  First Name Last Name  Age  Hourly Wage  Hours per week  Years of experience\n",
              "0   Jennifer     Brown   16            8              20                  0.0\n",
              "1      Chris     Smith   32           14              28                  2.0\n",
              "2       John  Williams   21           60              40                  NaN\n",
              "3      Annie      Wong   35           44              40                  9.0\n",
              "4      Chloe  Anderson   27           80              32                  NaN\n",
              "5     Jeremy     Scott   42           54              40                  4.0\n",
              "6    Allison       Kim   28           32              40                  5.0\n",
              "7     Hannah     Mills   23           16              20                  NaN"
            ]
          },
          "metadata": {
            "tags": []
          },
          "execution_count": 44
        }
      ]
    },
    {
      "cell_type": "markdown",
      "metadata": {
        "id": "Zl6-3HOnDUxM"
      },
      "source": [
        "### Creating New Columns\n",
        "\n",
        "#### String Manipulation\n",
        "\n",
        "We want to have a column displaying the full names of the people in the dataset. To do this, we can combine First Name and Last Name and create a new column called \"Full Name.\"\n",
        "\n",
        "The ```' '``` in the middle is adding a space between the first name and last name. "
      ]
    },
    {
      "cell_type": "code",
      "metadata": {
        "id": "4yC0jbKyBMsS",
        "colab": {
          "base_uri": "https://localhost:8080/",
          "height": 297
        },
        "outputId": "d9abf99d-bdd9-4a8f-bbf8-398705658733"
      },
      "source": [
        "# string manipulation\n",
        "emp['Full Name'] = emp['First Name'] + ' ' + emp['Last Name']\n",
        "emp"
      ],
      "execution_count": null,
      "outputs": [
        {
          "output_type": "execute_result",
          "data": {
            "text/html": [
              "<div>\n",
              "<style scoped>\n",
              "    .dataframe tbody tr th:only-of-type {\n",
              "        vertical-align: middle;\n",
              "    }\n",
              "\n",
              "    .dataframe tbody tr th {\n",
              "        vertical-align: top;\n",
              "    }\n",
              "\n",
              "    .dataframe thead th {\n",
              "        text-align: right;\n",
              "    }\n",
              "</style>\n",
              "<table border=\"1\" class=\"dataframe\">\n",
              "  <thead>\n",
              "    <tr style=\"text-align: right;\">\n",
              "      <th></th>\n",
              "      <th>First Name</th>\n",
              "      <th>Last Name</th>\n",
              "      <th>Age</th>\n",
              "      <th>Hourly Wage</th>\n",
              "      <th>Hours per week</th>\n",
              "      <th>Years of experience</th>\n",
              "      <th>Full Name</th>\n",
              "    </tr>\n",
              "  </thead>\n",
              "  <tbody>\n",
              "    <tr>\n",
              "      <th>0</th>\n",
              "      <td>Jennifer</td>\n",
              "      <td>Brown</td>\n",
              "      <td>16</td>\n",
              "      <td>8</td>\n",
              "      <td>20</td>\n",
              "      <td>0.0</td>\n",
              "      <td>Jennifer Brown</td>\n",
              "    </tr>\n",
              "    <tr>\n",
              "      <th>1</th>\n",
              "      <td>Chris</td>\n",
              "      <td>Smith</td>\n",
              "      <td>32</td>\n",
              "      <td>14</td>\n",
              "      <td>28</td>\n",
              "      <td>2.0</td>\n",
              "      <td>Chris Smith</td>\n",
              "    </tr>\n",
              "    <tr>\n",
              "      <th>2</th>\n",
              "      <td>John</td>\n",
              "      <td>Williams</td>\n",
              "      <td>21</td>\n",
              "      <td>60</td>\n",
              "      <td>40</td>\n",
              "      <td>NaN</td>\n",
              "      <td>John Williams</td>\n",
              "    </tr>\n",
              "    <tr>\n",
              "      <th>3</th>\n",
              "      <td>Annie</td>\n",
              "      <td>Wong</td>\n",
              "      <td>35</td>\n",
              "      <td>44</td>\n",
              "      <td>40</td>\n",
              "      <td>9.0</td>\n",
              "      <td>Annie Wong</td>\n",
              "    </tr>\n",
              "    <tr>\n",
              "      <th>4</th>\n",
              "      <td>Chloe</td>\n",
              "      <td>Anderson</td>\n",
              "      <td>27</td>\n",
              "      <td>80</td>\n",
              "      <td>32</td>\n",
              "      <td>NaN</td>\n",
              "      <td>Chloe Anderson</td>\n",
              "    </tr>\n",
              "    <tr>\n",
              "      <th>5</th>\n",
              "      <td>Jeremy</td>\n",
              "      <td>Scott</td>\n",
              "      <td>42</td>\n",
              "      <td>54</td>\n",
              "      <td>40</td>\n",
              "      <td>4.0</td>\n",
              "      <td>Jeremy Scott</td>\n",
              "    </tr>\n",
              "    <tr>\n",
              "      <th>6</th>\n",
              "      <td>Allison</td>\n",
              "      <td>Kim</td>\n",
              "      <td>28</td>\n",
              "      <td>32</td>\n",
              "      <td>40</td>\n",
              "      <td>5.0</td>\n",
              "      <td>Allison Kim</td>\n",
              "    </tr>\n",
              "    <tr>\n",
              "      <th>7</th>\n",
              "      <td>Hannah</td>\n",
              "      <td>Mills</td>\n",
              "      <td>23</td>\n",
              "      <td>16</td>\n",
              "      <td>20</td>\n",
              "      <td>NaN</td>\n",
              "      <td>Hannah Mills</td>\n",
              "    </tr>\n",
              "  </tbody>\n",
              "</table>\n",
              "</div>"
            ],
            "text/plain": [
              "  First Name Last Name  ...  Years of experience       Full Name\n",
              "0   Jennifer     Brown  ...                  0.0  Jennifer Brown\n",
              "1      Chris     Smith  ...                  2.0     Chris Smith\n",
              "2       John  Williams  ...                  NaN   John Williams\n",
              "3      Annie      Wong  ...                  9.0      Annie Wong\n",
              "4      Chloe  Anderson  ...                  NaN  Chloe Anderson\n",
              "5     Jeremy     Scott  ...                  4.0    Jeremy Scott\n",
              "6    Allison       Kim  ...                  5.0     Allison Kim\n",
              "7     Hannah     Mills  ...                  NaN    Hannah Mills\n",
              "\n",
              "[8 rows x 7 columns]"
            ]
          },
          "metadata": {
            "tags": []
          },
          "execution_count": 45
        }
      ]
    },
    {
      "cell_type": "markdown",
      "metadata": {
        "id": "9_Iwt_P6fHqc"
      },
      "source": [
        "#### Numerical Column\n",
        "\n",
        "Let's calculate weekly salary for each person and add a column called ```Weekly Salary```. We need to do some simple math to get this."
      ]
    },
    {
      "cell_type": "code",
      "metadata": {
        "id": "_d67Iv2Se8WU",
        "colab": {
          "base_uri": "https://localhost:8080/",
          "height": 297
        },
        "outputId": "62f7d58f-afe5-4265-e04d-15c827e28153"
      },
      "source": [
        "# multiplication of two numerical columns\n",
        "emp['Weekly Salary'] = emp['Hourly Wage'] * emp['Hours per week']\n",
        "emp"
      ],
      "execution_count": null,
      "outputs": [
        {
          "output_type": "execute_result",
          "data": {
            "text/html": [
              "<div>\n",
              "<style scoped>\n",
              "    .dataframe tbody tr th:only-of-type {\n",
              "        vertical-align: middle;\n",
              "    }\n",
              "\n",
              "    .dataframe tbody tr th {\n",
              "        vertical-align: top;\n",
              "    }\n",
              "\n",
              "    .dataframe thead th {\n",
              "        text-align: right;\n",
              "    }\n",
              "</style>\n",
              "<table border=\"1\" class=\"dataframe\">\n",
              "  <thead>\n",
              "    <tr style=\"text-align: right;\">\n",
              "      <th></th>\n",
              "      <th>First Name</th>\n",
              "      <th>Last Name</th>\n",
              "      <th>Age</th>\n",
              "      <th>Hourly Wage</th>\n",
              "      <th>Hours per week</th>\n",
              "      <th>Years of experience</th>\n",
              "      <th>Full Name</th>\n",
              "      <th>Weekly Salary</th>\n",
              "    </tr>\n",
              "  </thead>\n",
              "  <tbody>\n",
              "    <tr>\n",
              "      <th>0</th>\n",
              "      <td>Jennifer</td>\n",
              "      <td>Brown</td>\n",
              "      <td>16</td>\n",
              "      <td>8</td>\n",
              "      <td>20</td>\n",
              "      <td>0.0</td>\n",
              "      <td>Jennifer Brown</td>\n",
              "      <td>160</td>\n",
              "    </tr>\n",
              "    <tr>\n",
              "      <th>1</th>\n",
              "      <td>Chris</td>\n",
              "      <td>Smith</td>\n",
              "      <td>32</td>\n",
              "      <td>14</td>\n",
              "      <td>28</td>\n",
              "      <td>2.0</td>\n",
              "      <td>Chris Smith</td>\n",
              "      <td>392</td>\n",
              "    </tr>\n",
              "    <tr>\n",
              "      <th>2</th>\n",
              "      <td>John</td>\n",
              "      <td>Williams</td>\n",
              "      <td>21</td>\n",
              "      <td>60</td>\n",
              "      <td>40</td>\n",
              "      <td>NaN</td>\n",
              "      <td>John Williams</td>\n",
              "      <td>2400</td>\n",
              "    </tr>\n",
              "    <tr>\n",
              "      <th>3</th>\n",
              "      <td>Annie</td>\n",
              "      <td>Wong</td>\n",
              "      <td>35</td>\n",
              "      <td>44</td>\n",
              "      <td>40</td>\n",
              "      <td>9.0</td>\n",
              "      <td>Annie Wong</td>\n",
              "      <td>1760</td>\n",
              "    </tr>\n",
              "    <tr>\n",
              "      <th>4</th>\n",
              "      <td>Chloe</td>\n",
              "      <td>Anderson</td>\n",
              "      <td>27</td>\n",
              "      <td>80</td>\n",
              "      <td>32</td>\n",
              "      <td>NaN</td>\n",
              "      <td>Chloe Anderson</td>\n",
              "      <td>2560</td>\n",
              "    </tr>\n",
              "    <tr>\n",
              "      <th>5</th>\n",
              "      <td>Jeremy</td>\n",
              "      <td>Scott</td>\n",
              "      <td>42</td>\n",
              "      <td>54</td>\n",
              "      <td>40</td>\n",
              "      <td>4.0</td>\n",
              "      <td>Jeremy Scott</td>\n",
              "      <td>2160</td>\n",
              "    </tr>\n",
              "    <tr>\n",
              "      <th>6</th>\n",
              "      <td>Allison</td>\n",
              "      <td>Kim</td>\n",
              "      <td>28</td>\n",
              "      <td>32</td>\n",
              "      <td>40</td>\n",
              "      <td>5.0</td>\n",
              "      <td>Allison Kim</td>\n",
              "      <td>1280</td>\n",
              "    </tr>\n",
              "    <tr>\n",
              "      <th>7</th>\n",
              "      <td>Hannah</td>\n",
              "      <td>Mills</td>\n",
              "      <td>23</td>\n",
              "      <td>16</td>\n",
              "      <td>20</td>\n",
              "      <td>NaN</td>\n",
              "      <td>Hannah Mills</td>\n",
              "      <td>320</td>\n",
              "    </tr>\n",
              "  </tbody>\n",
              "</table>\n",
              "</div>"
            ],
            "text/plain": [
              "  First Name Last Name  Age  ...  Years of experience       Full Name  Weekly Salary\n",
              "0   Jennifer     Brown   16  ...                  0.0  Jennifer Brown            160\n",
              "1      Chris     Smith   32  ...                  2.0     Chris Smith            392\n",
              "2       John  Williams   21  ...                  NaN   John Williams           2400\n",
              "3      Annie      Wong   35  ...                  9.0      Annie Wong           1760\n",
              "4      Chloe  Anderson   27  ...                  NaN  Chloe Anderson           2560\n",
              "5     Jeremy     Scott   42  ...                  4.0    Jeremy Scott           2160\n",
              "6    Allison       Kim   28  ...                  5.0     Allison Kim           1280\n",
              "7     Hannah     Mills   23  ...                  NaN    Hannah Mills            320\n",
              "\n",
              "[8 rows x 8 columns]"
            ]
          },
          "metadata": {
            "tags": []
          },
          "execution_count": 46
        }
      ]
    },
    {
      "cell_type": "markdown",
      "metadata": {
        "id": "2sVeQuAODYPT"
      },
      "source": [
        "Now, we've added two columns \"Full Name\" and \"Weekly Salary.\"\n",
        "\n",
        "#### List Comprehension\n",
        "\n",
        "Let's create a new column called ```High Income``` based on the ```Weekly Salary```. We will use a list comprehension for this (you can refer to Week 2 materials if you can't recall what list comprehensions are.)\n",
        "\n",
        "```High Income``` will be ```True``` if ```Weekly Salary``` is > 2000, otherwise `False`."
      ]
    },
    {
      "cell_type": "code",
      "metadata": {
        "id": "g3doGL0WBUBA",
        "scrolled": true
      },
      "source": [
        "# list comprehension\n",
        "emp['High Income'] = [True if x > 2000 else False for x in emp['Weekly Salary']]\n",
        "emp"
      ],
      "execution_count": null,
      "outputs": []
    },
    {
      "cell_type": "markdown",
      "metadata": {
        "id": "YImlimn40CP8"
      },
      "source": [
        "### Fill in NaN values"
      ]
    },
    {
      "cell_type": "markdown",
      "metadata": {
        "id": "4ot_94dG0CP9"
      },
      "source": [
        "There are lots of ```NaN``` values (missing values) in ```Years of experience```.\n",
        "\n",
        "Let's fill in these missing values with 0's using ```fillna(0)```."
      ]
    },
    {
      "cell_type": "code",
      "metadata": {
        "id": "kHLMKs4P0CP9",
        "colab": {
          "base_uri": "https://localhost:8080/",
          "height": 297
        },
        "outputId": "c90b1975-fc03-4c20-9eaa-e0d7d60ba716"
      },
      "source": [
        "emp['Years of experience'].fillna(0)\n",
        "emp"
      ],
      "execution_count": null,
      "outputs": [
        {
          "output_type": "execute_result",
          "data": {
            "text/html": [
              "<div>\n",
              "<style scoped>\n",
              "    .dataframe tbody tr th:only-of-type {\n",
              "        vertical-align: middle;\n",
              "    }\n",
              "\n",
              "    .dataframe tbody tr th {\n",
              "        vertical-align: top;\n",
              "    }\n",
              "\n",
              "    .dataframe thead th {\n",
              "        text-align: right;\n",
              "    }\n",
              "</style>\n",
              "<table border=\"1\" class=\"dataframe\">\n",
              "  <thead>\n",
              "    <tr style=\"text-align: right;\">\n",
              "      <th></th>\n",
              "      <th>First Name</th>\n",
              "      <th>Last Name</th>\n",
              "      <th>Age</th>\n",
              "      <th>Hourly Wage</th>\n",
              "      <th>Hours per week</th>\n",
              "      <th>Years of experience</th>\n",
              "      <th>Full Name</th>\n",
              "      <th>Weekly Salary</th>\n",
              "      <th>High Income</th>\n",
              "    </tr>\n",
              "  </thead>\n",
              "  <tbody>\n",
              "    <tr>\n",
              "      <th>0</th>\n",
              "      <td>Jennifer</td>\n",
              "      <td>Brown</td>\n",
              "      <td>16</td>\n",
              "      <td>8</td>\n",
              "      <td>20</td>\n",
              "      <td>0.0</td>\n",
              "      <td>Jennifer Brown</td>\n",
              "      <td>160</td>\n",
              "      <td>False</td>\n",
              "    </tr>\n",
              "    <tr>\n",
              "      <th>1</th>\n",
              "      <td>Chris</td>\n",
              "      <td>Smith</td>\n",
              "      <td>32</td>\n",
              "      <td>14</td>\n",
              "      <td>28</td>\n",
              "      <td>2.0</td>\n",
              "      <td>Chris Smith</td>\n",
              "      <td>392</td>\n",
              "      <td>False</td>\n",
              "    </tr>\n",
              "    <tr>\n",
              "      <th>2</th>\n",
              "      <td>John</td>\n",
              "      <td>Williams</td>\n",
              "      <td>21</td>\n",
              "      <td>60</td>\n",
              "      <td>40</td>\n",
              "      <td>0.0</td>\n",
              "      <td>John Williams</td>\n",
              "      <td>2400</td>\n",
              "      <td>True</td>\n",
              "    </tr>\n",
              "    <tr>\n",
              "      <th>3</th>\n",
              "      <td>Annie</td>\n",
              "      <td>Wong</td>\n",
              "      <td>35</td>\n",
              "      <td>44</td>\n",
              "      <td>40</td>\n",
              "      <td>9.0</td>\n",
              "      <td>Annie Wong</td>\n",
              "      <td>1760</td>\n",
              "      <td>False</td>\n",
              "    </tr>\n",
              "    <tr>\n",
              "      <th>4</th>\n",
              "      <td>Chloe</td>\n",
              "      <td>Anderson</td>\n",
              "      <td>27</td>\n",
              "      <td>80</td>\n",
              "      <td>32</td>\n",
              "      <td>0.0</td>\n",
              "      <td>Chloe Anderson</td>\n",
              "      <td>2560</td>\n",
              "      <td>True</td>\n",
              "    </tr>\n",
              "    <tr>\n",
              "      <th>5</th>\n",
              "      <td>Jeremy</td>\n",
              "      <td>Scott</td>\n",
              "      <td>42</td>\n",
              "      <td>54</td>\n",
              "      <td>40</td>\n",
              "      <td>4.0</td>\n",
              "      <td>Jeremy Scott</td>\n",
              "      <td>2160</td>\n",
              "      <td>True</td>\n",
              "    </tr>\n",
              "    <tr>\n",
              "      <th>6</th>\n",
              "      <td>Allison</td>\n",
              "      <td>Kim</td>\n",
              "      <td>28</td>\n",
              "      <td>32</td>\n",
              "      <td>40</td>\n",
              "      <td>5.0</td>\n",
              "      <td>Allison Kim</td>\n",
              "      <td>1280</td>\n",
              "      <td>False</td>\n",
              "    </tr>\n",
              "    <tr>\n",
              "      <th>7</th>\n",
              "      <td>Hannah</td>\n",
              "      <td>Mills</td>\n",
              "      <td>23</td>\n",
              "      <td>16</td>\n",
              "      <td>20</td>\n",
              "      <td>0.0</td>\n",
              "      <td>Hannah Mills</td>\n",
              "      <td>320</td>\n",
              "      <td>False</td>\n",
              "    </tr>\n",
              "  </tbody>\n",
              "</table>\n",
              "</div>"
            ],
            "text/plain": [
              "  First Name Last Name  Age  ...       Full Name  Weekly Salary  High Income\n",
              "0   Jennifer     Brown   16  ...  Jennifer Brown            160        False\n",
              "1      Chris     Smith   32  ...     Chris Smith            392        False\n",
              "2       John  Williams   21  ...   John Williams           2400         True\n",
              "3      Annie      Wong   35  ...      Annie Wong           1760        False\n",
              "4      Chloe  Anderson   27  ...  Chloe Anderson           2560         True\n",
              "5     Jeremy     Scott   42  ...    Jeremy Scott           2160         True\n",
              "6    Allison       Kim   28  ...     Allison Kim           1280        False\n",
              "7     Hannah     Mills   23  ...    Hannah Mills            320        False\n",
              "\n",
              "[8 rows x 9 columns]"
            ]
          },
          "metadata": {
            "tags": []
          },
          "execution_count": 59
        }
      ]
    },
    {
      "cell_type": "markdown",
      "metadata": {
        "id": "Gd6mTknM0CP_"
      },
      "source": [
        "If we want to replace all missing values in the dataset, we can call ```fillna(0)``` on the dataframe itself."
      ]
    },
    {
      "cell_type": "code",
      "metadata": {
        "id": "BmKiVBB-0CQA",
        "colab": {
          "base_uri": "https://localhost:8080/",
          "height": 297
        },
        "outputId": "69a8ab4b-468b-4904-c1b4-e46afd1e0b6e"
      },
      "source": [
        "emp.fillna(0)"
      ],
      "execution_count": null,
      "outputs": [
        {
          "output_type": "execute_result",
          "data": {
            "text/html": [
              "<div>\n",
              "<style scoped>\n",
              "    .dataframe tbody tr th:only-of-type {\n",
              "        vertical-align: middle;\n",
              "    }\n",
              "\n",
              "    .dataframe tbody tr th {\n",
              "        vertical-align: top;\n",
              "    }\n",
              "\n",
              "    .dataframe thead th {\n",
              "        text-align: right;\n",
              "    }\n",
              "</style>\n",
              "<table border=\"1\" class=\"dataframe\">\n",
              "  <thead>\n",
              "    <tr style=\"text-align: right;\">\n",
              "      <th></th>\n",
              "      <th>First Name</th>\n",
              "      <th>Last Name</th>\n",
              "      <th>Age</th>\n",
              "      <th>Hourly Wage</th>\n",
              "      <th>Hours per week</th>\n",
              "      <th>Years of experience</th>\n",
              "      <th>Full Name</th>\n",
              "      <th>Weekly Salary</th>\n",
              "      <th>High Income</th>\n",
              "    </tr>\n",
              "  </thead>\n",
              "  <tbody>\n",
              "    <tr>\n",
              "      <th>0</th>\n",
              "      <td>Jennifer</td>\n",
              "      <td>Brown</td>\n",
              "      <td>16</td>\n",
              "      <td>8</td>\n",
              "      <td>20</td>\n",
              "      <td>0.0</td>\n",
              "      <td>Jennifer Brown</td>\n",
              "      <td>160</td>\n",
              "      <td>False</td>\n",
              "    </tr>\n",
              "    <tr>\n",
              "      <th>1</th>\n",
              "      <td>Chris</td>\n",
              "      <td>Smith</td>\n",
              "      <td>32</td>\n",
              "      <td>14</td>\n",
              "      <td>28</td>\n",
              "      <td>2.0</td>\n",
              "      <td>Chris Smith</td>\n",
              "      <td>392</td>\n",
              "      <td>False</td>\n",
              "    </tr>\n",
              "    <tr>\n",
              "      <th>2</th>\n",
              "      <td>John</td>\n",
              "      <td>Williams</td>\n",
              "      <td>21</td>\n",
              "      <td>60</td>\n",
              "      <td>40</td>\n",
              "      <td>0.0</td>\n",
              "      <td>John Williams</td>\n",
              "      <td>2400</td>\n",
              "      <td>True</td>\n",
              "    </tr>\n",
              "    <tr>\n",
              "      <th>3</th>\n",
              "      <td>Annie</td>\n",
              "      <td>Wong</td>\n",
              "      <td>35</td>\n",
              "      <td>44</td>\n",
              "      <td>40</td>\n",
              "      <td>9.0</td>\n",
              "      <td>Annie Wong</td>\n",
              "      <td>1760</td>\n",
              "      <td>False</td>\n",
              "    </tr>\n",
              "    <tr>\n",
              "      <th>4</th>\n",
              "      <td>Chloe</td>\n",
              "      <td>Anderson</td>\n",
              "      <td>27</td>\n",
              "      <td>80</td>\n",
              "      <td>32</td>\n",
              "      <td>0.0</td>\n",
              "      <td>Chloe Anderson</td>\n",
              "      <td>2560</td>\n",
              "      <td>True</td>\n",
              "    </tr>\n",
              "    <tr>\n",
              "      <th>5</th>\n",
              "      <td>Jeremy</td>\n",
              "      <td>Scott</td>\n",
              "      <td>42</td>\n",
              "      <td>54</td>\n",
              "      <td>40</td>\n",
              "      <td>4.0</td>\n",
              "      <td>Jeremy Scott</td>\n",
              "      <td>2160</td>\n",
              "      <td>True</td>\n",
              "    </tr>\n",
              "    <tr>\n",
              "      <th>6</th>\n",
              "      <td>Allison</td>\n",
              "      <td>Kim</td>\n",
              "      <td>28</td>\n",
              "      <td>32</td>\n",
              "      <td>40</td>\n",
              "      <td>5.0</td>\n",
              "      <td>Allison Kim</td>\n",
              "      <td>1280</td>\n",
              "      <td>False</td>\n",
              "    </tr>\n",
              "    <tr>\n",
              "      <th>7</th>\n",
              "      <td>Hannah</td>\n",
              "      <td>Mills</td>\n",
              "      <td>23</td>\n",
              "      <td>16</td>\n",
              "      <td>20</td>\n",
              "      <td>0.0</td>\n",
              "      <td>Hannah Mills</td>\n",
              "      <td>320</td>\n",
              "      <td>False</td>\n",
              "    </tr>\n",
              "  </tbody>\n",
              "</table>\n",
              "</div>"
            ],
            "text/plain": [
              "  First Name Last Name  Age  ...       Full Name  Weekly Salary  High Income\n",
              "0   Jennifer     Brown   16  ...  Jennifer Brown            160        False\n",
              "1      Chris     Smith   32  ...     Chris Smith            392        False\n",
              "2       John  Williams   21  ...   John Williams           2400         True\n",
              "3      Annie      Wong   35  ...      Annie Wong           1760        False\n",
              "4      Chloe  Anderson   27  ...  Chloe Anderson           2560         True\n",
              "5     Jeremy     Scott   42  ...    Jeremy Scott           2160         True\n",
              "6    Allison       Kim   28  ...     Allison Kim           1280        False\n",
              "7     Hannah     Mills   23  ...    Hannah Mills            320        False\n",
              "\n",
              "[8 rows x 9 columns]"
            ]
          },
          "metadata": {
            "tags": []
          },
          "execution_count": 60
        }
      ]
    },
    {
      "cell_type": "markdown",
      "metadata": {
        "id": "RmD7OwLghrOl"
      },
      "source": [
        "### Sorting the Dataset\n",
        "\n",
        "Let's sort the data by 'Weekly Salary'."
      ]
    },
    {
      "cell_type": "code",
      "metadata": {
        "id": "KaBiarDihijf",
        "colab": {
          "base_uri": "https://localhost:8080/",
          "height": 297
        },
        "outputId": "5cd15daa-6611-41c2-b121-ea773cfc85ec"
      },
      "source": [
        "emp.sort_values(by='Weekly Salary')"
      ],
      "execution_count": null,
      "outputs": [
        {
          "output_type": "execute_result",
          "data": {
            "text/html": [
              "<div>\n",
              "<style scoped>\n",
              "    .dataframe tbody tr th:only-of-type {\n",
              "        vertical-align: middle;\n",
              "    }\n",
              "\n",
              "    .dataframe tbody tr th {\n",
              "        vertical-align: top;\n",
              "    }\n",
              "\n",
              "    .dataframe thead th {\n",
              "        text-align: right;\n",
              "    }\n",
              "</style>\n",
              "<table border=\"1\" class=\"dataframe\">\n",
              "  <thead>\n",
              "    <tr style=\"text-align: right;\">\n",
              "      <th></th>\n",
              "      <th>First Name</th>\n",
              "      <th>Last Name</th>\n",
              "      <th>Age</th>\n",
              "      <th>Hourly Wage</th>\n",
              "      <th>Hours per week</th>\n",
              "      <th>Years of experience</th>\n",
              "      <th>Full Name</th>\n",
              "      <th>Weekly Salary</th>\n",
              "      <th>High Income</th>\n",
              "    </tr>\n",
              "  </thead>\n",
              "  <tbody>\n",
              "    <tr>\n",
              "      <th>0</th>\n",
              "      <td>Jennifer</td>\n",
              "      <td>Brown</td>\n",
              "      <td>16</td>\n",
              "      <td>8</td>\n",
              "      <td>20</td>\n",
              "      <td>0.0</td>\n",
              "      <td>Jennifer Brown</td>\n",
              "      <td>160</td>\n",
              "      <td>False</td>\n",
              "    </tr>\n",
              "    <tr>\n",
              "      <th>7</th>\n",
              "      <td>Hannah</td>\n",
              "      <td>Mills</td>\n",
              "      <td>23</td>\n",
              "      <td>16</td>\n",
              "      <td>20</td>\n",
              "      <td>0.0</td>\n",
              "      <td>Hannah Mills</td>\n",
              "      <td>320</td>\n",
              "      <td>False</td>\n",
              "    </tr>\n",
              "    <tr>\n",
              "      <th>1</th>\n",
              "      <td>Chris</td>\n",
              "      <td>Smith</td>\n",
              "      <td>32</td>\n",
              "      <td>14</td>\n",
              "      <td>28</td>\n",
              "      <td>2.0</td>\n",
              "      <td>Chris Smith</td>\n",
              "      <td>392</td>\n",
              "      <td>False</td>\n",
              "    </tr>\n",
              "    <tr>\n",
              "      <th>6</th>\n",
              "      <td>Allison</td>\n",
              "      <td>Kim</td>\n",
              "      <td>28</td>\n",
              "      <td>32</td>\n",
              "      <td>40</td>\n",
              "      <td>5.0</td>\n",
              "      <td>Allison Kim</td>\n",
              "      <td>1280</td>\n",
              "      <td>False</td>\n",
              "    </tr>\n",
              "    <tr>\n",
              "      <th>3</th>\n",
              "      <td>Annie</td>\n",
              "      <td>Wong</td>\n",
              "      <td>35</td>\n",
              "      <td>44</td>\n",
              "      <td>40</td>\n",
              "      <td>9.0</td>\n",
              "      <td>Annie Wong</td>\n",
              "      <td>1760</td>\n",
              "      <td>False</td>\n",
              "    </tr>\n",
              "    <tr>\n",
              "      <th>5</th>\n",
              "      <td>Jeremy</td>\n",
              "      <td>Scott</td>\n",
              "      <td>42</td>\n",
              "      <td>54</td>\n",
              "      <td>40</td>\n",
              "      <td>4.0</td>\n",
              "      <td>Jeremy Scott</td>\n",
              "      <td>2160</td>\n",
              "      <td>True</td>\n",
              "    </tr>\n",
              "    <tr>\n",
              "      <th>2</th>\n",
              "      <td>John</td>\n",
              "      <td>Williams</td>\n",
              "      <td>21</td>\n",
              "      <td>60</td>\n",
              "      <td>40</td>\n",
              "      <td>0.0</td>\n",
              "      <td>John Williams</td>\n",
              "      <td>2400</td>\n",
              "      <td>True</td>\n",
              "    </tr>\n",
              "    <tr>\n",
              "      <th>4</th>\n",
              "      <td>Chloe</td>\n",
              "      <td>Anderson</td>\n",
              "      <td>27</td>\n",
              "      <td>80</td>\n",
              "      <td>32</td>\n",
              "      <td>0.0</td>\n",
              "      <td>Chloe Anderson</td>\n",
              "      <td>2560</td>\n",
              "      <td>True</td>\n",
              "    </tr>\n",
              "  </tbody>\n",
              "</table>\n",
              "</div>"
            ],
            "text/plain": [
              "  First Name Last Name  Age  ...       Full Name  Weekly Salary  High Income\n",
              "0   Jennifer     Brown   16  ...  Jennifer Brown            160        False\n",
              "7     Hannah     Mills   23  ...    Hannah Mills            320        False\n",
              "1      Chris     Smith   32  ...     Chris Smith            392        False\n",
              "6    Allison       Kim   28  ...     Allison Kim           1280        False\n",
              "3      Annie      Wong   35  ...      Annie Wong           1760        False\n",
              "5     Jeremy     Scott   42  ...    Jeremy Scott           2160         True\n",
              "2       John  Williams   21  ...   John Williams           2400         True\n",
              "4      Chloe  Anderson   27  ...  Chloe Anderson           2560         True\n",
              "\n",
              "[8 rows x 9 columns]"
            ]
          },
          "metadata": {
            "tags": []
          },
          "execution_count": 46
        }
      ]
    },
    {
      "cell_type": "markdown",
      "metadata": {
        "id": "sjwwN40_NNE7"
      },
      "source": [
        "Now, all of the high income workers are located at the bottom of the dataset."
      ]
    },
    {
      "cell_type": "markdown",
      "metadata": {
        "id": "yylmga3XDdEC"
      },
      "source": [
        "### Selecting a Subset of Data based on a Condition\n",
        "\n",
        "Let's review how we can select subsets of data based on specified criteria.\n",
        "\n",
        "Selecting rows where 'High Income' is True:"
      ]
    },
    {
      "cell_type": "code",
      "metadata": {
        "id": "YTvKOQLnDCxc",
        "colab": {
          "base_uri": "https://localhost:8080/",
          "height": 142
        },
        "outputId": "34f6dc34-c1e9-4dc7-ddf2-f60f7fc8803f"
      },
      "source": [
        "filter = emp['High Income'] == True\n",
        "emp[filter]"
      ],
      "execution_count": null,
      "outputs": [
        {
          "output_type": "execute_result",
          "data": {
            "text/html": [
              "<div>\n",
              "<style scoped>\n",
              "    .dataframe tbody tr th:only-of-type {\n",
              "        vertical-align: middle;\n",
              "    }\n",
              "\n",
              "    .dataframe tbody tr th {\n",
              "        vertical-align: top;\n",
              "    }\n",
              "\n",
              "    .dataframe thead th {\n",
              "        text-align: right;\n",
              "    }\n",
              "</style>\n",
              "<table border=\"1\" class=\"dataframe\">\n",
              "  <thead>\n",
              "    <tr style=\"text-align: right;\">\n",
              "      <th></th>\n",
              "      <th>First Name</th>\n",
              "      <th>Last Name</th>\n",
              "      <th>Age</th>\n",
              "      <th>Hourly Wage</th>\n",
              "      <th>Hours per week</th>\n",
              "      <th>Years of experience</th>\n",
              "      <th>Full Name</th>\n",
              "      <th>Weekly Salary</th>\n",
              "      <th>High Income</th>\n",
              "    </tr>\n",
              "  </thead>\n",
              "  <tbody>\n",
              "    <tr>\n",
              "      <th>2</th>\n",
              "      <td>John</td>\n",
              "      <td>Williams</td>\n",
              "      <td>21</td>\n",
              "      <td>60</td>\n",
              "      <td>40</td>\n",
              "      <td>0.0</td>\n",
              "      <td>John Williams</td>\n",
              "      <td>2400</td>\n",
              "      <td>True</td>\n",
              "    </tr>\n",
              "    <tr>\n",
              "      <th>4</th>\n",
              "      <td>Chloe</td>\n",
              "      <td>Anderson</td>\n",
              "      <td>27</td>\n",
              "      <td>80</td>\n",
              "      <td>32</td>\n",
              "      <td>0.0</td>\n",
              "      <td>Chloe Anderson</td>\n",
              "      <td>2560</td>\n",
              "      <td>True</td>\n",
              "    </tr>\n",
              "    <tr>\n",
              "      <th>5</th>\n",
              "      <td>Jeremy</td>\n",
              "      <td>Scott</td>\n",
              "      <td>42</td>\n",
              "      <td>54</td>\n",
              "      <td>40</td>\n",
              "      <td>4.0</td>\n",
              "      <td>Jeremy Scott</td>\n",
              "      <td>2160</td>\n",
              "      <td>True</td>\n",
              "    </tr>\n",
              "  </tbody>\n",
              "</table>\n",
              "</div>"
            ],
            "text/plain": [
              "  First Name Last Name  Age  ...       Full Name  Weekly Salary  High Income\n",
              "2       John  Williams   21  ...   John Williams           2400         True\n",
              "4      Chloe  Anderson   27  ...  Chloe Anderson           2560         True\n",
              "5     Jeremy     Scott   42  ...    Jeremy Scott           2160         True\n",
              "\n",
              "[3 rows x 9 columns]"
            ]
          },
          "metadata": {
            "tags": []
          },
          "execution_count": 61
        }
      ]
    },
    {
      "cell_type": "markdown",
      "metadata": {
        "id": "05x_BcYbiXE7"
      },
      "source": [
        "### 5.0 - Now Try This\n",
        "\n",
        "Let's find people who are younger than 30 AND have high income.\n",
        "\n",
        "(Hint: Make sure to use ```()``` on each condition.)"
      ]
    },
    {
      "cell_type": "code",
      "metadata": {
        "id": "Z0PGV62-eheu"
      },
      "source": [
        "# Once your have verified your answer please uncomment the line below and run it, this will save your code \n",
        "#%%writefile -a {folder_location}/5.py\n",
        "# Please note that if you uncomment and run multiple times, the program will keep appending to the file.\n",
        "\n",
        "\n",
        "# INSERT CODE HERE"
      ],
      "execution_count": null,
      "outputs": []
    },
    {
      "cell_type": "markdown",
      "metadata": {
        "id": "tUK8ezg5DjbQ"
      },
      "source": [
        "### Dropping Rows\n",
        "\n",
        "There are two ways of dropping rows.\n",
        "\n",
        "1. ```df.drop(index #)```\n",
        "2. ```df.drop(df[<some boolean condition>].index)```: \n",
        "\n",
        "The first line is used when we know exactly which rows we want to drop from the dataframe.\n",
        "We use the second line to drop rows that do not meet certain criteria."
      ]
    },
    {
      "cell_type": "markdown",
      "metadata": {
        "id": "rEePojCD0CQG"
      },
      "source": [
        "Let's drop rows where 'High Income' is False."
      ]
    },
    {
      "cell_type": "code",
      "metadata": {
        "id": "WgV-dhN5CpYt",
        "scrolled": true,
        "colab": {
          "base_uri": "https://localhost:8080/",
          "height": 142
        },
        "outputId": "44459729-5c93-4b1a-bed3-ec9904c7e3c6"
      },
      "source": [
        "filter = emp['High Income'] == False\n",
        "emp.drop(emp[filter].index)"
      ],
      "execution_count": null,
      "outputs": [
        {
          "output_type": "execute_result",
          "data": {
            "text/html": [
              "<div>\n",
              "<style scoped>\n",
              "    .dataframe tbody tr th:only-of-type {\n",
              "        vertical-align: middle;\n",
              "    }\n",
              "\n",
              "    .dataframe tbody tr th {\n",
              "        vertical-align: top;\n",
              "    }\n",
              "\n",
              "    .dataframe thead th {\n",
              "        text-align: right;\n",
              "    }\n",
              "</style>\n",
              "<table border=\"1\" class=\"dataframe\">\n",
              "  <thead>\n",
              "    <tr style=\"text-align: right;\">\n",
              "      <th></th>\n",
              "      <th>First Name</th>\n",
              "      <th>Last Name</th>\n",
              "      <th>Age</th>\n",
              "      <th>Hourly Wage</th>\n",
              "      <th>Hours per week</th>\n",
              "      <th>Years of experience</th>\n",
              "      <th>Full Name</th>\n",
              "      <th>Weekly Salary</th>\n",
              "      <th>High Income</th>\n",
              "    </tr>\n",
              "  </thead>\n",
              "  <tbody>\n",
              "    <tr>\n",
              "      <th>2</th>\n",
              "      <td>John</td>\n",
              "      <td>Williams</td>\n",
              "      <td>21</td>\n",
              "      <td>60</td>\n",
              "      <td>40</td>\n",
              "      <td>0.0</td>\n",
              "      <td>John Williams</td>\n",
              "      <td>2400</td>\n",
              "      <td>True</td>\n",
              "    </tr>\n",
              "    <tr>\n",
              "      <th>4</th>\n",
              "      <td>Chloe</td>\n",
              "      <td>Anderson</td>\n",
              "      <td>27</td>\n",
              "      <td>80</td>\n",
              "      <td>32</td>\n",
              "      <td>0.0</td>\n",
              "      <td>Chloe Anderson</td>\n",
              "      <td>2560</td>\n",
              "      <td>True</td>\n",
              "    </tr>\n",
              "    <tr>\n",
              "      <th>5</th>\n",
              "      <td>Jeremy</td>\n",
              "      <td>Scott</td>\n",
              "      <td>42</td>\n",
              "      <td>54</td>\n",
              "      <td>40</td>\n",
              "      <td>4.0</td>\n",
              "      <td>Jeremy Scott</td>\n",
              "      <td>2160</td>\n",
              "      <td>True</td>\n",
              "    </tr>\n",
              "  </tbody>\n",
              "</table>\n",
              "</div>"
            ],
            "text/plain": [
              "  First Name Last Name  Age  ...       Full Name  Weekly Salary  High Income\n",
              "2       John  Williams   21  ...   John Williams           2400         True\n",
              "4      Chloe  Anderson   27  ...  Chloe Anderson           2560         True\n",
              "5     Jeremy     Scott   42  ...    Jeremy Scott           2160         True\n",
              "\n",
              "[3 rows x 9 columns]"
            ]
          },
          "metadata": {
            "tags": []
          },
          "execution_count": 62
        }
      ]
    },
    {
      "cell_type": "code",
      "metadata": {
        "id": "uTtNKR8C0CQJ",
        "colab": {
          "base_uri": "https://localhost:8080/",
          "height": 297
        },
        "outputId": "5464c64b-c3ea-4fac-febe-d527197da381"
      },
      "source": [
        "emp"
      ],
      "execution_count": null,
      "outputs": [
        {
          "output_type": "execute_result",
          "data": {
            "text/html": [
              "<div>\n",
              "<style scoped>\n",
              "    .dataframe tbody tr th:only-of-type {\n",
              "        vertical-align: middle;\n",
              "    }\n",
              "\n",
              "    .dataframe tbody tr th {\n",
              "        vertical-align: top;\n",
              "    }\n",
              "\n",
              "    .dataframe thead th {\n",
              "        text-align: right;\n",
              "    }\n",
              "</style>\n",
              "<table border=\"1\" class=\"dataframe\">\n",
              "  <thead>\n",
              "    <tr style=\"text-align: right;\">\n",
              "      <th></th>\n",
              "      <th>First Name</th>\n",
              "      <th>Last Name</th>\n",
              "      <th>Age</th>\n",
              "      <th>Hourly Wage</th>\n",
              "      <th>Hours per week</th>\n",
              "      <th>Years of experience</th>\n",
              "      <th>Full Name</th>\n",
              "      <th>Weekly Salary</th>\n",
              "      <th>High Income</th>\n",
              "    </tr>\n",
              "  </thead>\n",
              "  <tbody>\n",
              "    <tr>\n",
              "      <th>0</th>\n",
              "      <td>Jennifer</td>\n",
              "      <td>Brown</td>\n",
              "      <td>16</td>\n",
              "      <td>8</td>\n",
              "      <td>20</td>\n",
              "      <td>0.0</td>\n",
              "      <td>Jennifer Brown</td>\n",
              "      <td>160</td>\n",
              "      <td>False</td>\n",
              "    </tr>\n",
              "    <tr>\n",
              "      <th>1</th>\n",
              "      <td>Chris</td>\n",
              "      <td>Smith</td>\n",
              "      <td>32</td>\n",
              "      <td>14</td>\n",
              "      <td>28</td>\n",
              "      <td>2.0</td>\n",
              "      <td>Chris Smith</td>\n",
              "      <td>392</td>\n",
              "      <td>False</td>\n",
              "    </tr>\n",
              "    <tr>\n",
              "      <th>2</th>\n",
              "      <td>John</td>\n",
              "      <td>Williams</td>\n",
              "      <td>21</td>\n",
              "      <td>60</td>\n",
              "      <td>40</td>\n",
              "      <td>0.0</td>\n",
              "      <td>John Williams</td>\n",
              "      <td>2400</td>\n",
              "      <td>True</td>\n",
              "    </tr>\n",
              "    <tr>\n",
              "      <th>3</th>\n",
              "      <td>Annie</td>\n",
              "      <td>Wong</td>\n",
              "      <td>35</td>\n",
              "      <td>44</td>\n",
              "      <td>40</td>\n",
              "      <td>9.0</td>\n",
              "      <td>Annie Wong</td>\n",
              "      <td>1760</td>\n",
              "      <td>False</td>\n",
              "    </tr>\n",
              "    <tr>\n",
              "      <th>4</th>\n",
              "      <td>Chloe</td>\n",
              "      <td>Anderson</td>\n",
              "      <td>27</td>\n",
              "      <td>80</td>\n",
              "      <td>32</td>\n",
              "      <td>0.0</td>\n",
              "      <td>Chloe Anderson</td>\n",
              "      <td>2560</td>\n",
              "      <td>True</td>\n",
              "    </tr>\n",
              "    <tr>\n",
              "      <th>5</th>\n",
              "      <td>Jeremy</td>\n",
              "      <td>Scott</td>\n",
              "      <td>42</td>\n",
              "      <td>54</td>\n",
              "      <td>40</td>\n",
              "      <td>4.0</td>\n",
              "      <td>Jeremy Scott</td>\n",
              "      <td>2160</td>\n",
              "      <td>True</td>\n",
              "    </tr>\n",
              "    <tr>\n",
              "      <th>6</th>\n",
              "      <td>Allison</td>\n",
              "      <td>Kim</td>\n",
              "      <td>28</td>\n",
              "      <td>32</td>\n",
              "      <td>40</td>\n",
              "      <td>5.0</td>\n",
              "      <td>Allison Kim</td>\n",
              "      <td>1280</td>\n",
              "      <td>False</td>\n",
              "    </tr>\n",
              "    <tr>\n",
              "      <th>7</th>\n",
              "      <td>Hannah</td>\n",
              "      <td>Mills</td>\n",
              "      <td>23</td>\n",
              "      <td>16</td>\n",
              "      <td>20</td>\n",
              "      <td>0.0</td>\n",
              "      <td>Hannah Mills</td>\n",
              "      <td>320</td>\n",
              "      <td>False</td>\n",
              "    </tr>\n",
              "  </tbody>\n",
              "</table>\n",
              "</div>"
            ],
            "text/plain": [
              "  First Name Last Name  Age  ...       Full Name  Weekly Salary  High Income\n",
              "0   Jennifer     Brown   16  ...  Jennifer Brown            160        False\n",
              "1      Chris     Smith   32  ...     Chris Smith            392        False\n",
              "2       John  Williams   21  ...   John Williams           2400         True\n",
              "3      Annie      Wong   35  ...      Annie Wong           1760        False\n",
              "4      Chloe  Anderson   27  ...  Chloe Anderson           2560         True\n",
              "5     Jeremy     Scott   42  ...    Jeremy Scott           2160         True\n",
              "6    Allison       Kim   28  ...     Allison Kim           1280        False\n",
              "7     Hannah     Mills   23  ...    Hannah Mills            320        False\n",
              "\n",
              "[8 rows x 9 columns]"
            ]
          },
          "metadata": {
            "tags": []
          },
          "execution_count": 63
        }
      ]
    },
    {
      "cell_type": "markdown",
      "metadata": {
        "id": "cv86yEkODqPa"
      },
      "source": [
        "Even though we dropped the columns where High Income == False, `emp` remains unchanged.\n",
        "\n",
        "This is because we didn't update `emp`!\n",
        "\n",
        "We can update the dataframe once we drop the rows by setting ```inplace=True```."
      ]
    },
    {
      "cell_type": "code",
      "metadata": {
        "id": "JbmnWKy1PCRc"
      },
      "source": [
        "filter = emp['High Income'] == False\n",
        "emp.drop(emp[filter].index, inplace=True)"
      ],
      "execution_count": null,
      "outputs": []
    },
    {
      "cell_type": "code",
      "metadata": {
        "scrolled": true,
        "id": "YR6uD3z90CQO",
        "colab": {
          "base_uri": "https://localhost:8080/",
          "height": 142
        },
        "outputId": "baff732e-38f8-4def-a63a-1003bbff6b13"
      },
      "source": [
        "emp"
      ],
      "execution_count": null,
      "outputs": [
        {
          "output_type": "execute_result",
          "data": {
            "text/html": [
              "<div>\n",
              "<style scoped>\n",
              "    .dataframe tbody tr th:only-of-type {\n",
              "        vertical-align: middle;\n",
              "    }\n",
              "\n",
              "    .dataframe tbody tr th {\n",
              "        vertical-align: top;\n",
              "    }\n",
              "\n",
              "    .dataframe thead th {\n",
              "        text-align: right;\n",
              "    }\n",
              "</style>\n",
              "<table border=\"1\" class=\"dataframe\">\n",
              "  <thead>\n",
              "    <tr style=\"text-align: right;\">\n",
              "      <th></th>\n",
              "      <th>First Name</th>\n",
              "      <th>Last Name</th>\n",
              "      <th>Age</th>\n",
              "      <th>Hourly Wage</th>\n",
              "      <th>Hours per week</th>\n",
              "      <th>Years of experience</th>\n",
              "      <th>Full Name</th>\n",
              "      <th>Weekly Salary</th>\n",
              "      <th>High Income</th>\n",
              "    </tr>\n",
              "  </thead>\n",
              "  <tbody>\n",
              "    <tr>\n",
              "      <th>2</th>\n",
              "      <td>John</td>\n",
              "      <td>Williams</td>\n",
              "      <td>21</td>\n",
              "      <td>60</td>\n",
              "      <td>40</td>\n",
              "      <td>0.0</td>\n",
              "      <td>John Williams</td>\n",
              "      <td>2400</td>\n",
              "      <td>True</td>\n",
              "    </tr>\n",
              "    <tr>\n",
              "      <th>4</th>\n",
              "      <td>Chloe</td>\n",
              "      <td>Anderson</td>\n",
              "      <td>27</td>\n",
              "      <td>80</td>\n",
              "      <td>32</td>\n",
              "      <td>0.0</td>\n",
              "      <td>Chloe Anderson</td>\n",
              "      <td>2560</td>\n",
              "      <td>True</td>\n",
              "    </tr>\n",
              "    <tr>\n",
              "      <th>5</th>\n",
              "      <td>Jeremy</td>\n",
              "      <td>Scott</td>\n",
              "      <td>42</td>\n",
              "      <td>54</td>\n",
              "      <td>40</td>\n",
              "      <td>4.0</td>\n",
              "      <td>Jeremy Scott</td>\n",
              "      <td>2160</td>\n",
              "      <td>True</td>\n",
              "    </tr>\n",
              "  </tbody>\n",
              "</table>\n",
              "</div>"
            ],
            "text/plain": [
              "  First Name Last Name  Age  ...       Full Name  Weekly Salary  High Income\n",
              "2       John  Williams   21  ...   John Williams           2400         True\n",
              "4      Chloe  Anderson   27  ...  Chloe Anderson           2560         True\n",
              "5     Jeremy     Scott   42  ...    Jeremy Scott           2160         True\n",
              "\n",
              "[3 rows x 9 columns]"
            ]
          },
          "metadata": {
            "tags": []
          },
          "execution_count": 65
        }
      ]
    },
    {
      "cell_type": "markdown",
      "metadata": {
        "id": "uv47XBvZ0CQP"
      },
      "source": [
        "Here we go! `emp` has been updated!"
      ]
    },
    {
      "cell_type": "markdown",
      "metadata": {
        "id": "Wc0vZktaD0f2"
      },
      "source": [
        "### Company Dataframe\n",
        "\n",
        "Here, we have a dataset containing each person from  ```emp``` as well as information about what companies they work for."
      ]
    },
    {
      "cell_type": "code",
      "metadata": {
        "id": "q0yelL2KEN9C",
        "colab": {
          "base_uri": "https://localhost:8080/",
          "height": 297
        },
        "outputId": "680912bb-2022-424e-b1c6-044dcb23f9ef"
      },
      "source": [
        "data = {'First Name': ['Jennifer', 'Chris', 'John', 'Annie', 'Chloe', 'Jeremy', 'Allison', 'Hannah'], \n",
        "        'Last Name': ['Brown', 'Smith', 'Williams', 'Wong', 'Anderson', 'Scott', 'Kim', 'Mills'], \n",
        "        'Company': ['Home Depot', 'Bit Project', 'Microsoft', 'Bit Project', 'Disney', None, 'Home Depot', None]\n",
        "        } \n",
        "\n",
        "companies = pd.DataFrame(data)\n",
        "companies"
      ],
      "execution_count": null,
      "outputs": [
        {
          "output_type": "execute_result",
          "data": {
            "text/html": [
              "<div>\n",
              "<style scoped>\n",
              "    .dataframe tbody tr th:only-of-type {\n",
              "        vertical-align: middle;\n",
              "    }\n",
              "\n",
              "    .dataframe tbody tr th {\n",
              "        vertical-align: top;\n",
              "    }\n",
              "\n",
              "    .dataframe thead th {\n",
              "        text-align: right;\n",
              "    }\n",
              "</style>\n",
              "<table border=\"1\" class=\"dataframe\">\n",
              "  <thead>\n",
              "    <tr style=\"text-align: right;\">\n",
              "      <th></th>\n",
              "      <th>First Name</th>\n",
              "      <th>Last Name</th>\n",
              "      <th>Company</th>\n",
              "    </tr>\n",
              "  </thead>\n",
              "  <tbody>\n",
              "    <tr>\n",
              "      <th>0</th>\n",
              "      <td>Jennifer</td>\n",
              "      <td>Brown</td>\n",
              "      <td>Home Depot</td>\n",
              "    </tr>\n",
              "    <tr>\n",
              "      <th>1</th>\n",
              "      <td>Chris</td>\n",
              "      <td>Smith</td>\n",
              "      <td>Bit Project</td>\n",
              "    </tr>\n",
              "    <tr>\n",
              "      <th>2</th>\n",
              "      <td>John</td>\n",
              "      <td>Williams</td>\n",
              "      <td>Microsoft</td>\n",
              "    </tr>\n",
              "    <tr>\n",
              "      <th>3</th>\n",
              "      <td>Annie</td>\n",
              "      <td>Wong</td>\n",
              "      <td>Bit Project</td>\n",
              "    </tr>\n",
              "    <tr>\n",
              "      <th>4</th>\n",
              "      <td>Chloe</td>\n",
              "      <td>Anderson</td>\n",
              "      <td>Disney</td>\n",
              "    </tr>\n",
              "    <tr>\n",
              "      <th>5</th>\n",
              "      <td>Jeremy</td>\n",
              "      <td>Scott</td>\n",
              "      <td>None</td>\n",
              "    </tr>\n",
              "    <tr>\n",
              "      <th>6</th>\n",
              "      <td>Allison</td>\n",
              "      <td>Kim</td>\n",
              "      <td>Home Depot</td>\n",
              "    </tr>\n",
              "    <tr>\n",
              "      <th>7</th>\n",
              "      <td>Hannah</td>\n",
              "      <td>Mills</td>\n",
              "      <td>None</td>\n",
              "    </tr>\n",
              "  </tbody>\n",
              "</table>\n",
              "</div>"
            ],
            "text/plain": [
              "  First Name Last Name      Company\n",
              "0   Jennifer     Brown   Home Depot\n",
              "1      Chris     Smith  Bit Project\n",
              "2       John  Williams    Microsoft\n",
              "3      Annie      Wong  Bit Project\n",
              "4      Chloe  Anderson       Disney\n",
              "5     Jeremy     Scott         None\n",
              "6    Allison       Kim   Home Depot\n",
              "7     Hannah     Mills         None"
            ]
          },
          "metadata": {
            "tags": []
          },
          "execution_count": 69
        }
      ]
    },
    {
      "cell_type": "markdown",
      "metadata": {
        "id": "yOYExO1f0CQS"
      },
      "source": [
        "### Fill in NaN values\n",
        "\n",
        "In the dataframe, Hannah's company is ```NaN```. Let's replace it with a string \"UNKNOWN\"."
      ]
    },
    {
      "cell_type": "code",
      "metadata": {
        "id": "tzxcDksO0CQS"
      },
      "source": [
        "companies['Company'].fillna('UNKNOWN', inplace = True)"
      ],
      "execution_count": null,
      "outputs": []
    },
    {
      "cell_type": "code",
      "metadata": {
        "id": "Vy0LgalLVfyp",
        "colab": {
          "base_uri": "https://localhost:8080/",
          "height": 297
        },
        "outputId": "a49c4cdd-893d-45da-cde5-3dcca4eb754c"
      },
      "source": [
        "companies"
      ],
      "execution_count": null,
      "outputs": [
        {
          "output_type": "execute_result",
          "data": {
            "text/html": [
              "<div>\n",
              "<style scoped>\n",
              "    .dataframe tbody tr th:only-of-type {\n",
              "        vertical-align: middle;\n",
              "    }\n",
              "\n",
              "    .dataframe tbody tr th {\n",
              "        vertical-align: top;\n",
              "    }\n",
              "\n",
              "    .dataframe thead th {\n",
              "        text-align: right;\n",
              "    }\n",
              "</style>\n",
              "<table border=\"1\" class=\"dataframe\">\n",
              "  <thead>\n",
              "    <tr style=\"text-align: right;\">\n",
              "      <th></th>\n",
              "      <th>First Name</th>\n",
              "      <th>Last Name</th>\n",
              "      <th>Company</th>\n",
              "    </tr>\n",
              "  </thead>\n",
              "  <tbody>\n",
              "    <tr>\n",
              "      <th>0</th>\n",
              "      <td>Jennifer</td>\n",
              "      <td>Brown</td>\n",
              "      <td>Home Depot</td>\n",
              "    </tr>\n",
              "    <tr>\n",
              "      <th>1</th>\n",
              "      <td>Chris</td>\n",
              "      <td>Smith</td>\n",
              "      <td>Bit Project</td>\n",
              "    </tr>\n",
              "    <tr>\n",
              "      <th>2</th>\n",
              "      <td>John</td>\n",
              "      <td>Williams</td>\n",
              "      <td>Microsoft</td>\n",
              "    </tr>\n",
              "    <tr>\n",
              "      <th>3</th>\n",
              "      <td>Annie</td>\n",
              "      <td>Wong</td>\n",
              "      <td>Bit Project</td>\n",
              "    </tr>\n",
              "    <tr>\n",
              "      <th>4</th>\n",
              "      <td>Chloe</td>\n",
              "      <td>Anderson</td>\n",
              "      <td>Disney</td>\n",
              "    </tr>\n",
              "    <tr>\n",
              "      <th>5</th>\n",
              "      <td>Jeremy</td>\n",
              "      <td>Scott</td>\n",
              "      <td>UNKNOWN</td>\n",
              "    </tr>\n",
              "    <tr>\n",
              "      <th>6</th>\n",
              "      <td>Allison</td>\n",
              "      <td>Kim</td>\n",
              "      <td>Home Depot</td>\n",
              "    </tr>\n",
              "    <tr>\n",
              "      <th>7</th>\n",
              "      <td>Hannah</td>\n",
              "      <td>Mills</td>\n",
              "      <td>UNKNOWN</td>\n",
              "    </tr>\n",
              "  </tbody>\n",
              "</table>\n",
              "</div>"
            ],
            "text/plain": [
              "  First Name Last Name      Company\n",
              "0   Jennifer     Brown   Home Depot\n",
              "1      Chris     Smith  Bit Project\n",
              "2       John  Williams    Microsoft\n",
              "3      Annie      Wong  Bit Project\n",
              "4      Chloe  Anderson       Disney\n",
              "5     Jeremy     Scott      UNKNOWN\n",
              "6    Allison       Kim   Home Depot\n",
              "7     Hannah     Mills      UNKNOWN"
            ]
          },
          "metadata": {
            "tags": []
          },
          "execution_count": 71
        }
      ]
    },
    {
      "cell_type": "markdown",
      "metadata": {
        "id": "JduGS8_60CQU"
      },
      "source": [
        "### Unique Values in a Column\n",
        "\n",
        "Let's find out the unique company names in the dataframe.\n",
        "\n",
        "```df[[column_name]].drop_duplicates()```\n",
        "\n",
        "This code will drop duplicates in the ```column_name```!"
      ]
    },
    {
      "cell_type": "code",
      "metadata": {
        "id": "e4pXcz2d0CQU",
        "colab": {
          "base_uri": "https://localhost:8080/",
          "height": 204
        },
        "outputId": "bd16543f-cc16-407e-bfeb-1b672a32ece9"
      },
      "source": [
        "companies[[\"Company\"]].drop_duplicates()"
      ],
      "execution_count": null,
      "outputs": [
        {
          "output_type": "execute_result",
          "data": {
            "text/html": [
              "<div>\n",
              "<style scoped>\n",
              "    .dataframe tbody tr th:only-of-type {\n",
              "        vertical-align: middle;\n",
              "    }\n",
              "\n",
              "    .dataframe tbody tr th {\n",
              "        vertical-align: top;\n",
              "    }\n",
              "\n",
              "    .dataframe thead th {\n",
              "        text-align: right;\n",
              "    }\n",
              "</style>\n",
              "<table border=\"1\" class=\"dataframe\">\n",
              "  <thead>\n",
              "    <tr style=\"text-align: right;\">\n",
              "      <th></th>\n",
              "      <th>Company</th>\n",
              "    </tr>\n",
              "  </thead>\n",
              "  <tbody>\n",
              "    <tr>\n",
              "      <th>0</th>\n",
              "      <td>Home Depot</td>\n",
              "    </tr>\n",
              "    <tr>\n",
              "      <th>1</th>\n",
              "      <td>Bit Project</td>\n",
              "    </tr>\n",
              "    <tr>\n",
              "      <th>2</th>\n",
              "      <td>Microsoft</td>\n",
              "    </tr>\n",
              "    <tr>\n",
              "      <th>4</th>\n",
              "      <td>Disney</td>\n",
              "    </tr>\n",
              "    <tr>\n",
              "      <th>5</th>\n",
              "      <td>UNKNOWN</td>\n",
              "    </tr>\n",
              "  </tbody>\n",
              "</table>\n",
              "</div>"
            ],
            "text/plain": [
              "       Company\n",
              "0   Home Depot\n",
              "1  Bit Project\n",
              "2    Microsoft\n",
              "4       Disney\n",
              "5      UNKNOWN"
            ]
          },
          "metadata": {
            "tags": []
          },
          "execution_count": 72
        }
      ]
    },
    {
      "cell_type": "markdown",
      "metadata": {
        "id": "HLLaciDB0CQV"
      },
      "source": [
        "#### Count Unique Values\n",
        "\n",
        "With the ```groupby()``` and ```size()``` functions, we can count the occurrences of an unique value in a specific column."
      ]
    },
    {
      "cell_type": "code",
      "metadata": {
        "id": "DufMH0l_0CQW",
        "colab": {
          "base_uri": "https://localhost:8080/"
        },
        "outputId": "b35b059e-f6f8-480f-e274-e95ddb57ab00"
      },
      "source": [
        "companies.groupby(['Company']).size()"
      ],
      "execution_count": null,
      "outputs": [
        {
          "output_type": "execute_result",
          "data": {
            "text/plain": [
              "Company\n",
              "Bit Project    2\n",
              "Disney         1\n",
              "Home Depot     2\n",
              "Microsoft      1\n",
              "UNKNOWN        2\n",
              "dtype: int64"
            ]
          },
          "metadata": {
            "tags": []
          },
          "execution_count": 73
        }
      ]
    },
    {
      "cell_type": "markdown",
      "metadata": {
        "id": "PO1VsNvq0CQX"
      },
      "source": [
        "The code above groups by ```Company``` and return the number of times each company appears in the ```Company``` column.\n",
        "\n",
        "If we want to sort by the size or count, we can use ```sort_values```."
      ]
    },
    {
      "cell_type": "code",
      "metadata": {
        "id": "6a-5rZrN0CQX",
        "colab": {
          "base_uri": "https://localhost:8080/"
        },
        "outputId": "e7b42e6d-fa87-400d-dede-7e2e44947d02"
      },
      "source": [
        "companies.groupby(['Company']).size().sort_values()"
      ],
      "execution_count": null,
      "outputs": [
        {
          "output_type": "execute_result",
          "data": {
            "text/plain": [
              "Company\n",
              "Disney         1\n",
              "Microsoft      1\n",
              "Bit Project    2\n",
              "Home Depot     2\n",
              "UNKNOWN        2\n",
              "dtype: int64"
            ]
          },
          "metadata": {
            "tags": []
          },
          "execution_count": 74
        }
      ]
    },
    {
      "cell_type": "markdown",
      "metadata": {
        "id": "gxUxQjow0CQZ"
      },
      "source": [
        "#### The Number of Unique Values\n",
        "\n",
        "To find out the number of unique values in a column, we can use ```nunique()```.\n",
        "\n",
        "```nunique()``` can be interpreted as **n**umber of **unique** values."
      ]
    },
    {
      "cell_type": "code",
      "metadata": {
        "id": "cBfhmXOv0CQZ",
        "colab": {
          "base_uri": "https://localhost:8080/"
        },
        "outputId": "d7a06f86-0151-4fa6-8034-c27435d78971"
      },
      "source": [
        "companies[\"Company\"].nunique()"
      ],
      "execution_count": null,
      "outputs": [
        {
          "output_type": "execute_result",
          "data": {
            "text/plain": [
              "5"
            ]
          },
          "metadata": {
            "tags": []
          },
          "execution_count": 75
        }
      ]
    },
    {
      "cell_type": "markdown",
      "metadata": {
        "id": "4yEzrngg0CQa"
      },
      "source": [
        "These three functions will be very helpful when working with a large, complicated dataset!"
      ]
    },
    {
      "cell_type": "markdown",
      "metadata": {
        "id": "7ELe7FGi0CQb"
      },
      "source": [
        "### Joining Datasets\n",
        "\n",
        "Let's join the two tables ```emp``` and ```companies``` to find out which companies those people work for."
      ]
    },
    {
      "cell_type": "markdown",
      "metadata": {
        "id": "pr6JBdx0RYv0"
      },
      "source": [
        "### 1. Merge"
      ]
    },
    {
      "cell_type": "markdown",
      "metadata": {
        "id": "maW7Mhc00CQb"
      },
      "source": [
        "These are the parameters we can use when we merge two dataframes.\n",
        "\n",
        "```DataFrame.merge(right, how='inner', on=None, left_on=None, right_on=None, left_index=False, right_index=False, sort=False, suffixes='_x', '_y', copy=True, indicator=False, validate=None)```\n",
        "\n",
        "- how: {‘inner’, ‘left’, ‘right’, ‘outer’}, default ‘inner’\n",
        "- on: Column or index level names to join on. These must be found in both DataFrames.\n",
        "- left_on: Column or index level names to join on in the left DataFrame.\n",
        "- right_on: Column or index level names to join on in the right DataFrame.\n",
        "- suffixes: An optional parameter. Each element gets a suffix of length 2 to distinguish between information from duplicate column names in left and right dataframes, respectively.\n",
        "\n",
        "We will cover the most fundamental and commonly used parameters here. Feel free to check for more details at https://pandas.pydata.org/pandas-docs/stable/reference/api/pandas.DataFrame.merge.html \n"
      ]
    },
    {
      "cell_type": "markdown",
      "metadata": {
        "id": "Twi1THZ60CQb"
      },
      "source": [
        "#### Merge - `how`\n",
        "\n",
        "```how``` indicates a type of ```join``` and there are 4 types: ```inner```, ```left```, ```right```, and ```outer```."
      ]
    },
    {
      "cell_type": "markdown",
      "metadata": {
        "id": "MPTynx_20CQc"
      },
      "source": [
        "![inner_join.png](https://github.com/bitprj/DigitalHistory/blob/Narae/Week6-Advanced-Data-Wrangling-using-Pandas/assets/Inner_join_new.png?raw=1)\n",
        "\n",
        "```inner join``` will take in the common items / columns between the two dataframes."
      ]
    },
    {
      "cell_type": "markdown",
      "metadata": {
        "id": "SDkCKzx10CQc"
      },
      "source": [
        "![left_join.png](https://github.com/bitprj/DigitalHistory/blob/Narae/Week6-Advanced-Data-Wrangling-using-Pandas/assets/Left_join_new.png?raw=1)\n",
        "\n",
        "```left join``` will include everything from left dataframe as well as any data from the right dataframe where they both have the same column values."
      ]
    },
    {
      "cell_type": "markdown",
      "metadata": {
        "id": "0bSBYGgG0CQc"
      },
      "source": [
        "![right_join.png](https://github.com/bitprj/DigitalHistory/blob/Narae/Week6-Advanced-Data-Wrangling-using-Pandas/assets/Right_join_new.png?raw=1)\n",
        "\n",
        "Similar to ```left join```, ```right join``` will include everything from the right dataframe as well as any data from the left dataframe where they both have the same column values."
      ]
    },
    {
      "cell_type": "markdown",
      "metadata": {
        "id": "QLFkTEfr0CQc"
      },
      "source": [
        "![full_join.png](https://github.com/bitprj/DigitalHistory/blob/Narae/Week6-Advanced-Data-Wrangling-using-Pandas/assets/Outer_join_new.png?raw=1)\n",
        "\n",
        "```outer join``` will include everything from left and right dataframes even if there aren't any common items between the two."
      ]
    },
    {
      "cell_type": "markdown",
      "metadata": {
        "id": "2TchT1Uw0CQc"
      },
      "source": [
        "Understanding the different types of ```join```s are very important as this will help us to determine which type of ```join``` we will perform on a dataframe."
      ]
    },
    {
      "cell_type": "markdown",
      "metadata": {
        "id": "YAD5e2S_0CQd"
      },
      "source": [
        "#### Merge - `how` Example:\n",
        "\n",
        "In this example, we can merge ```emp``` and ```companies```. The code below will return a dataframe comprised of the two merged objects."
      ]
    },
    {
      "cell_type": "code",
      "metadata": {
        "id": "0qnYEftW0CQd",
        "colab": {
          "base_uri": "https://localhost:8080/",
          "height": 142
        },
        "outputId": "d3f95a5a-763e-4076-e2c9-5e76193d2892"
      },
      "source": [
        "pd.merge(emp, companies)"
      ],
      "execution_count": null,
      "outputs": [
        {
          "output_type": "execute_result",
          "data": {
            "text/html": [
              "<div>\n",
              "<style scoped>\n",
              "    .dataframe tbody tr th:only-of-type {\n",
              "        vertical-align: middle;\n",
              "    }\n",
              "\n",
              "    .dataframe tbody tr th {\n",
              "        vertical-align: top;\n",
              "    }\n",
              "\n",
              "    .dataframe thead th {\n",
              "        text-align: right;\n",
              "    }\n",
              "</style>\n",
              "<table border=\"1\" class=\"dataframe\">\n",
              "  <thead>\n",
              "    <tr style=\"text-align: right;\">\n",
              "      <th></th>\n",
              "      <th>First Name</th>\n",
              "      <th>Last Name</th>\n",
              "      <th>Age</th>\n",
              "      <th>Hourly Wage</th>\n",
              "      <th>Hours per week</th>\n",
              "      <th>Years of experience</th>\n",
              "      <th>Full Name</th>\n",
              "      <th>Weekly Salary</th>\n",
              "      <th>High Income</th>\n",
              "      <th>Company</th>\n",
              "    </tr>\n",
              "  </thead>\n",
              "  <tbody>\n",
              "    <tr>\n",
              "      <th>0</th>\n",
              "      <td>John</td>\n",
              "      <td>Williams</td>\n",
              "      <td>21</td>\n",
              "      <td>60</td>\n",
              "      <td>40</td>\n",
              "      <td>0.0</td>\n",
              "      <td>John Williams</td>\n",
              "      <td>2400</td>\n",
              "      <td>True</td>\n",
              "      <td>Microsoft</td>\n",
              "    </tr>\n",
              "    <tr>\n",
              "      <th>1</th>\n",
              "      <td>Chloe</td>\n",
              "      <td>Anderson</td>\n",
              "      <td>27</td>\n",
              "      <td>80</td>\n",
              "      <td>32</td>\n",
              "      <td>0.0</td>\n",
              "      <td>Chloe Anderson</td>\n",
              "      <td>2560</td>\n",
              "      <td>True</td>\n",
              "      <td>Disney</td>\n",
              "    </tr>\n",
              "    <tr>\n",
              "      <th>2</th>\n",
              "      <td>Jeremy</td>\n",
              "      <td>Scott</td>\n",
              "      <td>42</td>\n",
              "      <td>54</td>\n",
              "      <td>40</td>\n",
              "      <td>4.0</td>\n",
              "      <td>Jeremy Scott</td>\n",
              "      <td>2160</td>\n",
              "      <td>True</td>\n",
              "      <td>Adidas</td>\n",
              "    </tr>\n",
              "  </tbody>\n",
              "</table>\n",
              "</div>"
            ],
            "text/plain": [
              "  First Name Last Name  Age  ...  Weekly Salary  High Income    Company\n",
              "0       John  Williams   21  ...           2400         True  Microsoft\n",
              "1      Chloe  Anderson   27  ...           2560         True     Disney\n",
              "2     Jeremy     Scott   42  ...           2160         True     Adidas\n",
              "\n",
              "[3 rows x 10 columns]"
            ]
          },
          "metadata": {
            "tags": []
          },
          "execution_count": 60
        }
      ]
    },
    {
      "cell_type": "markdown",
      "metadata": {
        "id": "KrbtpOqc0CQe"
      },
      "source": [
        "Yay, it worked! \n",
        "\n",
        "We dropped the rows from ```emp``` where an employee's weekly salary is less than $2000, so the updated ```emp``` has 3 rows. By default, ```merge``` performs ```inner join``` and that's why it's showing less rows than ```companies```."
      ]
    },
    {
      "cell_type": "markdown",
      "metadata": {
        "id": "2ZEQ0cfk0CQe"
      },
      "source": [
        "Now, let's try ```right_join``` and see how it works!"
      ]
    },
    {
      "cell_type": "code",
      "metadata": {
        "id": "1POr2AKk0CQf",
        "colab": {
          "base_uri": "https://localhost:8080/",
          "height": 297
        },
        "outputId": "c297bc48-bd68-4e32-926f-4875b83479e5"
      },
      "source": [
        "pd.merge(emp, companies, how='right')"
      ],
      "execution_count": null,
      "outputs": [
        {
          "output_type": "execute_result",
          "data": {
            "text/html": [
              "<div>\n",
              "<style scoped>\n",
              "    .dataframe tbody tr th:only-of-type {\n",
              "        vertical-align: middle;\n",
              "    }\n",
              "\n",
              "    .dataframe tbody tr th {\n",
              "        vertical-align: top;\n",
              "    }\n",
              "\n",
              "    .dataframe thead th {\n",
              "        text-align: right;\n",
              "    }\n",
              "</style>\n",
              "<table border=\"1\" class=\"dataframe\">\n",
              "  <thead>\n",
              "    <tr style=\"text-align: right;\">\n",
              "      <th></th>\n",
              "      <th>First Name</th>\n",
              "      <th>Last Name</th>\n",
              "      <th>Age</th>\n",
              "      <th>Hourly Wage</th>\n",
              "      <th>Hours per week</th>\n",
              "      <th>Years of experience</th>\n",
              "      <th>Full Name</th>\n",
              "      <th>Weekly Salary</th>\n",
              "      <th>High Income</th>\n",
              "      <th>Company</th>\n",
              "    </tr>\n",
              "  </thead>\n",
              "  <tbody>\n",
              "    <tr>\n",
              "      <th>0</th>\n",
              "      <td>Jennifer</td>\n",
              "      <td>Brown</td>\n",
              "      <td>NaN</td>\n",
              "      <td>NaN</td>\n",
              "      <td>NaN</td>\n",
              "      <td>NaN</td>\n",
              "      <td>NaN</td>\n",
              "      <td>NaN</td>\n",
              "      <td>NaN</td>\n",
              "      <td>Home Depot</td>\n",
              "    </tr>\n",
              "    <tr>\n",
              "      <th>1</th>\n",
              "      <td>Chris</td>\n",
              "      <td>Smith</td>\n",
              "      <td>NaN</td>\n",
              "      <td>NaN</td>\n",
              "      <td>NaN</td>\n",
              "      <td>NaN</td>\n",
              "      <td>NaN</td>\n",
              "      <td>NaN</td>\n",
              "      <td>NaN</td>\n",
              "      <td>Bit Project</td>\n",
              "    </tr>\n",
              "    <tr>\n",
              "      <th>2</th>\n",
              "      <td>John</td>\n",
              "      <td>Williams</td>\n",
              "      <td>21.0</td>\n",
              "      <td>60.0</td>\n",
              "      <td>40.0</td>\n",
              "      <td>0.0</td>\n",
              "      <td>John Williams</td>\n",
              "      <td>2400.0</td>\n",
              "      <td>True</td>\n",
              "      <td>Microsoft</td>\n",
              "    </tr>\n",
              "    <tr>\n",
              "      <th>3</th>\n",
              "      <td>Annie</td>\n",
              "      <td>Wong</td>\n",
              "      <td>NaN</td>\n",
              "      <td>NaN</td>\n",
              "      <td>NaN</td>\n",
              "      <td>NaN</td>\n",
              "      <td>NaN</td>\n",
              "      <td>NaN</td>\n",
              "      <td>NaN</td>\n",
              "      <td>Bit Project</td>\n",
              "    </tr>\n",
              "    <tr>\n",
              "      <th>4</th>\n",
              "      <td>Chloe</td>\n",
              "      <td>Anderson</td>\n",
              "      <td>27.0</td>\n",
              "      <td>80.0</td>\n",
              "      <td>32.0</td>\n",
              "      <td>0.0</td>\n",
              "      <td>Chloe Anderson</td>\n",
              "      <td>2560.0</td>\n",
              "      <td>True</td>\n",
              "      <td>Disney</td>\n",
              "    </tr>\n",
              "    <tr>\n",
              "      <th>5</th>\n",
              "      <td>Jeremy</td>\n",
              "      <td>Scott</td>\n",
              "      <td>42.0</td>\n",
              "      <td>54.0</td>\n",
              "      <td>40.0</td>\n",
              "      <td>4.0</td>\n",
              "      <td>Jeremy Scott</td>\n",
              "      <td>2160.0</td>\n",
              "      <td>True</td>\n",
              "      <td>Adidas</td>\n",
              "    </tr>\n",
              "    <tr>\n",
              "      <th>6</th>\n",
              "      <td>Allison</td>\n",
              "      <td>Kim</td>\n",
              "      <td>NaN</td>\n",
              "      <td>NaN</td>\n",
              "      <td>NaN</td>\n",
              "      <td>NaN</td>\n",
              "      <td>NaN</td>\n",
              "      <td>NaN</td>\n",
              "      <td>NaN</td>\n",
              "      <td>Home Depot</td>\n",
              "    </tr>\n",
              "    <tr>\n",
              "      <th>7</th>\n",
              "      <td>Hannah</td>\n",
              "      <td>Mills</td>\n",
              "      <td>NaN</td>\n",
              "      <td>NaN</td>\n",
              "      <td>NaN</td>\n",
              "      <td>NaN</td>\n",
              "      <td>NaN</td>\n",
              "      <td>NaN</td>\n",
              "      <td>NaN</td>\n",
              "      <td>UNKNOWN</td>\n",
              "    </tr>\n",
              "  </tbody>\n",
              "</table>\n",
              "</div>"
            ],
            "text/plain": [
              "  First Name Last Name   Age  ...  Weekly Salary  High Income      Company\n",
              "0   Jennifer     Brown   NaN  ...            NaN          NaN   Home Depot\n",
              "1      Chris     Smith   NaN  ...            NaN          NaN  Bit Project\n",
              "2       John  Williams  21.0  ...         2400.0         True    Microsoft\n",
              "3      Annie      Wong   NaN  ...            NaN          NaN  Bit Project\n",
              "4      Chloe  Anderson  27.0  ...         2560.0         True       Disney\n",
              "5     Jeremy     Scott  42.0  ...         2160.0         True       Adidas\n",
              "6    Allison       Kim   NaN  ...            NaN          NaN   Home Depot\n",
              "7     Hannah     Mills   NaN  ...            NaN          NaN      UNKNOWN\n",
              "\n",
              "[8 rows x 10 columns]"
            ]
          },
          "metadata": {
            "tags": []
          },
          "execution_count": 63
        }
      ]
    },
    {
      "cell_type": "markdown",
      "metadata": {
        "id": "dvljcD200CQg"
      },
      "source": [
        "As our right dataframe is ```companies``` with 8 rows, the result shows all of the 8 employees in ```companies```. But as we've dropped the rows that do not meet our salary expectation in ```emp```, the result of ```right_join``` is missing ```Age```, ```Hourly Wage```, ```Hours per week```, etc for some employees."
      ]
    },
    {
      "cell_type": "markdown",
      "metadata": {
        "id": "Pu0oR6t80CQg"
      },
      "source": [
        "#### Merge - `on`, `left_on`, `right_on`\n",
        "\n",
        "```on```, ```left_on```, and ```right_on``` indicate column names to join on.\n",
        "\n",
        "- ```on``` is used when the same column name exists in both dataframes.\n",
        "- ```left_on``` and ```right_on``` is used when the column names are different in the two dataframes."
      ]
    },
    {
      "cell_type": "markdown",
      "metadata": {
        "id": "2gsZhJnY0CQg"
      },
      "source": [
        "#### Merge - `on` Example\n",
        "\n",
        "Let's join the two dataframes using common column names, ```First Name``` and ```Last Name```."
      ]
    },
    {
      "cell_type": "code",
      "metadata": {
        "id": "pcsJaWSD0CQh",
        "colab": {
          "base_uri": "https://localhost:8080/",
          "height": 142
        },
        "outputId": "72d9ef5a-aacd-41bf-feea-6571ce02dcff"
      },
      "source": [
        "pd.merge(emp, companies, on=['First Name', 'Last Name'])"
      ],
      "execution_count": null,
      "outputs": [
        {
          "output_type": "execute_result",
          "data": {
            "text/html": [
              "<div>\n",
              "<style scoped>\n",
              "    .dataframe tbody tr th:only-of-type {\n",
              "        vertical-align: middle;\n",
              "    }\n",
              "\n",
              "    .dataframe tbody tr th {\n",
              "        vertical-align: top;\n",
              "    }\n",
              "\n",
              "    .dataframe thead th {\n",
              "        text-align: right;\n",
              "    }\n",
              "</style>\n",
              "<table border=\"1\" class=\"dataframe\">\n",
              "  <thead>\n",
              "    <tr style=\"text-align: right;\">\n",
              "      <th></th>\n",
              "      <th>First Name</th>\n",
              "      <th>Last Name</th>\n",
              "      <th>Age</th>\n",
              "      <th>Hourly Wage</th>\n",
              "      <th>Hours per week</th>\n",
              "      <th>Years of experience</th>\n",
              "      <th>Full Name</th>\n",
              "      <th>Weekly Salary</th>\n",
              "      <th>High Income</th>\n",
              "      <th>Company</th>\n",
              "    </tr>\n",
              "  </thead>\n",
              "  <tbody>\n",
              "    <tr>\n",
              "      <th>0</th>\n",
              "      <td>John</td>\n",
              "      <td>Williams</td>\n",
              "      <td>21</td>\n",
              "      <td>60</td>\n",
              "      <td>40</td>\n",
              "      <td>0.0</td>\n",
              "      <td>John Williams</td>\n",
              "      <td>2400</td>\n",
              "      <td>True</td>\n",
              "      <td>Microsoft</td>\n",
              "    </tr>\n",
              "    <tr>\n",
              "      <th>1</th>\n",
              "      <td>Chloe</td>\n",
              "      <td>Anderson</td>\n",
              "      <td>27</td>\n",
              "      <td>80</td>\n",
              "      <td>32</td>\n",
              "      <td>0.0</td>\n",
              "      <td>Chloe Anderson</td>\n",
              "      <td>2560</td>\n",
              "      <td>True</td>\n",
              "      <td>Disney</td>\n",
              "    </tr>\n",
              "    <tr>\n",
              "      <th>2</th>\n",
              "      <td>Jeremy</td>\n",
              "      <td>Scott</td>\n",
              "      <td>42</td>\n",
              "      <td>54</td>\n",
              "      <td>40</td>\n",
              "      <td>4.0</td>\n",
              "      <td>Jeremy Scott</td>\n",
              "      <td>2160</td>\n",
              "      <td>True</td>\n",
              "      <td>Adidas</td>\n",
              "    </tr>\n",
              "  </tbody>\n",
              "</table>\n",
              "</div>"
            ],
            "text/plain": [
              "  First Name Last Name  Age  ...  Weekly Salary  High Income    Company\n",
              "0       John  Williams   21  ...           2400         True  Microsoft\n",
              "1      Chloe  Anderson   27  ...           2560         True     Disney\n",
              "2     Jeremy     Scott   42  ...           2160         True     Adidas\n",
              "\n",
              "[3 rows x 10 columns]"
            ]
          },
          "metadata": {
            "tags": []
          },
          "execution_count": 64
        }
      ]
    },
    {
      "cell_type": "markdown",
      "metadata": {
        "id": "ah9bdDjq0CQi"
      },
      "source": [
        "The resulting dataset shows three rows, since ```inner join``` was performed by default."
      ]
    },
    {
      "cell_type": "markdown",
      "metadata": {
        "id": "vYiUvudq0CQk"
      },
      "source": [
        "#### Merge - `left_on`, `right_on` Example\n",
        "\n",
        "It might happen that the two dataframes we want to merge have different column names. In this case, we will have to specify the two column names.\n",
        "\n",
        "Let's join the two dataframes using different column names. \n",
        "\n",
        "- ```emp``` column name: ```Full Name``` \n",
        "- ```companies``` column name: ```Name```"
      ]
    },
    {
      "cell_type": "code",
      "metadata": {
        "id": "K7-RuyMv0CQk",
        "colab": {
          "base_uri": "https://localhost:8080/",
          "height": 297
        },
        "outputId": "c9281465-3397-4d13-d6ef-9697f032428f"
      },
      "source": [
        "companies['Name'] = companies['First Name'] + ' ' + companies['Last Name']\n",
        "companies"
      ],
      "execution_count": null,
      "outputs": [
        {
          "output_type": "execute_result",
          "data": {
            "text/html": [
              "<div>\n",
              "<style scoped>\n",
              "    .dataframe tbody tr th:only-of-type {\n",
              "        vertical-align: middle;\n",
              "    }\n",
              "\n",
              "    .dataframe tbody tr th {\n",
              "        vertical-align: top;\n",
              "    }\n",
              "\n",
              "    .dataframe thead th {\n",
              "        text-align: right;\n",
              "    }\n",
              "</style>\n",
              "<table border=\"1\" class=\"dataframe\">\n",
              "  <thead>\n",
              "    <tr style=\"text-align: right;\">\n",
              "      <th></th>\n",
              "      <th>First Name</th>\n",
              "      <th>Last Name</th>\n",
              "      <th>Company</th>\n",
              "      <th>Name</th>\n",
              "    </tr>\n",
              "  </thead>\n",
              "  <tbody>\n",
              "    <tr>\n",
              "      <th>0</th>\n",
              "      <td>Jennifer</td>\n",
              "      <td>Brown</td>\n",
              "      <td>Home Depot</td>\n",
              "      <td>Jennifer Brown</td>\n",
              "    </tr>\n",
              "    <tr>\n",
              "      <th>1</th>\n",
              "      <td>Chris</td>\n",
              "      <td>Smith</td>\n",
              "      <td>Bit Project</td>\n",
              "      <td>Chris Smith</td>\n",
              "    </tr>\n",
              "    <tr>\n",
              "      <th>2</th>\n",
              "      <td>John</td>\n",
              "      <td>Williams</td>\n",
              "      <td>Microsoft</td>\n",
              "      <td>John Williams</td>\n",
              "    </tr>\n",
              "    <tr>\n",
              "      <th>3</th>\n",
              "      <td>Annie</td>\n",
              "      <td>Wong</td>\n",
              "      <td>Bit Project</td>\n",
              "      <td>Annie Wong</td>\n",
              "    </tr>\n",
              "    <tr>\n",
              "      <th>4</th>\n",
              "      <td>Chloe</td>\n",
              "      <td>Anderson</td>\n",
              "      <td>Disney</td>\n",
              "      <td>Chloe Anderson</td>\n",
              "    </tr>\n",
              "    <tr>\n",
              "      <th>5</th>\n",
              "      <td>Jeremy</td>\n",
              "      <td>Scott</td>\n",
              "      <td>Adidas</td>\n",
              "      <td>Jeremy Scott</td>\n",
              "    </tr>\n",
              "    <tr>\n",
              "      <th>6</th>\n",
              "      <td>Allison</td>\n",
              "      <td>Kim</td>\n",
              "      <td>Home Depot</td>\n",
              "      <td>Allison Kim</td>\n",
              "    </tr>\n",
              "    <tr>\n",
              "      <th>7</th>\n",
              "      <td>Hannah</td>\n",
              "      <td>Mills</td>\n",
              "      <td>UNKNOWN</td>\n",
              "      <td>Hannah Mills</td>\n",
              "    </tr>\n",
              "  </tbody>\n",
              "</table>\n",
              "</div>"
            ],
            "text/plain": [
              "  First Name Last Name      Company            Name\n",
              "0   Jennifer     Brown   Home Depot  Jennifer Brown\n",
              "1      Chris     Smith  Bit Project     Chris Smith\n",
              "2       John  Williams    Microsoft   John Williams\n",
              "3      Annie      Wong  Bit Project      Annie Wong\n",
              "4      Chloe  Anderson       Disney  Chloe Anderson\n",
              "5     Jeremy     Scott       Adidas    Jeremy Scott\n",
              "6    Allison       Kim   Home Depot     Allison Kim\n",
              "7     Hannah     Mills      UNKNOWN    Hannah Mills"
            ]
          },
          "metadata": {
            "tags": []
          },
          "execution_count": 66
        }
      ]
    },
    {
      "cell_type": "code",
      "metadata": {
        "id": "lEZwlVLNBo8T",
        "scrolled": true,
        "colab": {
          "base_uri": "https://localhost:8080/",
          "height": 193
        },
        "outputId": "84c28acd-5278-4c8d-8050-8bdbe812c97d"
      },
      "source": [
        "pd.merge(emp, companies, left_on='Full Name', right_on='Name')"
      ],
      "execution_count": null,
      "outputs": [
        {
          "output_type": "execute_result",
          "data": {
            "text/html": [
              "<div>\n",
              "<style scoped>\n",
              "    .dataframe tbody tr th:only-of-type {\n",
              "        vertical-align: middle;\n",
              "    }\n",
              "\n",
              "    .dataframe tbody tr th {\n",
              "        vertical-align: top;\n",
              "    }\n",
              "\n",
              "    .dataframe thead th {\n",
              "        text-align: right;\n",
              "    }\n",
              "</style>\n",
              "<table border=\"1\" class=\"dataframe\">\n",
              "  <thead>\n",
              "    <tr style=\"text-align: right;\">\n",
              "      <th></th>\n",
              "      <th>First Name_x</th>\n",
              "      <th>Last Name_x</th>\n",
              "      <th>Age</th>\n",
              "      <th>Hourly Wage</th>\n",
              "      <th>Hours per week</th>\n",
              "      <th>Years of experience</th>\n",
              "      <th>Full Name</th>\n",
              "      <th>Weekly Salary</th>\n",
              "      <th>High Income</th>\n",
              "      <th>First Name_y</th>\n",
              "      <th>Last Name_y</th>\n",
              "      <th>Company</th>\n",
              "      <th>Name</th>\n",
              "    </tr>\n",
              "  </thead>\n",
              "  <tbody>\n",
              "    <tr>\n",
              "      <th>0</th>\n",
              "      <td>John</td>\n",
              "      <td>Williams</td>\n",
              "      <td>21</td>\n",
              "      <td>60</td>\n",
              "      <td>40</td>\n",
              "      <td>0.0</td>\n",
              "      <td>John Williams</td>\n",
              "      <td>2400</td>\n",
              "      <td>True</td>\n",
              "      <td>John</td>\n",
              "      <td>Williams</td>\n",
              "      <td>Microsoft</td>\n",
              "      <td>John Williams</td>\n",
              "    </tr>\n",
              "    <tr>\n",
              "      <th>1</th>\n",
              "      <td>Chloe</td>\n",
              "      <td>Anderson</td>\n",
              "      <td>27</td>\n",
              "      <td>80</td>\n",
              "      <td>32</td>\n",
              "      <td>0.0</td>\n",
              "      <td>Chloe Anderson</td>\n",
              "      <td>2560</td>\n",
              "      <td>True</td>\n",
              "      <td>Chloe</td>\n",
              "      <td>Anderson</td>\n",
              "      <td>Disney</td>\n",
              "      <td>Chloe Anderson</td>\n",
              "    </tr>\n",
              "    <tr>\n",
              "      <th>2</th>\n",
              "      <td>Jeremy</td>\n",
              "      <td>Scott</td>\n",
              "      <td>42</td>\n",
              "      <td>54</td>\n",
              "      <td>40</td>\n",
              "      <td>4.0</td>\n",
              "      <td>Jeremy Scott</td>\n",
              "      <td>2160</td>\n",
              "      <td>True</td>\n",
              "      <td>Jeremy</td>\n",
              "      <td>Scott</td>\n",
              "      <td>Adidas</td>\n",
              "      <td>Jeremy Scott</td>\n",
              "    </tr>\n",
              "  </tbody>\n",
              "</table>\n",
              "</div>"
            ],
            "text/plain": [
              "  First Name_x Last Name_x  Age  ...  Last Name_y    Company            Name\n",
              "0         John    Williams   21  ...     Williams  Microsoft   John Williams\n",
              "1        Chloe    Anderson   27  ...     Anderson     Disney  Chloe Anderson\n",
              "2       Jeremy       Scott   42  ...        Scott     Adidas    Jeremy Scott\n",
              "\n",
              "[3 rows x 13 columns]"
            ]
          },
          "metadata": {
            "tags": []
          },
          "execution_count": 67
        }
      ]
    },
    {
      "cell_type": "markdown",
      "metadata": {
        "id": "e5-HZ2_60CQm"
      },
      "source": [
        "As mentioned earlier, by default, ```inner join``` has been applied and the resulting dataframe shows 3 rows!"
      ]
    },
    {
      "cell_type": "markdown",
      "metadata": {
        "id": "gFrUh7pF0CQn"
      },
      "source": [
        "In the result, ```First Name_x``` is from the first table, which is ```emp```, while ```First Name_y``` is from the second table, which is ```companies```."
      ]
    },
    {
      "cell_type": "markdown",
      "metadata": {
        "id": "fNp-2S0K0CQn"
      },
      "source": [
        "#### Merge - `suffixes`\n",
        "\n",
        "Suffixes indicate the suffix to add to duplicate column names in left and right dataframes respectively.\n",
        "\n",
        "In the previous example, by default, suffixes ```_x``` and ```_y``` were added respectively.\n",
        "\n",
        "We can specify suffixes by setting ```suffixes=[]```."
      ]
    },
    {
      "cell_type": "markdown",
      "metadata": {
        "id": "3o0ElyXi0CQo"
      },
      "source": [
        "#### Merge - `suffixes` Example\n",
        "\n",
        "Let's add ```_1``` to the first dataframe and ```_2``` to the second dataframe."
      ]
    },
    {
      "cell_type": "code",
      "metadata": {
        "id": "profqndZ0CQo",
        "colab": {
          "base_uri": "https://localhost:8080/",
          "height": 193
        },
        "outputId": "5392cefc-d353-4bd7-863b-a707bb4be4b2"
      },
      "source": [
        "pd.merge(emp, companies, left_on='Full Name', right_on='Name', suffixes=['_1', '_2'])"
      ],
      "execution_count": null,
      "outputs": [
        {
          "output_type": "execute_result",
          "data": {
            "text/html": [
              "<div>\n",
              "<style scoped>\n",
              "    .dataframe tbody tr th:only-of-type {\n",
              "        vertical-align: middle;\n",
              "    }\n",
              "\n",
              "    .dataframe tbody tr th {\n",
              "        vertical-align: top;\n",
              "    }\n",
              "\n",
              "    .dataframe thead th {\n",
              "        text-align: right;\n",
              "    }\n",
              "</style>\n",
              "<table border=\"1\" class=\"dataframe\">\n",
              "  <thead>\n",
              "    <tr style=\"text-align: right;\">\n",
              "      <th></th>\n",
              "      <th>First Name_1</th>\n",
              "      <th>Last Name_1</th>\n",
              "      <th>Age</th>\n",
              "      <th>Hourly Wage</th>\n",
              "      <th>Hours per week</th>\n",
              "      <th>Years of experience</th>\n",
              "      <th>Full Name</th>\n",
              "      <th>Weekly Salary</th>\n",
              "      <th>High Income</th>\n",
              "      <th>First Name_2</th>\n",
              "      <th>Last Name_2</th>\n",
              "      <th>Company</th>\n",
              "      <th>Name</th>\n",
              "    </tr>\n",
              "  </thead>\n",
              "  <tbody>\n",
              "    <tr>\n",
              "      <th>0</th>\n",
              "      <td>John</td>\n",
              "      <td>Williams</td>\n",
              "      <td>21</td>\n",
              "      <td>60</td>\n",
              "      <td>40</td>\n",
              "      <td>0.0</td>\n",
              "      <td>John Williams</td>\n",
              "      <td>2400</td>\n",
              "      <td>True</td>\n",
              "      <td>John</td>\n",
              "      <td>Williams</td>\n",
              "      <td>Microsoft</td>\n",
              "      <td>John Williams</td>\n",
              "    </tr>\n",
              "    <tr>\n",
              "      <th>1</th>\n",
              "      <td>Chloe</td>\n",
              "      <td>Anderson</td>\n",
              "      <td>27</td>\n",
              "      <td>80</td>\n",
              "      <td>32</td>\n",
              "      <td>0.0</td>\n",
              "      <td>Chloe Anderson</td>\n",
              "      <td>2560</td>\n",
              "      <td>True</td>\n",
              "      <td>Chloe</td>\n",
              "      <td>Anderson</td>\n",
              "      <td>Disney</td>\n",
              "      <td>Chloe Anderson</td>\n",
              "    </tr>\n",
              "    <tr>\n",
              "      <th>2</th>\n",
              "      <td>Jeremy</td>\n",
              "      <td>Scott</td>\n",
              "      <td>42</td>\n",
              "      <td>54</td>\n",
              "      <td>40</td>\n",
              "      <td>4.0</td>\n",
              "      <td>Jeremy Scott</td>\n",
              "      <td>2160</td>\n",
              "      <td>True</td>\n",
              "      <td>Jeremy</td>\n",
              "      <td>Scott</td>\n",
              "      <td>Adidas</td>\n",
              "      <td>Jeremy Scott</td>\n",
              "    </tr>\n",
              "  </tbody>\n",
              "</table>\n",
              "</div>"
            ],
            "text/plain": [
              "  First Name_1 Last Name_1  Age  ...  Last Name_2    Company            Name\n",
              "0         John    Williams   21  ...     Williams  Microsoft   John Williams\n",
              "1        Chloe    Anderson   27  ...     Anderson     Disney  Chloe Anderson\n",
              "2       Jeremy       Scott   42  ...        Scott     Adidas    Jeremy Scott\n",
              "\n",
              "[3 rows x 13 columns]"
            ]
          },
          "metadata": {
            "tags": []
          },
          "execution_count": 68
        }
      ]
    },
    {
      "cell_type": "markdown",
      "metadata": {
        "id": "zPhWCar60CQp"
      },
      "source": [
        "Since `inner join` was performed, only 3 common rows show up and so there's actually no need to indicate ```_1``` or ```_2```.\n",
        "\n",
        "Let's try `right join` and see how the dataframe looks different!"
      ]
    },
    {
      "cell_type": "code",
      "metadata": {
        "id": "aDnCCvL80CQq",
        "colab": {
          "base_uri": "https://localhost:8080/",
          "height": 450
        },
        "outputId": "23b8aa4d-f1d7-460b-aa48-a0ddef88e856"
      },
      "source": [
        "pd.merge(emp, companies, how = 'right', left_on='Full Name', right_on='Name', suffixes=['_emp', '_companies'])"
      ],
      "execution_count": null,
      "outputs": [
        {
          "output_type": "execute_result",
          "data": {
            "text/html": [
              "<div>\n",
              "<style scoped>\n",
              "    .dataframe tbody tr th:only-of-type {\n",
              "        vertical-align: middle;\n",
              "    }\n",
              "\n",
              "    .dataframe tbody tr th {\n",
              "        vertical-align: top;\n",
              "    }\n",
              "\n",
              "    .dataframe thead th {\n",
              "        text-align: right;\n",
              "    }\n",
              "</style>\n",
              "<table border=\"1\" class=\"dataframe\">\n",
              "  <thead>\n",
              "    <tr style=\"text-align: right;\">\n",
              "      <th></th>\n",
              "      <th>First Name_emp</th>\n",
              "      <th>Last Name_emp</th>\n",
              "      <th>Age</th>\n",
              "      <th>Hourly Wage</th>\n",
              "      <th>Hours per week</th>\n",
              "      <th>Years of experience</th>\n",
              "      <th>Full Name</th>\n",
              "      <th>Weekly Salary</th>\n",
              "      <th>High Income</th>\n",
              "      <th>First Name_companies</th>\n",
              "      <th>Last Name_companies</th>\n",
              "      <th>Company</th>\n",
              "      <th>Name</th>\n",
              "    </tr>\n",
              "  </thead>\n",
              "  <tbody>\n",
              "    <tr>\n",
              "      <th>0</th>\n",
              "      <td>NaN</td>\n",
              "      <td>NaN</td>\n",
              "      <td>NaN</td>\n",
              "      <td>NaN</td>\n",
              "      <td>NaN</td>\n",
              "      <td>NaN</td>\n",
              "      <td>NaN</td>\n",
              "      <td>NaN</td>\n",
              "      <td>NaN</td>\n",
              "      <td>Jennifer</td>\n",
              "      <td>Brown</td>\n",
              "      <td>Home Depot</td>\n",
              "      <td>Jennifer Brown</td>\n",
              "    </tr>\n",
              "    <tr>\n",
              "      <th>1</th>\n",
              "      <td>NaN</td>\n",
              "      <td>NaN</td>\n",
              "      <td>NaN</td>\n",
              "      <td>NaN</td>\n",
              "      <td>NaN</td>\n",
              "      <td>NaN</td>\n",
              "      <td>NaN</td>\n",
              "      <td>NaN</td>\n",
              "      <td>NaN</td>\n",
              "      <td>Chris</td>\n",
              "      <td>Smith</td>\n",
              "      <td>Bit Project</td>\n",
              "      <td>Chris Smith</td>\n",
              "    </tr>\n",
              "    <tr>\n",
              "      <th>2</th>\n",
              "      <td>John</td>\n",
              "      <td>Williams</td>\n",
              "      <td>21.0</td>\n",
              "      <td>60.0</td>\n",
              "      <td>40.0</td>\n",
              "      <td>0.0</td>\n",
              "      <td>John Williams</td>\n",
              "      <td>2400.0</td>\n",
              "      <td>True</td>\n",
              "      <td>John</td>\n",
              "      <td>Williams</td>\n",
              "      <td>Microsoft</td>\n",
              "      <td>John Williams</td>\n",
              "    </tr>\n",
              "    <tr>\n",
              "      <th>3</th>\n",
              "      <td>NaN</td>\n",
              "      <td>NaN</td>\n",
              "      <td>NaN</td>\n",
              "      <td>NaN</td>\n",
              "      <td>NaN</td>\n",
              "      <td>NaN</td>\n",
              "      <td>NaN</td>\n",
              "      <td>NaN</td>\n",
              "      <td>NaN</td>\n",
              "      <td>Annie</td>\n",
              "      <td>Wong</td>\n",
              "      <td>Bit Project</td>\n",
              "      <td>Annie Wong</td>\n",
              "    </tr>\n",
              "    <tr>\n",
              "      <th>4</th>\n",
              "      <td>Chloe</td>\n",
              "      <td>Anderson</td>\n",
              "      <td>27.0</td>\n",
              "      <td>80.0</td>\n",
              "      <td>32.0</td>\n",
              "      <td>0.0</td>\n",
              "      <td>Chloe Anderson</td>\n",
              "      <td>2560.0</td>\n",
              "      <td>True</td>\n",
              "      <td>Chloe</td>\n",
              "      <td>Anderson</td>\n",
              "      <td>Disney</td>\n",
              "      <td>Chloe Anderson</td>\n",
              "    </tr>\n",
              "    <tr>\n",
              "      <th>5</th>\n",
              "      <td>Jeremy</td>\n",
              "      <td>Scott</td>\n",
              "      <td>42.0</td>\n",
              "      <td>54.0</td>\n",
              "      <td>40.0</td>\n",
              "      <td>4.0</td>\n",
              "      <td>Jeremy Scott</td>\n",
              "      <td>2160.0</td>\n",
              "      <td>True</td>\n",
              "      <td>Jeremy</td>\n",
              "      <td>Scott</td>\n",
              "      <td>Adidas</td>\n",
              "      <td>Jeremy Scott</td>\n",
              "    </tr>\n",
              "    <tr>\n",
              "      <th>6</th>\n",
              "      <td>NaN</td>\n",
              "      <td>NaN</td>\n",
              "      <td>NaN</td>\n",
              "      <td>NaN</td>\n",
              "      <td>NaN</td>\n",
              "      <td>NaN</td>\n",
              "      <td>NaN</td>\n",
              "      <td>NaN</td>\n",
              "      <td>NaN</td>\n",
              "      <td>Allison</td>\n",
              "      <td>Kim</td>\n",
              "      <td>Home Depot</td>\n",
              "      <td>Allison Kim</td>\n",
              "    </tr>\n",
              "    <tr>\n",
              "      <th>7</th>\n",
              "      <td>NaN</td>\n",
              "      <td>NaN</td>\n",
              "      <td>NaN</td>\n",
              "      <td>NaN</td>\n",
              "      <td>NaN</td>\n",
              "      <td>NaN</td>\n",
              "      <td>NaN</td>\n",
              "      <td>NaN</td>\n",
              "      <td>NaN</td>\n",
              "      <td>Hannah</td>\n",
              "      <td>Mills</td>\n",
              "      <td>UNKNOWN</td>\n",
              "      <td>Hannah Mills</td>\n",
              "    </tr>\n",
              "  </tbody>\n",
              "</table>\n",
              "</div>"
            ],
            "text/plain": [
              "  First Name_emp Last Name_emp  ...      Company            Name\n",
              "0            NaN           NaN  ...   Home Depot  Jennifer Brown\n",
              "1            NaN           NaN  ...  Bit Project     Chris Smith\n",
              "2           John      Williams  ...    Microsoft   John Williams\n",
              "3            NaN           NaN  ...  Bit Project      Annie Wong\n",
              "4          Chloe      Anderson  ...       Disney  Chloe Anderson\n",
              "5         Jeremy         Scott  ...       Adidas    Jeremy Scott\n",
              "6            NaN           NaN  ...   Home Depot     Allison Kim\n",
              "7            NaN           NaN  ...      UNKNOWN    Hannah Mills\n",
              "\n",
              "[8 rows x 13 columns]"
            ]
          },
          "metadata": {
            "tags": []
          },
          "execution_count": 69
        }
      ]
    },
    {
      "cell_type": "markdown",
      "metadata": {
        "id": "WP7db4MS0CQr"
      },
      "source": [
        "Because we specified `right join`, it shows all of the rows from the ```companies``` dataframe and matching rows from the ```emp``` dataframe.\n",
        "\n",
        "The ```First Name_emp``` and ```Last Name_emp``` show three rows only while ```First Name_companies``` and ```Last Name_companies``` show all rows!"
      ]
    },
    {
      "cell_type": "markdown",
      "metadata": {
        "id": "x8LMTMU20CQr"
      },
      "source": [
        "### 2. Join"
      ]
    },
    {
      "cell_type": "markdown",
      "metadata": {
        "id": "NiRghqWC0CQr"
      },
      "source": [
        "These are the parameters we can use when we merge two dataframes.\n",
        "\n",
        "```Dataframe.join(other, on=None, how='left', lsuffix='', rsuffix='', sort=False)```\n",
        "\n",
        "- `other`: Dataframe, Series, or list of Dataframes to join.\n",
        "- on: Column or index level names to join on the index in `other`. These must be found in both DataFrames.\n",
        "- how: {‘inner’, ‘left’, ‘right’, ‘outer’}, default ‘inner’\n",
        "- lsuffix: Suffix to use from left frame’s overlapping columns.\n",
        "- rsuffix: Suffix to use from right frame’s overlapping columns.\n",
        "\n",
        "We have covered ```on``` and ```how``` in detail in ```merge```. Feel free to click [here](https://pandas.pydata.org/pandas-docs/stable/reference/api/pandas.DataFrame.join.html) for a revision.\n",
        "\n",
        "We will try one example of ```join``` using ```lsuffix``` and ```rsuffix```.\n",
        "\n",
        "#### Join - `lsuffix` and `rsuffix`\n",
        "\n",
        "This is similar to ```suffixes``` in ```merge```."
      ]
    },
    {
      "cell_type": "code",
      "metadata": {
        "id": "WYdob--7RQVe",
        "colab": {
          "base_uri": "https://localhost:8080/",
          "height": 382
        },
        "outputId": "fae6b750-93b1-4667-ba71-56d17e1be0f6"
      },
      "source": [
        "emp.join(companies, how='right', lsuffix='_1', rsuffix='_2')"
      ],
      "execution_count": null,
      "outputs": [
        {
          "output_type": "execute_result",
          "data": {
            "text/html": [
              "<div>\n",
              "<style scoped>\n",
              "    .dataframe tbody tr th:only-of-type {\n",
              "        vertical-align: middle;\n",
              "    }\n",
              "\n",
              "    .dataframe tbody tr th {\n",
              "        vertical-align: top;\n",
              "    }\n",
              "\n",
              "    .dataframe thead th {\n",
              "        text-align: right;\n",
              "    }\n",
              "</style>\n",
              "<table border=\"1\" class=\"dataframe\">\n",
              "  <thead>\n",
              "    <tr style=\"text-align: right;\">\n",
              "      <th></th>\n",
              "      <th>First Name_1</th>\n",
              "      <th>Last Name_1</th>\n",
              "      <th>Age</th>\n",
              "      <th>Hourly Wage</th>\n",
              "      <th>Hours per week</th>\n",
              "      <th>Years of experience</th>\n",
              "      <th>Full Name</th>\n",
              "      <th>Weekly Salary</th>\n",
              "      <th>High Income</th>\n",
              "      <th>First Name_2</th>\n",
              "      <th>Last Name_2</th>\n",
              "      <th>Company</th>\n",
              "      <th>Name</th>\n",
              "    </tr>\n",
              "  </thead>\n",
              "  <tbody>\n",
              "    <tr>\n",
              "      <th>0</th>\n",
              "      <td>NaN</td>\n",
              "      <td>NaN</td>\n",
              "      <td>NaN</td>\n",
              "      <td>NaN</td>\n",
              "      <td>NaN</td>\n",
              "      <td>NaN</td>\n",
              "      <td>NaN</td>\n",
              "      <td>NaN</td>\n",
              "      <td>NaN</td>\n",
              "      <td>Jennifer</td>\n",
              "      <td>Brown</td>\n",
              "      <td>Home Depot</td>\n",
              "      <td>Jennifer Brown</td>\n",
              "    </tr>\n",
              "    <tr>\n",
              "      <th>1</th>\n",
              "      <td>NaN</td>\n",
              "      <td>NaN</td>\n",
              "      <td>NaN</td>\n",
              "      <td>NaN</td>\n",
              "      <td>NaN</td>\n",
              "      <td>NaN</td>\n",
              "      <td>NaN</td>\n",
              "      <td>NaN</td>\n",
              "      <td>NaN</td>\n",
              "      <td>Chris</td>\n",
              "      <td>Smith</td>\n",
              "      <td>Bit Project</td>\n",
              "      <td>Chris Smith</td>\n",
              "    </tr>\n",
              "    <tr>\n",
              "      <th>2</th>\n",
              "      <td>John</td>\n",
              "      <td>Williams</td>\n",
              "      <td>21.0</td>\n",
              "      <td>60.0</td>\n",
              "      <td>40.0</td>\n",
              "      <td>0.0</td>\n",
              "      <td>John Williams</td>\n",
              "      <td>2400.0</td>\n",
              "      <td>True</td>\n",
              "      <td>John</td>\n",
              "      <td>Williams</td>\n",
              "      <td>Microsoft</td>\n",
              "      <td>John Williams</td>\n",
              "    </tr>\n",
              "    <tr>\n",
              "      <th>3</th>\n",
              "      <td>NaN</td>\n",
              "      <td>NaN</td>\n",
              "      <td>NaN</td>\n",
              "      <td>NaN</td>\n",
              "      <td>NaN</td>\n",
              "      <td>NaN</td>\n",
              "      <td>NaN</td>\n",
              "      <td>NaN</td>\n",
              "      <td>NaN</td>\n",
              "      <td>Annie</td>\n",
              "      <td>Wong</td>\n",
              "      <td>Bit Project</td>\n",
              "      <td>Annie Wong</td>\n",
              "    </tr>\n",
              "    <tr>\n",
              "      <th>4</th>\n",
              "      <td>Chloe</td>\n",
              "      <td>Anderson</td>\n",
              "      <td>27.0</td>\n",
              "      <td>80.0</td>\n",
              "      <td>32.0</td>\n",
              "      <td>0.0</td>\n",
              "      <td>Chloe Anderson</td>\n",
              "      <td>2560.0</td>\n",
              "      <td>True</td>\n",
              "      <td>Chloe</td>\n",
              "      <td>Anderson</td>\n",
              "      <td>Disney</td>\n",
              "      <td>Chloe Anderson</td>\n",
              "    </tr>\n",
              "    <tr>\n",
              "      <th>5</th>\n",
              "      <td>Jeremy</td>\n",
              "      <td>Scott</td>\n",
              "      <td>42.0</td>\n",
              "      <td>54.0</td>\n",
              "      <td>40.0</td>\n",
              "      <td>4.0</td>\n",
              "      <td>Jeremy Scott</td>\n",
              "      <td>2160.0</td>\n",
              "      <td>True</td>\n",
              "      <td>Jeremy</td>\n",
              "      <td>Scott</td>\n",
              "      <td>Adidas</td>\n",
              "      <td>Jeremy Scott</td>\n",
              "    </tr>\n",
              "    <tr>\n",
              "      <th>6</th>\n",
              "      <td>NaN</td>\n",
              "      <td>NaN</td>\n",
              "      <td>NaN</td>\n",
              "      <td>NaN</td>\n",
              "      <td>NaN</td>\n",
              "      <td>NaN</td>\n",
              "      <td>NaN</td>\n",
              "      <td>NaN</td>\n",
              "      <td>NaN</td>\n",
              "      <td>Allison</td>\n",
              "      <td>Kim</td>\n",
              "      <td>Home Depot</td>\n",
              "      <td>Allison Kim</td>\n",
              "    </tr>\n",
              "    <tr>\n",
              "      <th>7</th>\n",
              "      <td>NaN</td>\n",
              "      <td>NaN</td>\n",
              "      <td>NaN</td>\n",
              "      <td>NaN</td>\n",
              "      <td>NaN</td>\n",
              "      <td>NaN</td>\n",
              "      <td>NaN</td>\n",
              "      <td>NaN</td>\n",
              "      <td>NaN</td>\n",
              "      <td>Hannah</td>\n",
              "      <td>Mills</td>\n",
              "      <td>UNKNOWN</td>\n",
              "      <td>Hannah Mills</td>\n",
              "    </tr>\n",
              "  </tbody>\n",
              "</table>\n",
              "</div>"
            ],
            "text/plain": [
              "  First Name_1 Last Name_1   Age  ...  Last Name_2      Company            Name\n",
              "0          NaN         NaN   NaN  ...        Brown   Home Depot  Jennifer Brown\n",
              "1          NaN         NaN   NaN  ...        Smith  Bit Project     Chris Smith\n",
              "2         John    Williams  21.0  ...     Williams    Microsoft   John Williams\n",
              "3          NaN         NaN   NaN  ...         Wong  Bit Project      Annie Wong\n",
              "4        Chloe    Anderson  27.0  ...     Anderson       Disney  Chloe Anderson\n",
              "5       Jeremy       Scott  42.0  ...        Scott       Adidas    Jeremy Scott\n",
              "6          NaN         NaN   NaN  ...          Kim   Home Depot     Allison Kim\n",
              "7          NaN         NaN   NaN  ...        Mills      UNKNOWN    Hannah Mills\n",
              "\n",
              "[8 rows x 13 columns]"
            ]
          },
          "metadata": {
            "tags": []
          },
          "execution_count": 72
        }
      ]
    },
    {
      "cell_type": "markdown",
      "metadata": {
        "id": "B0U4y6QmP16K"
      },
      "source": [
        "## Practical Exercise - Flight delay data \n",
        "\n",
        "You can find the dataset here:\n",
        "https://www.kaggle.com/divyansh22/flight-delay-prediction\n",
        "\n",
        "Now, we will dive into a more complicated data analysis using Pandas."
      ]
    },
    {
      "cell_type": "markdown",
      "metadata": {
        "id": "ps1EtT8PV7Ud"
      },
      "source": [
        "<img src=\"https://github.com/bitprj/DigitalHistory/blob/Narae/Week6-Advanced-Data-Wrangling-using-Pandas/assets/icons/flight.jpg?raw=1\" width=\"300\" align=\"right\"> \n",
        "\n",
        "From the page itself:\n",
        "\n",
        "\"This dataset is the flight delay prediction for the month of January. \n",
        "\n",
        "This data is collected from the Bureau of Transportation Statistics, Govt. of the USA. This data is open-sourced under U.S. Govt. Works. This dataset contains all the flights in the month of January 2020. There are more than 400,000 flights in the month of January itself throughout the United States. The features were manually chosen to do a primary time series analysis. There are several other features available on their website.\n",
        "\n",
        "This data could well be used to predict the flight delay at the destination airport specifically for the month of January in upcoming years as the data is for January only\"."
      ]
    },
    {
      "cell_type": "code",
      "metadata": {
        "id": "KK32nt5w0CQt",
        "colab": {
          "base_uri": "https://localhost:8080/",
          "height": 456
        },
        "outputId": "6c5a6f18-25c1-44a4-eb19-acb7b74749ec"
      },
      "source": [
        "url = 'https://raw.githubusercontent.com/bitprj/DigitalHistory/master/Week6-Advanced-Data-Wrangling-using-Pandas/data/Jan_2020_ontime.csv'\n",
        "df = pd.read_csv(url)\n",
        "df"
      ],
      "execution_count": null,
      "outputs": [
        {
          "output_type": "execute_result",
          "data": {
            "text/html": [
              "<div>\n",
              "<style scoped>\n",
              "    .dataframe tbody tr th:only-of-type {\n",
              "        vertical-align: middle;\n",
              "    }\n",
              "\n",
              "    .dataframe tbody tr th {\n",
              "        vertical-align: top;\n",
              "    }\n",
              "\n",
              "    .dataframe thead th {\n",
              "        text-align: right;\n",
              "    }\n",
              "</style>\n",
              "<table border=\"1\" class=\"dataframe\">\n",
              "  <thead>\n",
              "    <tr style=\"text-align: right;\">\n",
              "      <th></th>\n",
              "      <th>DAY_OF_MONTH</th>\n",
              "      <th>DAY_OF_WEEK</th>\n",
              "      <th>OP_UNIQUE_CARRIER</th>\n",
              "      <th>OP_CARRIER_AIRLINE_ID</th>\n",
              "      <th>OP_CARRIER</th>\n",
              "      <th>TAIL_NUM</th>\n",
              "      <th>OP_CARRIER_FL_NUM</th>\n",
              "      <th>ORIGIN_AIRPORT_ID</th>\n",
              "      <th>ORIGIN_AIRPORT_SEQ_ID</th>\n",
              "      <th>ORIGIN</th>\n",
              "      <th>DEST_AIRPORT_ID</th>\n",
              "      <th>DEST_AIRPORT_SEQ_ID</th>\n",
              "      <th>DEST</th>\n",
              "      <th>DEP_TIME</th>\n",
              "      <th>DEP_DEL15</th>\n",
              "      <th>DEP_TIME_BLK</th>\n",
              "      <th>ARR_TIME</th>\n",
              "      <th>ARR_DEL15</th>\n",
              "      <th>CANCELLED</th>\n",
              "      <th>DIVERTED</th>\n",
              "      <th>DISTANCE</th>\n",
              "      <th>Unnamed: 21</th>\n",
              "    </tr>\n",
              "  </thead>\n",
              "  <tbody>\n",
              "    <tr>\n",
              "      <th>0</th>\n",
              "      <td>1</td>\n",
              "      <td>3</td>\n",
              "      <td>EV</td>\n",
              "      <td>20366</td>\n",
              "      <td>EV</td>\n",
              "      <td>N48901</td>\n",
              "      <td>4397</td>\n",
              "      <td>13930</td>\n",
              "      <td>1393007</td>\n",
              "      <td>ORD</td>\n",
              "      <td>11977</td>\n",
              "      <td>1197705</td>\n",
              "      <td>GRB</td>\n",
              "      <td>1003.0</td>\n",
              "      <td>0.0</td>\n",
              "      <td>1000-1059</td>\n",
              "      <td>1117.0</td>\n",
              "      <td>0.0</td>\n",
              "      <td>0.0</td>\n",
              "      <td>0.0</td>\n",
              "      <td>174.0</td>\n",
              "      <td>NaN</td>\n",
              "    </tr>\n",
              "    <tr>\n",
              "      <th>1</th>\n",
              "      <td>1</td>\n",
              "      <td>3</td>\n",
              "      <td>EV</td>\n",
              "      <td>20366</td>\n",
              "      <td>EV</td>\n",
              "      <td>N16976</td>\n",
              "      <td>4401</td>\n",
              "      <td>15370</td>\n",
              "      <td>1537002</td>\n",
              "      <td>TUL</td>\n",
              "      <td>13930</td>\n",
              "      <td>1393007</td>\n",
              "      <td>ORD</td>\n",
              "      <td>1027.0</td>\n",
              "      <td>0.0</td>\n",
              "      <td>1000-1059</td>\n",
              "      <td>1216.0</td>\n",
              "      <td>0.0</td>\n",
              "      <td>0.0</td>\n",
              "      <td>0.0</td>\n",
              "      <td>585.0</td>\n",
              "      <td>NaN</td>\n",
              "    </tr>\n",
              "    <tr>\n",
              "      <th>2</th>\n",
              "      <td>1</td>\n",
              "      <td>3</td>\n",
              "      <td>EV</td>\n",
              "      <td>20366</td>\n",
              "      <td>EV</td>\n",
              "      <td>N12167</td>\n",
              "      <td>4404</td>\n",
              "      <td>11618</td>\n",
              "      <td>1161802</td>\n",
              "      <td>EWR</td>\n",
              "      <td>15412</td>\n",
              "      <td>1541205</td>\n",
              "      <td>TYS</td>\n",
              "      <td>1848.0</td>\n",
              "      <td>0.0</td>\n",
              "      <td>1800-1859</td>\n",
              "      <td>2120.0</td>\n",
              "      <td>0.0</td>\n",
              "      <td>0.0</td>\n",
              "      <td>0.0</td>\n",
              "      <td>631.0</td>\n",
              "      <td>NaN</td>\n",
              "    </tr>\n",
              "    <tr>\n",
              "      <th>3</th>\n",
              "      <td>1</td>\n",
              "      <td>3</td>\n",
              "      <td>EV</td>\n",
              "      <td>20366</td>\n",
              "      <td>EV</td>\n",
              "      <td>N14902</td>\n",
              "      <td>4405</td>\n",
              "      <td>10781</td>\n",
              "      <td>1078105</td>\n",
              "      <td>BTR</td>\n",
              "      <td>12266</td>\n",
              "      <td>1226603</td>\n",
              "      <td>IAH</td>\n",
              "      <td>1846.0</td>\n",
              "      <td>0.0</td>\n",
              "      <td>1800-1859</td>\n",
              "      <td>2004.0</td>\n",
              "      <td>0.0</td>\n",
              "      <td>0.0</td>\n",
              "      <td>0.0</td>\n",
              "      <td>253.0</td>\n",
              "      <td>NaN</td>\n",
              "    </tr>\n",
              "    <tr>\n",
              "      <th>4</th>\n",
              "      <td>1</td>\n",
              "      <td>3</td>\n",
              "      <td>EV</td>\n",
              "      <td>20366</td>\n",
              "      <td>EV</td>\n",
              "      <td>N606UX</td>\n",
              "      <td>4407</td>\n",
              "      <td>14524</td>\n",
              "      <td>1452401</td>\n",
              "      <td>RIC</td>\n",
              "      <td>12266</td>\n",
              "      <td>1226603</td>\n",
              "      <td>IAH</td>\n",
              "      <td>1038.0</td>\n",
              "      <td>0.0</td>\n",
              "      <td>1000-1059</td>\n",
              "      <td>1330.0</td>\n",
              "      <td>0.0</td>\n",
              "      <td>0.0</td>\n",
              "      <td>0.0</td>\n",
              "      <td>1157.0</td>\n",
              "      <td>NaN</td>\n",
              "    </tr>\n",
              "    <tr>\n",
              "      <th>...</th>\n",
              "      <td>...</td>\n",
              "      <td>...</td>\n",
              "      <td>...</td>\n",
              "      <td>...</td>\n",
              "      <td>...</td>\n",
              "      <td>...</td>\n",
              "      <td>...</td>\n",
              "      <td>...</td>\n",
              "      <td>...</td>\n",
              "      <td>...</td>\n",
              "      <td>...</td>\n",
              "      <td>...</td>\n",
              "      <td>...</td>\n",
              "      <td>...</td>\n",
              "      <td>...</td>\n",
              "      <td>...</td>\n",
              "      <td>...</td>\n",
              "      <td>...</td>\n",
              "      <td>...</td>\n",
              "      <td>...</td>\n",
              "      <td>...</td>\n",
              "      <td>...</td>\n",
              "    </tr>\n",
              "    <tr>\n",
              "      <th>607341</th>\n",
              "      <td>31</td>\n",
              "      <td>5</td>\n",
              "      <td>9E</td>\n",
              "      <td>20363</td>\n",
              "      <td>9E</td>\n",
              "      <td>N331CA</td>\n",
              "      <td>4812</td>\n",
              "      <td>15412</td>\n",
              "      <td>1541205</td>\n",
              "      <td>TYS</td>\n",
              "      <td>11433</td>\n",
              "      <td>1143302</td>\n",
              "      <td>DTW</td>\n",
              "      <td>1002.0</td>\n",
              "      <td>1.0</td>\n",
              "      <td>0700-0759</td>\n",
              "      <td>1128.0</td>\n",
              "      <td>1.0</td>\n",
              "      <td>0.0</td>\n",
              "      <td>0.0</td>\n",
              "      <td>443.0</td>\n",
              "      <td>NaN</td>\n",
              "    </tr>\n",
              "    <tr>\n",
              "      <th>607342</th>\n",
              "      <td>31</td>\n",
              "      <td>5</td>\n",
              "      <td>9E</td>\n",
              "      <td>20363</td>\n",
              "      <td>9E</td>\n",
              "      <td>N295PQ</td>\n",
              "      <td>4813</td>\n",
              "      <td>11433</td>\n",
              "      <td>1143302</td>\n",
              "      <td>DTW</td>\n",
              "      <td>12478</td>\n",
              "      <td>1247805</td>\n",
              "      <td>JFK</td>\n",
              "      <td>1747.0</td>\n",
              "      <td>0.0</td>\n",
              "      <td>1700-1759</td>\n",
              "      <td>1933.0</td>\n",
              "      <td>0.0</td>\n",
              "      <td>0.0</td>\n",
              "      <td>0.0</td>\n",
              "      <td>509.0</td>\n",
              "      <td>NaN</td>\n",
              "    </tr>\n",
              "    <tr>\n",
              "      <th>607343</th>\n",
              "      <td>31</td>\n",
              "      <td>5</td>\n",
              "      <td>9E</td>\n",
              "      <td>20363</td>\n",
              "      <td>9E</td>\n",
              "      <td>N294PQ</td>\n",
              "      <td>4814</td>\n",
              "      <td>11996</td>\n",
              "      <td>1199603</td>\n",
              "      <td>GSP</td>\n",
              "      <td>12953</td>\n",
              "      <td>1295304</td>\n",
              "      <td>LGA</td>\n",
              "      <td>554.0</td>\n",
              "      <td>0.0</td>\n",
              "      <td>0600-0659</td>\n",
              "      <td>752.0</td>\n",
              "      <td>0.0</td>\n",
              "      <td>0.0</td>\n",
              "      <td>0.0</td>\n",
              "      <td>610.0</td>\n",
              "      <td>NaN</td>\n",
              "    </tr>\n",
              "    <tr>\n",
              "      <th>607344</th>\n",
              "      <td>31</td>\n",
              "      <td>5</td>\n",
              "      <td>9E</td>\n",
              "      <td>20363</td>\n",
              "      <td>9E</td>\n",
              "      <td>N228PQ</td>\n",
              "      <td>4815</td>\n",
              "      <td>10397</td>\n",
              "      <td>1039707</td>\n",
              "      <td>ATL</td>\n",
              "      <td>15919</td>\n",
              "      <td>1591904</td>\n",
              "      <td>XNA</td>\n",
              "      <td>1714.0</td>\n",
              "      <td>0.0</td>\n",
              "      <td>1700-1759</td>\n",
              "      <td>1811.0</td>\n",
              "      <td>0.0</td>\n",
              "      <td>0.0</td>\n",
              "      <td>0.0</td>\n",
              "      <td>589.0</td>\n",
              "      <td>NaN</td>\n",
              "    </tr>\n",
              "    <tr>\n",
              "      <th>607345</th>\n",
              "      <td>31</td>\n",
              "      <td>5</td>\n",
              "      <td>9E</td>\n",
              "      <td>20363</td>\n",
              "      <td>9E</td>\n",
              "      <td>N228PQ</td>\n",
              "      <td>4815</td>\n",
              "      <td>15919</td>\n",
              "      <td>1591904</td>\n",
              "      <td>XNA</td>\n",
              "      <td>10397</td>\n",
              "      <td>1039707</td>\n",
              "      <td>ATL</td>\n",
              "      <td>1841.0</td>\n",
              "      <td>0.0</td>\n",
              "      <td>1800-1859</td>\n",
              "      <td>2128.0</td>\n",
              "      <td>0.0</td>\n",
              "      <td>0.0</td>\n",
              "      <td>0.0</td>\n",
              "      <td>589.0</td>\n",
              "      <td>NaN</td>\n",
              "    </tr>\n",
              "  </tbody>\n",
              "</table>\n",
              "<p>607346 rows × 22 columns</p>\n",
              "</div>"
            ],
            "text/plain": [
              "        DAY_OF_MONTH  DAY_OF_WEEK  ... DISTANCE  Unnamed: 21\n",
              "0                  1            3  ...    174.0          NaN\n",
              "1                  1            3  ...    585.0          NaN\n",
              "2                  1            3  ...    631.0          NaN\n",
              "3                  1            3  ...    253.0          NaN\n",
              "4                  1            3  ...   1157.0          NaN\n",
              "...              ...          ...  ...      ...          ...\n",
              "607341            31            5  ...    443.0          NaN\n",
              "607342            31            5  ...    509.0          NaN\n",
              "607343            31            5  ...    610.0          NaN\n",
              "607344            31            5  ...    589.0          NaN\n",
              "607345            31            5  ...    589.0          NaN\n",
              "\n",
              "[607346 rows x 22 columns]"
            ]
          },
          "metadata": {
            "tags": []
          },
          "execution_count": 73
        }
      ]
    },
    {
      "cell_type": "markdown",
      "metadata": {
        "id": "wQeTRO4o0CQu"
      },
      "source": [
        "As always, the first thing we need to do is get an idea of what data looks like!\n",
        "We can call three functions here:\n",
        "- `head()`\n",
        "- `describe()`\n",
        "- `info()`"
      ]
    },
    {
      "cell_type": "code",
      "metadata": {
        "id": "Nil_q25V0CQv"
      },
      "source": [
        "df"
      ],
      "execution_count": null,
      "outputs": []
    },
    {
      "cell_type": "code",
      "metadata": {
        "id": "TphDWgQ10CQy",
        "colab": {
          "base_uri": "https://localhost:8080/",
          "height": 241
        },
        "outputId": "1f06e447-2b0e-4581-bfc7-470a70c285c2"
      },
      "source": [
        "df.head()"
      ],
      "execution_count": null,
      "outputs": [
        {
          "output_type": "execute_result",
          "data": {
            "text/html": [
              "<div>\n",
              "<style scoped>\n",
              "    .dataframe tbody tr th:only-of-type {\n",
              "        vertical-align: middle;\n",
              "    }\n",
              "\n",
              "    .dataframe tbody tr th {\n",
              "        vertical-align: top;\n",
              "    }\n",
              "\n",
              "    .dataframe thead th {\n",
              "        text-align: right;\n",
              "    }\n",
              "</style>\n",
              "<table border=\"1\" class=\"dataframe\">\n",
              "  <thead>\n",
              "    <tr style=\"text-align: right;\">\n",
              "      <th></th>\n",
              "      <th>DAY_OF_MONTH</th>\n",
              "      <th>DAY_OF_WEEK</th>\n",
              "      <th>OP_UNIQUE_CARRIER</th>\n",
              "      <th>OP_CARRIER_AIRLINE_ID</th>\n",
              "      <th>OP_CARRIER</th>\n",
              "      <th>TAIL_NUM</th>\n",
              "      <th>OP_CARRIER_FL_NUM</th>\n",
              "      <th>ORIGIN_AIRPORT_ID</th>\n",
              "      <th>ORIGIN_AIRPORT_SEQ_ID</th>\n",
              "      <th>ORIGIN</th>\n",
              "      <th>DEST_AIRPORT_ID</th>\n",
              "      <th>DEST_AIRPORT_SEQ_ID</th>\n",
              "      <th>DEST</th>\n",
              "      <th>DEP_TIME</th>\n",
              "      <th>DEP_DEL15</th>\n",
              "      <th>DEP_TIME_BLK</th>\n",
              "      <th>ARR_TIME</th>\n",
              "      <th>ARR_DEL15</th>\n",
              "      <th>CANCELLED</th>\n",
              "      <th>DIVERTED</th>\n",
              "      <th>DISTANCE</th>\n",
              "      <th>Unnamed: 21</th>\n",
              "    </tr>\n",
              "  </thead>\n",
              "  <tbody>\n",
              "    <tr>\n",
              "      <th>0</th>\n",
              "      <td>1</td>\n",
              "      <td>3</td>\n",
              "      <td>EV</td>\n",
              "      <td>20366</td>\n",
              "      <td>EV</td>\n",
              "      <td>N48901</td>\n",
              "      <td>4397</td>\n",
              "      <td>13930</td>\n",
              "      <td>1393007</td>\n",
              "      <td>ORD</td>\n",
              "      <td>11977</td>\n",
              "      <td>1197705</td>\n",
              "      <td>GRB</td>\n",
              "      <td>1003.0</td>\n",
              "      <td>0.0</td>\n",
              "      <td>1000-1059</td>\n",
              "      <td>1117.0</td>\n",
              "      <td>0.0</td>\n",
              "      <td>0.0</td>\n",
              "      <td>0.0</td>\n",
              "      <td>174.0</td>\n",
              "      <td>NaN</td>\n",
              "    </tr>\n",
              "    <tr>\n",
              "      <th>1</th>\n",
              "      <td>1</td>\n",
              "      <td>3</td>\n",
              "      <td>EV</td>\n",
              "      <td>20366</td>\n",
              "      <td>EV</td>\n",
              "      <td>N16976</td>\n",
              "      <td>4401</td>\n",
              "      <td>15370</td>\n",
              "      <td>1537002</td>\n",
              "      <td>TUL</td>\n",
              "      <td>13930</td>\n",
              "      <td>1393007</td>\n",
              "      <td>ORD</td>\n",
              "      <td>1027.0</td>\n",
              "      <td>0.0</td>\n",
              "      <td>1000-1059</td>\n",
              "      <td>1216.0</td>\n",
              "      <td>0.0</td>\n",
              "      <td>0.0</td>\n",
              "      <td>0.0</td>\n",
              "      <td>585.0</td>\n",
              "      <td>NaN</td>\n",
              "    </tr>\n",
              "    <tr>\n",
              "      <th>2</th>\n",
              "      <td>1</td>\n",
              "      <td>3</td>\n",
              "      <td>EV</td>\n",
              "      <td>20366</td>\n",
              "      <td>EV</td>\n",
              "      <td>N12167</td>\n",
              "      <td>4404</td>\n",
              "      <td>11618</td>\n",
              "      <td>1161802</td>\n",
              "      <td>EWR</td>\n",
              "      <td>15412</td>\n",
              "      <td>1541205</td>\n",
              "      <td>TYS</td>\n",
              "      <td>1848.0</td>\n",
              "      <td>0.0</td>\n",
              "      <td>1800-1859</td>\n",
              "      <td>2120.0</td>\n",
              "      <td>0.0</td>\n",
              "      <td>0.0</td>\n",
              "      <td>0.0</td>\n",
              "      <td>631.0</td>\n",
              "      <td>NaN</td>\n",
              "    </tr>\n",
              "    <tr>\n",
              "      <th>3</th>\n",
              "      <td>1</td>\n",
              "      <td>3</td>\n",
              "      <td>EV</td>\n",
              "      <td>20366</td>\n",
              "      <td>EV</td>\n",
              "      <td>N14902</td>\n",
              "      <td>4405</td>\n",
              "      <td>10781</td>\n",
              "      <td>1078105</td>\n",
              "      <td>BTR</td>\n",
              "      <td>12266</td>\n",
              "      <td>1226603</td>\n",
              "      <td>IAH</td>\n",
              "      <td>1846.0</td>\n",
              "      <td>0.0</td>\n",
              "      <td>1800-1859</td>\n",
              "      <td>2004.0</td>\n",
              "      <td>0.0</td>\n",
              "      <td>0.0</td>\n",
              "      <td>0.0</td>\n",
              "      <td>253.0</td>\n",
              "      <td>NaN</td>\n",
              "    </tr>\n",
              "    <tr>\n",
              "      <th>4</th>\n",
              "      <td>1</td>\n",
              "      <td>3</td>\n",
              "      <td>EV</td>\n",
              "      <td>20366</td>\n",
              "      <td>EV</td>\n",
              "      <td>N606UX</td>\n",
              "      <td>4407</td>\n",
              "      <td>14524</td>\n",
              "      <td>1452401</td>\n",
              "      <td>RIC</td>\n",
              "      <td>12266</td>\n",
              "      <td>1226603</td>\n",
              "      <td>IAH</td>\n",
              "      <td>1038.0</td>\n",
              "      <td>0.0</td>\n",
              "      <td>1000-1059</td>\n",
              "      <td>1330.0</td>\n",
              "      <td>0.0</td>\n",
              "      <td>0.0</td>\n",
              "      <td>0.0</td>\n",
              "      <td>1157.0</td>\n",
              "      <td>NaN</td>\n",
              "    </tr>\n",
              "  </tbody>\n",
              "</table>\n",
              "</div>"
            ],
            "text/plain": [
              "   DAY_OF_MONTH  DAY_OF_WEEK OP_UNIQUE_CARRIER  ...  DIVERTED DISTANCE Unnamed: 21\n",
              "0             1            3                EV  ...       0.0    174.0         NaN\n",
              "1             1            3                EV  ...       0.0    585.0         NaN\n",
              "2             1            3                EV  ...       0.0    631.0         NaN\n",
              "3             1            3                EV  ...       0.0    253.0         NaN\n",
              "4             1            3                EV  ...       0.0   1157.0         NaN\n",
              "\n",
              "[5 rows x 22 columns]"
            ]
          },
          "metadata": {
            "tags": []
          },
          "execution_count": 74
        }
      ]
    },
    {
      "cell_type": "code",
      "metadata": {
        "id": "hpQfu_U50CQz",
        "colab": {
          "base_uri": "https://localhost:8080/",
          "height": 334
        },
        "outputId": "fd050586-1ed4-4c25-c612-eb321ff7e1e5"
      },
      "source": [
        "df.describe()"
      ],
      "execution_count": null,
      "outputs": [
        {
          "output_type": "execute_result",
          "data": {
            "text/html": [
              "<div>\n",
              "<style scoped>\n",
              "    .dataframe tbody tr th:only-of-type {\n",
              "        vertical-align: middle;\n",
              "    }\n",
              "\n",
              "    .dataframe tbody tr th {\n",
              "        vertical-align: top;\n",
              "    }\n",
              "\n",
              "    .dataframe thead th {\n",
              "        text-align: right;\n",
              "    }\n",
              "</style>\n",
              "<table border=\"1\" class=\"dataframe\">\n",
              "  <thead>\n",
              "    <tr style=\"text-align: right;\">\n",
              "      <th></th>\n",
              "      <th>DAY_OF_MONTH</th>\n",
              "      <th>DAY_OF_WEEK</th>\n",
              "      <th>OP_CARRIER_AIRLINE_ID</th>\n",
              "      <th>OP_CARRIER_FL_NUM</th>\n",
              "      <th>ORIGIN_AIRPORT_ID</th>\n",
              "      <th>ORIGIN_AIRPORT_SEQ_ID</th>\n",
              "      <th>DEST_AIRPORT_ID</th>\n",
              "      <th>DEST_AIRPORT_SEQ_ID</th>\n",
              "      <th>DEP_TIME</th>\n",
              "      <th>DEP_DEL15</th>\n",
              "      <th>ARR_TIME</th>\n",
              "      <th>ARR_DEL15</th>\n",
              "      <th>CANCELLED</th>\n",
              "      <th>DIVERTED</th>\n",
              "      <th>DISTANCE</th>\n",
              "      <th>Unnamed: 21</th>\n",
              "    </tr>\n",
              "  </thead>\n",
              "  <tbody>\n",
              "    <tr>\n",
              "      <th>count</th>\n",
              "      <td>607346.000000</td>\n",
              "      <td>607346.000000</td>\n",
              "      <td>607346.000000</td>\n",
              "      <td>607346.000000</td>\n",
              "      <td>607346.000000</td>\n",
              "      <td>6.073460e+05</td>\n",
              "      <td>607346.000000</td>\n",
              "      <td>6.073460e+05</td>\n",
              "      <td>600682.000000</td>\n",
              "      <td>600647.000000</td>\n",
              "      <td>600271.000000</td>\n",
              "      <td>599268.000000</td>\n",
              "      <td>607346.000000</td>\n",
              "      <td>607346.000000</td>\n",
              "      <td>607346.000000</td>\n",
              "      <td>0.0</td>\n",
              "    </tr>\n",
              "    <tr>\n",
              "      <th>mean</th>\n",
              "      <td>16.014354</td>\n",
              "      <td>3.955735</td>\n",
              "      <td>19994.137492</td>\n",
              "      <td>2622.365261</td>\n",
              "      <td>12657.389167</td>\n",
              "      <td>1.265743e+06</td>\n",
              "      <td>12657.196320</td>\n",
              "      <td>1.265724e+06</td>\n",
              "      <td>1331.512559</td>\n",
              "      <td>0.136326</td>\n",
              "      <td>1477.968924</td>\n",
              "      <td>0.137309</td>\n",
              "      <td>0.011407</td>\n",
              "      <td>0.001893</td>\n",
              "      <td>798.022341</td>\n",
              "      <td>NaN</td>\n",
              "    </tr>\n",
              "    <tr>\n",
              "      <th>std</th>\n",
              "      <td>8.990719</td>\n",
              "      <td>1.910205</td>\n",
              "      <td>375.754232</td>\n",
              "      <td>1822.545302</td>\n",
              "      <td>1524.407203</td>\n",
              "      <td>1.524405e+05</td>\n",
              "      <td>1524.279269</td>\n",
              "      <td>1.524277e+05</td>\n",
              "      <td>497.095168</td>\n",
              "      <td>0.343135</td>\n",
              "      <td>525.543294</td>\n",
              "      <td>0.344174</td>\n",
              "      <td>0.106193</td>\n",
              "      <td>0.043473</td>\n",
              "      <td>587.282639</td>\n",
              "      <td>NaN</td>\n",
              "    </tr>\n",
              "    <tr>\n",
              "      <th>min</th>\n",
              "      <td>1.000000</td>\n",
              "      <td>1.000000</td>\n",
              "      <td>19393.000000</td>\n",
              "      <td>1.000000</td>\n",
              "      <td>10135.000000</td>\n",
              "      <td>1.013506e+06</td>\n",
              "      <td>10135.000000</td>\n",
              "      <td>1.013506e+06</td>\n",
              "      <td>1.000000</td>\n",
              "      <td>0.000000</td>\n",
              "      <td>1.000000</td>\n",
              "      <td>0.000000</td>\n",
              "      <td>0.000000</td>\n",
              "      <td>0.000000</td>\n",
              "      <td>31.000000</td>\n",
              "      <td>NaN</td>\n",
              "    </tr>\n",
              "    <tr>\n",
              "      <th>25%</th>\n",
              "      <td>8.000000</td>\n",
              "      <td>2.000000</td>\n",
              "      <td>19790.000000</td>\n",
              "      <td>1070.000000</td>\n",
              "      <td>11292.000000</td>\n",
              "      <td>1.129202e+06</td>\n",
              "      <td>11292.000000</td>\n",
              "      <td>1.129202e+06</td>\n",
              "      <td>919.000000</td>\n",
              "      <td>0.000000</td>\n",
              "      <td>1058.000000</td>\n",
              "      <td>0.000000</td>\n",
              "      <td>0.000000</td>\n",
              "      <td>0.000000</td>\n",
              "      <td>369.000000</td>\n",
              "      <td>NaN</td>\n",
              "    </tr>\n",
              "    <tr>\n",
              "      <th>50%</th>\n",
              "      <td>16.000000</td>\n",
              "      <td>4.000000</td>\n",
              "      <td>19977.000000</td>\n",
              "      <td>2177.000000</td>\n",
              "      <td>12889.000000</td>\n",
              "      <td>1.288903e+06</td>\n",
              "      <td>12889.000000</td>\n",
              "      <td>1.288903e+06</td>\n",
              "      <td>1326.000000</td>\n",
              "      <td>0.000000</td>\n",
              "      <td>1513.000000</td>\n",
              "      <td>0.000000</td>\n",
              "      <td>0.000000</td>\n",
              "      <td>0.000000</td>\n",
              "      <td>641.000000</td>\n",
              "      <td>NaN</td>\n",
              "    </tr>\n",
              "    <tr>\n",
              "      <th>75%</th>\n",
              "      <td>24.000000</td>\n",
              "      <td>5.000000</td>\n",
              "      <td>20378.000000</td>\n",
              "      <td>4108.000000</td>\n",
              "      <td>14027.000000</td>\n",
              "      <td>1.402702e+06</td>\n",
              "      <td>14027.000000</td>\n",
              "      <td>1.402702e+06</td>\n",
              "      <td>1739.000000</td>\n",
              "      <td>0.000000</td>\n",
              "      <td>1918.000000</td>\n",
              "      <td>0.000000</td>\n",
              "      <td>0.000000</td>\n",
              "      <td>0.000000</td>\n",
              "      <td>1037.000000</td>\n",
              "      <td>NaN</td>\n",
              "    </tr>\n",
              "    <tr>\n",
              "      <th>max</th>\n",
              "      <td>31.000000</td>\n",
              "      <td>7.000000</td>\n",
              "      <td>20452.000000</td>\n",
              "      <td>6860.000000</td>\n",
              "      <td>16869.000000</td>\n",
              "      <td>1.686901e+06</td>\n",
              "      <td>16869.000000</td>\n",
              "      <td>1.686901e+06</td>\n",
              "      <td>2400.000000</td>\n",
              "      <td>1.000000</td>\n",
              "      <td>2400.000000</td>\n",
              "      <td>1.000000</td>\n",
              "      <td>1.000000</td>\n",
              "      <td>1.000000</td>\n",
              "      <td>5095.000000</td>\n",
              "      <td>NaN</td>\n",
              "    </tr>\n",
              "  </tbody>\n",
              "</table>\n",
              "</div>"
            ],
            "text/plain": [
              "        DAY_OF_MONTH    DAY_OF_WEEK  ...       DISTANCE  Unnamed: 21\n",
              "count  607346.000000  607346.000000  ...  607346.000000          0.0\n",
              "mean       16.014354       3.955735  ...     798.022341          NaN\n",
              "std         8.990719       1.910205  ...     587.282639          NaN\n",
              "min         1.000000       1.000000  ...      31.000000          NaN\n",
              "25%         8.000000       2.000000  ...     369.000000          NaN\n",
              "50%        16.000000       4.000000  ...     641.000000          NaN\n",
              "75%        24.000000       5.000000  ...    1037.000000          NaN\n",
              "max        31.000000       7.000000  ...    5095.000000          NaN\n",
              "\n",
              "[8 rows x 16 columns]"
            ]
          },
          "metadata": {
            "tags": []
          },
          "execution_count": 75
        }
      ]
    },
    {
      "cell_type": "code",
      "metadata": {
        "id": "4u2bwo9g0CQ0",
        "colab": {
          "base_uri": "https://localhost:8080/",
          "height": 510
        },
        "outputId": "7d934825-d595-466d-9778-c9dfc6b743a3"
      },
      "source": [
        "df.info()"
      ],
      "execution_count": null,
      "outputs": [
        {
          "output_type": "stream",
          "text": [
            "<class 'pandas.core.frame.DataFrame'>\n",
            "RangeIndex: 607346 entries, 0 to 607345\n",
            "Data columns (total 22 columns):\n",
            " #   Column                 Non-Null Count   Dtype  \n",
            "---  ------                 --------------   -----  \n",
            " 0   DAY_OF_MONTH           607346 non-null  int64  \n",
            " 1   DAY_OF_WEEK            607346 non-null  int64  \n",
            " 2   OP_UNIQUE_CARRIER      607346 non-null  object \n",
            " 3   OP_CARRIER_AIRLINE_ID  607346 non-null  int64  \n",
            " 4   OP_CARRIER             607346 non-null  object \n",
            " 5   TAIL_NUM               606648 non-null  object \n",
            " 6   OP_CARRIER_FL_NUM      607346 non-null  int64  \n",
            " 7   ORIGIN_AIRPORT_ID      607346 non-null  int64  \n",
            " 8   ORIGIN_AIRPORT_SEQ_ID  607346 non-null  int64  \n",
            " 9   ORIGIN                 607346 non-null  object \n",
            " 10  DEST_AIRPORT_ID        607346 non-null  int64  \n",
            " 11  DEST_AIRPORT_SEQ_ID    607346 non-null  int64  \n",
            " 12  DEST                   607346 non-null  object \n",
            " 13  DEP_TIME               600682 non-null  float64\n",
            " 14  DEP_DEL15              600647 non-null  float64\n",
            " 15  DEP_TIME_BLK           607346 non-null  object \n",
            " 16  ARR_TIME               600271 non-null  float64\n",
            " 17  ARR_DEL15              599268 non-null  float64\n",
            " 18  CANCELLED              607346 non-null  float64\n",
            " 19  DIVERTED               607346 non-null  float64\n",
            " 20  DISTANCE               607346 non-null  float64\n",
            " 21  Unnamed: 21            0 non-null       float64\n",
            "dtypes: float64(8), int64(8), object(6)\n",
            "memory usage: 101.9+ MB\n"
          ],
          "name": "stdout"
        }
      ]
    },
    {
      "cell_type": "markdown",
      "metadata": {
        "id": "7EyQRDfN0CQ2"
      },
      "source": [
        "### Columns to use:\n",
        "- Day_of_week: Day of Week starting from Monday\n",
        "  - Ex: Monday = 1, Sunday = 7\n",
        "- Op_unique_carrier: Unique Carrier Code (DL, WN, AA, 9E, OO, etc.)\n",
        "- Origin: Origin Airport (JFK, ATL, SFO, LAX, etc.)\n",
        "- Dest: Destination Airport (JFK, ATL, SFO, LAX, etc.)\n",
        "- Dep_time: Actual Departure Time (local time: hhmm)\n",
        "  - Ex: 1848 is 18:48 in local time\n",
        "- Dep_del15: Departure Delay Indicator, 15 Minutes or More (1=Yes, 0=No)\n",
        "- Arr_time: Actual Arrival Time (local time: hhmm)\n",
        "- Arr_del15: Arrival Delay Indicator, 15 Minutes or More (1=Yes, 0=No)\n",
        "- Cancelled: Cancelled Flight Indicator (1=Yes, 0=No)\n",
        "- Diverted: Diverted Flight Indicator (1=Yes, 0=No)\n",
        "- Distance: Distance between airports (miles)"
      ]
    },
    {
      "cell_type": "markdown",
      "metadata": {
        "id": "H2XBO3KI0CQ2"
      },
      "source": [
        "We are going to select the columns to use using ```[]```."
      ]
    },
    {
      "cell_type": "code",
      "metadata": {
        "id": "WJsEhOU-0CQ3",
        "colab": {
          "base_uri": "https://localhost:8080/",
          "height": 419
        },
        "outputId": "8960af90-3b76-4f5f-bf6a-50e6709c79db"
      },
      "source": [
        "flight = df[[\"DAY_OF_WEEK\", \"OP_UNIQUE_CARRIER\", \"ORIGIN\", \"DEST\", \"DEP_TIME\", \"DEP_DEL15\", \"ARR_TIME\", \"ARR_DEL15\", \"CANCELLED\", \"DIVERTED\", \"DISTANCE\"]]\n",
        "flight"
      ],
      "execution_count": null,
      "outputs": [
        {
          "output_type": "execute_result",
          "data": {
            "text/html": [
              "<div>\n",
              "<style scoped>\n",
              "    .dataframe tbody tr th:only-of-type {\n",
              "        vertical-align: middle;\n",
              "    }\n",
              "\n",
              "    .dataframe tbody tr th {\n",
              "        vertical-align: top;\n",
              "    }\n",
              "\n",
              "    .dataframe thead th {\n",
              "        text-align: right;\n",
              "    }\n",
              "</style>\n",
              "<table border=\"1\" class=\"dataframe\">\n",
              "  <thead>\n",
              "    <tr style=\"text-align: right;\">\n",
              "      <th></th>\n",
              "      <th>DAY_OF_WEEK</th>\n",
              "      <th>OP_UNIQUE_CARRIER</th>\n",
              "      <th>ORIGIN</th>\n",
              "      <th>DEST</th>\n",
              "      <th>DEP_TIME</th>\n",
              "      <th>DEP_DEL15</th>\n",
              "      <th>ARR_TIME</th>\n",
              "      <th>ARR_DEL15</th>\n",
              "      <th>CANCELLED</th>\n",
              "      <th>DIVERTED</th>\n",
              "      <th>DISTANCE</th>\n",
              "    </tr>\n",
              "  </thead>\n",
              "  <tbody>\n",
              "    <tr>\n",
              "      <th>0</th>\n",
              "      <td>3</td>\n",
              "      <td>EV</td>\n",
              "      <td>ORD</td>\n",
              "      <td>GRB</td>\n",
              "      <td>1003.0</td>\n",
              "      <td>0.0</td>\n",
              "      <td>1117.0</td>\n",
              "      <td>0.0</td>\n",
              "      <td>0.0</td>\n",
              "      <td>0.0</td>\n",
              "      <td>174.0</td>\n",
              "    </tr>\n",
              "    <tr>\n",
              "      <th>1</th>\n",
              "      <td>3</td>\n",
              "      <td>EV</td>\n",
              "      <td>TUL</td>\n",
              "      <td>ORD</td>\n",
              "      <td>1027.0</td>\n",
              "      <td>0.0</td>\n",
              "      <td>1216.0</td>\n",
              "      <td>0.0</td>\n",
              "      <td>0.0</td>\n",
              "      <td>0.0</td>\n",
              "      <td>585.0</td>\n",
              "    </tr>\n",
              "    <tr>\n",
              "      <th>2</th>\n",
              "      <td>3</td>\n",
              "      <td>EV</td>\n",
              "      <td>EWR</td>\n",
              "      <td>TYS</td>\n",
              "      <td>1848.0</td>\n",
              "      <td>0.0</td>\n",
              "      <td>2120.0</td>\n",
              "      <td>0.0</td>\n",
              "      <td>0.0</td>\n",
              "      <td>0.0</td>\n",
              "      <td>631.0</td>\n",
              "    </tr>\n",
              "    <tr>\n",
              "      <th>3</th>\n",
              "      <td>3</td>\n",
              "      <td>EV</td>\n",
              "      <td>BTR</td>\n",
              "      <td>IAH</td>\n",
              "      <td>1846.0</td>\n",
              "      <td>0.0</td>\n",
              "      <td>2004.0</td>\n",
              "      <td>0.0</td>\n",
              "      <td>0.0</td>\n",
              "      <td>0.0</td>\n",
              "      <td>253.0</td>\n",
              "    </tr>\n",
              "    <tr>\n",
              "      <th>4</th>\n",
              "      <td>3</td>\n",
              "      <td>EV</td>\n",
              "      <td>RIC</td>\n",
              "      <td>IAH</td>\n",
              "      <td>1038.0</td>\n",
              "      <td>0.0</td>\n",
              "      <td>1330.0</td>\n",
              "      <td>0.0</td>\n",
              "      <td>0.0</td>\n",
              "      <td>0.0</td>\n",
              "      <td>1157.0</td>\n",
              "    </tr>\n",
              "    <tr>\n",
              "      <th>...</th>\n",
              "      <td>...</td>\n",
              "      <td>...</td>\n",
              "      <td>...</td>\n",
              "      <td>...</td>\n",
              "      <td>...</td>\n",
              "      <td>...</td>\n",
              "      <td>...</td>\n",
              "      <td>...</td>\n",
              "      <td>...</td>\n",
              "      <td>...</td>\n",
              "      <td>...</td>\n",
              "    </tr>\n",
              "    <tr>\n",
              "      <th>607341</th>\n",
              "      <td>5</td>\n",
              "      <td>9E</td>\n",
              "      <td>TYS</td>\n",
              "      <td>DTW</td>\n",
              "      <td>1002.0</td>\n",
              "      <td>1.0</td>\n",
              "      <td>1128.0</td>\n",
              "      <td>1.0</td>\n",
              "      <td>0.0</td>\n",
              "      <td>0.0</td>\n",
              "      <td>443.0</td>\n",
              "    </tr>\n",
              "    <tr>\n",
              "      <th>607342</th>\n",
              "      <td>5</td>\n",
              "      <td>9E</td>\n",
              "      <td>DTW</td>\n",
              "      <td>JFK</td>\n",
              "      <td>1747.0</td>\n",
              "      <td>0.0</td>\n",
              "      <td>1933.0</td>\n",
              "      <td>0.0</td>\n",
              "      <td>0.0</td>\n",
              "      <td>0.0</td>\n",
              "      <td>509.0</td>\n",
              "    </tr>\n",
              "    <tr>\n",
              "      <th>607343</th>\n",
              "      <td>5</td>\n",
              "      <td>9E</td>\n",
              "      <td>GSP</td>\n",
              "      <td>LGA</td>\n",
              "      <td>554.0</td>\n",
              "      <td>0.0</td>\n",
              "      <td>752.0</td>\n",
              "      <td>0.0</td>\n",
              "      <td>0.0</td>\n",
              "      <td>0.0</td>\n",
              "      <td>610.0</td>\n",
              "    </tr>\n",
              "    <tr>\n",
              "      <th>607344</th>\n",
              "      <td>5</td>\n",
              "      <td>9E</td>\n",
              "      <td>ATL</td>\n",
              "      <td>XNA</td>\n",
              "      <td>1714.0</td>\n",
              "      <td>0.0</td>\n",
              "      <td>1811.0</td>\n",
              "      <td>0.0</td>\n",
              "      <td>0.0</td>\n",
              "      <td>0.0</td>\n",
              "      <td>589.0</td>\n",
              "    </tr>\n",
              "    <tr>\n",
              "      <th>607345</th>\n",
              "      <td>5</td>\n",
              "      <td>9E</td>\n",
              "      <td>XNA</td>\n",
              "      <td>ATL</td>\n",
              "      <td>1841.0</td>\n",
              "      <td>0.0</td>\n",
              "      <td>2128.0</td>\n",
              "      <td>0.0</td>\n",
              "      <td>0.0</td>\n",
              "      <td>0.0</td>\n",
              "      <td>589.0</td>\n",
              "    </tr>\n",
              "  </tbody>\n",
              "</table>\n",
              "<p>607346 rows × 11 columns</p>\n",
              "</div>"
            ],
            "text/plain": [
              "        DAY_OF_WEEK OP_UNIQUE_CARRIER ORIGIN  ... CANCELLED  DIVERTED  DISTANCE\n",
              "0                 3                EV    ORD  ...       0.0       0.0     174.0\n",
              "1                 3                EV    TUL  ...       0.0       0.0     585.0\n",
              "2                 3                EV    EWR  ...       0.0       0.0     631.0\n",
              "3                 3                EV    BTR  ...       0.0       0.0     253.0\n",
              "4                 3                EV    RIC  ...       0.0       0.0    1157.0\n",
              "...             ...               ...    ...  ...       ...       ...       ...\n",
              "607341            5                9E    TYS  ...       0.0       0.0     443.0\n",
              "607342            5                9E    DTW  ...       0.0       0.0     509.0\n",
              "607343            5                9E    GSP  ...       0.0       0.0     610.0\n",
              "607344            5                9E    ATL  ...       0.0       0.0     589.0\n",
              "607345            5                9E    XNA  ...       0.0       0.0     589.0\n",
              "\n",
              "[607346 rows x 11 columns]"
            ]
          },
          "metadata": {
            "tags": []
          },
          "execution_count": 77
        }
      ]
    },
    {
      "cell_type": "markdown",
      "metadata": {
        "id": "f3kHRbal0CQ4"
      },
      "source": [
        "### 6.0 - Now Try This\n",
        "\n",
        "Let's retrieve unique airline codes (```OP_UNIQUE_CARRIER```) from the dataframe."
      ]
    },
    {
      "cell_type": "code",
      "metadata": {
        "id": "q4m29u670CQ4"
      },
      "source": [
        "# Once your have verified your answer please uncomment the line below and run it, this will save your code \n",
        "#%%writefile -a {folder_location}/6.py\n",
        "# Please note that if you uncomment and run multiple times, the program will keep appending to the file.\n",
        "\n",
        "\n",
        "# INSERT CODE HERE"
      ],
      "execution_count": null,
      "outputs": []
    },
    {
      "cell_type": "markdown",
      "metadata": {
        "id": "MaQgw8X20CQ5"
      },
      "source": [
        "**Q: We know DL (Delta Air Lines), AA (American Airlines) and a few more major airlines. But, do we know all of the unique carrier codes?**\n",
        "\n",
        "**A: No, we don't! Let's add airline names from another dataset!**"
      ]
    },
    {
      "cell_type": "markdown",
      "metadata": {
        "id": "5yViNs4jEJ1R"
      },
      "source": [
        "### Join datasets\n",
        "- ```flight``` dataframe has ```OP_UNIQUE_CARRIER```, but it is missing airline names.\n",
        "- ```airline_names.xlsx``` has airline codes as well as the airline names we need.\n",
        "\n",
        "Let's join the ```flight``` dataframe with ```airline_names.xlsx``` to get all the airline names."
      ]
    },
    {
      "cell_type": "code",
      "metadata": {
        "id": "ieQhohRGP1mz",
        "colab": {
          "base_uri": "https://localhost:8080/",
          "height": 886
        },
        "outputId": "3f61e759-081f-4c40-dd8b-9c632b40837b"
      },
      "source": [
        "url = 'https://raw.githubusercontent.com/bitprj/DigitalHistory/master/Week6-Advanced-Data-Wrangling-using-Pandas/data/airline_names.xlsx'\n",
        "airline = pd.read_excel(url)\n",
        "airline"
      ],
      "execution_count": null,
      "outputs": [
        {
          "output_type": "execute_result",
          "data": {
            "text/html": [
              "<div>\n",
              "<style scoped>\n",
              "    .dataframe tbody tr th:only-of-type {\n",
              "        vertical-align: middle;\n",
              "    }\n",
              "\n",
              "    .dataframe tbody tr th {\n",
              "        vertical-align: top;\n",
              "    }\n",
              "\n",
              "    .dataframe thead th {\n",
              "        text-align: right;\n",
              "    }\n",
              "</style>\n",
              "<table border=\"1\" class=\"dataframe\">\n",
              "  <thead>\n",
              "    <tr style=\"text-align: right;\">\n",
              "      <th></th>\n",
              "      <th>carrier</th>\n",
              "      <th>carrier_name</th>\n",
              "    </tr>\n",
              "  </thead>\n",
              "  <tbody>\n",
              "    <tr>\n",
              "      <th>0</th>\n",
              "      <td>9E</td>\n",
              "      <td>Endeavor Air Inc.</td>\n",
              "    </tr>\n",
              "    <tr>\n",
              "      <th>1</th>\n",
              "      <td>AA</td>\n",
              "      <td>American Airlines Inc.</td>\n",
              "    </tr>\n",
              "    <tr>\n",
              "      <th>2</th>\n",
              "      <td>AQ</td>\n",
              "      <td>Aloha Airlines Inc.</td>\n",
              "    </tr>\n",
              "    <tr>\n",
              "      <th>3</th>\n",
              "      <td>AS</td>\n",
              "      <td>Alaska Airlines Inc.</td>\n",
              "    </tr>\n",
              "    <tr>\n",
              "      <th>4</th>\n",
              "      <td>B6</td>\n",
              "      <td>JetBlue Airways</td>\n",
              "    </tr>\n",
              "    <tr>\n",
              "      <th>5</th>\n",
              "      <td>CO</td>\n",
              "      <td>Continental Air Lines Inc.</td>\n",
              "    </tr>\n",
              "    <tr>\n",
              "      <th>6</th>\n",
              "      <td>DL</td>\n",
              "      <td>Delta Air Lines Inc.</td>\n",
              "    </tr>\n",
              "    <tr>\n",
              "      <th>7</th>\n",
              "      <td>EV</td>\n",
              "      <td>ExpressJet Airlines LLC</td>\n",
              "    </tr>\n",
              "    <tr>\n",
              "      <th>8</th>\n",
              "      <td>F9</td>\n",
              "      <td>Frontier Airlines Inc.</td>\n",
              "    </tr>\n",
              "    <tr>\n",
              "      <th>9</th>\n",
              "      <td>FL</td>\n",
              "      <td>AirTran Airways Corporation</td>\n",
              "    </tr>\n",
              "    <tr>\n",
              "      <th>10</th>\n",
              "      <td>G4</td>\n",
              "      <td>Allegiant Air</td>\n",
              "    </tr>\n",
              "    <tr>\n",
              "      <th>11</th>\n",
              "      <td>HA</td>\n",
              "      <td>Hawaiian Airlines Inc.</td>\n",
              "    </tr>\n",
              "    <tr>\n",
              "      <th>12</th>\n",
              "      <td>HP</td>\n",
              "      <td>America West Airlines Inc.</td>\n",
              "    </tr>\n",
              "    <tr>\n",
              "      <th>13</th>\n",
              "      <td>MQ</td>\n",
              "      <td>Envoy Air</td>\n",
              "    </tr>\n",
              "    <tr>\n",
              "      <th>14</th>\n",
              "      <td>NK</td>\n",
              "      <td>Spirit Air Lines</td>\n",
              "    </tr>\n",
              "    <tr>\n",
              "      <th>15</th>\n",
              "      <td>NW</td>\n",
              "      <td>Northwest Airlines Inc.</td>\n",
              "    </tr>\n",
              "    <tr>\n",
              "      <th>16</th>\n",
              "      <td>OH</td>\n",
              "      <td>Comair Inc.</td>\n",
              "    </tr>\n",
              "    <tr>\n",
              "      <th>17</th>\n",
              "      <td>OO</td>\n",
              "      <td>SkyWest Airlines Inc.</td>\n",
              "    </tr>\n",
              "    <tr>\n",
              "      <th>18</th>\n",
              "      <td>RU</td>\n",
              "      <td>ExpressJet Airlines Inc.</td>\n",
              "    </tr>\n",
              "    <tr>\n",
              "      <th>19</th>\n",
              "      <td>TZ</td>\n",
              "      <td>ATA Airlines d/b/a ATA</td>\n",
              "    </tr>\n",
              "    <tr>\n",
              "      <th>20</th>\n",
              "      <td>UA</td>\n",
              "      <td>United Air Lines Inc.</td>\n",
              "    </tr>\n",
              "    <tr>\n",
              "      <th>21</th>\n",
              "      <td>US</td>\n",
              "      <td>US Airways Inc.</td>\n",
              "    </tr>\n",
              "    <tr>\n",
              "      <th>22</th>\n",
              "      <td>VX</td>\n",
              "      <td>Virgin America</td>\n",
              "    </tr>\n",
              "    <tr>\n",
              "      <th>23</th>\n",
              "      <td>WN</td>\n",
              "      <td>Southwest Airlines Co.</td>\n",
              "    </tr>\n",
              "    <tr>\n",
              "      <th>24</th>\n",
              "      <td>XE</td>\n",
              "      <td>ExpressJet Airlines Inc.</td>\n",
              "    </tr>\n",
              "    <tr>\n",
              "      <th>25</th>\n",
              "      <td>YV</td>\n",
              "      <td>Mesa Airlines Inc.</td>\n",
              "    </tr>\n",
              "    <tr>\n",
              "      <th>26</th>\n",
              "      <td>YX</td>\n",
              "      <td>Republic Airline</td>\n",
              "    </tr>\n",
              "  </tbody>\n",
              "</table>\n",
              "</div>"
            ],
            "text/plain": [
              "   carrier                 carrier_name\n",
              "0       9E            Endeavor Air Inc.\n",
              "1       AA       American Airlines Inc.\n",
              "2       AQ          Aloha Airlines Inc.\n",
              "3       AS         Alaska Airlines Inc.\n",
              "4       B6              JetBlue Airways\n",
              "5       CO   Continental Air Lines Inc.\n",
              "6       DL         Delta Air Lines Inc.\n",
              "7       EV      ExpressJet Airlines LLC\n",
              "8       F9       Frontier Airlines Inc.\n",
              "9       FL  AirTran Airways Corporation\n",
              "10      G4                Allegiant Air\n",
              "11      HA       Hawaiian Airlines Inc.\n",
              "12      HP   America West Airlines Inc.\n",
              "13      MQ                    Envoy Air\n",
              "14      NK             Spirit Air Lines\n",
              "15      NW      Northwest Airlines Inc.\n",
              "16      OH                  Comair Inc.\n",
              "17      OO        SkyWest Airlines Inc.\n",
              "18      RU     ExpressJet Airlines Inc.\n",
              "19      TZ       ATA Airlines d/b/a ATA\n",
              "20      UA        United Air Lines Inc.\n",
              "21      US              US Airways Inc.\n",
              "22      VX               Virgin America\n",
              "23      WN       Southwest Airlines Co.\n",
              "24      XE     ExpressJet Airlines Inc.\n",
              "25      YV           Mesa Airlines Inc.\n",
              "26      YX             Republic Airline"
            ]
          },
          "metadata": {
            "tags": []
          },
          "execution_count": 78
        }
      ]
    },
    {
      "cell_type": "markdown",
      "metadata": {
        "id": "glTUeQWM0CQ7"
      },
      "source": [
        "### 7.0 - Now Try This\n",
        "\n",
        "- Use the ```merge``` function to join the ```airline``` dataframe with the ```flight``` dataframe.\n",
        "- Name the resulting dataframe as ```flight_airline```.\n",
        "- Print ```flight_airline``` and make sure that this dataframe has airline codes AND all airline names!\n",
        "\n",
        "(Hint: what are the common column names between two dataframes? Are the column names the same?)"
      ]
    },
    {
      "cell_type": "code",
      "metadata": {
        "id": "8Q-t1uXi0CQ7"
      },
      "source": [
        "# Once your have verified your answer please uncomment the line below and run it, this will save your code \n",
        "#%%writefile -a {folder_location}/7.py\n",
        "# Please note that if you uncomment and run multiple times, the program will keep appending to the file.\n",
        "\n",
        "\n",
        "# INSERT CODE HERE"
      ],
      "execution_count": null,
      "outputs": []
    },
    {
      "cell_type": "markdown",
      "metadata": {
        "id": "9RjxjeaL0CQ8"
      },
      "source": [
        "Now, the ```flight_airline``` dataframe has all of the delay info, cancellation info, airline codes, and airline names!"
      ]
    },
    {
      "cell_type": "markdown",
      "metadata": {
        "id": "uIXx0V6n0CQ8"
      },
      "source": [
        "## Groupby"
      ]
    },
    {
      "cell_type": "markdown",
      "metadata": {
        "id": "p6va7VTD0CQ8"
      },
      "source": [
        "### Which airlines experience the most delays?\n",
        "\n",
        "This question can be reworded as \"find the # of delays by airline\".\n",
        "\n",
        "We can use the ```groupby``` function to do this!"
      ]
    },
    {
      "cell_type": "code",
      "metadata": {
        "id": "W_JZxN3i0CQ9",
        "colab": {
          "base_uri": "https://localhost:8080/",
          "height": 340
        },
        "outputId": "f8cc881f-212a-4b63-f078-0c840ef2a75d"
      },
      "source": [
        "flight_airline.groupby(['carrier','carrier_name'])['DEP_DEL15'].sum().sort_values(ascending=False)"
      ],
      "execution_count": null,
      "outputs": [
        {
          "output_type": "execute_result",
          "data": {
            "text/plain": [
              "carrier  carrier_name           \n",
              "WN       Southwest Airlines Co.     13381.0\n",
              "AA       American Airlines Inc.     11000.0\n",
              "OO       SkyWest Airlines Inc.      10836.0\n",
              "DL       Delta Air Lines Inc.        8095.0\n",
              "UA       United Air Lines Inc.       6165.0\n",
              "OH       Comair Inc.                 4656.0\n",
              "MQ       Envoy Air                   4299.0\n",
              "AS       Alaska Airlines Inc.        3863.0\n",
              "B6       JetBlue Airways             3735.0\n",
              "YX       Republic Airline            2964.0\n",
              "YV       Mesa Airlines Inc.          2802.0\n",
              "9E       Endeavor Air Inc.           2580.0\n",
              "NK       Spirit Air Lines            2403.0\n",
              "F9       Frontier Airlines Inc.      1888.0\n",
              "G4       Allegiant Air               1376.0\n",
              "EV       ExpressJet Airlines LLC     1284.0\n",
              "HA       Hawaiian Airlines Inc.       557.0\n",
              "Name: DEP_DEL15, dtype: float64"
            ]
          },
          "metadata": {
            "tags": []
          },
          "execution_count": 80
        }
      ]
    },
    {
      "cell_type": "markdown",
      "metadata": {
        "id": "5XN2Zyry0CQ9"
      },
      "source": [
        "If the threshold is 10,000 delays in January, it seems that WN, AA, OO are the top three airlines that experience the most delays.\n",
        "But oftentimes, passengers would care more about **arriving on time** and that's what airline companies focus more on."
      ]
    },
    {
      "cell_type": "markdown",
      "metadata": {
        "id": "OXzMGcoqEX0_"
      },
      "source": [
        "### 8.0 - Now Try This\n",
        "\n",
        "Calculate the sum of `ARR_DEL15` using the `groupby` function and sort the dataset in descending order."
      ]
    },
    {
      "cell_type": "code",
      "metadata": {
        "id": "o0rz3Zyq0CQ-"
      },
      "source": [
        "# Once your have verified your answer please uncomment the line below and run it, this will save your code \n",
        "#%%writefile -a {folder_location}/8.py\n",
        "# Please note that if you uncomment and run multiple times, the program will keep appending to the file.\n",
        "\n",
        "\n",
        "# INSERT CODE HERE"
      ],
      "execution_count": null,
      "outputs": []
    },
    {
      "cell_type": "markdown",
      "metadata": {
        "id": "fADHuHfH0CQ_"
      },
      "source": [
        "If we use the same threshold of 10,000 delays, AA, OO, OH, and WN are airlines that experience the most delays in regards to **arrival**.\n",
        "\n",
        "We've found the top airlines with most delays but this result does not take into account \"Total number of flights.\"\n",
        "\n",
        "So it will be more accurate if we can find the percentage of delayed flights for each airline.\n",
        "\n",
        "```delayed flight % = (delayed flights) / (total flights)```\n",
        "\n",
        "Let's calculate **delayed flight %**!"
      ]
    },
    {
      "cell_type": "code",
      "metadata": {
        "id": "2HIIUeCS0CQ_",
        "colab": {
          "base_uri": "https://localhost:8080/",
          "height": 340
        },
        "outputId": "927fdf3e-07e7-4082-b4c9-d488535a2d2a"
      },
      "source": [
        "# this code returns the total number of flights\n",
        "flight_airline.groupby(['carrier','carrier_name'])['ARR_DEL15'].count()"
      ],
      "execution_count": null,
      "outputs": [
        {
          "output_type": "execute_result",
          "data": {
            "text/plain": [
              "carrier  carrier_name           \n",
              "9E       Endeavor Air Inc.           22955\n",
              "AA       American Airlines Inc.      75472\n",
              "AS       Alaska Airlines Inc.        20783\n",
              "B6       JetBlue Airways             24621\n",
              "DL       Delta Air Lines Inc.        79928\n",
              "EV       ExpressJet Airlines LLC     10376\n",
              "F9       Frontier Airlines Inc.      12312\n",
              "G4       Allegiant Air                7663\n",
              "HA       Hawaiian Airlines Inc.       7015\n",
              "MQ       Envoy Air                   25284\n",
              "NK       Spirit Air Lines            17333\n",
              "OH       Comair Inc.                 23999\n",
              "OO       SkyWest Airlines Inc.       69501\n",
              "UA       United Air Lines Inc.       48019\n",
              "WN       Southwest Airlines Co.     107708\n",
              "YV       Mesa Airlines Inc.          17473\n",
              "YX       Republic Airline            28826\n",
              "Name: ARR_DEL15, dtype: int64"
            ]
          },
          "metadata": {
            "tags": []
          },
          "execution_count": 81
        }
      ]
    },
    {
      "cell_type": "markdown",
      "metadata": {
        "id": "8heWqzW60CRA"
      },
      "source": [
        "Using this formula, ```delayed flight % = (delayed flights) / (total flights)```, we will divide the number of delayed flights by total flights."
      ]
    },
    {
      "cell_type": "code",
      "metadata": {
        "id": "vOFbl51k0CRA",
        "colab": {
          "base_uri": "https://localhost:8080/",
          "height": 340
        },
        "outputId": "1b8808d8-3238-4a09-9f9f-1e04cd593372"
      },
      "source": [
        "# this code returns the percentage of delayed flights of each airline.\n",
        "flight_airline.groupby(['carrier','carrier_name'])['ARR_DEL15'].sum() / flight_airline.groupby(['carrier','carrier_name'])['ARR_DEL15'].count()"
      ],
      "execution_count": null,
      "outputs": [
        {
          "output_type": "execute_result",
          "data": {
            "text/plain": [
              "carrier  carrier_name           \n",
              "9E       Endeavor Air Inc.          0.109562\n",
              "AA       American Airlines Inc.     0.150360\n",
              "AS       Alaska Airlines Inc.       0.211375\n",
              "B6       JetBlue Airways            0.149263\n",
              "DL       Delta Air Lines Inc.       0.105833\n",
              "EV       ExpressJet Airlines LLC    0.154298\n",
              "F9       Frontier Airlines Inc.     0.145793\n",
              "G4       Allegiant Air              0.200705\n",
              "HA       Hawaiian Airlines Inc.     0.098076\n",
              "MQ       Envoy Air                  0.196923\n",
              "NK       Spirit Air Lines           0.134656\n",
              "OH       Comair Inc.                0.215259\n",
              "OO       SkyWest Airlines Inc.      0.153840\n",
              "UA       United Air Lines Inc.      0.129844\n",
              "WN       Southwest Airlines Co.     0.095824\n",
              "YV       Mesa Airlines Inc.         0.178447\n",
              "YX       Republic Airline           0.118920\n",
              "Name: ARR_DEL15, dtype: float64"
            ]
          },
          "metadata": {
            "tags": []
          },
          "execution_count": 82
        }
      ]
    },
    {
      "cell_type": "markdown",
      "metadata": {
        "id": "RgGAaRU40CRC"
      },
      "source": [
        "Now, in order to see the top airlines with highest delay percentages, let's sort the result in descending order!"
      ]
    },
    {
      "cell_type": "code",
      "metadata": {
        "id": "40bXbyo20CRC",
        "colab": {
          "base_uri": "https://localhost:8080/",
          "height": 340
        },
        "outputId": "d14dc92e-1348-4a5a-d2bd-f610e21dcd10"
      },
      "source": [
        "# sort_values(ascending = False) has been added\n",
        "(flight_airline.groupby(['carrier','carrier_name'])['ARR_DEL15'].sum() / flight_airline.groupby(['carrier','carrier_name'])['ARR_DEL15'].count()).sort_values(ascending = False)"
      ],
      "execution_count": null,
      "outputs": [
        {
          "output_type": "execute_result",
          "data": {
            "text/plain": [
              "carrier  carrier_name           \n",
              "OH       Comair Inc.                0.215259\n",
              "AS       Alaska Airlines Inc.       0.211375\n",
              "G4       Allegiant Air              0.200705\n",
              "MQ       Envoy Air                  0.196923\n",
              "YV       Mesa Airlines Inc.         0.178447\n",
              "EV       ExpressJet Airlines LLC    0.154298\n",
              "OO       SkyWest Airlines Inc.      0.153840\n",
              "AA       American Airlines Inc.     0.150360\n",
              "B6       JetBlue Airways            0.149263\n",
              "F9       Frontier Airlines Inc.     0.145793\n",
              "NK       Spirit Air Lines           0.134656\n",
              "UA       United Air Lines Inc.      0.129844\n",
              "YX       Republic Airline           0.118920\n",
              "9E       Endeavor Air Inc.          0.109562\n",
              "DL       Delta Air Lines Inc.       0.105833\n",
              "HA       Hawaiian Airlines Inc.     0.098076\n",
              "WN       Southwest Airlines Co.     0.095824\n",
              "Name: ARR_DEL15, dtype: float64"
            ]
          },
          "metadata": {
            "tags": []
          },
          "execution_count": 83
        }
      ]
    },
    {
      "cell_type": "markdown",
      "metadata": {
        "id": "vl9PgKts0CRF"
      },
      "source": [
        "Tada, we've come up with a completely different result!\n",
        "\n",
        "OH, AS, G4 airlines have the highest delay percentages while 9E, DL, HA, WN have relatively low delay percentages."
      ]
    },
    {
      "cell_type": "markdown",
      "metadata": {
        "id": "EQeKocKP0CRF"
      },
      "source": [
        "#### `agg()`\n",
        "\n",
        "The code above is correct but it's very lengthy because we calculate ```sum()``` and ```count()``` separately.\n",
        "\n",
        "We will learn a shortcut to calculate aggregates using the ```agg()``` argument. (Refer to the material on Basic Data Manipulation with Pandas for a refresher on aggregate functions).\n",
        "\n",
        "Everything remains the same, except that we replace ```sum()``` or ```count()``` with ```agg(['sum','count'])```."
      ]
    },
    {
      "cell_type": "code",
      "metadata": {
        "id": "68XXx5k30CRF",
        "colab": {
          "base_uri": "https://localhost:8080/",
          "height": 607
        },
        "outputId": "72455e07-6bbb-40dd-857f-d68b0c67c83c"
      },
      "source": [
        "new_df = flight_airline.groupby(['carrier','carrier_name'])['ARR_DEL15'].agg(['sum','count'])\n",
        "new_df"
      ],
      "execution_count": null,
      "outputs": [
        {
          "output_type": "execute_result",
          "data": {
            "text/html": [
              "<div>\n",
              "<style scoped>\n",
              "    .dataframe tbody tr th:only-of-type {\n",
              "        vertical-align: middle;\n",
              "    }\n",
              "\n",
              "    .dataframe tbody tr th {\n",
              "        vertical-align: top;\n",
              "    }\n",
              "\n",
              "    .dataframe thead th {\n",
              "        text-align: right;\n",
              "    }\n",
              "</style>\n",
              "<table border=\"1\" class=\"dataframe\">\n",
              "  <thead>\n",
              "    <tr style=\"text-align: right;\">\n",
              "      <th></th>\n",
              "      <th></th>\n",
              "      <th>sum</th>\n",
              "      <th>count</th>\n",
              "    </tr>\n",
              "    <tr>\n",
              "      <th>carrier</th>\n",
              "      <th>carrier_name</th>\n",
              "      <th></th>\n",
              "      <th></th>\n",
              "    </tr>\n",
              "  </thead>\n",
              "  <tbody>\n",
              "    <tr>\n",
              "      <th>9E</th>\n",
              "      <th>Endeavor Air Inc.</th>\n",
              "      <td>2515.0</td>\n",
              "      <td>22955</td>\n",
              "    </tr>\n",
              "    <tr>\n",
              "      <th>AA</th>\n",
              "      <th>American Airlines Inc.</th>\n",
              "      <td>11348.0</td>\n",
              "      <td>75472</td>\n",
              "    </tr>\n",
              "    <tr>\n",
              "      <th>AS</th>\n",
              "      <th>Alaska Airlines Inc.</th>\n",
              "      <td>4393.0</td>\n",
              "      <td>20783</td>\n",
              "    </tr>\n",
              "    <tr>\n",
              "      <th>B6</th>\n",
              "      <th>JetBlue Airways</th>\n",
              "      <td>3675.0</td>\n",
              "      <td>24621</td>\n",
              "    </tr>\n",
              "    <tr>\n",
              "      <th>DL</th>\n",
              "      <th>Delta Air Lines Inc.</th>\n",
              "      <td>8459.0</td>\n",
              "      <td>79928</td>\n",
              "    </tr>\n",
              "    <tr>\n",
              "      <th>EV</th>\n",
              "      <th>ExpressJet Airlines LLC</th>\n",
              "      <td>1601.0</td>\n",
              "      <td>10376</td>\n",
              "    </tr>\n",
              "    <tr>\n",
              "      <th>F9</th>\n",
              "      <th>Frontier Airlines Inc.</th>\n",
              "      <td>1795.0</td>\n",
              "      <td>12312</td>\n",
              "    </tr>\n",
              "    <tr>\n",
              "      <th>G4</th>\n",
              "      <th>Allegiant Air</th>\n",
              "      <td>1538.0</td>\n",
              "      <td>7663</td>\n",
              "    </tr>\n",
              "    <tr>\n",
              "      <th>HA</th>\n",
              "      <th>Hawaiian Airlines Inc.</th>\n",
              "      <td>688.0</td>\n",
              "      <td>7015</td>\n",
              "    </tr>\n",
              "    <tr>\n",
              "      <th>MQ</th>\n",
              "      <th>Envoy Air</th>\n",
              "      <td>4979.0</td>\n",
              "      <td>25284</td>\n",
              "    </tr>\n",
              "    <tr>\n",
              "      <th>NK</th>\n",
              "      <th>Spirit Air Lines</th>\n",
              "      <td>2334.0</td>\n",
              "      <td>17333</td>\n",
              "    </tr>\n",
              "    <tr>\n",
              "      <th>OH</th>\n",
              "      <th>Comair Inc.</th>\n",
              "      <td>5166.0</td>\n",
              "      <td>23999</td>\n",
              "    </tr>\n",
              "    <tr>\n",
              "      <th>OO</th>\n",
              "      <th>SkyWest Airlines Inc.</th>\n",
              "      <td>10692.0</td>\n",
              "      <td>69501</td>\n",
              "    </tr>\n",
              "    <tr>\n",
              "      <th>UA</th>\n",
              "      <th>United Air Lines Inc.</th>\n",
              "      <td>6235.0</td>\n",
              "      <td>48019</td>\n",
              "    </tr>\n",
              "    <tr>\n",
              "      <th>WN</th>\n",
              "      <th>Southwest Airlines Co.</th>\n",
              "      <td>10321.0</td>\n",
              "      <td>107708</td>\n",
              "    </tr>\n",
              "    <tr>\n",
              "      <th>YV</th>\n",
              "      <th>Mesa Airlines Inc.</th>\n",
              "      <td>3118.0</td>\n",
              "      <td>17473</td>\n",
              "    </tr>\n",
              "    <tr>\n",
              "      <th>YX</th>\n",
              "      <th>Republic Airline</th>\n",
              "      <td>3428.0</td>\n",
              "      <td>28826</td>\n",
              "    </tr>\n",
              "  </tbody>\n",
              "</table>\n",
              "</div>"
            ],
            "text/plain": [
              "                                     sum   count\n",
              "carrier carrier_name                            \n",
              "9E      Endeavor Air Inc.         2515.0   22955\n",
              "AA      American Airlines Inc.   11348.0   75472\n",
              "AS      Alaska Airlines Inc.      4393.0   20783\n",
              "B6      JetBlue Airways           3675.0   24621\n",
              "DL      Delta Air Lines Inc.      8459.0   79928\n",
              "EV      ExpressJet Airlines LLC   1601.0   10376\n",
              "F9      Frontier Airlines Inc.    1795.0   12312\n",
              "G4      Allegiant Air             1538.0    7663\n",
              "HA      Hawaiian Airlines Inc.     688.0    7015\n",
              "MQ      Envoy Air                 4979.0   25284\n",
              "NK      Spirit Air Lines          2334.0   17333\n",
              "OH      Comair Inc.               5166.0   23999\n",
              "OO      SkyWest Airlines Inc.    10692.0   69501\n",
              "UA      United Air Lines Inc.     6235.0   48019\n",
              "WN      Southwest Airlines Co.   10321.0  107708\n",
              "YV      Mesa Airlines Inc.        3118.0   17473\n",
              "YX      Republic Airline          3428.0   28826"
            ]
          },
          "metadata": {
            "tags": []
          },
          "execution_count": 84
        }
      ]
    },
    {
      "cell_type": "markdown",
      "metadata": {
        "id": "VQBZrOKd0CRH"
      },
      "source": [
        "Now, ```new_df``` has columns: ```carrier```, ```carrier_name```, ```sum```, and ```count```.\n",
        "\n",
        "We will create another column called ```delay %``` using sum and count columns!"
      ]
    },
    {
      "cell_type": "code",
      "metadata": {
        "id": "-ErieWmF0CRI"
      },
      "source": [
        "new_df['delay %'] = new_df['sum'] / new_df['count']"
      ],
      "execution_count": null,
      "outputs": []
    },
    {
      "cell_type": "code",
      "metadata": {
        "id": "5H6emRkD0CRJ",
        "colab": {
          "base_uri": "https://localhost:8080/",
          "height": 607
        },
        "outputId": "ab23d6a9-fb3f-426a-c7c1-137e96e856c5"
      },
      "source": [
        "new_df"
      ],
      "execution_count": null,
      "outputs": [
        {
          "output_type": "execute_result",
          "data": {
            "text/html": [
              "<div>\n",
              "<style scoped>\n",
              "    .dataframe tbody tr th:only-of-type {\n",
              "        vertical-align: middle;\n",
              "    }\n",
              "\n",
              "    .dataframe tbody tr th {\n",
              "        vertical-align: top;\n",
              "    }\n",
              "\n",
              "    .dataframe thead th {\n",
              "        text-align: right;\n",
              "    }\n",
              "</style>\n",
              "<table border=\"1\" class=\"dataframe\">\n",
              "  <thead>\n",
              "    <tr style=\"text-align: right;\">\n",
              "      <th></th>\n",
              "      <th></th>\n",
              "      <th>sum</th>\n",
              "      <th>count</th>\n",
              "      <th>delay %</th>\n",
              "    </tr>\n",
              "    <tr>\n",
              "      <th>carrier</th>\n",
              "      <th>carrier_name</th>\n",
              "      <th></th>\n",
              "      <th></th>\n",
              "      <th></th>\n",
              "    </tr>\n",
              "  </thead>\n",
              "  <tbody>\n",
              "    <tr>\n",
              "      <th>9E</th>\n",
              "      <th>Endeavor Air Inc.</th>\n",
              "      <td>2515.0</td>\n",
              "      <td>22955</td>\n",
              "      <td>0.109562</td>\n",
              "    </tr>\n",
              "    <tr>\n",
              "      <th>AA</th>\n",
              "      <th>American Airlines Inc.</th>\n",
              "      <td>11348.0</td>\n",
              "      <td>75472</td>\n",
              "      <td>0.150360</td>\n",
              "    </tr>\n",
              "    <tr>\n",
              "      <th>AS</th>\n",
              "      <th>Alaska Airlines Inc.</th>\n",
              "      <td>4393.0</td>\n",
              "      <td>20783</td>\n",
              "      <td>0.211375</td>\n",
              "    </tr>\n",
              "    <tr>\n",
              "      <th>B6</th>\n",
              "      <th>JetBlue Airways</th>\n",
              "      <td>3675.0</td>\n",
              "      <td>24621</td>\n",
              "      <td>0.149263</td>\n",
              "    </tr>\n",
              "    <tr>\n",
              "      <th>DL</th>\n",
              "      <th>Delta Air Lines Inc.</th>\n",
              "      <td>8459.0</td>\n",
              "      <td>79928</td>\n",
              "      <td>0.105833</td>\n",
              "    </tr>\n",
              "    <tr>\n",
              "      <th>EV</th>\n",
              "      <th>ExpressJet Airlines LLC</th>\n",
              "      <td>1601.0</td>\n",
              "      <td>10376</td>\n",
              "      <td>0.154298</td>\n",
              "    </tr>\n",
              "    <tr>\n",
              "      <th>F9</th>\n",
              "      <th>Frontier Airlines Inc.</th>\n",
              "      <td>1795.0</td>\n",
              "      <td>12312</td>\n",
              "      <td>0.145793</td>\n",
              "    </tr>\n",
              "    <tr>\n",
              "      <th>G4</th>\n",
              "      <th>Allegiant Air</th>\n",
              "      <td>1538.0</td>\n",
              "      <td>7663</td>\n",
              "      <td>0.200705</td>\n",
              "    </tr>\n",
              "    <tr>\n",
              "      <th>HA</th>\n",
              "      <th>Hawaiian Airlines Inc.</th>\n",
              "      <td>688.0</td>\n",
              "      <td>7015</td>\n",
              "      <td>0.098076</td>\n",
              "    </tr>\n",
              "    <tr>\n",
              "      <th>MQ</th>\n",
              "      <th>Envoy Air</th>\n",
              "      <td>4979.0</td>\n",
              "      <td>25284</td>\n",
              "      <td>0.196923</td>\n",
              "    </tr>\n",
              "    <tr>\n",
              "      <th>NK</th>\n",
              "      <th>Spirit Air Lines</th>\n",
              "      <td>2334.0</td>\n",
              "      <td>17333</td>\n",
              "      <td>0.134656</td>\n",
              "    </tr>\n",
              "    <tr>\n",
              "      <th>OH</th>\n",
              "      <th>Comair Inc.</th>\n",
              "      <td>5166.0</td>\n",
              "      <td>23999</td>\n",
              "      <td>0.215259</td>\n",
              "    </tr>\n",
              "    <tr>\n",
              "      <th>OO</th>\n",
              "      <th>SkyWest Airlines Inc.</th>\n",
              "      <td>10692.0</td>\n",
              "      <td>69501</td>\n",
              "      <td>0.153840</td>\n",
              "    </tr>\n",
              "    <tr>\n",
              "      <th>UA</th>\n",
              "      <th>United Air Lines Inc.</th>\n",
              "      <td>6235.0</td>\n",
              "      <td>48019</td>\n",
              "      <td>0.129844</td>\n",
              "    </tr>\n",
              "    <tr>\n",
              "      <th>WN</th>\n",
              "      <th>Southwest Airlines Co.</th>\n",
              "      <td>10321.0</td>\n",
              "      <td>107708</td>\n",
              "      <td>0.095824</td>\n",
              "    </tr>\n",
              "    <tr>\n",
              "      <th>YV</th>\n",
              "      <th>Mesa Airlines Inc.</th>\n",
              "      <td>3118.0</td>\n",
              "      <td>17473</td>\n",
              "      <td>0.178447</td>\n",
              "    </tr>\n",
              "    <tr>\n",
              "      <th>YX</th>\n",
              "      <th>Republic Airline</th>\n",
              "      <td>3428.0</td>\n",
              "      <td>28826</td>\n",
              "      <td>0.118920</td>\n",
              "    </tr>\n",
              "  </tbody>\n",
              "</table>\n",
              "</div>"
            ],
            "text/plain": [
              "                                     sum   count   delay %\n",
              "carrier carrier_name                                      \n",
              "9E      Endeavor Air Inc.         2515.0   22955  0.109562\n",
              "AA      American Airlines Inc.   11348.0   75472  0.150360\n",
              "AS      Alaska Airlines Inc.      4393.0   20783  0.211375\n",
              "B6      JetBlue Airways           3675.0   24621  0.149263\n",
              "DL      Delta Air Lines Inc.      8459.0   79928  0.105833\n",
              "EV      ExpressJet Airlines LLC   1601.0   10376  0.154298\n",
              "F9      Frontier Airlines Inc.    1795.0   12312  0.145793\n",
              "G4      Allegiant Air             1538.0    7663  0.200705\n",
              "HA      Hawaiian Airlines Inc.     688.0    7015  0.098076\n",
              "MQ      Envoy Air                 4979.0   25284  0.196923\n",
              "NK      Spirit Air Lines          2334.0   17333  0.134656\n",
              "OH      Comair Inc.               5166.0   23999  0.215259\n",
              "OO      SkyWest Airlines Inc.    10692.0   69501  0.153840\n",
              "UA      United Air Lines Inc.     6235.0   48019  0.129844\n",
              "WN      Southwest Airlines Co.   10321.0  107708  0.095824\n",
              "YV      Mesa Airlines Inc.        3118.0   17473  0.178447\n",
              "YX      Republic Airline          3428.0   28826  0.118920"
            ]
          },
          "metadata": {
            "tags": []
          },
          "execution_count": 86
        }
      ]
    },
    {
      "cell_type": "markdown",
      "metadata": {
        "id": "pZHsTRxC0CRK"
      },
      "source": [
        "Tada! We've successfully added a ```delay %``` column! Let's sort the dataframe in descending order to find out airlines with highest delay %!"
      ]
    },
    {
      "cell_type": "code",
      "metadata": {
        "id": "kQw0G1cN0CRK",
        "colab": {
          "base_uri": "https://localhost:8080/",
          "height": 607
        },
        "outputId": "c8d1ffa7-8cbc-4eca-e1e5-ac5a675938ae"
      },
      "source": [
        "new_df.sort_values(by=['delay %'], ascending=False)"
      ],
      "execution_count": null,
      "outputs": [
        {
          "output_type": "execute_result",
          "data": {
            "text/html": [
              "<div>\n",
              "<style scoped>\n",
              "    .dataframe tbody tr th:only-of-type {\n",
              "        vertical-align: middle;\n",
              "    }\n",
              "\n",
              "    .dataframe tbody tr th {\n",
              "        vertical-align: top;\n",
              "    }\n",
              "\n",
              "    .dataframe thead th {\n",
              "        text-align: right;\n",
              "    }\n",
              "</style>\n",
              "<table border=\"1\" class=\"dataframe\">\n",
              "  <thead>\n",
              "    <tr style=\"text-align: right;\">\n",
              "      <th></th>\n",
              "      <th></th>\n",
              "      <th>sum</th>\n",
              "      <th>count</th>\n",
              "      <th>delay %</th>\n",
              "    </tr>\n",
              "    <tr>\n",
              "      <th>carrier</th>\n",
              "      <th>carrier_name</th>\n",
              "      <th></th>\n",
              "      <th></th>\n",
              "      <th></th>\n",
              "    </tr>\n",
              "  </thead>\n",
              "  <tbody>\n",
              "    <tr>\n",
              "      <th>OH</th>\n",
              "      <th>Comair Inc.</th>\n",
              "      <td>5166.0</td>\n",
              "      <td>23999</td>\n",
              "      <td>0.215259</td>\n",
              "    </tr>\n",
              "    <tr>\n",
              "      <th>AS</th>\n",
              "      <th>Alaska Airlines Inc.</th>\n",
              "      <td>4393.0</td>\n",
              "      <td>20783</td>\n",
              "      <td>0.211375</td>\n",
              "    </tr>\n",
              "    <tr>\n",
              "      <th>G4</th>\n",
              "      <th>Allegiant Air</th>\n",
              "      <td>1538.0</td>\n",
              "      <td>7663</td>\n",
              "      <td>0.200705</td>\n",
              "    </tr>\n",
              "    <tr>\n",
              "      <th>MQ</th>\n",
              "      <th>Envoy Air</th>\n",
              "      <td>4979.0</td>\n",
              "      <td>25284</td>\n",
              "      <td>0.196923</td>\n",
              "    </tr>\n",
              "    <tr>\n",
              "      <th>YV</th>\n",
              "      <th>Mesa Airlines Inc.</th>\n",
              "      <td>3118.0</td>\n",
              "      <td>17473</td>\n",
              "      <td>0.178447</td>\n",
              "    </tr>\n",
              "    <tr>\n",
              "      <th>EV</th>\n",
              "      <th>ExpressJet Airlines LLC</th>\n",
              "      <td>1601.0</td>\n",
              "      <td>10376</td>\n",
              "      <td>0.154298</td>\n",
              "    </tr>\n",
              "    <tr>\n",
              "      <th>OO</th>\n",
              "      <th>SkyWest Airlines Inc.</th>\n",
              "      <td>10692.0</td>\n",
              "      <td>69501</td>\n",
              "      <td>0.153840</td>\n",
              "    </tr>\n",
              "    <tr>\n",
              "      <th>AA</th>\n",
              "      <th>American Airlines Inc.</th>\n",
              "      <td>11348.0</td>\n",
              "      <td>75472</td>\n",
              "      <td>0.150360</td>\n",
              "    </tr>\n",
              "    <tr>\n",
              "      <th>B6</th>\n",
              "      <th>JetBlue Airways</th>\n",
              "      <td>3675.0</td>\n",
              "      <td>24621</td>\n",
              "      <td>0.149263</td>\n",
              "    </tr>\n",
              "    <tr>\n",
              "      <th>F9</th>\n",
              "      <th>Frontier Airlines Inc.</th>\n",
              "      <td>1795.0</td>\n",
              "      <td>12312</td>\n",
              "      <td>0.145793</td>\n",
              "    </tr>\n",
              "    <tr>\n",
              "      <th>NK</th>\n",
              "      <th>Spirit Air Lines</th>\n",
              "      <td>2334.0</td>\n",
              "      <td>17333</td>\n",
              "      <td>0.134656</td>\n",
              "    </tr>\n",
              "    <tr>\n",
              "      <th>UA</th>\n",
              "      <th>United Air Lines Inc.</th>\n",
              "      <td>6235.0</td>\n",
              "      <td>48019</td>\n",
              "      <td>0.129844</td>\n",
              "    </tr>\n",
              "    <tr>\n",
              "      <th>YX</th>\n",
              "      <th>Republic Airline</th>\n",
              "      <td>3428.0</td>\n",
              "      <td>28826</td>\n",
              "      <td>0.118920</td>\n",
              "    </tr>\n",
              "    <tr>\n",
              "      <th>9E</th>\n",
              "      <th>Endeavor Air Inc.</th>\n",
              "      <td>2515.0</td>\n",
              "      <td>22955</td>\n",
              "      <td>0.109562</td>\n",
              "    </tr>\n",
              "    <tr>\n",
              "      <th>DL</th>\n",
              "      <th>Delta Air Lines Inc.</th>\n",
              "      <td>8459.0</td>\n",
              "      <td>79928</td>\n",
              "      <td>0.105833</td>\n",
              "    </tr>\n",
              "    <tr>\n",
              "      <th>HA</th>\n",
              "      <th>Hawaiian Airlines Inc.</th>\n",
              "      <td>688.0</td>\n",
              "      <td>7015</td>\n",
              "      <td>0.098076</td>\n",
              "    </tr>\n",
              "    <tr>\n",
              "      <th>WN</th>\n",
              "      <th>Southwest Airlines Co.</th>\n",
              "      <td>10321.0</td>\n",
              "      <td>107708</td>\n",
              "      <td>0.095824</td>\n",
              "    </tr>\n",
              "  </tbody>\n",
              "</table>\n",
              "</div>"
            ],
            "text/plain": [
              "                                     sum   count   delay %\n",
              "carrier carrier_name                                      \n",
              "OH      Comair Inc.               5166.0   23999  0.215259\n",
              "AS      Alaska Airlines Inc.      4393.0   20783  0.211375\n",
              "G4      Allegiant Air             1538.0    7663  0.200705\n",
              "MQ      Envoy Air                 4979.0   25284  0.196923\n",
              "YV      Mesa Airlines Inc.        3118.0   17473  0.178447\n",
              "EV      ExpressJet Airlines LLC   1601.0   10376  0.154298\n",
              "OO      SkyWest Airlines Inc.    10692.0   69501  0.153840\n",
              "AA      American Airlines Inc.   11348.0   75472  0.150360\n",
              "B6      JetBlue Airways           3675.0   24621  0.149263\n",
              "F9      Frontier Airlines Inc.    1795.0   12312  0.145793\n",
              "NK      Spirit Air Lines          2334.0   17333  0.134656\n",
              "UA      United Air Lines Inc.     6235.0   48019  0.129844\n",
              "YX      Republic Airline          3428.0   28826  0.118920\n",
              "9E      Endeavor Air Inc.         2515.0   22955  0.109562\n",
              "DL      Delta Air Lines Inc.      8459.0   79928  0.105833\n",
              "HA      Hawaiian Airlines Inc.     688.0    7015  0.098076\n",
              "WN      Southwest Airlines Co.   10321.0  107708  0.095824"
            ]
          },
          "metadata": {
            "tags": []
          },
          "execution_count": 87
        }
      ]
    },
    {
      "cell_type": "markdown",
      "metadata": {
        "id": "PiEIqCWp0CRL"
      },
      "source": [
        "### Which day of the week experiences the most delays? \n",
        "\n",
        "This question can be rephrased as \"find the # of delays by day of week\"."
      ]
    },
    {
      "cell_type": "markdown",
      "metadata": {
        "id": "9OJp0_SM0CRM"
      },
      "source": [
        "To answer this question, we can use the `groupby` function, but should we use ```sum```? ```count```? ```mean```?\n",
        "\n",
        "- ```sum```: The first thing that came to my mind is that we can use ```sum```. But similar to the question above, each day of the week has a different number of flights per day. (Ex: there would be more flights scheduled on weekends.) So, ```sum``` is not the most appropriate function to use here.\n",
        "\n",
        "\n",
        "- ```count```: We can count the number of flights and divide ```sum(delayed flights)``` by ```count``` (similar to what we just did).\n",
        "\n",
        "\n",
        "- ```mean```: What if we use ```mean```? We can get the average delay percentage of each day and this is what we are looking for!\n",
        "\n"
      ]
    },
    {
      "cell_type": "code",
      "metadata": {
        "id": "dE8eGUoC0CRM",
        "colab": {
          "base_uri": "https://localhost:8080/",
          "height": 170
        },
        "outputId": "b2dde17f-5add-4e5d-dd90-f885677119d9"
      },
      "source": [
        "flight_airline.groupby(['DAY_OF_WEEK'])['ARR_DEL15'].mean()"
      ],
      "execution_count": null,
      "outputs": [
        {
          "output_type": "execute_result",
          "data": {
            "text/plain": [
              "DAY_OF_WEEK\n",
              "1    0.133963\n",
              "2    0.098135\n",
              "3    0.097656\n",
              "4    0.137520\n",
              "5    0.161769\n",
              "6    0.211572\n",
              "7    0.135598\n",
              "Name: ARR_DEL15, dtype: float64"
            ]
          },
          "metadata": {
            "tags": []
          },
          "execution_count": 88
        }
      ]
    },
    {
      "cell_type": "markdown",
      "metadata": {
        "id": "YdvCrD5L0CRN"
      },
      "source": [
        "To confirm that ```mean``` returns the same value as ```sum / count```, let's check ```sum / count``` real quick."
      ]
    },
    {
      "cell_type": "code",
      "metadata": {
        "id": "W6Q0BqNp0CRN",
        "colab": {
          "base_uri": "https://localhost:8080/",
          "height": 170
        },
        "outputId": "91feada1-8c36-44a5-e289-7aacfad6cf99"
      },
      "source": [
        "flight_airline.groupby(['DAY_OF_WEEK'])['ARR_DEL15'].sum() / flight_airline.groupby(['DAY_OF_WEEK'])['ARR_DEL15'].count()"
      ],
      "execution_count": null,
      "outputs": [
        {
          "output_type": "execute_result",
          "data": {
            "text/plain": [
              "DAY_OF_WEEK\n",
              "1    0.133963\n",
              "2    0.098135\n",
              "3    0.097656\n",
              "4    0.137520\n",
              "5    0.161769\n",
              "6    0.211572\n",
              "7    0.135598\n",
              "Name: ARR_DEL15, dtype: float64"
            ]
          },
          "metadata": {
            "tags": []
          },
          "execution_count": 89
        }
      ]
    },
    {
      "cell_type": "markdown",
      "metadata": {
        "id": "IKwpSxXx0CRO"
      },
      "source": [
        "Yay! It returns the same answer as above!\n",
        "\n",
        "Saturday has the highest delay percentage while Wednesday has the lowest!"
      ]
    },
    {
      "cell_type": "markdown",
      "metadata": {
        "id": "McJu7mvd0CRO"
      },
      "source": [
        "### What origins experience most delays? \n",
        "\n",
        "This question can be rephrased as \"find the # of delays by origin\".\n",
        "\n",
        "Knowing this might help when we book a flight later! :)\n",
        "\n",
        "Since we are dealing with the **origin** airport at this time, it's appropriate to use ```DEP_DEL15```."
      ]
    },
    {
      "cell_type": "code",
      "metadata": {
        "id": "4bQ_N51P0CRO",
        "colab": {
          "base_uri": "https://localhost:8080/",
          "height": 238
        },
        "outputId": "0c6b50b0-f339-4529-ef33-c7cb7b072d47"
      },
      "source": [
        "flight_airline.groupby(['ORIGIN'])['DEP_DEL15'].mean()"
      ],
      "execution_count": null,
      "outputs": [
        {
          "output_type": "execute_result",
          "data": {
            "text/plain": [
              "ORIGIN\n",
              "ABE    0.178273\n",
              "ABI    0.190184\n",
              "ABQ    0.099070\n",
              "ABR    0.250000\n",
              "ABY    0.059524\n",
              "         ...   \n",
              "WRG    0.189655\n",
              "XNA    0.119005\n",
              "XWA    0.238806\n",
              "YAK    0.211538\n",
              "YUM    0.139785\n",
              "Name: DEP_DEL15, Length: 351, dtype: float64"
            ]
          },
          "metadata": {
            "tags": []
          },
          "execution_count": 90
        }
      ]
    },
    {
      "cell_type": "code",
      "metadata": {
        "scrolled": true,
        "id": "WJkuxUFB0CRP",
        "colab": {
          "base_uri": "https://localhost:8080/",
          "height": 238
        },
        "outputId": "78aa5659-ce0e-4b5e-c42f-6a958879371b"
      },
      "source": [
        "flight_airline.groupby(['ORIGIN'])['DEP_DEL15'].mean().sort_values(ascending=False)"
      ],
      "execution_count": null,
      "outputs": [
        {
          "output_type": "execute_result",
          "data": {
            "text/plain": [
              "ORIGIN\n",
              "ADK    0.333333\n",
              "OTH    0.333333\n",
              "OGD    0.333333\n",
              "PPG    0.333333\n",
              "ASE    0.303813\n",
              "         ...   \n",
              "CPR    0.038095\n",
              "CDC    0.037037\n",
              "UIN    0.000000\n",
              "COD    0.000000\n",
              "OWB    0.000000\n",
              "Name: DEP_DEL15, Length: 351, dtype: float64"
            ]
          },
          "metadata": {
            "tags": []
          },
          "execution_count": 91
        }
      ]
    },
    {
      "cell_type": "markdown",
      "metadata": {
        "id": "SgomwWI00CRQ"
      },
      "source": [
        "This resulting Series shows origin airports and the corresponding delay %.\n",
        "\n",
        "Since we don't know all of the airport names from the codes, we can join this Series to the dataset that has airport codes and the rest of the airport names."
      ]
    },
    {
      "cell_type": "markdown",
      "metadata": {
        "id": "h7ZqEHep0CRR"
      },
      "source": [
        "## Filtering based on condition"
      ]
    },
    {
      "cell_type": "markdown",
      "metadata": {
        "id": "oOQMfGUN0CRR"
      },
      "source": [
        "### Which origin airports have delay percentages of 30% or more?\n",
        "\n",
        "```airline_delay_causes.csv``` has lots of useful information, but we will extract airport codes and airport names only."
      ]
    },
    {
      "cell_type": "code",
      "metadata": {
        "id": "SOo3d97D0CRR",
        "colab": {
          "base_uri": "https://localhost:8080/",
          "height": 932
        },
        "outputId": "8b0eb621-3115-48e3-cfd1-822e3f5798b3"
      },
      "source": [
        "url = 'https://raw.githubusercontent.com/bitprj/DigitalHistory/master/Week6-Advanced-Data-Wrangling-using-Pandas/data/airline_delay_causes.csv'\n",
        "airport_codes = pd.read_csv(url)\n",
        "airport_codes"
      ],
      "execution_count": null,
      "outputs": [
        {
          "output_type": "execute_result",
          "data": {
            "text/html": [
              "<div>\n",
              "<style scoped>\n",
              "    .dataframe tbody tr th:only-of-type {\n",
              "        vertical-align: middle;\n",
              "    }\n",
              "\n",
              "    .dataframe tbody tr th {\n",
              "        vertical-align: top;\n",
              "    }\n",
              "\n",
              "    .dataframe thead th {\n",
              "        text-align: right;\n",
              "    }\n",
              "</style>\n",
              "<table border=\"1\" class=\"dataframe\">\n",
              "  <thead>\n",
              "    <tr style=\"text-align: right;\">\n",
              "      <th></th>\n",
              "      <th>year</th>\n",
              "      <th>month</th>\n",
              "      <th>carrier</th>\n",
              "      <th>carrier_name</th>\n",
              "      <th>airport</th>\n",
              "      <th>airport_name</th>\n",
              "      <th>arr_flights</th>\n",
              "      <th>arr_del15</th>\n",
              "      <th>carrier_ct</th>\n",
              "      <th>weather_ct</th>\n",
              "      <th>nas_ct</th>\n",
              "      <th>security_ct</th>\n",
              "      <th>late_aircraft_ct</th>\n",
              "      <th>arr_cancelled</th>\n",
              "      <th>arr_diverted</th>\n",
              "      <th>arr_delay</th>\n",
              "      <th>carrier_delay</th>\n",
              "      <th>weather_delay</th>\n",
              "      <th>nas_delay</th>\n",
              "      <th>security_delay</th>\n",
              "      <th>late_aircraft_delay</th>\n",
              "      <th>Unnamed: 21</th>\n",
              "    </tr>\n",
              "  </thead>\n",
              "  <tbody>\n",
              "    <tr>\n",
              "      <th>0</th>\n",
              "      <td>2004</td>\n",
              "      <td>1</td>\n",
              "      <td>DL</td>\n",
              "      <td>Delta Air Lines Inc.</td>\n",
              "      <td>PBI</td>\n",
              "      <td>West Palm Beach/Palm Beach, FL: Palm Beach Int...</td>\n",
              "      <td>650.0</td>\n",
              "      <td>126.0</td>\n",
              "      <td>21.06</td>\n",
              "      <td>6.44</td>\n",
              "      <td>51.58</td>\n",
              "      <td>1.0</td>\n",
              "      <td>45.92</td>\n",
              "      <td>4.0</td>\n",
              "      <td>0.0</td>\n",
              "      <td>5425.0</td>\n",
              "      <td>881.0</td>\n",
              "      <td>397.0</td>\n",
              "      <td>2016.0</td>\n",
              "      <td>15.0</td>\n",
              "      <td>2116.0</td>\n",
              "      <td>NaN</td>\n",
              "    </tr>\n",
              "    <tr>\n",
              "      <th>1</th>\n",
              "      <td>2004</td>\n",
              "      <td>1</td>\n",
              "      <td>DL</td>\n",
              "      <td>Delta Air Lines Inc.</td>\n",
              "      <td>PDX</td>\n",
              "      <td>Portland, OR: Portland International</td>\n",
              "      <td>314.0</td>\n",
              "      <td>61.0</td>\n",
              "      <td>14.09</td>\n",
              "      <td>2.61</td>\n",
              "      <td>34.25</td>\n",
              "      <td>0.0</td>\n",
              "      <td>10.05</td>\n",
              "      <td>30.0</td>\n",
              "      <td>3.0</td>\n",
              "      <td>2801.0</td>\n",
              "      <td>478.0</td>\n",
              "      <td>239.0</td>\n",
              "      <td>1365.0</td>\n",
              "      <td>0.0</td>\n",
              "      <td>719.0</td>\n",
              "      <td>NaN</td>\n",
              "    </tr>\n",
              "    <tr>\n",
              "      <th>2</th>\n",
              "      <td>2004</td>\n",
              "      <td>1</td>\n",
              "      <td>DL</td>\n",
              "      <td>Delta Air Lines Inc.</td>\n",
              "      <td>PHL</td>\n",
              "      <td>Philadelphia, PA: Philadelphia International</td>\n",
              "      <td>513.0</td>\n",
              "      <td>97.0</td>\n",
              "      <td>27.60</td>\n",
              "      <td>0.42</td>\n",
              "      <td>51.86</td>\n",
              "      <td>0.0</td>\n",
              "      <td>17.12</td>\n",
              "      <td>15.0</td>\n",
              "      <td>0.0</td>\n",
              "      <td>4261.0</td>\n",
              "      <td>1150.0</td>\n",
              "      <td>16.0</td>\n",
              "      <td>2286.0</td>\n",
              "      <td>0.0</td>\n",
              "      <td>809.0</td>\n",
              "      <td>NaN</td>\n",
              "    </tr>\n",
              "    <tr>\n",
              "      <th>3</th>\n",
              "      <td>2004</td>\n",
              "      <td>1</td>\n",
              "      <td>DL</td>\n",
              "      <td>Delta Air Lines Inc.</td>\n",
              "      <td>PHX</td>\n",
              "      <td>Phoenix, AZ: Phoenix Sky Harbor International</td>\n",
              "      <td>334.0</td>\n",
              "      <td>78.0</td>\n",
              "      <td>20.14</td>\n",
              "      <td>2.02</td>\n",
              "      <td>39.39</td>\n",
              "      <td>0.0</td>\n",
              "      <td>16.45</td>\n",
              "      <td>3.0</td>\n",
              "      <td>1.0</td>\n",
              "      <td>3400.0</td>\n",
              "      <td>1159.0</td>\n",
              "      <td>166.0</td>\n",
              "      <td>1295.0</td>\n",
              "      <td>0.0</td>\n",
              "      <td>780.0</td>\n",
              "      <td>NaN</td>\n",
              "    </tr>\n",
              "    <tr>\n",
              "      <th>4</th>\n",
              "      <td>2004</td>\n",
              "      <td>1</td>\n",
              "      <td>DL</td>\n",
              "      <td>Delta Air Lines Inc.</td>\n",
              "      <td>PIT</td>\n",
              "      <td>Pittsburgh, PA: Pittsburgh International</td>\n",
              "      <td>217.0</td>\n",
              "      <td>47.0</td>\n",
              "      <td>8.08</td>\n",
              "      <td>0.44</td>\n",
              "      <td>21.89</td>\n",
              "      <td>0.0</td>\n",
              "      <td>16.59</td>\n",
              "      <td>4.0</td>\n",
              "      <td>1.0</td>\n",
              "      <td>1737.0</td>\n",
              "      <td>350.0</td>\n",
              "      <td>28.0</td>\n",
              "      <td>522.0</td>\n",
              "      <td>0.0</td>\n",
              "      <td>837.0</td>\n",
              "      <td>NaN</td>\n",
              "    </tr>\n",
              "    <tr>\n",
              "      <th>...</th>\n",
              "      <td>...</td>\n",
              "      <td>...</td>\n",
              "      <td>...</td>\n",
              "      <td>...</td>\n",
              "      <td>...</td>\n",
              "      <td>...</td>\n",
              "      <td>...</td>\n",
              "      <td>...</td>\n",
              "      <td>...</td>\n",
              "      <td>...</td>\n",
              "      <td>...</td>\n",
              "      <td>...</td>\n",
              "      <td>...</td>\n",
              "      <td>...</td>\n",
              "      <td>...</td>\n",
              "      <td>...</td>\n",
              "      <td>...</td>\n",
              "      <td>...</td>\n",
              "      <td>...</td>\n",
              "      <td>...</td>\n",
              "      <td>...</td>\n",
              "      <td>...</td>\n",
              "    </tr>\n",
              "    <tr>\n",
              "      <th>279177</th>\n",
              "      <td>2019</td>\n",
              "      <td>1</td>\n",
              "      <td>MQ</td>\n",
              "      <td>Envoy Air</td>\n",
              "      <td>RIC</td>\n",
              "      <td>Richmond, VA: Richmond International</td>\n",
              "      <td>195.0</td>\n",
              "      <td>68.0</td>\n",
              "      <td>12.12</td>\n",
              "      <td>1.87</td>\n",
              "      <td>17.97</td>\n",
              "      <td>0.0</td>\n",
              "      <td>36.04</td>\n",
              "      <td>22.0</td>\n",
              "      <td>0.0</td>\n",
              "      <td>4138.0</td>\n",
              "      <td>603.0</td>\n",
              "      <td>196.0</td>\n",
              "      <td>780.0</td>\n",
              "      <td>0.0</td>\n",
              "      <td>2559.0</td>\n",
              "      <td>NaN</td>\n",
              "    </tr>\n",
              "    <tr>\n",
              "      <th>279178</th>\n",
              "      <td>2019</td>\n",
              "      <td>1</td>\n",
              "      <td>MQ</td>\n",
              "      <td>Envoy Air</td>\n",
              "      <td>ROA</td>\n",
              "      <td>Roanoke, VA: Roanoke Blacksburg Regional Woodr...</td>\n",
              "      <td>52.0</td>\n",
              "      <td>14.0</td>\n",
              "      <td>2.74</td>\n",
              "      <td>0.69</td>\n",
              "      <td>2.46</td>\n",
              "      <td>0.0</td>\n",
              "      <td>8.11</td>\n",
              "      <td>2.0</td>\n",
              "      <td>1.0</td>\n",
              "      <td>726.0</td>\n",
              "      <td>323.0</td>\n",
              "      <td>31.0</td>\n",
              "      <td>112.0</td>\n",
              "      <td>0.0</td>\n",
              "      <td>260.0</td>\n",
              "      <td>NaN</td>\n",
              "    </tr>\n",
              "    <tr>\n",
              "      <th>279179</th>\n",
              "      <td>2019</td>\n",
              "      <td>1</td>\n",
              "      <td>MQ</td>\n",
              "      <td>Envoy Air</td>\n",
              "      <td>ROC</td>\n",
              "      <td>Rochester, NY: Greater Rochester International</td>\n",
              "      <td>106.0</td>\n",
              "      <td>26.0</td>\n",
              "      <td>4.67</td>\n",
              "      <td>2.26</td>\n",
              "      <td>11.81</td>\n",
              "      <td>0.0</td>\n",
              "      <td>7.26</td>\n",
              "      <td>17.0</td>\n",
              "      <td>0.0</td>\n",
              "      <td>1259.0</td>\n",
              "      <td>313.0</td>\n",
              "      <td>99.0</td>\n",
              "      <td>484.0</td>\n",
              "      <td>0.0</td>\n",
              "      <td>363.0</td>\n",
              "      <td>NaN</td>\n",
              "    </tr>\n",
              "    <tr>\n",
              "      <th>279180</th>\n",
              "      <td>2019</td>\n",
              "      <td>1</td>\n",
              "      <td>MQ</td>\n",
              "      <td>Envoy Air</td>\n",
              "      <td>RST</td>\n",
              "      <td>Rochester, MN: Rochester International</td>\n",
              "      <td>116.0</td>\n",
              "      <td>35.0</td>\n",
              "      <td>6.83</td>\n",
              "      <td>6.92</td>\n",
              "      <td>11.50</td>\n",
              "      <td>0.0</td>\n",
              "      <td>9.75</td>\n",
              "      <td>22.0</td>\n",
              "      <td>0.0</td>\n",
              "      <td>2307.0</td>\n",
              "      <td>474.0</td>\n",
              "      <td>633.0</td>\n",
              "      <td>523.0</td>\n",
              "      <td>0.0</td>\n",
              "      <td>677.0</td>\n",
              "      <td>NaN</td>\n",
              "    </tr>\n",
              "    <tr>\n",
              "      <th>279181</th>\n",
              "      <td>2019</td>\n",
              "      <td>1</td>\n",
              "      <td>MQ</td>\n",
              "      <td>Envoy Air</td>\n",
              "      <td>SAT</td>\n",
              "      <td>San Antonio, TX: San Antonio International</td>\n",
              "      <td>26.0</td>\n",
              "      <td>4.0</td>\n",
              "      <td>1.16</td>\n",
              "      <td>0.64</td>\n",
              "      <td>1.92</td>\n",
              "      <td>0.0</td>\n",
              "      <td>0.29</td>\n",
              "      <td>5.0</td>\n",
              "      <td>0.0</td>\n",
              "      <td>120.0</td>\n",
              "      <td>50.0</td>\n",
              "      <td>14.0</td>\n",
              "      <td>41.0</td>\n",
              "      <td>0.0</td>\n",
              "      <td>15.0</td>\n",
              "      <td>NaN</td>\n",
              "    </tr>\n",
              "  </tbody>\n",
              "</table>\n",
              "<p>279182 rows × 22 columns</p>\n",
              "</div>"
            ],
            "text/plain": [
              "        year   month carrier  ... security_delay late_aircraft_delay Unnamed: 21\n",
              "0       2004       1      DL  ...           15.0              2116.0         NaN\n",
              "1       2004       1      DL  ...            0.0               719.0         NaN\n",
              "2       2004       1      DL  ...            0.0               809.0         NaN\n",
              "3       2004       1      DL  ...            0.0               780.0         NaN\n",
              "4       2004       1      DL  ...            0.0               837.0         NaN\n",
              "...      ...     ...     ...  ...            ...                 ...         ...\n",
              "279177  2019       1      MQ  ...            0.0              2559.0         NaN\n",
              "279178  2019       1      MQ  ...            0.0               260.0         NaN\n",
              "279179  2019       1      MQ  ...            0.0               363.0         NaN\n",
              "279180  2019       1      MQ  ...            0.0               677.0         NaN\n",
              "279181  2019       1      MQ  ...            0.0                15.0         NaN\n",
              "\n",
              "[279182 rows x 22 columns]"
            ]
          },
          "metadata": {
            "tags": []
          },
          "execution_count": 92
        }
      ]
    },
    {
      "cell_type": "code",
      "metadata": {
        "scrolled": true,
        "id": "UsLRH_7j0CRS",
        "colab": {
          "base_uri": "https://localhost:8080/",
          "height": 479
        },
        "outputId": "4c46bdae-1ac6-4c20-bfd5-0dba89636f4e"
      },
      "source": [
        "airport_codes.head()"
      ],
      "execution_count": null,
      "outputs": [
        {
          "output_type": "execute_result",
          "data": {
            "text/html": [
              "<div>\n",
              "<style scoped>\n",
              "    .dataframe tbody tr th:only-of-type {\n",
              "        vertical-align: middle;\n",
              "    }\n",
              "\n",
              "    .dataframe tbody tr th {\n",
              "        vertical-align: top;\n",
              "    }\n",
              "\n",
              "    .dataframe thead th {\n",
              "        text-align: right;\n",
              "    }\n",
              "</style>\n",
              "<table border=\"1\" class=\"dataframe\">\n",
              "  <thead>\n",
              "    <tr style=\"text-align: right;\">\n",
              "      <th></th>\n",
              "      <th>year</th>\n",
              "      <th>month</th>\n",
              "      <th>carrier</th>\n",
              "      <th>carrier_name</th>\n",
              "      <th>airport</th>\n",
              "      <th>airport_name</th>\n",
              "      <th>arr_flights</th>\n",
              "      <th>arr_del15</th>\n",
              "      <th>carrier_ct</th>\n",
              "      <th>weather_ct</th>\n",
              "      <th>nas_ct</th>\n",
              "      <th>security_ct</th>\n",
              "      <th>late_aircraft_ct</th>\n",
              "      <th>arr_cancelled</th>\n",
              "      <th>arr_diverted</th>\n",
              "      <th>arr_delay</th>\n",
              "      <th>carrier_delay</th>\n",
              "      <th>weather_delay</th>\n",
              "      <th>nas_delay</th>\n",
              "      <th>security_delay</th>\n",
              "      <th>late_aircraft_delay</th>\n",
              "      <th>Unnamed: 21</th>\n",
              "    </tr>\n",
              "  </thead>\n",
              "  <tbody>\n",
              "    <tr>\n",
              "      <th>0</th>\n",
              "      <td>2004</td>\n",
              "      <td>1</td>\n",
              "      <td>DL</td>\n",
              "      <td>Delta Air Lines Inc.</td>\n",
              "      <td>PBI</td>\n",
              "      <td>West Palm Beach/Palm Beach, FL: Palm Beach Int...</td>\n",
              "      <td>650.0</td>\n",
              "      <td>126.0</td>\n",
              "      <td>21.06</td>\n",
              "      <td>6.44</td>\n",
              "      <td>51.58</td>\n",
              "      <td>1.0</td>\n",
              "      <td>45.92</td>\n",
              "      <td>4.0</td>\n",
              "      <td>0.0</td>\n",
              "      <td>5425.0</td>\n",
              "      <td>881.0</td>\n",
              "      <td>397.0</td>\n",
              "      <td>2016.0</td>\n",
              "      <td>15.0</td>\n",
              "      <td>2116.0</td>\n",
              "      <td>NaN</td>\n",
              "    </tr>\n",
              "    <tr>\n",
              "      <th>1</th>\n",
              "      <td>2004</td>\n",
              "      <td>1</td>\n",
              "      <td>DL</td>\n",
              "      <td>Delta Air Lines Inc.</td>\n",
              "      <td>PDX</td>\n",
              "      <td>Portland, OR: Portland International</td>\n",
              "      <td>314.0</td>\n",
              "      <td>61.0</td>\n",
              "      <td>14.09</td>\n",
              "      <td>2.61</td>\n",
              "      <td>34.25</td>\n",
              "      <td>0.0</td>\n",
              "      <td>10.05</td>\n",
              "      <td>30.0</td>\n",
              "      <td>3.0</td>\n",
              "      <td>2801.0</td>\n",
              "      <td>478.0</td>\n",
              "      <td>239.0</td>\n",
              "      <td>1365.0</td>\n",
              "      <td>0.0</td>\n",
              "      <td>719.0</td>\n",
              "      <td>NaN</td>\n",
              "    </tr>\n",
              "    <tr>\n",
              "      <th>2</th>\n",
              "      <td>2004</td>\n",
              "      <td>1</td>\n",
              "      <td>DL</td>\n",
              "      <td>Delta Air Lines Inc.</td>\n",
              "      <td>PHL</td>\n",
              "      <td>Philadelphia, PA: Philadelphia International</td>\n",
              "      <td>513.0</td>\n",
              "      <td>97.0</td>\n",
              "      <td>27.60</td>\n",
              "      <td>0.42</td>\n",
              "      <td>51.86</td>\n",
              "      <td>0.0</td>\n",
              "      <td>17.12</td>\n",
              "      <td>15.0</td>\n",
              "      <td>0.0</td>\n",
              "      <td>4261.0</td>\n",
              "      <td>1150.0</td>\n",
              "      <td>16.0</td>\n",
              "      <td>2286.0</td>\n",
              "      <td>0.0</td>\n",
              "      <td>809.0</td>\n",
              "      <td>NaN</td>\n",
              "    </tr>\n",
              "    <tr>\n",
              "      <th>3</th>\n",
              "      <td>2004</td>\n",
              "      <td>1</td>\n",
              "      <td>DL</td>\n",
              "      <td>Delta Air Lines Inc.</td>\n",
              "      <td>PHX</td>\n",
              "      <td>Phoenix, AZ: Phoenix Sky Harbor International</td>\n",
              "      <td>334.0</td>\n",
              "      <td>78.0</td>\n",
              "      <td>20.14</td>\n",
              "      <td>2.02</td>\n",
              "      <td>39.39</td>\n",
              "      <td>0.0</td>\n",
              "      <td>16.45</td>\n",
              "      <td>3.0</td>\n",
              "      <td>1.0</td>\n",
              "      <td>3400.0</td>\n",
              "      <td>1159.0</td>\n",
              "      <td>166.0</td>\n",
              "      <td>1295.0</td>\n",
              "      <td>0.0</td>\n",
              "      <td>780.0</td>\n",
              "      <td>NaN</td>\n",
              "    </tr>\n",
              "    <tr>\n",
              "      <th>4</th>\n",
              "      <td>2004</td>\n",
              "      <td>1</td>\n",
              "      <td>DL</td>\n",
              "      <td>Delta Air Lines Inc.</td>\n",
              "      <td>PIT</td>\n",
              "      <td>Pittsburgh, PA: Pittsburgh International</td>\n",
              "      <td>217.0</td>\n",
              "      <td>47.0</td>\n",
              "      <td>8.08</td>\n",
              "      <td>0.44</td>\n",
              "      <td>21.89</td>\n",
              "      <td>0.0</td>\n",
              "      <td>16.59</td>\n",
              "      <td>4.0</td>\n",
              "      <td>1.0</td>\n",
              "      <td>1737.0</td>\n",
              "      <td>350.0</td>\n",
              "      <td>28.0</td>\n",
              "      <td>522.0</td>\n",
              "      <td>0.0</td>\n",
              "      <td>837.0</td>\n",
              "      <td>NaN</td>\n",
              "    </tr>\n",
              "  </tbody>\n",
              "</table>\n",
              "</div>"
            ],
            "text/plain": [
              "   year   month carrier  ... security_delay late_aircraft_delay Unnamed: 21\n",
              "0  2004       1      DL  ...           15.0              2116.0         NaN\n",
              "1  2004       1      DL  ...            0.0               719.0         NaN\n",
              "2  2004       1      DL  ...            0.0               809.0         NaN\n",
              "3  2004       1      DL  ...            0.0               780.0         NaN\n",
              "4  2004       1      DL  ...            0.0               837.0         NaN\n",
              "\n",
              "[5 rows x 22 columns]"
            ]
          },
          "metadata": {
            "tags": []
          },
          "execution_count": 93
        }
      ]
    },
    {
      "cell_type": "markdown",
      "metadata": {
        "id": "OcCDAdf30CRT"
      },
      "source": [
        "### 9.0 - Now Try This\n",
        "\n",
        "- Using the ```drop_duplicates()``` function, find a unique set of airport codes and airport names. \n",
        "- Save the dataframe as ```airport_names```."
      ]
    },
    {
      "cell_type": "code",
      "metadata": {
        "id": "DSJH22M60CRT"
      },
      "source": [
        "# Once your have verified your answer please uncomment the line below and run it, this will save your code \n",
        "#%%writefile -a {folder_location}/9.py\n",
        "# Please note that if you uncomment and run multiple times, the program will keep appending to the file.\n",
        "\n",
        "\n",
        "# INSERT CODE HERE"
      ],
      "execution_count": null,
      "outputs": []
    },
    {
      "cell_type": "markdown",
      "metadata": {
        "id": "9j5pmXZW0CRV"
      },
      "source": [
        "The Series below is what we have found earlier -- delay % by each origin airport."
      ]
    },
    {
      "cell_type": "code",
      "metadata": {
        "id": "V4wPoeMt0CRV",
        "colab": {
          "base_uri": "https://localhost:8080/",
          "height": 238
        },
        "outputId": "f68834a4-75af-4301-d3a7-1d9218da201b"
      },
      "source": [
        "series = flight_airline.groupby(['ORIGIN'])['DEP_DEL15'].mean().sort_values(ascending=False)\n",
        "series"
      ],
      "execution_count": null,
      "outputs": [
        {
          "output_type": "execute_result",
          "data": {
            "text/plain": [
              "ORIGIN\n",
              "ADK    0.333333\n",
              "OTH    0.333333\n",
              "OGD    0.333333\n",
              "PPG    0.333333\n",
              "ASE    0.303813\n",
              "         ...   \n",
              "CPR    0.038095\n",
              "CDC    0.037037\n",
              "UIN    0.000000\n",
              "COD    0.000000\n",
              "OWB    0.000000\n",
              "Name: DEP_DEL15, Length: 351, dtype: float64"
            ]
          },
          "metadata": {
            "tags": []
          },
          "execution_count": 96
        }
      ]
    },
    {
      "cell_type": "markdown",
      "metadata": {
        "id": "Xs38709E0CRW"
      },
      "source": [
        "Let's convert the result of `groupby` aggregation to a ```DataFrame``` using the ```to_frame()``` function."
      ]
    },
    {
      "cell_type": "code",
      "metadata": {
        "id": "gXBx0vf70CRW"
      },
      "source": [
        "origin_delays = series.to_frame()"
      ],
      "execution_count": null,
      "outputs": []
    },
    {
      "cell_type": "code",
      "metadata": {
        "scrolled": true,
        "id": "3DtPp9Kw0CRZ",
        "colab": {
          "base_uri": "https://localhost:8080/",
          "height": 450
        },
        "outputId": "a4e48186-9281-4433-8389-5cc3a72e569e"
      },
      "source": [
        "origin_delays"
      ],
      "execution_count": null,
      "outputs": [
        {
          "output_type": "execute_result",
          "data": {
            "text/html": [
              "<div>\n",
              "<style scoped>\n",
              "    .dataframe tbody tr th:only-of-type {\n",
              "        vertical-align: middle;\n",
              "    }\n",
              "\n",
              "    .dataframe tbody tr th {\n",
              "        vertical-align: top;\n",
              "    }\n",
              "\n",
              "    .dataframe thead th {\n",
              "        text-align: right;\n",
              "    }\n",
              "</style>\n",
              "<table border=\"1\" class=\"dataframe\">\n",
              "  <thead>\n",
              "    <tr style=\"text-align: right;\">\n",
              "      <th></th>\n",
              "      <th>DEP_DEL15</th>\n",
              "    </tr>\n",
              "    <tr>\n",
              "      <th>ORIGIN</th>\n",
              "      <th></th>\n",
              "    </tr>\n",
              "  </thead>\n",
              "  <tbody>\n",
              "    <tr>\n",
              "      <th>ADK</th>\n",
              "      <td>0.333333</td>\n",
              "    </tr>\n",
              "    <tr>\n",
              "      <th>OTH</th>\n",
              "      <td>0.333333</td>\n",
              "    </tr>\n",
              "    <tr>\n",
              "      <th>OGD</th>\n",
              "      <td>0.333333</td>\n",
              "    </tr>\n",
              "    <tr>\n",
              "      <th>PPG</th>\n",
              "      <td>0.333333</td>\n",
              "    </tr>\n",
              "    <tr>\n",
              "      <th>ASE</th>\n",
              "      <td>0.303813</td>\n",
              "    </tr>\n",
              "    <tr>\n",
              "      <th>...</th>\n",
              "      <td>...</td>\n",
              "    </tr>\n",
              "    <tr>\n",
              "      <th>CPR</th>\n",
              "      <td>0.038095</td>\n",
              "    </tr>\n",
              "    <tr>\n",
              "      <th>CDC</th>\n",
              "      <td>0.037037</td>\n",
              "    </tr>\n",
              "    <tr>\n",
              "      <th>UIN</th>\n",
              "      <td>0.000000</td>\n",
              "    </tr>\n",
              "    <tr>\n",
              "      <th>COD</th>\n",
              "      <td>0.000000</td>\n",
              "    </tr>\n",
              "    <tr>\n",
              "      <th>OWB</th>\n",
              "      <td>0.000000</td>\n",
              "    </tr>\n",
              "  </tbody>\n",
              "</table>\n",
              "<p>351 rows × 1 columns</p>\n",
              "</div>"
            ],
            "text/plain": [
              "        DEP_DEL15\n",
              "ORIGIN           \n",
              "ADK      0.333333\n",
              "OTH      0.333333\n",
              "OGD      0.333333\n",
              "PPG      0.333333\n",
              "ASE      0.303813\n",
              "...           ...\n",
              "CPR      0.038095\n",
              "CDC      0.037037\n",
              "UIN      0.000000\n",
              "COD      0.000000\n",
              "OWB      0.000000\n",
              "\n",
              "[351 rows x 1 columns]"
            ]
          },
          "metadata": {
            "tags": []
          },
          "execution_count": 98
        }
      ]
    },
    {
      "cell_type": "markdown",
      "metadata": {
        "id": "pYw6-Lfn0CRa"
      },
      "source": [
        "Now, let's take a closer look at the question and break it down into smaller subproblems!\n",
        "\n",
        "**Which airports have delay percentages of 30% or more?**\n",
        "1. Find airport codes with a delay percentage greater than 30%.\n",
        "2. Join the resulting dataframe to ```airport_names``` to get the corresponding airport names for these codes."
      ]
    },
    {
      "cell_type": "code",
      "metadata": {
        "id": "G_ekDMip0CRa",
        "colab": {
          "base_uri": "https://localhost:8080/",
          "height": 235
        },
        "outputId": "e55450dc-1799-4f23-f480-5eff122a0b36"
      },
      "source": [
        "airports_most_delays = origin_delays[origin_delays['DEP_DEL15'] > 0.3]\n",
        "airports_most_delays"
      ],
      "execution_count": null,
      "outputs": [
        {
          "output_type": "execute_result",
          "data": {
            "text/html": [
              "<div>\n",
              "<style scoped>\n",
              "    .dataframe tbody tr th:only-of-type {\n",
              "        vertical-align: middle;\n",
              "    }\n",
              "\n",
              "    .dataframe tbody tr th {\n",
              "        vertical-align: top;\n",
              "    }\n",
              "\n",
              "    .dataframe thead th {\n",
              "        text-align: right;\n",
              "    }\n",
              "</style>\n",
              "<table border=\"1\" class=\"dataframe\">\n",
              "  <thead>\n",
              "    <tr style=\"text-align: right;\">\n",
              "      <th></th>\n",
              "      <th>DEP_DEL15</th>\n",
              "    </tr>\n",
              "    <tr>\n",
              "      <th>ORIGIN</th>\n",
              "      <th></th>\n",
              "    </tr>\n",
              "  </thead>\n",
              "  <tbody>\n",
              "    <tr>\n",
              "      <th>ADK</th>\n",
              "      <td>0.333333</td>\n",
              "    </tr>\n",
              "    <tr>\n",
              "      <th>OTH</th>\n",
              "      <td>0.333333</td>\n",
              "    </tr>\n",
              "    <tr>\n",
              "      <th>OGD</th>\n",
              "      <td>0.333333</td>\n",
              "    </tr>\n",
              "    <tr>\n",
              "      <th>PPG</th>\n",
              "      <td>0.333333</td>\n",
              "    </tr>\n",
              "    <tr>\n",
              "      <th>ASE</th>\n",
              "      <td>0.303813</td>\n",
              "    </tr>\n",
              "  </tbody>\n",
              "</table>\n",
              "</div>"
            ],
            "text/plain": [
              "        DEP_DEL15\n",
              "ORIGIN           \n",
              "ADK      0.333333\n",
              "OTH      0.333333\n",
              "OGD      0.333333\n",
              "PPG      0.333333\n",
              "ASE      0.303813"
            ]
          },
          "metadata": {
            "tags": []
          },
          "execution_count": 99
        }
      ]
    },
    {
      "cell_type": "code",
      "metadata": {
        "id": "CT8eV09b0CRe",
        "colab": {
          "base_uri": "https://localhost:8080/",
          "height": 204
        },
        "outputId": "90531973-82d3-41b5-cd70-89a36b32629a"
      },
      "source": [
        "pd.merge(airports_most_delays, airport_names, left_on=\"ORIGIN\", right_on = \"airport\")"
      ],
      "execution_count": null,
      "outputs": [
        {
          "output_type": "execute_result",
          "data": {
            "text/html": [
              "<div>\n",
              "<style scoped>\n",
              "    .dataframe tbody tr th:only-of-type {\n",
              "        vertical-align: middle;\n",
              "    }\n",
              "\n",
              "    .dataframe tbody tr th {\n",
              "        vertical-align: top;\n",
              "    }\n",
              "\n",
              "    .dataframe thead th {\n",
              "        text-align: right;\n",
              "    }\n",
              "</style>\n",
              "<table border=\"1\" class=\"dataframe\">\n",
              "  <thead>\n",
              "    <tr style=\"text-align: right;\">\n",
              "      <th></th>\n",
              "      <th>DEP_DEL15</th>\n",
              "      <th>airport</th>\n",
              "      <th>airport_name</th>\n",
              "    </tr>\n",
              "  </thead>\n",
              "  <tbody>\n",
              "    <tr>\n",
              "      <th>0</th>\n",
              "      <td>0.333333</td>\n",
              "      <td>ADK</td>\n",
              "      <td>Adak Island, AK: Adak</td>\n",
              "    </tr>\n",
              "    <tr>\n",
              "      <th>1</th>\n",
              "      <td>0.333333</td>\n",
              "      <td>OTH</td>\n",
              "      <td>North Bend/Coos Bay, OR: Southwest Oregon Regi...</td>\n",
              "    </tr>\n",
              "    <tr>\n",
              "      <th>2</th>\n",
              "      <td>0.333333</td>\n",
              "      <td>OGD</td>\n",
              "      <td>Ogden, UT: Ogden-Hinckley</td>\n",
              "    </tr>\n",
              "    <tr>\n",
              "      <th>3</th>\n",
              "      <td>0.333333</td>\n",
              "      <td>PPG</td>\n",
              "      <td>Pago Pago, TT: Pago Pago International</td>\n",
              "    </tr>\n",
              "    <tr>\n",
              "      <th>4</th>\n",
              "      <td>0.303813</td>\n",
              "      <td>ASE</td>\n",
              "      <td>Aspen, CO: Aspen Pitkin County Sardy Field</td>\n",
              "    </tr>\n",
              "  </tbody>\n",
              "</table>\n",
              "</div>"
            ],
            "text/plain": [
              "   DEP_DEL15 airport                                       airport_name\n",
              "0   0.333333     ADK                              Adak Island, AK: Adak\n",
              "1   0.333333     OTH  North Bend/Coos Bay, OR: Southwest Oregon Regi...\n",
              "2   0.333333     OGD                          Ogden, UT: Ogden-Hinckley\n",
              "3   0.333333     PPG             Pago Pago, TT: Pago Pago International\n",
              "4   0.303813     ASE         Aspen, CO: Aspen Pitkin County Sardy Field"
            ]
          },
          "metadata": {
            "tags": []
          },
          "execution_count": 100
        }
      ]
    },
    {
      "cell_type": "markdown",
      "metadata": {
        "id": "lWrU2P5Y0CRf"
      },
      "source": [
        "We've found that ADK, OTH, OGD, PPG, and ASE have the highest delay percentages in the US!"
      ]
    },
    {
      "cell_type": "markdown",
      "metadata": {
        "id": "9o8mzIKl0CRf"
      },
      "source": [
        "### Pop-up Question\n",
        "\n",
        "What if we want to find the delay percentage of a specific airport? Then, we can select the origin airport code by using ```df[df[column_name]==\"ABC\"]```\n",
        "\n",
        "Let's check out the delay % of San Francisco airport."
      ]
    },
    {
      "cell_type": "code",
      "metadata": {
        "id": "rPv9gXuH0CRg",
        "colab": {
          "base_uri": "https://localhost:8080/",
          "height": 562
        },
        "outputId": "697ea766-4969-4685-eeef-2d729e0142f6"
      },
      "source": [
        "origin_delays[origin_delays['ORIGIN'] == 'SFO']"
      ],
      "execution_count": null,
      "outputs": [
        {
          "output_type": "error",
          "ename": "KeyError",
          "evalue": "ignored",
          "traceback": [
            "\u001b[0;31m---------------------------------------------------------------------------\u001b[0m",
            "\u001b[0;31mKeyError\u001b[0m                                  Traceback (most recent call last)",
            "\u001b[0;32m/usr/local/lib/python3.6/dist-packages/pandas/core/indexes/base.py\u001b[0m in \u001b[0;36mget_loc\u001b[0;34m(self, key, method, tolerance)\u001b[0m\n\u001b[1;32m   2890\u001b[0m             \u001b[0;32mtry\u001b[0m\u001b[0;34m:\u001b[0m\u001b[0;34m\u001b[0m\u001b[0;34m\u001b[0m\u001b[0m\n\u001b[0;32m-> 2891\u001b[0;31m                 \u001b[0;32mreturn\u001b[0m \u001b[0mself\u001b[0m\u001b[0;34m.\u001b[0m\u001b[0m_engine\u001b[0m\u001b[0;34m.\u001b[0m\u001b[0mget_loc\u001b[0m\u001b[0;34m(\u001b[0m\u001b[0mcasted_key\u001b[0m\u001b[0;34m)\u001b[0m\u001b[0;34m\u001b[0m\u001b[0;34m\u001b[0m\u001b[0m\n\u001b[0m\u001b[1;32m   2892\u001b[0m             \u001b[0;32mexcept\u001b[0m \u001b[0mKeyError\u001b[0m \u001b[0;32mas\u001b[0m \u001b[0merr\u001b[0m\u001b[0;34m:\u001b[0m\u001b[0;34m\u001b[0m\u001b[0;34m\u001b[0m\u001b[0m\n",
            "\u001b[0;32mpandas/_libs/index.pyx\u001b[0m in \u001b[0;36mpandas._libs.index.IndexEngine.get_loc\u001b[0;34m()\u001b[0m\n",
            "\u001b[0;32mpandas/_libs/index.pyx\u001b[0m in \u001b[0;36mpandas._libs.index.IndexEngine.get_loc\u001b[0;34m()\u001b[0m\n",
            "\u001b[0;32mpandas/_libs/hashtable_class_helper.pxi\u001b[0m in \u001b[0;36mpandas._libs.hashtable.PyObjectHashTable.get_item\u001b[0;34m()\u001b[0m\n",
            "\u001b[0;32mpandas/_libs/hashtable_class_helper.pxi\u001b[0m in \u001b[0;36mpandas._libs.hashtable.PyObjectHashTable.get_item\u001b[0;34m()\u001b[0m\n",
            "\u001b[0;31mKeyError\u001b[0m: 'ORIGIN'",
            "\nThe above exception was the direct cause of the following exception:\n",
            "\u001b[0;31mKeyError\u001b[0m                                  Traceback (most recent call last)",
            "\u001b[0;32m<ipython-input-103-81646e05ca58>\u001b[0m in \u001b[0;36m<module>\u001b[0;34m()\u001b[0m\n\u001b[0;32m----> 1\u001b[0;31m \u001b[0morigin_delays\u001b[0m\u001b[0;34m[\u001b[0m\u001b[0morigin_delays\u001b[0m\u001b[0;34m[\u001b[0m\u001b[0;34m'ORIGIN'\u001b[0m\u001b[0;34m]\u001b[0m \u001b[0;34m==\u001b[0m \u001b[0;34m'SFO'\u001b[0m\u001b[0;34m]\u001b[0m\u001b[0;34m\u001b[0m\u001b[0;34m\u001b[0m\u001b[0m\n\u001b[0m",
            "\u001b[0;32m/usr/local/lib/python3.6/dist-packages/pandas/core/frame.py\u001b[0m in \u001b[0;36m__getitem__\u001b[0;34m(self, key)\u001b[0m\n\u001b[1;32m   2900\u001b[0m             \u001b[0;32mif\u001b[0m \u001b[0mself\u001b[0m\u001b[0;34m.\u001b[0m\u001b[0mcolumns\u001b[0m\u001b[0;34m.\u001b[0m\u001b[0mnlevels\u001b[0m \u001b[0;34m>\u001b[0m \u001b[0;36m1\u001b[0m\u001b[0;34m:\u001b[0m\u001b[0;34m\u001b[0m\u001b[0;34m\u001b[0m\u001b[0m\n\u001b[1;32m   2901\u001b[0m                 \u001b[0;32mreturn\u001b[0m \u001b[0mself\u001b[0m\u001b[0;34m.\u001b[0m\u001b[0m_getitem_multilevel\u001b[0m\u001b[0;34m(\u001b[0m\u001b[0mkey\u001b[0m\u001b[0;34m)\u001b[0m\u001b[0;34m\u001b[0m\u001b[0;34m\u001b[0m\u001b[0m\n\u001b[0;32m-> 2902\u001b[0;31m             \u001b[0mindexer\u001b[0m \u001b[0;34m=\u001b[0m \u001b[0mself\u001b[0m\u001b[0;34m.\u001b[0m\u001b[0mcolumns\u001b[0m\u001b[0;34m.\u001b[0m\u001b[0mget_loc\u001b[0m\u001b[0;34m(\u001b[0m\u001b[0mkey\u001b[0m\u001b[0;34m)\u001b[0m\u001b[0;34m\u001b[0m\u001b[0;34m\u001b[0m\u001b[0m\n\u001b[0m\u001b[1;32m   2903\u001b[0m             \u001b[0;32mif\u001b[0m \u001b[0mis_integer\u001b[0m\u001b[0;34m(\u001b[0m\u001b[0mindexer\u001b[0m\u001b[0;34m)\u001b[0m\u001b[0;34m:\u001b[0m\u001b[0;34m\u001b[0m\u001b[0;34m\u001b[0m\u001b[0m\n\u001b[1;32m   2904\u001b[0m                 \u001b[0mindexer\u001b[0m \u001b[0;34m=\u001b[0m \u001b[0;34m[\u001b[0m\u001b[0mindexer\u001b[0m\u001b[0;34m]\u001b[0m\u001b[0;34m\u001b[0m\u001b[0;34m\u001b[0m\u001b[0m\n",
            "\u001b[0;32m/usr/local/lib/python3.6/dist-packages/pandas/core/indexes/base.py\u001b[0m in \u001b[0;36mget_loc\u001b[0;34m(self, key, method, tolerance)\u001b[0m\n\u001b[1;32m   2891\u001b[0m                 \u001b[0;32mreturn\u001b[0m \u001b[0mself\u001b[0m\u001b[0;34m.\u001b[0m\u001b[0m_engine\u001b[0m\u001b[0;34m.\u001b[0m\u001b[0mget_loc\u001b[0m\u001b[0;34m(\u001b[0m\u001b[0mcasted_key\u001b[0m\u001b[0;34m)\u001b[0m\u001b[0;34m\u001b[0m\u001b[0;34m\u001b[0m\u001b[0m\n\u001b[1;32m   2892\u001b[0m             \u001b[0;32mexcept\u001b[0m \u001b[0mKeyError\u001b[0m \u001b[0;32mas\u001b[0m \u001b[0merr\u001b[0m\u001b[0;34m:\u001b[0m\u001b[0;34m\u001b[0m\u001b[0;34m\u001b[0m\u001b[0m\n\u001b[0;32m-> 2893\u001b[0;31m                 \u001b[0;32mraise\u001b[0m \u001b[0mKeyError\u001b[0m\u001b[0;34m(\u001b[0m\u001b[0mkey\u001b[0m\u001b[0;34m)\u001b[0m \u001b[0;32mfrom\u001b[0m \u001b[0merr\u001b[0m\u001b[0;34m\u001b[0m\u001b[0;34m\u001b[0m\u001b[0m\n\u001b[0m\u001b[1;32m   2894\u001b[0m \u001b[0;34m\u001b[0m\u001b[0m\n\u001b[1;32m   2895\u001b[0m         \u001b[0;32mif\u001b[0m \u001b[0mtolerance\u001b[0m \u001b[0;32mis\u001b[0m \u001b[0;32mnot\u001b[0m \u001b[0;32mNone\u001b[0m\u001b[0;34m:\u001b[0m\u001b[0;34m\u001b[0m\u001b[0;34m\u001b[0m\u001b[0m\n",
            "\u001b[0;31mKeyError\u001b[0m: 'ORIGIN'"
          ]
        }
      ]
    },
    {
      "cell_type": "markdown",
      "metadata": {
        "id": "Nacb57AS0CRg"
      },
      "source": [
        "The code above did not work! Why? It's because ```ORIGIN``` is not a column, but an index.\n",
        "\n",
        "In this case, we are interested in an index and so we can use ```index``` to select it."
      ]
    },
    {
      "cell_type": "code",
      "metadata": {
        "id": "WleHNiBM0CRg",
        "colab": {
          "base_uri": "https://localhost:8080/",
          "height": 111
        },
        "outputId": "51d15f23-17d7-4a5e-ec84-241f14877731"
      },
      "source": [
        "origin_delays[origin_delays.index == 'SFO']"
      ],
      "execution_count": null,
      "outputs": [
        {
          "output_type": "execute_result",
          "data": {
            "text/html": [
              "<div>\n",
              "<style scoped>\n",
              "    .dataframe tbody tr th:only-of-type {\n",
              "        vertical-align: middle;\n",
              "    }\n",
              "\n",
              "    .dataframe tbody tr th {\n",
              "        vertical-align: top;\n",
              "    }\n",
              "\n",
              "    .dataframe thead th {\n",
              "        text-align: right;\n",
              "    }\n",
              "</style>\n",
              "<table border=\"1\" class=\"dataframe\">\n",
              "  <thead>\n",
              "    <tr style=\"text-align: right;\">\n",
              "      <th></th>\n",
              "      <th>DEP_DEL15</th>\n",
              "    </tr>\n",
              "    <tr>\n",
              "      <th>ORIGIN</th>\n",
              "      <th></th>\n",
              "    </tr>\n",
              "  </thead>\n",
              "  <tbody>\n",
              "    <tr>\n",
              "      <th>SFO</th>\n",
              "      <td>0.171547</td>\n",
              "    </tr>\n",
              "  </tbody>\n",
              "</table>\n",
              "</div>"
            ],
            "text/plain": [
              "        DEP_DEL15\n",
              "ORIGIN           \n",
              "SFO      0.171547"
            ]
          },
          "metadata": {
            "tags": []
          },
          "execution_count": 102
        }
      ]
    },
    {
      "cell_type": "markdown",
      "metadata": {
        "id": "Sw_Cv2SRyB_1"
      },
      "source": [
        "\n",
        "## Submission\n",
        "Run this code block to download your answers."
      ]
    },
    {
      "cell_type": "code",
      "metadata": {
        "id": "pptJmIZIyBUd"
      },
      "source": [
        "from google.colab import files\n",
        "!zip -r \"{student_id}.zip\" \"{student_id}\"\n",
        "files.download(f\"{student_id}.zip\")"
      ],
      "execution_count": null,
      "outputs": []
    },
    {
      "cell_type": "markdown",
      "metadata": {
        "id": "9a-7yxHADB1D"
      },
      "source": [
        "## Resources\n",
        "- [Python Pandas Series](https://www.geeksforgeeks.org/python-pandas-series/)\n",
        "- [Pandas API Reference Merge](https://pandas.pydata.org/pandas-docs/stable/reference/api/pandas.DataFrame.merge.html)\n",
        "- [Join types](https://www.codespot.org/sql-join/)\n",
        "- [Flight Delay Prediction data](https://www.kaggle.com/divyansh22/flight-delay-prediction)\n",
        "- [Airline Delay Causes](https://www.kaggle.com/anshuls235/airline-delay-causes)"
      ]
    }
  ]
}