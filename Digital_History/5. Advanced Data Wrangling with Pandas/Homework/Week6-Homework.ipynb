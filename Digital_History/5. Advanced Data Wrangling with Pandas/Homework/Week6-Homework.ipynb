{
  "nbformat": 4,
  "nbformat_minor": 0,
  "metadata": {
    "kernelspec": {
      "display_name": "Python 3",
      "language": "python",
      "name": "python3"
    },
    "language_info": {
      "codemirror_mode": {
        "name": "ipython",
        "version": 3
      },
      "file_extension": ".py",
      "mimetype": "text/x-python",
      "name": "python",
      "nbconvert_exporter": "python",
      "pygments_lexer": "ipython3",
      "version": "3.7.4"
    },
    "colab": {
      "name": "Week6-Homework.ipynb",
      "provenance": [],
      "include_colab_link": true
    }
  },
  "cells": [
    {
      "cell_type": "markdown",
      "metadata": {
        "id": "view-in-github",
        "colab_type": "text"
      },
      "source": [
        "<a href=\"https://colab.research.google.com/github/bitprj/DigitalHistory/blob/master/Week6-Advanced-Data-Wrangling-using-Pandas/Homework/Week6-Homework.ipynb\" target=\"_parent\"><img src=\"https://colab.research.google.com/assets/colab-badge.svg\" alt=\"Open In Colab\"/></a>"
      ]
    },
    {
      "cell_type": "markdown",
      "metadata": {
        "id": "IWB94R840Ldw"
      },
      "source": [
        "## <div align = \"center\">Homework 4</div>\n",
        "# <div align = \"center\">Flight Delay Data</div>"
      ]
    },
    {
      "cell_type": "markdown",
      "metadata": {
        "id": "iBfHB3KG0Ldx"
      },
      "source": [
        "In this homework you will be using techniques you learned through Advanced Data Wrangling with Pandas. The purpose of this homework for you to do data manipulation with ```Pandas``` and to express your observations. \n",
        "\n",
        "Feel free to refer back to Pandas tutorial notebook and ask questions on Piazza!"
      ]
    },
    {
      "cell_type": "markdown",
      "metadata": {
        "id": "-sVyHy3f0Ldx"
      },
      "source": [
        "### Grading\n",
        "\n",
        "There are a total of 12 questions and each question is worth 1 point.\n",
        "\n",
        "In order to work on the Homework sections and submit them for grading, you'll need to run the code block below. It will ask for your student ID number and then create a folder that will house your answers for each question. At the very end of the notebook, there is a code section that will download this folder as a zip file to your computer. This zip file will be your final submission."
      ]
    },
    {
      "cell_type": "code",
      "metadata": {
        "id": "jX0ubhQGAqNv"
      },
      "source": [
        "import os\n",
        "import shutil\n",
        "\n",
        "!rm -rf sample_data\n",
        "\n",
        "student_id = input('Please Enter your Student ID: ') # Enter Student ID.\n",
        "\n",
        "while len(student_id) != 9:\n",
        " student_id = int('Please Enter your Student ID: ')  \n",
        "  \n",
        "folder_location = f'{student_id}/Week_Twelve/Homework'\n",
        "if not os.path.exists(folder_location):\n",
        "  os.makedirs(folder_location)\n",
        "  print('Successfully Created Directory, Lets get started')\n",
        "else:\n",
        "  print('Directory Already Exists')"
      ],
      "execution_count": null,
      "outputs": []
    },
    {
      "cell_type": "markdown",
      "metadata": {
        "id": "gbnRlA210Ldy"
      },
      "source": [
        "### Import library"
      ]
    },
    {
      "cell_type": "code",
      "metadata": {
        "id": "TUnD0j790Ldy"
      },
      "source": [
        "import pandas as pd"
      ],
      "execution_count": null,
      "outputs": []
    },
    {
      "cell_type": "markdown",
      "metadata": {
        "id": "Ydh8gSqJ0Ld1"
      },
      "source": [
        "### Load file"
      ]
    },
    {
      "cell_type": "code",
      "metadata": {
        "id": "Buu-HN0z0Ld2"
      },
      "source": [
        "url = 'https://raw.githubusercontent.com/bitprj/DigitalHistory/master/Week6-Advanced-Data-Wrangling-using-Pandas/data/Jan_2020_ontime.csv'\n",
        "df = pd.read_csv(url)\n",
        "\n",
        "\n",
        "url = 'https://raw.githubusercontent.com/bitprj/DigitalHistory/master/Week6-Advanced-Data-Wrangling-using-Pandas/data/airline_names.xlsx'\n",
        "airline = pd.read_excel(url)"
      ],
      "execution_count": null,
      "outputs": []
    },
    {
      "cell_type": "code",
      "metadata": {
        "id": "3R31CIZ10Ld4"
      },
      "source": [
        "df.head()"
      ],
      "execution_count": null,
      "outputs": []
    },
    {
      "cell_type": "code",
      "metadata": {
        "id": "QtASW4n70Ld7"
      },
      "source": [
        "airline.head()"
      ],
      "execution_count": null,
      "outputs": []
    },
    {
      "cell_type": "markdown",
      "metadata": {
        "id": "k0n5KgsF0Ld-"
      },
      "source": [
        "## Homework Questions"
      ]
    },
    {
      "cell_type": "markdown",
      "metadata": {
        "id": "2PkdvhGQ0Ld-"
      },
      "source": [
        "## Part 1. Merge / Clean dataframe"
      ]
    },
    {
      "cell_type": "markdown",
      "metadata": {
        "id": "tlC-auBX0Ld-"
      },
      "source": [
        "### Q1. Join ```df``` with ```airline``` and save the dataframe as ```df```.\n",
        "(You may use ```join``` or ```merge```.)"
      ]
    },
    {
      "cell_type": "markdown",
      "metadata": {
        "id": "SkJWXlWdAiAY"
      },
      "source": [
        "#### Code / Answer\n",
        "\n"
      ]
    },
    {
      "cell_type": "code",
      "metadata": {
        "id": "Rt6MqAseAfpi"
      },
      "source": [
        "# Once your have verified your answer please uncomment the line below and run it, this will save your code \n",
        "#%%writefile -a {folder_location}/1.py\n",
        "# Please note that if you uncomment and run multiple times, the program will keep appending to the file.\n",
        "\n",
        "# INSERT CODE BELOW\n"
      ],
      "execution_count": null,
      "outputs": []
    },
    {
      "cell_type": "markdown",
      "metadata": {
        "id": "Ty7zGysD0LeB"
      },
      "source": [
        "### Q2. Delete 'Unnamed: 21' column in ```df```. You may refer back to week 3 material [here](https://colab.research.google.com/drive/1mb0i6HAv48JwFUtQviPfJinRh2ml7fWa#scrollTo=Flh-acxDeoWn)."
      ]
    },
    {
      "cell_type": "markdown",
      "metadata": {
        "id": "SIBYLuwIAkUS"
      },
      "source": [
        "#### Code / Answer"
      ]
    },
    {
      "cell_type": "code",
      "metadata": {
        "id": "9ZFXNCZA0LeB"
      },
      "source": [
        "# Once your have verified your answer please uncomment the line below and run it, this will save your code \n",
        "#%%writefile -a {folder_location}/2.py\n",
        "# Please note that if you uncomment and run multiple times, the program will keep appending to the file.\n",
        "\n",
        "# INSERT CODE BELOW\n"
      ],
      "execution_count": null,
      "outputs": []
    },
    {
      "cell_type": "markdown",
      "metadata": {
        "id": "-C91sWcQ0LeE"
      },
      "source": [
        "## Part 2. Top 5 airlines"
      ]
    },
    {
      "cell_type": "markdown",
      "metadata": {
        "id": "lrAKGtgn0LeE"
      },
      "source": [
        "### Q3 (a) What are the five largest airlines by the number of flights in January?"
      ]
    },
    {
      "cell_type": "markdown",
      "metadata": {
        "id": "Mv9RkHeEA2ib"
      },
      "source": [
        "#### Code"
      ]
    },
    {
      "cell_type": "code",
      "metadata": {
        "id": "Kf-PJYilBB_a"
      },
      "source": [
        "# INSERT CODE BELOW\n",
        "# This is not part of grading.\n"
      ],
      "execution_count": null,
      "outputs": []
    },
    {
      "cell_type": "markdown",
      "metadata": {
        "id": "UHO9Tvd8BC8Z"
      },
      "source": [
        "#### Answer"
      ]
    },
    {
      "cell_type": "code",
      "metadata": {
        "id": "qtRStNks0LeF"
      },
      "source": [
        "# Once your have verified your answer please uncomment the line below and run it, this will save your code \n",
        "#%%writefile -a {folder_location}/3.py\n",
        "# Please note that if you uncomment and run multiple times, the program will keep appending to the file.\n",
        "\n",
        "# INSERT ANSWER BELOW\n"
      ],
      "execution_count": null,
      "outputs": []
    },
    {
      "cell_type": "markdown",
      "metadata": {
        "id": "pdjYskFh0LeG"
      },
      "source": [
        "### Q3 (b) Create a new dataframe ```top_five``` with the top five largest airlines we found in Q2.\n",
        "(Hint: You may use ```isin``` function.)"
      ]
    },
    {
      "cell_type": "code",
      "metadata": {
        "id": "Ht7EwS2E0LeH"
      },
      "source": [
        "# Once your have verified your answer please uncomment the line below and run it, this will save your code \n",
        "#%%writefile -a {folder_location}/3.py\n",
        "# Please note that if you uncomment and run multiple times, the program will keep appending to the file.\n",
        "\n",
        "# INSERT CODE BELOW\n"
      ],
      "execution_count": null,
      "outputs": []
    },
    {
      "cell_type": "markdown",
      "metadata": {
        "id": "_kGDcmzk0LeJ"
      },
      "source": [
        "### Q4. Calculate cancellation percentages of the top 5 airlines."
      ]
    },
    {
      "cell_type": "markdown",
      "metadata": {
        "id": "y0W5rDP2BhSP"
      },
      "source": [
        "#### Code / Answer"
      ]
    },
    {
      "cell_type": "code",
      "metadata": {
        "id": "V12AC9rt0LeJ"
      },
      "source": [
        "# Once your have verified your answer please uncomment the line below and run it, this will save your code \n",
        "#%%writefile -a {folder_location}/4.py\n",
        "# Please note that if you uncomment and run multiple times, the program will keep appending to the file.\n",
        "\n",
        "# INSERT CODE BELOW\n"
      ],
      "execution_count": null,
      "outputs": []
    },
    {
      "cell_type": "markdown",
      "metadata": {
        "id": "8t4Jax6K0LeM"
      },
      "source": [
        "### Q5. Calculate diverted flights percentages of the top 5 airlines."
      ]
    },
    {
      "cell_type": "markdown",
      "metadata": {
        "id": "xT8cmYmdBojP"
      },
      "source": [
        "#### Code / Answer"
      ]
    },
    {
      "cell_type": "code",
      "metadata": {
        "id": "IGyOf80A0LeM"
      },
      "source": [
        "# Once your have verified your answer please uncomment the line below and run it, this will save your code \n",
        "#%%writefile -a {folder_location}/5.py\n",
        "# Please note that if you uncomment and run multiple times, the program will keep appending to the file.\n",
        "\n",
        "# INSERT CODE BELOW\n"
      ],
      "execution_count": null,
      "outputs": []
    },
    {
      "cell_type": "markdown",
      "metadata": {
        "id": "3Pq-sKQZ0LeP"
      },
      "source": [
        "### Q6. Calculate arrival-on-time percentages of the top 5 airlines."
      ]
    },
    {
      "cell_type": "markdown",
      "metadata": {
        "id": "e0RLjb11BqXD"
      },
      "source": [
        "#### Code / Answer"
      ]
    },
    {
      "cell_type": "code",
      "metadata": {
        "id": "I-Rrqvan0LeP"
      },
      "source": [
        "# Once your have verified your answer please uncomment the line below and run it, this will save your code \n",
        "#%%writefile -a {folder_location}/6.py\n",
        "# Please note that if you uncomment and run multiple times, the program will keep appending to the file.\n",
        "\n",
        "# INSERT CODE BELOW\n"
      ],
      "execution_count": null,
      "outputs": []
    },
    {
      "cell_type": "markdown",
      "metadata": {
        "id": "YS1Zgu_40LeR"
      },
      "source": [
        "### Q7. Plot a bar chart of the arrival-on-time percentages of the top five airlines."
      ]
    },
    {
      "cell_type": "code",
      "metadata": {
        "id": "FjjewH6F0LeR"
      },
      "source": [
        "from matplotlib import pyplot as plt"
      ],
      "execution_count": null,
      "outputs": []
    },
    {
      "cell_type": "markdown",
      "metadata": {
        "id": "c_JZmw5aB19l"
      },
      "source": [
        "#### Code / Answer"
      ]
    },
    {
      "cell_type": "code",
      "metadata": {
        "id": "Dm3Phhd0B5N4"
      },
      "source": [
        "# Once your have verified your answer please uncomment the line below and run it, this will save your code \n",
        "#%%writefile -a {folder_location}/7.py\n",
        "# Please note that if you uncomment and run multiple times, the program will keep appending to the file.\n",
        "\n",
        "# INSERT CODE BELOW\n",
        "# 1. Plot x and y of arrival_on_time Series (index and value pair)\n",
        "\n",
        "\n",
        "# 2. Add title \"Arrival on time percentages by airline\"\n",
        "\n",
        "\n",
        "# 3. Label the y-axis as \"Arrival on time\"\n",
        "\n",
        "\n",
        "# 4. Label x-axis with arrival_on_time.index\n",
        "\n",
        "\n",
        "# 5. Uncomment the line below\n",
        "# plt.show()"
      ],
      "execution_count": null,
      "outputs": []
    },
    {
      "cell_type": "markdown",
      "metadata": {
        "id": "IDdUWk150LeU"
      },
      "source": [
        "## Part 3. Arrival airports\n",
        "#### From this part, use ```df``` as we are dealing with the whole dataset; not limited to the top 5 airlines."
      ]
    },
    {
      "cell_type": "markdown",
      "metadata": {
        "id": "NuEQqQfg0LeU"
      },
      "source": [
        "### Q8. What is the number of distinct destination airports?\n",
        "\n",
        "Hint: You may use `nunique()`"
      ]
    },
    {
      "cell_type": "markdown",
      "metadata": {
        "id": "Bp4TMoiJCj9_"
      },
      "source": [
        "#### Code"
      ]
    },
    {
      "cell_type": "code",
      "metadata": {
        "id": "qxQunBsM0LeU"
      },
      "source": [
        "# INSERT CODE BELOW\n",
        "# This is not part of grading.\n"
      ],
      "execution_count": null,
      "outputs": []
    },
    {
      "cell_type": "markdown",
      "metadata": {
        "id": "g3Lf5ZSEClh0"
      },
      "source": [
        "#### Answer"
      ]
    },
    {
      "cell_type": "code",
      "metadata": {
        "id": "b6AgljngCm9y"
      },
      "source": [
        "# Once your have verified your answer please uncomment the line below and run it, this will save your code \n",
        "#%%writefile -a {folder_location}/8.py\n",
        "# Please note that if you uncomment and run multiple times, the program will keep appending to the file.\n",
        "\n",
        "# INSERT ANSWER BELOW\n"
      ],
      "execution_count": null,
      "outputs": []
    },
    {
      "cell_type": "markdown",
      "metadata": {
        "id": "2BnR7ETi0LeW"
      },
      "source": [
        "### Q9. Which arrival airports experience most delays? List out top 5 airport codes."
      ]
    },
    {
      "cell_type": "markdown",
      "metadata": {
        "id": "bkwdgDYSC0OU"
      },
      "source": [
        "#### Code"
      ]
    },
    {
      "cell_type": "code",
      "metadata": {
        "id": "W9DZeVnq0LeX"
      },
      "source": [
        "# INSERT CODE BELOW\n",
        "# This is not part of grading.\n"
      ],
      "execution_count": null,
      "outputs": []
    },
    {
      "cell_type": "markdown",
      "metadata": {
        "id": "hOzWkwqGC15g"
      },
      "source": [
        "#### Answer"
      ]
    },
    {
      "cell_type": "code",
      "metadata": {
        "id": "KTaJ1eHOC37e"
      },
      "source": [
        "# Once your have verified your answer please uncomment the line below and run it, this will save your code \n",
        "#%%writefile -a {folder_location}/9.py\n",
        "# Please note that if you uncomment and run multiple times, the program will keep appending to the file.\n",
        "\n",
        "# INSERT ANSWER BELOW\n"
      ],
      "execution_count": null,
      "outputs": []
    },
    {
      "cell_type": "markdown",
      "metadata": {
        "id": "p0OSCC0p0LeZ"
      },
      "source": [
        "## Part 4. Further Analysis"
      ]
    },
    {
      "cell_type": "markdown",
      "metadata": {
        "id": "WFFbnAhS0LeZ"
      },
      "source": [
        "### Q10. Find out the percentage of flights that managed to arrive within 15 minutes even though the flight departed more than 15 minutes past scheduled departure time \n",
        "\n",
        "(Hint: you may use ```DEP_DEL15``` and ```ARR_DEL15``` indicators.)"
      ]
    },
    {
      "cell_type": "markdown",
      "metadata": {
        "id": "5hwXhOytDLIX"
      },
      "source": [
        "#### Code / Answer"
      ]
    },
    {
      "cell_type": "code",
      "metadata": {
        "id": "QXh5xkJO0LeZ"
      },
      "source": [
        "# Once your have verified your answer please uncomment the line below and run it, this will save your code \n",
        "#%%writefile -a {folder_location}/10.py\n",
        "# Please note that if you uncomment and run multiple times, the program will keep appending to the file.\n",
        "\n",
        "# INSERT CODE BELOW\n"
      ],
      "execution_count": null,
      "outputs": []
    },
    {
      "cell_type": "markdown",
      "metadata": {
        "id": "p0wi39tQ0Leb"
      },
      "source": [
        "### Q11. The column ```DEP_TIME``` is in the format of hhmm. Calculate the departure delays of the morning flights (before 12pm) and the departure delays of the afternoon flights (past 12pm). Round your answers to two decimal points."
      ]
    },
    {
      "cell_type": "markdown",
      "metadata": {
        "id": "DFdqS3eE0Leb"
      },
      "source": [
        "(Hint: Create ```morning_df``` if ```DEP_TIME``` is in the morning and ```afternoon_df``` if ```DEP_TIME``` is in the afternoon.)"
      ]
    },
    {
      "cell_type": "markdown",
      "metadata": {
        "id": "i8nOoMWxDeeq"
      },
      "source": [
        "#### Code"
      ]
    },
    {
      "cell_type": "code",
      "metadata": {
        "id": "BcPeLZmj0Lec"
      },
      "source": [
        "# INSERT CODE BELOW\n",
        "# This is not part of grading.\n"
      ],
      "execution_count": null,
      "outputs": []
    },
    {
      "cell_type": "markdown",
      "metadata": {
        "id": "hR0LHxa1Dfru"
      },
      "source": [
        "#### Answer"
      ]
    },
    {
      "cell_type": "code",
      "metadata": {
        "id": "KabA1pR1DhEt"
      },
      "source": [
        "# Once your have verified your answer please uncomment the line below and run it, this will save your code \n",
        "#%%writefile -a {folder_location}/11.py\n",
        "# Please note that if you uncomment and run multiple times, the program will keep appending to the file.\n",
        "\n",
        "# INSERT ANSWER BELOW\n",
        "morning_delays = \n",
        "afternoon_delays = \n",
        "print(\"The departure delay % of morning flights is \", morning_delays)\n",
        "print(\"The departure delay % of afternoon flights is \", afternoon_delays)"
      ],
      "execution_count": null,
      "outputs": []
    },
    {
      "cell_type": "markdown",
      "metadata": {
        "id": "1K80qxU_0Lee"
      },
      "source": [
        "### Q12. Which flights experienced higher departure delays, the morning flights or the afternoon flights? Write down your thoughts on what might have caused higher delays in that time period.\n",
        "\n",
        "#### Answer:"
      ]
    },
    {
      "cell_type": "code",
      "metadata": {
        "id": "-sFhrb1m0Lee"
      },
      "source": [
        "# Once your have verified your answer please uncomment the line below and run it, this will save your code \n",
        "#%%writefile -a {folder_location}/12.py\n",
        "# Please note that if you uncomment and run multiple times, the program will keep appending to the file.\n",
        "\n",
        "# INSERT ANSWER BELOW\n"
      ],
      "execution_count": null,
      "outputs": []
    },
    {
      "cell_type": "markdown",
      "metadata": {
        "id": "Sw_Cv2SRyB_1"
      },
      "source": [
        "\n",
        "## Submission\n",
        "Run this code block to download your answers."
      ]
    },
    {
      "cell_type": "code",
      "metadata": {
        "id": "pptJmIZIyBUd"
      },
      "source": [
        "from google.colab import files\n",
        "!zip -r \"{student_id}.zip\" \"{student_id}\"\n",
        "files.download(f\"{student_id}.zip\")"
      ],
      "execution_count": null,
      "outputs": []
    }
  ]
}