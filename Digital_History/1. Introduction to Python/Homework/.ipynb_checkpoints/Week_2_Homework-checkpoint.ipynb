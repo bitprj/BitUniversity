{
 "cells": [
  {
   "cell_type": "markdown",
   "metadata": {
    "colab_type": "text",
    "id": "view-in-github"
   },
   "source": [
    "<a href=\"https://colab.research.google.com/github/bitprj/DigitalHistory/blob/master/Week2-Introduction-to-Python-_-NumPy/Homework/Week_2_Homework.ipynb\" target=\"_parent\"><img src=\"https://colab.research.google.com/assets/colab-badge.svg\" alt=\"Open In Colab\"/></a>"
   ]
  },
  {
   "cell_type": "markdown",
   "metadata": {
    "colab_type": "text",
    "id": "zCRNgAGbbKAW"
   },
   "source": [
    "## <div align = \"center\">Homework 2</div>\n",
    "\n"
   ]
  },
  {
   "cell_type": "markdown",
   "metadata": {
    "colab_type": "text",
    "id": "uVvE-ylKyeh2"
   },
   "source": [
    "# <div align = \"center\">Python</div>"
   ]
  },
  {
   "cell_type": "markdown",
   "metadata": {
    "colab_type": "text",
    "id": "WG1wsQTKxuwr"
   },
   "source": [
    "Welcome to Homework 2. In this homework you will be using techniques you learned throughout Week 2. The purpose of this homework is to ensure you've mastered the basics of Python. Feel free to refer to the cheatsheet while working through these problems."
   ]
  },
  {
   "cell_type": "markdown",
   "metadata": {
    "colab_type": "text",
    "id": "Li4_EAjke2tV"
   },
   "source": [
    "## Grading \n",
    "\n",
    "Every question in this homework is worth 2 points. There are a total of 10 questions.\n",
    "\n",
    "In order to work on the questions and submit them for grading, you'll need to run the code block beloW. It will ask for your student ID number and then create a folder that will house your answers for each question. At the very end of the notebook, there is a code section that will download this folder as a zip file to your computer. This zip file will be your final submission."
   ]
  },
  {
   "cell_type": "code",
   "execution_count": null,
   "metadata": {},
   "outputs": [],
   "source": [
    "import os\n",
    "import shutil\n",
    "\n",
    "!rm -rf sample_data\n",
    "\n",
    "student_id = input('Please Enter your Student ID: ') # Enter Student ID.\n",
    "\n",
    "while len(student_id) != 9:\n",
    " student_id = int('Please Enter your Student ID: ')  \n",
    "  \n",
    "folder_location = f'{student_id}/Week_Two/Now_Try_This' # Assume Week is Two\n",
    "if not os.path.exists(folder_location):\n",
    "  os.makedirs(folder_location)\n",
    "  print('Successfully Created Directory, Lets get started')\n",
    "else:\n",
    "  print('Directory Already Exists')"
   ]
  },
  {
   "cell_type": "markdown",
   "metadata": {
    "colab_type": "text",
    "id": "JW9GwVepfBMX"
   },
   "source": [
    "## Python Questions"
   ]
  },
  {
   "cell_type": "markdown",
   "metadata": {
    "colab_type": "text",
    "id": "15L6zJGV05_C"
   },
   "source": [
    "### Q1: Create a function that, when passed two integers, calculates their product. If the product is less than 5000, return the product else return the sum."
   ]
  },
  {
   "cell_type": "code",
   "execution_count": null,
   "metadata": {
    "colab": {},
    "colab_type": "code",
    "id": "0r3G4ngt0mmz"
   },
   "outputs": [],
   "source": [
    "# Once your have verified your answer please uncomment the line below and run it, this will save your code \n",
    "#%%writefile -a {folder_location}/1.py\n",
    "# Please note that if you uncomment and press multiple times, the program will keep appending to the file.\n",
    "# So only uncomment it when you want to save your answer.\n",
    "\n",
    "# INSERT FUNCTION HERE\n",
    "\n",
    "number1 = 30\n",
    "number2 = 400\n",
    "number3 = 40\n",
    "\n",
    "answer1 = # INSERT RESULT OF PASSING IN NUMBERS 1 & 2\n",
    "print(\"The result is \", answer1)\n",
    "\n",
    "answer2 = # INSERT RESULT OF PASSING IN NUMBERS 1 & 3\n",
    "print(\"The result is \", answer2)"
   ]
  },
  {
   "cell_type": "markdown",
   "metadata": {
    "colab_type": "text",
    "id": "rMb_uEWs2cdP"
   },
   "source": [
    "### Q2: Create a function `sumNum()` that will loop through the numbers 0-19 and print the sum of the current number and the previous number."
   ]
  },
  {
   "cell_type": "code",
   "execution_count": null,
   "metadata": {
    "colab": {},
    "colab_type": "code",
    "id": "AnI_ngnG1trT"
   },
   "outputs": [],
   "source": [
    "# Once your have verified your answer please uncomment the line below and run it, this will save your code \n",
    "#%%writefile -a {folder_location}/2.py\n",
    "# Please note that if you uncomment and press multiple times, the program will keep appending to the file.\n",
    "# So only uncomment it when you want to save your answer.\n",
    "\n",
    "def sumNum():\n",
    "  # INSERT CODE HERE\n",
    "\n"
   ]
  },
  {
   "cell_type": "markdown",
   "metadata": {
    "colab_type": "text",
    "id": "m5io1xVi3i0y"
   },
   "source": [
    "### Q3: Given a string, display only the characters in odd indices."
   ]
  },
  {
   "cell_type": "code",
   "execution_count": null,
   "metadata": {
    "colab": {},
    "colab_type": "code",
    "id": "QyRFNxCv3Dkx"
   },
   "outputs": [],
   "source": [
    "# Once your have verified your answer please uncomment the line below and run it, this will save your code \n",
    "#%%writefile -a {folder_location}/3.py\n",
    "# Please note that if you uncomment and press multiple times, the program will keep appending to the file.\n",
    "# So only uncomment it when you want to save your answer.\n",
    "\n",
    "def printOddIndices(str):\n",
    "  # INSERT CODE HERE\n",
    "\n",
    "inputStr = \"python wizard\" \n",
    "\n",
    "print(\"Printing only odd index chars\")\n",
    "printOddIndices(inputStr)"
   ]
  },
  {
   "cell_type": "markdown",
   "metadata": {
    "colab_type": "text",
    "id": "5Yvrb3HbAitb"
   },
   "source": [
    "### Q4: Given two lists, create a third list by picking odd-index elements from the first list and even index elements from the second."
   ]
  },
  {
   "cell_type": "code",
   "execution_count": null,
   "metadata": {
    "colab": {},
    "colab_type": "code",
    "id": "GhQkotRx-7cx"
   },
   "outputs": [],
   "source": [
    "# Once your have verified your answer please uncomment the line below and run it, this will save your code \n",
    "#%%writefile -a {folder_location}/4.py\n",
    "# Please note that if you uncomment and press multiple times, the program will keep appending to the file.\n",
    "# So only uncomment it when you want to save your answer.\n",
    "\n",
    "listOne = [5, 3, 7, 52, 12, 78, 93]\n",
    "listTwo = [7, 17, 9, 39, 19, 94, 81]\n",
    "answer1 = list()\n",
    "\n",
    "# INSERT CODE HERE\n",
    "\n",
    "print(answer1)"
   ]
  },
  {
   "cell_type": "markdown",
   "metadata": {
    "colab_type": "text",
    "id": "C_bpCOmiCnib"
   },
   "source": [
    "### Q5: Given a list, slice it into a 3 equal chunks and reverse each list. Display both the original chunks as well as the reversed chunks.\n"
   ]
  },
  {
   "cell_type": "code",
   "execution_count": null,
   "metadata": {
    "colab": {},
    "colab_type": "code",
    "id": "EGcW9rndBj_-"
   },
   "outputs": [],
   "source": [
    "# Once your have verified your answer please uncomment the line below and run it, this will save your code \n",
    "#%%writefile -a {folder_location}/5.py\n",
    "# Please note that if you uncomment and press multiple times, the program will keep appending to the file.\n",
    "# So only uncomment it when you want to save your answer.\n",
    "\n",
    "vec = [91, 52, 84, 5, 92, 85, 27, 48, 30]\n",
    "\n",
    "# INSERT CODE HERE\n"
   ]
  },
  {
   "cell_type": "markdown",
   "metadata": {
    "colab_type": "text",
    "id": "2U3NL0TyDSlL"
   },
   "source": [
    "### Q6: Given a list, iterate it, count the occurrence of each element and then create a dictionary to display the count of each element.\n",
    "\n",
    "EXPECTED OUTPUT:\n",
    "\n",
    "Original list  [11, 45, 8, 11, 23, 45, 23, 45, 89]\n",
    "\n",
    "Count of each item   {11: 2, 45: 3, 8: 1, 23: 2, 89: 1}"
   ]
  },
  {
   "cell_type": "code",
   "execution_count": null,
   "metadata": {
    "colab": {},
    "colab_type": "code",
    "id": "UO7cBDAkCv1i"
   },
   "outputs": [],
   "source": [
    "# Once your have verified your answer please uncomment the line below and run it, this will save your code \n",
    "#%%writefile -a {folder_location}/6.py\n",
    "# Please note that if you uncomment and press multiple times, the program will keep appending to the file.\n",
    "# So only uncomment it when you want to save your answer.\n",
    "\n",
    "vec = [11, 45, 8, 11, 23, 45, 23, 45, 89]\n",
    "print(\"Original list \", vec)\n",
    "\n",
    "answer1 = dict()\n",
    "\n",
    "# INSERT CODE HERE\n",
    "\n",
    "\n",
    "  \n",
    "print(\"Count of each item  \",answer1)"
   ]
  },
  {
   "cell_type": "markdown",
   "metadata": {
    "colab_type": "text",
    "id": "W9XZAI4nDtcn"
   },
   "source": [
    "### Q7: Print this pattern, using a loop.\n",
    "1 \n",
    "\n",
    "1 2 \n",
    "\n",
    "1 2 3 \n",
    "\n",
    "1 2 3 4 \n",
    "\n",
    "1 2 3 4 5 \n",
    "\n",
    "1 2 3 4 5 6 \n",
    "\n",
    "1 2 3 4 5 6 7 \n",
    "\n",
    "1 2 3 4 5 6 7 8 \n",
    "\n",
    "1 2 3 4 5 6 7 8 9 \n",
    "\n",
    "1 2 3 4 5 6 7 8 9 10 "
   ]
  },
  {
   "cell_type": "code",
   "execution_count": null,
   "metadata": {
    "colab": {},
    "colab_type": "code",
    "id": "L2tN4Np7Dkkf"
   },
   "outputs": [],
   "source": [
    "# Once your have verified your answer please uncomment the line below and run it, this will save your code \n",
    "#%%writefile -a {folder_location}/7.py\n",
    "# Please note that if you uncomment and press multiple times, the program will keep appending to the file.\n",
    "# So only uncomment it when you want to save your answer.\n",
    "\n",
    "# INSERT CODE HERE"
   ]
  },
  {
   "cell_type": "markdown",
   "metadata": {
    "colab_type": "text",
    "id": "t_JIizYnENBV"
   },
   "source": [
    "### Q8: Given a number, count the total number of digits and display it. HINT: A loop and the `//` operator will be very useful here."
   ]
  },
  {
   "cell_type": "code",
   "execution_count": null,
   "metadata": {
    "colab": {},
    "colab_type": "code",
    "id": "xnHeu3JmEHcH"
   },
   "outputs": [],
   "source": [
    "# Once your have verified your answer please uncomment the line below and run it, this will save your code \n",
    "#%%writefile -a {folder_location}/8.py\n",
    "# Please note that if you uncomment and press multiple times, the program will keep appending to the file.\n",
    "# So only uncomment it when you want to save your answer.\n",
    "\n",
    "num = 123456\n",
    "answer1 = 0\n",
    "\n",
    "# INSERT CODE HERE\n",
    "\n",
    "print(\"Total digits in 123456 are: \",answer1)"
   ]
  },
  {
   "cell_type": "markdown",
   "metadata": {
    "colab_type": "text",
    "id": "lBl3EGuZErbG"
   },
   "source": [
    "### Q9: Given two strings, create a new string by injecting the second string into the middle of the first one.\n",
    "\n",
    "EXPECTED OUTPUT:\n",
    "\n",
    "Original Strings are:  Shila angr\n",
    "\n",
    "After appending new string in middle:  Shangrila"
   ]
  },
  {
   "cell_type": "code",
   "execution_count": null,
   "metadata": {
    "colab": {},
    "colab_type": "code",
    "id": "YNXmyGwXEcl-"
   },
   "outputs": [],
   "source": [
    "# Once your have verified your answer please uncomment the line below and run it, this will save your code \n",
    "#%%writefile -a {folder_location}/9.py\n",
    "# Please note that if you uncomment and press multiple times, the program will keep appending to the file.\n",
    "# So only uncomment it when you want to save your answer.\n",
    "\n",
    "def appendMiddle(s1, s2):\n",
    "  # INSERT CODE HERE\n",
    "  \n",
    "answer1 = appendMiddle(\"Shila\", \"angr\")\n",
    "print(answer1)"
   ]
  },
  {
   "cell_type": "markdown",
   "metadata": {
    "colab_type": "text",
    "id": "dJZzZVv-F0K0"
   },
   "source": [
    "### Q10: Rearrange a provided string so that lowercase letters appear first. HINT: The [.join()](https://www.w3schools.com/python/ref_string_join.asp) method of a string could be very useful here.\n",
    "\n",
    "EXAMPLE INPUT: \"SpOnGeBoB\"\n",
    "\n",
    "EXPECTED OUTPUT: \"pneoSOGBB\""
   ]
  },
  {
   "cell_type": "code",
   "execution_count": null,
   "metadata": {
    "colab": {},
    "colab_type": "code",
    "id": "gF3N1DSXFm8C"
   },
   "outputs": [],
   "source": [
    "# Once your have verified your answer please uncomment the line below and run it, this will save your code \n",
    "#%%writefile -a {folder_location}/10.py\n",
    "# Please note that if you uncomment and press multiple times, the program will keep appending to the file.\n",
    "# So only uncomment it when you want to save your answer.\n",
    "\n",
    "string_one = \"SpOnGeBoB\"\n",
    "answer1 = ''\n",
    "\n",
    "# INSERT CODE HERE\n",
    "\n",
    "print(answer1)"
   ]
  },
  {
   "cell_type": "markdown",
   "metadata": {},
   "source": [
    "## Submission\n",
    "Run this code block to download your answers."
   ]
  },
  {
   "cell_type": "code",
   "execution_count": null,
   "metadata": {},
   "outputs": [],
   "source": [
    "from google.colab import files\n",
    "!zip -r \"{student_id}.zip\" \"{student_id}\"\n",
    "files.download(f\"{student_id}.zip\")"
   ]
  }
 ],
 "metadata": {
  "colab": {
   "collapsed_sections": [],
   "include_colab_link": true,
   "name": "Week 2 Homework.ipynb",
   "provenance": []
  },
  "kernelspec": {
   "display_name": "Python 3",
   "language": "python",
   "name": "python3"
  },
  "language_info": {
   "codemirror_mode": {
    "name": "ipython",
    "version": 3
   },
   "file_extension": ".py",
   "mimetype": "text/x-python",
   "name": "python",
   "nbconvert_exporter": "python",
   "pygments_lexer": "ipython3",
   "version": "3.7.0"
  }
 },
 "nbformat": 4,
 "nbformat_minor": 4
}
