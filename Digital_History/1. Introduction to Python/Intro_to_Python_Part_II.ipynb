{
  "nbformat": 4,
  "nbformat_minor": 0,
  "metadata": {
    "colab": {
      "name": "Intro to Python Part II.ipynb",
      "provenance": [],
      "toc_visible": true,
      "include_colab_link": true
    },
    "kernelspec": {
      "name": "python3",
      "display_name": "Python 3"
    }
  },
  "cells": [
    {
      "cell_type": "markdown",
      "metadata": {
        "id": "view-in-github",
        "colab_type": "text"
      },
      "source": [
        "<a href=\"https://colab.research.google.com/github/bitprj/BitUniversity/blob/master/Digital_History/Week2-Introduction-to-Python-_-NumPy/Intro_to_Python_Part_II.ipynb\" target=\"_parent\"><img src=\"https://colab.research.google.com/assets/colab-badge.svg\" alt=\"Open In Colab\"/></a>"
      ]
    },
    {
      "cell_type": "markdown",
      "metadata": {
        "id": "Li4_EAjke2tV"
      },
      "source": [
        "## Grading \n",
        "\n",
        "In order to work on the questions and submit them for grading, you'll need to run the code block below. It will ask for your student ID number and then create a folder that will house your answers for each question. At the very end of the notebook, there is a code section that will download this folder as a zip file to your computer. This zip file will be your final submission."
      ]
    },
    {
      "cell_type": "code",
      "metadata": {
        "id": "VjG07ifFtr3u"
      },
      "source": [
        "import os\n",
        "import shutil\n",
        "\n",
        "!rm -rf sample_data\n",
        "\n",
        "student_id = input('Please Enter your Student ID: ') # Enter Student ID.\n",
        "\n",
        "while len(student_id) != 9:\n",
        " student_id = int('Please Enter your Student ID: ')  \n",
        "  \n",
        "folder_location = f'{student_id}/Week_One/Intro_to_Python_II' \n",
        "if not os.path.exists(folder_location):\n",
        "  os.makedirs(folder_location)\n",
        "  print('Successfully Created Directory, Lets get started')\n",
        "else:\n",
        "  print('Directory Already Exists')"
      ],
      "execution_count": null,
      "outputs": []
    },
    {
      "cell_type": "markdown",
      "metadata": {
        "id": "qDEeD8_NBbSc"
      },
      "source": [
        "## Tuples\n",
        "\n",
        "Tuples are very similar to lists with one key difference. They are immutable. In other words, once you create a tuple, you can never modify its contents."
      ]
    },
    {
      "cell_type": "markdown",
      "metadata": {
        "id": "WDYmdzPj935W"
      },
      "source": [
        "### Constructing Tuples\n",
        "\n",
        "You can construct a tuple almost exactly like a list. Only, you would surround the elements with parentheses `( )` rather than square brackets `[ ]`."
      ]
    },
    {
      "cell_type": "code",
      "metadata": {
        "id": "PI539KXHBbSe"
      },
      "source": [
        "# Create a tuple\n",
        "t = (1,2,3)"
      ],
      "execution_count": null,
      "outputs": []
    },
    {
      "cell_type": "markdown",
      "metadata": {
        "id": "x2cHknnxcGOy"
      },
      "source": [
        "Trying to change a tuple afterwards won't work."
      ]
    },
    {
      "cell_type": "code",
      "metadata": {
        "id": "_75GFI-0cMkF"
      },
      "source": [
        "# Tuples are immutable\n",
        "t[0] = 4"
      ],
      "execution_count": null,
      "outputs": []
    },
    {
      "cell_type": "markdown",
      "metadata": {
        "id": "St0HF6LOaxMl"
      },
      "source": [
        "You can use `len()` on tuples just like with strings or lists."
      ]
    },
    {
      "cell_type": "code",
      "metadata": {
        "id": "dU_pWYhQBbSi"
      },
      "source": [
        "len(t)"
      ],
      "execution_count": null,
      "outputs": []
    },
    {
      "cell_type": "markdown",
      "metadata": {
        "id": "rN_pdVRBa4bz"
      },
      "source": [
        "Tuples can also hold data of different types."
      ]
    },
    {
      "cell_type": "code",
      "metadata": {
        "id": "QtnrN6_PBbSm"
      },
      "source": [
        "\n",
        "t = ('one',2,'f',3.14)\n",
        "\n",
        "# Show\n",
        "t"
      ],
      "execution_count": null,
      "outputs": []
    },
    {
      "cell_type": "markdown",
      "metadata": {
        "id": "fJQXx7vgbByc"
      },
      "source": [
        "You can also index and slice a tuple just like a list."
      ]
    },
    {
      "cell_type": "code",
      "metadata": {
        "id": "xyu4CGwZBbSq"
      },
      "source": [
        "# Indexing\n",
        "print(t[0])\n",
        "\n",
        "# Slicing\n",
        "print(t[:2])"
      ],
      "execution_count": null,
      "outputs": []
    },
    {
      "cell_type": "markdown",
      "metadata": {
        "id": "DBLmUGHfBbSw"
      },
      "source": [
        "### Basic Tuple Methods\n",
        "\n",
        "Tuples only have a few methods to work with. Two of the most useful are `index()` and `count()`."
      ]
    },
    {
      "cell_type": "code",
      "metadata": {
        "id": "9iAxkxEfBbSx"
      },
      "source": [
        "# Use .index to enter a value and return the index\n",
        "t.index('one')"
      ],
      "execution_count": null,
      "outputs": []
    },
    {
      "cell_type": "code",
      "metadata": {
        "id": "YxcUO8JhBbS2"
      },
      "source": [
        "# Use .count to count the number of times a value appears\n",
        "t.count('one')"
      ],
      "execution_count": null,
      "outputs": []
    },
    {
      "cell_type": "markdown",
      "metadata": {
        "id": "rbJsQW4vBbTD"
      },
      "source": [
        "### When to Use Tuples\n",
        "\n",
        "While it might seem like tuples are just inferior versions of lists, they are very useful in certain circumstances. For instance, if you have a set of data that you don't ever want modified, even intentionally, storing it in a tuple is the best approach."
      ]
    },
    {
      "cell_type": "markdown",
      "metadata": {
        "id": "GavPLpw0GjP_"
      },
      "source": [
        "### 4.0 Now Try This"
      ]
    },
    {
      "cell_type": "markdown",
      "metadata": {
        "id": "2XImAqwcZbaH"
      },
      "source": [
        "Create a tuple."
      ]
    },
    {
      "cell_type": "code",
      "metadata": {
        "id": "JNKxQlgfeIQx"
      },
      "source": [
        "# Once your have verified your answer please uncomment the line below and run it, this will save your code \n",
        "#%%writefile -a {folder_location}/4.py\n",
        "# Please note that if you uncomment and press multiple times, the program will keep appending to the file. \n",
        "# So only uncomment it when you want to save your answer.\n",
        "\n",
        "answer1 = #INSERT CODE HERE\n",
        "print(type(answer1))"
      ],
      "execution_count": null,
      "outputs": []
    },
    {
      "cell_type": "markdown",
      "metadata": {
        "id": "Gml2Q3rPOzP6"
      },
      "source": [
        "## Dictionaries\n",
        "\n",
        "So far, we've only talked about sequences. To switch gears, dictionaries are an example of a **mapping**. Unlike sequences, which store data based on order, dictionaries store data in the form of **key-value pairs**. This method is when you assign a unique ID to a data value, and make it so that you can only access that data by using its ID. \n",
        "\n",
        "You can think of a Python dictionary to be like an actual dictionary. The words are the keys, and their definitions are the values."
      ]
    },
    {
      "cell_type": "markdown",
      "metadata": {
        "id": "j5v_alrd8KaO"
      },
      "source": [
        "### Constructing a Dictionary\n",
        "Dictionaries are built a little differently than tuples or lists. They generally look like this:\n",
        "\n",
        "`{key1:value1,key2:value2,...}`\n",
        "\n",
        "They are surrounded by curly braces `{ }`, each key is connected to its value by a colon `:`, and every pair is separated by commas.\n"
      ]
    },
    {
      "cell_type": "code",
      "metadata": {
        "id": "Ibt_zazrOzP7"
      },
      "source": [
        "# Make a dictionary\n",
        "my_dict = {'key1':'value1','key2':'value2'}"
      ],
      "execution_count": null,
      "outputs": []
    },
    {
      "cell_type": "code",
      "metadata": {
        "id": "UcpULUI4OzQC"
      },
      "source": [
        "# Get values by using their key\n",
        "my_dict['key2']"
      ],
      "execution_count": null,
      "outputs": []
    },
    {
      "cell_type": "markdown",
      "metadata": {
        "id": "17-ijFwFOzQI"
      },
      "source": [
        "It's important to note that dictionaries are very flexible in the data types that they can hold. For example:"
      ]
    },
    {
      "cell_type": "code",
      "metadata": {
        "id": "j7ZWMM7oOzQJ"
      },
      "source": [
        "# This dictionary holds an integer and lists. \n",
        "my_dict = {'key1':123,'key2':[12,23,33],'key3':['item0','item1','item2']}"
      ],
      "execution_count": null,
      "outputs": []
    },
    {
      "cell_type": "code",
      "metadata": {
        "id": "57kiUxF2OzQO"
      },
      "source": [
        "# Let's call the list of strings using its key\n",
        "my_dict['key3']"
      ],
      "execution_count": null,
      "outputs": []
    },
    {
      "cell_type": "markdown",
      "metadata": {
        "id": "Mnd1Igr7gPgd"
      },
      "source": [
        "Since one of the values is a list (`my_dict['key3'] = ['item0','item1','item2']`), we can get the individual items of this list by multiple indexing. "
      ]
    },
    {
      "cell_type": "code",
      "metadata": {
        "id": "f0T3aDArOzQT"
      },
      "source": [
        "# Use the key to get the list. Then use index '0' to get the first value of the list. \n",
        "my_dict['key3'][0]"
      ],
      "execution_count": null,
      "outputs": []
    },
    {
      "cell_type": "markdown",
      "metadata": {
        "id": "VfbPr4MpOzQf"
      },
      "source": [
        "We can change the values of a key as well. For instance:"
      ]
    },
    {
      "cell_type": "code",
      "metadata": {
        "id": "5P_IW7-wOzQh"
      },
      "source": [
        "my_dict['key1']"
      ],
      "execution_count": null,
      "outputs": []
    },
    {
      "cell_type": "code",
      "metadata": {
        "id": "_JE2n8BLOzQn"
      },
      "source": [
        "# Subtract 123 from the value\n",
        "my_dict['key1'] = my_dict['key1'] - 123"
      ],
      "execution_count": null,
      "outputs": []
    },
    {
      "cell_type": "code",
      "metadata": {
        "id": "UZQnyDq3OzQq"
      },
      "source": [
        "#Check\n",
        "my_dict['key1']"
      ],
      "execution_count": null,
      "outputs": []
    },
    {
      "cell_type": "markdown",
      "metadata": {
        "id": "Ym1tQXryOzQ0"
      },
      "source": [
        "It is possible to create an empty dictionary and add the key-value pairs later on. \n",
        "\n",
        "To create the key-value pairs, use the following format: `dictionary['key'] = 'value'`\n",
        "\n"
      ]
    },
    {
      "cell_type": "code",
      "metadata": {
        "id": "XYTOL_t6OzQ0"
      },
      "source": [
        "# Create a new dictionary\n",
        "d = {}"
      ],
      "execution_count": null,
      "outputs": []
    },
    {
      "cell_type": "code",
      "metadata": {
        "id": "6cxK3dXhOzQ4"
      },
      "source": [
        "# Create a new key-value pair\n",
        "d['animal'] = 'Dog'"
      ],
      "execution_count": null,
      "outputs": []
    },
    {
      "cell_type": "code",
      "metadata": {
        "id": "LIICwuVGOzQ_"
      },
      "source": [
        "#Show\n",
        "d"
      ],
      "execution_count": null,
      "outputs": []
    },
    {
      "cell_type": "markdown",
      "metadata": {
        "id": "lQjKGTqyOzRD"
      },
      "source": [
        "### Nesting with Dictionaries\n",
        "\n",
        "Dictionaries can hold other dictionaries within itself, so a key could be paired with a another key-value pair. "
      ]
    },
    {
      "cell_type": "code",
      "metadata": {
        "id": "7ZsdzY1olLqN"
      },
      "source": [
        "# Dictionary nested inside a dictionary\n",
        "d1 = {'key1':{'nestkey':'value'}}"
      ],
      "execution_count": null,
      "outputs": []
    },
    {
      "cell_type": "code",
      "metadata": {
        "id": "SqlnsrceOzRD"
      },
      "source": [
        "# Dictionary nested inside a dictionary nested inside a dictionary\n",
        "d2 = {'key1':{'nestkey':{'subnestkey':'value'}}}"
      ],
      "execution_count": null,
      "outputs": []
    },
    {
      "cell_type": "markdown",
      "metadata": {
        "id": "S9j8ZHcvOzRG"
      },
      "source": [
        "Seems complicated, but let's see how we can `'value'`:"
      ]
    },
    {
      "cell_type": "code",
      "metadata": {
        "id": "vbNLXS9COzRH"
      },
      "source": [
        "# Keep calling the keys\n",
        "d1['key1']['nestkey']"
      ],
      "execution_count": null,
      "outputs": []
    },
    {
      "cell_type": "code",
      "metadata": {
        "id": "afzVwmaDlv9K"
      },
      "source": [
        "# Keep calling the keys\n",
        "d2['key1']['nestkey']['subnestkey']"
      ],
      "execution_count": null,
      "outputs": []
    },
    {
      "cell_type": "markdown",
      "metadata": {
        "id": "aToEjqLPOzRK"
      },
      "source": [
        "### Dictionary Methods\n",
        "\n",
        "There are a few methods we can use on a dictionary. Let's get a quick introduction to them:"
      ]
    },
    {
      "cell_type": "code",
      "metadata": {
        "id": "NizEqIn3OzRK"
      },
      "source": [
        "# Create a typical dictionary\n",
        "d = {'key1':1,'key2':2,'key3':3}"
      ],
      "execution_count": null,
      "outputs": []
    },
    {
      "cell_type": "code",
      "metadata": {
        "id": "F_d4EiF0OzRN"
      },
      "source": [
        "# Method to return a list of all keys \n",
        "d.keys()"
      ],
      "execution_count": null,
      "outputs": []
    },
    {
      "cell_type": "code",
      "metadata": {
        "id": "vXhVyVd3OzRP"
      },
      "source": [
        "# Method to return a list of all values\n",
        "d.values()"
      ],
      "execution_count": null,
      "outputs": []
    },
    {
      "cell_type": "code",
      "metadata": {
        "id": "JPkBFpoGOzRR"
      },
      "source": [
        "# Method to return a list of tuples of all key-value pairs\n",
        "d.items()"
      ],
      "execution_count": null,
      "outputs": []
    },
    {
      "cell_type": "markdown",
      "metadata": {
        "id": "jljY3mE2G-oX"
      },
      "source": [
        "### 5.0 Now Try This\n"
      ]
    },
    {
      "cell_type": "markdown",
      "metadata": {
        "id": "MAp2fG9nZbZ6"
      },
      "source": [
        "Using keys and indexing, grab the 'hello' from the following dictionaries:\n"
      ]
    },
    {
      "cell_type": "code",
      "metadata": {
        "id": "5nfaiz0yZbZ6",
        "colab": {
          "base_uri": "https://localhost:8080/"
        },
        "outputId": "829f88ea-17cd-413e-8b22-53f4b84d6c7f"
      },
      "source": [
        "# Once your have verified your answer please uncomment the line below and run it, this will save your code \n",
        "#%%writefile -a {folder_location}/5.py\n",
        "# Please note that if you uncomment and press multiple times, the program will keep appending to the file.\n",
        "# So only uncomment it when you want to save your answer.\n",
        "\n",
        "d = {'simple_key':'hello'}\n",
        "\n",
        "# Grab 'hello'\n",
        "answer1 = # INSERT CODE HERE\n",
        "print(answer1)\n",
        "\n",
        "# Expected Output: hello"
      ],
      "execution_count": null,
      "outputs": [
        {
          "output_type": "stream",
          "text": [
            "hello\n"
          ],
          "name": "stdout"
        }
      ]
    },
    {
      "cell_type": "markdown",
      "metadata": {
        "id": "Vj5GFIHVmlqd"
      },
      "source": [
        "Using keys and indexing, grab the 'hello' from the following dictionaries:"
      ]
    },
    {
      "cell_type": "code",
      "metadata": {
        "id": "2ddxOLcqZbZ9"
      },
      "source": [
        "# Once your have verified your answer please uncomment the line below and run it, this will save your code \n",
        "#%%writefile -a {folder_location}/5.py\n",
        "# Please note that if you uncomment and press multiple times, the program will keep appending to the file.\n",
        "# So only uncomment it when you want to save your answer.\n",
        "\n",
        "d = {'k1':{'k2':'hello'}}\n",
        "\n",
        "# Grab 'hello'\n",
        "answer2 = #INSERT CODE HERE\n",
        "print(answer2)\n",
        "\n",
        "# Expected Output: hello"
      ],
      "execution_count": null,
      "outputs": []
    },
    {
      "cell_type": "markdown",
      "metadata": {
        "id": "sjNXmAHxmnHF"
      },
      "source": [
        "Using keys and indexing, grab the 'hello' from the following dictionaries:"
      ]
    },
    {
      "cell_type": "code",
      "metadata": {
        "id": "rJlGHUFTZbaA"
      },
      "source": [
        "# Once your have verified your answer please uncomment the line below and run it, this will save your code \n",
        "#%%writefile -a {folder_location}/5.py\n",
        "# Please note that if you uncomment and press multiple times, the program will keep appending to the file.\n",
        "# So only uncomment it when you want to save your answer.\n",
        "\n",
        "# Getting a little tricker\n",
        "d = {'k1':[{'nest_key':['this is deep',['hello']]}]}\n",
        "\n",
        "#Grab hello\n",
        "answer3 = #INSERT CODE HERE\n",
        "print(answer3)\n",
        "\n",
        "# Expected Output: hello"
      ],
      "execution_count": null,
      "outputs": []
    },
    {
      "cell_type": "markdown",
      "metadata": {
        "id": "rkvrimLymoPx"
      },
      "source": [
        "Using keys and indexing, grab the 'hello' from the following dictionaries:"
      ]
    },
    {
      "cell_type": "code",
      "metadata": {
        "id": "vjadbMt3ZbaE"
      },
      "source": [
        "# Once your have verified your answer please uncomment the line below and run it, this will save your code \n",
        "#%%writefile -a {folder_location}/5.py\n",
        "# Please note that if you uncomment and press multiple times, the program will keep appending to the file.\n",
        "# So only uncomment it when you want to save your answer.\n",
        "\n",
        "# This will be hard and annoying!\n",
        "d = {'k1':[1,2,{'k2':['this is tricky',{'tough':[1,2,['hello']]}]}]}\n",
        "\n",
        "# Grab hello\n",
        "answer4 = #INSERT CODE HERE\n",
        "print(answer4)\n",
        "\n",
        "# Expected Output: hello"
      ],
      "execution_count": null,
      "outputs": []
    },
    {
      "cell_type": "markdown",
      "metadata": {
        "id": "9xEU6BTkJNHU"
      },
      "source": [
        "## Loops\n",
        "\n",
        "There will be situations where you would like Python to perform a task multiple times, or until a certain condition is met. In this case, instead of rewriting the same line(s) over and over again, you can just create a loop to make the process automatic.\n",
        "\n",
        "Let's go over some examples. We'll primarily be using two types of loops, `for` loops and `while` loops. We'll be looking at `for` loops first.\n",
        "\n"
      ]
    },
    {
      "cell_type": "markdown",
      "metadata": {
        "id": "aXeuc78ii5IX"
      },
      "source": [
        "\n",
        "### `for` Loops"
      ]
    },
    {
      "cell_type": "code",
      "metadata": {
        "id": "T2ec9kuscPDA"
      },
      "source": [
        "my_list = [1,2,3,4,5,6,7,8,9,10]"
      ],
      "execution_count": null,
      "outputs": []
    },
    {
      "cell_type": "markdown",
      "metadata": {
        "id": "5ufnWSn2cfIO"
      },
      "source": [
        "Let's say we wanted to individually print out each element in this list. We could go the straightforward way and have 10 `print()` statements for each element in that list, but not only is this tedious, it's unnecessary. Here's how we can do this with a `for` loop:"
      ]
    },
    {
      "cell_type": "code",
      "metadata": {
        "id": "oHSEk0IZcyrX"
      },
      "source": [
        "for item in my_list:\n",
        "  print(item)"
      ],
      "execution_count": null,
      "outputs": []
    },
    {
      "cell_type": "markdown",
      "metadata": {
        "id": "2BvgsMM_c3fP"
      },
      "source": [
        "Let's break down the format of a `for` loop. You can think of why it's called a \"for\" loop like this - every time you use one, you're telling Python:\n",
        "\n",
        "\"`For` every element in this **iterable**, do this\".\n",
        "\n",
        "In this scenario, the iterable is `my_list` and the action is printing. \n",
        "\n",
        "You'll also notice that we referred to each element as an `item`, and that didn't cause any errors. This would be unusual, as we didn't define `item` as a variable previously. In Python; however, you're allowed to use *temporary* variables in `for` loops. The variable called `item` gets created and then deleted in the `for` loop above. This means, you can freely use `item` like any other variable within the `for` loop, but not outside of it. \n",
        "\n",
        "Here are a couple more examples:"
      ]
    },
    {
      "cell_type": "code",
      "metadata": {
        "id": "eN2-DIdKfng8"
      },
      "source": [
        "# Prints out the sum of all numbers in my_list (i.e 1+2+3+4+...)\n",
        "my_list = [1,2,3,4,5,6,7,8,9,10]\n",
        "total = 0\n",
        "\n",
        "for num in my_list:\n",
        "  total = total + num\n",
        "\n",
        "print(total)"
      ],
      "execution_count": null,
      "outputs": []
    },
    {
      "cell_type": "code",
      "metadata": {
        "id": "m9fVMSvagHLd"
      },
      "source": [
        "# Prints out all odd numbers in the list\n",
        "my_list = [1,2,3,4,5,6,7,8,9,10]\n",
        "\n",
        "for item in my_list:\n",
        "  if item % 2 != 0: # If the number can't be evenly divided by 2\n",
        "    print(item)"
      ],
      "execution_count": null,
      "outputs": []
    },
    {
      "cell_type": "markdown",
      "metadata": {
        "id": "25mHlpkbhibO"
      },
      "source": [
        "### `while` Loops\n",
        "\n",
        "`while` loops are useful when it makes more sense to repeat an action until a certain condition is met, rather than **iterating** through a sequence.\n",
        "\n",
        "Here's an example:"
      ]
    },
    {
      "cell_type": "code",
      "metadata": {
        "id": "J9z4rhiFjn0E",
        "colab": {
          "base_uri": "https://localhost:8080/"
        },
        "outputId": "4476b762-4f37-4708-ece6-126d48e812b2"
      },
      "source": [
        "# Prints out \"Hi!\" UNTIL count is assigned to 0\n",
        "count = 10\n",
        "\n",
        "while count != 0:\n",
        "  print(\"Hi!\")\n",
        "  count = count - 1"
      ],
      "execution_count": null,
      "outputs": [
        {
          "output_type": "stream",
          "text": [
            "Hi!\n",
            "Hi!\n",
            "Hi!\n",
            "Hi!\n",
            "Hi!\n",
            "Hi!\n",
            "Hi!\n",
            "Hi!\n",
            "Hi!\n",
            "Hi!\n"
          ],
          "name": "stdout"
        }
      ]
    },
    {
      "cell_type": "markdown",
      "metadata": {
        "id": "6ruhh_i2j6IX"
      },
      "source": [
        "The format for `while` loops goes as follows:\n",
        "\n",
        "\"While this condition is not true yet, do this.\"\n",
        "\n",
        "In the above case, we wanted to print \"Hi!\" until `count` was set to 0. Let's see one more example:"
      ]
    },
    {
      "cell_type": "code",
      "metadata": {
        "id": "1DLu1nush55P",
        "colab": {
          "base_uri": "https://localhost:8080/"
        },
        "outputId": "b4765c74-c813-4272-f5d4-7ff2729853b0"
      },
      "source": [
        "# Creates an empty list and appends values to that list until count reaches 0\n",
        "count = 10\n",
        "\n",
        "my_list = list() # list() creates an empty list\n",
        "\n",
        "while count != 0:\n",
        "  my_list.append(count)\n",
        "  count = count - 1\n",
        "\n",
        "my_list"
      ],
      "execution_count": null,
      "outputs": [
        {
          "output_type": "execute_result",
          "data": {
            "text/plain": [
              "[10, 9, 8, 7, 6, 5, 4, 3, 2, 1]"
            ]
          },
          "metadata": {
            "tags": []
          },
          "execution_count": 2
        }
      ]
    },
    {
      "cell_type": "markdown",
      "metadata": {
        "id": "GReHWEuFidhv"
      },
      "source": [
        "### Loops are Interchangeable\n",
        "Even though `for` loops and `while` loops work slightly differently, they are equally capable. This means that anything you can do with a `for` loop you can do with a `while` loop, and vice versa.\n",
        "\n",
        "To illustrate this, let's see how we can \"convert\" one of the above `for` loop examples to use a while loop instead:"
      ]
    },
    {
      "cell_type": "code",
      "metadata": {
        "id": "AH9zbwuqjvOE",
        "colab": {
          "base_uri": "https://localhost:8080/"
        },
        "outputId": "9fa2f2b4-2191-4d50-821a-1e5a14b3cb70"
      },
      "source": [
        "# Prints out the sum of all numbers in my_list (i.e 1+2+3+4+...) using WHILE loops\n",
        "my_list = [1,2,3,4,5,6,7,8,9,10]\n",
        "total = 0\n",
        "num = 0\n",
        "count = len(my_list)\n",
        "\n",
        "while count != 0:\n",
        "  total = total + my_list[num]\n",
        "  num = num + 1\n",
        "  count = count - 1\n",
        "\n",
        "print(total)"
      ],
      "execution_count": null,
      "outputs": [
        {
          "output_type": "stream",
          "text": [
            "55\n"
          ],
          "name": "stdout"
        }
      ]
    },
    {
      "cell_type": "markdown",
      "metadata": {
        "id": "tWYnWF3NkQaa"
      },
      "source": [
        "Even though we've shown we can do this example with a `while` loop instead, you'll notice that the code is a little harder to understand, as well as requires more lines.\n",
        "\n",
        "This shows that while you can use any loop type, there's usually a type that's best suited for the specific task. As such, you should try to look closely at a problem to determine which type of loop would be most convenient to use."
      ]
    },
    {
      "cell_type": "markdown",
      "metadata": {
        "id": "rh7wkKjSh7P0"
      },
      "source": [
        "### `break`\n",
        "\n",
        "Sometimes you want to want Python to end a loop early, usually if you meet some type of condition. In this case, we use what's called a `break` statement.\n",
        "\n",
        "Here's a concrete example:"
      ]
    },
    {
      "cell_type": "code",
      "metadata": {
        "id": "4hAGqSxBiMj9",
        "colab": {
          "base_uri": "https://localhost:8080/"
        },
        "outputId": "5edda742-6417-4b7b-bbd0-020c32308180"
      },
      "source": [
        "# Prints out each element until it gets to 3\n",
        "my_list = [1,2,3,4,5]\n",
        "\n",
        "for item in my_list:\n",
        "  if item == 3:\n",
        "    break\n",
        "  print(item)"
      ],
      "execution_count": null,
      "outputs": [
        {
          "output_type": "stream",
          "text": [
            "1\n",
            "2\n"
          ],
          "name": "stdout"
        }
      ]
    },
    {
      "cell_type": "markdown",
      "metadata": {
        "id": "EuYoBvX5ijMV"
      },
      "source": [
        "### `continue`\n",
        "\n",
        "There will also be cases where you would want Python to ignore a certain element, for whatever reason, and move on to the next element. To do this, we can use a `continue` statement.\n",
        "\n",
        "We can just modify the example above slightly to show this:"
      ]
    },
    {
      "cell_type": "code",
      "metadata": {
        "id": "Pl4fZ8kZi-Z5",
        "colab": {
          "base_uri": "https://localhost:8080/"
        },
        "outputId": "0000ebd1-8a16-4bda-fa41-c60f09a924e8"
      },
      "source": [
        "# Prints out every element EXCEPT 3\n",
        "my_list = [1,2,3,4,5]\n",
        "\n",
        "for item in my_list:\n",
        "  if item == 3:\n",
        "    continue\n",
        "  print(item)"
      ],
      "execution_count": null,
      "outputs": [
        {
          "output_type": "stream",
          "text": [
            "1\n",
            "2\n",
            "4\n",
            "5\n"
          ],
          "name": "stdout"
        }
      ]
    },
    {
      "cell_type": "markdown",
      "metadata": {
        "id": "NiIW9UA6lX_5"
      },
      "source": [
        "### 6.0 Now Try This"
      ]
    },
    {
      "cell_type": "markdown",
      "metadata": {
        "id": "L1pjwa3fl8Pb"
      },
      "source": [
        "1.) First create a list called `alphabet` and fill it with all the letters of the English alphabet (i.e `['a','b','c',...]`). Then, using either `for` or `while` loops:\n",
        "\n",
        "\n",
        "*   Print out every 4th letter starting from `a`. In other words, the first letter printed should be `a` then `d`.\n",
        "*   Skip `l` (that is, don't print `l`)\n",
        "*   Exit the loop once you've printed the 16th letter\n",
        "\n",
        "**HINT**: You know how to use step-size when walking through lists. Example: `my_list[0::2]` prints every other element in `my_list`. Additionally, you've already seen which statement allows you to *skip* a step in a loop and which one allows to you *exit* out of a loop once a certain condition is met.\n"
      ]
    },
    {
      "cell_type": "code",
      "metadata": {
        "id": "mz3lefhym84Y"
      },
      "source": [
        "# Once your have verified your answer please uncomment the line below and run it, this will save your code \n",
        "#%%writefile -a {folder_location}/6.py\n",
        "# Please note that if you uncomment and press multiple times, the program will keep appending to the file.\n",
        "# So only uncomment it when you want to save your answer.\n",
        "\n",
        "#INSERT CODE HERE"
      ],
      "execution_count": null,
      "outputs": []
    },
    {
      "cell_type": "markdown",
      "metadata": {
        "id": "O08R443Bsd7u"
      },
      "source": [
        "**EXPECTED OUTPUT**\r\n",
        "\r\n",
        "`d`\r\n",
        "\r\n",
        "`h`\r\n",
        "\r\n",
        "`p`"
      ]
    },
    {
      "cell_type": "markdown",
      "metadata": {
        "id": "a5VZpFk6ndVP"
      },
      "source": [
        "2.) Imagine you're copying files from your USB drive to your laptop. Let the lists `usb` and `laptop` represent the two devices. Fill `usb` with at least 20 elements of any data type. Then, using either `for` or `while` loops:\n",
        "\n",
        "*   Remove an item from `usb`\n",
        "*   Append that item to `laptop`\n",
        "\n",
        "You should do this process until the `usb` list is empty and the `laptop` list has all of the elements.\n",
        "\n",
        "(**HINT**: The `pop` and `append` methods of a list will be very helpful here. Additionally, you know how to to figure out how many elements are in a list using `len()`. Examples: `len([1,2,3,4]) = 4`, `len([]) = 0`).\n"
      ]
    },
    {
      "cell_type": "code",
      "metadata": {
        "id": "8TlL0txaoj7D"
      },
      "source": [
        "# Once your have verified your answer please uncomment the line below and run it, this will save your code \n",
        "#%%writefile -a {folder_location}/6.py\n",
        "# Please note that if you uncomment and press multiple times, the program will keep appending to the file.\n",
        "# So only uncomment it when you want to save your answer.\n",
        "\n",
        "#INSERT CODE HERE"
      ],
      "execution_count": null,
      "outputs": []
    },
    {
      "cell_type": "markdown",
      "metadata": {
        "id": "JWmMpmPaNWcX"
      },
      "source": [
        "## Functions\n",
        "\n",
        "### Introduction to Functions\n",
        "\n",
        "Instead of writing the same code over and over, we use functions. Functions are like a shortcut that allows us to write a chunk of code once, and use it as many times as we want. "
      ]
    },
    {
      "cell_type": "markdown",
      "metadata": {
        "id": "-ghJ1ZQJNWcZ"
      },
      "source": [
        "### Format of Function\n",
        "\n",
        "This is the format of using a function: `name_of_function(arg1,arg2)`"
      ]
    },
    {
      "cell_type": "markdown",
      "metadata": {
        "id": "fUoJtJgHNWcf"
      },
      "source": [
        "#### Parameters\n",
        "Parameters are placeholders for variables that a function is expecting. This means that whenever you use a function, you must provide concrete values for all placeholders (parameters) for the function. There are functions that don't use any parameters at all, but most of the time a function uses at least one parameter.\n",
        "\n",
        "Let's see some concrete examples. `sum()` is a built-in Python function that allows you to quickly add up all the items in a list of numbers. The `sum()` function expects at least one parameter, with a second parameter being *optional* - you can provide a \"starting number\" that will get included in the total sum. See below for examples of both of these. \n",
        "\n"
      ]
    },
    {
      "cell_type": "code",
      "metadata": {
        "id": "jDQ5ymA7qfQI",
        "colab": {
          "base_uri": "https://localhost:8080/"
        },
        "outputId": "83956cdd-2b96-4014-f168-0c7f4ac4b339"
      },
      "source": [
        "list_1 = [5,10,20]\n",
        "\n",
        "print(sum(list_1))\n",
        "print(sum(list_1,40))"
      ],
      "execution_count": null,
      "outputs": [
        {
          "output_type": "stream",
          "text": [
            "35\n",
            "75\n"
          ],
          "name": "stdout"
        }
      ]
    },
    {
      "cell_type": "markdown",
      "metadata": {
        "id": "-kgFJmzDtIgv"
      },
      "source": [
        "Another example is `pow()`. This function allows you to quicky raise any integer to an exponents (i.e $2^3$). Here, there are two parameters, the base and the exponent. The format is:\n",
        "\n",
        "`pow(base,exponent)`"
      ]
    },
    {
      "cell_type": "code",
      "metadata": {
        "id": "tDAuebG_t-Aa",
        "colab": {
          "base_uri": "https://localhost:8080/"
        },
        "outputId": "a2a92b0e-7159-432b-abec-e5c4b165b352"
      },
      "source": [
        "pow(2,6)"
      ],
      "execution_count": null,
      "outputs": [
        {
          "output_type": "execute_result",
          "data": {
            "text/plain": [
              "64"
            ]
          },
          "metadata": {
            "tags": []
          },
          "execution_count": 7
        }
      ]
    },
    {
      "cell_type": "markdown",
      "metadata": {
        "id": "K5hLnLVZJXXv"
      },
      "source": [
        "### 7.0 Now Try This\n",
        "\n",
        "What do you think happens when you don't pass in the right amount of parameters for a function?"
      ]
    },
    {
      "cell_type": "markdown",
      "metadata": {
        "id": "P7VtXO5Sv-eW"
      },
      "source": [
        "Answer here"
      ]
    },
    {
      "cell_type": "markdown",
      "metadata": {
        "id": "IUBg9zS8GT96"
      },
      "source": [
        "## Modules and Packages"
      ]
    },
    {
      "cell_type": "markdown",
      "metadata": {
        "id": "EZGgT39kGT-Y"
      },
      "source": [
        "### Understanding modules\n",
        "A module is just another word for a full Python program. Every time someone writes a program to do some task, they essentially create a module.\n",
        "\n",
        "Modules take it one step further with code reusability. While functions allow you to reuse enture sections of code, modules allows you to reuse entire functions that were written somewhere else.\n",
        "\n",
        "An example of this would be the `math` module. While Python has a lot of built-in features to do math, some of the more advanced, or sophisticated math operations aren't immediately doable. The `math` module has a list of prewritten functions that let you do these more advanced tasks whenever you need to.\n",
        "\n",
        "In order to use any code within a module, you need to first `import` it. You can think of importing as going to that file, copying all of the code, and then pasting it right into your program - without actually having to do all of that.\n"
      ]
    },
    {
      "cell_type": "code",
      "metadata": {
        "id": "pINzCtawGT-Z",
        "colab": {
          "base_uri": "https://localhost:8080/"
        },
        "outputId": "9f192674-6deb-4732-ed5a-e41dbacc2dae"
      },
      "source": [
        "# import the library - Notice you don't see any code from the math module\n",
        "import math\n",
        "\n",
        "# ceil() take a number and rounds it up to the nearest integer\n",
        "math.ceil(3.2)"
      ],
      "execution_count": null,
      "outputs": [
        {
          "output_type": "execute_result",
          "data": {
            "text/plain": [
              "4"
            ]
          },
          "metadata": {
            "tags": []
          },
          "execution_count": 45
        }
      ]
    },
    {
      "cell_type": "markdown",
      "metadata": {
        "id": "KWdrfQP2GT-g"
      },
      "source": [
        "### Exploring built-in modules\n"
      ]
    },
    {
      "cell_type": "markdown",
      "metadata": {
        "id": "LVZNUEvW0Ulp"
      },
      "source": [
        "`dir()` is a function that tells you all of the functions available within a certain package. For example, you can see how many functions are within the `math` module below. Ignore the elements with underscores around them."
      ]
    },
    {
      "cell_type": "code",
      "metadata": {
        "id": "Frdlk-C3GT-g"
      },
      "source": [
        "print(dir(math))"
      ],
      "execution_count": null,
      "outputs": []
    },
    {
      "cell_type": "markdown",
      "metadata": {
        "id": "kV9kfcvBGT-j"
      },
      "source": [
        "While `dir()` lets you know that a certain function exists in a module, it doesn't tell you anything about what it does. For that, you can use the `help()` function. Providing `help()`with a certain function name gives you a brief description about what the function can be used for, as well as what parameters it expects.\n",
        "\n"
      ]
    },
    {
      "cell_type": "code",
      "metadata": {
        "id": "nQfohp4BGT-l"
      },
      "source": [
        "help(math.ceil)"
      ],
      "execution_count": null,
      "outputs": []
    },
    {
      "cell_type": "markdown",
      "metadata": {
        "id": "cJiazN8PJ6Wz"
      },
      "source": [
        "### Understanding packages\n",
        "If modules can be thought of like files, packages are folders. They can house multiple modules, or even other packages. This is one step higher in the hierarchy of code reusability. When you have multiple modules that share a common theme, you can store them in a package for easier use.\n",
        "\n",
        "To give a concrete example of the hierarchy from packages to functions, look at the following statement:\n",
        "\n",
        "\n",
        "\n",
        "```\n",
        "pandas.testing.assert_frame_equal()\n",
        "```\n",
        "\n",
        "Here, `pandas` is the package. It has multiple modules available, but we specifically want the `testing` module. Then, we want to use the `assert_frame_equal()` function that's available within that module. Don't worry about what this function does yet! You'll be introduced to the Pandas library in the coming weeks.\n",
        "\n",
        "\n",
        "\n"
      ]
    },
    {
      "cell_type": "markdown",
      "metadata": {
        "id": "k1McGgZRNNSL"
      },
      "source": [
        "### Takeaways\n",
        "Yay! By this point, you have now learned the basics of Python. You now have a solid foundation not only for general programming using Python, but for using the data science tools and libraries available with Python. In the next week, we'll learn how to use pandas, a data library using Python used to organize and manipulate data. \n"
      ]
    },
    {
      "cell_type": "markdown",
      "metadata": {
        "id": "7BETz3yhtr4K"
      },
      "source": [
        "## Submission\n",
        "Run this code block to download your answers."
      ]
    },
    {
      "cell_type": "code",
      "metadata": {
        "id": "JvLvanJvtr4K"
      },
      "source": [
        "from google.colab import files\n",
        "!zip -r \"{student_id}.zip\" \"{student_id}\"\n",
        "files.download(f\"{student_id}.zip\")"
      ],
      "execution_count": null,
      "outputs": []
    }
  ]
}