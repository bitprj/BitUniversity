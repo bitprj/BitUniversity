{
  "nbformat": 4,
  "nbformat_minor": 0,
  "metadata": {
    "colab": {
      "name": "Week 8 Homework.ipynb",
      "provenance": [],
      "collapsed_sections": [],
      "include_colab_link": true
    },
    "kernelspec": {
      "name": "python3",
      "display_name": "Python 3"
    }
  },
  "cells": [
    {
      "cell_type": "markdown",
      "metadata": {
        "id": "view-in-github",
        "colab_type": "text"
      },
      "source": [
        "<a href=\"https://colab.research.google.com/github/bitprj/DigitalHistory/blob/master/Week8-Intro-to-Statistical-Analysis-and-Methods/Homework/Week_8_Homework.ipynb\" target=\"_parent\"><img src=\"https://colab.research.google.com/assets/colab-badge.svg\" alt=\"Open In Colab\"/></a>"
      ]
    },
    {
      "cell_type": "markdown",
      "metadata": {
        "id": "zCRNgAGbbKAW",
        "colab_type": "text"
      },
      "source": [
        "## <div align = \"center\">Homework 8</div>\n",
        "# <div align = \"center\">NumPy</div>"
      ]
    },
    {
      "cell_type": "markdown",
      "metadata": {
        "id": "WG1wsQTKxuwr",
        "colab_type": "text"
      },
      "source": [
        "Welcome to Homework 8. In this homework you will be using techniques you learned throughout Week 8. The purpose of this homework is to get you more familiar with using NumPy and master manipulating arrays. Feel free to refer to the cheatsheet while working through these problems."
      ]
    },
    {
      "cell_type": "markdown",
      "metadata": {
        "id": "dnTj6CRhb6kD",
        "colab_type": "text"
      },
      "source": [
        "## Import Libraries"
      ]
    },
    {
      "cell_type": "code",
      "metadata": {
        "id": "bC_Y0mFpbwX5",
        "colab_type": "code",
        "colab": {}
      },
      "source": [
        "import numpy as np"
      ],
      "execution_count": null,
      "outputs": []
    },
    {
      "cell_type": "markdown",
      "metadata": {
        "id": "Li4_EAjke2tV",
        "colab_type": "text"
      },
      "source": [
        "## Grading \n",
        "\n",
        "Every question in this homework is worth 2 points. There are a total of 10 questions."
      ]
    },
    {
      "cell_type": "markdown",
      "metadata": {
        "id": "JW9GwVepfBMX",
        "colab_type": "text"
      },
      "source": [
        "## NumPy Questions"
      ]
    },
    {
      "cell_type": "markdown",
      "metadata": {
        "id": "HuZeGkE4eacZ",
        "colab_type": "text"
      },
      "source": [
        "### Q1: Generate a 4x4 matrix with values ranging from 5 to 20."
      ]
    },
    {
      "cell_type": "code",
      "metadata": {
        "id": "lMra4T7vfHBg",
        "colab_type": "code",
        "colab": {}
      },
      "source": [
        "# INSERT CODE HERE"
      ],
      "execution_count": null,
      "outputs": []
    },
    {
      "cell_type": "markdown",
      "metadata": {
        "id": "Nw-g0bNaol3T",
        "colab_type": "text"
      },
      "source": [
        "### Create Array\n"
      ]
    },
    {
      "cell_type": "code",
      "metadata": {
        "id": "qtngWGOboGwO",
        "colab_type": "code",
        "colab": {}
      },
      "source": [
        "# Create Array\n",
        "np.random.seed(24) # This guarantees the code will generate the same set of random numbers whenever executed\n",
        "arr = np.random.randint(1,high=600000, size=(10, 5))\n",
        "arr"
      ],
      "execution_count": null,
      "outputs": []
    },
    {
      "cell_type": "markdown",
      "metadata": {
        "id": "1bOAhw6xoqvd",
        "colab_type": "text"
      },
      "source": [
        "### Q2: Obtain the average value of the third column"
      ]
    },
    {
      "cell_type": "code",
      "metadata": {
        "id": "M_glIOOfoU2r",
        "colab_type": "code",
        "colab": {}
      },
      "source": [
        "# INSERT CODE HERE"
      ],
      "execution_count": null,
      "outputs": []
    },
    {
      "cell_type": "markdown",
      "metadata": {
        "id": "skef3ZtJpN5h",
        "colab_type": "text"
      },
      "source": [
        "### Q3: Obtain the average value of the first 6 rows of the fourth and fifth columns"
      ]
    },
    {
      "cell_type": "code",
      "metadata": {
        "id": "7RAV5hxxpGhV",
        "colab_type": "code",
        "colab": {}
      },
      "source": [
        "# INSERT CODE HERE"
      ],
      "execution_count": null,
      "outputs": []
    },
    {
      "cell_type": "markdown",
      "metadata": {
        "id": "0L5eoo0RqMgJ",
        "colab_type": "text"
      },
      "source": [
        "### Q4: Create a 2x3 matrix of numbers from 1-6, then a 1D array of numbers from 1-3. Add them and display the result"
      ]
    },
    {
      "cell_type": "code",
      "metadata": {
        "id": "642gDQE7pyC8",
        "colab_type": "code",
        "colab": {}
      },
      "source": [
        "# INSERT CODE HERE"
      ],
      "execution_count": null,
      "outputs": []
    },
    {
      "cell_type": "markdown",
      "metadata": {
        "id": "dxlFnxStqr6B",
        "colab_type": "text"
      },
      "source": [
        "### Q5: Create an array with numbers from 1 to 10. Filter the array to only include multiples of 4 and display the result."
      ]
    },
    {
      "cell_type": "code",
      "metadata": {
        "id": "cbOU6-UdqdMr",
        "colab_type": "code",
        "colab": {}
      },
      "source": [
        "# INSERT CODE HERE"
      ],
      "execution_count": null,
      "outputs": []
    },
    {
      "cell_type": "markdown",
      "metadata": {
        "id": "h5tyf73vsSrN",
        "colab_type": "text"
      },
      "source": [
        "### Q6: Create an array with numbers from 1-4. Change the value of the first index to 0 without directly modifying the array."
      ]
    },
    {
      "cell_type": "code",
      "metadata": {
        "id": "2KfLHzJ0rLTK",
        "colab_type": "code",
        "colab": {}
      },
      "source": [
        "# INSERT CODE HERE"
      ],
      "execution_count": null,
      "outputs": []
    },
    {
      "cell_type": "markdown",
      "metadata": {
        "id": "TgJVWMMiuXAj",
        "colab_type": "text"
      },
      "source": [
        "### Q7: Create a 2x3 matrix with values from 1-6. Obtain all rows from the second and third columns."
      ]
    },
    {
      "cell_type": "code",
      "metadata": {
        "id": "dN8ZEIebstVP",
        "colab_type": "code",
        "colab": {}
      },
      "source": [
        "# INSERT CODE HERE"
      ],
      "execution_count": null,
      "outputs": []
    },
    {
      "cell_type": "markdown",
      "metadata": {
        "id": "GUq7_xVJv04Z",
        "colab_type": "text"
      },
      "source": [
        "### Q8: Create an array with numbers 1-10 and then zero out all multiples of 3."
      ]
    },
    {
      "cell_type": "code",
      "metadata": {
        "id": "6IjYaUXbvr4z",
        "colab_type": "code",
        "colab": {}
      },
      "source": [
        "# INSERT CODE HERE"
      ],
      "execution_count": null,
      "outputs": []
    },
    {
      "cell_type": "markdown",
      "metadata": {
        "id": "Lx7bWxkVweb0",
        "colab_type": "text"
      },
      "source": [
        "### Q9: Do the above but without modifying the original array."
      ]
    },
    {
      "cell_type": "code",
      "metadata": {
        "colab_type": "code",
        "id": "lviyut3WwQ5-",
        "colab": {}
      },
      "source": [
        "# INSERT CODE HERE"
      ],
      "execution_count": null,
      "outputs": []
    },
    {
      "cell_type": "markdown",
      "metadata": {
        "id": "lWewdLQgxNBX",
        "colab_type": "text"
      },
      "source": [
        "### Q10: Create a 5x5 array of all 1's. Then, modify the array so that it has 1's along the border but 0's everywhere else.\n",
        "\n",
        "EXPECTED OUTPUT:\n",
        "\n",
        "[[1. 1. 1. 1. 1.]\n",
        "\n",
        " [1. 0. 0. 0. 1.]\n",
        "\n",
        " [1. 0. 0. 0. 1.]\n",
        "\n",
        " [1. 0. 0. 0. 1.]\n",
        " \n",
        " [1. 1. 1. 1. 1.]]"
      ]
    },
    {
      "cell_type": "code",
      "metadata": {
        "id": "PVhPDAfLw9jv",
        "colab_type": "code",
        "colab": {}
      },
      "source": [
        "# INSERT CODE HERE"
      ],
      "execution_count": null,
      "outputs": []
    }
  ]
}