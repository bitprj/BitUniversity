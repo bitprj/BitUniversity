{
  "nbformat": 4,
  "nbformat_minor": 0,
  "metadata": {
    "colab": {
      "name": "Statistical-Visualization-using-Seaborn-and-Pandas.ipynb",
      "provenance": [],
      "collapsed_sections": [
        "QeqtPnWO2Fr7",
        "A2EFAcJjfyKB",
        "Tl_6Scu8IE7Q",
        "ROMLhUlP2FsF",
        "uChTw5-uhQ5T",
        "VUBnDZP42Fwi",
        "gmxNQDT52Fwm",
        "EotB9Y0dhQ5e",
        "ouo04QP22Fwv",
        "0NaUBVj-2Fw6",
        "Ey6-uz8GhQ6Q",
        "IilnqVQ8hQ6T",
        "9NhJfdAY24eu",
        "H52L1BKk2FxK",
        "BGj_5mQR2FxL",
        "lFIHa6pL2FxL",
        "uS5J55IS2Fx3",
        "Bc6zwLWKhQ68"
      ],
      "toc_visible": true,
      "include_colab_link": true
    },
    "kernelspec": {
      "display_name": "Python 3",
      "language": "python",
      "name": "python3"
    },
    "language_info": {
      "codemirror_mode": {
        "name": "ipython",
        "version": 3
      },
      "file_extension": ".py",
      "mimetype": "text/x-python",
      "name": "python",
      "nbconvert_exporter": "python",
      "pygments_lexer": "ipython3",
      "version": "3.7.4"
    }
  },
  "cells": [
    {
      "cell_type": "markdown",
      "metadata": {
        "id": "view-in-github",
        "colab_type": "text"
      },
      "source": [
        "<a href=\"https://colab.research.google.com/github/bitprj/DigitalHistory/blob/master/Week7-Visualizations-and-Exploratory-Analysis-using-Seaborn-and-Pandas/Statistical-Visualization-using-Seaborn-and-Pandas.ipynb\" target=\"_parent\"><img src=\"https://colab.research.google.com/assets/colab-badge.svg\" alt=\"Open In Colab\"/></a>"
      ]
    },
    {
      "cell_type": "markdown",
      "metadata": {
        "id": "4Q6MuqYGhQ2m"
      },
      "source": [
        "<img src=\"https://github.com/ShayanRiyaz/DigitalHistory/blob/Shayan/Week7-Visualizations-and-Exploratory-Analysis-using-Seaborn-and-Pandas/assets/icons/bitproject.png?raw=1\" width=\"200\" align=\"left\"> \n",
        "<img src=\"https://github.com/ShayanRiyaz/DigitalHistory/blob/Shayan/Week7-Visualizations-and-Exploratory-Analysis-using-Seaborn-and-Pandas/assets/icons/data-science.jpg?raw=1\" width=\"300\" align=\"right\">"
      ]
    },
    {
      "cell_type": "markdown",
      "metadata": {
        "id": "hYdMi-8YDEQg"
      },
      "source": [
        "# <div align=\"center\">Statistical Visualization using Seaborn and Pandas</div>"
      ]
    },
    {
      "cell_type": "markdown",
      "metadata": {
        "id": "QeqtPnWO2Fr7"
      },
      "source": [
        "## Table of Contents\n",
        "- Seaborn\n",
        "- What is Seaborn\n",
        "- Why should we use Seaborn\n",
        "- How should we use Seaborn\n",
        "- About the Datasets\n",
        "    - Tips\n",
        "    - Recent Graduates\n",
        "- What will we be learning today\n",
        "    - Goals\n",
        "- Getting started with the dataset\n",
        "- Univariate Plots\n",
        "    - Histogram\n",
        "    - Kerner Density Estimation (KDE)\n",
        "    - Distribution plots\n",
        "- Bivariate Plots\n",
        "    - Scatter plots\n",
        "    - **1.0 - Now Try This**\n",
        "    - Line plots\n",
        "    - Joint plots\n",
        "    - **2.0 - Now Try This**\n",
        "- Categorical Data Types\n",
        "    - Scatter plots\n",
        "    - **3.0 - Now Try This**\n",
        "    - Box plots\n",
        "    - **4.0 - Now Try This**\n",
        "- Practical Exercise\n",
        "    - Visual Storytelling with Seaborn\n",
        "    - Loading the Dataset\n",
        "    - **5.0 Now Try This**\n",
        "    - Counting the Frequency of Majors\n",
        "    - Plotting Numerical values\n",
        "    - **6.0 Now Try This**\n",
        "    - **7.0 Now Try This**\n",
        "    - **8.0 Now Try This**\n",
        "    - Plotting Categorical Values\n",
        "    - **9.0 Now Try This**\n",
        "    - Box Plot\n",
        "    - **10.0 Now Try This**\n"
      ]
    },
    {
      "cell_type": "markdown",
      "metadata": {
        "id": "A2EFAcJjfyKB"
      },
      "source": [
        "## Recap\n",
        "\n",
        "At this point in the course, we have learned:\n",
        "- The basic steps that should be applied when working with a dataset (e.g ```df.head```,```df.info``` etc)\n",
        "- Simple numerical visualizations using ```matplotlib``` and ```pandas dataframes``` such as scatterplots, lineplots, histograms, and barplots.\n",
        "- Draw simple insights by observing visualizations. (Practicum 1).\n",
        "\n",
        "This week we will be going into a deeper and effective implementation of visualization using Seaborn."
      ]
    },
    {
      "cell_type": "markdown",
      "metadata": {
        "id": "d1egcPAzDGkQ"
      },
      "source": [
        "## What is Seaborn\n",
        "Seaborn is a library built on top of matplotlib. We use seaborn when our data requires aggregation or summarization before making a plot. \n",
        "\n",
        "## Why should we use Seaborn\n",
        "The python seaborn library makes data visualization easier when we need to find useful information in our data through statistical analysis. With Seaborn, we create graphs to visualize statistical data and utilize helpful features such as:\n",
        "\n",
        "- A comprehensive library allowing users to compare multiple variables with each other\n",
        "- Colorful, visually-appealing data visualizations\n",
        "- Functions that can easily be integrated with ```Pandas``` dataframes\n",
        "\n",
        "## How should we use Seaborn\n",
        "\n",
        "Seaborn is mainly used when you want to extract meaningful insights for complex data. This may involve using statistical methods for distributions, correlations etc. Seaborn also takes care of the redundant and time consuming additions such as labeling, coloring and marking data."
      ]
    },
    {
      "cell_type": "markdown",
      "metadata": {
        "id": "TO7Ge10tc4oB"
      },
      "source": [
        "For more information on the Seaborn library please refer to this [link](https://seaborn.pydata.org/index.html)."
      ]
    },
    {
      "cell_type": "markdown",
      "metadata": {
        "id": "Tl_6Scu8IE7Q"
      },
      "source": [
        "\n",
        "## Grading\n",
        "\n",
        "This exercise has a total of 10 questions. Every question has 1 point. Some questions might have multiple parts but the weight of the question is the same.\n",
        "\n",
        "In order to work on the questions in this Practicum and submit them for grading, you'll need to run the code block below. It will ask for your student ID number and then create a folder that will house your answers for each question. At the very end of the notebook, there is a code section that will download this folder as a zip file to your computer. This zip file will be your final submission."
      ]
    },
    {
      "cell_type": "code",
      "metadata": {
        "id": "HmZvJAZIpGf6"
      },
      "source": [
        "import os\n",
        "import shutil\n",
        "\n",
        "!rm -rf sample_data\n",
        "\n",
        "student_id = input('Please Enter your Student ID: ') # Enter Student ID.\n",
        "\n",
        "while len(student_id) != 9:\n",
        " student_id = int('Please Enter your Student ID: ')  \n",
        "  \n",
        "folder_location = f'{student_id}/Week_7/Now_Try_This'\n",
        "if not os.path.exists(folder_location):\n",
        "  os.makedirs(folder_location)\n",
        "  print('Successfully Created Directory, Lets get started')\n",
        "else:\n",
        "  print('Directory Already Exists')"
      ],
      "execution_count": null,
      "outputs": []
    },
    {
      "cell_type": "markdown",
      "metadata": {
        "id": "UG9Ik8eehQ2s"
      },
      "source": [
        "## About the Datasets"
      ]
    },
    {
      "cell_type": "markdown",
      "metadata": {
        "id": "SM-OUy8OhQ2t"
      },
      "source": [
        "<img src=\"https://github.com/ShayanRiyaz/DigitalHistory/blob/Shayan/Week7-Visualizations-and-Exploratory-Analysis-using-Seaborn-and-Pandas/assets/tips.png?raw=1\" width=\"500\" align=\"center\">"
      ]
    },
    {
      "cell_type": "markdown",
      "metadata": {
        "id": "yC9iJAKn2Fr-"
      },
      "source": [
        "\n",
        "\n",
        "### Tips\n",
        "Food servers’ tips in restaurants may be influenced by many factors, including:\n",
        "- The prices of food\n",
        "- Dize of the party \n",
        "- The server's attentiveness. \n",
        "\n",
        "Restaurant managers need to know which factors matter when they assign tables to food servers. For the sake of staff morale, they usually want to avoid either the substance or the appearance of unfair treatment of the servers, for whom tips (at least in restaurants in the United States) are a major component of pay. \n",
        "\n",
        "In one restaurant, a food server recorded the following data on all customers they served during an interval of two and a half months in early 1990. The restaurant, located in a suburban shopping mall, was part of a national chain and served a varied menu. In observance of local law, the restaurant offered to seat in a non-smoking section to patrons who requested it.\n",
        "\n",
        " Each record includes a day and time, and taken together, they show the server’s work schedule. "
      ]
    },
    {
      "cell_type": "markdown",
      "metadata": {
        "id": "OptEC8dxhQ2v"
      },
      "source": [
        "<img src=\"https://github.com/ShayanRiyaz/DigitalHistory/blob/Shayan/Week7-Visualizations-and-Exploratory-Analysis-using-Seaborn-and-Pandas/assets/recent-grads.png?raw=1\" width=\"700\" align=\"center\">"
      ]
    },
    {
      "cell_type": "markdown",
      "metadata": {
        "id": "ROMLhUlP2FsF"
      },
      "source": [
        "### Recent Graduates <a name=\"RecentGrads\"></a>\n",
        "\n",
        "\n",
        "\n",
        "The recent graduates dataset contains basic earnings and labor data in a more detailed breakdown, including the Share of Women in the major and the type of job they got. The maximum age of participants in this dataset is 28.\n",
        "\n",
        "Headers for `recent-grads.csv` are shown below:\n",
        "\n",
        "Header | Description\n",
        "---|---------\n",
        "`Rank` | Rank by median earnings\n",
        "`Major_code` | Major code\n",
        "<font color=\"red\">`Major` | Major description</font>\n",
        "<font color=\"red\">`Major_category` | Category of major </font>\n",
        "<font color=\"red\">`Total` | Total number of people with major</font>\n",
        "`Sample_size` | Sample size (unweighted) of full-time, year-round ONLY (used for earnings)\n",
        "<font color=\"red\">`Men` | Male graduates</font>\n",
        "<font color=\"red\">`Women` | Female graduates</font>\n",
        "<font color=\"red\">`ShareWomen` | Women as share of total</font>\n",
        "<font color=\"red\">`Employed` | Number employed </font>\n",
        "`Full_time` | Employed 35 hours or more\n",
        "`Part_time` | Employed less than 35 hours\n",
        "`Full_time_year_round` | Employed at least 50 weeks or at least 35 hours \n",
        "<font color=\"red\">`Unemployed` | Number unemployed </font>\n",
        "`Unemployment_rate` | Unemployed / (Unemployed + Employed)\n",
        "`Median` | Median earnings of full-time, year-round workers\n",
        "`P25th` | 25th percentile of earnigns\n",
        "`P75th` | 75th percentile of earnings\n",
        "`College_jobs` | Number with job requiring a college degree\n",
        "`Non_college_jobs` | Number with job not requiring a college degree\n",
        "`Low_wage_jobs` | Number in low-wage service jobs\n",
        "\n",
        "\n",
        "**Note**: For this exercise we won't be working with all of these columns but some selected ones.\n",
        "\n"
      ]
    },
    {
      "cell_type": "markdown",
      "metadata": {
        "id": "L2KEbMJP2FsJ"
      },
      "source": [
        "### Goals\n",
        "- Understanding and visualizing the `tips` dataset.\n",
        "- We will use visualization as an analysis tool instead of using Pandas DataFrame \n",
        "- Check if the tips received by a waiter are dependent on the other factors such as\n",
        "    - Sex\n",
        "    - day\n",
        "    - time\n",
        "    - size of group\n",
        "    - smokers or non-smokers\n",
        "- We will be learning the following types of plots:\n",
        "    - Univariate plots\n",
        "        - Histogram\n",
        "        - Kerner Density Estimation (KDE)\n",
        "        - Distplot\n",
        "    - Bivariate plots\n",
        "        - Scatterplot\n",
        "        - Lineplot\n",
        "        - Jointplot (*Basic, Hex, KDE*)\n",
        "    - Categorical Datatypes\n",
        "        - Scatterplot.\n",
        "        - Boxplot.\n",
        "- Use Seaborn to make beautiful visualizations and tell a story.\n",
        "\n",
        "This might seem very overwhelming with so many graphs, but don't worry, this module will teach you the basics, but also the shortcuts.\n",
        "\n",
        "As usual, we will first upload the relevant libraries."
      ]
    },
    {
      "cell_type": "code",
      "metadata": {
        "id": "H5mVlFj0DDxu"
      },
      "source": [
        "import seaborn as sns\n",
        "import pandas as pd\n",
        "import matplotlib.pyplot as plt"
      ],
      "execution_count": null,
      "outputs": []
    },
    {
      "cell_type": "markdown",
      "metadata": {
        "id": "Kxbry8xb2Fsc"
      },
      "source": [
        "Uploading built in datasets is very similar to reading ```.csv``` as we would traditionally do in Pandas since both are loaded as a Dataframe using pandas..\n",
        "- We define the data frame as ```tips``` and run the following command : ```sns.load_dataset('tips')```, here ```sns``` is us calling the seaborn library, ```.load_dataset()``` is calling the ```load_dataset``` function and ```('tips')``` is the dataset we are calling."
      ]
    },
    {
      "cell_type": "code",
      "metadata": {
        "id": "UEbEyQxE84TW"
      },
      "source": [
        "tips = seaborn.load_dataset('tips')"
      ],
      "execution_count": null,
      "outputs": []
    },
    {
      "cell_type": "code",
      "metadata": {
        "colab": {
          "base_uri": "https://localhost:8080/"
        },
        "id": "X4H-vcY6uuiH",
        "outputId": "c59d1ac3-a4bc-4520-b986-56264a2a5873"
      },
      "source": [
        "# sns.get_dataset_names()"
      ],
      "execution_count": null,
      "outputs": [
        {
          "output_type": "execute_result",
          "data": {
            "text/plain": [
              "['anagrams',\n",
              " 'anscombe',\n",
              " 'attention',\n",
              " 'brain_networks',\n",
              " 'car_crashes',\n",
              " 'diamonds',\n",
              " 'dots',\n",
              " 'exercise',\n",
              " 'flights',\n",
              " 'fmri',\n",
              " 'gammas',\n",
              " 'geyser',\n",
              " 'iris',\n",
              " 'mpg',\n",
              " 'penguins',\n",
              " 'planets',\n",
              " 'tips',\n",
              " 'titanic']"
            ]
          },
          "metadata": {
            "tags": []
          },
          "execution_count": 3
        }
      ]
    },
    {
      "cell_type": "markdown",
      "metadata": {
        "id": "3sXXwR5C2Fsu"
      },
      "source": [
        "Next, in the immediate steps, we will observe our dataframe in order to examine the following:\n",
        "- The columns in our frame.\n",
        "- The types of values (categorical and numerical)\n",
        "\n",
        "### head():"
      ]
    },
    {
      "cell_type": "code",
      "metadata": {
        "id": "Qkoo9g8aFghu",
        "colab": {
          "base_uri": "https://localhost:8080/",
          "height": 206
        },
        "outputId": "f9b5ae57-be55-4480-eb43-abce22cf11b1"
      },
      "source": [
        "tips.head()"
      ],
      "execution_count": null,
      "outputs": [
        {
          "output_type": "execute_result",
          "data": {
            "text/html": [
              "<div>\n",
              "<style scoped>\n",
              "    .dataframe tbody tr th:only-of-type {\n",
              "        vertical-align: middle;\n",
              "    }\n",
              "\n",
              "    .dataframe tbody tr th {\n",
              "        vertical-align: top;\n",
              "    }\n",
              "\n",
              "    .dataframe thead th {\n",
              "        text-align: right;\n",
              "    }\n",
              "</style>\n",
              "<table border=\"1\" class=\"dataframe\">\n",
              "  <thead>\n",
              "    <tr style=\"text-align: right;\">\n",
              "      <th></th>\n",
              "      <th>total_bill</th>\n",
              "      <th>tip</th>\n",
              "      <th>sex</th>\n",
              "      <th>smoker</th>\n",
              "      <th>day</th>\n",
              "      <th>time</th>\n",
              "      <th>size</th>\n",
              "    </tr>\n",
              "  </thead>\n",
              "  <tbody>\n",
              "    <tr>\n",
              "      <th>0</th>\n",
              "      <td>16.99</td>\n",
              "      <td>1.01</td>\n",
              "      <td>Female</td>\n",
              "      <td>No</td>\n",
              "      <td>Sun</td>\n",
              "      <td>Dinner</td>\n",
              "      <td>2</td>\n",
              "    </tr>\n",
              "    <tr>\n",
              "      <th>1</th>\n",
              "      <td>10.34</td>\n",
              "      <td>1.66</td>\n",
              "      <td>Male</td>\n",
              "      <td>No</td>\n",
              "      <td>Sun</td>\n",
              "      <td>Dinner</td>\n",
              "      <td>3</td>\n",
              "    </tr>\n",
              "    <tr>\n",
              "      <th>2</th>\n",
              "      <td>21.01</td>\n",
              "      <td>3.50</td>\n",
              "      <td>Male</td>\n",
              "      <td>No</td>\n",
              "      <td>Sun</td>\n",
              "      <td>Dinner</td>\n",
              "      <td>3</td>\n",
              "    </tr>\n",
              "    <tr>\n",
              "      <th>3</th>\n",
              "      <td>23.68</td>\n",
              "      <td>3.31</td>\n",
              "      <td>Male</td>\n",
              "      <td>No</td>\n",
              "      <td>Sun</td>\n",
              "      <td>Dinner</td>\n",
              "      <td>2</td>\n",
              "    </tr>\n",
              "    <tr>\n",
              "      <th>4</th>\n",
              "      <td>24.59</td>\n",
              "      <td>3.61</td>\n",
              "      <td>Female</td>\n",
              "      <td>No</td>\n",
              "      <td>Sun</td>\n",
              "      <td>Dinner</td>\n",
              "      <td>4</td>\n",
              "    </tr>\n",
              "  </tbody>\n",
              "</table>\n",
              "</div>"
            ],
            "text/plain": [
              "   total_bill   tip     sex smoker  day    time  size\n",
              "0       16.99  1.01  Female     No  Sun  Dinner     2\n",
              "1       10.34  1.66    Male     No  Sun  Dinner     3\n",
              "2       21.01  3.50    Male     No  Sun  Dinner     3\n",
              "3       23.68  3.31    Male     No  Sun  Dinner     2\n",
              "4       24.59  3.61  Female     No  Sun  Dinner     4"
            ]
          },
          "metadata": {
            "tags": []
          },
          "execution_count": 6
        }
      ]
    },
    {
      "cell_type": "markdown",
      "metadata": {
        "id": "vsSD3ajw2Fs7"
      },
      "source": [
        "Looking at the result of ```tips.head()``` below, how can we observe that?\n",
        "\n",
        "- ```total_bill``` : numerical\n",
        "- ```tip```: numerical\n",
        "- ```sex```: categorical\n",
        "- ```smoker```: categorical [this can also be numerical]\n",
        "- ```day```: categorical\n",
        "- ```time```: categorical\n",
        "- ```size```: numerical"
      ]
    },
    {
      "cell_type": "markdown",
      "metadata": {
        "id": "XAqBxEkQ2Fs8"
      },
      "source": [
        "Instead of observing manually, we can simply run the command ```tips.dtypes```:"
      ]
    },
    {
      "cell_type": "code",
      "metadata": {
        "id": "WYem1uDJ2Fs8",
        "colab": {
          "base_uri": "https://localhost:8080/"
        },
        "outputId": "246ed245-f657-4363-89bc-55cf3c6f63d7"
      },
      "source": [
        "tips.dtypes"
      ],
      "execution_count": null,
      "outputs": [
        {
          "output_type": "execute_result",
          "data": {
            "text/plain": [
              "total_bill     float64\n",
              "tip            float64\n",
              "sex           category\n",
              "smoker        category\n",
              "day           category\n",
              "time          category\n",
              "size             int64\n",
              "dtype: object"
            ]
          },
          "metadata": {
            "tags": []
          },
          "execution_count": 7
        }
      ]
    },
    {
      "cell_type": "markdown",
      "metadata": {
        "id": "09xz2rMd2FtB"
      },
      "source": [
        "And there we have it, 4 categorical columns, 3 numerical (2 float64, 1 int64).\n",
        "\n",
        "As you have probably learned by now, mapping categorical data is one of the main features provided by *Seaborn* and this is exactly what we will be doing in the next steps.\n",
        "\n",
        "Now, let's retrieve some common information such as min, max, unique and count for given numerical data."
      ]
    },
    {
      "cell_type": "code",
      "metadata": {
        "id": "w_so-hAI2FtB",
        "colab": {
          "base_uri": "https://localhost:8080/",
          "height": 300
        },
        "outputId": "f49c5d21-967f-410c-928f-8dcdcf37de11"
      },
      "source": [
        "tips.describe()"
      ],
      "execution_count": null,
      "outputs": [
        {
          "output_type": "execute_result",
          "data": {
            "text/html": [
              "<div>\n",
              "<style scoped>\n",
              "    .dataframe tbody tr th:only-of-type {\n",
              "        vertical-align: middle;\n",
              "    }\n",
              "\n",
              "    .dataframe tbody tr th {\n",
              "        vertical-align: top;\n",
              "    }\n",
              "\n",
              "    .dataframe thead th {\n",
              "        text-align: right;\n",
              "    }\n",
              "</style>\n",
              "<table border=\"1\" class=\"dataframe\">\n",
              "  <thead>\n",
              "    <tr style=\"text-align: right;\">\n",
              "      <th></th>\n",
              "      <th>total_bill</th>\n",
              "      <th>tip</th>\n",
              "      <th>size</th>\n",
              "    </tr>\n",
              "  </thead>\n",
              "  <tbody>\n",
              "    <tr>\n",
              "      <th>count</th>\n",
              "      <td>244.000000</td>\n",
              "      <td>244.000000</td>\n",
              "      <td>244.000000</td>\n",
              "    </tr>\n",
              "    <tr>\n",
              "      <th>mean</th>\n",
              "      <td>19.785943</td>\n",
              "      <td>2.998279</td>\n",
              "      <td>2.569672</td>\n",
              "    </tr>\n",
              "    <tr>\n",
              "      <th>std</th>\n",
              "      <td>8.902412</td>\n",
              "      <td>1.383638</td>\n",
              "      <td>0.951100</td>\n",
              "    </tr>\n",
              "    <tr>\n",
              "      <th>min</th>\n",
              "      <td>3.070000</td>\n",
              "      <td>1.000000</td>\n",
              "      <td>1.000000</td>\n",
              "    </tr>\n",
              "    <tr>\n",
              "      <th>25%</th>\n",
              "      <td>13.347500</td>\n",
              "      <td>2.000000</td>\n",
              "      <td>2.000000</td>\n",
              "    </tr>\n",
              "    <tr>\n",
              "      <th>50%</th>\n",
              "      <td>17.795000</td>\n",
              "      <td>2.900000</td>\n",
              "      <td>2.000000</td>\n",
              "    </tr>\n",
              "    <tr>\n",
              "      <th>75%</th>\n",
              "      <td>24.127500</td>\n",
              "      <td>3.562500</td>\n",
              "      <td>3.000000</td>\n",
              "    </tr>\n",
              "    <tr>\n",
              "      <th>max</th>\n",
              "      <td>50.810000</td>\n",
              "      <td>10.000000</td>\n",
              "      <td>6.000000</td>\n",
              "    </tr>\n",
              "  </tbody>\n",
              "</table>\n",
              "</div>"
            ],
            "text/plain": [
              "       total_bill         tip        size\n",
              "count  244.000000  244.000000  244.000000\n",
              "mean    19.785943    2.998279    2.569672\n",
              "std      8.902412    1.383638    0.951100\n",
              "min      3.070000    1.000000    1.000000\n",
              "25%     13.347500    2.000000    2.000000\n",
              "50%     17.795000    2.900000    2.000000\n",
              "75%     24.127500    3.562500    3.000000\n",
              "max     50.810000   10.000000    6.000000"
            ]
          },
          "metadata": {
            "tags": []
          },
          "execution_count": 8
        }
      ]
    },
    {
      "cell_type": "markdown",
      "metadata": {
        "id": "hHZPFeWh2FtL"
      },
      "source": [
        "Let's go through all the important plots of Seaborn step by step."
      ]
    },
    {
      "cell_type": "code",
      "metadata": {
        "id": "R2wIIicVb3LV"
      },
      "source": [
        "sns.set_palette(\"Set2\")"
      ],
      "execution_count": null,
      "outputs": []
    },
    {
      "cell_type": "code",
      "metadata": {
        "colab": {
          "base_uri": "https://localhost:8080/",
          "height": 76
        },
        "id": "eN038z7-zbea",
        "outputId": "24f19b49-1cfd-4218-8933-06729ef33311"
      },
      "source": [
        "sns.color_palette(\"Set2\")"
      ],
      "execution_count": null,
      "outputs": [
        {
          "output_type": "execute_result",
          "data": {
            "text/html": [
              "<svg  width=\"440\" height=\"55\"><rect x=\"0\" y=\"0\" width=\"55\" height=\"55\" style=\"fill:#66c2a5;stroke-width:2;stroke:rgb(255,255,255)\"/><rect x=\"55\" y=\"0\" width=\"55\" height=\"55\" style=\"fill:#fc8d62;stroke-width:2;stroke:rgb(255,255,255)\"/><rect x=\"110\" y=\"0\" width=\"55\" height=\"55\" style=\"fill:#8da0cb;stroke-width:2;stroke:rgb(255,255,255)\"/><rect x=\"165\" y=\"0\" width=\"55\" height=\"55\" style=\"fill:#e78ac3;stroke-width:2;stroke:rgb(255,255,255)\"/><rect x=\"220\" y=\"0\" width=\"55\" height=\"55\" style=\"fill:#a6d854;stroke-width:2;stroke:rgb(255,255,255)\"/><rect x=\"275\" y=\"0\" width=\"55\" height=\"55\" style=\"fill:#ffd92f;stroke-width:2;stroke:rgb(255,255,255)\"/><rect x=\"330\" y=\"0\" width=\"55\" height=\"55\" style=\"fill:#e5c494;stroke-width:2;stroke:rgb(255,255,255)\"/><rect x=\"385\" y=\"0\" width=\"55\" height=\"55\" style=\"fill:#b3b3b3;stroke-width:2;stroke:rgb(255,255,255)\"/></svg>"
            ],
            "text/plain": [
              "[(0.4, 0.7607843137254902, 0.6470588235294118),\n",
              " (0.9882352941176471, 0.5529411764705883, 0.3843137254901961),\n",
              " (0.5529411764705883, 0.6274509803921569, 0.796078431372549),\n",
              " (0.9058823529411765, 0.5411764705882353, 0.7647058823529411),\n",
              " (0.6509803921568628, 0.8470588235294118, 0.32941176470588235),\n",
              " (1.0, 0.8509803921568627, 0.1843137254901961),\n",
              " (0.8980392156862745, 0.7686274509803922, 0.5803921568627451),\n",
              " (0.7019607843137254, 0.7019607843137254, 0.7019607843137254)]"
            ]
          },
          "metadata": {
            "tags": []
          },
          "execution_count": 29
        }
      ]
    },
    {
      "cell_type": "markdown",
      "metadata": {
        "id": "4799chjT2FtM"
      },
      "source": [
        "# Univariate Plots\n",
        "\n",
        "Univariate plots are based on a variable for e.g 'total_bill', and show the frequency of values of a given variable.\n",
        "There are two basic kinds of univariate plots:\n",
        "\n",
        "- Histograms\n",
        "- Density Plots"
      ]
    },
    {
      "cell_type": "markdown",
      "metadata": {
        "id": "5m_5mItxJx5K"
      },
      "source": [
        "\n",
        "### Histogram\n",
        "\n",
        "If you want a quick recap of a histogram, click [here](https://colab.research.google.com/drive/1F4nLfFpxlh78pzJ8LFaWiB0_p9cJJFGE#scrollTo=dbk1jUa3dMVx).\n",
        "\n",
        "A histogram is a kind of bar plot that plots the frequency of a value (i.e how many times did a value repeat in our data). The data points are split into discrete, evenly spaced bins and the number of data points in each bin is plotted. \n",
        "\n",
        "e.g:\n",
        "We can make a histogram of tip percentages of the total bill using the ```plot.hist``` method on the column."
      ]
    },
    {
      "cell_type": "code",
      "metadata": {
        "id": "9YseZFxxJgRS",
        "colab": {
          "base_uri": "https://localhost:8080/",
          "height": 428
        },
        "outputId": "4f256535-1e81-4c88-9a30-71ec1ea9bf0c"
      },
      "source": [
        "tips['total_bill'].plot(kind='hist',bins=20,figsize=(10,7))\n",
        "plt.show()"
      ],
      "execution_count": null,
      "outputs": [
        {
          "output_type": "display_data",
          "data": {
            "image/png": "[encoded data removed]",
            "text/plain": [
              "<Figure size 720x504 with 1 Axes>"
            ]
          },
          "metadata": {
            "tags": [],
            "needs_background": "light"
          }
        }
      ]
    },
    {
      "cell_type": "markdown",
      "metadata": {
        "id": "h8BMAybV-BSZ"
      },
      "source": [
        "The code operates in the following manner:\n",
        "- The first call is the object we will be using, the column ```total_bill``` from the dataframe ```tips``` -> ```tips['data_bill']```.\n",
        "- Next, we apply the method ```plot``` to the object by adding ```.plot```.\n",
        "- Lastly, we used ```hist``` to identify the type of plot we want to make.\n",
        "  - We set the ```bin``` size to 20. This means that our plot has to be divided into 16 bars.\n",
        "  - We set the ```figsize``` to ```10``` inches in width and ```7``` inches in height. (Note: the input for figisze is a <font color=\"red\">tuple</font>)"
      ]
    },
    {
      "cell_type": "markdown",
      "metadata": {
        "id": "bWYaqmxWKqNF"
      },
      "source": [
        "### Kerner Density Estimation (KDE)\n",
        "\n",
        "Similar to a histogram, the *Kerner Density Plot* is a way to estimate the probability density function of a continuous random variable. It is used when we need to know the distribution of the variable.\n",
        "\n",
        "\n",
        "Using ```plot.kde``` and ```plot.density``` makes a density plot."
      ]
    },
    {
      "cell_type": "code",
      "metadata": {
        "id": "oBIje3NqKRpz",
        "scrolled": true,
        "colab": {
          "base_uri": "https://localhost:8080/",
          "height": 265
        },
        "outputId": "209d417c-824b-4898-a89c-6193d1e0c7d9"
      },
      "source": [
        "tips['total_bill'].plot(kind = 'kde')\n",
        "plt.show()"
      ],
      "execution_count": null,
      "outputs": [
        {
          "output_type": "display_data",
          "data": {
            "image/png": "[encoded data removed]",
            "text/plain": [
              "<Figure size 432x288 with 1 Axes>"
            ]
          },
          "metadata": {
            "tags": [],
            "needs_background": "light"
          }
        }
      ]
    },
    {
      "cell_type": "markdown",
      "metadata": {
        "id": "4k5TH4p92Ftg"
      },
      "source": [
        "Although these are useful representations, there's a more efficient method that lets us combine both the Histogram and the KDE plot. One thing to note about the Kerner Density Estimation is that it doesn't actually give us the probability of an event occurring."
      ]
    },
    {
      "cell_type": "markdown",
      "metadata": {
        "id": "eNsbML_62Fti"
      },
      "source": [
        "## Distplot\n",
        "\n",
        "``` sns.distplot(data['variablename'])```\n",
        "\n",
        "**sns.distplot()** combines the histogram plots (*something you came across in Week 4 with matplotlib*) and plots the estimated probability density function over the data. Here are some important things to note for this plot:\n",
        "- **Histogram** :  Plots distribution of numerical data\n",
        "- **Probability Density Function** Estimate the probability density function of a continuous random variable\n",
        "\n",
        "**bin** size is chosen automatically in seaborn.\n",
        "Let's move forward with the plot. To analyze it further, we will plot ```'total_bill'```  which is a numerical column. \n"
      ]
    },
    {
      "cell_type": "code",
      "metadata": {
        "id": "TnihzWob2Ftv",
        "colab": {
          "base_uri": "https://localhost:8080/",
          "height": 320
        },
        "outputId": "f2595edf-6ef8-4b61-ff88-9dfcf408c4ec"
      },
      "source": [
        "# sns.displot(tips['total_bill'],color='red') # This is the new function\n",
        "sns.distplot(x=tips['total_bill'],bins=20,color='red') # Old one but still applicable\n",
        "plt.show()"
      ],
      "execution_count": null,
      "outputs": [
        {
          "output_type": "stream",
          "text": [
            "/usr/local/lib/python3.6/dist-packages/seaborn/distributions.py:2551: FutureWarning: `distplot` is a deprecated function and will be removed in a future version. Please adapt your code to use either `displot` (a figure-level function with similar flexibility) or `histplot` (an axes-level function for histograms).\n",
            "  warnings.warn(msg, FutureWarning)\n"
          ],
          "name": "stderr"
        },
        {
          "output_type": "display_data",
          "data": {
            "image/png": "[encoded data removed]",
            "text/plain": [
              "<Figure size 432x288 with 1 Axes>"
            ]
          },
          "metadata": {
            "tags": [],
            "needs_background": "light"
          }
        }
      ]
    },
    {
      "cell_type": "markdown",
      "metadata": {
        "id": "BsqU_T3w2FuU"
      },
      "source": [
        "Let's look at the line of code above, there are three important components:\n",
        "- **sns.distplot** : This command initiates the creation of the plot.\n",
        "- **tips['total_bill']** : Gets the ```total_bill``` column from the tips dataframe.\n",
        "\n",
        "\n",
        "Can you highlight some important insights that we can get by observing the plot? \n",
        "\n",
        "**Note**: The method used above to pull columns ```tips['total_bill']``` is the most efficient way to pull column data."
      ]
    },
    {
      "cell_type": "markdown",
      "metadata": {
        "id": "wu-dPkdF2FuW"
      },
      "source": [
        "Two important observations are:\n",
        "- The ```total_bill``` variable looks skewed in nature (Density Plot)\n",
        "- Most of the bills are between $10 - $20. (Histogram)"
      ]
    },
    {
      "cell_type": "markdown",
      "metadata": {
        "id": "jGAuT744LI7Y"
      },
      "source": [
        "Probability density of total bill is equal to ~20 Dollars and is 5% by looking at the density plot axis.\n"
      ]
    },
    {
      "cell_type": "markdown",
      "metadata": {
        "id": "YyJDaDWm2Fua"
      },
      "source": [
        "# Bivariate Plots\n",
        "\n",
        "Bivariate plots are used when we need to:\n",
        "- Find a relationship between two variables.\n",
        "- Find how the value of one variable changes the value of another variable.\n",
        "\n",
        "These are also referred to as *Statistical Data Types*.\n",
        "\n",
        "Some common examples of Bivariate Plots that we will be going through are:\n",
        "- Scatterplots\n",
        "- Lineplot\n",
        "- Jointplots\n",
        "\n",
        "\n",
        "To plot Bivariate plots, we will be using ```sns.relplot```."
      ]
    },
    {
      "cell_type": "code",
      "metadata": {
        "id": "ua6WNz3yygyv"
      },
      "source": [
        "# sns.distplot # could be either numerical or categorical\n",
        "# sns.relplot # numerical\n",
        "# sns.jointplot # connects univariate and bivariate plots.\n",
        "# sns.catplot # categorical"
      ],
      "execution_count": null,
      "outputs": []
    },
    {
      "cell_type": "markdown",
      "metadata": {
        "id": "nT0lHpFO2Fuj"
      },
      "source": [
        "### Scatterplot\n",
        "\n",
        "\n",
        "\n",
        "The default plot type of ```relplot``` is the scatter plot. It shows us the relationship between two variables. Therefore, if we need to find the correlation between two variables, a scatterplot is a good place to start with.\n",
        "\n",
        "Let's look at an example below:"
      ]
    },
    {
      "cell_type": "code",
      "metadata": {
        "id": "hHbtLmRZ2Ful",
        "colab": {
          "base_uri": "https://localhost:8080/",
          "height": 401
        },
        "outputId": "154f434a-ad86-43a5-a73e-959fdb80b192"
      },
      "source": [
        "sns.relplot(x=\"total_bill\", y=\"tip\", data=tips, color = 'red')"
      ],
      "execution_count": null,
      "outputs": [
        {
          "output_type": "execute_result",
          "data": {
            "text/plain": [
              "<seaborn.axisgrid.FacetGrid at 0x7f1a1d0b3978>"
            ]
          },
          "metadata": {
            "tags": []
          },
          "execution_count": 31
        },
        {
          "output_type": "display_data",
          "data": {
            "image/png": "[encoded data removed]",
            "text/plain": [
              "<Figure size 360x360 with 1 Axes>"
            ]
          },
          "metadata": {
            "tags": [],
            "needs_background": "light"
          }
        }
      ]
    },
    {
      "cell_type": "markdown",
      "metadata": {
        "id": "npTwCKeMe5tp"
      },
      "source": [
        "Notice where most of the points lie. The conclusion is similar to what we found by observing the displot but there's another addition:\n",
        "- If the ```total_bill``` is between \\$10 and \\$20, the tip is mostly above 2.\n",
        "\n",
        "**Could there be a reason for that?**"
      ]
    },
    {
      "cell_type": "markdown",
      "metadata": {
        "id": "jJBKgwAd2Fut"
      },
      "source": [
        "\n",
        "\n",
        "### 1.0 - Now Try This:\n",
        "\n",
        "Add another parameter to the ```relplot``` function, ```hue = smoker``` and plot it. \n",
        "\n",
        "**Does the resultant plot help us find any correlation?**\n",
        "\n",
        "\n",
        "**Answer**:\n"
      ]
    },
    {
      "cell_type": "code",
      "metadata": {
        "id": "el3Q0NZShQ3q"
      },
      "source": [
        "#Once your have verified your answer please uncomment the line below and run it, this will save your code \n",
        "#%%writefile -a {folder_location}/1.py\n",
        "#Please note that if you uncomment and run multiple times, the program will keep appending to the file.\n"
      ],
      "execution_count": null,
      "outputs": []
    },
    {
      "cell_type": "markdown",
      "metadata": {
        "id": "JbAkiRQ32Fuv"
      },
      "source": [
        "### Lineplot\n",
        "\n",
        "This plot is very similar to a scatter plot. However, instead of points, there is a line drawn connecting them with respect to the position on the x-axis. \n"
      ]
    },
    {
      "cell_type": "code",
      "metadata": {
        "id": "xUdXErN52Fuy",
        "colab": {
          "base_uri": "https://localhost:8080/",
          "height": 384
        },
        "outputId": "e164b999-318f-48fe-e90c-ca5bac4af864"
      },
      "source": [
        "sns.relplot(kind = 'line',x = 'total_bill', y = 'tip',data = tips,color = 'red')\n",
        "plt.show()"
      ],
      "execution_count": null,
      "outputs": [
        {
          "output_type": "display_data",
          "data": {
            "image/png": "[encoded data removed]",
            "text/plain": [
              "<Figure size 360x360 with 1 Axes>"
            ]
          },
          "metadata": {
            "tags": [],
            "needs_background": "light"
          }
        }
      ]
    },
    {
      "cell_type": "markdown",
      "metadata": {
        "id": "wbt4JE0L2Fu3"
      },
      "source": [
        "Due to the random distribution of ```tip``` with respect to ```total_bills```, it is safe to say that the tip is not too dependent on the value of the ```total_bill```."
      ]
    },
    {
      "cell_type": "markdown",
      "metadata": {
        "id": "b6zteNp42Fu7"
      },
      "source": [
        "The tip amount at any restaurant is dependent on the ```total_bill``` divided by ```bill_size```. This plot can help us verify that."
      ]
    },
    {
      "cell_type": "markdown",
      "metadata": {
        "id": "SR8peE002Fu5"
      },
      "source": [
        "## Jointplot\n",
        "\n",
        "The next important plot in the seaborn library is the ```sns.jointplot(x= , y= , data= )```\n",
        "\n",
        "A joint-plot takes two variables and creates a histogram and scatterplot. Here are important points to note for this plot:\n",
        "- **Histogram** : Plots distribution of data (frequency)\n",
        "- **Scatterplot** : Help us with identifying a relationship between the X-Y variables\n",
        "\n",
        "Like the ```displot``` we use histograms, however, instead of density plots we use scatter plots.\n",
        "\n",
        "Let's move on to the plot and draw a simple joint plot using ```total_bill``` and ```tips```.\n",
        "\n",
        "**Think**: \n",
        "Before we plot this graph, what can we possibly find?"
      ]
    },
    {
      "cell_type": "code",
      "metadata": {
        "id": "mdRNOvJx2FvB",
        "colab": {
          "base_uri": "https://localhost:8080/",
          "height": 441
        },
        "outputId": "99302b94-304e-4e4b-cf50-477499e5b54e"
      },
      "source": [
        "sns.jointplot(x = \"total_bill\",\n",
        "              y = \"tip\",\n",
        "              data = tips,\n",
        "              color = \"green\")\n",
        "\n",
        "plt.show()"
      ],
      "execution_count": null,
      "outputs": [
        {
          "output_type": "display_data",
          "data": {
            "image/png": "[encoded data removed]",
            "text/plain": [
              "<Figure size 432x432 with 3 Axes>"
            ]
          },
          "metadata": {
            "tags": [],
            "needs_background": "light"
          }
        }
      ]
    },
    {
      "cell_type": "markdown",
      "metadata": {
        "id": "qmlvew3a2FvI"
      },
      "source": [
        "Looking at the line of code above, here are some important things to note:\n",
        "- We defined an ```x``` variable as  ```'total_bill'``` instead of ```tips['total_bill']```.\n",
        "- We do the same thing for the ```y``` as ```'tips'``` instead of ```tips['tip']```.\n",
        "- Because the function allows us to define ```data``` make it equal to the name of our dataframe, in our case ```tips```.\n",
        "\n",
        "Observing the plot we can see that indeed the tip amount at any restaurant correlates with the total_bill. The histogram also lets us observe the distribution of both columns.\n",
        "\n",
        "This information is useful for us because this shows us that there clusters of both variables, in specific areas, that seem to show a trend.\n",
        "\n"
      ]
    },
    {
      "cell_type": "markdown",
      "metadata": {
        "id": "E9BKE50B2FvK"
      },
      "source": [
        "### 2.0 - Now Try This:\n",
        "\n",
        "Let's see what the percentage of tips is for every total bill value. For this exercise:\n",
        "- Make a new variable```tip_pct```, this will be equal to the `tips['tip']`/`(tips['total_bill']-tips['tip'])`.\n",
        "- Convert the variable as an additional column to the ```tips``` dataframe.\n",
        "- Plot the ```displot``` and ```jointplot``` using ```tip_pct```.\n",
        "\n",
        "**Hint**: for the joint plot you will set ```'total_bill'``` as the x-axis parameter.\n",
        "\n",
        "#### Answers:"
      ]
    },
    {
      "cell_type": "code",
      "metadata": {
        "id": "h4QP3pmwhQ38"
      },
      "source": [
        "#Once your have verified your answer please uncomment the line below and run it, this will save your code \n",
        "#%%writefile -a {folder_location}/2.py\n",
        "#Please note that if you uncomment and run multiple times, the program will keep appending to the file.\n",
        "\n"
      ],
      "execution_count": null,
      "outputs": []
    },
    {
      "cell_type": "markdown",
      "metadata": {
        "id": "kp8OWo6Y2FvL"
      },
      "source": [
        "# Categorical Data Types"
      ]
    },
    {
      "cell_type": "markdown",
      "metadata": {
        "id": "AUpyuzDW2FvP"
      },
      "source": [
        "### Scatterplot"
      ]
    },
    {
      "cell_type": "code",
      "metadata": {
        "id": "MSLA2eYI2FvR",
        "colab": {
          "base_uri": "https://localhost:8080/",
          "height": 400
        },
        "outputId": "a38a8bea-d1e6-4345-c9cf-efcd9da4da80"
      },
      "source": [
        "sns.catplot(x='sex',y='tip',hue = 'smoker',data = tips)\n"
      ],
      "execution_count": null,
      "outputs": [
        {
          "output_type": "execute_result",
          "data": {
            "text/plain": [
              "<seaborn.axisgrid.FacetGrid at 0x7f1a1d0b3f60>"
            ]
          },
          "metadata": {
            "tags": []
          },
          "execution_count": 38
        },
        {
          "output_type": "display_data",
          "data": {
            "image/png": "[encoded data removed]",
            "text/plain": [
              "<Figure size 412x360 with 1 Axes>"
            ]
          },
          "metadata": {
            "tags": [],
            "needs_background": "light"
          }
        }
      ]
    },
    {
      "cell_type": "markdown",
      "metadata": {
        "id": "wzhUs7DYe0ei"
      },
      "source": [
        "*Notice the fact that even though we plotted a scatter plot like the previous one, instead of ```relplot``` we used ```catplot```. Replot is for relationship numerical data while a catplot is used to show the relationship between numerical and categorical data.*\n",
        "\n",
        "We can see that most of the tips are clustered between 2 and 4, irrespective of the ```gender```."
      ]
    },
    {
      "cell_type": "markdown",
      "metadata": {
        "id": "61l6cWFa2FvX"
      },
      "source": [
        "### 3.0 - Now Try This:\n",
        "You can plot different types of scatterplots by using the attribute kind and hue.\n",
        "\n",
        "The ```catplot``` function provides access to several axes-level functions that show the relationship between a numerical and one or more categorical variables using one of several visual representations. Just like the ```relplot```, the kind parameter selects the underlying axes-level function to use.\n",
        "\n",
        "You can find more information about the plot [here](https://seaborn.pydata.org/generated/seaborn.catplot.html).\n",
        "\n",
        "- Use a different columns for the `x` axis.\n",
        "- ```kind```= 'swarm'\n",
        "- ```hue``` = 'sex'\n",
        "\n",
        "**Answer**: "
      ]
    },
    {
      "cell_type": "code",
      "metadata": {
        "id": "XnrM94KzhQ4E"
      },
      "source": [
        "#Once your have verified your answer please uncomment the line below and run it, this will save your code \n",
        "#%%writefile -a {folder_location}/3.py\n",
        "#Please note that if you uncomment and run multiple times, the program will keep appending to the file.\n"
      ],
      "execution_count": null,
      "outputs": []
    },
    {
      "cell_type": "markdown",
      "metadata": {
        "id": "jYeXmDFy2FvY"
      },
      "source": [
        "## Boxplot"
      ]
    },
    {
      "cell_type": "markdown",
      "metadata": {
        "id": "0fsDxYgX2Fvd"
      },
      "source": [
        "A box plot **also known as a box-and-whisker plot** shows the distribution of *quantitative* data in a way that we can draw comparisons between variables or across levels of a categorical variable.\n",
        "\n",
        "\n",
        "```\n",
        "sns.boxplot(x=,y=,data=)\n",
        "```\n",
        "or\n",
        "```\n",
        "sns.catplot(x=,y=,kind='box',data=)\n",
        "```\n",
        "\n",
        "It shows a visual representation of the five point summary statistics of a given data set. The five number point includes:\n",
        "- Minimum\n",
        "- First Quartile\n",
        "- Median (Second Quartile)\n",
        "- Third Quartile\n",
        "- Maximum\n",
        "\n",
        "If you remember, this is the same information we get when we run ```tips.describe()```. \n",
        "\n",
        "![box-plot.png](https://github.com/ShayanRiyaz/DigitalHistory/blob/Shayan/Week7-Visualizations-and-Exploratory-Analysis-using-Seaborn-and-Pandas/assets/box-plot.png?raw=1)\n",
        "\n",
        "Before we make a boxplot, there are some important points to note:\n",
        "- Boxplot is created for Categorical Continous Variables which means that if x-axis is categorical and y-axis is continuous (numerical).\n",
        "- The case is the same for violin plots, which we will get into later."
      ]
    },
    {
      "cell_type": "code",
      "metadata": {
        "id": "KDGGpKxT2Fve",
        "colab": {
          "base_uri": "https://localhost:8080/",
          "height": 400
        },
        "outputId": "22648e9c-8c33-4be6-c5eb-e50941e3fcc3"
      },
      "source": [
        "sns.catplot(x=\"day\", y=\"total_bill\", kind=\"box\", data=tips)"
      ],
      "execution_count": null,
      "outputs": [
        {
          "output_type": "execute_result",
          "data": {
            "text/plain": [
              "<seaborn.axisgrid.FacetGrid at 0x7f1a19276ac8>"
            ]
          },
          "metadata": {
            "tags": []
          },
          "execution_count": 39
        },
        {
          "output_type": "display_data",
          "data": {
            "image/png": "[encoded data removed]",
            "text/plain": [
              "<Figure size 360x360 with 1 Axes>"
            ]
          },
          "metadata": {
            "tags": [],
            "needs_background": "light"
          }
        }
      ]
    },
    {
      "cell_type": "markdown",
      "metadata": {
        "id": "VTr_7Gfp2Fvl"
      },
      "source": [
        "Let's break the box-plot down piece-by-piece:\n",
        "- The shaded box represents the values between the ```25th quartile``` and the ```75th quartile```.\n",
        "- The horizontal line in the shaded box shows the ```median```.\n",
        "- The two horizontal lines at the bottom and top represents the ```minimum``` and ```maximum``` value respectively.\n",
        "- The dots represent the ```outliers``` calculated based on the inter-quartile function.\n",
        "\n",
        "One important use of these plots is that they help us compare values for different categories in a single graph. We can *infer* from the given graph that the amount of ```total bill``` is higher on the ```weekends than weekdays```.\n",
        "\n",
        "\n"
      ]
    },
    {
      "cell_type": "markdown",
      "metadata": {
        "id": "5QYHmpzvPUf5"
      },
      "source": [
        "### 4.0 - Now Try this\n",
        "**How do we add another variable in the box plots**\n",
        "Plot two separate plots\n",
        "1. Add ```hue = 'sex'``` in the previous line of code.\n",
        "2. Add ```hue = 'smoker'``` in the previous line of code.\n",
        "\n",
        "**What can we observe?**\n",
        "\n",
        "**Answer**:"
      ]
    },
    {
      "cell_type": "code",
      "metadata": {
        "id": "rN9Y1Nb7PSj3"
      },
      "source": [
        "#Once your have verified your answer please uncomment the line below and run it, this will save your code \n",
        "#%%writefile -a {folder_location}/4.py\n",
        "#Please note that if you uncomment and run multiple times, the program will keep appending to the file.\n"
      ],
      "execution_count": null,
      "outputs": []
    },
    {
      "cell_type": "markdown",
      "metadata": {
        "id": "1DhwHFUv2Fvz"
      },
      "source": [
        "# Practical Exercise"
      ]
    },
    {
      "cell_type": "markdown",
      "metadata": {
        "id": "0RBDgSWD2Fv0"
      },
      "source": [
        "## Visual Storytelling with Seaborn"
      ]
    },
    {
      "cell_type": "markdown",
      "metadata": {
        "id": "ItsKKckg2Fv5"
      },
      "source": [
        "I found this amazing article online by Reilly Meinert.' Visual Storytelling with Seaborn'. The word storytelling is very important here because it is a good way to learn data and understand statistical data. Data are records, and records are stories, so today we will be doing exactly that. We will learn how to tell a story by visualizing it.\n",
        "\n",
        "The dataset for this tutorial is The Economic Guide to Picking a College Major, and article by [The Economic Guide to Picking a College Major](https://fivethirtyeight.com/features/the-economic-guide-to-picking-a-college-major/).\n",
        "\n",
        "We will be visualizing and breaking down the role of men and women in all the majors along with the median salaries for those majors. If you haven't read information about the dataset you can do it [here](#RecentGrads)"
      ]
    },
    {
      "cell_type": "markdown",
      "metadata": {
        "id": "aiqAGCLd2Fv6"
      },
      "source": [
        "### Loading the Dataset"
      ]
    },
    {
      "cell_type": "code",
      "metadata": {
        "id": "DaLHbeqa2Fv-"
      },
      "source": [
        "import matplotlib.pyplot as plt\n",
        "import pandas as pd\n",
        "import seaborn as sns"
      ],
      "execution_count": null,
      "outputs": []
    },
    {
      "cell_type": "code",
      "metadata": {
        "id": "zkIDSJWUQFCV"
      },
      "source": [
        "url = 'https://raw.githubusercontent.com/bitprj/DigitalHistory/master/Week7-Visualizations-and-Exploratory-Analysis-using-Seaborn-and-Pandas/data/recent-grads.csv'\n",
        "recent_grads = pd.read_csv(url)"
      ],
      "execution_count": null,
      "outputs": []
    },
    {
      "cell_type": "code",
      "metadata": {
        "colab": {
          "base_uri": "https://localhost:8080/",
          "height": 670
        },
        "id": "SvUtC4ax3Php",
        "outputId": "d183d8ea-e4d4-4386-e3cf-957e35cc6dc1"
      },
      "source": [
        "recent_grads"
      ],
      "execution_count": null,
      "outputs": [
        {
          "output_type": "execute_result",
          "data": {
            "text/html": [
              "<div>\n",
              "<style scoped>\n",
              "    .dataframe tbody tr th:only-of-type {\n",
              "        vertical-align: middle;\n",
              "    }\n",
              "\n",
              "    .dataframe tbody tr th {\n",
              "        vertical-align: top;\n",
              "    }\n",
              "\n",
              "    .dataframe thead th {\n",
              "        text-align: right;\n",
              "    }\n",
              "</style>\n",
              "<table border=\"1\" class=\"dataframe\">\n",
              "  <thead>\n",
              "    <tr style=\"text-align: right;\">\n",
              "      <th></th>\n",
              "      <th>Rank</th>\n",
              "      <th>Major_code</th>\n",
              "      <th>Major</th>\n",
              "      <th>Total</th>\n",
              "      <th>Men</th>\n",
              "      <th>Women</th>\n",
              "      <th>Major_category</th>\n",
              "      <th>ShareWomen</th>\n",
              "      <th>Sample_size</th>\n",
              "      <th>Employed</th>\n",
              "      <th>Full_time</th>\n",
              "      <th>Part_time</th>\n",
              "      <th>Full_time_year_round</th>\n",
              "      <th>Unemployed</th>\n",
              "      <th>Unemployment_rate</th>\n",
              "      <th>Median</th>\n",
              "      <th>P25th</th>\n",
              "      <th>P75th</th>\n",
              "      <th>College_jobs</th>\n",
              "      <th>Non_college_jobs</th>\n",
              "      <th>Low_wage_jobs</th>\n",
              "    </tr>\n",
              "  </thead>\n",
              "  <tbody>\n",
              "    <tr>\n",
              "      <th>0</th>\n",
              "      <td>1</td>\n",
              "      <td>2419</td>\n",
              "      <td>PETROLEUM ENGINEERING</td>\n",
              "      <td>2339.0</td>\n",
              "      <td>2057.0</td>\n",
              "      <td>282.0</td>\n",
              "      <td>Engineering</td>\n",
              "      <td>0.120564</td>\n",
              "      <td>36</td>\n",
              "      <td>1976</td>\n",
              "      <td>1849</td>\n",
              "      <td>270</td>\n",
              "      <td>1207</td>\n",
              "      <td>37</td>\n",
              "      <td>0.018381</td>\n",
              "      <td>110000</td>\n",
              "      <td>95000</td>\n",
              "      <td>125000</td>\n",
              "      <td>1534</td>\n",
              "      <td>364</td>\n",
              "      <td>193</td>\n",
              "    </tr>\n",
              "    <tr>\n",
              "      <th>1</th>\n",
              "      <td>2</td>\n",
              "      <td>2416</td>\n",
              "      <td>MINING AND MINERAL ENGINEERING</td>\n",
              "      <td>756.0</td>\n",
              "      <td>679.0</td>\n",
              "      <td>77.0</td>\n",
              "      <td>Engineering</td>\n",
              "      <td>0.101852</td>\n",
              "      <td>7</td>\n",
              "      <td>640</td>\n",
              "      <td>556</td>\n",
              "      <td>170</td>\n",
              "      <td>388</td>\n",
              "      <td>85</td>\n",
              "      <td>0.117241</td>\n",
              "      <td>75000</td>\n",
              "      <td>55000</td>\n",
              "      <td>90000</td>\n",
              "      <td>350</td>\n",
              "      <td>257</td>\n",
              "      <td>50</td>\n",
              "    </tr>\n",
              "    <tr>\n",
              "      <th>2</th>\n",
              "      <td>3</td>\n",
              "      <td>2415</td>\n",
              "      <td>METALLURGICAL ENGINEERING</td>\n",
              "      <td>856.0</td>\n",
              "      <td>725.0</td>\n",
              "      <td>131.0</td>\n",
              "      <td>Engineering</td>\n",
              "      <td>0.153037</td>\n",
              "      <td>3</td>\n",
              "      <td>648</td>\n",
              "      <td>558</td>\n",
              "      <td>133</td>\n",
              "      <td>340</td>\n",
              "      <td>16</td>\n",
              "      <td>0.024096</td>\n",
              "      <td>73000</td>\n",
              "      <td>50000</td>\n",
              "      <td>105000</td>\n",
              "      <td>456</td>\n",
              "      <td>176</td>\n",
              "      <td>0</td>\n",
              "    </tr>\n",
              "    <tr>\n",
              "      <th>3</th>\n",
              "      <td>4</td>\n",
              "      <td>2417</td>\n",
              "      <td>NAVAL ARCHITECTURE AND MARINE ENGINEERING</td>\n",
              "      <td>1258.0</td>\n",
              "      <td>1123.0</td>\n",
              "      <td>135.0</td>\n",
              "      <td>Engineering</td>\n",
              "      <td>0.107313</td>\n",
              "      <td>16</td>\n",
              "      <td>758</td>\n",
              "      <td>1069</td>\n",
              "      <td>150</td>\n",
              "      <td>692</td>\n",
              "      <td>40</td>\n",
              "      <td>0.050125</td>\n",
              "      <td>70000</td>\n",
              "      <td>43000</td>\n",
              "      <td>80000</td>\n",
              "      <td>529</td>\n",
              "      <td>102</td>\n",
              "      <td>0</td>\n",
              "    </tr>\n",
              "    <tr>\n",
              "      <th>4</th>\n",
              "      <td>5</td>\n",
              "      <td>2405</td>\n",
              "      <td>CHEMICAL ENGINEERING</td>\n",
              "      <td>32260.0</td>\n",
              "      <td>21239.0</td>\n",
              "      <td>11021.0</td>\n",
              "      <td>Engineering</td>\n",
              "      <td>0.341631</td>\n",
              "      <td>289</td>\n",
              "      <td>25694</td>\n",
              "      <td>23170</td>\n",
              "      <td>5180</td>\n",
              "      <td>16697</td>\n",
              "      <td>1672</td>\n",
              "      <td>0.061098</td>\n",
              "      <td>65000</td>\n",
              "      <td>50000</td>\n",
              "      <td>75000</td>\n",
              "      <td>18314</td>\n",
              "      <td>4440</td>\n",
              "      <td>972</td>\n",
              "    </tr>\n",
              "    <tr>\n",
              "      <th>...</th>\n",
              "      <td>...</td>\n",
              "      <td>...</td>\n",
              "      <td>...</td>\n",
              "      <td>...</td>\n",
              "      <td>...</td>\n",
              "      <td>...</td>\n",
              "      <td>...</td>\n",
              "      <td>...</td>\n",
              "      <td>...</td>\n",
              "      <td>...</td>\n",
              "      <td>...</td>\n",
              "      <td>...</td>\n",
              "      <td>...</td>\n",
              "      <td>...</td>\n",
              "      <td>...</td>\n",
              "      <td>...</td>\n",
              "      <td>...</td>\n",
              "      <td>...</td>\n",
              "      <td>...</td>\n",
              "      <td>...</td>\n",
              "      <td>...</td>\n",
              "    </tr>\n",
              "    <tr>\n",
              "      <th>168</th>\n",
              "      <td>169</td>\n",
              "      <td>3609</td>\n",
              "      <td>ZOOLOGY</td>\n",
              "      <td>8409.0</td>\n",
              "      <td>3050.0</td>\n",
              "      <td>5359.0</td>\n",
              "      <td>Biology &amp; Life Science</td>\n",
              "      <td>0.637293</td>\n",
              "      <td>47</td>\n",
              "      <td>6259</td>\n",
              "      <td>5043</td>\n",
              "      <td>2190</td>\n",
              "      <td>3602</td>\n",
              "      <td>304</td>\n",
              "      <td>0.046320</td>\n",
              "      <td>26000</td>\n",
              "      <td>20000</td>\n",
              "      <td>39000</td>\n",
              "      <td>2771</td>\n",
              "      <td>2947</td>\n",
              "      <td>743</td>\n",
              "    </tr>\n",
              "    <tr>\n",
              "      <th>169</th>\n",
              "      <td>170</td>\n",
              "      <td>5201</td>\n",
              "      <td>EDUCATIONAL PSYCHOLOGY</td>\n",
              "      <td>2854.0</td>\n",
              "      <td>522.0</td>\n",
              "      <td>2332.0</td>\n",
              "      <td>Psychology &amp; Social Work</td>\n",
              "      <td>0.817099</td>\n",
              "      <td>7</td>\n",
              "      <td>2125</td>\n",
              "      <td>1848</td>\n",
              "      <td>572</td>\n",
              "      <td>1211</td>\n",
              "      <td>148</td>\n",
              "      <td>0.065112</td>\n",
              "      <td>25000</td>\n",
              "      <td>24000</td>\n",
              "      <td>34000</td>\n",
              "      <td>1488</td>\n",
              "      <td>615</td>\n",
              "      <td>82</td>\n",
              "    </tr>\n",
              "    <tr>\n",
              "      <th>170</th>\n",
              "      <td>171</td>\n",
              "      <td>5202</td>\n",
              "      <td>CLINICAL PSYCHOLOGY</td>\n",
              "      <td>2838.0</td>\n",
              "      <td>568.0</td>\n",
              "      <td>2270.0</td>\n",
              "      <td>Psychology &amp; Social Work</td>\n",
              "      <td>0.799859</td>\n",
              "      <td>13</td>\n",
              "      <td>2101</td>\n",
              "      <td>1724</td>\n",
              "      <td>648</td>\n",
              "      <td>1293</td>\n",
              "      <td>368</td>\n",
              "      <td>0.149048</td>\n",
              "      <td>25000</td>\n",
              "      <td>25000</td>\n",
              "      <td>40000</td>\n",
              "      <td>986</td>\n",
              "      <td>870</td>\n",
              "      <td>622</td>\n",
              "    </tr>\n",
              "    <tr>\n",
              "      <th>171</th>\n",
              "      <td>172</td>\n",
              "      <td>5203</td>\n",
              "      <td>COUNSELING PSYCHOLOGY</td>\n",
              "      <td>4626.0</td>\n",
              "      <td>931.0</td>\n",
              "      <td>3695.0</td>\n",
              "      <td>Psychology &amp; Social Work</td>\n",
              "      <td>0.798746</td>\n",
              "      <td>21</td>\n",
              "      <td>3777</td>\n",
              "      <td>3154</td>\n",
              "      <td>965</td>\n",
              "      <td>2738</td>\n",
              "      <td>214</td>\n",
              "      <td>0.053621</td>\n",
              "      <td>23400</td>\n",
              "      <td>19200</td>\n",
              "      <td>26000</td>\n",
              "      <td>2403</td>\n",
              "      <td>1245</td>\n",
              "      <td>308</td>\n",
              "    </tr>\n",
              "    <tr>\n",
              "      <th>172</th>\n",
              "      <td>173</td>\n",
              "      <td>3501</td>\n",
              "      <td>LIBRARY SCIENCE</td>\n",
              "      <td>1098.0</td>\n",
              "      <td>134.0</td>\n",
              "      <td>964.0</td>\n",
              "      <td>Education</td>\n",
              "      <td>0.877960</td>\n",
              "      <td>2</td>\n",
              "      <td>742</td>\n",
              "      <td>593</td>\n",
              "      <td>237</td>\n",
              "      <td>410</td>\n",
              "      <td>87</td>\n",
              "      <td>0.104946</td>\n",
              "      <td>22000</td>\n",
              "      <td>20000</td>\n",
              "      <td>22000</td>\n",
              "      <td>288</td>\n",
              "      <td>338</td>\n",
              "      <td>192</td>\n",
              "    </tr>\n",
              "  </tbody>\n",
              "</table>\n",
              "<p>173 rows × 21 columns</p>\n",
              "</div>"
            ],
            "text/plain": [
              "     Rank  Major_code  ... Non_college_jobs  Low_wage_jobs\n",
              "0       1        2419  ...              364            193\n",
              "1       2        2416  ...              257             50\n",
              "2       3        2415  ...              176              0\n",
              "3       4        2417  ...              102              0\n",
              "4       5        2405  ...             4440            972\n",
              "..    ...         ...  ...              ...            ...\n",
              "168   169        3609  ...             2947            743\n",
              "169   170        5201  ...              615             82\n",
              "170   171        5202  ...              870            622\n",
              "171   172        5203  ...             1245            308\n",
              "172   173        3501  ...              338            192\n",
              "\n",
              "[173 rows x 21 columns]"
            ]
          },
          "metadata": {
            "tags": []
          },
          "execution_count": 45
        }
      ]
    },
    {
      "cell_type": "code",
      "metadata": {
        "id": "mMpbaj60hQ4o",
        "colab": {
          "base_uri": "https://localhost:8080/",
          "height": 365
        },
        "outputId": "d4389511-268b-419a-e728-eeeaa892042a"
      },
      "source": [
        "recent_grads.head()"
      ],
      "execution_count": null,
      "outputs": [
        {
          "output_type": "execute_result",
          "data": {
            "text/html": [
              "<div>\n",
              "<style scoped>\n",
              "    .dataframe tbody tr th:only-of-type {\n",
              "        vertical-align: middle;\n",
              "    }\n",
              "\n",
              "    .dataframe tbody tr th {\n",
              "        vertical-align: top;\n",
              "    }\n",
              "\n",
              "    .dataframe thead th {\n",
              "        text-align: right;\n",
              "    }\n",
              "</style>\n",
              "<table border=\"1\" class=\"dataframe\">\n",
              "  <thead>\n",
              "    <tr style=\"text-align: right;\">\n",
              "      <th></th>\n",
              "      <th>Rank</th>\n",
              "      <th>Major_code</th>\n",
              "      <th>Major</th>\n",
              "      <th>Total</th>\n",
              "      <th>Men</th>\n",
              "      <th>Women</th>\n",
              "      <th>Major_category</th>\n",
              "      <th>ShareWomen</th>\n",
              "      <th>Sample_size</th>\n",
              "      <th>Employed</th>\n",
              "      <th>Full_time</th>\n",
              "      <th>Part_time</th>\n",
              "      <th>Full_time_year_round</th>\n",
              "      <th>Unemployed</th>\n",
              "      <th>Unemployment_rate</th>\n",
              "      <th>Median</th>\n",
              "      <th>P25th</th>\n",
              "      <th>P75th</th>\n",
              "      <th>College_jobs</th>\n",
              "      <th>Non_college_jobs</th>\n",
              "      <th>Low_wage_jobs</th>\n",
              "    </tr>\n",
              "  </thead>\n",
              "  <tbody>\n",
              "    <tr>\n",
              "      <th>0</th>\n",
              "      <td>1</td>\n",
              "      <td>2419</td>\n",
              "      <td>PETROLEUM ENGINEERING</td>\n",
              "      <td>2339.0</td>\n",
              "      <td>2057.0</td>\n",
              "      <td>282.0</td>\n",
              "      <td>Engineering</td>\n",
              "      <td>0.120564</td>\n",
              "      <td>36</td>\n",
              "      <td>1976</td>\n",
              "      <td>1849</td>\n",
              "      <td>270</td>\n",
              "      <td>1207</td>\n",
              "      <td>37</td>\n",
              "      <td>0.018381</td>\n",
              "      <td>110000</td>\n",
              "      <td>95000</td>\n",
              "      <td>125000</td>\n",
              "      <td>1534</td>\n",
              "      <td>364</td>\n",
              "      <td>193</td>\n",
              "    </tr>\n",
              "    <tr>\n",
              "      <th>1</th>\n",
              "      <td>2</td>\n",
              "      <td>2416</td>\n",
              "      <td>MINING AND MINERAL ENGINEERING</td>\n",
              "      <td>756.0</td>\n",
              "      <td>679.0</td>\n",
              "      <td>77.0</td>\n",
              "      <td>Engineering</td>\n",
              "      <td>0.101852</td>\n",
              "      <td>7</td>\n",
              "      <td>640</td>\n",
              "      <td>556</td>\n",
              "      <td>170</td>\n",
              "      <td>388</td>\n",
              "      <td>85</td>\n",
              "      <td>0.117241</td>\n",
              "      <td>75000</td>\n",
              "      <td>55000</td>\n",
              "      <td>90000</td>\n",
              "      <td>350</td>\n",
              "      <td>257</td>\n",
              "      <td>50</td>\n",
              "    </tr>\n",
              "    <tr>\n",
              "      <th>2</th>\n",
              "      <td>3</td>\n",
              "      <td>2415</td>\n",
              "      <td>METALLURGICAL ENGINEERING</td>\n",
              "      <td>856.0</td>\n",
              "      <td>725.0</td>\n",
              "      <td>131.0</td>\n",
              "      <td>Engineering</td>\n",
              "      <td>0.153037</td>\n",
              "      <td>3</td>\n",
              "      <td>648</td>\n",
              "      <td>558</td>\n",
              "      <td>133</td>\n",
              "      <td>340</td>\n",
              "      <td>16</td>\n",
              "      <td>0.024096</td>\n",
              "      <td>73000</td>\n",
              "      <td>50000</td>\n",
              "      <td>105000</td>\n",
              "      <td>456</td>\n",
              "      <td>176</td>\n",
              "      <td>0</td>\n",
              "    </tr>\n",
              "    <tr>\n",
              "      <th>3</th>\n",
              "      <td>4</td>\n",
              "      <td>2417</td>\n",
              "      <td>NAVAL ARCHITECTURE AND MARINE ENGINEERING</td>\n",
              "      <td>1258.0</td>\n",
              "      <td>1123.0</td>\n",
              "      <td>135.0</td>\n",
              "      <td>Engineering</td>\n",
              "      <td>0.107313</td>\n",
              "      <td>16</td>\n",
              "      <td>758</td>\n",
              "      <td>1069</td>\n",
              "      <td>150</td>\n",
              "      <td>692</td>\n",
              "      <td>40</td>\n",
              "      <td>0.050125</td>\n",
              "      <td>70000</td>\n",
              "      <td>43000</td>\n",
              "      <td>80000</td>\n",
              "      <td>529</td>\n",
              "      <td>102</td>\n",
              "      <td>0</td>\n",
              "    </tr>\n",
              "    <tr>\n",
              "      <th>4</th>\n",
              "      <td>5</td>\n",
              "      <td>2405</td>\n",
              "      <td>CHEMICAL ENGINEERING</td>\n",
              "      <td>32260.0</td>\n",
              "      <td>21239.0</td>\n",
              "      <td>11021.0</td>\n",
              "      <td>Engineering</td>\n",
              "      <td>0.341631</td>\n",
              "      <td>289</td>\n",
              "      <td>25694</td>\n",
              "      <td>23170</td>\n",
              "      <td>5180</td>\n",
              "      <td>16697</td>\n",
              "      <td>1672</td>\n",
              "      <td>0.061098</td>\n",
              "      <td>65000</td>\n",
              "      <td>50000</td>\n",
              "      <td>75000</td>\n",
              "      <td>18314</td>\n",
              "      <td>4440</td>\n",
              "      <td>972</td>\n",
              "    </tr>\n",
              "  </tbody>\n",
              "</table>\n",
              "</div>"
            ],
            "text/plain": [
              "   Rank  Major_code  ... Non_college_jobs  Low_wage_jobs\n",
              "0     1        2419  ...              364            193\n",
              "1     2        2416  ...              257             50\n",
              "2     3        2415  ...              176              0\n",
              "3     4        2417  ...              102              0\n",
              "4     5        2405  ...             4440            972\n",
              "\n",
              "[5 rows x 21 columns]"
            ]
          },
          "metadata": {
            "tags": []
          },
          "execution_count": 42
        }
      ]
    },
    {
      "cell_type": "code",
      "metadata": {
        "id": "JAlv5fgyUd31",
        "colab": {
          "base_uri": "https://localhost:8080/",
          "height": 320
        },
        "outputId": "aa032210-bbe1-4164-82c2-3ab50716e128"
      },
      "source": [
        "recent_grads.describe()"
      ],
      "execution_count": null,
      "outputs": [
        {
          "output_type": "execute_result",
          "data": {
            "text/html": [
              "<div>\n",
              "<style scoped>\n",
              "    .dataframe tbody tr th:only-of-type {\n",
              "        vertical-align: middle;\n",
              "    }\n",
              "\n",
              "    .dataframe tbody tr th {\n",
              "        vertical-align: top;\n",
              "    }\n",
              "\n",
              "    .dataframe thead th {\n",
              "        text-align: right;\n",
              "    }\n",
              "</style>\n",
              "<table border=\"1\" class=\"dataframe\">\n",
              "  <thead>\n",
              "    <tr style=\"text-align: right;\">\n",
              "      <th></th>\n",
              "      <th>Rank</th>\n",
              "      <th>Major_code</th>\n",
              "      <th>Total</th>\n",
              "      <th>Men</th>\n",
              "      <th>Women</th>\n",
              "      <th>ShareWomen</th>\n",
              "      <th>Sample_size</th>\n",
              "      <th>Employed</th>\n",
              "      <th>Full_time</th>\n",
              "      <th>Part_time</th>\n",
              "      <th>Full_time_year_round</th>\n",
              "      <th>Unemployed</th>\n",
              "      <th>Unemployment_rate</th>\n",
              "      <th>Median</th>\n",
              "      <th>P25th</th>\n",
              "      <th>P75th</th>\n",
              "      <th>College_jobs</th>\n",
              "      <th>Non_college_jobs</th>\n",
              "      <th>Low_wage_jobs</th>\n",
              "    </tr>\n",
              "  </thead>\n",
              "  <tbody>\n",
              "    <tr>\n",
              "      <th>count</th>\n",
              "      <td>173.000000</td>\n",
              "      <td>173.000000</td>\n",
              "      <td>172.000000</td>\n",
              "      <td>172.000000</td>\n",
              "      <td>172.000000</td>\n",
              "      <td>172.000000</td>\n",
              "      <td>173.000000</td>\n",
              "      <td>173.000000</td>\n",
              "      <td>173.000000</td>\n",
              "      <td>173.000000</td>\n",
              "      <td>173.000000</td>\n",
              "      <td>173.000000</td>\n",
              "      <td>173.000000</td>\n",
              "      <td>173.000000</td>\n",
              "      <td>173.000000</td>\n",
              "      <td>173.000000</td>\n",
              "      <td>173.000000</td>\n",
              "      <td>173.000000</td>\n",
              "      <td>173.000000</td>\n",
              "    </tr>\n",
              "    <tr>\n",
              "      <th>mean</th>\n",
              "      <td>87.000000</td>\n",
              "      <td>3879.815029</td>\n",
              "      <td>39370.081395</td>\n",
              "      <td>16723.406977</td>\n",
              "      <td>22646.674419</td>\n",
              "      <td>0.522223</td>\n",
              "      <td>356.080925</td>\n",
              "      <td>31192.763006</td>\n",
              "      <td>26029.306358</td>\n",
              "      <td>8832.398844</td>\n",
              "      <td>19694.427746</td>\n",
              "      <td>2416.329480</td>\n",
              "      <td>0.068191</td>\n",
              "      <td>40151.445087</td>\n",
              "      <td>29501.445087</td>\n",
              "      <td>51494.219653</td>\n",
              "      <td>12322.635838</td>\n",
              "      <td>13284.497110</td>\n",
              "      <td>3859.017341</td>\n",
              "    </tr>\n",
              "    <tr>\n",
              "      <th>std</th>\n",
              "      <td>50.084928</td>\n",
              "      <td>1687.753140</td>\n",
              "      <td>63483.491009</td>\n",
              "      <td>28122.433474</td>\n",
              "      <td>41057.330740</td>\n",
              "      <td>0.231205</td>\n",
              "      <td>618.361022</td>\n",
              "      <td>50675.002241</td>\n",
              "      <td>42869.655092</td>\n",
              "      <td>14648.179473</td>\n",
              "      <td>33160.941514</td>\n",
              "      <td>4112.803148</td>\n",
              "      <td>0.030331</td>\n",
              "      <td>11470.181802</td>\n",
              "      <td>9166.005235</td>\n",
              "      <td>14906.279740</td>\n",
              "      <td>21299.868863</td>\n",
              "      <td>23789.655363</td>\n",
              "      <td>6944.998579</td>\n",
              "    </tr>\n",
              "    <tr>\n",
              "      <th>min</th>\n",
              "      <td>1.000000</td>\n",
              "      <td>1100.000000</td>\n",
              "      <td>124.000000</td>\n",
              "      <td>119.000000</td>\n",
              "      <td>0.000000</td>\n",
              "      <td>0.000000</td>\n",
              "      <td>2.000000</td>\n",
              "      <td>0.000000</td>\n",
              "      <td>111.000000</td>\n",
              "      <td>0.000000</td>\n",
              "      <td>111.000000</td>\n",
              "      <td>0.000000</td>\n",
              "      <td>0.000000</td>\n",
              "      <td>22000.000000</td>\n",
              "      <td>18500.000000</td>\n",
              "      <td>22000.000000</td>\n",
              "      <td>0.000000</td>\n",
              "      <td>0.000000</td>\n",
              "      <td>0.000000</td>\n",
              "    </tr>\n",
              "    <tr>\n",
              "      <th>25%</th>\n",
              "      <td>44.000000</td>\n",
              "      <td>2403.000000</td>\n",
              "      <td>4549.750000</td>\n",
              "      <td>2177.500000</td>\n",
              "      <td>1778.250000</td>\n",
              "      <td>0.336026</td>\n",
              "      <td>39.000000</td>\n",
              "      <td>3608.000000</td>\n",
              "      <td>3154.000000</td>\n",
              "      <td>1030.000000</td>\n",
              "      <td>2453.000000</td>\n",
              "      <td>304.000000</td>\n",
              "      <td>0.050306</td>\n",
              "      <td>33000.000000</td>\n",
              "      <td>24000.000000</td>\n",
              "      <td>42000.000000</td>\n",
              "      <td>1675.000000</td>\n",
              "      <td>1591.000000</td>\n",
              "      <td>340.000000</td>\n",
              "    </tr>\n",
              "    <tr>\n",
              "      <th>50%</th>\n",
              "      <td>87.000000</td>\n",
              "      <td>3608.000000</td>\n",
              "      <td>15104.000000</td>\n",
              "      <td>5434.000000</td>\n",
              "      <td>8386.500000</td>\n",
              "      <td>0.534024</td>\n",
              "      <td>130.000000</td>\n",
              "      <td>11797.000000</td>\n",
              "      <td>10048.000000</td>\n",
              "      <td>3299.000000</td>\n",
              "      <td>7413.000000</td>\n",
              "      <td>893.000000</td>\n",
              "      <td>0.067961</td>\n",
              "      <td>36000.000000</td>\n",
              "      <td>27000.000000</td>\n",
              "      <td>47000.000000</td>\n",
              "      <td>4390.000000</td>\n",
              "      <td>4595.000000</td>\n",
              "      <td>1231.000000</td>\n",
              "    </tr>\n",
              "    <tr>\n",
              "      <th>75%</th>\n",
              "      <td>130.000000</td>\n",
              "      <td>5503.000000</td>\n",
              "      <td>38909.750000</td>\n",
              "      <td>14631.000000</td>\n",
              "      <td>22553.750000</td>\n",
              "      <td>0.703299</td>\n",
              "      <td>338.000000</td>\n",
              "      <td>31433.000000</td>\n",
              "      <td>25147.000000</td>\n",
              "      <td>9948.000000</td>\n",
              "      <td>16891.000000</td>\n",
              "      <td>2393.000000</td>\n",
              "      <td>0.087557</td>\n",
              "      <td>45000.000000</td>\n",
              "      <td>33000.000000</td>\n",
              "      <td>60000.000000</td>\n",
              "      <td>14444.000000</td>\n",
              "      <td>11783.000000</td>\n",
              "      <td>3466.000000</td>\n",
              "    </tr>\n",
              "    <tr>\n",
              "      <th>max</th>\n",
              "      <td>173.000000</td>\n",
              "      <td>6403.000000</td>\n",
              "      <td>393735.000000</td>\n",
              "      <td>173809.000000</td>\n",
              "      <td>307087.000000</td>\n",
              "      <td>0.968954</td>\n",
              "      <td>4212.000000</td>\n",
              "      <td>307933.000000</td>\n",
              "      <td>251540.000000</td>\n",
              "      <td>115172.000000</td>\n",
              "      <td>199897.000000</td>\n",
              "      <td>28169.000000</td>\n",
              "      <td>0.177226</td>\n",
              "      <td>110000.000000</td>\n",
              "      <td>95000.000000</td>\n",
              "      <td>125000.000000</td>\n",
              "      <td>151643.000000</td>\n",
              "      <td>148395.000000</td>\n",
              "      <td>48207.000000</td>\n",
              "    </tr>\n",
              "  </tbody>\n",
              "</table>\n",
              "</div>"
            ],
            "text/plain": [
              "             Rank   Major_code  ...  Non_college_jobs  Low_wage_jobs\n",
              "count  173.000000   173.000000  ...        173.000000     173.000000\n",
              "mean    87.000000  3879.815029  ...      13284.497110    3859.017341\n",
              "std     50.084928  1687.753140  ...      23789.655363    6944.998579\n",
              "min      1.000000  1100.000000  ...          0.000000       0.000000\n",
              "25%     44.000000  2403.000000  ...       1591.000000     340.000000\n",
              "50%     87.000000  3608.000000  ...       4595.000000    1231.000000\n",
              "75%    130.000000  5503.000000  ...      11783.000000    3466.000000\n",
              "max    173.000000  6403.000000  ...     148395.000000   48207.000000\n",
              "\n",
              "[8 rows x 19 columns]"
            ]
          },
          "metadata": {
            "tags": []
          },
          "execution_count": 43
        }
      ]
    },
    {
      "cell_type": "code",
      "metadata": {
        "id": "g35W41Dr2FwH",
        "colab": {
          "base_uri": "https://localhost:8080/"
        },
        "outputId": "102ddd3c-ee8f-409a-ba0a-24a98293e36a"
      },
      "source": [
        "recent_grads.dtypes\n"
      ],
      "execution_count": null,
      "outputs": [
        {
          "output_type": "execute_result",
          "data": {
            "text/plain": [
              "Rank                      int64\n",
              "Major_code                int64\n",
              "Major                    object\n",
              "Total                   float64\n",
              "Men                     float64\n",
              "Women                   float64\n",
              "Major_category           object\n",
              "ShareWomen              float64\n",
              "Sample_size               int64\n",
              "Employed                  int64\n",
              "Full_time                 int64\n",
              "Part_time                 int64\n",
              "Full_time_year_round      int64\n",
              "Unemployed                int64\n",
              "Unemployment_rate       float64\n",
              "Median                    int64\n",
              "P25th                     int64\n",
              "P75th                     int64\n",
              "College_jobs              int64\n",
              "Non_college_jobs          int64\n",
              "Low_wage_jobs             int64\n",
              "dtype: object"
            ]
          },
          "metadata": {
            "tags": []
          },
          "execution_count": 44
        }
      ]
    },
    {
      "cell_type": "markdown",
      "metadata": {
        "id": "Vbwa84jK7tN1"
      },
      "source": [
        "These steps were fairly straightforward, since we have used them multiple times by now:\n",
        "- import the relevant libraries\n",
        "- save the location of your file (url or directory)\n",
        "- declare a variable name and equate it to the ```pd.read_csv``` method.\n",
        "- print the first 5 rows of the dataFrame by using ```head()```.\n",
        "- print the types of the columns."
      ]
    },
    {
      "cell_type": "markdown",
      "metadata": {
        "id": "bOA0lHu_hQ4w"
      },
      "source": [
        "### 5.0 Now Try This:\n",
        "- For this exercise, you will plot 4 different plots. Don't worry, they might sound like many but they're easy to implement:\n",
        "- The first plot will be a ```displot``` with bins of ```10``` with respect to ```Median```\n",
        "- The second plot will be a ```kdeplot``` with respect to ```Median```. \n",
        "- For the third plot, you will be repeating number 2, however, we want the area under the curve to be shaded. See which parameter would be useful for this [here](https://seaborn.pydata.org/generated/seaborn.kdeplot.html). \n",
        "- The fourth will be a joint plot for ```ShareWomen``` vs ```Median```.\n",
        "\n",
        "**Answer**:"
      ]
    },
    {
      "cell_type": "code",
      "metadata": {
        "id": "0zGw-X4NhQ4w"
      },
      "source": [
        "#Once your have verified your answer please uncomment the line below and run it, this will save your code \n",
        "#%%writefile -a {folder_location}/5.py\n",
        "#Please note that if you uncomment and run multiple times, the program will keep appending to the file.\n",
        "\n",
        "\n",
        "# PLOT 1 \n",
        "\n",
        "# Histogram of Median salaries \n",
        "plt.figure(figsize=(10,7))\n",
        "sns. # INSERT CODE HERE\n",
        "plt.title(# INSERT CODE HERE\n",
        "plt.show()\n",
        "\n",
        "# NOTE: can't do x = 'col_name', data = df using distplot()\n",
        "\n",
        "    \n",
        "# PLOT 2\n",
        "# Want distribution curve but not bins\n",
        "\n",
        "# INSERT CODE HERE\n",
        "plt.show()\n",
        "\n",
        "    \n",
        "# PLOT 3\n",
        "# Want shaded distribution curve\n",
        "\n",
        "# INSERTt CODE HERE\n",
        "plt.show()\n",
        "\n",
        "    \n",
        "# PLOT 4\n",
        "#  Relationships & distributions of the plotted variables \n",
        "\n",
        "sns.jointplot(# INSERT CODE HERE\n",
        "plt.show()"
      ],
      "execution_count": null,
      "outputs": []
    },
    {
      "cell_type": "markdown",
      "metadata": {
        "id": "l62GsipwhQ46"
      },
      "source": [
        "## Counting the Frequency of Majors"
      ]
    },
    {
      "cell_type": "code",
      "metadata": {
        "id": "afmQSpBphQ47",
        "colab": {
          "base_uri": "https://localhost:8080/",
          "height": 555
        },
        "outputId": "d5890d44-02f7-4c8b-cddf-957e5e5798ed"
      },
      "source": [
        "# Create a bar graph to view the number of majors in each category\n",
        "\n",
        "sns.catplot(x = 'Major_category', kind = 'count', data = recent_grads)\n",
        "plt.xticks(rotation = 90)\n",
        "plt.show()"
      ],
      "execution_count": null,
      "outputs": [
        {
          "output_type": "display_data",
          "data": {
            "image/png": "[encoded data removed]",
            "text/plain": [
              "<Figure size 360x360 with 1 Axes>"
            ]
          },
          "metadata": {
            "tags": [],
            "needs_background": "light"
          }
        }
      ]
    },
    {
      "cell_type": "markdown",
      "metadata": {
        "id": "zPb-xEpK2FwQ"
      },
      "source": [
        "## Plotting Numerical values"
      ]
    },
    {
      "cell_type": "code",
      "metadata": {
        "id": "1dlR8Y3GhQ5A",
        "colab": {
          "base_uri": "https://localhost:8080/",
          "height": 755
        },
        "outputId": "a921429c-83c1-4b1f-f823-cdd21a39ea53"
      },
      "source": [
        "recent_grads[:10].plot(kind = 'bar',x='Major', y='ShareWomen', figsize=(12,8))"
      ],
      "execution_count": null,
      "outputs": [
        {
          "output_type": "execute_result",
          "data": {
            "text/plain": [
              "<matplotlib.axes._subplots.AxesSubplot at 0x7f1a187e6ef0>"
            ]
          },
          "metadata": {
            "tags": []
          },
          "execution_count": 54
        },
        {
          "output_type": "display_data",
          "data": {
            "image/png": "[encoded data removed]",
            "text/plain": [
              "<Figure size 864x576 with 1 Axes>"
            ]
          },
          "metadata": {
            "tags": [],
            "needs_background": "light"
          }
        }
      ]
    },
    {
      "cell_type": "markdown",
      "metadata": {
        "id": "O6Ev_7QMhQ5G"
      },
      "source": [
        "### 6.0 Now Try this:\n",
        "\n",
        "You will be plotting two plots here:\n",
        "- The first one will be to show the unemployment rate for the first 10 majors in the dataset.\n",
        "- For the second one, will be to display all the majors in the dataset from the lowest values to the highest (Ascending).\n",
        "- Use ```Major``` and ```Unemployment_rate``` for both, the ```order = recent_grads.sort_values('Unemployment_rate').Major``` has already been written for you. This function sorts the values or the unemployment rate with respect to the major.\n",
        "- For the second one be careful about the size you choose. Since there are so many majors, it will be difficult to see them in a small plot, therefore go big!\n",
        "\n",
        "## Answer:"
      ]
    },
    {
      "cell_type": "code",
      "metadata": {
        "id": "KesOFtg0hQ5H"
      },
      "source": [
        "#Once your have verified your answer please uncomment the line below and run it, this will save your code \n",
        "#%%writefile -a {folder_location}/6.py\n",
        "#Please note that if you uncomment and run multiple times, the program will keep appending to the file.\n",
        "\n",
        "\n",
        "\n",
        "plt.figure(figsize=(# INSERT CODE HERE\n",
        "sns.barplot(x= # INSERT CODE HERE\n",
        "            y= # INSERT CODE HERE\n",
        "            data=# INSERT CODE HERE\n",
        "            order=recent_grads.sort_values('Unemployment_rate').Major\n",
        "           )\n",
        "\n",
        "# set labels\n",
        "plt.xlabel(#\"INSERT CODE HERE\", size=15)\n",
        "plt.ylabel(#\"INSERT CODE HERE\", size=15)\n",
        "plt.title(\"Major vs Unemployment_rate\", size=18)\n",
        "plt.xticks(rotation = 90)\n",
        "plt.tight_layout()\n"
      ],
      "execution_count": null,
      "outputs": []
    },
    {
      "cell_type": "markdown",
      "metadata": {
        "id": "YaWbA7uLhQ5K"
      },
      "source": [
        "Next, lets construct a simple scatter plot and see the percentage of women in a major versus the median salary of the particular major."
      ]
    },
    {
      "cell_type": "code",
      "metadata": {
        "id": "xIxQ3AGi2FwR",
        "colab": {
          "base_uri": "https://localhost:8080/",
          "height": 416
        },
        "outputId": "a384ea97-f3de-4799-af26-13b5c8a6feb5"
      },
      "source": [
        "sns.relplot(x='ShareWomen',y='Median',data = recent_grads)\n",
        "plt.title('ShareWomen vs Median Salary')"
      ],
      "execution_count": null,
      "outputs": [
        {
          "output_type": "execute_result",
          "data": {
            "text/plain": [
              "Text(0.5, 1.0, 'ShareWomen vs Median Salary')"
            ]
          },
          "metadata": {
            "tags": []
          },
          "execution_count": 57
        },
        {
          "output_type": "display_data",
          "data": {
            "image/png": "[encoded data removed]",
            "text/plain": [
              "<Figure size 360x360 with 1 Axes>"
            ]
          },
          "metadata": {
            "tags": [],
            "needs_background": "light"
          }
        }
      ]
    },
    {
      "cell_type": "markdown",
      "metadata": {
        "id": "2TIk3xIs2FwY"
      },
      "source": [
        "**Notice** the fact that seaborn automatically added labels.\n",
        "\n",
        "### Observation\n",
        "We can see that there's trend that majors with higher percentage of women have lower median salaries. However, this data is not enough to make an assumption. \n",
        "\n",
        "Let's dive into it a bit more and add some important features"
      ]
    },
    {
      "cell_type": "code",
      "metadata": {
        "id": "8U3ajbL22FwY",
        "colab": {
          "base_uri": "https://localhost:8080/",
          "height": 399
        },
        "outputId": "b89bf223-b335-42f9-cb89-c6a01bcb3cbe"
      },
      "source": [
        "# Try\n",
        "#sns.set_palette('Paired',10)\n",
        "\n",
        "sns.relplot(x='ShareWomen',y = 'Median', hue = 'Major_category', data = recent_grads)\n",
        "\n",
        "plt.title('Median Salary vs Share of Women in a Particular Major')\n",
        "plt.show()"
      ],
      "execution_count": null,
      "outputs": [
        {
          "output_type": "display_data",
          "data": {
            "image/png": "[encoded data removed]",
            "text/plain": [
              "<Figure size 576.5x360 with 1 Axes>"
            ]
          },
          "metadata": {
            "tags": [],
            "needs_background": "light"
          }
        }
      ]
    },
    {
      "cell_type": "markdown",
      "metadata": {
        "id": "uChTw5-uhQ5T"
      },
      "source": [
        "#### See the difference in the code?\n",
        "\n",
        "Before diving into the results let's see what changed:\n",
        "- [```sns.set_palette()```](https://seaborn.pydata.org/tutorial/color_palettes.html) sets the color palette to a different one when its run the next time.\n",
        "- In ```sns.relplot``` we added another parameter ```hue = 'Major_category'```. This colors each point with its respective category.\n",
        "\n",
        "### Observations\n",
        "\n",
        "By observing this graph we can see that:\n",
        "- Engineering majors end up with jobs that pay the highest median salary, however, they also have the lowest percentage of women in engineering majors. \n",
        "- Law and Business majors dominate the high median income category after engineering.\n",
        "- Education, health, and psychology majors end up in a job that has a lower median salary but they have the highest percentage of women in those majors. \n",
        "- We can see that a significantly higher percentage of women end up studying in fields that have lower median salaries than their male counterparts."
      ]
    },
    {
      "cell_type": "markdown",
      "metadata": {
        "id": "RXmUvrKKhQ5T"
      },
      "source": [
        "### 7.0 Now Try This\n",
        "For this section, plot a scatter plot for the ```ShareWomen``` with respect to ```Unemployment_rate```. Also add a title, displaying 'x vs y'.\n",
        "\n",
        "**Answer**:"
      ]
    },
    {
      "cell_type": "code",
      "metadata": {
        "id": "Qxturn_3hQ5U"
      },
      "source": [
        "#Once your have verified your answer please uncomment the line below and run it, this will save your code \n",
        "#%%writefile -a {folder_location}/7.py\n",
        "#Please note that if you uncomment and run multiple times, the program will keep appending to the file.\n",
        "\n",
        "\n",
        "sns.____(# INSERT CODE HERE\n",
        "         # INSERT CODE HERE\n",
        "         # INSERT CODE HERE\n",
        "         # INSERT CODE HERE)\n",
        "    \n",
        "plt.___(# INSERT CODE HERE"
      ],
      "execution_count": null,
      "outputs": []
    },
    {
      "cell_type": "markdown",
      "metadata": {
        "id": "VUBnDZP42Fwi"
      },
      "source": [
        "**Notice anything different?**\n",
        "Suddenly, the colors of the graph we initially used have changed. This is because the colors we used to represent different totals of people are not in the color palette that we had set before ```sns.relplot('Paired',10)```. In order to change that we have to manually set the color mapping of the continuous variable.\n",
        "\n",
        "### Observations\n",
        "This graph tells us a lot of things:\n",
        "- The majors with the highest median salaries are some of the least popular majors.\n",
        "- This makes sense, because there is a higher demand for people in those fields, and due to low numbers available, employers want to pay people more for their expertise.\n",
        "- There are some majors that are really popular. (Notice the dark points, these indicate that the women are in majority in the fields.)\n",
        "\n",
        "We won't be able to do much with this information since we do not know about the category these fall into. Therefore we need to present this information in a way that the size of a point represents the number of people in the major"
      ]
    },
    {
      "cell_type": "code",
      "metadata": {
        "id": "uJ0IyRjU2Fwj"
      },
      "source": [
        "sns.relplot(x='ShareWomen',\n",
        "            y = 'Median',\n",
        "            hue = 'Major_category',\n",
        "            size = 'Total',\n",
        "            sizes = (20,200),\n",
        "            data = recent_grads)\n",
        "plt.title('Median Salary vs Share of Women in a Particular Major')\n",
        "plt.show()"
      ],
      "execution_count": null,
      "outputs": []
    },
    {
      "cell_type": "markdown",
      "metadata": {
        "id": "gmxNQDT52Fwm"
      },
      "source": [
        "### Observation \n",
        "Looking at this graph we can see that some of the most popular majors are:\n",
        "- Psychology, Education, Biological and Life Sciences, Business, and Humanities.\n",
        "- However, psychology, humanities, and education have some of the lowest median salaries. Another point to note is that for most of these points, the `ShareWomen` is between 40-80%. So there are also a large number of men in these categories who are making a lower median salary than their counterparts.\n",
        "\n",
        "It's still necessary to note that this visualization still doesn't give us enough clarity, therefore we will try and plot a line graph of this graph."
      ]
    },
    {
      "cell_type": "markdown",
      "metadata": {
        "id": "EotB9Y0dhQ5e"
      },
      "source": [
        "### 8.0 Now Try This:\n",
        "Plot a scatter plot for ```ShareWomen``` vs ```Unemployment_rate```, use ```Major_category``` and ```Median``` as secondary indicators.\n",
        "\n",
        "**Answer**:"
      ]
    },
    {
      "cell_type": "code",
      "metadata": {
        "id": "qTomaOfUhQ5f"
      },
      "source": [
        "#Once your have verified your answer please uncomment the line below and run it, this will save your code \n",
        "#%%writefile -a {folder_location}/8.py\n",
        "#Please note that if you uncomment and run multiple times, the program will keep appending to the file.\n",
        "\n",
        "\n",
        "sns.relplot(x=# INSERT CODE HERE\n",
        "            y = # INSERT CODE HERE\n",
        "            hue = # INSERT CODE HERE\n",
        "            size = # INSERT CODE HERE\n",
        "           sizes = # INSERT CODE HERE\n",
        "            data = # INSERT CODE HERE\n",
        "           )\n",
        "plt.title(# INSERT CODE HERE\n",
        "plt.show()"
      ],
      "execution_count": null,
      "outputs": []
    },
    {
      "cell_type": "code",
      "metadata": {
        "id": "FEBS0y3z2Fwn"
      },
      "source": [
        "sns.relplot(x='ShareWomen',y = 'Women',kind = 'line',data = recent_grads)\n",
        "plt.title('Share of Women vs Total Women in a particular major')\n",
        "plt.show()"
      ],
      "execution_count": null,
      "outputs": []
    },
    {
      "cell_type": "markdown",
      "metadata": {
        "id": "ouo04QP22Fwv"
      },
      "source": [
        "**Note**: The main difference between creating a line and scatter plot is seaborn is the addition of the *kind* parameter, which is set to ```kind = 'line'```.\n",
        "\n",
        "### Observation\n",
        "The graph isn't the most helpful but we can see a few trends much clearer than the previous graph:\n",
        "- There's 1 major that stands out more than the rest.\n"
      ]
    },
    {
      "cell_type": "markdown",
      "metadata": {
        "id": "CDL6lS8NhQ5q"
      },
      "source": [
        "### 9.0 Now Try This\n",
        "Alright, this one is a tricky one. For this step, we are going to create a new column in our dataset using a function that we will build. The goal of this exercise is to be able to separate the majors where Women are the majority from the shares where Men are the majority. It is obvious (with the current tracking methods) that the share of Men is ```1-ShareWomen```. Therefore, we know that if the share of women is higher than 0.50 then they are the majority, if the share of women is lower than 0.50 then men are in majority.\n",
        "\n",
        "**Steps**\n",
        "- Write a function majorityWomen(x) where x will be the ShareWomen input.\n",
        "    - Inside the function write an if else loops that checks if ```x``` is ```> 0.50``` is yes then return a string 'Majority Women', else return a string 'Majority Men'\n",
        "- We have already shown instructions for making the new column, you have to write in the name for the new column and the column to read from.\n",
        "*Note*: In pandas you can apply a series value to a function by following the notation ```df['column name'].apply(function)```.\n",
        "\n",
        "- Next, print out the ```head``` for the dataframe and confirm if the column has been added (should be at the end).\n",
        "- Next, you will plot a scatter plot for ```ShareWomen``` vs ```Median```, add a paramter ```col``` and set it to ```Gender Majority```. Add the ```hue``` parameter and set it to ```Major_category```.\n",
        "**Answer**:"
      ]
    },
    {
      "cell_type": "code",
      "metadata": {
        "id": "GmMJuTSzhQ5s"
      },
      "source": [
        "#Once your have verified your answer please uncomment the line below and run it, this will save your code \n",
        "#%%writefile -a {folder_location}/9.py\n",
        "#Please note that if you uncomment and run multiple times, the program will keep appending to the file.\n",
        "\n",
        "\n",
        "def # INSERT CODE HERE\n",
        "# INSERT CODE HERE\n",
        "    # INSERT CODE HERE\n",
        "else:\n",
        "    # INSERT CODE HERE\n",
        "    \n",
        "recent_grads['column_name'] = recent_grads['column_name'].apply(majorityWomen) # INSERT CODE HERE"
      ],
      "execution_count": null,
      "outputs": []
    },
    {
      "cell_type": "code",
      "metadata": {
        "id": "aW7Y_knThQ5v"
      },
      "source": [
        "# INSERT CODE HERE"
      ],
      "execution_count": null,
      "outputs": []
    },
    {
      "cell_type": "code",
      "metadata": {
        "id": "gK8bamR-hQ5y"
      },
      "source": [
        "# INSERT CODE HERE\n",
        "plt.show()"
      ],
      "execution_count": null,
      "outputs": []
    },
    {
      "cell_type": "markdown",
      "metadata": {
        "id": "GwzThSdA2Fwv"
      },
      "source": [
        "## Plotting Categorical Variables\n",
        "\n",
        "In this dataset and similar ones, we can see that we have an abundance of categorical variables. This gives us the opportunity to further investigate. This is where our playing with scatterplots geta a little more interesting. The scatter plots for categorical data are constructed differently from numerical data. For this we use the function ```catplot()``` instead of ```relplot()```"
      ]
    },
    {
      "cell_type": "code",
      "metadata": {
        "id": "b47V52SB2Fww"
      },
      "source": [
        "#sns.set(rc={'figure.figsize':(40,20)})\n",
        "sns.catplot(x = 'Major_category',y='Median',data = recent_grads)\n",
        "plt.title('Median Salary of Different Major Categories')\n",
        "plt.show()"
      ],
      "execution_count": null,
      "outputs": []
    },
    {
      "cell_type": "markdown",
      "metadata": {
        "id": "umfeFX1I2Fw1"
      },
      "source": [
        "**Wait** Why are the x-axis labels overlapping so much. Lets quickly fix that"
      ]
    },
    {
      "cell_type": "code",
      "metadata": {
        "id": "KChFy4tp2Fw2"
      },
      "source": [
        "sns.catplot(x='Median',y='Major_category',data = recent_grads)\n",
        "plt.title('Median Salary of Differenct Major Categories')\n",
        "plt.show()"
      ],
      "execution_count": null,
      "outputs": []
    },
    {
      "cell_type": "markdown",
      "metadata": {
        "id": "0NaUBVj-2Fw6"
      },
      "source": [
        "### OR"
      ]
    },
    {
      "cell_type": "code",
      "metadata": {
        "id": "B3gW3q_k2Fw7"
      },
      "source": [
        "sns.catplot(x='Major_category',y='Median',data = recent_grads)\n",
        "plt.xticks(rotation = 90)\n",
        "#plt.title('Median Salary of Differenct Major Categories')\n",
        "plt.show()"
      ],
      "execution_count": null,
      "outputs": []
    },
    {
      "cell_type": "markdown",
      "metadata": {
        "id": "a8-MfubHhQ6G"
      },
      "source": [
        "Although the first option is much more readable than the second one, it is a standard practice to put categorical variables on the x-axis. In most cases, the second option is the more appropriate fix for this problem. "
      ]
    },
    {
      "cell_type": "markdown",
      "metadata": {
        "id": "Qtipbkeg2Fw_"
      },
      "source": [
        "\n",
        "\n",
        "Next, we will investigate **majors that have the majority of women in addition to the median salaries for the majors in each category**, we will do this by passing one additional parameter in our scatter plot code.\n"
      ]
    },
    {
      "cell_type": "code",
      "metadata": {
        "id": "qkPPqRUpdq3o"
      },
      "source": [
        "recent_grads[recent_grads['ShareWomen'] >0.5]"
      ],
      "execution_count": null,
      "outputs": []
    },
    {
      "cell_type": "code",
      "metadata": {
        "id": "Bjp8pjMr2FxA"
      },
      "source": [
        "sns.catplot(x = 'Major_category',\n",
        "           y = 'Median',\n",
        "           jitter = False,\n",
        "           data = recent_grads[recent_grads['ShareWomen'] >0.5]\n",
        "           )\n",
        "plt.xticks(rotation = 90)\n",
        "plt.show()\n",
        "\n"
      ],
      "execution_count": null,
      "outputs": []
    },
    {
      "cell_type": "code",
      "metadata": {
        "id": "uXglLuycTUyA"
      },
      "source": [
        "# Option 2\n",
        "sns.catplot(x = 'Major_category', y = 'Median', kind = 'swarm',\n",
        "            data = recent_grads[recent_grads['ShareWomen'] >0.5])\n",
        "plt.xticks(rotation = 90)\n",
        "plt.show()"
      ],
      "execution_count": null,
      "outputs": []
    },
    {
      "cell_type": "markdown",
      "metadata": {
        "id": "ytVP4AR52FxD"
      },
      "source": [
        "**In** the first option we set ```jitter = False``` as a parameter, this shows all of the median salaries for each major in a single vertical line. This cleans the graph for us, **However**, points are overlapping which hides information.\n",
        "\n",
        "The second option is setting ```kind = 'swarm'``` as a parameter, this also lines up the points vertically, However, it has points with the same median salary lined up horizontally within their respective categories. By looking at the second option we can see clearly that there are at least 4 different engineering majors result in a median salary above $45,000, which were not visible in the previous graph.\n",
        "\n",
        "**Note: our choice of how we want to represent our data relies heavily on the type of information we are trying to get across with visualizations.**\n"
      ]
    },
    {
      "cell_type": "markdown",
      "metadata": {
        "id": "3WPvxoHZ2FxD"
      },
      "source": [
        "## Boxplot\n",
        "\n",
        "To get a better understanding of the distributions of our data, we have several options. A simple method is the *boxplot*. \n",
        "\n",
        "**What are boxplots**\n",
        "Boxplots show the quartiles and median of the part of our data we are interested in."
      ]
    },
    {
      "cell_type": "code",
      "metadata": {
        "id": "RT60rYJr2FxE"
      },
      "source": [
        "\n",
        "sns.catplot(x='Major_category',\n",
        "           y = 'Median',\n",
        "           kind = 'box',\n",
        "           data = recent_grads)\n",
        "plt.xticks(rotation = 90)\n",
        "plt.show()"
      ],
      "execution_count": null,
      "outputs": []
    },
    {
      "cell_type": "markdown",
      "metadata": {
        "id": "l8i1E2HIhQ6P"
      },
      "source": [
        "This visualization tells us a few things that we weren't able to distinguish from the scatter plots.\n",
        "Now we can see the ```median``` of the median salaries. The median salary for all health majors is lower than that for biology/life science majors, but the maximum salary for health majors is higher than the maximum for biology/life science majors. \n",
        "\n",
        "Additionally, the lowest salary for engineering majors is a bit higher than the median for physical science majors. Another interesting takeaway from this graph is that the top 75% of salaries for computer/mathematics majors are higher than 50% of physical science majors. In the previous scatterplots, it seemed like the median salaries were much closer than they actually are."
      ]
    },
    {
      "cell_type": "markdown",
      "metadata": {
        "id": "Ey6-uz8GhQ6Q"
      },
      "source": [
        "### 10.0 Now Try This:\n",
        "For this part plot the box plot for ```Major_category``` vs ```Unemployment_rate```.\n",
        "\n",
        "**Answer**:"
      ]
    },
    {
      "cell_type": "code",
      "metadata": {
        "id": "UmOAAfM1hQ6R"
      },
      "source": [
        "#Once your have verified your answer please uncomment the line below and run it, this will save your code \n",
        "#%%writefile -a {folder_location}/10.py\n",
        "#Please note that if you uncomment and run multiple times, the program will keep appending to the file.\n",
        "\n",
        "\n",
        "\n",
        "# INSERT CODE HERE\n",
        "\n",
        "plt.xticks(rotation = 90)\n",
        "plt.show()\n"
      ],
      "execution_count": null,
      "outputs": []
    },
    {
      "cell_type": "markdown",
      "metadata": {
        "id": "IilnqVQ8hQ6T"
      },
      "source": [
        "# Conclusion"
      ]
    },
    {
      "cell_type": "markdown",
      "metadata": {
        "id": "Cwdl2X8PhQ6U"
      },
      "source": [
        "With a bit of experience, Seaborn is easy to use and very powerful in creating data visualizations. Visualizations can be used to turn a dataset into a story by making it easier to understand, as well as providing the creator and their audience with real insights about the data. Plus, there are several different types of visualizations one can create for several different types of data. "
      ]
    },
    {
      "cell_type": "markdown",
      "metadata": {
        "id": "9NhJfdAY24eu"
      },
      "source": [
        "\n",
        "## Submission\n",
        "Run this code block to download your answers."
      ]
    },
    {
      "cell_type": "code",
      "metadata": {
        "id": "7fk92Hpz24ex"
      },
      "source": [
        "from google.colab import files\n",
        "!zip -r \"{student_id}.zip\" \"{student_id}\"\n",
        "files.download(f\"{student_id}.zip\")"
      ],
      "execution_count": null,
      "outputs": []
    },
    {
      "cell_type": "markdown",
      "metadata": {
        "id": "H52L1BKk2FxK"
      },
      "source": [
        "# Resources \n",
        "- [Seaborn Documentation](https://seaborn.pydata.org/)\n",
        "- [Visual Storytelling with Seaborn](https://medium.com/swlh/visual-storytelling-with-seaborn-28dc548dbc4b)\n",
        "- [Analyze the data through data visualization using Seaborn](https://towardsdatascience.com/analyze-the-data-through-data-visualization-using-seaborn-255e1cd3948e)\n",
        "- [Data Visualization Using Seaborn](https://medium.com/@mukul.mschauhan/data-visualisation-using-seaborn-464b7c0e5122)"
      ]
    },
    {
      "cell_type": "markdown",
      "metadata": {
        "id": "BGj_5mQR2FxL"
      },
      "source": [
        "# Appendix"
      ]
    },
    {
      "cell_type": "markdown",
      "metadata": {
        "id": "lFIHa6pL2FxL"
      },
      "source": [
        "### Jointplot :: kind = 'hex'\n",
        "Although we wera able to find our correlation in the ```jointplot``` we haven't been able to see where the highest density is. This is because every count is the same color. Lik\n",
        "\n",
        "#### Variates\n"
      ]
    },
    {
      "cell_type": "markdown",
      "metadata": {
        "id": "dznbCOCj2FxM"
      },
      "source": [
        "\n",
        "Over here, we will create a new column and name it 'tips_pct', which means the percentage of tips in the total bill for every event:\n",
        "\n",
        "Therefore tip_pct = tip/(total_bill - tip)"
      ]
    },
    {
      "cell_type": "code",
      "metadata": {
        "id": "4iNQIdY-Fp-J"
      },
      "source": [
        "tips['tip_pct'] = tips['tip']/(tips['total_bill'] - tips['tip'])"
      ],
      "execution_count": null,
      "outputs": []
    },
    {
      "cell_type": "code",
      "metadata": {
        "id": "ohbJMmIlGKSZ"
      },
      "source": [
        "tips.head()"
      ],
      "execution_count": null,
      "outputs": []
    },
    {
      "cell_type": "code",
      "metadata": {
        "id": "f6OsOTs8GMVA"
      },
      "source": [
        "sns.barplot(x = 'tip_pct',\n",
        "            y = 'day',\n",
        "            data = tips,\n",
        "            orient='h')"
      ],
      "execution_count": null,
      "outputs": []
    },
    {
      "cell_type": "markdown",
      "metadata": {
        "id": "ayyyljP9GaAI"
      },
      "source": [
        "Plotting functions in seaborn take a data argument, which can be a *pandas DataFrame*. The other argument refers to column names. Since there are multiple observations for each value in the day the bars are the average value of tip_pct.\n",
        "\n",
        "The black lines drawn on the bars represent the *95% confidence interval* (optional configuration).\n",
        "\n",
        "```seaborn.barplot``` has a hue option that enables us to split an additional categorical value.\n"
      ]
    },
    {
      "cell_type": "code",
      "metadata": {
        "id": "BBHeKYCvGTSg"
      },
      "source": [
        "sns.barplot(x = 'tip_pct',\n",
        "            y = 'day',\n",
        "            hue = 'time',\n",
        "            data = tips,\n",
        "            orient = 'h')"
      ],
      "execution_count": null,
      "outputs": []
    },
    {
      "cell_type": "markdown",
      "metadata": {
        "id": "ROS4Xik0JjOu"
      },
      "source": [
        "**Note**: Seaborn has automatically changed the aesthetics of plots: the default color palette, plot background, and grid line colors. We can switch between different plot appearences using seaborn.set"
      ]
    },
    {
      "cell_type": "code",
      "metadata": {
        "id": "J2d4nUZNLPCz"
      },
      "source": [
        "tips['tip_pct'].plot.kde()"
      ],
      "execution_count": null,
      "outputs": []
    },
    {
      "cell_type": "markdown",
      "metadata": {
        "id": "1cgkGZO0LZSq"
      },
      "source": [
        "**So why seaborn?**\n",
        "\n",
        "Seaborn makes histograms and density plots even easier through its ```distplot``` method, this let's the plot be both a histogram and a continous density estimate simultaneously.\n",
        "\n",
        "For example:\n",
        "\n",
        "Consider a distribution consisting of draws from two different standard normal distribution."
      ]
    },
    {
      "cell_type": "code",
      "metadata": {
        "id": "QgOo7uX7LTWe"
      },
      "source": [
        "import numpy as np\n",
        "\n",
        "comp1 = np.random.normal(0, 1, size=200)\n",
        "comp2 = np.random.normal(10, 2, size = 200)\n",
        "values = pd.Series(np.concatenate([comp1,comp2])) \n",
        "sns.distplot(values,bins = 100,color = 'k')"
      ],
      "execution_count": null,
      "outputs": []
    },
    {
      "cell_type": "markdown",
      "metadata": {
        "id": "48Fsmp7kNmJo"
      },
      "source": [
        "**Lets observe the Code above.**\n",
        "\n",
        "We create two variables using Numpys-> Random-> Normal Library [**CONTINUE**]"
      ]
    },
    {
      "cell_type": "code",
      "metadata": {
        "id": "89orTIK1MqVY"
      },
      "source": [
        "### Scatter or Point Plots\n",
        "\n",
        "# These are useful ways of examining the relationship between two 1D data series."
      ],
      "execution_count": null,
      "outputs": []
    },
    {
      "cell_type": "code",
      "metadata": {
        "id": "QKISexjz2Fxy"
      },
      "source": [
        "## TO BE ADDED"
      ],
      "execution_count": null,
      "outputs": []
    },
    {
      "cell_type": "markdown",
      "metadata": {
        "id": "uS5J55IS2Fx3"
      },
      "source": [
        "## Facet Grids and Categorical Data"
      ]
    },
    {
      "cell_type": "markdown",
      "metadata": {
        "id": "7XYpsZ4R2Fx3"
      },
      "source": [
        "**Facet Grids**\n",
        "\n",
        "When we are working with datasets, we will often come across grouping dimensions. One way to visualize this data using many categorical variables is to use a facet grid. Seaborn has a useful built-in function ```factorplot``` that simplifies making many kinds of faceted plots."
      ]
    },
    {
      "cell_type": "code",
      "metadata": {
        "id": "Rbo2UCmL2Fx4"
      },
      "source": [
        "sns.factorplot(x = 'day', y = 'tip_pct',hue='time',col = 'smoker',kind = 'bar',data= tips[tips.tip_pct<1])"
      ],
      "execution_count": null,
      "outputs": []
    },
    {
      "cell_type": "markdown",
      "metadata": {
        "id": "0h_DL-hw2Fx6"
      },
      "source": [
        "Observing the above graphs, instead of grouping by 'time' by different bar colors within a facet, we can also expand the facet grid by adding one row per *time* value:"
      ]
    },
    {
      "cell_type": "code",
      "metadata": {
        "id": "LCQYyHAI2Fx8",
        "scrolled": true
      },
      "source": [
        "sns.factorplot(x ='day',\n",
        "              y = 'tip_pct',\n",
        "              row = 'time',\n",
        "              col = 'smoker',\n",
        "              kind = 'bar',\n",
        "              data = tips[tips.tip_pct < 1])"
      ],
      "execution_count": null,
      "outputs": []
    },
    {
      "cell_type": "markdown",
      "metadata": {
        "id": "Bc6zwLWKhQ68"
      },
      "source": [
        "## Boxen Plot"
      ]
    },
    {
      "cell_type": "markdown",
      "metadata": {
        "id": "yWBNwlKihQ68"
      },
      "source": [
        "If you want to get a better idea of the distributions of salaries within the box plots, there are a few different things you can do. You’ll probably want to use a boxen plot or a violin plot, both of which show the distribution of values within a boxplot. Both are easy to create in Seaborn. All you have to do is set the kind parameter equal to either “boxen” or “violin”."
      ]
    },
    {
      "cell_type": "code",
      "metadata": {
        "id": "MalQ3S7ShQ69"
      },
      "source": [
        "# Boxen Plot\n",
        "sns.catplot(x = 'Major_category', y = 'Median', kind = 'boxen', \n",
        "             data = df)\n",
        "plt.title('Boxen Plot')\n",
        "plt.xticks(rotation = 90)\n",
        "plt.show()\n",
        "\n",
        "# Violin Plot\n",
        "sns.catplot(x = 'Major_category', y = 'Median', kind = 'violin',   \n",
        "            data = df)\n",
        "plt.title('Violin Plot')\n",
        "plt.xticks(rotation = 90)\n",
        "plt.show()"
      ],
      "execution_count": null,
      "outputs": []
    },
    {
      "cell_type": "code",
      "metadata": {
        "id": "nJEfI2uchQ7A"
      },
      "source": [
        ""
      ],
      "execution_count": null,
      "outputs": []
    }
  ]
}