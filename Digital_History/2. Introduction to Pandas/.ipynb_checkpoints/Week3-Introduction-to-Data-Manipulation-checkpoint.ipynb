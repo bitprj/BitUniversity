{
 "cells": [
  {
   "cell_type": "markdown",
   "metadata": {
    "colab_type": "text",
    "id": "view-in-github"
   },
   "source": [
    "<a href=\"https://colab.research.google.com/github/bitprj/DigitalHistory/blob/master/Week3-Introduction-to-Open-Data-Importing-Data-and-Basic-Data-Wrangling/Week3-Introduction-to-Data-Manipulation.ipynb\" target=\"_parent\"><img src=\"https://colab.research.google.com/assets/colab-badge.svg\" alt=\"Open In Colab\"/></a>"
   ]
  },
  {
   "cell_type": "markdown",
   "metadata": {
    "colab_type": "text",
    "id": "Xi2EDav_3i4K"
   },
   "source": [
    "<img src=\"https://github.com/bitprj/DigitalHistory/blob/Narae/Week3-Introduction-to-Open-Data-Importing-Data-and-Basic-Data-Wrangling/assets/icons/bitproject.png?raw=1\" width=\"200\" align=\"left\"> \n",
    "<img src=\"https://github.com/bitprj/DigitalHistory/blob/Narae/Week3-Introduction-to-Open-Data-Importing-Data-and-Basic-Data-Wrangling/assets/icons/data-science.jpg?raw=1\" width=\"300\" align=\"right\">"
   ]
  },
  {
   "cell_type": "markdown",
   "metadata": {
    "colab_type": "text",
    "id": "JEQ9rcFCZV0l"
   },
   "source": [
    "# <div align=\"center\">Data Manipulation with Pandas</div>\n",
    "\n",
    "\n"
   ]
  },
  {
   "cell_type": "markdown",
   "metadata": {
    "colab_type": "text",
    "id": "huRjPab3wJVH"
   },
   "source": [
    "## Table of Contents\n",
    "- Why, Where and How we use Pandas\n",
    "  - What is Pandas?\n",
    "  - Data structures in Pandas\n",
    "- What we will be learning today\n",
    "  - About the dataset\n",
    "  - Goals\n",
    "- Importing Pandas library\n",
    "- Loading a file\n",
    "- Setting an index\n",
    "- Getting info about the dataset\n",
    "- Removing NaN (None) values\n",
    "  - **1.0 - Now Try This**\n",
    "- Removing a column\n",
    "- Selecting subsets of data\n",
    "  - **2.0 - Now Try This**\n",
    "  - **3.0 - Now Try This**\n",
    "  - **4.0 - Now Try This**\n",
    "- Filtering dataset based on criteria\n",
    "  - **5.0 - Now Try This**\n",
    "  - **6.0 - Now Try This**\n",
    "- Aggregation functions\n",
    "  - Sum\n",
    "  - Min / Max\n",
    "  - Mean\n",
    "  - **7.0 - Now Try This**\n",
    "- Practical Exercise\n",
    "  - About the dataset\n",
    "  - Setting an index\n",
    "  - **8.0 - Now Try This**\n",
    "  - Aggregate functions\n",
    "  - **9.0 - Now Try This**\n",
    "  - **10.0 - Now Try This**\n",
    "  - **11.0 - Now Try This**"
   ]
  },
  {
   "cell_type": "markdown",
   "metadata": {
    "colab_type": "text",
    "id": "gJVCL5-e24GK"
   },
   "source": [
    "## Why, Where and How we use Pandas\n",
    "<img src=\"https://github.com/bitprj/DigitalHistory/blob/Narae/Week3-Introduction-to-Open-Data-Importing-Data-and-Basic-Data-Wrangling/assets/icons/pandas.png?raw=1\" width=\"200\" align=\"center\"> \n",
    "\n",
    "### What is Pandas?\n",
    "This week, we will cover the basic data manipulation using Pandas.\n",
    "1. Pandas is an open source data analysis and manipulation tool and it is widely used both in academia and industry.\n",
    "2. It is built on top of the Python programming language. \n",
    "3. It offers data structures and operations for manipulating numerical tables and time series.\n",
    "\n",
    "### Data structures in Pandas\n",
    "Pandas provides three data structures: Series, DataFrame, and Panel. \n",
    "\n",
    "1. A Series is 1-dimensional labelled array and 1-dimensional array represents a single column in excel. It can hold data of **any type** (integer, string, python objects, etc.) and its labels are called indices.\n",
    "2. A DataFrame is 2-dimensional labelled data structure with both rows and columns and 2-dimensional array represents a tabluar data.\n",
    "3. A panel is 3-dimensional. \n",
    "\n",
    "This week, we will focus on DataFrame and we will learn Series in later weeks. We will not cover Panel in this semester, as it's not used as often as two other data structures.\n",
    "\n",
    "\n",
    "Since we've covered the fundamentals of Python, it will be fairly easy to pick up Pandas."
   ]
  },
  {
   "cell_type": "markdown",
   "metadata": {
    "colab_type": "text",
    "id": "t17ksTXD4j_c"
   },
   "source": [
    "## What we will be learning today\n",
    "### Goals:\n",
    "- Getting a quick overview of the dataset \n",
    "- Removing column / rows with NaN values\n",
    "- Selecting and filtering based on criteria\n",
    "- Analyze the survival rates in the Titanic dataset\n"
   ]
  },
  {
   "cell_type": "markdown",
   "metadata": {},
   "source": [
    "## Grading\n",
    "\n",
    "In order to work on the NTT sections and submit them for grading, you'll need to run the code block beloW. It will ask for your student ID number and then create a folder that will house your answers for each question. At the very end of the notebook, there is a code section that will download this folder as a zip file to your computer. This zip file will be your final submission."
   ]
  },
  {
   "cell_type": "code",
   "execution_count": null,
   "metadata": {},
   "outputs": [],
   "source": [
    "import os\n",
    "import shutil\n",
    "\n",
    "!rm -rf sample_data\n",
    "\n",
    "student_id = input('Please Enter your Student ID: ') # Enter Student ID.\n",
    "\n",
    "while len(student_id) != 9:\n",
    " student_id = int('Please Enter your Student ID: ')  \n",
    "  \n",
    "folder_location = f'{student_id}/Week_Three/Now_Try_This'\n",
    "if not os.path.exists(folder_location):\n",
    "  os.makedirs(folder_location)\n",
    "  print('Successfully Created Directory, Lets get started')\n",
    "else:\n",
    "  print('Directory Already Exists')"
   ]
  },
  {
   "cell_type": "markdown",
   "metadata": {},
   "source": [
    "## About the dataset:\n",
    "\n",
    "## Titanic\n",
    "<img src=\"https://github.com/bitprj/DigitalHistory/blob/Narae/Week3-Introduction-to-Open-Data-Importing-Data-and-Basic-Data-Wrangling/assets/icons/titanic.png?raw=1\" width=\"300\" align=\"right\"> \n",
    "To begin with Pandas and dataframes, we will use a dataset about the Titanic. Titanic was a British passenger liner operated by the White Star Line that sank in the North Atlantic Ocean in 1912, after striking an iceberg during her maiden voyage from Southampton to New York City. Of the estimated 2,224 passengers and crew aboard, more than 1,500 died.\n",
    "\n",
    "\n",
    "This dataset does not have all of the passengers, but has the following info for a third of all passengers aboard: name, age, gender, ticket price, and most importantly whether or not they survived.\n",
    "\n",
    "As each person has its unique PassengerID, each row is a unique entity / passenger.\n",
    "\n"
   ]
  },
  {
   "cell_type": "markdown",
   "metadata": {
    "colab_type": "text",
    "id": "tv5Ok_FcPylP"
   },
   "source": [
    "## Import Pandas library\n",
    "\n",
    "In order to read / load a file, we will need to import Pandas.\n",
    "\n",
    "It's a convention to use ``` import pandas as pd``` when importing Pandas library."
   ]
  },
  {
   "cell_type": "code",
   "execution_count": null,
   "metadata": {
    "colab": {},
    "colab_type": "code",
    "id": "GmRrrzG1B7V9"
   },
   "outputs": [],
   "source": [
    "import pandas as pd"
   ]
  },
  {
   "cell_type": "markdown",
   "metadata": {
    "colab_type": "text",
    "id": "Y7MLLYPIB62y"
   },
   "source": [
    "Once we've imported Pandas, we can use ``` pd``` to call any functions in Pandas.\n",
    "\n"
   ]
  },
  {
   "cell_type": "markdown",
   "metadata": {
    "colab_type": "text",
    "id": "R9s135BlQDp8"
   },
   "source": [
    "## Load file\n",
    "\n",
    "To read the csv file with our data, we will use the ```read_csv``` function.\n",
    "\n",
    "Since we are working with only one dataset, we will just call dataframe as df. \n",
    "\n",
    "But, if we are working with lots of dataframes, it's better to give a meaningful name (ex: titanic_data, passenger_info, etc.)"
   ]
  },
  {
   "cell_type": "code",
   "execution_count": null,
   "metadata": {
    "colab": {
     "base_uri": "https://localhost:8080/",
     "height": 402
    },
    "colab_type": "code",
    "id": "79o0ID1nOVAy",
    "outputId": "e37c1d48-794c-40ec-945f-f154572525dd"
   },
   "outputs": [],
   "source": [
    "url = 'https://raw.githubusercontent.com/bitprj/DigitalHistory/master/Week3-Introduction-to-Open-Data-Importing-Data-and-Basic-Data-Wrangling/data/titanic-dataset.csv'\n",
    "df = pd.read_csv(url)\n",
    "df"
   ]
  },
  {
   "cell_type": "markdown",
   "metadata": {
    "colab_type": "text",
    "id": "oTLN52Wu9W6l"
   },
   "source": [
    "#### Set index\n",
    "\n",
    "Now, the dataset is loaded as a dataframe 'df'\n",
    "\n",
    "The first column is an index column and it starts from 0 by default.\n",
    "\n",
    "But, as you can tell, PassengerId itself is a unique index. So, let's set PassengerId as an index.\n",
    "\n",
    "We can call ```set_index``` function and specify the index using ```keys=```"
   ]
  },
  {
   "cell_type": "code",
   "execution_count": null,
   "metadata": {
    "colab": {
     "base_uri": "https://localhost:8080/",
     "height": 450
    },
    "colab_type": "code",
    "id": "VarxhiYK7bXN",
    "outputId": "3ef1b451-e927-47f1-c9ae-7c360907978d"
   },
   "outputs": [],
   "source": [
    "df.set_index(keys='PassengerId')"
   ]
  },
  {
   "cell_type": "markdown",
   "metadata": {
    "colab_type": "text",
    "id": "Q0GkhdrMQA6m"
   },
   "source": [
    "The code above worked! Now PassengerId is a new index for df.\n",
    "\n",
    "Let's call df one more time to make sure that df has been updated to reflect the change."
   ]
  },
  {
   "cell_type": "code",
   "execution_count": null,
   "metadata": {
    "colab": {
     "base_uri": "https://localhost:8080/",
     "height": 419
    },
    "colab_type": "code",
    "id": "YLcyzlr8-5Eq",
    "outputId": "4ace8d28-1020-4954-a1c1-e0b498dc6875"
   },
   "outputs": [],
   "source": [
    "df"
   ]
  },
  {
   "cell_type": "markdown",
   "metadata": {
    "colab_type": "text",
    "id": "jT2s8jCT-_Yw"
   },
   "source": [
    "IMPORTANT: df has NOT been updated. Do you know why?\n",
    "\n",
    "```df.set_index(keys='PassengerId')```: this function sets PassengerId as an index when we CALL the function. \n",
    "\n",
    "Since we didn't save the function call, df has NOT been updated.\n",
    "\n",
    "There are two ways to save the change.\n",
    "1. ```df = df.set_index(keys='PassengerId')```\n",
    "2. ```df.set_index(keys='PassengerId', inplace = True)```\n",
    "\n",
    "First function call reassigns a variable ```df``` to the updated ```df``` and second function call makes changes in-place."
   ]
  },
  {
   "cell_type": "code",
   "execution_count": null,
   "metadata": {
    "colab": {
     "base_uri": "https://localhost:8080/",
     "height": 450
    },
    "colab_type": "code",
    "id": "Th6x5w8IAF8P",
    "outputId": "624f7cdf-3a6d-4685-ac49-d7393a005e38"
   },
   "outputs": [],
   "source": [
    "df.set_index(keys='PassengerId', inplace=True)\n",
    "df"
   ]
  },
  {
   "cell_type": "markdown",
   "metadata": {
    "colab_type": "text",
    "id": "Gl1RXpWmAKcy"
   },
   "source": [
    "Okay, now PassengerId is set to index!"
   ]
  },
  {
   "cell_type": "markdown",
   "metadata": {
    "colab_type": "text",
    "id": "0SkH3aofQ8TL"
   },
   "source": [
    "## Basic info about the dataset\n",
    "\n",
    "Now, let's get basic information about the dataframe.\n",
    "- head()\n",
    "- describe()\n",
    "- info()"
   ]
  },
  {
   "cell_type": "markdown",
   "metadata": {
    "colab_type": "text",
    "id": "qOCVrgF1RLMw"
   },
   "source": [
    "### head()\n",
    "```head()``` function is useful to see the dataset at a quick glance as it returns first n rows.\n",
    "\n",
    "Let's check what columns this file has by calling ```head()``` function.\n",
    "\n",
    "By default, ```head()``` returns the first 5 rows."
   ]
  },
  {
   "cell_type": "code",
   "execution_count": null,
   "metadata": {
    "colab": {
     "base_uri": "https://localhost:8080/",
     "height": 235
    },
    "colab_type": "code",
    "id": "txnXDuveRQrY",
    "outputId": "4cd418c0-7724-4e04-8114-5174e54620c5"
   },
   "outputs": [],
   "source": [
    "df.head()"
   ]
  },
  {
   "cell_type": "markdown",
   "metadata": {
    "colab_type": "text",
    "id": "CD6LAVzhRTtc"
   },
   "source": [
    "You can specify the number of rows to display by calling ```df.head(number)```"
   ]
  },
  {
   "cell_type": "code",
   "execution_count": null,
   "metadata": {
    "colab": {
     "base_uri": "https://localhost:8080/",
     "height": 390
    },
    "colab_type": "code",
    "id": "UbGS-PdGPnBF",
    "outputId": "c6eb6a01-89c4-40a6-caaa-d09b4383ebb2"
   },
   "outputs": [],
   "source": [
    "df.head(10)"
   ]
  },
  {
   "cell_type": "markdown",
   "metadata": {
    "colab_type": "text",
    "id": "bvhHN6Y5Rblm"
   },
   "source": [
    "### info()\n",
    "\n",
    "Now, we know what's in the dataset and what it looks like.\n",
    "\n",
    "To summarize what information is available in the dataset, we can use the info() function.\n",
    "\n",
    "This function is useful as this returns all of the **column names** and **its types** as well as **Non-Null** counts. "
   ]
  },
  {
   "cell_type": "code",
   "execution_count": null,
   "metadata": {
    "colab": {
     "base_uri": "https://localhost:8080/",
     "height": 323
    },
    "colab_type": "code",
    "id": "m9-PQ3HwSNXc",
    "outputId": "9f697b8b-8a11-420e-acea-942500f3f2ef"
   },
   "outputs": [],
   "source": [
    "df.info()"
   ]
  },
  {
   "cell_type": "markdown",
   "metadata": {
    "colab_type": "text",
    "id": "hKajbv_kzq5l"
   },
   "source": [
    "We can tell that \"Age\" and \"Cabin\" have lots of missing values; the dataset only has data for 714 ages and 204 cabins for the 891 passengers.\n",
    "\n",
    "If we take a closer look at dtypes in the second to last row, there are three dtypes: ```int64```, ```float64```, and ```object```.\n",
    "\n",
    "We have covered ```int``` and ```float``` last week in Python, but what is an object?\n",
    "\n",
    "- ```int64```: integer numbers\n",
    "- ```float64```: floating point numbers\n",
    "- ```object```: string or mixed numeric and non-numeric values.\n",
    "\n",
    "That's why the dtype of \"Name\", \"Sex\", \"Embarked\" is ```object```, as it is a string.\n",
    "\n",
    "\"Ticket\" and \"Cabin\" are ```objects``` as they are in a format of numbers or string + numbers (Ex: A/5 21171, C85)\n",
    "\n"
   ]
  },
  {
   "cell_type": "markdown",
   "metadata": {
    "colab_type": "text",
    "id": "pna0AtRZR-is"
   },
   "source": [
    "### describe()\n",
    "\n",
    "```describe()``` is used to view summary statistics of numeric columns. This helps us to have a general idea of the dataset.\n",
    "\n",
    "```Count```, ```mean```, ```min```, and ```max``` are straightforward.\n",
    "\n",
    "Let's refresh our memory with statistical concepts.\n",
    "\n",
    "- ```std```: standard deviation - measures the dispersion of a dataset relative to its mean. If the data points are further from the mean, there is a higher deviation within the dataset. The more spread out the data, the higher the standard deviation.\n",
    "- ```25%```: the value below which 25% of the observations may be found. \n",
    "- ```50%```: the value below which 50% of the observations may be found. \n",
    "- ```75%```: the value below which 75% of the observations may be found. \n",
    "\n",
    "For example, 25th percentile of age is 20.125 and 75th percentile of age is 38. This means that 25% of the passengers' age is less than 20.125 and 75% of the passengers' age is less than 38."
   ]
  },
  {
   "cell_type": "code",
   "execution_count": null,
   "metadata": {
    "colab": {
     "base_uri": "https://localhost:8080/",
     "height": 297
    },
    "colab_type": "code",
    "id": "zT3hQK6_PVJh",
    "outputId": "eef83f04-4d8e-4ca3-910b-935ad7e7cb99"
   },
   "outputs": [],
   "source": [
    "df.describe()"
   ]
  },
  {
   "cell_type": "markdown",
   "metadata": {
    "colab_type": "text",
    "id": "qN9jCXFDTwwj"
   },
   "source": [
    "### shape\n",
    "To see the size of the dataset, we can use ```shape``` function, which returns the number of rows and columns in a format of (# rows, # columns)\n",
    "\n",
    "This dataset has 891 rows (entities) and 11 columns."
   ]
  },
  {
   "cell_type": "code",
   "execution_count": null,
   "metadata": {
    "colab": {
     "base_uri": "https://localhost:8080/",
     "height": 34
    },
    "colab_type": "code",
    "id": "-gTN5LG7T1d0",
    "outputId": "b1ee57ee-4fe7-4ab1-bc50-59059ec9d8a5"
   },
   "outputs": [],
   "source": [
    "df.shape"
   ]
  },
  {
   "cell_type": "markdown",
   "metadata": {
    "colab_type": "text",
    "id": "d0E1CgCeT7Xr"
   },
   "source": [
    "## Remove NaN values\n",
    "\n",
    "Often times, when we work with large datasets, we will encounter cases where there are lots of missing elements (NaN / null) in the dataset.\n",
    "\n",
    "Removing NaN values will allow us to drop the rows and to work with clean datasets.\n",
    "\n",
    "\n",
    "---\n",
    "\n",
    "\n",
    "Let's remove the rows that do not provide a meaningful information.\n",
    "\n",
    "When we know a \"unique key\" of the dataset (PassengerID in this dataset), we can check whether all elements have PassengerID. If any of the rows are missing PassengerID, then we can drop that entity.\n",
    "\n",
    "* ```df.dropna()```: drop the rows where at least one of the elements is missing.\n",
    "* ```df.dropna(how='all')```: drop the rows where all of the elements are missing.\n",
    "* ```df.dropna(subset=[columns])```: define in which columns to look for missing values."
   ]
  },
  {
   "cell_type": "markdown",
   "metadata": {
    "colab_type": "text",
    "id": "AnQTSMgLU42z"
   },
   "source": [
    "If we want to drop the rows with **at least** one missing element:"
   ]
  },
  {
   "cell_type": "code",
   "execution_count": null,
   "metadata": {
    "colab": {
     "base_uri": "https://localhost:8080/",
     "height": 450
    },
    "colab_type": "code",
    "id": "Iey0cInmUmlX",
    "outputId": "d96be45d-e0ee-429a-f6dd-db45b764140b"
   },
   "outputs": [],
   "source": [
    "df.dropna()"
   ]
  },
  {
   "cell_type": "markdown",
   "metadata": {
    "colab_type": "text",
    "id": "p9oDZUyhU9kC"
   },
   "source": [
    "If we want to drop the rows with **all** elements missing:"
   ]
  },
  {
   "cell_type": "code",
   "execution_count": null,
   "metadata": {
    "colab": {
     "base_uri": "https://localhost:8080/",
     "height": 450
    },
    "colab_type": "code",
    "id": "eVlpYEklUr6t",
    "outputId": "aa274da7-5548-4aaf-ca7c-c9e70ad7f6e3"
   },
   "outputs": [],
   "source": [
    "df.dropna(how='all')"
   ]
  },
  {
   "cell_type": "markdown",
   "metadata": {
    "colab_type": "text",
    "id": "C4gsEh53dUG8"
   },
   "source": [
    "If we want to drop the rows that are missing Survived value."
   ]
  },
  {
   "cell_type": "code",
   "execution_count": null,
   "metadata": {
    "colab": {
     "base_uri": "https://localhost:8080/",
     "height": 34
    },
    "colab_type": "code",
    "id": "pzXfvT8UUuNC",
    "outputId": "3966a01a-b6df-4c56-d464-3c8856254bbe"
   },
   "outputs": [],
   "source": [
    "df.dropna(subset=['Survived'])"
   ]
  },
  {
   "cell_type": "markdown",
   "metadata": {
    "colab_type": "text",
    "id": "LYUpeAwYd2KO"
   },
   "source": [
    "Yay, we've confirmed that all of the passengers have 'Survived' value since the number of rows remains the same.\n",
    "\n",
    "If we want to update the dataset after dropping rows, we can use ```inplace = True```"
   ]
  },
  {
   "cell_type": "code",
   "execution_count": null,
   "metadata": {
    "colab": {},
    "colab_type": "code",
    "id": "284wWHSkd98W"
   },
   "outputs": [],
   "source": [
    "df.dropna(subset=['Survived'], inplace=True)"
   ]
  },
  {
   "cell_type": "markdown",
   "metadata": {
    "colab_type": "text",
    "id": "6jxK07Yyeg8K"
   },
   "source": [
    "### 1.0 - Now Try This\n",
    "\n",
    "- Drop the rows that are missing any of the following columns: 'Pclass'\n",
    "- Update ```df```"
   ]
  },
  {
   "cell_type": "code",
   "execution_count": null,
   "metadata": {
    "colab": {},
    "colab_type": "code",
    "id": "lzvYp_1NyzkA"
   },
   "outputs": [],
   "source": [
    "# Once your have verified your answer please uncomment the line below and run it, this will save your code \n",
    "#%%writefile -a {folder_location}/1.py\n",
    "# Please note that if you uncomment and rub multiple times, the program will keep appending to the file.\n",
    "\n",
    "# INSERT CODE BELOW\n"
   ]
  },
  {
   "cell_type": "markdown",
   "metadata": {
    "colab_type": "text",
    "id": "Flh-acxDeoWn"
   },
   "source": [
    "## Removing a column\n",
    "\n",
    "Before we dive into the data analysis, let's see if there are any columns we want to remove. "
   ]
  },
  {
   "cell_type": "code",
   "execution_count": null,
   "metadata": {
    "colab": {
     "base_uri": "https://localhost:8080/",
     "height": 323
    },
    "colab_type": "code",
    "id": "-_YShtF_euRh",
    "outputId": "0121bf31-275f-496a-9576-075ab98b350e"
   },
   "outputs": [],
   "source": [
    "df.info()"
   ]
  },
  {
   "cell_type": "markdown",
   "metadata": {
    "colab_type": "text",
    "id": "rVjBqNpQe1gt"
   },
   "source": [
    "In \"Cabin\" column, there are only 204 rows that are non-null. That means 891 - 204 = 687 rows are missing in the column.\n",
    "\n",
    "It wouldn't give us as meaningful insight as other columns, so let's remove \"Cabin\" column by using ```del``` function."
   ]
  },
  {
   "cell_type": "code",
   "execution_count": null,
   "metadata": {
    "colab": {
     "base_uri": "https://localhost:8080/",
     "height": 450
    },
    "colab_type": "code",
    "id": "0Gme9AE8e32T",
    "outputId": "50536169-988d-4541-d2a7-45c11cd6e6e7"
   },
   "outputs": [],
   "source": [
    "del df['Cabin']\n",
    "df"
   ]
  },
  {
   "cell_type": "markdown",
   "metadata": {
    "colab_type": "text",
    "id": "kThccIISevCI"
   },
   "source": [
    "## Select subsets of data\n",
    "\n",
    "When we are interested in a few columns to do the data analysis, we can select a specific subset of columns using two methods:\n",
    "\n",
    "1. by index location\n",
    "2. by column names"
   ]
  },
  {
   "cell_type": "markdown",
   "metadata": {
    "colab_type": "text",
    "id": "hTqblzN9fFA0"
   },
   "source": [
    "#### 1. by index location\n",
    "We can select specific subsets of data using ```iloc[rows_index, columns_index]```.\n",
    "\n",
    "As we learned last week, ```[:]``` selects everything in a list or string in Python. \n",
    "\n",
    "Similarly, ```[:]``` will select every row or column depending on where we put it.\n",
    "\n",
    "Let's select PassengerId, Survived, and Pclass."
   ]
  },
  {
   "cell_type": "code",
   "execution_count": null,
   "metadata": {
    "colab": {
     "base_uri": "https://localhost:8080/",
     "height": 450
    },
    "colab_type": "code",
    "id": "6XjEdCV5fEUB",
    "outputId": "c91a0813-8d21-4f37-bfe5-800a11cd90c0"
   },
   "outputs": [],
   "source": [
    "# by index location (iloc)\n",
    "df.iloc[: , [0,1,2]]"
   ]
  },
  {
   "cell_type": "markdown",
   "metadata": {
    "colab_type": "text",
    "id": "OxBVK2BsIRBm"
   },
   "source": [
    "We selected 0, 1, and 2 because PassengerId, Survived, and Pclass are the first 3 columns.\n",
    "\n",
    "Hmm, but 4 columns showed up. Let's look into why!\n",
    "\n",
    "Because PassengerId is the default index, it shows up automatically.\n",
    "\n",
    "So, the index location 0 will be the first column right after the index column."
   ]
  },
  {
   "cell_type": "markdown",
   "metadata": {
    "colab_type": "text",
    "id": "WjXBPuufJC1b"
   },
   "source": [
    "### 2.0 - Now Try This\n",
    "\n",
    "Select PassengerId, Survived, and Pclass with all rows."
   ]
  },
  {
   "cell_type": "code",
   "execution_count": null,
   "metadata": {
    "colab": {},
    "colab_type": "code",
    "id": "NDGzwc0LKwFB"
   },
   "outputs": [],
   "source": [
    "# Once your have verified your answer please uncomment the line below and run it, this will save your code \n",
    "#%%writefile -a {folder_location}/2.py\n",
    "# Please note that if you uncomment and rub multiple times, the program will keep appending to the file.\n",
    "\n",
    "# INSERT CODE BELOW\n"
   ]
  },
  {
   "cell_type": "markdown",
   "metadata": {
    "colab_type": "text",
    "id": "TtINwQHRLBRI"
   },
   "source": [
    "### 3.0 - Now Try This\n",
    "\n",
    "Select PassengerId, Survived, and Pclass with all rows.\n",
    "Please use semi-colon ```:``` this time."
   ]
  },
  {
   "cell_type": "code",
   "execution_count": null,
   "metadata": {
    "colab": {},
    "colab_type": "code",
    "id": "TI3YWTEPLPeN"
   },
   "outputs": [],
   "source": [
    "# Once your have verified your answer please uncomment the line below and run it, this will save your code \n",
    "#%%writefile -a {folder_location}/3.py\n",
    "# Please note that if you uncomment and rub multiple times, the program will keep appending to the file.\n",
    "\n",
    "# INSERT CODE BELOW\n"
   ]
  },
  {
   "cell_type": "markdown",
   "metadata": {
    "colab_type": "text",
    "id": "ycdHEkVRJYBD"
   },
   "source": [
    "#### 2. by column names\n",
    "\n",
    "Let's select subsets of data by column names.\n",
    "\n",
    "We are interested in PassengerId, Survived, Sex, and Age."
   ]
  },
  {
   "cell_type": "code",
   "execution_count": null,
   "metadata": {
    "colab": {},
    "colab_type": "code",
    "id": "0yXhC_-QyzkO"
   },
   "outputs": [],
   "source": [
    "# by column names\n",
    "df[['PassengerId', 'Survived', 'Sex', 'Age']]"
   ]
  },
  {
   "cell_type": "markdown",
   "metadata": {
    "colab_type": "text",
    "id": "zec5FEITJpzn"
   },
   "source": [
    "The code above doesn't work. What does the KeyError say?\n",
    "\n",
    "```['PassengerId'] not in index.```\n",
    "\n",
    "Remember? PassengerId is no longer a column, so we can't select it by a column name."
   ]
  },
  {
   "cell_type": "markdown",
   "metadata": {
    "colab_type": "text",
    "id": "XALKUCvaKFK8"
   },
   "source": [
    "### 4.0 - Now Try This\n",
    "\n",
    "Select PassengerId, Survived, Sex, and Age.\n",
    "\n"
   ]
  },
  {
   "cell_type": "code",
   "execution_count": null,
   "metadata": {
    "colab": {},
    "colab_type": "code",
    "id": "Vb_qDqiGKjFP"
   },
   "outputs": [],
   "source": [
    "# Once your have verified your answer please uncomment the line below and run it, this will save your code \n",
    "#%%writefile -a {folder_location}/4.py\n",
    "# Please note that if you uncomment and rub multiple times, the program will keep appending to the file.\n",
    "\n",
    "# INSERT CODE BELOW\n"
   ]
  },
  {
   "cell_type": "markdown",
   "metadata": {
    "colab_type": "text",
    "id": "lc2j_Lg9fVoH"
   },
   "source": [
    "## Filter Dataset based on criteria\n",
    "\n",
    "Often times, we are interested in working with specific rows that meet the certain criteria. \n",
    "\n",
    "If we only want to look at the data with Age > 30, we can specify the criteria within ```loc``` function."
   ]
  },
  {
   "cell_type": "code",
   "execution_count": null,
   "metadata": {
    "colab": {
     "base_uri": "https://localhost:8080/",
     "height": 450
    },
    "colab_type": "code",
    "id": "LVa-iV75fWay",
    "outputId": "d00e252f-52d5-4237-92eb-904fa9b1e067"
   },
   "outputs": [],
   "source": [
    "df_over_30yrs=df.loc[df['Age'] > 30]\n",
    "df_over_30yrs"
   ]
  },
  {
   "cell_type": "markdown",
   "metadata": {
    "colab_type": "text",
    "id": "8gHQeNEyfYn1"
   },
   "source": [
    "Now, let's select the dataset using two criteria -- where \"Age\" is greater than 30 AND \"Survived.\"\n",
    "\n",
    "```&``` is equivalent to ```AND``` and ```|``` is equivalent to ```OR``` in dataframe.\n"
   ]
  },
  {
   "cell_type": "code",
   "execution_count": null,
   "metadata": {
    "colab": {
     "base_uri": "https://localhost:8080/",
     "height": 450
    },
    "colab_type": "code",
    "id": "KzXyRbeRfjCv",
    "outputId": "f4217de7-3b02-448d-8341-01f46e7ebb00"
   },
   "outputs": [],
   "source": [
    "df_over_30yrs_survived = df.loc[(df['Age'] > 30) & (df['Survived'] == 1)]\n",
    "df_over_30yrs_survived"
   ]
  },
  {
   "cell_type": "markdown",
   "metadata": {
    "colab_type": "text",
    "id": "voVsKZDifl6n"
   },
   "source": [
    "\n",
    "IMPORTANT: When filtering with multiple conditions, make sure to use ```()``` on each condition. \n",
    "\n",
    "Otherwise, you will get an error message that ```The truth value of a Series is ambiguous.```"
   ]
  },
  {
   "cell_type": "markdown",
   "metadata": {
    "colab_type": "text",
    "id": "VHb8TwBwfr0P"
   },
   "source": [
    "Let's check how many passengers survived among the ones whose age was over 30."
   ]
  },
  {
   "cell_type": "code",
   "execution_count": null,
   "metadata": {
    "colab": {},
    "colab_type": "code",
    "id": "ZOFItFQDfsw9",
    "outputId": "a571ac70-9e1c-48b6-8611-188930e44609"
   },
   "outputs": [],
   "source": [
    "print(\"# of passengers whose age was over 30: \", df_over_30yrs.shape[0])\n",
    "print(\"# of survived passengers whose age was over 30: \", df_over_30yrs_survived.shape[0])"
   ]
  },
  {
   "cell_type": "markdown",
   "metadata": {
    "colab_type": "text",
    "id": "qIwIBKysfxnR"
   },
   "source": [
    "### 5.0 - Now Try This\n",
    "\n",
    "Select the dataset that meet the following condition:\n",
    "- Pclass is not 1"
   ]
  },
  {
   "cell_type": "code",
   "execution_count": null,
   "metadata": {
    "colab": {},
    "colab_type": "code",
    "id": "W9Sqen-jfz4O"
   },
   "outputs": [],
   "source": [
    "# Once your have verified your answer please uncomment the line below and run it, this will save your code \n",
    "#%%writefile -a {folder_location}/5.py\n",
    "# Please note that if you uncomment and rub multiple times, the program will keep appending to the file.\n",
    "\n",
    "# INSERT CODE BELOW\n"
   ]
  },
  {
   "cell_type": "markdown",
   "metadata": {
    "colab_type": "text",
    "id": "PrkEydwwf2nG"
   },
   "source": [
    "### 6.0 - Now Try This\n",
    "\n",
    "Select the dataset that meet the following conditions:\n",
    "- Age is less than 10 \n",
    "- OR\n",
    "- Age is greater than 50\n",
    "\n",
    "Hint: Don't forget parenthesis!"
   ]
  },
  {
   "cell_type": "code",
   "execution_count": null,
   "metadata": {
    "colab": {},
    "colab_type": "code",
    "id": "HTLmjwkWf6Lq"
   },
   "outputs": [],
   "source": [
    "# Once your have verified your answer please uncomment the line below and run it, this will save your code \n",
    "#%%writefile -a {folder_location}/6.py\n",
    "# Please note that if you uncomment and rub multiple times, the program will keep appending to the file.\n",
    "\n",
    "# INSERT CODE BELOW\n"
   ]
  },
  {
   "cell_type": "markdown",
   "metadata": {
    "colab_type": "text",
    "id": "skk2DpBhgDYc"
   },
   "source": [
    "## Aggregation functions\n",
    "\n",
    "Aggregation is the process of combining things. It's useful to understand overall properties of the dataset and analyze it.\n",
    "\n",
    "Some examples of aggregation are ```sum()```, ```count()```, ```min()```, ```max()```,  ```mean()```, ```std()```, etc."
   ]
  },
  {
   "cell_type": "markdown",
   "metadata": {
    "colab_type": "text",
    "id": "x3dw-KasgGen"
   },
   "source": [
    "### Sum\n",
    "#### 1. Total fares"
   ]
  },
  {
   "cell_type": "code",
   "execution_count": null,
   "metadata": {
    "colab": {
     "base_uri": "https://localhost:8080/",
     "height": 34
    },
    "colab_type": "code",
    "id": "kj0whWONgIoc",
    "outputId": "6baa68bc-35f1-4a17-f61a-29e732832e36"
   },
   "outputs": [],
   "source": [
    "df['Fare'].sum()"
   ]
  },
  {
   "cell_type": "markdown",
   "metadata": {
    "colab_type": "text",
    "id": "ti23ZpFXgNQk"
   },
   "source": [
    "If we want to round total fares and save it as a variable, then we can try:"
   ]
  },
  {
   "cell_type": "code",
   "execution_count": null,
   "metadata": {
    "colab": {
     "base_uri": "https://localhost:8080/",
     "height": 34
    },
    "colab_type": "code",
    "id": "HjkTERjogPyB",
    "outputId": "9c66fbd1-b0c7-4b3c-c76c-94e2a34aec84"
   },
   "outputs": [],
   "source": [
    "total_fares = df['Fare'].sum()\n",
    "print(\"Total fares: \", round(total_fares))"
   ]
  },
  {
   "cell_type": "markdown",
   "metadata": {
    "colab_type": "text",
    "id": "mFtPLS0lgS9G"
   },
   "source": [
    "#### 2. Survived passengers\n",
    "We can also count the number of passengers that survived by summing up the 'Survived' column."
   ]
  },
  {
   "cell_type": "code",
   "execution_count": null,
   "metadata": {
    "colab": {
     "base_uri": "https://localhost:8080/",
     "height": 34
    },
    "colab_type": "code",
    "id": "DuIWdxj2gV1X",
    "outputId": "d0fc35f0-4c95-4b90-b890-5f990c037ad4"
   },
   "outputs": [],
   "source": [
    "survived_passengers = df['Survived'].sum()\n",
    "survived_passengers"
   ]
  },
  {
   "cell_type": "markdown",
   "metadata": {
    "colab_type": "text",
    "id": "T_qh7JsZgY2G"
   },
   "source": [
    "### Max / Min\n",
    "\n",
    "Let's calculate max and min of Fare."
   ]
  },
  {
   "cell_type": "code",
   "execution_count": null,
   "metadata": {
    "colab": {
     "base_uri": "https://localhost:8080/",
     "height": 34
    },
    "colab_type": "code",
    "id": "mVVvF4llgbRu",
    "outputId": "4ff733fa-95e2-4b34-90e1-391b8b0a5a95"
   },
   "outputs": [],
   "source": [
    "df['Fare'].max()"
   ]
  },
  {
   "cell_type": "code",
   "execution_count": null,
   "metadata": {
    "colab": {
     "base_uri": "https://localhost:8080/",
     "height": 34
    },
    "colab_type": "code",
    "id": "ng9be4qwgdhU",
    "outputId": "724818a0-1f1f-4e38-fcc2-7e8616f1a638"
   },
   "outputs": [],
   "source": [
    "df['Fare'].min()"
   ]
  },
  {
   "cell_type": "markdown",
   "metadata": {
    "colab_type": "text",
    "id": "BZAfBzgQghG7"
   },
   "source": [
    "### Mean\n",
    "Let's calculate the survival rate of all passengers."
   ]
  },
  {
   "cell_type": "code",
   "execution_count": null,
   "metadata": {
    "colab": {
     "base_uri": "https://localhost:8080/",
     "height": 34
    },
    "colab_type": "code",
    "id": "nn_Si2jHgj3W",
    "outputId": "c084a68b-4a26-4c73-f465-797c66f842d4"
   },
   "outputs": [],
   "source": [
    "df['Survived'].mean()"
   ]
  },
  {
   "cell_type": "markdown",
   "metadata": {
    "colab_type": "text",
    "id": "LxUGzGTTgq-P"
   },
   "source": [
    "Let's calculate the average age of all passengers."
   ]
  },
  {
   "cell_type": "code",
   "execution_count": null,
   "metadata": {
    "colab": {
     "base_uri": "https://localhost:8080/",
     "height": 34
    },
    "colab_type": "code",
    "id": "VhnyNmOHgn5D",
    "outputId": "ec31e286-f29c-4f84-d0ac-38f13af3c5ff"
   },
   "outputs": [],
   "source": [
    "df['Age'].mean()"
   ]
  },
  {
   "cell_type": "markdown",
   "metadata": {
    "colab_type": "text",
    "id": "htOb4ydOgnDt"
   },
   "source": [
    "Now, we will tackle a more complex problem.\n",
    "\n",
    "Let's calculate the survival rate by the *age* group.\n",
    "We can apply filtering that we just learned to select the group whose age was over 30 and whose age was under 30.\n",
    "\n",
    "In each group, we will calculate the mean of 'Survived' column."
   ]
  },
  {
   "cell_type": "code",
   "execution_count": null,
   "metadata": {
    "colab": {
     "base_uri": "https://localhost:8080/",
     "height": 51
    },
    "colab_type": "code",
    "id": "2DWkyuiygy72",
    "outputId": "834a2589-6ce3-41d1-bcdc-662ed8ae60d3"
   },
   "outputs": [],
   "source": [
    "# filtering\n",
    "df_over_30yrs = df.loc[df['Age'] > 30]\n",
    "df_under_30yrs = df.loc[df['Age'] <= 30]\n",
    "\n",
    "# calculating mean of 'Survived' for each group\n",
    "mean_over_30 = df_over_30yrs['Survived'].mean()\n",
    "mean_under_30 = df_under_30yrs['Survived'].mean()\n",
    "\n",
    "# printing the mean survival rates for each group\n",
    "# round(number, decimal_points): round a number to a given precision in decimal_points\n",
    "print(\"Survival rate - age over 30: \", round(mean_over_30*100, 3), \"%\")\n",
    "print(\"Survival rate - age under 30: \", round(mean_under_30*100, 3), \"%\")"
   ]
  },
  {
   "cell_type": "markdown",
   "metadata": {
    "colab_type": "text",
    "id": "kiWLXsdfg6dN"
   },
   "source": [
    "There's not much difference between the two groups."
   ]
  },
  {
   "cell_type": "markdown",
   "metadata": {
    "colab_type": "text",
    "id": "Eigq0iNAg94S"
   },
   "source": [
    "### Groupby\n",
    "\n",
    "Now, we will group by *sex* to see if there's any difference between female and male.\n",
    "\n",
    "Here, we use ```groupby``` aggregate function and it will let us group the dataset by that column ('Sex')"
   ]
  },
  {
   "cell_type": "code",
   "execution_count": null,
   "metadata": {
    "colab": {
     "base_uri": "https://localhost:8080/",
     "height": 142
    },
    "colab_type": "code",
    "id": "6H9aNstVhA6t",
    "outputId": "521ca832-a865-4fda-b0e6-47a21adf69b1"
   },
   "outputs": [],
   "source": [
    "df.groupby(['Sex']).mean()"
   ]
  },
  {
   "cell_type": "markdown",
   "metadata": {
    "colab_type": "text",
    "id": "1X4Q7i4Mzq6d"
   },
   "source": [
    "If we want to sort the aggregate funtion by a column, we can use ```sort_values(by=column_name)```.\n",
    "\n",
    "Let's sort the above aggregate function by \"Survived\""
   ]
  },
  {
   "cell_type": "code",
   "execution_count": null,
   "metadata": {
    "colab": {
     "base_uri": "https://localhost:8080/",
     "height": 142
    },
    "colab_type": "code",
    "id": "bGDrqq4Vzq6d",
    "outputId": "3bcd88d0-e07f-4c7f-ff0f-193c58f6a2a5"
   },
   "outputs": [],
   "source": [
    "df.groupby(['Sex']).mean().sort_values(by=\"Survived\")"
   ]
  },
  {
   "cell_type": "markdown",
   "metadata": {
    "colab_type": "text",
    "id": "fl5l6fu3hEq9"
   },
   "source": [
    "If we are interested in the survival rate of each group, we can use ```[ ]``` after the groupby call to specify which column to display."
   ]
  },
  {
   "cell_type": "code",
   "execution_count": null,
   "metadata": {
    "colab": {
     "base_uri": "https://localhost:8080/",
     "height": 85
    },
    "colab_type": "code",
    "id": "t6Cfki6RhIjp",
    "outputId": "610dc175-5d51-49be-a701-69d8902fc504"
   },
   "outputs": [],
   "source": [
    "# group by 'Sex' and calculate mean of 'Survived'\n",
    "df.groupby(['Sex'])['Survived'].mean()"
   ]
  },
  {
   "cell_type": "markdown",
   "metadata": {
    "colab_type": "text",
    "id": "rpYUZc-4hHTE"
   },
   "source": [
    "There was a significant difference in the survival rate by *sex*!"
   ]
  },
  {
   "cell_type": "markdown",
   "metadata": {
    "colab_type": "text",
    "id": "6QGipRVKk7v1"
   },
   "source": [
    "We can also apply groupby on multiple columns."
   ]
  },
  {
   "cell_type": "code",
   "execution_count": null,
   "metadata": {
    "colab": {
     "base_uri": "https://localhost:8080/",
     "height": 266
    },
    "colab_type": "code",
    "id": "YoQE_gQBhNm4",
    "outputId": "24df6f31-fce1-464c-f7ef-1989c7ba6675"
   },
   "outputs": [],
   "source": [
    " df.groupby(['Sex', 'Pclass']).mean()"
   ]
  },
  {
   "cell_type": "markdown",
   "metadata": {
    "colab_type": "text",
    "id": "om9vdmvchQKD"
   },
   "source": [
    "In both groups (female and male), the survival rate was a lot higher in Pclass 1 than other Pclass!"
   ]
  },
  {
   "cell_type": "markdown",
   "metadata": {
    "colab_type": "text",
    "id": "YvoteYYzhUg-"
   },
   "source": [
    "### 7.0 - Now Try This\n",
    "\n",
    "Then, some of us might be curious:\n",
    "\n",
    "Would lower Pclass be more expensive or higher Pclass be more expensive?\n",
    "\n",
    "We can answer the question by calculating the mean fares for each class.\n",
    "\n",
    "**Calculate the mean fares for each Pclass!**"
   ]
  },
  {
   "cell_type": "code",
   "execution_count": null,
   "metadata": {
    "colab": {},
    "colab_type": "code",
    "id": "iJYJ2R_rhZvd"
   },
   "outputs": [],
   "source": [
    "# Once your have verified your answer please uncomment the line below and run it, this will save your code \n",
    "#%%writefile -a {folder_location}/7.py\n",
    "# Please note that if you uncomment and rub multiple times, the program will keep appending to the file.\n",
    "\n",
    "# INSERT CODE BELOW\n"
   ]
  },
  {
   "cell_type": "markdown",
   "metadata": {
    "colab_type": "text",
    "id": "e6KGlUFChcpm"
   },
   "source": [
    "### Let's pause and think!\n",
    "Did you see any correlation between Pclass, Fare, and Survival rate? Briefly describe what you have found here."
   ]
  },
  {
   "cell_type": "markdown",
   "metadata": {
    "colab_type": "text",
    "id": "4P0Hgls9hgpM"
   },
   "source": [
    "## Takeaways\n",
    "\n",
    "Using Dataframe and aggregate functions in Pandas, we can answer any questions that might come up!\n",
    "\n",
    "In the tutorial section, we will apply what we have learned in Pandas and further analyze a new dataset."
   ]
  },
  {
   "cell_type": "markdown",
   "metadata": {
    "colab_type": "text",
    "id": "WdvQr4R9R6Hr"
   },
   "source": [
    "# Practical Exercise"
   ]
  },
  {
   "cell_type": "markdown",
   "metadata": {
    "colab_type": "text",
    "id": "0N-zF0BbSqXg"
   },
   "source": [
    "### About the dataset\n",
    "\n",
    "What we will be using in the tutorial is the US Census Demographic Data.\n",
    "\n",
    "The data here were collected by the US Census Burea and it includes data from the entire country.\n",
    "\n",
    "This dataset covers lots of areas: state, county, gender, ethnicity, professional working fields, means of transportation to work, and employment.\n",
    "\n",
    "All of this information is available at a State and County level. There are many questions that we could try to answer with the dataset:\n",
    "- Unemployment by state\n",
    "- Professional fields by state and county\n",
    "- Means of transportation to work by county in CA\n",
    "- ...\n",
    "\n",
    "### Objective\n",
    "Since the dataset covers all of the states in the US, we are going to select top 5 largest states by population. \n",
    "Once we've selected top five states, we will examine the residents' means of transportation to work at a state and county level.\n",
    "\n",
    "That's our focus in the tutorial, but feel free to play around with it as you'd like.\n",
    "\n",
    "Let's load our data first!"
   ]
  },
  {
   "cell_type": "markdown",
   "metadata": {
    "colab_type": "text",
    "id": "7q6R0hBZONBe"
   },
   "source": [
    "### Load file"
   ]
  },
  {
   "cell_type": "code",
   "execution_count": null,
   "metadata": {
    "colab": {
     "base_uri": "https://localhost:8080/",
     "height": 590
    },
    "colab_type": "code",
    "id": "DfmowYZZOVRn",
    "outputId": "d7661ba7-2f58-462f-e88a-99f348016554"
   },
   "outputs": [],
   "source": [
    "url = 'https://raw.githubusercontent.com/bitprj/DigitalHistory/master/Week3-Introduction-to-Open-Data-Importing-Data-and-Basic-Data-Wrangling/data/acs2017_county_data.csv'\n",
    "df = pd.read_csv(url)\n",
    "df"
   ]
  },
  {
   "cell_type": "markdown",
   "metadata": {
    "colab_type": "text",
    "id": "MnuaESk_OP4T"
   },
   "source": [
    "### 8.0 - Now Try This\n",
    "\n",
    "CountyId is a unique identifier for each county and state.\n",
    "- Set CountyId as an index.\n",
    "- Update df\n",
    "\n",
    "Hint: Use ```set_index``` and don't forget to update df"
   ]
  },
  {
   "cell_type": "code",
   "execution_count": null,
   "metadata": {
    "colab": {},
    "colab_type": "code",
    "id": "f2pGIB0AOxqE"
   },
   "outputs": [],
   "source": [
    "# Once your have verified your answer please uncomment the line below and run it, this will save your code \n",
    "#%%writefile -a {folder_location}/8.py\n",
    "# Please note that if you uncomment and rub multiple times, the program will keep appending to the file.\n",
    "\n",
    "# INSERT CODE BELOW\n"
   ]
  },
  {
   "cell_type": "markdown",
   "metadata": {
    "colab_type": "text",
    "id": "mCNQqlwecmjv"
   },
   "source": [
    "### Basic info about the dataset\n"
   ]
  },
  {
   "cell_type": "code",
   "execution_count": null,
   "metadata": {
    "colab": {
     "base_uri": "https://localhost:8080/",
     "height": 340
    },
    "colab_type": "code",
    "id": "_Fwr655mcjr5",
    "outputId": "9bc081fc-3090-458f-8b0a-6a2ae735f76c"
   },
   "outputs": [],
   "source": [
    "df.head()"
   ]
  },
  {
   "cell_type": "markdown",
   "metadata": {
    "colab_type": "text",
    "id": "FFqqKsABeT7y"
   },
   "source": [
    "Since there are so many columns, head function doesn't display all columns.\n",
    "\n",
    "Let's use info() as it returns **ALL** of the **column names**, its types, and Non-Null counts. \n",
    "\n"
   ]
  },
  {
   "cell_type": "code",
   "execution_count": null,
   "metadata": {
    "colab": {
     "base_uri": "https://localhost:8080/",
     "height": 748
    },
    "colab_type": "code",
    "id": "wxqUmTFdfkCi",
    "outputId": "75a4df5f-1c35-4317-85e6-260819e601f9"
   },
   "outputs": [],
   "source": [
    "df.info()"
   ]
  },
  {
   "cell_type": "markdown",
   "metadata": {
    "colab_type": "text",
    "id": "IhviGetnfp9B"
   },
   "source": [
    "There are 36 columns with 3220 counties.\n",
    "\n",
    "Also, none of the columns have missing rows as every column has 3220 non-null values! That's great!\n",
    "\n",
    "Let's view summary statistics of numeric columns and figure out what we want to get out from this dataset."
   ]
  },
  {
   "cell_type": "code",
   "execution_count": null,
   "metadata": {
    "colab": {
     "base_uri": "https://localhost:8080/",
     "height": 317
    },
    "colab_type": "code",
    "id": "DuDPOCZ9frBI",
    "outputId": "68b0d2d4-fcfd-4b5d-f22e-212780594254"
   },
   "outputs": [],
   "source": [
    "df.describe()"
   ]
  },
  {
   "cell_type": "markdown",
   "metadata": {
    "colab_type": "text",
    "id": "nwuNo5o2fzGe"
   },
   "source": [
    "There are 34 numerical columns out of 36 in this dataset.\n",
    "\n",
    "As we saw in the objective, there are lots of things we can do with this dataset.\n",
    "\n",
    "But, let's pick top 5 states with most population and most employees and work from there!\n"
   ]
  },
  {
   "cell_type": "markdown",
   "metadata": {
    "colab_type": "text",
    "id": "66hyyirMlq6S"
   },
   "source": [
    "## Select subsets of data\n",
    "\n",
    "Before we dive into the data analysis, let's select the columns we want to work with. \n",
    "As we learned earlier, we can select a specific subset of columns using two methods:\n",
    "\n",
    "1. by index location\n",
    "2. by column names"
   ]
  },
  {
   "cell_type": "markdown",
   "metadata": {
    "colab_type": "text",
    "id": "Y7H1aymi8der"
   },
   "source": [
    "As this dataset has so many columns, let's take a look at all of the columns first.\n",
    "\n",
    "We can call ```columns``` and it will return all of the column names - we can use ```df.info()``` as well."
   ]
  },
  {
   "cell_type": "code",
   "execution_count": null,
   "metadata": {
    "colab": {
     "base_uri": "https://localhost:8080/",
     "height": 153
    },
    "colab_type": "code",
    "id": "9v7B6s4Azq6p",
    "outputId": "1cf6e10d-72ba-4d9a-d729-a7e53fc37c3a"
   },
   "outputs": [],
   "source": [
    "df.columns"
   ]
  },
  {
   "cell_type": "markdown",
   "metadata": {
    "colab_type": "text",
    "id": "H_mX5Dwwzq6q"
   },
   "source": [
    "Since there are so many columns, it's hard to count the index location. So we will use the column names to select subsets of data!\n",
    "\n",
    "As discussed in the objective, our main focus is transportation methods for workers and population. So, we will select the following columns!"
   ]
  },
  {
   "cell_type": "code",
   "execution_count": null,
   "metadata": {
    "colab": {
     "base_uri": "https://localhost:8080/",
     "height": 450
    },
    "colab_type": "code",
    "id": "2fze1T9AmSq8",
    "outputId": "57bb42df-0ecb-47a6-8d7f-44c2bbfd6177"
   },
   "outputs": [],
   "source": [
    "# by column names\n",
    "df_emp = df[['State', 'County', 'TotalPop', 'Income', 'Employed', 'Drive', 'Carpool', 'Transit', 'Walk', 'OtherTransp', 'WorkAtHome']]\n",
    "df_emp"
   ]
  },
  {
   "cell_type": "markdown",
   "metadata": {
    "colab_type": "text",
    "id": "dWUgJpd8osiW"
   },
   "source": [
    "## Aggregation"
   ]
  },
  {
   "cell_type": "markdown",
   "metadata": {
    "colab_type": "text",
    "id": "kDUIHwT1qS5k"
   },
   "source": [
    "### Total population by state\n",
    "\n",
    "Let's get total polution by state to select top 5 largest states by population.\n",
    "\n",
    "In order to calculate this, we need to group by state, and we will need to get ```sum``` of ```TotalPop```.\n",
    "\n",
    "### 9.0 - Now Try This\n",
    "- Calculate total population by state from ```df_emp```\n",
    "- Name the dataframe as ```state_pop```"
   ]
  },
  {
   "cell_type": "code",
   "execution_count": null,
   "metadata": {
    "colab": {},
    "colab_type": "code",
    "id": "pDekDATgq_62"
   },
   "outputs": [],
   "source": [
    "# Once your have verified your answer please uncomment the line below and run it, this will save your code \n",
    "#%%writefile -a {folder_location}/9.py\n",
    "# Please note that if you uncomment and rub multiple times, the program will keep appending to the file.\n",
    "\n",
    "# INSERT CODE BELOW\n"
   ]
  },
  {
   "cell_type": "markdown",
   "metadata": {
    "colab_type": "text",
    "id": "tfvVLTNazq6u"
   },
   "source": [
    "## Total population by state -- sorted\n",
    "\n",
    "Since there are so many states, it will be easier to see which states have most population if we can sort the dataset.\n",
    "\n",
    "If we use ```sort_values()```  and it's going to sort the data by the aggregation function value."
   ]
  },
  {
   "cell_type": "code",
   "execution_count": null,
   "metadata": {
    "colab": {},
    "colab_type": "code",
    "id": "qYZML8wnzq6w",
    "outputId": "c6b16691-f2d9-4a5b-8b4a-285f7ddd88ec"
   },
   "outputs": [],
   "source": [
    "state_pop = df_emp.groupby(['State'])['TotalPop'].sum().sort_values(ascending=False)\n",
    "state_pop"
   ]
  },
  {
   "cell_type": "markdown",
   "metadata": {
    "colab_type": "text",
    "id": "5i-R0fngyzlV"
   },
   "source": [
    "#### Top 5 states\n",
    "\n",
    "If we want to see the top 5 results from any dataframes, we can use ```df.head(n)``` function to display the first n rows."
   ]
  },
  {
   "cell_type": "code",
   "execution_count": null,
   "metadata": {
    "colab": {},
    "colab_type": "code",
    "id": "DptVP5M2yzlW"
   },
   "outputs": [],
   "source": [
    "state_pop.head(5)"
   ]
  },
  {
   "cell_type": "markdown",
   "metadata": {
    "colab_type": "text",
    "id": "ZkIzA2rUzq6y"
   },
   "source": [
    "#### These are the top 5 largest states by population:\n",
    "- California             \n",
    "- Texas                   \n",
    "- Florida                 \n",
    "- New York                \n",
    "- Illinois  "
   ]
  },
  {
   "cell_type": "markdown",
   "metadata": {
    "colab_type": "text",
    "id": "WV2G7-tVzq6y"
   },
   "source": [
    "We are going to use ```loc``` as we want to filter dataset based on criteria.\n",
    "\n",
    "We could use the line below: selecting rows if 'State' is California, Texas, Florida, New York, or Illinois."
   ]
  },
  {
   "cell_type": "code",
   "execution_count": null,
   "metadata": {
    "colab": {
     "base_uri": "https://localhost:8080/",
     "height": 450
    },
    "colab_type": "code",
    "id": "Y6XCJoawzq6y",
    "outputId": "b03471dd-8599-435d-8ec8-fb8e4d15ced7"
   },
   "outputs": [],
   "source": [
    "df_emp.loc[(df_emp['State']=='California') | (df_emp['State']=='Texas') | (df_emp['State']=='Florida') | (df_emp['State']== \"New York\") | (df_emp['State']=='Illinois')]"
   ]
  },
  {
   "cell_type": "markdown",
   "metadata": {
    "colab_type": "text",
    "id": "AdHh_vYJzq6z"
   },
   "source": [
    "But, the code above is very lenthy so we will learn a shortcut!\n",
    "\n",
    "We can use ```isin(list_of_values)``` function to see if 'State' is in state_list.\n",
    "\n",
    "The syntax above is very similar to ```'a' in ['a','b','c']``` in Python."
   ]
  },
  {
   "cell_type": "code",
   "execution_count": null,
   "metadata": {
    "colab": {
     "base_uri": "https://localhost:8080/",
     "height": 450
    },
    "colab_type": "code",
    "id": "S6lZFozvzq6z",
    "outputId": "d567a493-2803-4d76-f8c6-2e62b3a721a6"
   },
   "outputs": [],
   "source": [
    "five_states = df_emp.loc[df_emp['State'].isin(['California','Texas','Florida','New York','Illinois'])]\n",
    "five_states"
   ]
  },
  {
   "cell_type": "markdown",
   "metadata": {
    "colab_type": "text",
    "id": "eS6IV4PUzq61"
   },
   "source": [
    "### Average income by state\n",
    "\n",
    "Now, we have selected five states to work with and let's get the average income in each state."
   ]
  },
  {
   "cell_type": "code",
   "execution_count": null,
   "metadata": {
    "colab": {
     "base_uri": "https://localhost:8080/",
     "height": 136
    },
    "colab_type": "code",
    "id": "TKruJJUgzq61",
    "outputId": "48ae0e45-2c28-4fa1-8b81-54f0d255b6a5"
   },
   "outputs": [],
   "source": [
    "five_states.groupby(['State'])['Income'].mean().sort_values(ascending=False)"
   ]
  },
  {
   "cell_type": "markdown",
   "metadata": {
    "colab_type": "text",
    "id": "Cm2iVOsRzq62"
   },
   "source": [
    "California has the highest average income and Florida has the lowest average income amongst these five states."
   ]
  },
  {
   "cell_type": "markdown",
   "metadata": {
    "colab_type": "text",
    "id": "AKGYlU0bzq62"
   },
   "source": [
    "### Total number of employees by state\n",
    "### 10.0 - Now Try This\n",
    "- Calculate the total number of employees by state\n",
    "- Sort by value\n",
    "- Write down the state with the highest number of employees and the state with the lowest number of employees.\n",
    "\n",
    "Hint: use ```groupby```"
   ]
  },
  {
   "cell_type": "code",
   "execution_count": null,
   "metadata": {
    "colab": {},
    "colab_type": "code",
    "id": "IhY8pPFZzq63"
   },
   "outputs": [],
   "source": [
    "# Once your have verified your answer please uncomment the line below and run it, this will save your code \n",
    "#%%writefile -a {folder_location}/10.py\n",
    "# Please note that if you uncomment and rub multiple times, the program will keep appending to the file.\n",
    "\n",
    "# INSERT CODE BELOW\n"
   ]
  },
  {
   "cell_type": "code",
   "execution_count": null,
   "metadata": {},
   "outputs": [],
   "source": [
    "# Once your have verified your answer please uncomment the line below and run it, this will save your code \n",
    "#%%writefile -a {folder_location}/10.py\n",
    "# Please note that if you uncomment and rub multiple times, the program will keep appending to the file.\n",
    "\n",
    "# What's the state with the highest number of employees\n",
    "answer1 = # INSERT YOUR ANSWER HERE in a string form\n",
    "print(answer1)"
   ]
  },
  {
   "cell_type": "code",
   "execution_count": null,
   "metadata": {},
   "outputs": [],
   "source": [
    "# Once your have verified your answer please uncomment the line below and run it, this will save your code \n",
    "#%%writefile -a {folder_location}/10.py\n",
    "# Please note that if you uncomment and rub multiple times, the program will keep appending to the file.\n",
    "\n",
    "# What's the state with the lowest number of employees\n",
    "answer2 = # INSERT YOUR ANSWER HERE in a string form\n",
    "print(answer2)"
   ]
  },
  {
   "cell_type": "markdown",
   "metadata": {
    "colab_type": "text",
    "id": "S9hc-aV3zq64"
   },
   "source": [
    "### Means of transportation to work by State\n",
    "\n",
    "Let's look at each state's transit mode and see which transit mode is most popular in each state.\n",
    "\n",
    "We will groupby 'State' and we will get the sum of all of the transit modes."
   ]
  },
  {
   "cell_type": "code",
   "execution_count": null,
   "metadata": {
    "colab": {
     "base_uri": "https://localhost:8080/",
     "height": 289
    },
    "colab_type": "code",
    "id": "V4uQBgO4zq64",
    "outputId": "34a140e9-a7c8-4067-a494-5d8219b56b4c"
   },
   "outputs": [],
   "source": [
    "five_states.groupby(['State'])['Drive','Carpool','Transit','Walk','OtherTransp','WorkAtHome'].sum()"
   ]
  },
  {
   "cell_type": "markdown",
   "metadata": {
    "colab_type": "text",
    "id": "1Rc1cuq9zq65"
   },
   "source": [
    "As California is the largest state by both population and employment, we will work with California dataset only.\n",
    "\n",
    "\n",
    "### 11.0 - Now Try This"
   ]
  },
  {
   "cell_type": "markdown",
   "metadata": {
    "colab_type": "text",
    "id": "PGa9wIgx4qPR"
   },
   "source": [
    "#### Step 1: Select california state only and save it as ```ca_transit```"
   ]
  },
  {
   "cell_type": "code",
   "execution_count": null,
   "metadata": {
    "colab": {},
    "colab_type": "code",
    "id": "YuYEK5pDzq65"
   },
   "outputs": [],
   "source": [
    "# Once your have verified your answer please uncomment the line below and run it, this will save your code \n",
    "#%%writefile -a {folder_location}/11.py\n",
    "# Please note that if you uncomment and rub multiple times, the program will keep appending to the file.\n",
    "\n",
    "\n",
    "# Step 1: Select california state only\n",
    "# INSERT CODE BELOW\n",
    "\n"
   ]
  },
  {
   "cell_type": "markdown",
   "metadata": {
    "colab_type": "text",
    "id": "vbW_DM4n4M_2"
   },
   "source": [
    "#### Step 2: Calculate ```sum``` of all transit modes by ```county``` in California."
   ]
  },
  {
   "cell_type": "code",
   "execution_count": null,
   "metadata": {
    "colab": {},
    "colab_type": "code",
    "id": "pD0v1FBgzq66"
   },
   "outputs": [],
   "source": [
    "# Once your have verified your answer please uncomment the line below and run it, this will save your code \n",
    "#%%writefile -a {folder_location}/11.py\n",
    "# Please note that if you uncomment and rub multiple times, the program will keep appending to the file.\n",
    "\n",
    "# Step 2: Calculate the sum of all transit modes by county in California.\n",
    "# INSERT CODE BELOW\n",
    "\n"
   ]
  },
  {
   "cell_type": "markdown",
   "metadata": {
    "colab_type": "text",
    "id": "XP43lIMtMA3Z"
   },
   "source": [
    "## Takeaways from this tutorial\n",
    "Anytime you see data, you can use Pandas and you will be able to answer any questions!\n",
    "\n",
    "In the later weeks, we will deep dive into the further uses of Pandas to analyze a more complicated data."
   ]
  },
  {
   "cell_type": "markdown",
   "metadata": {
    "colab_type": "text",
    "id": "ciQ9D6HQZVF-"
   },
   "source": [
    "## Resources\n",
    "- [About Titanic](https://en.wikipedia.org/wiki/Titanic)\n",
    "- \n",
    "- [US Census Demographic Data](https://www.kaggle.com/muonneutrino/us-census-demographic-data)\n",
    "- [10 minutes to Pandas](https://pandas.pydata.org/pandas-docs/stable/user_guide/10min.html)\n",
    "- [Pandas API Reference](https://pandas.pydata.org/pandas-docs/stable/reference/index.html)\n",
    "- [A Gentle Introduction to Pandas](https://medium.com/@wbusaka/a-gentle-introduction-to-pandas-5ed17421a59d)"
   ]
  },
  {
   "cell_type": "markdown",
   "metadata": {
    "colab_type": "text",
    "id": "fujtP7F5Zj-i"
   },
   "source": [
    "## Appendix"
   ]
  },
  {
   "cell_type": "markdown",
   "metadata": {
    "colab_type": "text",
    "id": "-0oQQw7f3gQC"
   },
   "source": [
    "### How to download a dataset from Kaggle\n",
    "\n",
    "Kaggle is the world's largest data science community with powerful tools and resources. There are lots of datasets you can download from this website.\n",
    "\n",
    "#### Step 1: go to [Kaggle.com](https://Kaggle.com)\n",
    "\n",
    "#### Step 2: click Data tab\n",
    "\n",
    "![Kaggle Data](https://github.com/bitprj/DigitalHistory/blob/Narae/Week3-Introduction-to-Open-Data-Importing-Data-and-Basic-Data-Wrangling/assets/Kaggle_data.png?raw=1)\n",
    "\n",
    "#### Step 3: search for a dataset of your interest or explore the most popular datasets on the main page\n",
    "\n",
    "![Search page](https://github.com/bitprj/DigitalHistory/blob/Narae/Week3-Introduction-to-Open-Data-Importing-Data-and-Basic-Data-Wrangling/assets/search_page.png?raw=1)\n",
    "\n",
    "#### Step 4: once you select a dataset, you can read context and download it. If you click Download button at the top, all of the datasets will be downloaded.\n",
    "\n",
    "![US Census main](https://github.com/bitprj/DigitalHistory/blob/Narae/Week3-Introduction-to-Open-Data-Importing-Data-and-Basic-Data-Wrangling/assets/US_Census_main.png?raw=1)\n",
    "\n",
    "#### Step 5: if you want to download a specific dataset, hit the download icon in the selected dataset \n",
    "\n",
    "![Download specific](https://github.com/bitprj/DigitalHistory/blob/Narae/Week3-Introduction-to-Open-Data-Importing-Data-and-Basic-Data-Wrangling/assets/download_specific.png?raw=1)\n",
    "\n",
    "#### Step 6: if you'd like to see all columns, check ```select all``` and it will show all of the columns in the dataset.\n",
    "\n",
    "![View columns](https://github.com/bitprj/DigitalHistory/blob/Narae/Week3-Introduction-to-Open-Data-Importing-Data-and-Basic-Data-Wrangling/assets/view_columns.png?raw=1)\n",
    "\n",
    "#### Step 7: if your dataset is a csv file, then use ```read_csv()```. If your dataset is an excel file, use ```read_excel()``` to load your dataset."
   ]
  },
  {
   "cell_type": "code",
   "execution_count": null,
   "metadata": {
    "colab": {},
    "colab_type": "code",
    "id": "oTpsBPa93gQC"
   },
   "outputs": [],
   "source": []
  }
 ],
 "metadata": {
  "colab": {
   "collapsed_sections": [],
   "include_colab_link": true,
   "name": "Week3_Introduction_to_Data.ipynb",
   "provenance": []
  },
  "kernelspec": {
   "display_name": "Python 3",
   "language": "python",
   "name": "python3"
  },
  "language_info": {
   "codemirror_mode": {
    "name": "ipython",
    "version": 3
   },
   "file_extension": ".py",
   "mimetype": "text/x-python",
   "name": "python",
   "nbconvert_exporter": "python",
   "pygments_lexer": "ipython3",
   "version": "3.7.4"
  }
 },
 "nbformat": 4,
 "nbformat_minor": 1
}
