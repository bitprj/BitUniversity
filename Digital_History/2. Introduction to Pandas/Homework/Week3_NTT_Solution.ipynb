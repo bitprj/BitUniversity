{
  "nbformat": 4,
  "nbformat_minor": 0,
  "metadata": {
    "kernelspec": {
      "display_name": "Python 3",
      "language": "python",
      "name": "python3"
    },
    "language_info": {
      "codemirror_mode": {
        "name": "ipython",
        "version": 3
      },
      "file_extension": ".py",
      "mimetype": "text/x-python",
      "name": "python",
      "nbconvert_exporter": "python",
      "pygments_lexer": "ipython3",
      "version": "3.7.4"
    },
    "colab": {
      "name": "[NTT-KEY]-Week3-Introduction-to-Data-Manipulation.ipynb",
      "provenance": [],
      "include_colab_link": true
    }
  },
  "cells": [
    {
      "cell_type": "markdown",
      "metadata": {
        "id": "view-in-github",
        "colab_type": "text"
      },
      "source": [
        "<a href=\"https://colab.research.google.com/github/bitprj/DigitalHistory/blob/master/Week3-Introduction-to-Open-Data-Importing-Data-and-Basic-Data-Wrangling/Homework/Week3_NTT_Solution.ipynb\" target=\"_parent\"><img src=\"https://colab.research.google.com/assets/colab-badge.svg\" alt=\"Open In Colab\"/></a>"
      ]
    },
    {
      "cell_type": "markdown",
      "metadata": {
        "id": "aFCrNn37rE3x"
      },
      "source": [
        "# Introduction to Data Manipulation\n",
        "- Loading files\n",
        "- 1.0 - Now Try This\n",
        "- 2.0 - Now Try This\n",
        "- 3.0 - Now Try This\n",
        "- 4.0 - Now Try This\n",
        "- 5.0 - Now Try This\n",
        "- 6.0 - Now Try This\n",
        "- 7.0 - Now Try This\n",
        "\n",
        "## Practical Exercise\n",
        "- Loading files\n",
        "- 8.0 - Now Try This\n",
        "- 9.0 - Now Try This\n",
        "- 10.0 - Now Try This\n",
        "- 11.0 - Now Try This"
      ]
    },
    {
      "cell_type": "markdown",
      "metadata": {
        "id": "c0B5xZBrrE3y"
      },
      "source": [
        "## Loading files"
      ]
    },
    {
      "cell_type": "code",
      "metadata": {
        "id": "2xILfdrrrE3z"
      },
      "source": [
        "import pandas as pd\n",
        "\n",
        "url = 'https://raw.githubusercontent.com/bitprj/DigitalHistory/master/Week3-Introduction-to-Open-Data-Importing-Data-and-Basic-Data-Wrangling/data/titanic-dataset.csv'\n",
        "df = pd.read_csv(url)\n",
        "df"
      ],
      "execution_count": null,
      "outputs": []
    },
    {
      "cell_type": "code",
      "metadata": {
        "id": "aucR7n49rE34"
      },
      "source": [
        "df.set_index(keys='PassengerId', inplace=True)"
      ],
      "execution_count": null,
      "outputs": []
    },
    {
      "cell_type": "markdown",
      "metadata": {
        "id": "HM1aS8ibrE4E"
      },
      "source": [
        "## 1.0 - Now Try This\n",
        "\n",
        "- Drop the rows that are missing any of the following columns: 'Pclass'\n",
        "- Update ```df```\n",
        "\n",
        "### Answer:"
      ]
    },
    {
      "cell_type": "code",
      "metadata": {
        "id": "EFwSeiAUrE4F"
      },
      "source": [
        "df.dropna(subset=['Pclass'], inplace=True)"
      ],
      "execution_count": null,
      "outputs": []
    },
    {
      "cell_type": "markdown",
      "metadata": {
        "id": "IV_USJjMrE4J"
      },
      "source": [
        "## 2.0 - Now Try This\n",
        "\n",
        "Select PassengerId, Survived, and Pclass with all rows.\n",
        "\n",
        "### Answer:"
      ]
    },
    {
      "cell_type": "code",
      "metadata": {
        "id": "oZstqiytrE4K"
      },
      "source": [
        "df.iloc[: , [0,1]]"
      ],
      "execution_count": null,
      "outputs": []
    },
    {
      "cell_type": "markdown",
      "metadata": {
        "id": "hiojVIVZrE4U"
      },
      "source": [
        "## 3.0 - Now Try This\n",
        "\n",
        "Select PassengerId, Survived, and Pclass with all rows.\n",
        "Please use semi-colon ```:``` this time.\n",
        "\n",
        "### Answer:"
      ]
    },
    {
      "cell_type": "code",
      "metadata": {
        "id": "Pvxh0oibrE4V"
      },
      "source": [
        "df.iloc[:, 0:2]"
      ],
      "execution_count": null,
      "outputs": []
    },
    {
      "cell_type": "markdown",
      "metadata": {
        "id": "DyA3teaArE4j"
      },
      "source": [
        "## 4.0 - Now Try This\n",
        "\n",
        "Select PassengerId, Survived, Sex, and Age.\n",
        "\n",
        "### Answer:"
      ]
    },
    {
      "cell_type": "code",
      "metadata": {
        "id": "WNepGdvqrE4l"
      },
      "source": [
        "df[['Survived', 'Sex', 'Age']]"
      ],
      "execution_count": null,
      "outputs": []
    },
    {
      "cell_type": "markdown",
      "metadata": {
        "id": "Ww_eLjNHrE4q"
      },
      "source": [
        "## 5.0 - Now Try This\n",
        "\n",
        "Select the dataset that meet the following condition:\n",
        "- Pclass is not 1\n",
        "\n",
        "### Answer:"
      ]
    },
    {
      "cell_type": "code",
      "metadata": {
        "id": "gJHFtW5frE4s"
      },
      "source": [
        "df.loc[(df['Pclass'] != 1)]\n",
        "# or df.loc[(df['Pclass'] > 1)]"
      ],
      "execution_count": null,
      "outputs": []
    },
    {
      "cell_type": "markdown",
      "metadata": {
        "id": "8E_WMNcMrE40"
      },
      "source": [
        "## 6.0 - Now Try This\n",
        "\n",
        "Select the dataset that meet the following conditions:\n",
        "- Age is less than 10 \n",
        "- OR\n",
        "- Age is greater than 50\n",
        "\n",
        "Hint: Don't forget parenthesis!\n",
        "\n",
        "### Answer:"
      ]
    },
    {
      "cell_type": "code",
      "metadata": {
        "id": "aVgCSMwirE41"
      },
      "source": [
        "df.loc[(df['Age'] < 10) | (df['Age'] > 50)]"
      ],
      "execution_count": null,
      "outputs": []
    },
    {
      "cell_type": "markdown",
      "metadata": {
        "id": "Hmi8_Ae2rE48"
      },
      "source": [
        "## 7.0 - Now Try This\n",
        "\n",
        "Then, some of us might be curious:\n",
        "\n",
        "Would lower Pclass be more expensive or higher Pclass be more expensive?\n",
        "\n",
        "We can answer the question by calculating the mean fares for each class.\n",
        "\n",
        "**Calculate the mean fares for each Pclass!**\n",
        "\n",
        "### Answer:"
      ]
    },
    {
      "cell_type": "code",
      "metadata": {
        "id": "ltLX1kLdrE49"
      },
      "source": [
        "df.groupby(['Pclass'])['Fare'].mean()"
      ],
      "execution_count": null,
      "outputs": []
    },
    {
      "cell_type": "markdown",
      "metadata": {
        "id": "m1gVTCAQrE5K"
      },
      "source": [
        "# Practical Exercise\n",
        "\n",
        "## Loading files"
      ]
    },
    {
      "cell_type": "code",
      "metadata": {
        "id": "_oPiEXpHrE5M"
      },
      "source": [
        "url = 'https://raw.githubusercontent.com/bitprj/DigitalHistory/master/Week3-Introduction-to-Open-Data-Importing-Data-and-Basic-Data-Wrangling/data/acs2017_county_data.csv'\n",
        "df = pd.read_csv(url)\n",
        "df"
      ],
      "execution_count": null,
      "outputs": []
    },
    {
      "cell_type": "markdown",
      "metadata": {
        "id": "Kmn_NzCYrE5V"
      },
      "source": [
        "## 8.0 - Now Try This\n",
        "\n",
        "CountyId is a unique identifier for each county and state.\n",
        "- Set CountyId as an index.\n",
        "- Update df\n",
        "\n",
        "Hint: Use ```set_index``` and don't forget to update df\n",
        "\n",
        "### Answer:"
      ]
    },
    {
      "cell_type": "code",
      "metadata": {
        "id": "AOVp0CTtrE5W"
      },
      "source": [
        "df.set_index(keys='CountyId', inplace=True)\n",
        "df"
      ],
      "execution_count": null,
      "outputs": []
    },
    {
      "cell_type": "markdown",
      "metadata": {
        "id": "CWkyaPgerE5o"
      },
      "source": [
        "### Total population by state\n",
        "\n",
        "Let's get total polution by state to select top 5 largest states by population.\n",
        "\n",
        "In order to calculate this, we need to group by state, and we will need to get ```sum``` of ```TotalPop```.\n",
        "\n",
        "## 9.0 - Now Try This\n",
        "- Calculate total population by state from ```df_emp```\n",
        "- Name the dataframe as ```state_pop```\n",
        "\n",
        "### Answer:"
      ]
    },
    {
      "cell_type": "code",
      "metadata": {
        "id": "zltWFczprE5p"
      },
      "source": [
        "state_pop = df_emp.groupby(['State'])['TotalPop'].sum()"
      ],
      "execution_count": null,
      "outputs": []
    },
    {
      "cell_type": "markdown",
      "metadata": {
        "id": "2LR2iygFrE6A"
      },
      "source": [
        "### Total number of employees by state\n",
        "## 10.0 - Now Try This\n",
        "- Calculate the total number of employees by state\n",
        "- Sort by value\n",
        "- Write down the state with the highest number of employees and the state with the lowest number of employees.\n",
        "\n",
        "Hint: use ```groupby```\n",
        "\n",
        "### Answer:"
      ]
    },
    {
      "cell_type": "code",
      "metadata": {
        "id": "Owx-s5NprE6I"
      },
      "source": [
        "five_states.groupby(['State'])['Employed'].sum().sort_values(ascending=False)"
      ],
      "execution_count": null,
      "outputs": []
    },
    {
      "cell_type": "markdown",
      "metadata": {
        "id": "bxXer3NPrE6P"
      },
      "source": [
        "## 11.0 - Now Try This\n",
        "\n",
        "### Step 1: Select california state only and save it as ```ca_transit```\n",
        "\n",
        "### Answer:"
      ]
    },
    {
      "cell_type": "code",
      "metadata": {
        "id": "njL1w-SVrE6Q"
      },
      "source": [
        "ca_transit = five_states.loc[five_states['State']=='California']"
      ],
      "execution_count": null,
      "outputs": []
    },
    {
      "cell_type": "markdown",
      "metadata": {
        "id": "9vl5pOrUrE6W"
      },
      "source": [
        "### Step 2: Calculate ```sum``` of all transit modes by ```county``` in California.\n",
        "\n",
        "### Answer:"
      ]
    },
    {
      "cell_type": "code",
      "metadata": {
        "id": "l46_y-2crE6Y"
      },
      "source": [
        "ca_transit.groupby(['County'])['Drive','Carpool','Transit','Walk','OtherTransp','WorkAtHome'].sum()"
      ],
      "execution_count": null,
      "outputs": []
    }
  ]
}