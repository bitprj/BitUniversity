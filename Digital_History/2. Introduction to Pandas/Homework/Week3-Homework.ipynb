{
  "nbformat": 4,
  "nbformat_minor": 0,
  "metadata": {
    "kernelspec": {
      "display_name": "Python 3",
      "language": "python",
      "name": "python3"
    },
    "language_info": {
      "codemirror_mode": {
        "name": "ipython",
        "version": 3
      },
      "file_extension": ".py",
      "mimetype": "text/x-python",
      "name": "python",
      "nbconvert_exporter": "python",
      "pygments_lexer": "ipython3",
      "version": "3.7.4"
    },
    "colab": {
      "name": "Week4-Homework.ipynb",
      "provenance": [],
      "collapsed_sections": [],
      "include_colab_link": true
    }
  },
  "cells": [
    {
      "cell_type": "markdown",
      "metadata": {
        "id": "view-in-github",
        "colab_type": "text"
      },
      "source": [
        "<a href=\"https://colab.research.google.com/github/bitprj/BitUniversity/blob/master/Digital_History/Week3-Introduction-to-Open-Data-Importing-Data-and-Basic-Data-Wrangling/Homework/Week3-Homework.ipynb\" target=\"_parent\"><img src=\"https://colab.research.google.com/assets/colab-badge.svg\" alt=\"Open In Colab\"/></a>"
      ]
    },
    {
      "cell_type": "markdown",
      "metadata": {
        "id": "niysqLC_y8ts"
      },
      "source": [
        "## <div align = \"center\">Homework 2</div>\n",
        "# <div align = \"center\">US Census Data</div>"
      ]
    },
    {
      "cell_type": "markdown",
      "metadata": {
        "id": "I3KSeq2Zy8tt"
      },
      "source": [
        "**Welcome to Homework 2!** In this homework you will be using techniques you learned in Working with Data using Pandas. The purpose of this homework is for you to try data manipulation with ```Pandas``` and to express your observations. \n",
        "\n",
        "Feel free to refer back to week 4 tutorial notebook and ask questions on Piazza!"
      ]
    },
    {
      "cell_type": "markdown",
      "metadata": {
        "id": "xVLcYzB-y8tt"
      },
      "source": [
        "### Grading"
      ]
    },
    {
      "cell_type": "markdown",
      "metadata": {
        "id": "j8Q3BiiXy8tu"
      },
      "source": [
        "There are a total of ten questions and each question is worth 1 point.\n",
        "\n",
        "In order to work on the Homework sections and submit them for grading, you'll need to run the code block below. It will ask for your student ID number and then create a folder that will house your answers for each question. At the very end of the notebook, there is a code section that will download this folder as a zip file to your computer. This zip file will be your final submission."
      ]
    },
    {
      "cell_type": "code",
      "metadata": {
        "id": "1TDpHLqgzCcu"
      },
      "source": [
        "import os\n",
        "import shutil\n",
        "\n",
        "!rm -rf sample_data\n",
        "\n",
        "student_id = input('Please Enter your Student ID: ') # Enter Student ID.\n",
        "\n",
        "while len(student_id) != 9:\n",
        " student_id = int('Please Enter your Student ID: ')  \n",
        "  \n",
        "folder_location = f'{student_id}/Week_Four/Homework'\n",
        "if not os.path.exists(folder_location):\n",
        "  os.makedirs(folder_location)\n",
        "  print('Successfully Created Directory, Lets get started')\n",
        "else:\n",
        "  print('Directory Already Exists')"
      ],
      "execution_count": null,
      "outputs": []
    },
    {
      "cell_type": "markdown",
      "metadata": {
        "id": "2rT0Pt-Ny8tu"
      },
      "source": [
        "### Import Library"
      ]
    },
    {
      "cell_type": "code",
      "metadata": {
        "id": "EtymSgmry8tv"
      },
      "source": [
        "import pandas as pd"
      ],
      "execution_count": 1,
      "outputs": []
    },
    {
      "cell_type": "markdown",
      "metadata": {
        "id": "qQLwxdZOy8tz"
      },
      "source": [
        "### Load dataset"
      ]
    },
    {
      "cell_type": "code",
      "metadata": {
        "id": "uI4M3fVfy8t0",
        "colab": {
          "base_uri": "https://localhost:8080/",
          "height": 626
        },
        "outputId": "1b03cd1e-5bc9-46f5-9bba-59c2db933c4d"
      },
      "source": [
        "url = 'https://raw.githubusercontent.com/bitprj/BitUniversity/master/Digital_History/Week3-Introduction-to-Open-Data-Importing-Data-and-Basic-Data-Wrangling/data/acs2017_county_data.csv'\n",
        "df = pd.read_csv(url)\n",
        "df"
      ],
      "execution_count": 2,
      "outputs": [
        {
          "output_type": "execute_result",
          "data": {
            "text/html": [
              "<div>\n",
              "<style scoped>\n",
              "    .dataframe tbody tr th:only-of-type {\n",
              "        vertical-align: middle;\n",
              "    }\n",
              "\n",
              "    .dataframe tbody tr th {\n",
              "        vertical-align: top;\n",
              "    }\n",
              "\n",
              "    .dataframe thead th {\n",
              "        text-align: right;\n",
              "    }\n",
              "</style>\n",
              "<table border=\"1\" class=\"dataframe\">\n",
              "  <thead>\n",
              "    <tr style=\"text-align: right;\">\n",
              "      <th></th>\n",
              "      <th>CountyId</th>\n",
              "      <th>State</th>\n",
              "      <th>County</th>\n",
              "      <th>TotalPop</th>\n",
              "      <th>Men</th>\n",
              "      <th>Women</th>\n",
              "      <th>Hispanic</th>\n",
              "      <th>White</th>\n",
              "      <th>Black</th>\n",
              "      <th>Native</th>\n",
              "      <th>Asian</th>\n",
              "      <th>Pacific</th>\n",
              "      <th>VotingAgeCitizen</th>\n",
              "      <th>Income</th>\n",
              "      <th>IncomeErr</th>\n",
              "      <th>IncomePerCap</th>\n",
              "      <th>IncomePerCapErr</th>\n",
              "      <th>Poverty</th>\n",
              "      <th>ChildPoverty</th>\n",
              "      <th>Professional</th>\n",
              "      <th>Service</th>\n",
              "      <th>Office</th>\n",
              "      <th>Construction</th>\n",
              "      <th>Production</th>\n",
              "      <th>Drive</th>\n",
              "      <th>Carpool</th>\n",
              "      <th>Transit</th>\n",
              "      <th>Walk</th>\n",
              "      <th>OtherTransp</th>\n",
              "      <th>WorkAtHome</th>\n",
              "      <th>MeanCommute</th>\n",
              "      <th>Employed</th>\n",
              "      <th>PrivateWork</th>\n",
              "      <th>PublicWork</th>\n",
              "      <th>SelfEmployed</th>\n",
              "      <th>FamilyWork</th>\n",
              "      <th>Unemployment</th>\n",
              "    </tr>\n",
              "  </thead>\n",
              "  <tbody>\n",
              "    <tr>\n",
              "      <th>0</th>\n",
              "      <td>1001</td>\n",
              "      <td>Alabama</td>\n",
              "      <td>Autauga County</td>\n",
              "      <td>55036</td>\n",
              "      <td>26899</td>\n",
              "      <td>28137</td>\n",
              "      <td>2.7</td>\n",
              "      <td>75.4</td>\n",
              "      <td>18.9</td>\n",
              "      <td>0.3</td>\n",
              "      <td>0.9</td>\n",
              "      <td>0.0</td>\n",
              "      <td>41016</td>\n",
              "      <td>55317</td>\n",
              "      <td>2838</td>\n",
              "      <td>27824</td>\n",
              "      <td>2024</td>\n",
              "      <td>13.7</td>\n",
              "      <td>20.1</td>\n",
              "      <td>35.3</td>\n",
              "      <td>18.0</td>\n",
              "      <td>23.2</td>\n",
              "      <td>8.1</td>\n",
              "      <td>15.4</td>\n",
              "      <td>86.0</td>\n",
              "      <td>9.6</td>\n",
              "      <td>0.1</td>\n",
              "      <td>0.6</td>\n",
              "      <td>1.3</td>\n",
              "      <td>2.5</td>\n",
              "      <td>25.8</td>\n",
              "      <td>24112</td>\n",
              "      <td>74.1</td>\n",
              "      <td>20.2</td>\n",
              "      <td>5.6</td>\n",
              "      <td>0.1</td>\n",
              "      <td>5.2</td>\n",
              "    </tr>\n",
              "    <tr>\n",
              "      <th>1</th>\n",
              "      <td>1003</td>\n",
              "      <td>Alabama</td>\n",
              "      <td>Baldwin County</td>\n",
              "      <td>203360</td>\n",
              "      <td>99527</td>\n",
              "      <td>103833</td>\n",
              "      <td>4.4</td>\n",
              "      <td>83.1</td>\n",
              "      <td>9.5</td>\n",
              "      <td>0.8</td>\n",
              "      <td>0.7</td>\n",
              "      <td>0.0</td>\n",
              "      <td>155376</td>\n",
              "      <td>52562</td>\n",
              "      <td>1348</td>\n",
              "      <td>29364</td>\n",
              "      <td>735</td>\n",
              "      <td>11.8</td>\n",
              "      <td>16.1</td>\n",
              "      <td>35.7</td>\n",
              "      <td>18.2</td>\n",
              "      <td>25.6</td>\n",
              "      <td>9.7</td>\n",
              "      <td>10.8</td>\n",
              "      <td>84.7</td>\n",
              "      <td>7.6</td>\n",
              "      <td>0.1</td>\n",
              "      <td>0.8</td>\n",
              "      <td>1.1</td>\n",
              "      <td>5.6</td>\n",
              "      <td>27.0</td>\n",
              "      <td>89527</td>\n",
              "      <td>80.7</td>\n",
              "      <td>12.9</td>\n",
              "      <td>6.3</td>\n",
              "      <td>0.1</td>\n",
              "      <td>5.5</td>\n",
              "    </tr>\n",
              "    <tr>\n",
              "      <th>2</th>\n",
              "      <td>1005</td>\n",
              "      <td>Alabama</td>\n",
              "      <td>Barbour County</td>\n",
              "      <td>26201</td>\n",
              "      <td>13976</td>\n",
              "      <td>12225</td>\n",
              "      <td>4.2</td>\n",
              "      <td>45.7</td>\n",
              "      <td>47.8</td>\n",
              "      <td>0.2</td>\n",
              "      <td>0.6</td>\n",
              "      <td>0.0</td>\n",
              "      <td>20269</td>\n",
              "      <td>33368</td>\n",
              "      <td>2551</td>\n",
              "      <td>17561</td>\n",
              "      <td>798</td>\n",
              "      <td>27.2</td>\n",
              "      <td>44.9</td>\n",
              "      <td>25.0</td>\n",
              "      <td>16.8</td>\n",
              "      <td>22.6</td>\n",
              "      <td>11.5</td>\n",
              "      <td>24.1</td>\n",
              "      <td>83.4</td>\n",
              "      <td>11.1</td>\n",
              "      <td>0.3</td>\n",
              "      <td>2.2</td>\n",
              "      <td>1.7</td>\n",
              "      <td>1.3</td>\n",
              "      <td>23.4</td>\n",
              "      <td>8878</td>\n",
              "      <td>74.1</td>\n",
              "      <td>19.1</td>\n",
              "      <td>6.5</td>\n",
              "      <td>0.3</td>\n",
              "      <td>12.4</td>\n",
              "    </tr>\n",
              "    <tr>\n",
              "      <th>3</th>\n",
              "      <td>1007</td>\n",
              "      <td>Alabama</td>\n",
              "      <td>Bibb County</td>\n",
              "      <td>22580</td>\n",
              "      <td>12251</td>\n",
              "      <td>10329</td>\n",
              "      <td>2.4</td>\n",
              "      <td>74.6</td>\n",
              "      <td>22.0</td>\n",
              "      <td>0.4</td>\n",
              "      <td>0.0</td>\n",
              "      <td>0.0</td>\n",
              "      <td>17662</td>\n",
              "      <td>43404</td>\n",
              "      <td>3431</td>\n",
              "      <td>20911</td>\n",
              "      <td>1889</td>\n",
              "      <td>15.2</td>\n",
              "      <td>26.6</td>\n",
              "      <td>24.4</td>\n",
              "      <td>17.6</td>\n",
              "      <td>19.7</td>\n",
              "      <td>15.9</td>\n",
              "      <td>22.4</td>\n",
              "      <td>86.4</td>\n",
              "      <td>9.5</td>\n",
              "      <td>0.7</td>\n",
              "      <td>0.3</td>\n",
              "      <td>1.7</td>\n",
              "      <td>1.5</td>\n",
              "      <td>30.0</td>\n",
              "      <td>8171</td>\n",
              "      <td>76.0</td>\n",
              "      <td>17.4</td>\n",
              "      <td>6.3</td>\n",
              "      <td>0.3</td>\n",
              "      <td>8.2</td>\n",
              "    </tr>\n",
              "    <tr>\n",
              "      <th>4</th>\n",
              "      <td>1009</td>\n",
              "      <td>Alabama</td>\n",
              "      <td>Blount County</td>\n",
              "      <td>57667</td>\n",
              "      <td>28490</td>\n",
              "      <td>29177</td>\n",
              "      <td>9.0</td>\n",
              "      <td>87.4</td>\n",
              "      <td>1.5</td>\n",
              "      <td>0.3</td>\n",
              "      <td>0.1</td>\n",
              "      <td>0.0</td>\n",
              "      <td>42513</td>\n",
              "      <td>47412</td>\n",
              "      <td>2630</td>\n",
              "      <td>22021</td>\n",
              "      <td>850</td>\n",
              "      <td>15.6</td>\n",
              "      <td>25.4</td>\n",
              "      <td>28.5</td>\n",
              "      <td>12.9</td>\n",
              "      <td>23.3</td>\n",
              "      <td>15.8</td>\n",
              "      <td>19.5</td>\n",
              "      <td>86.8</td>\n",
              "      <td>10.2</td>\n",
              "      <td>0.1</td>\n",
              "      <td>0.4</td>\n",
              "      <td>0.4</td>\n",
              "      <td>2.1</td>\n",
              "      <td>35.0</td>\n",
              "      <td>21380</td>\n",
              "      <td>83.9</td>\n",
              "      <td>11.9</td>\n",
              "      <td>4.0</td>\n",
              "      <td>0.1</td>\n",
              "      <td>4.9</td>\n",
              "    </tr>\n",
              "    <tr>\n",
              "      <th>...</th>\n",
              "      <td>...</td>\n",
              "      <td>...</td>\n",
              "      <td>...</td>\n",
              "      <td>...</td>\n",
              "      <td>...</td>\n",
              "      <td>...</td>\n",
              "      <td>...</td>\n",
              "      <td>...</td>\n",
              "      <td>...</td>\n",
              "      <td>...</td>\n",
              "      <td>...</td>\n",
              "      <td>...</td>\n",
              "      <td>...</td>\n",
              "      <td>...</td>\n",
              "      <td>...</td>\n",
              "      <td>...</td>\n",
              "      <td>...</td>\n",
              "      <td>...</td>\n",
              "      <td>...</td>\n",
              "      <td>...</td>\n",
              "      <td>...</td>\n",
              "      <td>...</td>\n",
              "      <td>...</td>\n",
              "      <td>...</td>\n",
              "      <td>...</td>\n",
              "      <td>...</td>\n",
              "      <td>...</td>\n",
              "      <td>...</td>\n",
              "      <td>...</td>\n",
              "      <td>...</td>\n",
              "      <td>...</td>\n",
              "      <td>...</td>\n",
              "      <td>...</td>\n",
              "      <td>...</td>\n",
              "      <td>...</td>\n",
              "      <td>...</td>\n",
              "      <td>...</td>\n",
              "    </tr>\n",
              "    <tr>\n",
              "      <th>3215</th>\n",
              "      <td>72145</td>\n",
              "      <td>Puerto Rico</td>\n",
              "      <td>Vega Baja Municipio</td>\n",
              "      <td>54754</td>\n",
              "      <td>26269</td>\n",
              "      <td>28485</td>\n",
              "      <td>96.7</td>\n",
              "      <td>3.1</td>\n",
              "      <td>0.1</td>\n",
              "      <td>0.0</td>\n",
              "      <td>0.0</td>\n",
              "      <td>0.0</td>\n",
              "      <td>42838</td>\n",
              "      <td>18900</td>\n",
              "      <td>1219</td>\n",
              "      <td>10197</td>\n",
              "      <td>576</td>\n",
              "      <td>43.8</td>\n",
              "      <td>49.4</td>\n",
              "      <td>28.6</td>\n",
              "      <td>20.2</td>\n",
              "      <td>25.9</td>\n",
              "      <td>11.1</td>\n",
              "      <td>14.2</td>\n",
              "      <td>92.0</td>\n",
              "      <td>4.2</td>\n",
              "      <td>0.9</td>\n",
              "      <td>1.4</td>\n",
              "      <td>0.6</td>\n",
              "      <td>0.9</td>\n",
              "      <td>31.6</td>\n",
              "      <td>14234</td>\n",
              "      <td>76.2</td>\n",
              "      <td>19.3</td>\n",
              "      <td>4.3</td>\n",
              "      <td>0.2</td>\n",
              "      <td>16.8</td>\n",
              "    </tr>\n",
              "    <tr>\n",
              "      <th>3216</th>\n",
              "      <td>72147</td>\n",
              "      <td>Puerto Rico</td>\n",
              "      <td>Vieques Municipio</td>\n",
              "      <td>8931</td>\n",
              "      <td>4351</td>\n",
              "      <td>4580</td>\n",
              "      <td>95.7</td>\n",
              "      <td>4.0</td>\n",
              "      <td>0.0</td>\n",
              "      <td>0.0</td>\n",
              "      <td>0.0</td>\n",
              "      <td>0.0</td>\n",
              "      <td>7045</td>\n",
              "      <td>16261</td>\n",
              "      <td>2414</td>\n",
              "      <td>11136</td>\n",
              "      <td>1459</td>\n",
              "      <td>36.8</td>\n",
              "      <td>68.2</td>\n",
              "      <td>20.9</td>\n",
              "      <td>38.4</td>\n",
              "      <td>16.4</td>\n",
              "      <td>16.9</td>\n",
              "      <td>7.3</td>\n",
              "      <td>76.3</td>\n",
              "      <td>16.9</td>\n",
              "      <td>0.0</td>\n",
              "      <td>5.0</td>\n",
              "      <td>0.0</td>\n",
              "      <td>1.7</td>\n",
              "      <td>14.9</td>\n",
              "      <td>2927</td>\n",
              "      <td>40.7</td>\n",
              "      <td>40.9</td>\n",
              "      <td>18.4</td>\n",
              "      <td>0.0</td>\n",
              "      <td>12.8</td>\n",
              "    </tr>\n",
              "    <tr>\n",
              "      <th>3217</th>\n",
              "      <td>72149</td>\n",
              "      <td>Puerto Rico</td>\n",
              "      <td>Villalba Municipio</td>\n",
              "      <td>23659</td>\n",
              "      <td>11510</td>\n",
              "      <td>12149</td>\n",
              "      <td>99.7</td>\n",
              "      <td>0.2</td>\n",
              "      <td>0.1</td>\n",
              "      <td>0.0</td>\n",
              "      <td>0.0</td>\n",
              "      <td>0.0</td>\n",
              "      <td>18053</td>\n",
              "      <td>19893</td>\n",
              "      <td>1935</td>\n",
              "      <td>10449</td>\n",
              "      <td>1619</td>\n",
              "      <td>50.0</td>\n",
              "      <td>67.9</td>\n",
              "      <td>22.5</td>\n",
              "      <td>21.2</td>\n",
              "      <td>22.7</td>\n",
              "      <td>14.1</td>\n",
              "      <td>19.5</td>\n",
              "      <td>83.1</td>\n",
              "      <td>11.8</td>\n",
              "      <td>0.1</td>\n",
              "      <td>2.1</td>\n",
              "      <td>0.0</td>\n",
              "      <td>2.8</td>\n",
              "      <td>28.4</td>\n",
              "      <td>6873</td>\n",
              "      <td>59.2</td>\n",
              "      <td>30.2</td>\n",
              "      <td>10.4</td>\n",
              "      <td>0.2</td>\n",
              "      <td>24.8</td>\n",
              "    </tr>\n",
              "    <tr>\n",
              "      <th>3218</th>\n",
              "      <td>72151</td>\n",
              "      <td>Puerto Rico</td>\n",
              "      <td>Yabucoa Municipio</td>\n",
              "      <td>35025</td>\n",
              "      <td>16984</td>\n",
              "      <td>18041</td>\n",
              "      <td>99.9</td>\n",
              "      <td>0.1</td>\n",
              "      <td>0.0</td>\n",
              "      <td>0.0</td>\n",
              "      <td>0.0</td>\n",
              "      <td>0.0</td>\n",
              "      <td>27523</td>\n",
              "      <td>15586</td>\n",
              "      <td>1467</td>\n",
              "      <td>8672</td>\n",
              "      <td>702</td>\n",
              "      <td>52.4</td>\n",
              "      <td>62.1</td>\n",
              "      <td>27.7</td>\n",
              "      <td>26.0</td>\n",
              "      <td>20.7</td>\n",
              "      <td>9.5</td>\n",
              "      <td>16.0</td>\n",
              "      <td>87.6</td>\n",
              "      <td>9.2</td>\n",
              "      <td>0.0</td>\n",
              "      <td>1.4</td>\n",
              "      <td>1.8</td>\n",
              "      <td>0.1</td>\n",
              "      <td>30.5</td>\n",
              "      <td>7878</td>\n",
              "      <td>62.7</td>\n",
              "      <td>30.9</td>\n",
              "      <td>6.3</td>\n",
              "      <td>0.0</td>\n",
              "      <td>25.4</td>\n",
              "    </tr>\n",
              "    <tr>\n",
              "      <th>3219</th>\n",
              "      <td>72153</td>\n",
              "      <td>Puerto Rico</td>\n",
              "      <td>Yauco Municipio</td>\n",
              "      <td>37585</td>\n",
              "      <td>18052</td>\n",
              "      <td>19533</td>\n",
              "      <td>99.8</td>\n",
              "      <td>0.2</td>\n",
              "      <td>0.0</td>\n",
              "      <td>0.0</td>\n",
              "      <td>0.0</td>\n",
              "      <td>0.0</td>\n",
              "      <td>29763</td>\n",
              "      <td>14451</td>\n",
              "      <td>1371</td>\n",
              "      <td>8124</td>\n",
              "      <td>445</td>\n",
              "      <td>50.4</td>\n",
              "      <td>58.2</td>\n",
              "      <td>30.4</td>\n",
              "      <td>20.2</td>\n",
              "      <td>25.6</td>\n",
              "      <td>12.6</td>\n",
              "      <td>11.3</td>\n",
              "      <td>82.8</td>\n",
              "      <td>8.2</td>\n",
              "      <td>2.2</td>\n",
              "      <td>1.7</td>\n",
              "      <td>0.1</td>\n",
              "      <td>5.0</td>\n",
              "      <td>24.4</td>\n",
              "      <td>8995</td>\n",
              "      <td>66.4</td>\n",
              "      <td>28.7</td>\n",
              "      <td>5.0</td>\n",
              "      <td>0.0</td>\n",
              "      <td>24.0</td>\n",
              "    </tr>\n",
              "  </tbody>\n",
              "</table>\n",
              "<p>3220 rows × 37 columns</p>\n",
              "</div>"
            ],
            "text/plain": [
              "      CountyId        State  ... FamilyWork  Unemployment\n",
              "0         1001      Alabama  ...        0.1           5.2\n",
              "1         1003      Alabama  ...        0.1           5.5\n",
              "2         1005      Alabama  ...        0.3          12.4\n",
              "3         1007      Alabama  ...        0.3           8.2\n",
              "4         1009      Alabama  ...        0.1           4.9\n",
              "...        ...          ...  ...        ...           ...\n",
              "3215     72145  Puerto Rico  ...        0.2          16.8\n",
              "3216     72147  Puerto Rico  ...        0.0          12.8\n",
              "3217     72149  Puerto Rico  ...        0.2          24.8\n",
              "3218     72151  Puerto Rico  ...        0.0          25.4\n",
              "3219     72153  Puerto Rico  ...        0.0          24.0\n",
              "\n",
              "[3220 rows x 37 columns]"
            ]
          },
          "metadata": {
            "tags": []
          },
          "execution_count": 2
        }
      ]
    },
    {
      "cell_type": "markdown",
      "metadata": {
        "id": "njvbr_Ley8t3"
      },
      "source": [
        "## Homework Questions\n",
        "\n",
        "**Since this dataset has lots of information, feel free to select a set of columns to answer each question.**"
      ]
    },
    {
      "cell_type": "code",
      "metadata": {
        "id": "y01zDzx1y8t3",
        "outputId": "9ba6877a-f47e-4dc7-cdbb-4d2ec2411d56"
      },
      "source": [
        "df.head()"
      ],
      "execution_count": null,
      "outputs": [
        {
          "output_type": "execute_result",
          "data": {
            "text/html": [
              "<div>\n",
              "<style scoped>\n",
              "    .dataframe tbody tr th:only-of-type {\n",
              "        vertical-align: middle;\n",
              "    }\n",
              "\n",
              "    .dataframe tbody tr th {\n",
              "        vertical-align: top;\n",
              "    }\n",
              "\n",
              "    .dataframe thead th {\n",
              "        text-align: right;\n",
              "    }\n",
              "</style>\n",
              "<table border=\"1\" class=\"dataframe\">\n",
              "  <thead>\n",
              "    <tr style=\"text-align: right;\">\n",
              "      <th></th>\n",
              "      <th>CountyId</th>\n",
              "      <th>State</th>\n",
              "      <th>County</th>\n",
              "      <th>TotalPop</th>\n",
              "      <th>Men</th>\n",
              "      <th>Women</th>\n",
              "      <th>Hispanic</th>\n",
              "      <th>White</th>\n",
              "      <th>Black</th>\n",
              "      <th>Native</th>\n",
              "      <th>...</th>\n",
              "      <th>Walk</th>\n",
              "      <th>OtherTransp</th>\n",
              "      <th>WorkAtHome</th>\n",
              "      <th>MeanCommute</th>\n",
              "      <th>Employed</th>\n",
              "      <th>PrivateWork</th>\n",
              "      <th>PublicWork</th>\n",
              "      <th>SelfEmployed</th>\n",
              "      <th>FamilyWork</th>\n",
              "      <th>Unemployment</th>\n",
              "    </tr>\n",
              "  </thead>\n",
              "  <tbody>\n",
              "    <tr>\n",
              "      <td>0</td>\n",
              "      <td>1001</td>\n",
              "      <td>Alabama</td>\n",
              "      <td>Autauga County</td>\n",
              "      <td>55036</td>\n",
              "      <td>26899</td>\n",
              "      <td>28137</td>\n",
              "      <td>2.7</td>\n",
              "      <td>75.4</td>\n",
              "      <td>18.9</td>\n",
              "      <td>0.3</td>\n",
              "      <td>...</td>\n",
              "      <td>0.6</td>\n",
              "      <td>1.3</td>\n",
              "      <td>2.5</td>\n",
              "      <td>25.8</td>\n",
              "      <td>24112</td>\n",
              "      <td>74.1</td>\n",
              "      <td>20.2</td>\n",
              "      <td>5.6</td>\n",
              "      <td>0.1</td>\n",
              "      <td>5.2</td>\n",
              "    </tr>\n",
              "    <tr>\n",
              "      <td>1</td>\n",
              "      <td>1003</td>\n",
              "      <td>Alabama</td>\n",
              "      <td>Baldwin County</td>\n",
              "      <td>203360</td>\n",
              "      <td>99527</td>\n",
              "      <td>103833</td>\n",
              "      <td>4.4</td>\n",
              "      <td>83.1</td>\n",
              "      <td>9.5</td>\n",
              "      <td>0.8</td>\n",
              "      <td>...</td>\n",
              "      <td>0.8</td>\n",
              "      <td>1.1</td>\n",
              "      <td>5.6</td>\n",
              "      <td>27.0</td>\n",
              "      <td>89527</td>\n",
              "      <td>80.7</td>\n",
              "      <td>12.9</td>\n",
              "      <td>6.3</td>\n",
              "      <td>0.1</td>\n",
              "      <td>5.5</td>\n",
              "    </tr>\n",
              "    <tr>\n",
              "      <td>2</td>\n",
              "      <td>1005</td>\n",
              "      <td>Alabama</td>\n",
              "      <td>Barbour County</td>\n",
              "      <td>26201</td>\n",
              "      <td>13976</td>\n",
              "      <td>12225</td>\n",
              "      <td>4.2</td>\n",
              "      <td>45.7</td>\n",
              "      <td>47.8</td>\n",
              "      <td>0.2</td>\n",
              "      <td>...</td>\n",
              "      <td>2.2</td>\n",
              "      <td>1.7</td>\n",
              "      <td>1.3</td>\n",
              "      <td>23.4</td>\n",
              "      <td>8878</td>\n",
              "      <td>74.1</td>\n",
              "      <td>19.1</td>\n",
              "      <td>6.5</td>\n",
              "      <td>0.3</td>\n",
              "      <td>12.4</td>\n",
              "    </tr>\n",
              "    <tr>\n",
              "      <td>3</td>\n",
              "      <td>1007</td>\n",
              "      <td>Alabama</td>\n",
              "      <td>Bibb County</td>\n",
              "      <td>22580</td>\n",
              "      <td>12251</td>\n",
              "      <td>10329</td>\n",
              "      <td>2.4</td>\n",
              "      <td>74.6</td>\n",
              "      <td>22.0</td>\n",
              "      <td>0.4</td>\n",
              "      <td>...</td>\n",
              "      <td>0.3</td>\n",
              "      <td>1.7</td>\n",
              "      <td>1.5</td>\n",
              "      <td>30.0</td>\n",
              "      <td>8171</td>\n",
              "      <td>76.0</td>\n",
              "      <td>17.4</td>\n",
              "      <td>6.3</td>\n",
              "      <td>0.3</td>\n",
              "      <td>8.2</td>\n",
              "    </tr>\n",
              "    <tr>\n",
              "      <td>4</td>\n",
              "      <td>1009</td>\n",
              "      <td>Alabama</td>\n",
              "      <td>Blount County</td>\n",
              "      <td>57667</td>\n",
              "      <td>28490</td>\n",
              "      <td>29177</td>\n",
              "      <td>9.0</td>\n",
              "      <td>87.4</td>\n",
              "      <td>1.5</td>\n",
              "      <td>0.3</td>\n",
              "      <td>...</td>\n",
              "      <td>0.4</td>\n",
              "      <td>0.4</td>\n",
              "      <td>2.1</td>\n",
              "      <td>35.0</td>\n",
              "      <td>21380</td>\n",
              "      <td>83.9</td>\n",
              "      <td>11.9</td>\n",
              "      <td>4.0</td>\n",
              "      <td>0.1</td>\n",
              "      <td>4.9</td>\n",
              "    </tr>\n",
              "  </tbody>\n",
              "</table>\n",
              "<p>5 rows × 37 columns</p>\n",
              "</div>"
            ],
            "text/plain": [
              "   CountyId    State          County  TotalPop    Men   Women  Hispanic  \\\n",
              "0      1001  Alabama  Autauga County     55036  26899   28137       2.7   \n",
              "1      1003  Alabama  Baldwin County    203360  99527  103833       4.4   \n",
              "2      1005  Alabama  Barbour County     26201  13976   12225       4.2   \n",
              "3      1007  Alabama     Bibb County     22580  12251   10329       2.4   \n",
              "4      1009  Alabama   Blount County     57667  28490   29177       9.0   \n",
              "\n",
              "   White  Black  Native  ...  Walk  OtherTransp  WorkAtHome  MeanCommute  \\\n",
              "0   75.4   18.9     0.3  ...   0.6          1.3         2.5         25.8   \n",
              "1   83.1    9.5     0.8  ...   0.8          1.1         5.6         27.0   \n",
              "2   45.7   47.8     0.2  ...   2.2          1.7         1.3         23.4   \n",
              "3   74.6   22.0     0.4  ...   0.3          1.7         1.5         30.0   \n",
              "4   87.4    1.5     0.3  ...   0.4          0.4         2.1         35.0   \n",
              "\n",
              "   Employed  PrivateWork  PublicWork  SelfEmployed  FamilyWork  Unemployment  \n",
              "0     24112         74.1        20.2           5.6         0.1           5.2  \n",
              "1     89527         80.7        12.9           6.3         0.1           5.5  \n",
              "2      8878         74.1        19.1           6.5         0.3          12.4  \n",
              "3      8171         76.0        17.4           6.3         0.3           8.2  \n",
              "4     21380         83.9        11.9           4.0         0.1           4.9  \n",
              "\n",
              "[5 rows x 37 columns]"
            ]
          },
          "metadata": {
            "tags": []
          },
          "execution_count": 3
        }
      ]
    },
    {
      "cell_type": "markdown",
      "metadata": {
        "id": "TmFuSeZ7y8t6"
      },
      "source": [
        "### Q1. List out all column names of ```df```. (1 pt)"
      ]
    },
    {
      "cell_type": "markdown",
      "metadata": {
        "id": "e8QcdyIvy8t6"
      },
      "source": [
        "#### Code:"
      ]
    },
    {
      "cell_type": "code",
      "metadata": {
        "id": "0ALiWgu5y8t7"
      },
      "source": [
        "# Once your have verified your answer please uncomment the line below and run it, this will save your code \n",
        "#%%writefile -a {folder_location}/1.py\n",
        "# Please note that if you uncomment and run multiple times, the program will keep appending to the file.\n",
        "\n",
        "# INSERT CODE BELOW\n"
      ],
      "execution_count": null,
      "outputs": []
    },
    {
      "cell_type": "markdown",
      "metadata": {
        "id": "fc-tBI3_y8t9"
      },
      "source": [
        "### Q2. Set ```CountyId``` as an index for ```df```. (1 pt)\n",
        "\n",
        "Hint: Use ```set_index```."
      ]
    },
    {
      "cell_type": "markdown",
      "metadata": {
        "id": "PxljsQ2yy8t9"
      },
      "source": [
        "#### Answer:"
      ]
    },
    {
      "cell_type": "code",
      "metadata": {
        "id": "-6Ty46ZVy8t-"
      },
      "source": [
        "# Once your have verified your answer please uncomment the line below and run it, this will save your code \n",
        "#%%writefile -a {folder_location}/2.py\n",
        "# Please note that if you uncomment and run multiple times, the program will keep appending to the file.\n",
        "\n",
        "# INSERT CODE BELOW\n"
      ],
      "execution_count": null,
      "outputs": []
    },
    {
      "cell_type": "markdown",
      "metadata": {
        "id": "6iGk8ClRy8uA"
      },
      "source": [
        "### Q3 (a) Find the rows where ```Unemployment``` is greater than 10. (0.5 pt)\n",
        "\n",
        "Hint: Use ```df.loc[]```."
      ]
    },
    {
      "cell_type": "markdown",
      "metadata": {
        "id": "fzg10xVgy8uA"
      },
      "source": [
        "#### Code:"
      ]
    },
    {
      "cell_type": "code",
      "metadata": {
        "id": "9mBh6gX-y8uB"
      },
      "source": [
        "# Once your have verified your answer please uncomment the line below and run it, this will save your code \n",
        "#%%writefile -a {folder_location}/3.py\n",
        "# Please note that if you uncomment and run multiple times, the program will keep appending to the file.\n",
        "\n",
        "# INSERT CODE BELOW\n"
      ],
      "execution_count": null,
      "outputs": []
    },
    {
      "cell_type": "markdown",
      "metadata": {
        "id": "5lDXE_Hby8uD"
      },
      "source": [
        "### Q3 (b) How many counties have ```Unemployment``` > 10? Type your answer in the Answer section. (0.5 pt)\n",
        "\n",
        "Hint: Look at how many rows Q3 (a) displays."
      ]
    },
    {
      "cell_type": "markdown",
      "metadata": {
        "id": "CeVUzurIy8uF"
      },
      "source": [
        "#### Answer:"
      ]
    },
    {
      "cell_type": "code",
      "metadata": {
        "id": "n-diR-tHy8uG"
      },
      "source": [
        "# Once your have verified your answer please uncomment the line below and run it, this will save your code \n",
        "#%%writefile -a {folder_location}/3.py\n",
        "# Please note that if you uncomment and run multiple times, the program will keep appending to the file.\n",
        "\n",
        "# INSERT YOUR ANSWER BELOW\n"
      ],
      "execution_count": null,
      "outputs": []
    },
    {
      "cell_type": "markdown",
      "metadata": {
        "id": "qxu6WpxVy8uK"
      },
      "source": [
        "### Q4. Find the state with most self-employeed population. (1 pt)\n",
        "\n",
        "Hint: Refer to 9.0 Now Try This in week 4 material."
      ]
    },
    {
      "cell_type": "markdown",
      "metadata": {
        "id": "kz0kzrnBy8uL"
      },
      "source": [
        "#### Code:"
      ]
    },
    {
      "cell_type": "code",
      "metadata": {
        "id": "DiIvYNZpy8uL"
      },
      "source": [
        "# INSERT CODE BELOW\n",
        "# This is not part of grading.\n"
      ],
      "execution_count": null,
      "outputs": []
    },
    {
      "cell_type": "markdown",
      "metadata": {
        "id": "i2oeBkApy8uN"
      },
      "source": [
        "#### Answer: type your answer in a string form."
      ]
    },
    {
      "cell_type": "code",
      "metadata": {
        "id": "KHxQm6ezy8uN"
      },
      "source": [
        "# Once your have verified your answer please uncomment the line below and run it, this will save your code \n",
        "#%%writefile -a {folder_location}/4.py\n",
        "# Please note that if you uncomment and run multiple times, the program will keep appending to the file.\n",
        "\n",
        "# INSERT YOUR ANSWER BELOW\n"
      ],
      "execution_count": null,
      "outputs": []
    },
    {
      "cell_type": "markdown",
      "metadata": {
        "id": "LVQzoi-Cy8uP"
      },
      "source": [
        "### Q5 (a) Select the state with most self-employed population and save the dataframe as ```df_self_emp```. (0.5 pt)\n",
        "\n",
        "Hint: Use ```df.loc[]``` and select the rows where ```State``` is the one you found in Q4."
      ]
    },
    {
      "cell_type": "markdown",
      "metadata": {
        "id": "WdLjdBfqy8uQ"
      },
      "source": [
        "#### Code:"
      ]
    },
    {
      "cell_type": "code",
      "metadata": {
        "id": "ZUP1OjtYy8uQ"
      },
      "source": [
        "# Once your have verified your answer please uncomment the line below and run it, this will save your code \n",
        "#%%writefile -a {folder_location}/5.py\n",
        "# Please note that if you uncomment and run multiple times, the program will keep appending to the file.\n",
        "\n",
        "# INSERT CODE BELOW\n"
      ],
      "execution_count": null,
      "outputs": []
    },
    {
      "cell_type": "markdown",
      "metadata": {
        "id": "PCdhzi4_y8uS"
      },
      "source": [
        "### Q5 (b) Find the top 2 most popular means of transportation to work in ```df_self_emp```. (0.5 pt)\n",
        "\n",
        "Hint: Use the following columns: 'Drive', 'Carpool', 'Transit', 'Walk', 'OtherTransp', 'WorkAtHome' and an AGGREGATE function."
      ]
    },
    {
      "cell_type": "markdown",
      "metadata": {
        "id": "Pk9_KJiHy8uS"
      },
      "source": [
        "#### Code:"
      ]
    },
    {
      "cell_type": "code",
      "metadata": {
        "id": "KcW0POmsy8uS"
      },
      "source": [
        "# INSERT CODE BELOW\n",
        "# This is not part of grading.\n"
      ],
      "execution_count": null,
      "outputs": []
    },
    {
      "cell_type": "markdown",
      "metadata": {
        "id": "26qagyQpy8uU"
      },
      "source": [
        "#### Answer: type your answer in a string form."
      ]
    },
    {
      "cell_type": "code",
      "metadata": {
        "id": "_QXx_IGgy8uU"
      },
      "source": [
        "# Once your have verified your answer please uncomment the line below and run it, this will save your code \n",
        "#%%writefile -a {folder_location}/5.py\n",
        "# Please note that if you uncomment and run multiple times, the program will keep appending to the file.\n",
        "\n",
        "# INSERT YOUR ANSWER BELOW\n"
      ],
      "execution_count": null,
      "outputs": []
    },
    {
      "cell_type": "markdown",
      "metadata": {
        "id": "haUCCnNLy8uX"
      },
      "source": [
        "### Q6. What are the top 3 states with highest ```mean commute```? (1 pt)\n",
        "\n",
        "Hint: This one is similar to Q4."
      ]
    },
    {
      "cell_type": "markdown",
      "metadata": {
        "id": "nsjshYAHy8uX"
      },
      "source": [
        "#### Code:"
      ]
    },
    {
      "cell_type": "code",
      "metadata": {
        "id": "kl3Q6nmNy8uX"
      },
      "source": [
        "# INSERT CODE BELOW\n",
        "# This is not part of grading.\n"
      ],
      "execution_count": null,
      "outputs": []
    },
    {
      "cell_type": "markdown",
      "metadata": {
        "id": "W7OtLlWKy8uZ"
      },
      "source": [
        "#### Answer: type your answer in a string form."
      ]
    },
    {
      "cell_type": "code",
      "metadata": {
        "id": "34qN6HWpy8uZ"
      },
      "source": [
        "# Once your have verified your answer please uncomment the line below and run it, this will save your code \n",
        "#%%writefile -a {folder_location}/6.py\n",
        "# Please note that if you uncomment and run multiple times, the program will keep appending to the file.\n",
        "\n",
        "# INSERT YOUR ANSWER BELOW\n"
      ],
      "execution_count": null,
      "outputs": []
    },
    {
      "cell_type": "markdown",
      "metadata": {
        "id": "D67NR8bKy8ub"
      },
      "source": [
        "### Q7 (a) Select the subset of data where ```State``` is one of the states we found in question 6 and save it as ```top_three```. (.33 point)\n",
        "\n",
        "Hint: Use ```df['State'].isin()```. You may refer to the practical exercise section in Week 4 material."
      ]
    },
    {
      "cell_type": "markdown",
      "metadata": {
        "id": "jZe1rAdsy8ub"
      },
      "source": [
        "#### Code:"
      ]
    },
    {
      "cell_type": "code",
      "metadata": {
        "id": "Gh_lNk7Iy8uc"
      },
      "source": [
        "# Once your have verified your answer please uncomment the line below and run it, this will save your code \n",
        "#%%writefile -a {folder_location}/7.py\n",
        "# Please note that if you uncomment and run multiple times, the program will keep appending to the file.\n",
        "\n",
        "# INSERT CODE BELOW\n"
      ],
      "execution_count": null,
      "outputs": []
    },
    {
      "cell_type": "markdown",
      "metadata": {
        "id": "3rTnGpety8ud"
      },
      "source": [
        "### Q7 (b) How many counties are there in the top three states? (.33 pt)\n",
        "\n",
        "Hint: Use one of the aggregate functions. (```sum()```, ```mean()```, or ```count()```)"
      ]
    },
    {
      "cell_type": "markdown",
      "metadata": {
        "id": "V4rDqsgjy8ud"
      },
      "source": [
        "#### Code:"
      ]
    },
    {
      "cell_type": "code",
      "metadata": {
        "id": "_VziNPHfy8ue"
      },
      "source": [
        "# INSERT CODE BELOW\n",
        "# This is not part of grading.\n"
      ],
      "execution_count": null,
      "outputs": []
    },
    {
      "cell_type": "markdown",
      "metadata": {
        "id": "z1sTB-8wPKdC"
      },
      "source": [
        "#### Answer: type your answer in a string form."
      ]
    },
    {
      "cell_type": "code",
      "metadata": {
        "id": "sxkKIuoKPPe2"
      },
      "source": [
        "# Once your have verified your answer please uncomment the line below and run it, this will save your code \n",
        "#%%writefile -a {folder_location}/7.py\n",
        "# Please note that if you uncomment and run multiple times, the program will keep appending to the file.\n",
        "\n",
        "# INSERT YOUR ANSWER BELOW"
      ],
      "execution_count": null,
      "outputs": []
    },
    {
      "cell_type": "markdown",
      "metadata": {
        "id": "5SanZc0Ry8uf"
      },
      "source": [
        "### Q7 (c) Find the County with the most ```MeanCommute``` time in ```top_three``` (.34 pt).\n",
        "\n",
        "Hint: Use ```sort_values(by= )```."
      ]
    },
    {
      "cell_type": "markdown",
      "metadata": {
        "id": "J_7HAJCly8ug"
      },
      "source": [
        "#### Code:"
      ]
    },
    {
      "cell_type": "code",
      "metadata": {
        "id": "o59reUbAy8ug"
      },
      "source": [
        "# INSERT CODE BELOW\n",
        "# This is not part of grading.\n"
      ],
      "execution_count": null,
      "outputs": []
    },
    {
      "cell_type": "markdown",
      "metadata": {
        "id": "e0WdoWqqy8ui"
      },
      "source": [
        "#### Answer: type your answer in a string form."
      ]
    },
    {
      "cell_type": "code",
      "metadata": {
        "id": "AL8otbJfy8uj"
      },
      "source": [
        "# Once your have verified your answer please uncomment the line below and run it, this will save your code \n",
        "#%%writefile -a {folder_location}/7.py\n",
        "# Please note that if you uncomment and run multiple times, the program will keep appending to the file.\n",
        "\n",
        "# INSERT YOUR ANSWER BELOW"
      ],
      "execution_count": null,
      "outputs": []
    },
    {
      "cell_type": "markdown",
      "metadata": {
        "id": "wgAeWZbSy8ul"
      },
      "source": [
        "### Q8. Find the top 5 states with highest income level and find out their top professional working field: 'Professional', 'Service', 'Office', 'Construction', or 'Production.' \n",
        "\n",
        "Hint: This question is a combination of Q6 and Q7. You may add more blocks to write codes and use the same approach as in Q6 and Q7."
      ]
    },
    {
      "cell_type": "markdown",
      "metadata": {
        "id": "wb_makRBy8ul"
      },
      "source": [
        "#### Code:"
      ]
    },
    {
      "cell_type": "code",
      "metadata": {
        "id": "DqAEFELhy8um"
      },
      "source": [
        "# INSERT CODE BELOW\n",
        "# This is not part of grading.\n"
      ],
      "execution_count": null,
      "outputs": []
    },
    {
      "cell_type": "markdown",
      "metadata": {
        "id": "bjXwfuqYy8un"
      },
      "source": [
        "#### What are the top five states with highest income? Type your answer in a string form. (0.5 pts)"
      ]
    },
    {
      "cell_type": "code",
      "metadata": {
        "id": "SzFntG8Ry8uo"
      },
      "source": [
        "# Once your have verified your answer please uncomment the line below and run it, this will save your code \n",
        "#%%writefile -a {folder_location}/8.py\n",
        "# Please note that if you uncomment and run multiple times, the program will keep appending to the file.\n",
        "\n",
        "# INSERT YOUR ANSWER BELOW.\n"
      ],
      "execution_count": null,
      "outputs": []
    },
    {
      "cell_type": "markdown",
      "metadata": {
        "id": "PzStbWG3y8up"
      },
      "source": [
        "#### What is the most popular working field in the top five states? Type your answer in a string form. (0.5 pts)"
      ]
    },
    {
      "cell_type": "code",
      "metadata": {
        "id": "iKS-S78xy8up"
      },
      "source": [
        "# Once your have verified your answer please uncomment the line below and run it, this will save your code \n",
        "#%%writefile -a {folder_location}/8.py\n",
        "# Please note that if you uncomment and run multiple times, the program will keep appending to the file.\n",
        "\n",
        "# INSERT YOUR ANSWER BELOW.\n"
      ],
      "execution_count": null,
      "outputs": []
    },
    {
      "cell_type": "markdown",
      "metadata": {
        "id": "hW96XGAEy8ur"
      },
      "source": [
        "### Q9. Find the state with highest male population. (1 pt)\n",
        "\n",
        "Hint: This is similar to Q4."
      ]
    },
    {
      "cell_type": "markdown",
      "metadata": {
        "id": "udRRvME-y8ur"
      },
      "source": [
        "#### Code:"
      ]
    },
    {
      "cell_type": "code",
      "metadata": {
        "id": "3ceJbLRwy8ur"
      },
      "source": [
        "# INSERT CODE BELOW\n",
        "# This is not part of grading.\n"
      ],
      "execution_count": null,
      "outputs": []
    },
    {
      "cell_type": "markdown",
      "metadata": {
        "id": "M8BmiT3Ty8uu"
      },
      "source": [
        "#### Answer: type your answer in a string form."
      ]
    },
    {
      "cell_type": "code",
      "metadata": {
        "id": "QMMpBaUay8uu"
      },
      "source": [
        "# Once your have verified your answer please uncomment the line below and run it, this will save your code \n",
        "#%%writefile -a {folder_location}/9.py\n",
        "# Please note that if you uncomment and run multiple times, the program will keep appending to the file.\n",
        "\n",
        "# INSERT YOUR ANSWER BELOW\n"
      ],
      "execution_count": null,
      "outputs": []
    },
    {
      "cell_type": "markdown",
      "metadata": {
        "id": "7pIT8Z4ay8uw"
      },
      "source": [
        "### Q10. Find the state where male population is greater than female population. (1pt)\n",
        "Hint 1: Find the sum of male and female population at a state level - Use ```groupby``` and save this dataframe as ```total_pop```.\n",
        "\n",
        "Hint 2: Using ```total_pop.loc[criteria]```, find out the states with a greater male population.\n",
        "\n",
        "Hint 3: There are 10 states that meet this condition."
      ]
    },
    {
      "cell_type": "markdown",
      "metadata": {
        "id": "KWqechtpy8uw"
      },
      "source": [
        "#### Code:"
      ]
    },
    {
      "cell_type": "code",
      "metadata": {
        "id": "3jnjij4py8uw"
      },
      "source": [
        "# INSERT CODE BELOW\n",
        "# This is not part of grading.\n"
      ],
      "execution_count": null,
      "outputs": []
    },
    {
      "cell_type": "markdown",
      "metadata": {
        "id": "dEGjsuVJy8uy"
      },
      "source": [
        "#### Answer: type your answer in a string form."
      ]
    },
    {
      "cell_type": "code",
      "metadata": {
        "id": "6pE9RP-Ty8uy"
      },
      "source": [
        "# Once your have verified your answer please uncomment the line below and run it, this will save your code \n",
        "#%%writefile -a {folder_location}/10.py\n",
        "# Please note that if you uncomment and run multiple times, the program will keep appending to the file.\n",
        "\n",
        "# INSERT YOUR ANSWER BELOW\n"
      ],
      "execution_count": null,
      "outputs": []
    },
    {
      "cell_type": "markdown",
      "metadata": {
        "id": "O-Fklmq9zSBX"
      },
      "source": [
        "\n",
        "## Submission\n",
        "Run this code block to download your answers."
      ]
    },
    {
      "cell_type": "code",
      "metadata": {
        "id": "XZresUd5zRrY"
      },
      "source": [
        "from google.colab import files\n",
        "!zip -r \"{student_id}.zip\" \"{student_id}\"\n",
        "files.download(f\"{student_id}.zip\")"
      ],
      "execution_count": null,
      "outputs": []
    }
  ]
}