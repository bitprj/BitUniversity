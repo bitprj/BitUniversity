{
  "nbformat": 4,
  "nbformat_minor": 0,
  "metadata": {
    "colab": {
      "name": "Week 2 Homework.ipynb",
      "provenance": [],
      "collapsed_sections": [],
      "toc_visible": true,
      "include_colab_link": true
    },
    "kernelspec": {
      "display_name": "Python 3",
      "language": "python",
      "name": "python3"
    },
    "language_info": {
      "codemirror_mode": {
        "name": "ipython",
        "version": 3
      },
      "file_extension": ".py",
      "mimetype": "text/x-python",
      "name": "python",
      "nbconvert_exporter": "python",
      "pygments_lexer": "ipython3",
      "version": "3.7.0"
    }
  },
  "cells": [
    {
      "cell_type": "markdown",
      "metadata": {
        "id": "view-in-github",
        "colab_type": "text"
      },
      "source": [
        "<a href=\"https://colab.research.google.com/github/bitprj/BitUniversity/blob/master/Digital_History/Week2-Introduction-to-Python-_-NumPy/Homework/Week_2_Homework.ipynb\" target=\"_parent\"><img src=\"https://colab.research.google.com/assets/colab-badge.svg\" alt=\"Open In Colab\"/></a>"
      ]
    },
    {
      "cell_type": "markdown",
      "metadata": {
        "id": "zCRNgAGbbKAW"
      },
      "source": [
        "## <div align = \"center\">Homework 2</div>\n",
        "\n"
      ]
    },
    {
      "cell_type": "markdown",
      "metadata": {
        "id": "uVvE-ylKyeh2"
      },
      "source": [
        "# <div align = \"center\">Python</div>"
      ]
    },
    {
      "cell_type": "markdown",
      "metadata": {
        "id": "WG1wsQTKxuwr"
      },
      "source": [
        "Welcome to Homework 2. In this homework you will be using techniques you learned throughout Week 2. The purpose of this homework is to ensure you've mastered the basics of Python. Feel free to refer to the cheatsheet while working through these problems."
      ]
    },
    {
      "cell_type": "markdown",
      "metadata": {
        "id": "Li4_EAjke2tV"
      },
      "source": [
        "## Grading \n",
        "\n",
        "Every question in this homework is worth 2 points. There are a total of 10 questions.\n",
        "\n",
        "In order to work on the questions and submit them for grading, you'll need to run the code block beloW. It will ask for your student ID number and then create a folder that will house your answers for each question. At the very end of the notebook, there is a code section that will download this folder as a zip file to your computer. This zip file will be your final submission."
      ]
    },
    {
      "cell_type": "code",
      "metadata": {
        "id": "VjG07ifFtr3u"
      },
      "source": [
        "import os\n",
        "import shutil\n",
        "\n",
        "!rm -rf sample_data\n",
        "\n",
        "student_id = input('Please Enter your Student ID: ') # Enter Student ID.\n",
        "\n",
        "while len(student_id) != 9:\n",
        " student_id = int('Please Enter your Student ID: ')  \n",
        "  \n",
        "folder_location = f'{student_id}/Week_Two/Homework' # Week  Two -> Homework\n",
        "if not os.path.exists(folder_location):\n",
        "  os.makedirs(folder_location)\n",
        "  print('Successfully Created Directory, Lets get started')\n",
        "else:\n",
        "  print('Directory Already Exists')"
      ],
      "execution_count": null,
      "outputs": []
    },
    {
      "cell_type": "markdown",
      "metadata": {
        "id": "JW9GwVepfBMX"
      },
      "source": [
        "## Python Questions"
      ]
    },
    {
      "cell_type": "markdown",
      "metadata": {
        "id": "fSb99Yn4veAI"
      },
      "source": [
        "### Q1 (Week 1, Part 1)\n",
        "Given the string `macdonald`, use a combination of indexing, slicing, concatenation, and string methods to create a new string `MacDonald` and store it in `answer1`."
      ]
    },
    {
      "cell_type": "code",
      "metadata": {
        "id": "dbVv44sBvfa9"
      },
      "source": [
        "# Once your have verified your answer please uncomment the line below and run it, this will save your code \n",
        "#%%writefile -a {folder_location}/1.py\n",
        "# Please note that if you uncomment and press multiple times, the program will keep appending to the file.\n",
        "# So only uncomment it when you want to save your answer.\n"
      ],
      "execution_count": null,
      "outputs": []
    },
    {
      "cell_type": "markdown",
      "metadata": {
        "id": "MtFFxguoyZyh"
      },
      "source": [
        "### Q2 (Week 1, Part 1)\n",
        "Create a simple program that calculates a person's bus fare depending on their age. Here's the fee structure:\n",
        "\n",
        "*   Age 5 and under ride free.\n",
        "*   Ages 6-18 pay \\$1.75. \n",
        "*   Seniors (60 and over) pay \\$1.50.\n",
        "*   Everyone else pays \\$2.25.\n",
        "\n"
      ]
    },
    {
      "cell_type": "code",
      "metadata": {
        "id": "VA5xRrtZyaQl"
      },
      "source": [
        "# Once your have verified your answer please uncomment the line below and run it, this will save your code \n",
        "#%%writefile -a {folder_location}/2.py\n",
        "# Please note that if you uncomment and press multiple times, the program will keep appending to the file.\n",
        "# So only uncomment it when you want to save your answer.\n"
      ],
      "execution_count": null,
      "outputs": []
    },
    {
      "cell_type": "markdown",
      "metadata": {
        "id": "jOOe6Xw12nzj"
      },
      "source": [
        "### Q3 (Week 1, Part 1)\n",
        "\n",
        "Given the two lists `list_one` and `list_two` shown below, do the following:\n",
        "\n",
        "*   Sort `list_one`\n",
        "*   Reverse 'list_two`\n",
        "*   Pop off the `x` from `list_two`\n",
        "*   Append `list_two` to `list_one` (You can have lists inside lists!)\n",
        "*   Use multiple indexing to print out the `z` in `list_one`\n",
        "\n"
      ]
    },
    {
      "cell_type": "code",
      "metadata": {
        "id": "1o_jKiAMGzHH"
      },
      "source": [
        "# Once your have verified your answer please uncomment the line below and run it, this will save your code \n",
        "#%%writefile -a {folder_location}/3.py\n",
        "# Please note that if you uncomment and press multiple times, the program will keep appending to the file.\n",
        "# So only uncomment it when you want to save your answer.\n"
      ],
      "execution_count": null,
      "outputs": []
    },
    {
      "cell_type": "markdown",
      "metadata": {
        "id": "X3wb7jKA01lJ"
      },
      "source": [
        "### Q4 (Week 1, Part 2)\n",
        "\n",
        "There is a broken candy machine, dispensing candies at random. However, the candy that you want is a kitkat. \n",
        "\n",
        "Given the list of candies `my_candies` that is being dispensed, use a loop to go through the list, stop once you get a kitkat, and then print \"Thank you for the kitkat!\"\n",
        "\n",
        "\n",
        "*   'k' for kitkat\n",
        "*   'g' for gummy bears\n",
        "*   's' for snickers \n",
        "\n", 
        "`my_candies = ['g', 'g', 's', 'g', 's', 'k', 's', 'k', 'g']` \n",
        "\n"
      ]
    },
    {
      "cell_type": "code",
      "metadata": {
        "id": "oY5iClYv2Iy1"
      },
      "source": [
        "# Once your have verified your answer please uncomment the line below and run it, this will save your code \n",
        "#%%writefile -a {folder_location}/4.py\n",
        "# Please note that if you uncomment and press multiple times, the program will keep appending to the file.\n",
        "# So only uncomment it when you want to save your answer.\n"
      ],
      "execution_count": null,
      "outputs": []
    },
    {
      "cell_type": "markdown",
      "metadata": {
        "id": "Rpe3R7cM6NQA"
      },
      "source": [
        "### Q5 (Week 1, Part 2)\n",
        "\n",
        "Given a list of candies, count the number of kitkats using a loop. Then print the number of kitkats.\n",
        "\n",
        "\n",
        "*   'k' for kitkat\n",
        "*   'g' for gummy bears\n",
        "*   's' for snickers\n",
        "\n", 
        "`my_candies = ['g', 'k', 'k', 'g', 's', 'k', 's', 'k', 'g']` \n",
        "\n"
      ]
    },
    {
      "cell_type": "code",
      "metadata": {
        "id": "Uer8Euft6dZ-"
      },
      "source": [
        "# Once your have verified your answer please uncomment the line below and run it, this will save your code \n",
        "#%%writefile -a {folder_location}/5.py\n",
        "# Please note that if you uncomment and press multiple times, the program will keep appending to the file.\n",
        "# So only uncomment it when you want to save your answer.\n"
      ],
      "execution_count": null,
      "outputs": []
    },
    {
      "cell_type": "markdown",
      "metadata": {
        "id": "e36DTvw73ZV-"
      },
      "source": [
        "### Q6 (Week 1, Part 2)\n",
        "\n",
        "Given an index n, if n is larger than the given list’s length-1 then the program prints \"n is not found\", else it should print the value of the nth element. Then, remove the nth element of the list and print the new list. \n",
        "\n"
      ]
    },
    {
      "cell_type": "code",
      "metadata": {
        "id": "VnR7MyZo3502"
      },
      "source": [
        "# Once your have verified your answer please uncomment the line below and run it, this will save your code \n",
        "#%%writefile -a {folder_location}/6.py\n",
        "# Please note that if you uncomment and press multiple times, the program will keep appending to the file.\n",
        "# So only uncomment it when you want to save your answer.\n"
      ],
      "execution_count": null,
      "outputs": []
    },
    {
      "cell_type": "markdown",
      "metadata": {
        "id": "wueyfxqa72r2"
      },
      "source": [
        "### Q7 (Week 1, Part 2)\n",
        "\n",
        "Create a tuple with the length of your choice, but all values must be `1` or `0`. Using a tuple method to count how many 1s and 0s there are. \n",
        "\n",
        "Then print the number of 1s and 0s. "
      ]
    },
    {
      "cell_type": "code",
      "metadata": {
        "id": "Crf2bnD983tP"
      },
      "source": [
        "# Once your have verified your answer please uncomment the line below and run it, this will save your code \n",
        "#%%writefile -a {folder_location}/7.py\n",
        "# Please note that if you uncomment and press multiple times, the program will keep appending to the file.\n",
        "# So only uncomment it when you want to save your answer.\n"
      ],
      "execution_count": null,
      "outputs": []
    },
    {
      "cell_type": "markdown",
      "metadata": {
        "id": "2SS_oq5e9puS"
      },
      "source": [
        "### Q8 (Week 1, Part 2)\n",
        "\n",
        "Given a dictionary, print Jerry's phone number. \n",
        "\n", 
        " `phonebook = {'Alex': { ‘age’: 16, ‘phone’: ‘555-0113’}, 'Justin': {‘age’: 17, ‘phone’: ‘555-7529’}, 'Jerry': { ‘age’: 40, ‘phone’: ‘555-0712’}, 'Max': {‘age’: 12, ‘phone’: ‘555-1203’} } `\n"
      
      
      ]
    },
    {
      "cell_type": "code",
      "metadata": {
        "id": "2v2vOy1x924V"
      },
      "source": [
        "# Once your have verified your answer please uncomment the line below and run it, this will save your code \n",
        "#%%writefile -a {folder_location}/8.py\n",
        "# Please note that if you uncomment and press multiple times, the program will keep appending to the file.\n",
        "# So only uncomment it when you want to save your answer.\n"
      ],
      "execution_count": null,
      "outputs": []
    },
    {
      "cell_type": "markdown",
      "metadata": {
        "id": "7Sx6_XD2_Sd9"
      },
      "source": [
        "### Q9 (Week 1, Part 2)\n",
        "\n",
        "Write a short paragraph on what the differences between lists, tuples, and dictionaries are. Mention their individual use cases, when you would use one over the other, as well as specific real-world data that you think can be stored using each of these data structures.\n",
        "\n"
      ]
    },
    {
      "cell_type": "code",
      "metadata": {
        "id": "nh2R0zHch_cW"
      },
      "source": [
        "# Once your have verified your answer please uncomment the line below and run it, this will save your code \r\n",
        "#%%writefile -a {folder_location}/9.txt\r\n",
        "# Please note that if you uncomment and press multiple times, the program will keep appending to the file.\r\n",
        "# So only uncomment it when you want to save your answer.\r\n",
        "\r\n",
        "'Type answer within these quotes'"
      ],
      "execution_count": null,
      "outputs": []
    },
    {
      "cell_type": "markdown",
      "metadata": {
        "id": "_l4qOZ1UJq3v"
      },
      "source": [
        "### Q10 (Week 1, Part 2)\n",
        "\n",
        "Look up an example of a base Python function that we haven't covered in class. Remember that a \"base\" function means it's built-in to Python, so you don't have to import any modules to use it. After you've picked your example:\n",
        "\n",
        "*   Write in your words what the function is, what it does, how many parameters it has, and what each parameter contributes to the workings of the function.\n",
        "*   Write a short code sample where you use that function in some way.\n",
        "\n"
      ]
    },
    {
      "cell_type": "markdown",
      "metadata": {
        "id": "zBkWIgskK9QD"
      },
      "source": [
        "**PART A**"
      ]
    },
    {
      "cell_type": "code",
      "metadata": {
        "id": "K0WyX_2OiXig"
      },
      "source": [
        "# Once your have verified your answer please uncomment the line below and run it, this will save your code \r\n",
        "#%%writefile -a {folder_location}/10a.txt\r\n",
        "# Please note that if you uncomment and press multiple times, the program will keep appending to the file.\r\n",
        "# So only uncomment it when you want to save your answer.\r\n",
        "\r\n",
        "'Type answer within these quotes'"
      ],
      "execution_count": null,
      "outputs": []
    },
    {
      "cell_type": "markdown",
      "metadata": {
        "id": "PJVmnZocii2w"
      },
      "source": [
        "**PART B**"
      ]
    },
    {
      "cell_type": "code",
      "metadata": {
        "id": "cSvqm_6XLBzH"
      },
      "source": [
        "# Once your have verified your answer please uncomment the line below and run it, this will save your code \r\n",
        "#%%writefile -a {folder_location}/10b.py\r\n",
        "# Please note that if you uncomment and press multiple times, the program will keep appending to the file.\r\n",
        "# So only uncomment it when you want to save your answer.\r\n",
        "\r\n",
        "# Answer here"
      ],
      "execution_count": null,
      "outputs": []
    },
    {
      "cell_type": "markdown",
      "metadata": {
        "id": "7BETz3yhtr4K"
      },
      "source": [
        "## Submission\n",
        "Run this code block to download your answers."
      ]
    },
    {
      "cell_type": "code",
      "metadata": {
        "id": "JvLvanJvtr4K"
      },
      "source": [
        "from google.colab import files\n",
        "!zip -r \"{student_id}.zip\" \"{student_id}\"\n",
        "files.download(f\"{student_id}.zip\")"
      ],
      "execution_count": null,
      "outputs": []
    }
  ]
}
