{
  "nbformat": 4,
  "nbformat_minor": 0,
  "metadata": {
    "colab": {
      "name": "Intro to Python Part I.ipynb",
      "provenance": [],
      "include_colab_link": true
    },
    "kernelspec": {
      "name": "python3",
      "display_name": "Python 3"
    }
  },
  "cells": [
    {
      "cell_type": "markdown",
      "metadata": {
        "id": "view-in-github",
        "colab_type": "text"
      },
      "source": [
        "<a href=\"https://colab.research.google.com/github/bitprj/BitUniversity/blob/master/Digital_History/Week2-Introduction-to-Python-_-NumPy/Intro_to_Python_Part_I.ipynb\" target=\"_parent\"><img src=\"https://colab.research.google.com/assets/colab-badge.svg\" alt=\"Open In Colab\"/></a>"
      ]
    },
    {
      "cell_type": "markdown",
      "metadata": {
        "id": "Z_SaUKRwmqha"
      },
      "source": [
        "# <div align=\"center\">Introduction to Python (Part I)</div>"
      ]
    },
    {
      "cell_type": "markdown",
      "metadata": {
        "id": "lhXO43U-q8JJ"
      },
      "source": [
        "## Intro to Data Science & Programming \n",
        "Welcome! In this camp, we will be learning the basics of a few programming tools used to analyze data. In today's world, data science is more important than ever. With an increasing amount of data available, data science allows us to sort through data that initially seems not that useful to find meaningful conclusions underneath. In doing so, data science lets us make better, more informed decisions in nearly every aspect of our lives. \n",
        "\n",
        "For example, Netflix analyzes watchtimes and user preferences to decide which shows to buy rights for and which shows to recommend to you, health workers analyze virus cases to decide what policies to enact based on their results, stockbrokers analyze stock performance to predict which stocks to buy, etc. The examples are truly endless. \n",
        "\n",
        "Programming allows us to analyze data easily and efficiently. Instead of going through data by hand, we can simply type a few commands and be able to filter out useless data, select specific data we want to examine more in depth, as well as visualize data in just a few seconds. Thus, in this camp, we'll be going over a few of these commonly used data analysis tools and how to use them.  "
      ]
    },
    {
      "cell_type": "markdown",
      "metadata": {
        "id": "R7I6cGKU_S9_"
      },
      "source": [
        "## Why, Where, and How we use Python\n",
        "To begin, we'll be going over the basics of Python, which is a popular general-purpose programming language used for everything from data science to software and web development. Python is one of the best programming languages to learn as a beginner because it is structured to put less emphasis on specific formatting and the commands used are meant to be easily understandable. \n",
        "\n",
        "When it comes to data science, Python is particularly useful because it features a variety of data science libraries like Pandas and Matplotlib. These libraries are collections of code that aren't built in to standard Python that you can import and then use. For example, instead of having to write many lines of code to make a graph based on data, we can just import the Matplotlib library and use the plot command. \n",
        "\n",
        "However, to use these useful data science tools, we first have to understand the basics of Python itself. \n",
        "\n",
        "### Quick Note on Colab\n",
        "As you'll see below, we can run code on Colab through the use of *Code cells*. Each cell is standalone and run independently of other cells. A direct consequence of this, however, is that when running code examples that are multiple cells long, you need to make sure that all cells before a certain code cell gets run first. Otherwise, you'll get an error.\n",
        "\n",
        "\n",
        "\n"
      ]
    },
    {
      "cell_type": "markdown",
      "metadata": {
        "id": "Li4_EAjke2tV"
      },
      "source": [
        "## Grading \n",
        "\n",
        "In order to work on the questions and submit them for grading, you'll need to run the code block below. It will ask for your student ID number and then create a folder that will house your answers for each question. At the very end of the notebook, there is a code section that will download this folder as a zip file to your computer. This zip file will be your final submission."
      ]
    },
    {
      "cell_type": "code",
      "metadata": {
        "id": "VjG07ifFtr3u"
      },
      "source": [
        "import os\n",
        "import shutil\n",
        "\n",
        "!rm -rf sample_data\n",
        "\n",
        "student_id = input('Please Enter your Student ID: ') # Enter Student ID.\n",
        "\n",
        "while len(student_id) != 9:\n",
        " student_id = int('Please Enter your Student ID: ')  \n",
        "  \n",
        "folder_location = f'{student_id}/Week_One/Intro_to_Python_I' \n",
        "if not os.path.exists(folder_location):\n",
        "  os.makedirs(folder_location)\n",
        "  print('Successfully Created Directory, Lets get started')\n",
        "else:\n",
        "  print('Directory Already Exists')"
      ],
      "execution_count": null,
      "outputs": []
    },
    {
      "cell_type": "markdown",
      "metadata": {
        "id": "5bw7L5rTOW77"
      },
      "source": [
        "## Comments\r\n",
        "\r\n",
        "Before we start working with Python, we need to mention a part of it that will show up in almost every piece of code you'll ever see: **comments**. A comment starts with a `#`. Let's see an example:"
      ]
    },
    {
      "cell_type": "code",
      "metadata": {
        "id": "955e2GpvOwMX"
      },
      "source": [
        "# This is a comment"
      ],
      "execution_count": null,
      "outputs": []
    },
    {
      "cell_type": "markdown",
      "metadata": {
        "id": "_3WXJp38O0es"
      },
      "source": [
        "As you can see, all the text after the `#` is green. Python ignores comments when executing code. As such, comments are used to document, ie explain, chunks of code so that they are more readable to programmers or other people, and to generally clarify what exactly a program does. "
      ]
    },
    {
      "cell_type": "code",
      "metadata": {
        "colab": {
          "base_uri": "https://localhost:8080/"
        },
        "id": "Lyk6fe3UPXgC",
        "outputId": "2cc0d072-347e-4dc6-86d9-7938d90e05bb"
      },
      "source": [
        "# This program adds 1 and 2 and outputs the result\r\n",
        "\r\n",
        "1 + 2 # We should get 3"
      ],
      "execution_count": null,
      "outputs": [
        {
          "output_type": "execute_result",
          "data": {
            "text/plain": [
              "3"
            ]
          },
          "metadata": {
            "tags": []
          },
          "execution_count": 1
        }
      ]
    },
    {
      "cell_type": "markdown",
      "metadata": {
        "id": "PIeBDNdZPkMd"
      },
      "source": [
        "None of the text within the comments got printed, or caused any errors. This wouldn't have been the case if we didn't explicitly define those sentences as comments, though. Try removing the `#` from one of those sentences, running the cell again, and see what happens.\r\n",
        "\r\n",
        "Comments aren't just used for explaining code. As we mentioned previously, Python completely ignores comments. This means, that we can use comments to prevent it from running certain pieces of code. A common use case for this is when a piece of code is producing errors, or simply not working correctly, and you would like Python to ignore it temporarily so that you can try and start figuring out what the problem is."
      ]
    },
    {
      "cell_type": "code",
      "metadata": {
        "colab": {
          "base_uri": "https://localhost:8080/",
          "height": 198
        },
        "id": "7a7r-6CMRCym",
        "outputId": "795bca70-e07a-467d-c8a8-5889fd7f77f0"
      },
      "source": [
        "hello # Will cause an error\r\n",
        "\r\n",
        "4 + 5 # We want to print `9` but the above line won't let us"
      ],
      "execution_count": null,
      "outputs": [
        {
          "output_type": "error",
          "ename": "NameError",
          "evalue": "ignored",
          "traceback": [
            "\u001b[0;31m---------------------------------------------------------------------------\u001b[0m",
            "\u001b[0;31mNameError\u001b[0m                                 Traceback (most recent call last)",
            "\u001b[0;32m<ipython-input-3-4be32f0c7d1f>\u001b[0m in \u001b[0;36m<module>\u001b[0;34m()\u001b[0m\n\u001b[0;32m----> 1\u001b[0;31m \u001b[0mhello\u001b[0m \u001b[0;31m# Will cause an error\u001b[0m\u001b[0;34m\u001b[0m\u001b[0;34m\u001b[0m\u001b[0m\n\u001b[0m\u001b[1;32m      2\u001b[0m \u001b[0;34m\u001b[0m\u001b[0m\n\u001b[1;32m      3\u001b[0m \u001b[0;36m4\u001b[0m \u001b[0;34m+\u001b[0m \u001b[0;36m5\u001b[0m \u001b[0;31m# We want to print `9` but the above line won't let us\u001b[0m\u001b[0;34m\u001b[0m\u001b[0;34m\u001b[0m\u001b[0m\n",
            "\u001b[0;31mNameError\u001b[0m: name 'hello' is not defined"
          ]
        }
      ]
    },
    {
      "cell_type": "code",
      "metadata": {
        "colab": {
          "base_uri": "https://localhost:8080/"
        },
        "id": "wCfa2LplRWvI",
        "outputId": "e0b9d7d7-959c-476f-a2a6-14142ce2c2d6"
      },
      "source": [
        "#hello\r\n",
        "\r\n",
        "4 + 5 # Now it will work"
      ],
      "execution_count": null,
      "outputs": [
        {
          "output_type": "execute_result",
          "data": {
            "text/plain": [
              "9"
            ]
          },
          "metadata": {
            "tags": []
          },
          "execution_count": 4
        }
      ]
    },
    {
      "cell_type": "markdown",
      "metadata": {
        "id": "WeglyCtQReRZ"
      },
      "source": [
        "When we deliberately convert a piece of code into a comment like the example above, we call it *commenting* or *commenting out* a piece of code. Similarly, reversing the process and converting a commented piece of code back into functional code is called *uncommenting* or *uncommenting out* a piece of code. "
      ]
    },
    {
      "cell_type": "markdown",
      "metadata": {
        "id": "yn56q8ie3bCK"
      },
      "source": [
        "## Numbers"
      ]
    },
    {
      "cell_type": "markdown",
      "metadata": {
        "id": "LvQ8LBU22wVE"
      },
      "source": [
        "### Types of numbers\n",
        "There are two different kinds of numbers we'll be going over in this course: integers and floats.\n",
        "\n",
        "Integers are whole numbers, like `3`,`100`, and`-2000`.\n",
        "\n",
        "Floats are numbers with decimals, like `-3.14`,`2.917`, and `1.1`.\n",
        "\n",
        "You can use Python to do basic math with these numbers."
      ]
    },
    {
      "cell_type": "markdown",
      "metadata": {
        "id": "WlZ5c0m_2wVJ"
      },
      "source": [
        "### Basic Arithmetic\n",
        "\n",
        "Most of these operations are intuitive. "
      ]
    },
    {
      "cell_type": "markdown",
      "metadata": {
        "id": "EvBmpNNDX0EH"
      },
      "source": [
        "Addition"
      ]
    },
    {
      "cell_type": "code",
      "metadata": {
        "id": "P0fJlFvk2wVQ"
      },
      "source": [
        "4+5"
      ],
      "execution_count": null,
      "outputs": []
    },
    {
      "cell_type": "markdown",
      "metadata": {
        "id": "JJDFcj0ZYGhI"
      },
      "source": [
        "Subtraction"
      ]
    },
    {
      "cell_type": "code",
      "metadata": {
        "id": "mtlYVK6b2wVj"
      },
      "source": [
        "5-10"
      ],
      "execution_count": null,
      "outputs": []
    },
    {
      "cell_type": "markdown",
      "metadata": {
        "id": "vPemMnyxYUKu"
      },
      "source": [
        "Multiplication"
      ]
    },
    {
      "cell_type": "code",
      "metadata": {
        "id": "_1f4Ofza2wV7"
      },
      "source": [
        "4.2*8.3"
      ],
      "execution_count": null,
      "outputs": []
    },
    {
      "cell_type": "markdown",
      "metadata": {
        "id": "s0bnnWMEYWtZ"
      },
      "source": [
        "Division"
      ]
    },
    {
      "cell_type": "code",
      "metadata": {
        "id": "wUCF99zx2wWC"
      },
      "source": [
        "25/5"
      ],
      "execution_count": null,
      "outputs": []
    },
    {
      "cell_type": "markdown",
      "metadata": {
        "id": "P3PhLjndYYY7"
      },
      "source": [
        "Floor Division"
      ]
    },
    {
      "cell_type": "code",
      "metadata": {
        "id": "DFVGzwgQ2wWH",
        "colab": {
          "base_uri": "https://localhost:8080/"
        },
        "outputId": "4441b6ba-f2b3-48f1-e82c-8dc9a66d6467"
      },
      "source": [
        "12//7"
      ],
      "execution_count": null,
      "outputs": [
        {
          "output_type": "execute_result",
          "data": {
            "text/plain": [
              "1"
            ]
          },
          "metadata": {
            "tags": []
          },
          "execution_count": 1
        }
      ]
    },
    {
      "cell_type": "markdown",
      "metadata": {
        "id": "HKMA-ctF2wWS"
      },
      "source": [
        "Floor division returns the quotient from division as a whole number. \n",
        "For example, if you used division to calculate 12 divided by 7, you would get approximately 1.71. Floor division leaves out the decimals and just takes the integer. In this case, we would just get 1.\n",
        "\n",
        "Remember, floor division will not round to the nearest integer! Instead, floor division will just leave out everything after the decimal point. \n",
        "\n",
        "\n",
        "\n",
        "\n"
      ]
    },
    {
      "cell_type": "markdown",
      "metadata": {
        "id": "XtyIEBnHaIE-"
      },
      "source": [
        "Modulo"
      ]
    },
    {
      "cell_type": "code",
      "metadata": {
        "id": "zAwDlKQr2wWW"
      },
      "source": [
        "9 % 4"
      ],
      "execution_count": null,
      "outputs": []
    },
    {
      "cell_type": "markdown",
      "metadata": {
        "id": "SmrF4pzM2wWd"
      },
      "source": [
        "Modulo, or mod, returns the remainder of a division operation. \n",
        "For example, 4 goes into 9 twice with a remainder of 1."
      ]
    },
    {
      "cell_type": "markdown",
      "metadata": {
        "id": "XSCsHC222wXP"
      },
      "source": [
        "## Variable Assignments\n",
        "\n",
        "In programming, you store data in variables. They work exactly the same as the variables you've seen in math classes.\n",
        "\n",
        "Let's see some examples:"
      ]
    },
    {
      "cell_type": "code",
      "metadata": {
        "id": "PRjmRrLJ2wXQ"
      },
      "source": [
        "# Let's create a variable called \"a\" and assign it to equal the number 10\n",
        "a = 10"
      ],
      "execution_count": null,
      "outputs": []
    },
    {
      "cell_type": "markdown",
      "metadata": {
        "id": "2SZAO47P2wXY"
      },
      "source": [
        "Python will now substitute `a` with `10` whenever we work with that variable."
      ]
    },
    {
      "cell_type": "code",
      "metadata": {
        "id": "CNFrGd-m2wXa"
      },
      "source": [
        "# Adding the variables\n",
        "a+a"
      ],
      "execution_count": null,
      "outputs": []
    },
    {
      "cell_type": "markdown",
      "metadata": {
        "id": "TBfuZthz2wXg"
      },
      "source": [
        "Values of variables aren't set in stone. You can change them at any time."
      ]
    },
    {
      "cell_type": "code",
      "metadata": {
        "id": "IyUbGI6l2wXi"
      },
      "source": [
        "# Reassignment\n",
        "a = 20"
      ],
      "execution_count": null,
      "outputs": []
    },
    {
      "cell_type": "code",
      "metadata": {
        "id": "TGLcpU8j2wXn"
      },
      "source": [
        "# Check\n",
        "a+a"
      ],
      "execution_count": null,
      "outputs": []
    },
    {
      "cell_type": "markdown",
      "metadata": {
        "id": "CyeKAg962wXu"
      },
      "source": [
        "You don't have to just use numbers when assigning variables. You can even use other variables."
      ]
    },
    {
      "cell_type": "code",
      "metadata": {
        "id": "Ykxmc-gr2wX8"
      },
      "source": [
        "# Use `a` to redefine `a`\n",
        "a = a+a"
      ],
      "execution_count": null,
      "outputs": []
    },
    {
      "cell_type": "code",
      "metadata": {
        "id": "kuz0ctr92wX_"
      },
      "source": [
        "# Check \n",
        "a"
      ],
      "execution_count": null,
      "outputs": []
    },
    {
      "cell_type": "markdown",
      "metadata": {
        "id": "JaPrRdK3dfPK"
      },
      "source": [
        "There are a few rules to keep track of when picking variable names:"
      ]
    },
    {
      "cell_type": "markdown",
      "metadata": {
        "id": "2cD46_8c2wYC"
      },
      "source": [
        "\n",
        "\n",
        "    1. Names can't start with a number. (E.g. 123name)\n",
        "    2. There can't be any spaces. (E.g. my name)\n",
        "          - Use underscores instead. (E.g. my_name)\n",
        "    3. Can't use any of these symbols :'\",<>/?|\\()!@#$%^&*~-+\n",
        "    4. Avoid using the characters 'l' (lowercase letter el), 'O' (uppercase letter oh), or 'I' (uppercase letter eye) as single letter variable names.\n",
        "    5. Avoid using words that have special meaning in Python like \"list\" and \"str\".\n",
        "    6. Using lowercase names are best practice.\n",
        "\n",
        "\n"
      ]
    },
    {
      "cell_type": "markdown",
      "metadata": {
        "id": "K5yQBMGofA4z"
      },
      "source": [
        "It's important to use meaningful variable names that accurately represent the variable's purpose. Single letter variable names are very easy to write, but can be very confusing when someone else is trying to understand your code."
      ]
    },
    {
      "cell_type": "code",
      "metadata": {
        "id": "vkyIeiFs2wYD"
      },
      "source": [
        "# Use variable names to keep better track of what's going on in your code!\n",
        "income = 1000\n",
        "\n",
        "tax_rate = 0.2\n",
        "\n",
        "taxes = income*tax_rate"
      ],
      "execution_count": null,
      "outputs": []
    },
    {
      "cell_type": "code",
      "metadata": {
        "id": "2YlBECQF2wYH"
      },
      "source": [
        "# Show the result!\n",
        "taxes"
      ],
      "execution_count": null,
      "outputs": []
    },
    {
      "cell_type": "markdown",
      "metadata": {
        "id": "TjJ33wfUdS0B"
      },
      "source": [
        "## A Brief Note about Errors\r\n",
        "\r\n",
        "We've already reached the point where we get to see a result of incorrect code. Take the following example:"
      ]
    },
    {
      "cell_type": "code",
      "metadata": {
        "colab": {
          "base_uri": "https://localhost:8080/",
          "height": 181
        },
        "id": "C3aBWi-2dimx",
        "outputId": "a27722fd-f658-4a88-fcf0-85bab653734c"
      },
      "source": [
        "a = 10\r\n",
        "a = a + b"
      ],
      "execution_count": null,
      "outputs": [
        {
          "output_type": "error",
          "ename": "NameError",
          "evalue": "ignored",
          "traceback": [
            "\u001b[0;31m---------------------------------------------------------------------------\u001b[0m",
            "\u001b[0;31mNameError\u001b[0m                                 Traceback (most recent call last)",
            "\u001b[0;32m<ipython-input-1-a5105f6f7382>\u001b[0m in \u001b[0;36m<module>\u001b[0;34m()\u001b[0m\n\u001b[1;32m      1\u001b[0m \u001b[0ma\u001b[0m \u001b[0;34m=\u001b[0m \u001b[0;36m10\u001b[0m\u001b[0;34m\u001b[0m\u001b[0;34m\u001b[0m\u001b[0m\n\u001b[0;32m----> 2\u001b[0;31m \u001b[0ma\u001b[0m \u001b[0;34m=\u001b[0m \u001b[0ma\u001b[0m \u001b[0;34m+\u001b[0m \u001b[0mb\u001b[0m\u001b[0;34m\u001b[0m\u001b[0;34m\u001b[0m\u001b[0m\n\u001b[0m",
            "\u001b[0;31mNameError\u001b[0m: name 'b' is not defined"
          ]
        }
      ]
    },
    {
      "cell_type": "markdown",
      "metadata": {
        "id": "be-svfVad2Zg"
      },
      "source": [
        "As you can see, running this piece of code didn't go smoothly. Looking at it, it might already be obvious why: we tried to reassign `a` to the value of `a + b`, but `b` was never defined. In fact, we don't even have to deduce this. The error statement lays it out to us. In order to fix this issue and any others down the line, we first need to know how to read the error and obtain all necessary information. Let's take some time to dissect the error statement and get familiar with each of its parts:"
      ]
    },
    {
      "cell_type": "markdown",
      "metadata": {
        "id": "zCgqyFKsefn_"
      },
      "source": [
        "### Location of the Error\r\n",
        "The error statement begins after the dashed red line and, in this specific case, we see the following:\r\n",
        "\r\n",
        "\r\n",
        "```\r\n",
        "NameError                                 Traceback (most recent call last)\r\n",
        "<ipython-input-1-a5105f6f7382> in <module>()\r\n",
        "      1 a = 10\r\n",
        "----> 2 a = a + b\r\n",
        "```\r\n",
        "\r\n",
        "There are two key pieces of information we can already glean from this section. First is the actual name of the error, `NameError`, which is arguably the most important thing we need to know. Second, the statement tells us **which line of code** produced the error. Specifically, it was the second line of code, as denoted by the dashed arrow next to it. This section is present in every error statement regardless of the error type.\r\n",
        "\r\n"
      ]
    },
    {
      "cell_type": "markdown",
      "metadata": {
        "id": "4o8ZtdExfrcF"
      },
      "source": [
        "### Reason for the Error\r\n",
        "The remaining part of the error statement above is as follows:\r\n",
        "\r\n",
        "```\r\n",
        "NameError: name 'b' is not defined\r\n",
        "```\r\n",
        "As you can see, this section expands on the name of the error by providing context on why it showed up. In some cases, like this one, the context is straightforward and easy to understand. In most cases, however, the context is not that useful and doesn't give a clear indication on what the specific problem is. This section is also present in every error statement."
      ]
    },
    {
      "cell_type": "markdown",
      "metadata": {
        "id": "-Rmb_tAPgzJb"
      },
      "source": [
        "### Approach to Fixing Errors\r\n",
        "Unfortunately, there is no formula to fixing errors or bugs in your code. Some say that debugging (the process of removing bugs and errors in your code) is an art. If so then, as with any art, there is no shortcut to mastery. Despite this, there are a few tools to deal with errors effectively:\r\n",
        "\r\n",
        "- **Experience** - This will probably be your most useful tool when dealing with errors. After you have been programming for some time, you'll start to notice some of the same errors show up again and again in your code. As such, knowing what you did to fix them last time is irreplacable in quickly dealing with problems now.\r\n",
        "- **Manual Detection** - Like we mentioned before, the error statement always tells you where the error occurred and sometimes even clearly reveals what the problem was. In this case, you can simply go back to that part of the code and try to see if the solution quickly presents itself to you. If not, it might even be worth going through your code line by line, ensuring that everything is working exactly the way you want. Remember - *the computer only does what you  tell it to do, not what you **think** you're telling it to do*.\r\n",
        "- **Google** - There is a saying among programmers - \"Google is your best friend\", and we can't understate how true that is. Many times, you'll come across an error that you simply have no idea how to deal with. As such, Googling the error is the best course of action. It is *almost guaranteed* that someone else got that error before you, asked a question about it on a forum, and received an answer from other programmers. Those answers are therefore freely available to you and your best bet in fixing an error when all else fails. \r\n",
        "\r\n",
        "Many beginners in programming are hesitant to Google something when they're stuck. They feel like it's cheating, or an act of giving up somehow. **Please don't feel this way.** There is no harm in asking for help when you need it, and not taking advantage of the greater programming community's knowledge base will only cause you unnecessary headaches down the road. This doesn't just apply to errors, but to everything else regarding code as well. You're not giving up, just utilizing the experiences of those who came before you."
      ]
    },
    {
      "cell_type": "markdown",
      "metadata": {
        "id": "WeVRQkkWpZYJ"
      },
      "source": [
        "### Errors will Always Happen\r\n",
        "No one, not even the most skilled programmer, is perfect. This means that even the pros write buggy code and get stuck on fixing an error sometimes. As such, don't think you've failed whenever you get errors in your code. You'll never escape them. What matters is that you take a step back, regroup, and focus on figuring out the solution. \r\n",
        "\r\n",
        "In a way, there's a reason to be somewhat happy every time you get an error. If you wrote code that ran perfectly every time, you won't improve, learn anything new, or build any resilience in tackling challenges or solving problems. Hopefully this discussion ensures that you won't stop dead in your tracks next time you see an error in your code. Rather, you'll have everything you need to push through. With that out of the way, let's go over the next basic Python **data type**: Strings. "
      ]
    },
    {
      "cell_type": "markdown",
      "metadata": {
        "id": "P3C3zJ-7Nr_3"
      },
      "source": [
        "## Strings"
      ]
    },
    {
      "cell_type": "markdown",
      "metadata": {
        "id": "UH3RobEsNr_4"
      },
      "source": [
        "Strings are a combination of characters. Characters are singular letters, numbers, symbols, etc. \n",
        "\n",
        "More specifically, strings are a sequence, a set of things that follow a specific order. "
      ]
    },
    {
      "cell_type": "markdown",
      "metadata": {
        "id": "x6IrT_vuNr_5"
      },
      "source": [
        "### Creating Strings\n"
      ]
    },
    {
      "cell_type": "markdown",
      "metadata": {
        "id": "ZquKShWxfFa2"
      },
      "source": [
        "To create a string in Python, you must use quotes around your set of characters. "
      ]
    },
    {
      "cell_type": "code",
      "metadata": {
        "id": "rYqOQqWwNr_6"
      },
      "source": [
        "# A word\n",
        "'hi'"
      ],
      "execution_count": null,
      "outputs": []
    },
    {
      "cell_type": "code",
      "metadata": {
        "id": "B0h3v-fTNr__"
      },
      "source": [
        "# A phrase\n",
        "'A string can even be a sentence like this.'"
      ],
      "execution_count": null,
      "outputs": []
    },
    {
      "cell_type": "code",
      "metadata": {
        "id": "aqcRSHvPNsAC"
      },
      "source": [
        "# Using double quotes\n",
        "\"The quote type doesn't really matter.\""
      ],
      "execution_count": null,
      "outputs": []
    },
    {
      "cell_type": "markdown",
      "metadata": {
        "id": "xt7OF_LifZJH"
      },
      "source": [
        "Both single or double quotes are acceptable, but you have to be consistent."
      ]
    },
    {
      "cell_type": "code",
      "metadata": {
        "id": "mmszjr3vNsAG"
      },
      "source": [
        "# Be wary of contractions and apostrophes!\n",
        "'I'm using single quotes, but this will create an error'"
      ],
      "execution_count": null,
      "outputs": []
    },
    {
      "cell_type": "markdown",
      "metadata": {
        "id": "0MoF6XYPNsAJ"
      },
      "source": [
        "Use double quotes when dealing with sentences or words that have contractions."
      ]
    },
    {
      "cell_type": "code",
      "metadata": {
        "id": "wSVUTR4LNsAK"
      },
      "source": [
        "\"This shouldn't cause an error now.\""
      ],
      "execution_count": null,
      "outputs": []
    },
    {
      "cell_type": "markdown",
      "metadata": {
        "id": "4I_0dIPHNsAN"
      },
      "source": [
        "Fantastic! Now that you have learned what a string is, let's learn some of the ways we can manipulate them. \n",
        "\n",
        "---\n",
        "\n"
      ]
    },
    {
      "cell_type": "markdown",
      "metadata": {
        "id": "5IkjMPlcNsAd"
      },
      "source": [
        "### String Basics"
      ]
    },
    {
      "cell_type": "markdown",
      "metadata": {
        "id": "3Ti5Nv7aNsAe"
      },
      "source": [
        "There are many built-in string **properties** that are useful when handling strings. \n",
        "\n",
        "For example, `len()`. This statement allows us to find the length (number of characters) in a string. "
      ]
    },
    {
      "cell_type": "code",
      "metadata": {
        "id": "uBNGvj9uNsAf"
      },
      "source": [
        "len('Hello World')"
      ],
      "execution_count": null,
      "outputs": []
    },
    {
      "cell_type": "markdown",
      "metadata": {
        "id": "AgTf4FqtcnD9"
      },
      "source": [
        "Since a string is a data type, we can assign it to a variable just like a number! \n"
      ]
    },
    {
      "cell_type": "code",
      "metadata": {
        "id": "RbYyeFrLNsAk"
      },
      "source": [
        "# Assign 'Hello World' to mystring variable\n",
        "mystring = 'Hello World'"
      ],
      "execution_count": null,
      "outputs": []
    },
    {
      "cell_type": "code",
      "metadata": {
        "id": "3sAvAFHzNsAp"
      },
      "source": [
        "# Did it work?\n",
        "mystring"
      ],
      "execution_count": null,
      "outputs": []
    },
    {
      "cell_type": "markdown",
      "metadata": {
        "id": "X9GNvLDRnKOX"
      },
      "source": [
        "To see what is inside a variable, use the `print()` statement. "
      ]
    },
    {
      "cell_type": "code",
      "metadata": {
        "id": "Dda7HfhGNsAr"
      },
      "source": [
        "# Print the variable mystring to see what is inside of it\n",
        "print(mystring) "
      ],
      "execution_count": null,
      "outputs": []
    },
    {
      "cell_type": "markdown",
      "metadata": {
        "id": "lk8bxjtCNsAw"
      },
      "source": [
        "Like we mentioned earlier, strings are an example of a sequence. More specifically, a sequence of characters. \n",
        "\n",
        "This means strings are made up of individual elements that can be accessed separately. \n",
        "\n",
        "To take apart a string and work with individual characters, we use **indexing**. \n",
        "\n",
        "Each element of a sequence has an index. These indices are numbers that represent the position of the element in the sequence. For example, in the string `'Hello World'`, the first character, `H` would have an index of 0. Note that in Python, indices start with 0 and not 1. \n",
        "\n"
      ]
    },
    {
      "cell_type": "code",
      "metadata": {
        "id": "Fgzo1XrCNsAx"
      },
      "source": [
        "# Extract first character in a string.\n",
        "mystring[0]"
      ],
      "execution_count": null,
      "outputs": []
    },
    {
      "cell_type": "code",
      "metadata": {
        "id": "0kcd-9EZNsA1"
      },
      "source": [
        "mystring[1]"
      ],
      "execution_count": null,
      "outputs": []
    },
    {
      "cell_type": "code",
      "metadata": {
        "id": "8M44L4hMNsA4"
      },
      "source": [
        "mystring[2]"
      ],
      "execution_count": null,
      "outputs": []
    },
    {
      "cell_type": "markdown",
      "metadata": {
        "id": "ky7Zm-NENsA7"
      },
      "source": [
        "We can use a <code>:</code> to perform ***slicing*** which  grabs every element up to a specified index. For example: "
      ]
    },
    {
      "cell_type": "code",
      "metadata": {
        "id": "jQKnWrNtNsA8"
      },
      "source": [
        "# Grab all the letters\n",
        "mystring[:]"
      ],
      "execution_count": null,
      "outputs": []
    },
    {
      "cell_type": "code",
      "metadata": {
        "id": "f9xrirSANsBD"
      },
      "source": [
        "# Grab all the letters UP TO the 5th index\n",
        "mystring[:5]"
      ],
      "execution_count": null,
      "outputs": []
    },
    {
      "cell_type": "markdown",
      "metadata": {
        "id": "5dp4GDO0NsBG"
      },
      "source": [
        "Note that slicing does not grab the 5th indexed element, the space, above. It stops right before it. "
      ]
    },
    {
      "cell_type": "code",
      "metadata": {
        "id": "otKc90t_NsBB"
      },
      "source": [
        "# This does not change the original string in any way\n",
        "mystring"
      ],
      "execution_count": null,
      "outputs": []
    },
    {
      "cell_type": "markdown",
      "metadata": {
        "id": "lksAiQL6NsBK"
      },
      "source": [
        "You can also index sequences backwards using negative indices. "
      ]
    },
    {
      "cell_type": "code",
      "metadata": {
        "id": "8TywqyZ-NsBL"
      },
      "source": [
        "# Last letter (one index behind 0 so it loops back around)\n",
        "mystring[-1]"
      ],
      "execution_count": null,
      "outputs": []
    },
    {
      "cell_type": "code",
      "metadata": {
        "id": "LTzPovveNsBO"
      },
      "source": [
        "# Grab everything but the last letter\n",
        "mystring[:-1]"
      ],
      "execution_count": null,
      "outputs": []
    },
    {
      "cell_type": "markdown",
      "metadata": {
        "id": "XxBxY0SBNsBQ"
      },
      "source": [
        "You can also skip certain elements within the sequence by changing the **step size**. \n",
        "Follow the following format to include step size when dealing with indexing: `samplestring[beginning_index:ending_index:step_size] `"
      ]
    },
    {
      "cell_type": "code",
      "metadata": {
        "id": "D4GZPT3mNsBR"
      },
      "source": [
        "# Grab everything, but go in steps size of 1\n",
        "mystring[::1]"
      ],
      "execution_count": null,
      "outputs": []
    },
    {
      "cell_type": "code",
      "metadata": {
        "id": "PjDfDe3gNsBU"
      },
      "source": [
        "# Grab everything, but go in step sizes of 2\n",
        "mystring[0::2]"
      ],
      "execution_count": null,
      "outputs": []
    },
    {
      "cell_type": "code",
      "metadata": {
        "id": "5t-mgi-KNsBW"
      },
      "source": [
        "# A handy way to reverse a string!\n",
        "mystring[::-1]"
      ],
      "execution_count": null,
      "outputs": []
    },
    {
      "cell_type": "markdown",
      "metadata": {
        "id": "jPCEC_LvfRZp"
      },
      "source": [
        "Great. With the ways to manipulate and play with strings in mind, strings also have specific properties we need to be aware of when working with them."
      ]
    },
    {
      "cell_type": "markdown",
      "metadata": {
        "id": "P1U1VtJENsBZ"
      },
      "source": [
        "### String Properties\n",
        "It's important to note that strings are ***immutable***. This means that once a string is created, the elements within it can not be changed or replaced. For example:"
      ]
    },
    {
      "cell_type": "code",
      "metadata": {
        "id": "xvPyEmYpNsBa"
      },
      "source": [
        "mystring"
      ],
      "execution_count": null,
      "outputs": []
    },
    {
      "cell_type": "code",
      "metadata": {
        "id": "NDk66bjZNsBc"
      },
      "source": [
        "# Let's try to change the first letter\n",
        "mystring[0] = 'a'"
      ],
      "execution_count": null,
      "outputs": []
    },
    {
      "cell_type": "markdown",
      "metadata": {
        "id": "p_Q9e1MoNsBf"
      },
      "source": [
        "The error tells it to us straight. Strings do not support reassignment.\n",
        "\n",
        "However, we *can* **concatenate** strings. Concatenation allows us to combine strings. "
      ]
    },
    {
      "cell_type": "code",
      "metadata": {
        "id": "MUaQkaxfNsBg"
      },
      "source": [
        "mystring"
      ],
      "execution_count": null,
      "outputs": []
    },
    {
      "cell_type": "code",
      "metadata": {
        "id": "6MkkAvD9NsBk"
      },
      "source": [
        "# Combine strings through concatenation\n",
        "mystring + \". It's me.\""
      ],
      "execution_count": null,
      "outputs": []
    },
    {
      "cell_type": "code",
      "metadata": {
        "id": "_BEU6-T0NsBn"
      },
      "source": [
        "# We can reassign mystring to a new string value.\n",
        "mystring = mystring + \". It's me.\""
      ],
      "execution_count": null,
      "outputs": []
    },
    {
      "cell_type": "code",
      "metadata": {
        "id": "vdYO-sKKNsBq"
      },
      "source": [
        "print(mystring)"
      ],
      "execution_count": null,
      "outputs": []
    },
    {
      "cell_type": "markdown",
      "metadata": {
        "id": "QVrhPwoGhubY"
      },
      "source": [
        "We already saw how to use len(). This is an example of a built-in way to interact with strings, but there are quite a few more which we will cover next."
      ]
    },
    {
      "cell_type": "markdown",
      "metadata": {
        "id": "m7KcM_wENsB1"
      },
      "source": [
        "### Basic Built-in String Methods\n",
        "\n",
        "Python has many built-in string **methods**. Some methods allow the user to perform simple alterations to a string. \n",
        "\n"
      ]
    },
    {
      "cell_type": "code",
      "metadata": {
        "id": "NoO8TSuwNsB2"
      },
      "source": [
        "mystring"
      ],
      "execution_count": null,
      "outputs": []
    },
    {
      "cell_type": "code",
      "metadata": {
        "id": "7RyvdFNGNsB5"
      },
      "source": [
        "# Make all letters in a string uppercase\n",
        "mystring.upper()"
      ],
      "execution_count": null,
      "outputs": []
    },
    {
      "cell_type": "code",
      "metadata": {
        "id": "0sUWl6CANsB-"
      },
      "source": [
        "# Make all letters in a string lowercase\n",
        "mystring.lower()"
      ],
      "execution_count": null,
      "outputs": []
    },
    {
      "cell_type": "markdown",
      "metadata": {
        "id": "AU4nMn5CS-0x"
      },
      "source": [
        "Built-in methods like the ones above commonly used dot notation, i.e, they are of the form:\r\n",
        "\r\n",
        "`variable.method()`\r\n",
        "\r\n",
        "This signifies that the particular `method()` we want to use only makes sense given the particular data type of the variable in question. In the examples above, since `.upper()` and `.lower()` are string methods, we can only use them on strings. Trying to use them on any other data type would just produce an error."
      ]
    },
    {
      "cell_type": "markdown",
      "metadata": {
        "id": "x90qHJh7DzpF"
      },
      "source": [
        "### 1.0 Now Try This\r\n",
        "\r\n",
        "For the questions below, and for every exercise after, replace the comment `# INSERT CODE HERE` with your answer."
      ]
    },
    {
      "cell_type": "markdown",
      "metadata": {
        "id": "2jQg-dN0ZbY-"
      },
      "source": [
        "Given the string `Amsterdam`, write a Python statement that displays the `'d'`. **HINT**: This requires indexing. Enter your code in the cell below:"
      ]
    },
    {
      "cell_type": "code",
      "metadata": {
        "id": "3G3a5dNZZbY_"
      },
      "source": [
        "# Once your have verified your answer please uncomment the line below and run it, this will save your code \n",
        "#%%writefile -a {folder_location}/1.py\n",
        "# Please note that if you uncomment and rub multiple times, the program will keep appending to the file.\n",
        "\n",
        "s = 'Amsterdam'\n",
        "# Print out 'd' using indexing\n",
        "answer1 = # INSERT CODE HERE\n",
        "print(answer1)\n"
      ],
      "execution_count": null,
      "outputs": []
    },
    {
      "cell_type": "markdown",
      "metadata": {
        "id": "ilw29z4OZbZE"
      },
      "source": [
        "Reverse the string `'Amsterdam'` using slicing:"
      ]
    },
    {
      "cell_type": "code",
      "metadata": {
        "id": "BABsKQN4ZbZE"
      },
      "source": [
        "# Once your have verified your answer please uncomment the line below and run it, this will save your code \n",
        "#%%writefile -a {folder_location}/1.py\n",
        "# Please note that if you uncomment and rub multiple times, the program will keep appending to the file.\n",
        "\n",
        "s ='Amsterdam'\n",
        "# Reverse the string using slicing\n",
        "answer2 = # INSERT CODE HERE\n",
        "print(answer2)"
      ],
      "execution_count": null,
      "outputs": []
    },
    {
      "cell_type": "markdown",
      "metadata": {
        "id": "rgM2B4rmZbZI"
      },
      "source": [
        "Given the string `Amsterdam`, display the letter `'m'` using negative indexing. Refer to the last part of the String Basics section if you've forgotten."
      ]
    },
    {
      "cell_type": "code",
      "metadata": {
        "id": "rZiItM7hZbZK"
      },
      "source": [
        "# Once your have verified your answer please uncomment the line below and run it, this will save your code \n",
        "#%%writefile -a {folder_location}/1.py\n",
        "# Please note that if you uncomment and rub multiple times, the program will keep appending to the file.\n",
        "\n",
        "s ='Amsterdam'\n",
        "\n",
        "# Print out the 'm'\n",
        "answer3 = # INSERT CODE HERE\n",
        "print(answer3)"
      ],
      "execution_count": null,
      "outputs": []
    },
    {
      "cell_type": "markdown",
      "metadata": {
        "id": "hrXZof6r218Z"
      },
      "source": [
        "## Booleans\n",
        "\n",
        "Booleans are another example of a data type. They can only be one of two values: `True` or `False`, and are usually the answers to any true/false questions."
      ]
    },
    {
      "cell_type": "code",
      "metadata": {
        "id": "UGHMeXpD218a"
      },
      "source": [
        "# Booleans can be assigned to variables, just like numbers or strings\n",
        "a = True"
      ],
      "execution_count": null,
      "outputs": []
    },
    {
      "cell_type": "code",
      "metadata": {
        "id": "B7BmKhMA218d"
      },
      "source": [
        "#Show\n",
        "a"
      ],
      "execution_count": null,
      "outputs": []
    },
    {
      "cell_type": "markdown",
      "metadata": {
        "id": "sdZjutML218i"
      },
      "source": [
        "In math, we often ask questions in the form of inequalities, such as \"Is 2 greater than 1?\" These questions have True/False answers, and the same holds true in Python. We can ask Python to answer a question and we will be returned a Boolean value."
      ]
    },
    {
      "cell_type": "code",
      "metadata": {
        "id": "CsA40nxa218j",
        "colab": {
          "base_uri": "https://localhost:8080/"
        },
        "outputId": "b8719342-edf4-4107-ea6a-da8e765228ea"
      },
      "source": [
        "# Output is Boolean\n",
        "1 > 2"
      ],
      "execution_count": null,
      "outputs": [
        {
          "output_type": "execute_result",
          "data": {
            "text/plain": [
              "False"
            ]
          },
          "metadata": {
            "tags": []
          },
          "execution_count": 2
        }
      ]
    },
    {
      "cell_type": "markdown",
      "metadata": {
        "id": "Q0d2MOxp218p"
      },
      "source": [
        "If we have a variable that we know will hold a Boolean value in the future, we can temporarily assign it a placeholder. In Python, that is `None`."
      ]
    },
    {
      "cell_type": "code",
      "metadata": {
        "id": "-6L2eHxX218q"
      },
      "source": [
        "# None is a Boolean placeholder\n",
        "b = None"
      ],
      "execution_count": null,
      "outputs": []
    },
    {
      "cell_type": "code",
      "metadata": {
        "id": "5AkpZ6Gu218u"
      },
      "source": [
        "# Show\n",
        "print(b)"
      ],
      "execution_count": null,
      "outputs": []
    },
    {
      "cell_type": "markdown",
      "metadata": {
        "id": "0VOMDbyu218x"
      },
      "source": [
        "Now we know that if we want to evaluate if a mathematical statement is true in Python, we wil be returned True or False. But how do we write these statements in Python? We use comparison operators!"
      ]
    },
    {
      "cell_type": "markdown",
      "metadata": {
        "id": "_d9-nOtO28os"
      },
      "source": [
        "## Comparison Operators \n",
        "To compare two numbers, there are a variety of different operators used in Python. These operators are not only used to compute basic math, but will also be used in the future to filter out and select specific sections of data based on mathematical criteria. \n",
        "\n",
        "You've probably seen all of these operators before, but let's do a quick refresher. \n",
        "\n",
        "<h2> Table of Comparison Operators </h2><p>  In the table below, assume $a=9$ and $b=11$.</p>\n",
        "\n",
        "<table class=\"table table-bordered\">\n",
        "<tr>\n",
        "<th style=\"width:10%\">Operator</th><th style=\"width:45%\">Description</th><th>Example</th>\n",
        "</tr>\n",
        "<tr>\n",
        "<td>==</td>\n",
        "<td> Checks to see if two numbers are equal.</td>\n",
        "<td> (a == b) is not true.</td>\n",
        "</tr>\n",
        "<tr>\n",
        "<td>!=</td>\n",
        "<td>Checks to see if two numbers are <b> not </b> equal.</td>\n",
        "<td>(a != b) is true</td>\n",
        "</tr>\n",
        "<tr>\n",
        "<td>&gt;</td>\n",
        "<td>Checks to see if the first number is greater than the second.</td>\n",
        "<td> (a &gt; b) is not true.</td>\n",
        "</tr>\n",
        "<tr>\n",
        "<td>&lt;</td>\n",
        "<td>Checks to see if the first number is lesser than the second.</td>\n",
        "<td> (a &lt; b) is true.</td>\n",
        "</tr>\n",
        "<tr>\n",
        "<td>&gt;=</td>\n",
        "<td>Checks to see if the first number is greater than <b> or equal to </b> the second.</td>\n",
        "<td> (a &gt;= b) is not true. </td>\n",
        "</tr>\n",
        "<tr>\n",
        "<td>&lt;=</td>\n",
        "<td>Checks to see if the first number is lesser than <b> or equal to </b> the second.</td>\n",
        "<td> (a &lt;= b) is true. </td>\n",
        "</tr>\n",
        "</table>"
      ]
    },
    {
      "cell_type": "markdown",
      "metadata": {
        "id": "Oxyatrdj28ow"
      },
      "source": [
        "Let's work through quick examples of each of these.\n",
        "\n",
        "#### Equal"
      ]
    },
    {
      "cell_type": "code",
      "metadata": {
        "id": "rPThJGsl28ox",
        "colab": {
          "base_uri": "https://localhost:8080/"
        },
        "outputId": "6ab282d7-dddd-4627-fd3a-8c51b43a4f41"
      },
      "source": [
        "4 == 4"
      ],
      "execution_count": null,
      "outputs": [
        {
          "output_type": "execute_result",
          "data": {
            "text/plain": [
              "True"
            ]
          },
          "metadata": {
            "tags": []
          },
          "execution_count": 27
        }
      ]
    },
    {
      "cell_type": "code",
      "metadata": {
        "id": "W2W27aBp28o1",
        "colab": {
          "base_uri": "https://localhost:8080/"
        },
        "outputId": "5b7ca6b4-f0e8-4d33-ef77-97b2242a1164"
      },
      "source": [
        "1 == 0"
      ],
      "execution_count": null,
      "outputs": [
        {
          "output_type": "execute_result",
          "data": {
            "text/plain": [
              "False"
            ]
          },
          "metadata": {
            "tags": []
          },
          "execution_count": 28
        }
      ]
    },
    {
      "cell_type": "markdown",
      "metadata": {
        "id": "gtzQpCPO28o5"
      },
      "source": [
        "Note that <code>==</code> is a <em>comparison</em> operator, while <code>=</code> is an <em>assignment</em> operator."
      ]
    },
    {
      "cell_type": "markdown",
      "metadata": {
        "id": "4FSgFc8y28o5"
      },
      "source": [
        "#### Not Equal"
      ]
    },
    {
      "cell_type": "code",
      "metadata": {
        "id": "BNQaWArv28o6",
        "colab": {
          "base_uri": "https://localhost:8080/"
        },
        "outputId": "0451201d-5e69-4284-c090-bfbfd3cd59c3"
      },
      "source": [
        "4 != 5"
      ],
      "execution_count": null,
      "outputs": [
        {
          "output_type": "execute_result",
          "data": {
            "text/plain": [
              "True"
            ]
          },
          "metadata": {
            "tags": []
          },
          "execution_count": 29
        }
      ]
    },
    {
      "cell_type": "code",
      "metadata": {
        "id": "D9hVgJsD28o9",
        "colab": {
          "base_uri": "https://localhost:8080/"
        },
        "outputId": "5e9c7a8e-d1f5-463e-962e-a97a822501c1"
      },
      "source": [
        "1 != 1"
      ],
      "execution_count": null,
      "outputs": [
        {
          "output_type": "execute_result",
          "data": {
            "text/plain": [
              "False"
            ]
          },
          "metadata": {
            "tags": []
          },
          "execution_count": 30
        }
      ]
    },
    {
      "cell_type": "markdown",
      "metadata": {
        "id": "iVvotha-28pD"
      },
      "source": [
        "#### Greater Than"
      ]
    },
    {
      "cell_type": "code",
      "metadata": {
        "id": "qA1VVR7128pI",
        "colab": {
          "base_uri": "https://localhost:8080/"
        },
        "outputId": "4c6ac3eb-93f3-4f63-b79e-7ae2d66103d5"
      },
      "source": [
        "8 > 3"
      ],
      "execution_count": null,
      "outputs": [
        {
          "output_type": "execute_result",
          "data": {
            "text/plain": [
              "True"
            ]
          },
          "metadata": {
            "tags": []
          },
          "execution_count": 31
        }
      ]
    },
    {
      "cell_type": "code",
      "metadata": {
        "id": "PrZb9Zy_28pN",
        "colab": {
          "base_uri": "https://localhost:8080/"
        },
        "outputId": "ab4ed990-ef64-4278-fcf0-3bafb2a5eaa5"
      },
      "source": [
        "1 > 9"
      ],
      "execution_count": null,
      "outputs": [
        {
          "output_type": "execute_result",
          "data": {
            "text/plain": [
              "False"
            ]
          },
          "metadata": {
            "tags": []
          },
          "execution_count": 32
        }
      ]
    },
    {
      "cell_type": "markdown",
      "metadata": {
        "id": "PYK9vEa-28pT"
      },
      "source": [
        "#### Less Than"
      ]
    },
    {
      "cell_type": "code",
      "metadata": {
        "id": "f5x67fWk28pU",
        "colab": {
          "base_uri": "https://localhost:8080/"
        },
        "outputId": "63ad6e02-d662-42c9-f83f-ccf83bcf7cd0"
      },
      "source": [
        "3 < 8"
      ],
      "execution_count": null,
      "outputs": [
        {
          "output_type": "execute_result",
          "data": {
            "text/plain": [
              "True"
            ]
          },
          "metadata": {
            "tags": []
          },
          "execution_count": 33
        }
      ]
    },
    {
      "cell_type": "code",
      "metadata": {
        "id": "1eB15ns928pX",
        "colab": {
          "base_uri": "https://localhost:8080/"
        },
        "outputId": "433f6576-6c34-4762-ef48-4e16350aabad"
      },
      "source": [
        "7 < 0"
      ],
      "execution_count": null,
      "outputs": [
        {
          "output_type": "execute_result",
          "data": {
            "text/plain": [
              "False"
            ]
          },
          "metadata": {
            "tags": []
          },
          "execution_count": 34
        }
      ]
    },
    {
      "cell_type": "markdown",
      "metadata": {
        "id": "wDXSDbik28pa"
      },
      "source": [
        "#### Greater Than or Equal to"
      ]
    },
    {
      "cell_type": "code",
      "metadata": {
        "id": "k4BQs2oB28pb",
        "colab": {
          "base_uri": "https://localhost:8080/"
        },
        "outputId": "60065be6-487e-44c1-a9e2-3c2216fb2478"
      },
      "source": [
        "7 >= 7"
      ],
      "execution_count": null,
      "outputs": [
        {
          "output_type": "execute_result",
          "data": {
            "text/plain": [
              "True"
            ]
          },
          "metadata": {
            "tags": []
          },
          "execution_count": 35
        }
      ]
    },
    {
      "cell_type": "code",
      "metadata": {
        "id": "BPBKLDtb28pd",
        "colab": {
          "base_uri": "https://localhost:8080/"
        },
        "outputId": "cc491df3-7707-4121-cf0e-409cb6bb6e54"
      },
      "source": [
        "9 >= 4"
      ],
      "execution_count": null,
      "outputs": [
        {
          "output_type": "execute_result",
          "data": {
            "text/plain": [
              "True"
            ]
          },
          "metadata": {
            "tags": []
          },
          "execution_count": 36
        }
      ]
    },
    {
      "cell_type": "markdown",
      "metadata": {
        "id": "ai1kLMhy28pi"
      },
      "source": [
        "#### Less than or Equal to"
      ]
    },
    {
      "cell_type": "code",
      "metadata": {
        "id": "5KuB4wd028pi",
        "colab": {
          "base_uri": "https://localhost:8080/"
        },
        "outputId": "33f92972-5413-4789-9c44-c0fb1cd4202b"
      },
      "source": [
        "4 <= 4"
      ],
      "execution_count": null,
      "outputs": [
        {
          "output_type": "execute_result",
          "data": {
            "text/plain": [
              "True"
            ]
          },
          "metadata": {
            "tags": []
          },
          "execution_count": 37
        }
      ]
    },
    {
      "cell_type": "code",
      "metadata": {
        "id": "YFbO6yih28pl",
        "colab": {
          "base_uri": "https://localhost:8080/"
        },
        "outputId": "de74de7e-00e2-45a5-aeff-e08a44176646"
      },
      "source": [
        "1 <= 3"
      ],
      "execution_count": null,
      "outputs": [
        {
          "output_type": "execute_result",
          "data": {
            "text/plain": [
              "True"
            ]
          },
          "metadata": {
            "tags": []
          },
          "execution_count": 38
        }
      ]
    },
    {
      "cell_type": "markdown",
      "metadata": {
        "id": "eIDePOLk28po"
      },
      "source": [
        "At this point, we know how to write statements and find out if they are true or false. However, if we want certain code to execute based on if the statements are true or false, we need to learn another type of statement."
      ]
    },
    {
      "cell_type": "markdown",
      "metadata": {
        "id": "spEFCdoV3_Ht"
      },
      "source": [
        "## If-Else Statements\n",
        "If we want Python to perform certain actions *conditionally*, that is, to only perform those tasks if certain criteria are met, we can use if-else statements. Let's walk through a quick example:"
      ]
    },
    {
      "cell_type": "code",
      "metadata": {
        "id": "fln5Fr1c4Wtk",
        "colab": {
          "base_uri": "https://localhost:8080/"
        },
        "outputId": "f8cee6ae-53cf-429b-ad0a-a40e9c4e0847"
      },
      "source": [
        "age = 18\n",
        "\n",
        "if age >= 18:\n",
        "  print(\"You can vote!\")\n",
        "else:\n",
        "  print(\"You can not vote!\")\n"
      ],
      "execution_count": null,
      "outputs": [
        {
          "output_type": "stream",
          "text": [
            "You can vote!\n"
          ],
          "name": "stdout"
        }
      ]
    },
    {
      "cell_type": "markdown",
      "metadata": {
        "id": "zBB7u8P54zAS"
      },
      "source": [
        "We just introduced a lot of syntax here, so let's go through it step by step. First, we have the `if` statement (\"if age >= 18\"), which represents the condition that we want to track. If this condition is met, we want to print \"You can vote!\" If this condition ISN'T met, however, we want to print out \"You can not vote!\" That's what the `else` statement represents. \n",
        "\n",
        "Notice the colon (`:`) immediately after the `if` statement. That signifies that all of the code directly beneath it is to be executed if the condition holds `true`. Similarly, for the `else` statement, all the code directly beneath is to executed if the condition holds `false`. \n",
        "\n",
        "You'll also notice that all code directly after the `if` statement was indented. The same is true for all code after the `else` statement. This is because Python relies on whitespace to figure out what lines of code depend on the `if` condition being true/false, versus general lines of code that don't depend on any conditions.\n",
        "\n",
        "### elif Statements\n",
        "Sometimes, you want to keep track of *multiple* conditions and to do something different depending on each scenario. In order to do this, we use what's called an `elif` statement. Let's modify the above example to illustrate how this works."
      ]
    },
    {
      "cell_type": "code",
      "metadata": {
        "id": "Ys91L_tp9mmY",
        "colab": {
          "base_uri": "https://localhost:8080/"
        },
        "outputId": "a02d9c44-7837-4708-e695-621a4ad6c7bc"
      },
      "source": [
        "age = 18\n",
        "\n",
        "if age >= 35:\n",
        "  print(\"You can run for president.\")\n",
        "elif age >= 18:\n",
        "  print(\"You can vote!\")\n",
        "else:\n",
        "  print(\"You can not vote!\")"
      ],
      "execution_count": null,
      "outputs": [
        {
          "output_type": "stream",
          "text": [
            "You can vote!\n"
          ],
          "name": "stdout"
        }
      ]
    },
    {
      "cell_type": "markdown",
      "metadata": {
        "id": "KS1R5JY482Lr"
      },
      "source": [
        "We made one modification to the previous code block, and that is adding an`elif` statement. `elif` is short for 'else if', and represents the alternate condition in this short example. Python first checks to see if the first condition holds `true`. If not, it checks the alternate condition(s). This second check ONLY happens if the first condition does not hold true. In this case, Python will just run down the list of conditions until it finds a condition that holds true, or gets to the `else` statement. You can have as many `elif` statements as necessary, but Python will only choose to run the code under the first elif statement that is true. \n",
        "\n"
      ]
    },
    {
      "cell_type": "markdown",
      "metadata": {
        "id": "gS0Qlooi_y91"
      },
      "source": [
        "### Multiple Conditions\n",
        "There will also be occasions where you would like to check multiple conditions at once. There are two variations of this:\n",
        "\n",
        "*   When you want **both** or **all** conditions to be true before executing some lines\n",
        "*   When you only want **at least** one condition to be true before executing some lines\n",
        "\n",
        "Let's see some examples of both of these scenarios.\n",
        "\n"
      ]
    },
    {
      "cell_type": "markdown",
      "metadata": {
        "id": "A0c3aQaYAp1L"
      },
      "source": [
        "#### Both Conditions"
      ]
    },
    {
      "cell_type": "code",
      "metadata": {
        "id": "KUhbsX1cAny2",
        "colab": {
          "base_uri": "https://localhost:8080/"
        },
        "outputId": "899767df-1445-41db-cd74-4b55efce558a"
      },
      "source": [
        "age = 18\n",
        "citizen = True\n",
        "\n",
        "if age >= 18 and citizen == True:\n",
        "  print(\"You can vote!\")\n",
        "else:\n",
        "  print(\"You can not vote!\")"
      ],
      "execution_count": null,
      "outputs": [
        {
          "output_type": "stream",
          "text": [
            "You can vote!\n"
          ],
          "name": "stdout"
        }
      ]
    },
    {
      "cell_type": "markdown",
      "metadata": {
        "id": "ZzaHHiMuBlUz"
      },
      "source": [
        "Here, we modified the original condition on voting. We added another thing to keep track of: citizenship. Now, we want Python to say someone can vote only if they are over 18 `and` if they are a citizen (this is what \"citizen = true\" means). Notice we only had to add one word to accomplish this, the `and`. Feel free to modify the values of `age` and `citizen` to see what the code block prints out based on certain combinations."
      ]
    },
    {
      "cell_type": "markdown",
      "metadata": {
        "id": "fUh0L7qdCztf"
      },
      "source": [
        "### At Least One Condition"
      ]
    },
    {
      "cell_type": "code",
      "metadata": {
        "id": "U3sBDM2IDNv-",
        "colab": {
          "base_uri": "https://localhost:8080/"
        },
        "outputId": "c95c76b8-48c8-464e-d17d-984180141e3d"
      },
      "source": [
        "age = 18\n",
        "citizen = True\n",
        "\n",
        "if age < 18 or citizen != True:\n",
        "  print(\"You can not vote!\")\n",
        "else:\n",
        "  print(\"You can vote!\")"
      ],
      "execution_count": null,
      "outputs": [
        {
          "output_type": "stream",
          "text": [
            "You can vote!\n"
          ],
          "name": "stdout"
        }
      ]
    },
    {
      "cell_type": "markdown",
      "metadata": {
        "id": "ntqW4fJVDk7b"
      },
      "source": [
        "If you look carefully, the above example does exactly the same checks as the previous one. Saying someone needs to be at least 18 `and` a citizen to vote, is the exact same as saying if someone is under 18 `or` isn't a citizen, they can't vote. In order to phrase the conditions in this way, we used `or`. This means that only one of those conditions need to be true for Python to execute the respective lines."
      ]
    },
    {
      "cell_type": "markdown",
      "metadata": {
        "id": "8wEBx8Y4FbZn"
      },
      "source": [
        "### 2.0 Now Try This\n",
        "Write a simple program that decides whether you stay dry or wet when going outside. Here's what should happen:\n",
        "\n",
        "*   If it is raining outside and you have a jacket, print \"You can go outside!\"\n",
        "*   If it is raining outside and you **don't** have a jacket, print \"You're gonna get wet.\"\n",
        "*   If it's not raining outside, print \"It's a beautiful day!\"\n",
        "\n",
        "The variables `raining` and `jacket` have already been provided for you. After you have finished writing your code, make sure to check your answer by trying out all combinations of values for `raining` and `jacket`, and seeing if the correct sentence gets printed every time. Remember, they're Booleans, so they can only be set to either `True` or `False`.\n",
        "\n",
        "**HINT**: Study the \"Multiple Conditions\" section carefully. Additionally, the explanation of the first `elif` statement example will also help you in structuring the logic of the solution.\n",
        "\n",
        "\n",
        "\n",
        "\n"
      ]
    },
    {
      "cell_type": "code",
      "metadata": {
        "id": "nPb-qY2MH4jJ"
      },
      "source": [
        "# Once your have verified your answer please uncomment the line below and run it, this will save your code \n",
        "#%%writefile -a {folder_location}/2.py\n",
        "# Please note that if you uncomment and press multiple times, the program will keep appending to the file.\n",
        "# So only uncomment it when you want to save your answer.\n",
        "\n",
        "# The two Boolean variables\n",
        "raining = False # Currently it is NOT raining\n",
        "jacket = False # Currently you DON'T have a jacket\n",
        "\n",
        "# INSERT CODE HERE"
      ],
      "execution_count": null,
      "outputs": []
    },
    {
      "cell_type": "markdown",
      "metadata": {
        "id": "06d6iMqfOk_Z"
      },
      "source": [
        "## Lists\n",
        "We briefly talked about *sequences* when going over strings. A list is another kind of sequence. The main difference is that a list is more generic. It can hold more data types than just letters or characters."
      ]
    },
    {
      "cell_type": "markdown",
      "metadata": {
        "id": "UGViz_ZWjVTP"
      },
      "source": [
        "### Creating Lists"
      ]
    },
    {
      "cell_type": "markdown",
      "metadata": {
        "id": "GpuayryD9ktV"
      },
      "source": [
        "A list is of the form: `[a,b,c]` where each data element is separated by commas, and the whole list is surrounded by square brackets."
      ]
    },
    {
      "cell_type": "code",
      "metadata": {
        "id": "93uSScXTOk_a"
      },
      "source": [
        "# Create a list and asisgn it to the variable my_list\n",
        "my_list = [1,2,3]"
      ],
      "execution_count": null,
      "outputs": []
    },
    {
      "cell_type": "markdown",
      "metadata": {
        "id": "9ggyXUl8Ok_e"
      },
      "source": [
        "That was a list of integers, but like we mentioned, lists can store many data types at once."
      ]
    },
    {
      "cell_type": "code",
      "metadata": {
        "id": "TPyS5RpIOk_g"
      },
      "source": [
        "# Here, my_list is storing a string, an integer, a float, and a character\n",
        "my_list = ['A string',23,100.232,'o']"
      ],
      "execution_count": null,
      "outputs": []
    },
    {
      "cell_type": "markdown",
      "metadata": {
        "id": "vRJ7rYkuOk_l"
      },
      "source": [
        "You can examine list properties by using the same statements that we used for strings. For example, if you wanted to know how many elements are in a list, you can use the `len()` statement."
      ]
    },
    {
      "cell_type": "code",
      "metadata": {
        "id": "ukEGubDvOk_m"
      },
      "source": [
        "len(my_list)"
      ],
      "execution_count": null,
      "outputs": []
    },
    {
      "cell_type": "code",
      "metadata": {
        "id": "oWgtuVsmOk_q"
      },
      "source": [
        "my_list = ['one','two','three',4,5]"
      ],
      "execution_count": null,
      "outputs": []
    },
    {
      "cell_type": "markdown",
      "metadata": {
        "id": "u2fBYlzo-uZ7"
      },
      "source": [
        "All sequences can be indexed. We saw how to do it with strings, and lists are no different."
      ]
    },
    {
      "cell_type": "code",
      "metadata": {
        "id": "xDX7DN7uOk_t"
      },
      "source": [
        "# Grab element at index 0\n",
        "my_list[0]"
      ],
      "execution_count": null,
      "outputs": []
    },
    {
      "cell_type": "code",
      "metadata": {
        "id": "4Z36l5JOOk_x"
      },
      "source": [
        "# Grab index 1 and everything past it\n",
        "my_list[1:]"
      ],
      "execution_count": null,
      "outputs": []
    },
    {
      "cell_type": "code",
      "metadata": {
        "id": "VjuHzfJvOk_1"
      },
      "source": [
        "# Grab everything UP TO index 3\n",
        "my_list[:3]"
      ],
      "execution_count": null,
      "outputs": []
    },
    {
      "cell_type": "markdown",
      "metadata": {
        "id": "a4zfPBV5Ok_4"
      },
      "source": [
        "Lists can be concatenated the same way strings can."
      ]
    },
    {
      "cell_type": "code",
      "metadata": {
        "id": "34u_E9sVOk_5"
      },
      "source": [
        "my_list + ['new item']"
      ],
      "execution_count": null,
      "outputs": []
    },
    {
      "cell_type": "markdown",
      "metadata": {
        "id": "uWeYqzrdOk_8"
      },
      "source": [
        "Since we didn't reassign `my_list`, this didn't change the original `my_list`."
      ]
    },
    {
      "cell_type": "code",
      "metadata": {
        "id": "iDezs3lnOk_8"
      },
      "source": [
        "my_list"
      ],
      "execution_count": null,
      "outputs": []
    },
    {
      "cell_type": "markdown",
      "metadata": {
        "id": "HpAWR1hJOlAA"
      },
      "source": [
        "If you want the change to be permanent, you need to reassign `my_list`."
      ]
    },
    {
      "cell_type": "code",
      "metadata": {
        "id": "eFNB5w3fOlAA"
      },
      "source": [
        "# Reassign\n",
        "my_list = my_list + ['add new item permanently']"
      ],
      "execution_count": null,
      "outputs": []
    },
    {
      "cell_type": "code",
      "metadata": {
        "id": "fm453awNOlAE"
      },
      "source": [
        "my_list"
      ],
      "execution_count": null,
      "outputs": []
    },
    {
      "cell_type": "markdown",
      "metadata": {
        "id": "ZqtWYnfC0R_B"
      },
      "source": [
        "One key difference from strings, however, is that lists are **mutable**. In other words, they can be freely modified after creation. Let's see an example:"
      ]
    },
    {
      "cell_type": "code",
      "metadata": {
        "colab": {
          "base_uri": "https://localhost:8080/"
        },
        "id": "109_8nqs01Qe",
        "outputId": "222268bb-1ba3-40a2-a8e9-9d0294c9ca3e"
      },
      "source": [
        "# A list\r\n",
        "list1 = [\"Hello\",1.2,\"o\",True,5]\r\n",
        "\r\n",
        "# Replacing `True` with `False`\r\n",
        "list1[3] = False\r\n",
        "\r\n",
        "# Showing that it worked\r\n",
        "print(list1)"
      ],
      "execution_count": null,
      "outputs": [
        {
          "output_type": "stream",
          "text": [
            "['Hello', 1.2, 'o', False, 5]\n"
          ],
          "name": "stdout"
        }
      ]
    },
    {
      "cell_type": "markdown",
      "metadata": {
        "id": "fQg2a7dw1ZCr"
      },
      "source": [
        "As we can see, you can use indexing to freely change individual elements in a list. Remember how this didn't work when we tried it on strings?"
      ]
    },
    {
      "cell_type": "markdown",
      "metadata": {
        "id": "R9hddNpTtVc6"
      },
      "source": [
        "Now that you know the basics of how a list looks and works, let's briefly go over some list methods."
      ]
    },
    {
      "cell_type": "markdown",
      "metadata": {
        "id": "zjduIynaOlAP"
      },
      "source": [
        "### Basic List Methods\n",
        "We already saw how to change preexisting elements in a list, but how about adding new elements? There is the concatenation method, but that requires we create an entirely new list to store the thing we want to add first. There's a much simpler, efficient way as you'll see b"
      ]
    },
    {
      "cell_type": "code",
      "metadata": {
        "id": "A4xC0i8NOlAQ"
      },
      "source": [
        "# Create a new list\n",
        "list1 = [1,2,3]"
      ],
      "execution_count": null,
      "outputs": []
    },
    {
      "cell_type": "markdown",
      "metadata": {
        "id": "qLfxNw4yOlAU"
      },
      "source": [
        "If we want to add a new item to the end of a list, we can do so with the `append()` method."
      ]
    },
    {
      "cell_type": "code",
      "metadata": {
        "id": "C-TiI_eUOlAV"
      },
      "source": [
        "# Append a string t \n",
        "list1.append('append me!')"
      ],
      "execution_count": null,
      "outputs": []
    },
    {
      "cell_type": "code",
      "metadata": {
        "id": "Jaj9-tzgOlAZ"
      },
      "source": [
        "# Show\n",
        "list1"
      ],
      "execution_count": null,
      "outputs": []
    },
    {
      "cell_type": "markdown",
      "metadata": {
        "id": "7CIIhCgYOlAd"
      },
      "source": [
        "Sometimes, we also want to remove an item from a list. To do this, we use the `pop()` method. \n",
        "\n",
        "While `append()` always adds the item to the end of the list, you can actually choose which item `pop()` should remove by specifying the index of that item. If you don't choose a specific index, `pop()` removes the last item by default."
      ]
    },
    {
      "cell_type": "code",
      "metadata": {
        "id": "hnX-fPkBOlAe"
      },
      "source": [
        "# Pop off the 0 indexed item\n",
        "list1.pop(0)"
      ],
      "execution_count": null,
      "outputs": []
    },
    {
      "cell_type": "code",
      "metadata": {
        "id": "JrMYJOQdOlAh"
      },
      "source": [
        "# The first item was permanently deleted from list1\n",
        "list1"
      ],
      "execution_count": null,
      "outputs": []
    },
    {
      "cell_type": "markdown",
      "metadata": {
        "id": "-u5ZXjEgByAQ"
      },
      "source": [
        "We can keep track of the elements that we remove from a list."
      ]
    },
    {
      "cell_type": "code",
      "metadata": {
        "id": "ttUAkqYWOlAl"
      },
      "source": [
        "popped_item = list1.pop()\n",
        "popped_item"
      ],
      "execution_count": null,
      "outputs": []
    },
    {
      "cell_type": "code",
      "metadata": {
        "id": "n5GIoG9HCDiz"
      },
      "source": [
        "# Now list1 had its last element removed\n",
        "list1"
      ],
      "execution_count": null,
      "outputs": []
    },
    {
      "cell_type": "markdown",
      "metadata": {
        "id": "8Z-DqqQiOlAt"
      },
      "source": [
        "When indexing any sequence, you will get an error if you try to access an index that doesn't exist."
      ]
    },
    {
      "cell_type": "code",
      "metadata": {
        "id": "4W5S_ImiOlAu"
      },
      "source": [
        "list1[100]"
      ],
      "execution_count": null,
      "outputs": []
    },
    {
      "cell_type": "markdown",
      "metadata": {
        "id": "YPVuQbfQOlAx"
      },
      "source": [
        "Two additional methods that come in handy for lists are `sort()` and `reverse()`.\n",
        "\n",
        "`sort()` does just that. If you have a list of strings or characters, it will sort the list in alphabetical order. If you're dealing with a list of numbers, it will sort from smallest to largest. (You can also make it sort from largest to smallest).\n",
        "\n"
      ]
    },
    {
      "cell_type": "code",
      "metadata": {
        "id": "OhTzTsCqOlAy"
      },
      "source": [
        "new_list = ['a','e','x','b','c']"
      ],
      "execution_count": null,
      "outputs": []
    },
    {
      "cell_type": "code",
      "metadata": {
        "id": "g3-2LXA8OlA_"
      },
      "source": [
        "# Since new_list only has letters, it will be sorted in alphabetical order\n",
        "new_list.sort()\n",
        "new_list"
      ],
      "execution_count": null,
      "outputs": []
    },
    {
      "cell_type": "code",
      "metadata": {
        "id": "eoKP7X-zDQ00"
      },
      "source": [
        "# Here's an example of sorting a list of numbers from least to greatest\n",
        "list2 = [3,2,9,6,4,0]\n",
        "list2.sort()"
      ],
      "execution_count": null,
      "outputs": []
    },
    {
      "cell_type": "markdown",
      "metadata": {
        "id": "LIoVWPC0EdKd"
      },
      "source": [
        "By specifying `reverse=True` when using `sort()`, we can sort a list of numbers in descending order."
      ]
    },
    {
      "cell_type": "code",
      "metadata": {
        "id": "8VfWHNCpEcIh"
      },
      "source": [
        "list2.sort(reverse=True)\n",
        "list2"
      ],
      "execution_count": null,
      "outputs": []
    },
    {
      "cell_type": "markdown",
      "metadata": {
        "id": "0sJc8on2Dx2y"
      },
      "source": [
        "`reverse()` simply reverses the current order of the list."
      ]
    },
    {
      "cell_type": "code",
      "metadata": {
        "id": "WskGGD9iOlA6"
      },
      "source": [
        "# Use reverse to reverse order (this is permanent!)\n",
        "new_list.reverse()\n",
        "new_list"
      ],
      "execution_count": null,
      "outputs": []
    },
    {
      "cell_type": "markdown",
      "metadata": {
        "id": "ZMIKx3AjOlBH"
      },
      "source": [
        "### Nesting Lists\n",
        "We already showed how lists can store data of different types, but we can take that even further. Lists can even store other lists. This is called **nesting**.\n",
        "\n",
        "Let's go through one example."
      ]
    },
    {
      "cell_type": "code",
      "metadata": {
        "id": "-P9Wkw91OlBI"
      },
      "source": [
        "# Here, we build three lists\n",
        "lst_1=[1,2,3]\n",
        "lst_2=[4,5,6]\n",
        "lst_3=[7,8,9]\n",
        "\n",
        "# By nesting them all, we create a matrix (a list of lists)\n",
        "matrix = [lst_1,lst_2,lst_3]"
      ],
      "execution_count": null,
      "outputs": []
    },
    {
      "cell_type": "code",
      "metadata": {
        "id": "eMKJk5cLOlBK"
      },
      "source": [
        "# Show\n",
        "matrix"
      ],
      "execution_count": null,
      "outputs": []
    },
    {
      "cell_type": "markdown",
      "metadata": {
        "id": "1CiTJaLFOlBN"
      },
      "source": [
        "Indexing gets trickier when dealing with nested lists. <font color=\"red\">Now we have elements that have their own elements. </font> So to actually index them, we have to index multiple times, as you can see in the following example.\n"
      ]
    },
    {
      "cell_type": "code",
      "metadata": {
        "id": "fK_B1F2iOlBN"
      },
      "source": [
        "# Grab first element in matrix (lst_1)\n",
        "matrix[0]"
      ],
      "execution_count": null,
      "outputs": []
    },
    {
      "cell_type": "code",
      "metadata": {
        "id": "L2qEysM1OlBQ"
      },
      "source": [
        "# Grab first element of lst_1 (1)\n",
        "matrix[0][0]"
      ],
      "execution_count": null,
      "outputs": []
    },
    {
      "cell_type": "markdown",
      "metadata": {
        "id": "jlS7xu6QFvqJ"
      },
      "source": [
        "### 3.0 Now Try This"
      ]
    },
    {
      "cell_type": "markdown",
      "metadata": {
        "id": "IKYj6iiBZbZR"
      },
      "source": [
        "Using any way that we've already taught you, build the list `[0,0,0]`."
      ]
    },
    {
      "cell_type": "code",
      "metadata": {
        "id": "qvMc4qjWZbZY"
      },
      "source": [
        "# Once your have verified your answer please uncomment the line below and run it, this will save your code \n",
        "#%%writefile -a {folder_location}/3.py\n",
        "# Please note that if you uncomment and press multiple times, the program will keep appending to the file.\n",
        "\n",
        "# Build the list\n",
        "answer1 = #INSERT CODE HERE\n",
        "print(answer1)"
      ],
      "execution_count": null,
      "outputs": []
    },
    {
      "cell_type": "markdown",
      "metadata": {
        "id": "TIvqQqsBZbZn"
      },
      "source": [
        "Modify `answer2` and use multiple indexing to replace the `hello` element with `goodbye`."
      ]
    },
    {
      "cell_type": "code",
      "metadata": {
        "id": "20643TYxZbZo"
      },
      "source": [
        "# Once your have verified your answer please uncomment the line below and run it, this will save your code \n",
        "#%%writefile -a {folder_location}/3.py\n",
        "# Please note that if you uncomment and press multiple times, the program will keep appending to the file.\n",
        "\n",
        "answer2 = [1,2,[3,4,'hello']]\n",
        "answer2 = #INSERT CODE HERE\n",
        "print(answer2)"
      ],
      "execution_count": null,
      "outputs": []
    },
    {
      "cell_type": "markdown",
      "metadata": {
        "id": "v_zLIslPZbZw"
      },
      "source": [
        "Sort the list below:"
      ]
    },
    {
      "cell_type": "code",
      "metadata": {
        "id": "IJZRvdN7ZbZx"
      },
      "source": [
        "# Once your have verified your answer please uncomment the line below and run it, this will save your code \n",
        "#%%writefile -a {folder_location}/3.py\n",
        "# Please note that if you uncomment and press multiple times, the program will keep appending to the file.\n",
        "\n",
        "answer3 = [5,3,4,6,1]\n",
        "answer3 = #INSERT CODE HERE\n",
        "print(answer3)"
      ],
      "execution_count": null,
      "outputs": []
    },
    {
      "cell_type": "markdown",
      "metadata": {
        "id": "7BETz3yhtr4K"
      },
      "source": [
        "## Submission\n",
        "Run this code block to download your answers."
      ]
    },
    {
      "cell_type": "code",
      "metadata": {
        "id": "JvLvanJvtr4K"
      },
      "source": [
        "from google.colab import files\n",
        "!zip -r \"{student_id}.zip\" \"{student_id}\"\n",
        "files.download(f\"{student_id}.zip\")"
      ],
      "execution_count": null,
      "outputs": []
    }
  ]
}